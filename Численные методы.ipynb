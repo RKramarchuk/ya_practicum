{
 "cells": [
  {
   "cell_type": "markdown",
   "metadata": {},
   "source": [
    "Привет! меня зовут Люман Аблаев. Сегодня я проверю твой проект.\n",
    "<br> Дальнейшее общение будет происходить на \"ты\" если это не вызывает никаких проблем.\n",
    "<br> Желательно реагировать на каждый мой комментарий ('исправил', 'не понятно как исправить ошибку', ...)\n",
    "<br> Пожалуйста, не удаляй комментарии ревьюера, так как они повышают качество повторного ревью.\n",
    "\n",
    "Комментарии будут в <font color='green'>зеленой</font>, <font color='blue'>синей</font> или <font color='red'>красной</font> рамках:\n",
    "\n",
    "<div class=\"alert alert-block alert-success\">\n",
    "<b>Успех:</b> Если все сделано отлично\n",
    "</div>\n",
    "\n",
    "<div class=\"alert alert-block alert-info\">\n",
    "<b>Совет: </b> Если можно немного улучшить\n",
    "</div>\n",
    "\n",
    "<div class=\"alert alert-block alert-danger\">\n",
    "<b>Ошибка:</b> Если требуются исправления. Работа не может быть принята с красными комментариями.\n",
    "</div>\n",
    "\n",
    "-------------------\n",
    "\n",
    "Будет очень хорошо, если ты будешь помечать свои действия следующим образом:\n",
    "<div class=\"alert alert-block alert-warning\">\n",
    "<b>Комментарий студента:</b> ...\n",
    "</div>\n",
    "\n",
    "<div class=\"alert alert-block alert-warning\">\n",
    "<b>Изменения:</b> Были внесены следующие изменения ...\n",
    "</div>\n",
    "\n",
    "\n",
    "<font color='orange' style='font-size:24px; font-weight:bold'>Общее впечатление</font>\n",
    "* Спасибо за интересный проект - было приятно его проверять.\n",
    "* Отличная работа с кодом и с моделями машинного обучения.\n",
    "- Я оставил некоторые советы, обрати на них внимание, они могут сделать работу лучше и быть полезными или интересными.\n",
    "- Есть некоторые недочеты, которые нужно поправить и обновить немного работу\n",
    "- Давай еще разок"
   ]
  },
  {
   "cell_type": "markdown",
   "metadata": {},
   "source": [
    "<font color='orange' style='font-size:24px; font-weight:bold'>Общее впечатление[2]</font>\n",
    "* Спасибо за оперативность\n",
    "- Недочеты исправлены - работа полностью корректна\n",
    "- Рад был быть полезен. Удачи в дальнейшем обучении!"
   ]
  },
  {
   "cell_type": "markdown",
   "metadata": {},
   "source": [
    "# Определение стоимости автомобилей"
   ]
  },
  {
   "cell_type": "markdown",
   "metadata": {},
   "source": [
    "Сервис по продаже автомобилей с пробегом «Не бит, не крашен» разрабатывает приложение для привлечения новых клиентов. В нём можно быстро узнать рыночную стоимость своего автомобиля. В вашем распоряжении исторические данные: технические характеристики, комплектации и цены автомобилей. Вам нужно построить модель для определения стоимости. \n",
    "\n",
    "Заказчику важны:\n",
    "\n",
    "- качество предсказания;\n",
    "- скорость предсказания;\n",
    "- время обучения."
   ]
  },
  {
   "cell_type": "markdown",
   "metadata": {},
   "source": [
    "## Подготовка данных"
   ]
  },
  {
   "cell_type": "code",
   "execution_count": 1,
   "metadata": {},
   "outputs": [],
   "source": [
    "#импорт необходимых библиотек\n",
    "import pandas as pd\n",
    "import numpy as np \n",
    "\n",
    "from sklearn.model_selection import train_test_split, GridSearchCV\n",
    "from sklearn.metrics import mean_squared_error \n",
    "from sklearn.preprocessing import LabelEncoder, OneHotEncoder\n",
    "from sklearn.linear_model import Ridge\n",
    "from sklearn.pipeline import Pipeline\n",
    "\n",
    "from lightgbm import LGBMRegressor \n",
    "from catboost import CatBoostRegressor\n",
    "\n",
    "import matplotlib.pyplot as plt\n",
    "from collections import namedtuple\n",
    "\n",
    "import time\n",
    "\n",
    "RANDOM_STATE = 131296"
   ]
  },
  {
   "cell_type": "markdown",
   "metadata": {},
   "source": [
    "<div class=\"alert alert-block alert-success\">\n",
    "<b>Успех:</b> Импорты на месте"
   ]
  },
  {
   "cell_type": "code",
   "execution_count": 2,
   "metadata": {},
   "outputs": [],
   "source": [
    "#создадим кортеж для дальнейшего использования со следующей информацией - время фиттинга, время предсказания и RMSE\n",
    "ModelTimeAndRMSE = namedtuple('ModelTimeAndRMSE', ('fit_time', 'predict_time', 'rmse'))"
   ]
  },
  {
   "cell_type": "code",
   "execution_count": 3,
   "metadata": {},
   "outputs": [],
   "source": [
    "#создадим функцию для первичного анализа\n",
    "def first_analyze(data):\n",
    "    rows, columns = data.shape\n",
    "    print('='*50)\n",
    "    print('Количество строк:', rows)\n",
    "    print('Количество столбцов:', columns)\n",
    "    display(data.head())\n",
    "    display(data.describe())\n",
    "    print(data.info())\n",
    "    print('='*50)"
   ]
  },
  {
   "cell_type": "code",
   "execution_count": 4,
   "metadata": {},
   "outputs": [],
   "source": [
    "#создадим функцию для печати количества пропусков по столбцам\n",
    "def print_nan_percent(data):\n",
    "    print('Пропуски')\n",
    "    nan_columns = []\n",
    "    \n",
    "    for column in data.columns:\n",
    "        nan_columns.append({\n",
    "            'column': column, \n",
    "            'nan_count': data[column].isnull().sum(),\n",
    "            'nan_percent': 100 * data[column].isnull().sum() / data.shape[0],\n",
    "        })\n",
    "    \n",
    "    display(pd.DataFrame(nan_columns))"
   ]
  },
  {
   "cell_type": "code",
   "execution_count": 5,
   "metadata": {},
   "outputs": [],
   "source": [
    "#создадим функцию для построения гистограм по определённому столбцу из датафрейма\n",
    "def plot_hist(data, column, bins=100): \n",
    "    data[column].plot(kind='hist',\n",
    "                      bins=bins, \n",
    "                      title=column,\n",
    "                      grid=True,\n",
    "                      figsize=(10,5),\n",
    "                     )"
   ]
  },
  {
   "cell_type": "code",
   "execution_count": 6,
   "metadata": {},
   "outputs": [],
   "source": [
    "#создадим функцию для печати количество нулевых значений в столбце\n",
    "def print_zero_percent_in_column(data, column):\n",
    "    zero_count = data[data[column] == 0].shape[0]\n",
    "    print('Нулевых значений в {}: {}'.format(column, zero_count))\n",
    "    print('% нулевых значений в {}: {:.2%}'.format(column, zero_count / data.shape[0]))"
   ]
  },
  {
   "cell_type": "code",
   "execution_count": 48,
   "metadata": {},
   "outputs": [],
   "source": [
    "def get_model_time_and_rmse(model): #для кросс-валидации\n",
    "    #fit_start = time.time()\n",
    "    #model.fit(features_train, target_train)\n",
    "    #fit_time = time.time() - fit_start\n",
    "    \n",
    "    fit_time = model.cv_results_['mean_fit_time'][model.best_index_]\n",
    "    predict_time = model.cv_results_['mean_score_time'][model.best_index_]\n",
    "    rmse = (-model.best_score_)**0.5\n",
    "    \n",
    "    return ModelTimeAndRMSE(fit_time, predict_time, rmse)"
   ]
  },
  {
   "cell_type": "markdown",
   "metadata": {},
   "source": [
    "<div class=\"alert alert-block alert-warning\">\n",
    "<b>Изменения:</b> Времена выполнения и предикта и результат MSE взяты из результатов GridSearchCV\n",
    "</div>"
   ]
  },
  {
   "cell_type": "markdown",
   "metadata": {},
   "source": [
    "<div class=\"alert alert-block alert-success\">\n",
    "<b>Успех[2]:</b> Отличный выбор!\n",
    "</div>\n"
   ]
  },
  {
   "cell_type": "markdown",
   "metadata": {},
   "source": [
    "<div class=\"alert alert-block alert-success\">\n",
    "<b>Успех:</b> Хорошие помощники"
   ]
  },
  {
   "cell_type": "markdown",
   "metadata": {},
   "source": [
    "### Первичный анализ данных"
   ]
  },
  {
   "cell_type": "markdown",
   "metadata": {},
   "source": [
    "Признаки\n",
    "* DateCrawled — дата скачивания анкеты из базы\n",
    "* VehicleType — тип автомобильного кузова\n",
    "* RegistrationYear — год регистрации автомобиля\n",
    "* Gearbox — тип коробки передач\n",
    "* Power — мощность (л. с.)\n",
    "* Model — модель автомобиля\n",
    "* Kilometer — пробег (км)\n",
    "* RegistrationMonth — месяц регистрации автомобиля\n",
    "* FuelType — тип топлива\n",
    "* Brand — марка автомобиля\n",
    "* Repaired — была машина в ремонте или нет\n",
    "* DateCreated — дата создания анкеты\n",
    "* NumberOfPictures — количество фотографий автомобиля\n",
    "* PostalCode — почтовый индекс владельца анкеты (пользователя)\n",
    "* LastSeen — дата последней активности пользователя\n",
    "\n",
    "Целевой признак\n",
    "* Price — цена (евро)"
   ]
  },
  {
   "cell_type": "code",
   "execution_count": 9,
   "metadata": {},
   "outputs": [],
   "source": [
    "auto_data = pd.read_csv('/datasets/autos.csv')"
   ]
  },
  {
   "cell_type": "code",
   "execution_count": 10,
   "metadata": {},
   "outputs": [
    {
     "name": "stdout",
     "output_type": "stream",
     "text": [
      "==================================================\n",
      "Количество строк: 354369\n",
      "Количество столбцов: 16\n"
     ]
    },
    {
     "data": {
      "text/html": [
       "<div>\n",
       "<style scoped>\n",
       "    .dataframe tbody tr th:only-of-type {\n",
       "        vertical-align: middle;\n",
       "    }\n",
       "\n",
       "    .dataframe tbody tr th {\n",
       "        vertical-align: top;\n",
       "    }\n",
       "\n",
       "    .dataframe thead th {\n",
       "        text-align: right;\n",
       "    }\n",
       "</style>\n",
       "<table border=\"1\" class=\"dataframe\">\n",
       "  <thead>\n",
       "    <tr style=\"text-align: right;\">\n",
       "      <th></th>\n",
       "      <th>DateCrawled</th>\n",
       "      <th>Price</th>\n",
       "      <th>VehicleType</th>\n",
       "      <th>RegistrationYear</th>\n",
       "      <th>Gearbox</th>\n",
       "      <th>Power</th>\n",
       "      <th>Model</th>\n",
       "      <th>Kilometer</th>\n",
       "      <th>RegistrationMonth</th>\n",
       "      <th>FuelType</th>\n",
       "      <th>Brand</th>\n",
       "      <th>Repaired</th>\n",
       "      <th>DateCreated</th>\n",
       "      <th>NumberOfPictures</th>\n",
       "      <th>PostalCode</th>\n",
       "      <th>LastSeen</th>\n",
       "    </tr>\n",
       "  </thead>\n",
       "  <tbody>\n",
       "    <tr>\n",
       "      <th>0</th>\n",
       "      <td>2016-03-24 11:52:17</td>\n",
       "      <td>480</td>\n",
       "      <td>NaN</td>\n",
       "      <td>1993</td>\n",
       "      <td>manual</td>\n",
       "      <td>0</td>\n",
       "      <td>golf</td>\n",
       "      <td>150000</td>\n",
       "      <td>0</td>\n",
       "      <td>petrol</td>\n",
       "      <td>volkswagen</td>\n",
       "      <td>NaN</td>\n",
       "      <td>2016-03-24 00:00:00</td>\n",
       "      <td>0</td>\n",
       "      <td>70435</td>\n",
       "      <td>2016-04-07 03:16:57</td>\n",
       "    </tr>\n",
       "    <tr>\n",
       "      <th>1</th>\n",
       "      <td>2016-03-24 10:58:45</td>\n",
       "      <td>18300</td>\n",
       "      <td>coupe</td>\n",
       "      <td>2011</td>\n",
       "      <td>manual</td>\n",
       "      <td>190</td>\n",
       "      <td>NaN</td>\n",
       "      <td>125000</td>\n",
       "      <td>5</td>\n",
       "      <td>gasoline</td>\n",
       "      <td>audi</td>\n",
       "      <td>yes</td>\n",
       "      <td>2016-03-24 00:00:00</td>\n",
       "      <td>0</td>\n",
       "      <td>66954</td>\n",
       "      <td>2016-04-07 01:46:50</td>\n",
       "    </tr>\n",
       "    <tr>\n",
       "      <th>2</th>\n",
       "      <td>2016-03-14 12:52:21</td>\n",
       "      <td>9800</td>\n",
       "      <td>suv</td>\n",
       "      <td>2004</td>\n",
       "      <td>auto</td>\n",
       "      <td>163</td>\n",
       "      <td>grand</td>\n",
       "      <td>125000</td>\n",
       "      <td>8</td>\n",
       "      <td>gasoline</td>\n",
       "      <td>jeep</td>\n",
       "      <td>NaN</td>\n",
       "      <td>2016-03-14 00:00:00</td>\n",
       "      <td>0</td>\n",
       "      <td>90480</td>\n",
       "      <td>2016-04-05 12:47:46</td>\n",
       "    </tr>\n",
       "    <tr>\n",
       "      <th>3</th>\n",
       "      <td>2016-03-17 16:54:04</td>\n",
       "      <td>1500</td>\n",
       "      <td>small</td>\n",
       "      <td>2001</td>\n",
       "      <td>manual</td>\n",
       "      <td>75</td>\n",
       "      <td>golf</td>\n",
       "      <td>150000</td>\n",
       "      <td>6</td>\n",
       "      <td>petrol</td>\n",
       "      <td>volkswagen</td>\n",
       "      <td>no</td>\n",
       "      <td>2016-03-17 00:00:00</td>\n",
       "      <td>0</td>\n",
       "      <td>91074</td>\n",
       "      <td>2016-03-17 17:40:17</td>\n",
       "    </tr>\n",
       "    <tr>\n",
       "      <th>4</th>\n",
       "      <td>2016-03-31 17:25:20</td>\n",
       "      <td>3600</td>\n",
       "      <td>small</td>\n",
       "      <td>2008</td>\n",
       "      <td>manual</td>\n",
       "      <td>69</td>\n",
       "      <td>fabia</td>\n",
       "      <td>90000</td>\n",
       "      <td>7</td>\n",
       "      <td>gasoline</td>\n",
       "      <td>skoda</td>\n",
       "      <td>no</td>\n",
       "      <td>2016-03-31 00:00:00</td>\n",
       "      <td>0</td>\n",
       "      <td>60437</td>\n",
       "      <td>2016-04-06 10:17:21</td>\n",
       "    </tr>\n",
       "  </tbody>\n",
       "</table>\n",
       "</div>"
      ],
      "text/plain": [
       "           DateCrawled  Price VehicleType  RegistrationYear Gearbox  Power  \\\n",
       "0  2016-03-24 11:52:17    480         NaN              1993  manual      0   \n",
       "1  2016-03-24 10:58:45  18300       coupe              2011  manual    190   \n",
       "2  2016-03-14 12:52:21   9800         suv              2004    auto    163   \n",
       "3  2016-03-17 16:54:04   1500       small              2001  manual     75   \n",
       "4  2016-03-31 17:25:20   3600       small              2008  manual     69   \n",
       "\n",
       "   Model  Kilometer  RegistrationMonth  FuelType       Brand Repaired  \\\n",
       "0   golf     150000                  0    petrol  volkswagen      NaN   \n",
       "1    NaN     125000                  5  gasoline        audi      yes   \n",
       "2  grand     125000                  8  gasoline        jeep      NaN   \n",
       "3   golf     150000                  6    petrol  volkswagen       no   \n",
       "4  fabia      90000                  7  gasoline       skoda       no   \n",
       "\n",
       "           DateCreated  NumberOfPictures  PostalCode             LastSeen  \n",
       "0  2016-03-24 00:00:00                 0       70435  2016-04-07 03:16:57  \n",
       "1  2016-03-24 00:00:00                 0       66954  2016-04-07 01:46:50  \n",
       "2  2016-03-14 00:00:00                 0       90480  2016-04-05 12:47:46  \n",
       "3  2016-03-17 00:00:00                 0       91074  2016-03-17 17:40:17  \n",
       "4  2016-03-31 00:00:00                 0       60437  2016-04-06 10:17:21  "
      ]
     },
     "metadata": {},
     "output_type": "display_data"
    },
    {
     "data": {
      "text/html": [
       "<div>\n",
       "<style scoped>\n",
       "    .dataframe tbody tr th:only-of-type {\n",
       "        vertical-align: middle;\n",
       "    }\n",
       "\n",
       "    .dataframe tbody tr th {\n",
       "        vertical-align: top;\n",
       "    }\n",
       "\n",
       "    .dataframe thead th {\n",
       "        text-align: right;\n",
       "    }\n",
       "</style>\n",
       "<table border=\"1\" class=\"dataframe\">\n",
       "  <thead>\n",
       "    <tr style=\"text-align: right;\">\n",
       "      <th></th>\n",
       "      <th>Price</th>\n",
       "      <th>RegistrationYear</th>\n",
       "      <th>Power</th>\n",
       "      <th>Kilometer</th>\n",
       "      <th>RegistrationMonth</th>\n",
       "      <th>NumberOfPictures</th>\n",
       "      <th>PostalCode</th>\n",
       "    </tr>\n",
       "  </thead>\n",
       "  <tbody>\n",
       "    <tr>\n",
       "      <th>count</th>\n",
       "      <td>354369.000000</td>\n",
       "      <td>354369.000000</td>\n",
       "      <td>354369.000000</td>\n",
       "      <td>354369.000000</td>\n",
       "      <td>354369.000000</td>\n",
       "      <td>354369.0</td>\n",
       "      <td>354369.000000</td>\n",
       "    </tr>\n",
       "    <tr>\n",
       "      <th>mean</th>\n",
       "      <td>4416.656776</td>\n",
       "      <td>2004.234448</td>\n",
       "      <td>110.094337</td>\n",
       "      <td>128211.172535</td>\n",
       "      <td>5.714645</td>\n",
       "      <td>0.0</td>\n",
       "      <td>50508.689087</td>\n",
       "    </tr>\n",
       "    <tr>\n",
       "      <th>std</th>\n",
       "      <td>4514.158514</td>\n",
       "      <td>90.227958</td>\n",
       "      <td>189.850405</td>\n",
       "      <td>37905.341530</td>\n",
       "      <td>3.726421</td>\n",
       "      <td>0.0</td>\n",
       "      <td>25783.096248</td>\n",
       "    </tr>\n",
       "    <tr>\n",
       "      <th>min</th>\n",
       "      <td>0.000000</td>\n",
       "      <td>1000.000000</td>\n",
       "      <td>0.000000</td>\n",
       "      <td>5000.000000</td>\n",
       "      <td>0.000000</td>\n",
       "      <td>0.0</td>\n",
       "      <td>1067.000000</td>\n",
       "    </tr>\n",
       "    <tr>\n",
       "      <th>25%</th>\n",
       "      <td>1050.000000</td>\n",
       "      <td>1999.000000</td>\n",
       "      <td>69.000000</td>\n",
       "      <td>125000.000000</td>\n",
       "      <td>3.000000</td>\n",
       "      <td>0.0</td>\n",
       "      <td>30165.000000</td>\n",
       "    </tr>\n",
       "    <tr>\n",
       "      <th>50%</th>\n",
       "      <td>2700.000000</td>\n",
       "      <td>2003.000000</td>\n",
       "      <td>105.000000</td>\n",
       "      <td>150000.000000</td>\n",
       "      <td>6.000000</td>\n",
       "      <td>0.0</td>\n",
       "      <td>49413.000000</td>\n",
       "    </tr>\n",
       "    <tr>\n",
       "      <th>75%</th>\n",
       "      <td>6400.000000</td>\n",
       "      <td>2008.000000</td>\n",
       "      <td>143.000000</td>\n",
       "      <td>150000.000000</td>\n",
       "      <td>9.000000</td>\n",
       "      <td>0.0</td>\n",
       "      <td>71083.000000</td>\n",
       "    </tr>\n",
       "    <tr>\n",
       "      <th>max</th>\n",
       "      <td>20000.000000</td>\n",
       "      <td>9999.000000</td>\n",
       "      <td>20000.000000</td>\n",
       "      <td>150000.000000</td>\n",
       "      <td>12.000000</td>\n",
       "      <td>0.0</td>\n",
       "      <td>99998.000000</td>\n",
       "    </tr>\n",
       "  </tbody>\n",
       "</table>\n",
       "</div>"
      ],
      "text/plain": [
       "               Price  RegistrationYear          Power      Kilometer  \\\n",
       "count  354369.000000     354369.000000  354369.000000  354369.000000   \n",
       "mean     4416.656776       2004.234448     110.094337  128211.172535   \n",
       "std      4514.158514         90.227958     189.850405   37905.341530   \n",
       "min         0.000000       1000.000000       0.000000    5000.000000   \n",
       "25%      1050.000000       1999.000000      69.000000  125000.000000   \n",
       "50%      2700.000000       2003.000000     105.000000  150000.000000   \n",
       "75%      6400.000000       2008.000000     143.000000  150000.000000   \n",
       "max     20000.000000       9999.000000   20000.000000  150000.000000   \n",
       "\n",
       "       RegistrationMonth  NumberOfPictures     PostalCode  \n",
       "count      354369.000000          354369.0  354369.000000  \n",
       "mean            5.714645               0.0   50508.689087  \n",
       "std             3.726421               0.0   25783.096248  \n",
       "min             0.000000               0.0    1067.000000  \n",
       "25%             3.000000               0.0   30165.000000  \n",
       "50%             6.000000               0.0   49413.000000  \n",
       "75%             9.000000               0.0   71083.000000  \n",
       "max            12.000000               0.0   99998.000000  "
      ]
     },
     "metadata": {},
     "output_type": "display_data"
    },
    {
     "name": "stdout",
     "output_type": "stream",
     "text": [
      "<class 'pandas.core.frame.DataFrame'>\n",
      "RangeIndex: 354369 entries, 0 to 354368\n",
      "Data columns (total 16 columns):\n",
      " #   Column             Non-Null Count   Dtype \n",
      "---  ------             --------------   ----- \n",
      " 0   DateCrawled        354369 non-null  object\n",
      " 1   Price              354369 non-null  int64 \n",
      " 2   VehicleType        316879 non-null  object\n",
      " 3   RegistrationYear   354369 non-null  int64 \n",
      " 4   Gearbox            334536 non-null  object\n",
      " 5   Power              354369 non-null  int64 \n",
      " 6   Model              334664 non-null  object\n",
      " 7   Kilometer          354369 non-null  int64 \n",
      " 8   RegistrationMonth  354369 non-null  int64 \n",
      " 9   FuelType           321474 non-null  object\n",
      " 10  Brand              354369 non-null  object\n",
      " 11  Repaired           283215 non-null  object\n",
      " 12  DateCreated        354369 non-null  object\n",
      " 13  NumberOfPictures   354369 non-null  int64 \n",
      " 14  PostalCode         354369 non-null  int64 \n",
      " 15  LastSeen           354369 non-null  object\n",
      "dtypes: int64(7), object(9)\n",
      "memory usage: 43.3+ MB\n",
      "None\n",
      "==================================================\n"
     ]
    }
   ],
   "source": [
    "first_analyze(auto_data)"
   ]
  },
  {
   "cell_type": "markdown",
   "metadata": {},
   "source": [
    "Пропуски присутствуют в столбцах:\n",
    "* VehicleType\n",
    "* Gearbox\n",
    "* Model\n",
    "* FuelType\n",
    "* Repaired\n",
    "\n",
    "Есть столбцы, применение которых в качестве признаков не имеет смысла:\n",
    "* DateCrawled\n",
    "* DateCreated\n",
    "* NumberOfPictures\n",
    "* PostalCode\n",
    "* LastSeen\n",
    "\n",
    "В некоторых столбцах присутствуют аномальные значения:\n",
    "* Price\n",
    "* RegistrationYear\n",
    "* Power\n",
    "* RegistrationMonth"
   ]
  },
  {
   "cell_type": "markdown",
   "metadata": {},
   "source": [
    "<div class=\"alert alert-block alert-info\">\n",
    "<b>Совет </b>  Советую обратить внимание на библиотеки sweetviz и pandas_profiling помогут в проведении более тщательного EDA анализа. Исследовательский анализ можно делать и с помощью ручного вызова функций дефолтных библиотек. Данные библиотеки хороши для максимизации комфорта презентации результатов анализа бизнес-пользователям. \n",
    "    \n",
    "Очень просты в использоовании, на вход кладется датафрейм: pandas_profiling.ProfileReport(df) \n",
    "    \n",
    "    \n",
    "    \n",
    "</div>"
   ]
  },
  {
   "cell_type": "markdown",
   "metadata": {},
   "source": [
    "###  Удаление лишних признаков"
   ]
  },
  {
   "cell_type": "markdown",
   "metadata": {},
   "source": [
    "Удалим столбцы DateCrawled, DateCreated, NumberOfPictures, PostalCode и LastSeen."
   ]
  },
  {
   "cell_type": "code",
   "execution_count": 11,
   "metadata": {},
   "outputs": [],
   "source": [
    "auto_data = auto_data.drop(columns = ['DateCrawled',\n",
    "                                      'DateCreated',\n",
    "                                      'NumberOfPictures',\n",
    "                                      'PostalCode',\n",
    "                                      'LastSeen'])"
   ]
  },
  {
   "cell_type": "markdown",
   "metadata": {},
   "source": [
    "<div class=\"alert alert-block alert-success\">\n",
    "<b>Успех:</b> Удалить неинформативные признаки - хорошее решение"
   ]
  },
  {
   "cell_type": "markdown",
   "metadata": {},
   "source": [
    "### Заполнение пропусков"
   ]
  },
  {
   "cell_type": "markdown",
   "metadata": {},
   "source": [
    "Перед заполнением пропусков оценим их количество"
   ]
  },
  {
   "cell_type": "code",
   "execution_count": 12,
   "metadata": {},
   "outputs": [
    {
     "name": "stdout",
     "output_type": "stream",
     "text": [
      "Пропуски\n"
     ]
    },
    {
     "data": {
      "text/html": [
       "<div>\n",
       "<style scoped>\n",
       "    .dataframe tbody tr th:only-of-type {\n",
       "        vertical-align: middle;\n",
       "    }\n",
       "\n",
       "    .dataframe tbody tr th {\n",
       "        vertical-align: top;\n",
       "    }\n",
       "\n",
       "    .dataframe thead th {\n",
       "        text-align: right;\n",
       "    }\n",
       "</style>\n",
       "<table border=\"1\" class=\"dataframe\">\n",
       "  <thead>\n",
       "    <tr style=\"text-align: right;\">\n",
       "      <th></th>\n",
       "      <th>column</th>\n",
       "      <th>nan_count</th>\n",
       "      <th>nan_percent</th>\n",
       "    </tr>\n",
       "  </thead>\n",
       "  <tbody>\n",
       "    <tr>\n",
       "      <th>0</th>\n",
       "      <td>Price</td>\n",
       "      <td>0</td>\n",
       "      <td>0.000000</td>\n",
       "    </tr>\n",
       "    <tr>\n",
       "      <th>1</th>\n",
       "      <td>VehicleType</td>\n",
       "      <td>37490</td>\n",
       "      <td>10.579368</td>\n",
       "    </tr>\n",
       "    <tr>\n",
       "      <th>2</th>\n",
       "      <td>RegistrationYear</td>\n",
       "      <td>0</td>\n",
       "      <td>0.000000</td>\n",
       "    </tr>\n",
       "    <tr>\n",
       "      <th>3</th>\n",
       "      <td>Gearbox</td>\n",
       "      <td>19833</td>\n",
       "      <td>5.596709</td>\n",
       "    </tr>\n",
       "    <tr>\n",
       "      <th>4</th>\n",
       "      <td>Power</td>\n",
       "      <td>0</td>\n",
       "      <td>0.000000</td>\n",
       "    </tr>\n",
       "    <tr>\n",
       "      <th>5</th>\n",
       "      <td>Model</td>\n",
       "      <td>19705</td>\n",
       "      <td>5.560588</td>\n",
       "    </tr>\n",
       "    <tr>\n",
       "      <th>6</th>\n",
       "      <td>Kilometer</td>\n",
       "      <td>0</td>\n",
       "      <td>0.000000</td>\n",
       "    </tr>\n",
       "    <tr>\n",
       "      <th>7</th>\n",
       "      <td>RegistrationMonth</td>\n",
       "      <td>0</td>\n",
       "      <td>0.000000</td>\n",
       "    </tr>\n",
       "    <tr>\n",
       "      <th>8</th>\n",
       "      <td>FuelType</td>\n",
       "      <td>32895</td>\n",
       "      <td>9.282697</td>\n",
       "    </tr>\n",
       "    <tr>\n",
       "      <th>9</th>\n",
       "      <td>Brand</td>\n",
       "      <td>0</td>\n",
       "      <td>0.000000</td>\n",
       "    </tr>\n",
       "    <tr>\n",
       "      <th>10</th>\n",
       "      <td>Repaired</td>\n",
       "      <td>71154</td>\n",
       "      <td>20.079070</td>\n",
       "    </tr>\n",
       "  </tbody>\n",
       "</table>\n",
       "</div>"
      ],
      "text/plain": [
       "               column  nan_count  nan_percent\n",
       "0               Price          0     0.000000\n",
       "1         VehicleType      37490    10.579368\n",
       "2    RegistrationYear          0     0.000000\n",
       "3             Gearbox      19833     5.596709\n",
       "4               Power          0     0.000000\n",
       "5               Model      19705     5.560588\n",
       "6           Kilometer          0     0.000000\n",
       "7   RegistrationMonth          0     0.000000\n",
       "8            FuelType      32895     9.282697\n",
       "9               Brand          0     0.000000\n",
       "10           Repaired      71154    20.079070"
      ]
     },
     "metadata": {},
     "output_type": "display_data"
    }
   ],
   "source": [
    "print_nan_percent(auto_data)"
   ]
  },
  {
   "cell_type": "markdown",
   "metadata": {},
   "source": [
    "В разных столбцах от 5 до 20 процентов пропусков. Все столбцы с пропусками - категориальные. Чтобы не терять эти записи полностью - заполним пропуски новым категориальным значением 'unknown'."
   ]
  },
  {
   "cell_type": "code",
   "execution_count": 13,
   "metadata": {},
   "outputs": [],
   "source": [
    "auto_data = auto_data.fillna('unknown')"
   ]
  },
  {
   "cell_type": "markdown",
   "metadata": {},
   "source": [
    "<div class=\"alert alert-block alert-success\">\n",
    "<b>Успех:</b> Хороший способ"
   ]
  },
  {
   "cell_type": "markdown",
   "metadata": {},
   "source": [
    "Убедимся в отсутствии пропусков после их заполнения."
   ]
  },
  {
   "cell_type": "code",
   "execution_count": 14,
   "metadata": {},
   "outputs": [
    {
     "name": "stdout",
     "output_type": "stream",
     "text": [
      "Пропуски\n"
     ]
    },
    {
     "data": {
      "text/html": [
       "<div>\n",
       "<style scoped>\n",
       "    .dataframe tbody tr th:only-of-type {\n",
       "        vertical-align: middle;\n",
       "    }\n",
       "\n",
       "    .dataframe tbody tr th {\n",
       "        vertical-align: top;\n",
       "    }\n",
       "\n",
       "    .dataframe thead th {\n",
       "        text-align: right;\n",
       "    }\n",
       "</style>\n",
       "<table border=\"1\" class=\"dataframe\">\n",
       "  <thead>\n",
       "    <tr style=\"text-align: right;\">\n",
       "      <th></th>\n",
       "      <th>column</th>\n",
       "      <th>nan_count</th>\n",
       "      <th>nan_percent</th>\n",
       "    </tr>\n",
       "  </thead>\n",
       "  <tbody>\n",
       "    <tr>\n",
       "      <th>0</th>\n",
       "      <td>Price</td>\n",
       "      <td>0</td>\n",
       "      <td>0.0</td>\n",
       "    </tr>\n",
       "    <tr>\n",
       "      <th>1</th>\n",
       "      <td>VehicleType</td>\n",
       "      <td>0</td>\n",
       "      <td>0.0</td>\n",
       "    </tr>\n",
       "    <tr>\n",
       "      <th>2</th>\n",
       "      <td>RegistrationYear</td>\n",
       "      <td>0</td>\n",
       "      <td>0.0</td>\n",
       "    </tr>\n",
       "    <tr>\n",
       "      <th>3</th>\n",
       "      <td>Gearbox</td>\n",
       "      <td>0</td>\n",
       "      <td>0.0</td>\n",
       "    </tr>\n",
       "    <tr>\n",
       "      <th>4</th>\n",
       "      <td>Power</td>\n",
       "      <td>0</td>\n",
       "      <td>0.0</td>\n",
       "    </tr>\n",
       "    <tr>\n",
       "      <th>5</th>\n",
       "      <td>Model</td>\n",
       "      <td>0</td>\n",
       "      <td>0.0</td>\n",
       "    </tr>\n",
       "    <tr>\n",
       "      <th>6</th>\n",
       "      <td>Kilometer</td>\n",
       "      <td>0</td>\n",
       "      <td>0.0</td>\n",
       "    </tr>\n",
       "    <tr>\n",
       "      <th>7</th>\n",
       "      <td>RegistrationMonth</td>\n",
       "      <td>0</td>\n",
       "      <td>0.0</td>\n",
       "    </tr>\n",
       "    <tr>\n",
       "      <th>8</th>\n",
       "      <td>FuelType</td>\n",
       "      <td>0</td>\n",
       "      <td>0.0</td>\n",
       "    </tr>\n",
       "    <tr>\n",
       "      <th>9</th>\n",
       "      <td>Brand</td>\n",
       "      <td>0</td>\n",
       "      <td>0.0</td>\n",
       "    </tr>\n",
       "    <tr>\n",
       "      <th>10</th>\n",
       "      <td>Repaired</td>\n",
       "      <td>0</td>\n",
       "      <td>0.0</td>\n",
       "    </tr>\n",
       "  </tbody>\n",
       "</table>\n",
       "</div>"
      ],
      "text/plain": [
       "               column  nan_count  nan_percent\n",
       "0               Price          0          0.0\n",
       "1         VehicleType          0          0.0\n",
       "2    RegistrationYear          0          0.0\n",
       "3             Gearbox          0          0.0\n",
       "4               Power          0          0.0\n",
       "5               Model          0          0.0\n",
       "6           Kilometer          0          0.0\n",
       "7   RegistrationMonth          0          0.0\n",
       "8            FuelType          0          0.0\n",
       "9               Brand          0          0.0\n",
       "10           Repaired          0          0.0"
      ]
     },
     "metadata": {},
     "output_type": "display_data"
    }
   ],
   "source": [
    "print_nan_percent(auto_data)"
   ]
  },
  {
   "cell_type": "markdown",
   "metadata": {},
   "source": [
    "### Обработка аномальных значений"
   ]
  },
  {
   "cell_type": "markdown",
   "metadata": {},
   "source": [
    "Выбросы были в следующих столбцах - Price, RegistrationYear, Power и RegistrationMonth. Пойдём по порядку."
   ]
  },
  {
   "cell_type": "markdown",
   "metadata": {},
   "source": [
    "#### Price"
   ]
  },
  {
   "cell_type": "code",
   "execution_count": 15,
   "metadata": {},
   "outputs": [
    {
     "data": {
      "image/png": "[encoded data removed]",
      "text/plain": [
       "<Figure size 720x360 with 1 Axes>"
      ]
     },
     "metadata": {
      "needs_background": "light"
     },
     "output_type": "display_data"
    }
   ],
   "source": [
    "plot_hist(auto_data, 'Price')"
   ]
  },
  {
   "cell_type": "markdown",
   "metadata": {},
   "source": [
    "Есть много нулевых значений - посмотрим сколько их и удалим. Максимальное значение - 20 тысяч евро - это вполне вероятная цена для автомобиля."
   ]
  },
  {
   "cell_type": "code",
   "execution_count": 16,
   "metadata": {},
   "outputs": [
    {
     "name": "stdout",
     "output_type": "stream",
     "text": [
      "Нулевых значений в Price: 10772\n",
      "% нулевых значений в Price: 3.04%\n"
     ]
    }
   ],
   "source": [
    "print_zero_percent_in_column(auto_data, 'Price')"
   ]
  },
  {
   "cell_type": "code",
   "execution_count": 17,
   "metadata": {},
   "outputs": [],
   "source": [
    "auto_data = auto_data.query('Price > 0')"
   ]
  },
  {
   "cell_type": "markdown",
   "metadata": {},
   "source": [
    "\n",
    "<div class=\"alert alert-block alert-info\">\n",
    "<b>Совет:</b>  А около-нулевые цены, не кажется подозрительными? Самое интересное, что на нескольких сайтов по продажам подержанных автомобилей в Германии (страну можно определить по почтовым индексам, большинство из них из Германии) показало, что цены начинаются действительно с 0 и 1 евро, но это единичные объявления и не понятно, то ли это ошибка при заполнении формы, то ли машины на металлолом. Но я  все-таки склоняюсь к тому, чтобы избавиться от таких данных\n",
    "    \n",
    "\n",
    "\n",
    "    \n",
    "</div>\n"
   ]
  },
  {
   "cell_type": "markdown",
   "metadata": {},
   "source": [
    "#### RegistrationYear"
   ]
  },
  {
   "cell_type": "code",
   "execution_count": 18,
   "metadata": {},
   "outputs": [
    {
     "data": {
      "image/png": "[encoded data removed]",
      "text/plain": [
       "<Figure size 720x360 with 1 Axes>"
      ]
     },
     "metadata": {
      "needs_background": "light"
     },
     "output_type": "display_data"
    }
   ],
   "source": [
    "plot_hist(auto_data, 'RegistrationYear')"
   ]
  },
  {
   "cell_type": "markdown",
   "metadata": {},
   "source": [
    "График не информативен, воспользуемся логикой - в качестве левой границы возьмём год начала производства первого серийного автомобиля - 1888 (Benz Patent-Motorwagen, вдруг такой раритет есть в продаже); в качестве правой границы возьмём год на момент выполнения проекта - 2022."
   ]
  },
  {
   "cell_type": "code",
   "execution_count": 19,
   "metadata": {
    "scrolled": true
   },
   "outputs": [
    {
     "name": "stdout",
     "output_type": "stream",
     "text": [
      "Удалим все авто с годом регистрации меньше 1886 или больше 2020, их всего: 139\n",
      "В процентном соотношении: 0.04%\n"
     ]
    }
   ],
   "source": [
    "auto_data_reg_year_anom = auto_data.query('RegistrationYear < 1888 | RegistrationYear > 2022')\n",
    "print('Удалим все авто с годом регистрации меньше 1886 или больше 2020, их всего: {}'\n",
    "      .format(auto_data_reg_year_anom.shape[0]))\n",
    "print('В процентном соотношении: {:.2%}'\n",
    "      .format(auto_data_reg_year_anom.shape[0] / auto_data.shape[0]))\n",
    "auto_data.drop(auto_data_reg_year_anom.index, axis=0, inplace=True)"
   ]
  },
  {
   "cell_type": "markdown",
   "metadata": {},
   "source": [
    "<div class=\"alert alert-block alert-info\">\n",
    "    \n",
    "<b>Совет:</b> Также советую посмотреть на дату выгрузки базы - там тоже можно увидеть полезную информацию\n",
    "</div>"
   ]
  },
  {
   "cell_type": "markdown",
   "metadata": {},
   "source": [
    "#### Power"
   ]
  },
  {
   "cell_type": "code",
   "execution_count": 20,
   "metadata": {},
   "outputs": [
    {
     "data": {
      "image/png": "[encoded data removed]",
      "text/plain": [
       "<Figure size 720x360 with 1 Axes>"
      ]
     },
     "metadata": {
      "needs_background": "light"
     },
     "output_type": "display_data"
    }
   ],
   "source": [
    "plot_hist(auto_data, 'Power')"
   ]
  },
  {
   "cell_type": "markdown",
   "metadata": {},
   "source": [
    "График не информативен. Посмотрим 0.99 квантиль."
   ]
  },
  {
   "cell_type": "code",
   "execution_count": 21,
   "metadata": {},
   "outputs": [
    {
     "name": "stdout",
     "output_type": "stream",
     "text": [
      "603.0\n"
     ]
    }
   ],
   "source": [
    "print(auto_data['Power'].quantile(0.999))"
   ]
  },
  {
   "cell_type": "code",
   "execution_count": 22,
   "metadata": {},
   "outputs": [
    {
     "data": {
      "image/png": "[encoded data removed]",
      "text/plain": [
       "<Figure size 720x360 with 1 Axes>"
      ]
     },
     "metadata": {
      "needs_background": "light"
     },
     "output_type": "display_data"
    }
   ],
   "source": [
    "plot_hist(auto_data.query('Power <= 603'), 'Power')"
   ]
  },
  {
   "cell_type": "markdown",
   "metadata": {},
   "source": [
    "Очень много нулей - узнаем сколько их."
   ]
  },
  {
   "cell_type": "code",
   "execution_count": 23,
   "metadata": {},
   "outputs": [
    {
     "name": "stdout",
     "output_type": "stream",
     "text": [
      "Нулевых значений в Power: 36259\n",
      "% нулевых значений в Power: 10.56%\n"
     ]
    }
   ],
   "source": [
    "print_zero_percent_in_column(auto_data, 'Power')"
   ]
  },
  {
   "cell_type": "markdown",
   "metadata": {},
   "source": [
    "Возьмём все значения больше 0 и меньше 2012 л.с. - мощность самого мощного серийного автомобиля [Aspark Owl](https://rating-avto.ru/cars/reyting-samyih-moschnyih-v-mire-avtomobiley.html) на 2022 год."
   ]
  },
  {
   "cell_type": "code",
   "execution_count": 24,
   "metadata": {},
   "outputs": [
    {
     "name": "stdout",
     "output_type": "stream",
     "text": [
      "Удалим все авто с мощностью двигателя равной 0 или больше 2012, их всего: 36367\n",
      "В процентном соотношении: 10.59%\n"
     ]
    }
   ],
   "source": [
    "auto_data_pwr_anom = auto_data.query('Power == 0 | Power > 2012')\n",
    "print('Удалим все авто с мощностью двигателя равной 0 или больше 2012, их всего: {}'\n",
    "      .format(auto_data_pwr_anom.shape[0]))\n",
    "print('В процентном соотношении: {:.2%}'\n",
    "      .format(auto_data_pwr_anom.shape[0] / auto_data.shape[0]))\n",
    "auto_data.drop(auto_data_pwr_anom.index, axis=0, inplace=True)"
   ]
  },
  {
   "cell_type": "markdown",
   "metadata": {},
   "source": [
    "\n",
    "<div class=\"alert alert-block alert-info\">\n",
    "<b>Совет:</b>  Как думаешь а машины с 0-ой мощностью могут быть просто без двигателя?\n",
    "</div>\n"
   ]
  },
  {
   "cell_type": "markdown",
   "metadata": {},
   "source": [
    "#### RegistrationMonth"
   ]
  },
  {
   "cell_type": "code",
   "execution_count": 25,
   "metadata": {},
   "outputs": [
    {
     "data": {
      "image/png": "[encoded data removed]",
      "text/plain": [
       "<Figure size 720x360 with 1 Axes>"
      ]
     },
     "metadata": {
      "needs_background": "light"
     },
     "output_type": "display_data"
    }
   ],
   "source": [
    "plot_hist(auto_data, 'RegistrationMonth')"
   ]
  },
  {
   "cell_type": "markdown",
   "metadata": {},
   "source": [
    "Данные разделены на номера месяцов с 0 до 12 - всего выходит 13 месяцев. Однако в году всего 12 месяцев. Так как это не индекси месяца, а номер месяца по условию - месяц номер 0 является лишним.\n",
    "\n",
    "Для упращения будем считать, что месяц 0 = месяц неизвестен."
   ]
  },
  {
   "cell_type": "markdown",
   "metadata": {},
   "source": [
    "### Повторный анализ данных"
   ]
  },
  {
   "cell_type": "code",
   "execution_count": 26,
   "metadata": {},
   "outputs": [
    {
     "name": "stdout",
     "output_type": "stream",
     "text": [
      "==================================================\n",
      "Количество строк: 307091\n",
      "Количество столбцов: 11\n"
     ]
    },
    {
     "data": {
      "text/html": [
       "<div>\n",
       "<style scoped>\n",
       "    .dataframe tbody tr th:only-of-type {\n",
       "        vertical-align: middle;\n",
       "    }\n",
       "\n",
       "    .dataframe tbody tr th {\n",
       "        vertical-align: top;\n",
       "    }\n",
       "\n",
       "    .dataframe thead th {\n",
       "        text-align: right;\n",
       "    }\n",
       "</style>\n",
       "<table border=\"1\" class=\"dataframe\">\n",
       "  <thead>\n",
       "    <tr style=\"text-align: right;\">\n",
       "      <th></th>\n",
       "      <th>Price</th>\n",
       "      <th>VehicleType</th>\n",
       "      <th>RegistrationYear</th>\n",
       "      <th>Gearbox</th>\n",
       "      <th>Power</th>\n",
       "      <th>Model</th>\n",
       "      <th>Kilometer</th>\n",
       "      <th>RegistrationMonth</th>\n",
       "      <th>FuelType</th>\n",
       "      <th>Brand</th>\n",
       "      <th>Repaired</th>\n",
       "    </tr>\n",
       "  </thead>\n",
       "  <tbody>\n",
       "    <tr>\n",
       "      <th>1</th>\n",
       "      <td>18300</td>\n",
       "      <td>coupe</td>\n",
       "      <td>2011</td>\n",
       "      <td>manual</td>\n",
       "      <td>190</td>\n",
       "      <td>unknown</td>\n",
       "      <td>125000</td>\n",
       "      <td>5</td>\n",
       "      <td>gasoline</td>\n",
       "      <td>audi</td>\n",
       "      <td>yes</td>\n",
       "    </tr>\n",
       "    <tr>\n",
       "      <th>2</th>\n",
       "      <td>9800</td>\n",
       "      <td>suv</td>\n",
       "      <td>2004</td>\n",
       "      <td>auto</td>\n",
       "      <td>163</td>\n",
       "      <td>grand</td>\n",
       "      <td>125000</td>\n",
       "      <td>8</td>\n",
       "      <td>gasoline</td>\n",
       "      <td>jeep</td>\n",
       "      <td>unknown</td>\n",
       "    </tr>\n",
       "    <tr>\n",
       "      <th>3</th>\n",
       "      <td>1500</td>\n",
       "      <td>small</td>\n",
       "      <td>2001</td>\n",
       "      <td>manual</td>\n",
       "      <td>75</td>\n",
       "      <td>golf</td>\n",
       "      <td>150000</td>\n",
       "      <td>6</td>\n",
       "      <td>petrol</td>\n",
       "      <td>volkswagen</td>\n",
       "      <td>no</td>\n",
       "    </tr>\n",
       "    <tr>\n",
       "      <th>4</th>\n",
       "      <td>3600</td>\n",
       "      <td>small</td>\n",
       "      <td>2008</td>\n",
       "      <td>manual</td>\n",
       "      <td>69</td>\n",
       "      <td>fabia</td>\n",
       "      <td>90000</td>\n",
       "      <td>7</td>\n",
       "      <td>gasoline</td>\n",
       "      <td>skoda</td>\n",
       "      <td>no</td>\n",
       "    </tr>\n",
       "    <tr>\n",
       "      <th>5</th>\n",
       "      <td>650</td>\n",
       "      <td>sedan</td>\n",
       "      <td>1995</td>\n",
       "      <td>manual</td>\n",
       "      <td>102</td>\n",
       "      <td>3er</td>\n",
       "      <td>150000</td>\n",
       "      <td>10</td>\n",
       "      <td>petrol</td>\n",
       "      <td>bmw</td>\n",
       "      <td>yes</td>\n",
       "    </tr>\n",
       "  </tbody>\n",
       "</table>\n",
       "</div>"
      ],
      "text/plain": [
       "   Price VehicleType  RegistrationYear Gearbox  Power    Model  Kilometer  \\\n",
       "1  18300       coupe              2011  manual    190  unknown     125000   \n",
       "2   9800         suv              2004    auto    163    grand     125000   \n",
       "3   1500       small              2001  manual     75     golf     150000   \n",
       "4   3600       small              2008  manual     69    fabia      90000   \n",
       "5    650       sedan              1995  manual    102      3er     150000   \n",
       "\n",
       "   RegistrationMonth  FuelType       Brand Repaired  \n",
       "1                  5  gasoline        audi      yes  \n",
       "2                  8  gasoline        jeep  unknown  \n",
       "3                  6    petrol  volkswagen       no  \n",
       "4                  7  gasoline       skoda       no  \n",
       "5                 10    petrol         bmw      yes  "
      ]
     },
     "metadata": {},
     "output_type": "display_data"
    },
    {
     "data": {
      "text/html": [
       "<div>\n",
       "<style scoped>\n",
       "    .dataframe tbody tr th:only-of-type {\n",
       "        vertical-align: middle;\n",
       "    }\n",
       "\n",
       "    .dataframe tbody tr th {\n",
       "        vertical-align: top;\n",
       "    }\n",
       "\n",
       "    .dataframe thead th {\n",
       "        text-align: right;\n",
       "    }\n",
       "</style>\n",
       "<table border=\"1\" class=\"dataframe\">\n",
       "  <thead>\n",
       "    <tr style=\"text-align: right;\">\n",
       "      <th></th>\n",
       "      <th>Price</th>\n",
       "      <th>RegistrationYear</th>\n",
       "      <th>Power</th>\n",
       "      <th>Kilometer</th>\n",
       "      <th>RegistrationMonth</th>\n",
       "    </tr>\n",
       "  </thead>\n",
       "  <tbody>\n",
       "    <tr>\n",
       "      <th>count</th>\n",
       "      <td>307091.000000</td>\n",
       "      <td>307091.000000</td>\n",
       "      <td>307091.000000</td>\n",
       "      <td>307091.000000</td>\n",
       "      <td>307091.000000</td>\n",
       "    </tr>\n",
       "    <tr>\n",
       "      <th>mean</th>\n",
       "      <td>4810.307668</td>\n",
       "      <td>2003.299058</td>\n",
       "      <td>121.113934</td>\n",
       "      <td>128419.426164</td>\n",
       "      <td>5.963389</td>\n",
       "    </tr>\n",
       "    <tr>\n",
       "      <th>std</th>\n",
       "      <td>4586.673732</td>\n",
       "      <td>6.954421</td>\n",
       "      <td>63.831722</td>\n",
       "      <td>36744.571553</td>\n",
       "      <td>3.600223</td>\n",
       "    </tr>\n",
       "    <tr>\n",
       "      <th>min</th>\n",
       "      <td>1.000000</td>\n",
       "      <td>1910.000000</td>\n",
       "      <td>1.000000</td>\n",
       "      <td>5000.000000</td>\n",
       "      <td>0.000000</td>\n",
       "    </tr>\n",
       "    <tr>\n",
       "      <th>25%</th>\n",
       "      <td>1300.000000</td>\n",
       "      <td>1999.000000</td>\n",
       "      <td>75.000000</td>\n",
       "      <td>125000.000000</td>\n",
       "      <td>3.000000</td>\n",
       "    </tr>\n",
       "    <tr>\n",
       "      <th>50%</th>\n",
       "      <td>3100.000000</td>\n",
       "      <td>2003.000000</td>\n",
       "      <td>110.000000</td>\n",
       "      <td>150000.000000</td>\n",
       "      <td>6.000000</td>\n",
       "    </tr>\n",
       "    <tr>\n",
       "      <th>75%</th>\n",
       "      <td>6950.000000</td>\n",
       "      <td>2008.000000</td>\n",
       "      <td>150.000000</td>\n",
       "      <td>150000.000000</td>\n",
       "      <td>9.000000</td>\n",
       "    </tr>\n",
       "    <tr>\n",
       "      <th>max</th>\n",
       "      <td>20000.000000</td>\n",
       "      <td>2019.000000</td>\n",
       "      <td>2009.000000</td>\n",
       "      <td>150000.000000</td>\n",
       "      <td>12.000000</td>\n",
       "    </tr>\n",
       "  </tbody>\n",
       "</table>\n",
       "</div>"
      ],
      "text/plain": [
       "               Price  RegistrationYear          Power      Kilometer  \\\n",
       "count  307091.000000     307091.000000  307091.000000  307091.000000   \n",
       "mean     4810.307668       2003.299058     121.113934  128419.426164   \n",
       "std      4586.673732          6.954421      63.831722   36744.571553   \n",
       "min         1.000000       1910.000000       1.000000    5000.000000   \n",
       "25%      1300.000000       1999.000000      75.000000  125000.000000   \n",
       "50%      3100.000000       2003.000000     110.000000  150000.000000   \n",
       "75%      6950.000000       2008.000000     150.000000  150000.000000   \n",
       "max     20000.000000       2019.000000    2009.000000  150000.000000   \n",
       "\n",
       "       RegistrationMonth  \n",
       "count      307091.000000  \n",
       "mean            5.963389  \n",
       "std             3.600223  \n",
       "min             0.000000  \n",
       "25%             3.000000  \n",
       "50%             6.000000  \n",
       "75%             9.000000  \n",
       "max            12.000000  "
      ]
     },
     "metadata": {},
     "output_type": "display_data"
    },
    {
     "name": "stdout",
     "output_type": "stream",
     "text": [
      "<class 'pandas.core.frame.DataFrame'>\n",
      "Int64Index: 307091 entries, 1 to 354368\n",
      "Data columns (total 11 columns):\n",
      " #   Column             Non-Null Count   Dtype \n",
      "---  ------             --------------   ----- \n",
      " 0   Price              307091 non-null  int64 \n",
      " 1   VehicleType        307091 non-null  object\n",
      " 2   RegistrationYear   307091 non-null  int64 \n",
      " 3   Gearbox            307091 non-null  object\n",
      " 4   Power              307091 non-null  int64 \n",
      " 5   Model              307091 non-null  object\n",
      " 6   Kilometer          307091 non-null  int64 \n",
      " 7   RegistrationMonth  307091 non-null  int64 \n",
      " 8   FuelType           307091 non-null  object\n",
      " 9   Brand              307091 non-null  object\n",
      " 10  Repaired           307091 non-null  object\n",
      "dtypes: int64(5), object(6)\n",
      "memory usage: 28.1+ MB\n",
      "None\n",
      "==================================================\n"
     ]
    }
   ],
   "source": [
    "first_analyze(auto_data)"
   ]
  },
  {
   "cell_type": "markdown",
   "metadata": {},
   "source": [
    "Пропусков нет, явные аномальные значения удалены."
   ]
  },
  {
   "cell_type": "markdown",
   "metadata": {},
   "source": [
    "<div class=\"alert alert-block alert-success\">\n",
    "<b>Успех:</b> В целом неплохая, детальная предобработка - идем дальше"
   ]
  },
  {
   "cell_type": "markdown",
   "metadata": {},
   "source": [
    "## Обучение моделей"
   ]
  },
  {
   "cell_type": "markdown",
   "metadata": {},
   "source": [
    "Выделим названия категориальных признаков в список."
   ]
  },
  {
   "cell_type": "code",
   "execution_count": 27,
   "metadata": {},
   "outputs": [],
   "source": [
    "cat_features = ['VehicleType', 'RegistrationYear', 'Gearbox', 'Model',\n",
    "                'RegistrationMonth', 'FuelType', 'Brand', 'Repaired']"
   ]
  },
  {
   "cell_type": "markdown",
   "metadata": {},
   "source": [
    "Выделим целевой признак - цену."
   ]
  },
  {
   "cell_type": "code",
   "execution_count": 28,
   "metadata": {},
   "outputs": [],
   "source": [
    "features = auto_data.drop(columns=['Price'])\n",
    "target = auto_data['Price']"
   ]
  },
  {
   "cell_type": "markdown",
   "metadata": {},
   "source": [
    "Так как мы будем использовать GridSearchCV нам не требуется валидационная выборка. Отдельной скрытой тестовой выборки не предоставленно - будем делать данные на две выборки - тренировочную для кросс-валидации (CV) и тестовую (test). "
   ]
  },
  {
   "cell_type": "code",
   "execution_count": 29,
   "metadata": {},
   "outputs": [],
   "source": [
    "features_cv, features_test, target_cv, target_test = train_test_split(features,\n",
    "                                                                      target,\n",
    "                                                                      test_size=0.25,\n",
    "                                                                      shuffle=True,\n",
    "                                                                      random_state=RANDOM_STATE)"
   ]
  },
  {
   "cell_type": "markdown",
   "metadata": {},
   "source": [
    "Для дальнейшего анализа результатов создадим пустой список для результатов моделей."
   ]
  },
  {
   "cell_type": "code",
   "execution_count": 30,
   "metadata": {},
   "outputs": [],
   "source": [
    "models_stats = []"
   ]
  },
  {
   "cell_type": "markdown",
   "metadata": {},
   "source": [
    "### CatBoost"
   ]
  },
  {
   "cell_type": "code",
   "execution_count": 31,
   "metadata": {},
   "outputs": [],
   "source": [
    "model = CatBoostRegressor(random_seed=RANDOM_STATE, loss_function='RMSE', silent=True, cat_features=cat_features)\n",
    "\n",
    "param_grid = {'learning_rate': [0.1, 0.01],\n",
    "              'depth': [6, 8, 10],\n",
    "              'iterations': [40, 60]\n",
    "             }\n",
    "\n",
    "search_cb = GridSearchCV(model, param_grid, cv=5, scoring='neg_mean_squared_error', verbose=False)"
   ]
  },
  {
   "cell_type": "code",
   "execution_count": 32,
   "metadata": {
    "scrolled": true
   },
   "outputs": [
    {
     "name": "stdout",
     "output_type": "stream",
     "text": [
      "CPU times: user 5min 26s, sys: 2.62 s, total: 5min 29s\n",
      "Wall time: 5min 57s\n"
     ]
    },
    {
     "data": {
      "text/plain": [
       "GridSearchCV(cv=5,\n",
       "             estimator=<catboost.core.CatBoostRegressor object at 0x7f2c487862b0>,\n",
       "             param_grid={'depth': [6, 8, 10], 'iterations': [40, 60],\n",
       "                         'learning_rate': [0.1, 0.01]},\n",
       "             scoring='neg_mean_squared_error', verbose=False)"
      ]
     },
     "execution_count": 32,
     "metadata": {},
     "output_type": "execute_result"
    }
   ],
   "source": [
    "%%time\n",
    "search_cb.fit(features_cv, target_cv)"
   ]
  },
  {
   "cell_type": "markdown",
   "metadata": {},
   "source": [
    "Сохраним статистику для этой модели."
   ]
  },
  {
   "cell_type": "code",
   "execution_count": 34,
   "metadata": {},
   "outputs": [],
   "source": [
    "stats = get_model_time_and_rmse(search_cb)\n",
    "\n",
    "models_stats.append({'model': 'CatBoost',\n",
    "                     'fit_time': stats.fit_time,\n",
    "                     'predict_time': stats.predict_time,\n",
    "                     'RMSE': stats.rmse\n",
    "                    })"
   ]
  },
  {
   "cell_type": "markdown",
   "metadata": {},
   "source": [
    "<div class=\"alert alert-block alert-warning\">\n",
    "<b>Изменения:</b> Тут и в остальных моделях в качестве аргументов теперь передаётся только результат GridSearchCV\n",
    "</div>"
   ]
  },
  {
   "cell_type": "markdown",
   "metadata": {},
   "source": [
    "<div class=\"alert alert-block alert-success\">\n",
    "<b>Успех:</b> Радует, что был применен внутренний метод кодировки данных"
   ]
  },
  {
   "cell_type": "markdown",
   "metadata": {},
   "source": [
    "<div class=\"alert alert-block alert-danger\">\n",
    "<b>Ошибка:</b> Использование тестовой выборки до шага с тестированием не должно быть, время предсказания можно считать тремя способами:\n",
    "    \n",
    "- на валидационной\n",
    "- на тренировочной\n",
    "- В твоем случае, мне кажется лучше всего вытаскивать эти значения из GridSearchCV, все они лежат в `.cv_results_`\n",
    "    \n",
    "Отмечу, что если ты будешь замерять время предсказания на тренировочной, то качество полученное на тренировочное - для анализа не подходит, придется качество отдельно замерить с помощью какого-нибудь cross_val_score.\n",
    "</div>\n"
   ]
  },
  {
   "cell_type": "markdown",
   "metadata": {},
   "source": [
    "<div class=\"alert alert-block alert-success\">\n",
    "<b>Успех[2]:</b> Недочет исправлен\n",
    "</div>\n"
   ]
  },
  {
   "cell_type": "markdown",
   "metadata": {},
   "source": [
    "### LightGBM"
   ]
  },
  {
   "cell_type": "markdown",
   "metadata": {},
   "source": [
    "Создадим копию признаков для LightGBM и установим для категориальных прищнаков тип данных 'category'."
   ]
  },
  {
   "cell_type": "code",
   "execution_count": 36,
   "metadata": {},
   "outputs": [],
   "source": [
    "features_cv_lgbm = features_cv.copy()\n",
    "features_test_lgbm = features_test.copy()\n",
    "\n",
    "for df in [features_cv_lgbm, features_test_lgbm]: \n",
    "    df[cat_features] = df[cat_features].astype('category')"
   ]
  },
  {
   "cell_type": "markdown",
   "metadata": {},
   "source": [
    "<div class=\"alert alert-block alert-success\">\n",
    "<b>Успех:</b> И здесь внутренний метод кодировки данных применен успешно"
   ]
  },
  {
   "cell_type": "code",
   "execution_count": 37,
   "metadata": {},
   "outputs": [],
   "source": [
    "model = LGBMRegressor(random_seed=RANDOM_STATE)\n",
    "\n",
    "param_grid = {'learning_rate': [0.01, 0.1],\n",
    "              'max_depth':[6, 8, 10],\n",
    "              'n_estimators': [60, 80, 100]\n",
    "             }\n",
    "\n",
    "search_lgbm = GridSearchCV(model, param_grid, cv=5, scoring='neg_mean_squared_error', verbose= False)"
   ]
  },
  {
   "cell_type": "code",
   "execution_count": 38,
   "metadata": {},
   "outputs": [
    {
     "name": "stdout",
     "output_type": "stream",
     "text": [
      "CPU times: user 14min 9s, sys: 7.8 s, total: 14min 17s\n",
      "Wall time: 14min 26s\n"
     ]
    },
    {
     "data": {
      "text/plain": [
       "GridSearchCV(cv=5, estimator=LGBMRegressor(random_seed=131296),\n",
       "             param_grid={'learning_rate': [0.01, 0.1], 'max_depth': [6, 8, 10],\n",
       "                         'n_estimators': [60, 80, 100]},\n",
       "             scoring='neg_mean_squared_error', verbose=False)"
      ]
     },
     "execution_count": 38,
     "metadata": {},
     "output_type": "execute_result"
    }
   ],
   "source": [
    "%%time\n",
    "search_lgbm.fit(features_cv_lgbm, target_cv)"
   ]
  },
  {
   "cell_type": "markdown",
   "metadata": {},
   "source": [
    "Сохраним статистику для этой модели."
   ]
  },
  {
   "cell_type": "code",
   "execution_count": 39,
   "metadata": {},
   "outputs": [],
   "source": [
    "stats = get_model_time_and_rmse(search_lgbm)\n",
    "\n",
    "models_stats.append({'model': 'LightGBM',\n",
    "                     'fit_time': stats.fit_time,\n",
    "                     'predict_time': stats.predict_time,\n",
    "                     'RMSE': stats.rmse\n",
    "                    })"
   ]
  },
  {
   "cell_type": "markdown",
   "metadata": {},
   "source": [
    "<div class=\"alert alert-block alert-danger\">\n",
    "<b>Ошибка:</b> То же самое в тестовой выборкой"
   ]
  },
  {
   "cell_type": "markdown",
   "metadata": {},
   "source": [
    "<div class=\"alert alert-block alert-success\">\n",
    "<b>Успех[2]:</b> Есть\n",
    "</div>\n"
   ]
  },
  {
   "cell_type": "markdown",
   "metadata": {},
   "source": [
    "### Ridge"
   ]
  },
  {
   "cell_type": "markdown",
   "metadata": {},
   "source": [
    "Для сравнения построиме Ridge модель - однако, для неё необходимо использовать какое либо преобразование категориальных данных. Для этого будем использовать пайплайн с OHE."
   ]
  },
  {
   "cell_type": "code",
   "execution_count": 40,
   "metadata": {},
   "outputs": [],
   "source": [
    "pipeline = Pipeline([('ohe', OneHotEncoder(handle_unknown='ignore')),\n",
    "                     ('model', Ridge(random_state=RANDOM_STATE))\n",
    "                    ])\n",
    "\n",
    "param_grid = {'model__alpha': [20, 10, 5, 1, 0.1, 0.01, 0.001, 0]}\n",
    "\n",
    "search_ridge = GridSearchCV(pipeline, param_grid, cv=5, scoring='neg_mean_squared_error', verbose=False)"
   ]
  },
  {
   "cell_type": "markdown",
   "metadata": {},
   "source": [
    "<div class=\"alert alert-block alert-success\">\n",
    "<b>Успех:</b> OHE - хороший выбор, применен корректно, лайк за продвинутый инструмент pipeline."
   ]
  },
  {
   "cell_type": "code",
   "execution_count": 41,
   "metadata": {},
   "outputs": [
    {
     "name": "stdout",
     "output_type": "stream",
     "text": [
      "CPU times: user 42.5 s, sys: 1.16 s, total: 43.7 s\n",
      "Wall time: 43.8 s\n"
     ]
    },
    {
     "data": {
      "text/plain": [
       "GridSearchCV(cv=5,\n",
       "             estimator=Pipeline(steps=[('ohe',\n",
       "                                        OneHotEncoder(handle_unknown='ignore')),\n",
       "                                       ('model', Ridge(random_state=131296))]),\n",
       "             param_grid={'model__alpha': [20, 10, 5, 1, 0.1, 0.01, 0.001, 0]},\n",
       "             scoring='neg_mean_squared_error', verbose=False)"
      ]
     },
     "execution_count": 41,
     "metadata": {},
     "output_type": "execute_result"
    }
   ],
   "source": [
    "%%time\n",
    "search_ridge.fit(features_cv, target_cv)"
   ]
  },
  {
   "cell_type": "markdown",
   "metadata": {},
   "source": [
    "Сохраним статистику для этой модели."
   ]
  },
  {
   "cell_type": "code",
   "execution_count": 42,
   "metadata": {},
   "outputs": [],
   "source": [
    "stats = get_model_time_and_rmse(search_ridge)\n",
    "\n",
    "models_stats.append({'model': 'Ridge',\n",
    "                     'fit_time': stats.fit_time,\n",
    "                     'predict_time': stats.predict_time,\n",
    "                     'RMSE': stats.rmse\n",
    "                    })"
   ]
  },
  {
   "cell_type": "markdown",
   "metadata": {},
   "source": [
    "<div class=\"alert alert-block alert-danger\">\n",
    "<b>Ошибка:</b> Тестовая выборка =)"
   ]
  },
  {
   "cell_type": "markdown",
   "metadata": {},
   "source": [
    "<div class=\"alert alert-block alert-success\">\n",
    "<b>Успех[2]:</b> Есть\n",
    "</div>\n"
   ]
  },
  {
   "cell_type": "markdown",
   "metadata": {},
   "source": [
    "## Анализ моделей"
   ]
  },
  {
   "cell_type": "markdown",
   "metadata": {},
   "source": [
    "Посмотрим на таблицу с данными испытанных моделей и сделаем соответствующие выводы."
   ]
  },
  {
   "cell_type": "code",
   "execution_count": 43,
   "metadata": {},
   "outputs": [
    {
     "data": {
      "text/html": [
       "<div>\n",
       "<style scoped>\n",
       "    .dataframe tbody tr th:only-of-type {\n",
       "        vertical-align: middle;\n",
       "    }\n",
       "\n",
       "    .dataframe tbody tr th {\n",
       "        vertical-align: top;\n",
       "    }\n",
       "\n",
       "    .dataframe thead th {\n",
       "        text-align: right;\n",
       "    }\n",
       "</style>\n",
       "<table border=\"1\" class=\"dataframe\">\n",
       "  <thead>\n",
       "    <tr style=\"text-align: right;\">\n",
       "      <th></th>\n",
       "      <th>model</th>\n",
       "      <th>fit_time</th>\n",
       "      <th>predict_time</th>\n",
       "      <th>RMSE</th>\n",
       "    </tr>\n",
       "  </thead>\n",
       "  <tbody>\n",
       "    <tr>\n",
       "      <th>0</th>\n",
       "      <td>CatBoost</td>\n",
       "      <td>8.178418</td>\n",
       "      <td>0.077612</td>\n",
       "      <td>1754.651177</td>\n",
       "    </tr>\n",
       "    <tr>\n",
       "      <th>1</th>\n",
       "      <td>LightGBM</td>\n",
       "      <td>4.577308</td>\n",
       "      <td>0.484430</td>\n",
       "      <td>1642.095272</td>\n",
       "    </tr>\n",
       "    <tr>\n",
       "      <th>2</th>\n",
       "      <td>Ridge</td>\n",
       "      <td>1.047610</td>\n",
       "      <td>0.078519</td>\n",
       "      <td>2018.133782</td>\n",
       "    </tr>\n",
       "  </tbody>\n",
       "</table>\n",
       "</div>"
      ],
      "text/plain": [
       "      model  fit_time  predict_time         RMSE\n",
       "0  CatBoost  8.178418      0.077612  1754.651177\n",
       "1  LightGBM  4.577308      0.484430  1642.095272\n",
       "2     Ridge  1.047610      0.078519  2018.133782"
      ]
     },
     "metadata": {},
     "output_type": "display_data"
    }
   ],
   "source": [
    "display(pd.DataFrame(models_stats))"
   ]
  },
  {
   "cell_type": "markdown",
   "metadata": {},
   "source": [
    "По данным моделей можно сделать следующие выводы:\n",
    "* качество моделей градиентного бустинга схоже друг с другом, лучший результат LightGBM можно объяснить более удачными гиперпараметрами;\n",
    "* время обучения CatBoost в 1.8 раз больше, чем у LightGBM;\n",
    "* время предсказаний CatBoost в 6 раз меньше, чем у LightGBM;\n",
    "* линейная модель Ridge обучается и предсказывает быстрее, чем модели градиентного бустнига, однако её качество заметно хуже;\n",
    "\n",
    "По результатам работы моделей можно сделать вывод, что модели градиентного бустинга в условиях большого количества категориальных значений работают лучше, чем линейные модели."
   ]
  },
  {
   "cell_type": "markdown",
   "metadata": {},
   "source": [
    "<div class=\"alert alert-block alert-warning\">\n",
    "<b>Изменения:</b> Изменены выводы в соответствии с новыми данными.\n",
    "</div>"
   ]
  },
  {
   "cell_type": "markdown",
   "metadata": {},
   "source": [
    "<div class=\"alert alert-block alert-success\">\n",
    "<b>Успех[2]:</b> Есть контакт. Всегда приятно наблюдать подробный и структурированный вывод в конце работы!\n",
    "</div>\n"
   ]
  },
  {
   "cell_type": "markdown",
   "metadata": {},
   "source": [
    "Так как модель LightGBM показала результат лучше, чем CatBoost, при этом суммарное время обучения и предсказания у модели LightGBM на 3.2 секунды меньше, чем у CatBoost - для испытания на тестовой выборке будем использовать именно эту модель."
   ]
  },
  {
   "cell_type": "code",
   "execution_count": 47,
   "metadata": {},
   "outputs": [
    {
     "name": "stdout",
     "output_type": "stream",
     "text": [
      "RMSE модели LightGBM на тестовой выборке: 1634.0561807876907\n"
     ]
    }
   ],
   "source": [
    "predictions = search_lgbm.predict(features_test_lgbm)\n",
    "rmse = mean_squared_error(target_test, predictions) ** 0.5\n",
    "print('RMSE модели LightGBM на тестовой выборке:', rmse)"
   ]
  },
  {
   "cell_type": "markdown",
   "metadata": {},
   "source": [
    "Качество модели LightGBM на тестовой выборке меньше 2500 - модель удовлетворяет требованию по качеству."
   ]
  },
  {
   "cell_type": "markdown",
   "metadata": {},
   "source": [
    "<div class=\"alert alert-block alert-success\">\n",
    "<b>Успех:</b> Шаг проделан замечательно, все нужные метрики считаются, радует наиличие кросс-валидационных методов для подбора гиперпараметров и использование внутренних методов кодировки данных."
   ]
  },
  {
   "cell_type": "markdown",
   "metadata": {},
   "source": [
    "<div class=\"alert alert-block alert-danger\">\n",
    "    \n",
    "<b>Ошибка:</b> К этому моменту мы получаем все метрики для наших моделей (без использования тестовой выборки) - проводим анализ, выбираем наилучшую модель. И дальше тестируем ОДНУ наилучшую модель =)\n",
    "  \n",
    "</div>"
   ]
  },
  {
   "cell_type": "markdown",
   "metadata": {},
   "source": [
    "<div class=\"alert alert-block alert-success\">\n",
    "<b>Успех[2]:</b> Получено хорошее качество на тесте!\n",
    "</div>\n"
   ]
  },
  {
   "cell_type": "markdown",
   "metadata": {},
   "source": [
    "\n",
    "\n",
    "<div class=\"alert alert-block alert-info\">\n",
    "<b>Совет:</b> \n",
    "\n",
    "Также если говорить, что можно ещё улучшить в подобных проектах, то я бы выделил такие моменты:<br>\n",
    "    \n",
    "1) Для понимания, а какие в итоге факторы важны при моделировании, можно выводить их важность, использую feature_importances_, ну и график заодно. Это будет смотреться очнь здорово: результативная метрика и график важности факторов))) \n",
    "\n",
    "2) У нас разный возраст машин. Есть гипотеза, что для разных возрастов - своё ценообразование. Поэтому, можно попробовать ввести фактор \"тип возраста\" (ретро, супер-ретро, старая, новая... надо подумать..)..<br>\n",
    "\n",
    "\n",
    "</div>\n"
   ]
  },
  {
   "cell_type": "markdown",
   "metadata": {},
   "source": [
    "## Чек-лист проверки"
   ]
  },
  {
   "cell_type": "markdown",
   "metadata": {},
   "source": [
    "Поставьте 'x' в выполненных пунктах. Далее нажмите Shift+Enter."
   ]
  },
  {
   "cell_type": "markdown",
   "metadata": {},
   "source": [
    "- [x]  Jupyter Notebook открыт\n",
    "- [x]  Весь код выполняется без ошибок\n",
    "- [x]  Ячейки с кодом расположены в порядке исполнения\n",
    "- [x]  Выполнена загрузка и подготовка данных\n",
    "- [x]  Выполнено обучение моделей\n",
    "- [x]  Есть анализ скорости работы и качества моделей"
   ]
  },
  {
   "cell_type": "code",
   "execution_count": null,
   "metadata": {},
   "outputs": [],
   "source": []
  }
 ],
 "metadata": {
  "ExecuteTimeLog": [
   {
    "duration": 1608,
    "start_time": "2022-11-29T16:13:25.778Z"
   },
   {
    "duration": 3,
    "start_time": "2022-11-29T16:18:00.536Z"
   },
   {
    "duration": 3,
    "start_time": "2022-11-29T16:20:15.395Z"
   },
   {
    "duration": 6,
    "start_time": "2022-11-29T18:43:38.506Z"
   },
   {
    "duration": 5,
    "start_time": "2022-11-29T18:45:34.723Z"
   },
   {
    "duration": 5,
    "start_time": "2022-11-29T18:47:38.974Z"
   },
   {
    "duration": 4,
    "start_time": "2022-11-29T21:54:43.661Z"
   },
   {
    "duration": 2853,
    "start_time": "2022-11-29T21:56:29.054Z"
   },
   {
    "duration": 234,
    "start_time": "2022-11-29T21:56:46.068Z"
   },
   {
    "duration": 47,
    "start_time": "2022-11-29T22:03:54.413Z"
   },
   {
    "duration": 160,
    "start_time": "2022-11-29T22:04:54.400Z"
   },
   {
    "duration": 109,
    "start_time": "2022-11-29T22:06:53.702Z"
   },
   {
    "duration": 9,
    "start_time": "2022-11-29T22:07:58.985Z"
   },
   {
    "duration": 86,
    "start_time": "2022-11-29T22:08:08.363Z"
   },
   {
    "duration": 100,
    "start_time": "2022-11-29T22:08:27.147Z"
   },
   {
    "duration": 1369,
    "start_time": "2022-11-29T22:08:32.204Z"
   },
   {
    "duration": 4,
    "start_time": "2022-11-29T22:08:33.575Z"
   },
   {
    "duration": 9,
    "start_time": "2022-11-29T22:08:33.581Z"
   },
   {
    "duration": 14,
    "start_time": "2022-11-29T22:08:33.591Z"
   },
   {
    "duration": 5,
    "start_time": "2022-11-29T22:08:33.608Z"
   },
   {
    "duration": 9,
    "start_time": "2022-11-29T22:08:33.614Z"
   },
   {
    "duration": 9,
    "start_time": "2022-11-29T22:08:33.625Z"
   },
   {
    "duration": 782,
    "start_time": "2022-11-29T22:08:33.635Z"
   },
   {
    "duration": 221,
    "start_time": "2022-11-29T22:08:34.418Z"
   },
   {
    "duration": 44,
    "start_time": "2022-11-29T22:08:34.641Z"
   },
   {
    "duration": 165,
    "start_time": "2022-11-29T22:08:34.686Z"
   },
   {
    "duration": 121,
    "start_time": "2022-11-29T22:08:34.852Z"
   },
   {
    "duration": 155,
    "start_time": "2022-11-29T22:09:10.373Z"
   },
   {
    "duration": 285,
    "start_time": "2022-11-29T22:22:49.866Z"
   },
   {
    "duration": 57,
    "start_time": "2022-11-29T22:27:23.031Z"
   },
   {
    "duration": 25,
    "start_time": "2022-11-29T22:29:25.720Z"
   },
   {
    "duration": 4,
    "start_time": "2022-11-29T22:30:29.514Z"
   },
   {
    "duration": 252,
    "start_time": "2022-11-29T22:31:47.707Z"
   },
   {
    "duration": 23,
    "start_time": "2022-11-29T22:40:42.999Z"
   },
   {
    "duration": 52,
    "start_time": "2022-11-29T22:42:06.967Z"
   },
   {
    "duration": 103,
    "start_time": "2022-11-29T22:42:23.705Z"
   },
   {
    "duration": 9,
    "start_time": "2022-11-29T22:42:25.737Z"
   },
   {
    "duration": 9,
    "start_time": "2022-11-29T22:42:32.921Z"
   },
   {
    "duration": 1384,
    "start_time": "2022-11-29T22:42:41.403Z"
   },
   {
    "duration": 2,
    "start_time": "2022-11-29T22:42:42.789Z"
   },
   {
    "duration": 21,
    "start_time": "2022-11-29T22:42:42.793Z"
   },
   {
    "duration": 11,
    "start_time": "2022-11-29T22:42:42.816Z"
   },
   {
    "duration": 9,
    "start_time": "2022-11-29T22:42:42.830Z"
   },
   {
    "duration": 24,
    "start_time": "2022-11-29T22:42:42.840Z"
   },
   {
    "duration": 14,
    "start_time": "2022-11-29T22:42:42.866Z"
   },
   {
    "duration": 813,
    "start_time": "2022-11-29T22:42:42.881Z"
   },
   {
    "duration": 247,
    "start_time": "2022-11-29T22:42:43.695Z"
   },
   {
    "duration": 39,
    "start_time": "2022-11-29T22:42:43.943Z"
   },
   {
    "duration": 174,
    "start_time": "2022-11-29T22:42:43.984Z"
   },
   {
    "duration": 129,
    "start_time": "2022-11-29T22:42:44.160Z"
   },
   {
    "duration": 164,
    "start_time": "2022-11-29T22:42:44.291Z"
   },
   {
    "duration": 309,
    "start_time": "2022-11-29T22:42:44.458Z"
   },
   {
    "duration": 56,
    "start_time": "2022-11-29T22:42:44.768Z"
   },
   {
    "duration": 27,
    "start_time": "2022-11-29T22:42:44.826Z"
   },
   {
    "duration": 5,
    "start_time": "2022-11-29T22:42:44.855Z"
   },
   {
    "duration": 298,
    "start_time": "2022-11-29T22:42:44.862Z"
   },
   {
    "duration": 49,
    "start_time": "2022-11-29T22:42:45.162Z"
   },
   {
    "duration": 76,
    "start_time": "2022-11-29T22:43:25.866Z"
   },
   {
    "duration": 362,
    "start_time": "2022-11-29T22:43:58.010Z"
   },
   {
    "duration": 275,
    "start_time": "2022-11-29T22:45:01.380Z"
   },
   {
    "duration": 277,
    "start_time": "2022-11-29T22:45:17.805Z"
   },
   {
    "duration": 260,
    "start_time": "2022-11-29T22:45:25.397Z"
   },
   {
    "duration": 290,
    "start_time": "2022-11-29T22:45:28.116Z"
   },
   {
    "duration": 73,
    "start_time": "2022-11-29T22:47:53.168Z"
   },
   {
    "duration": 372,
    "start_time": "2022-11-29T22:49:31.394Z"
   },
   {
    "duration": 7,
    "start_time": "2022-11-29T22:50:22.891Z"
   },
   {
    "duration": 276,
    "start_time": "2022-11-29T22:50:54.507Z"
   },
   {
    "duration": 10,
    "start_time": "2022-11-29T22:51:42.292Z"
   },
   {
    "duration": 56,
    "start_time": "2022-11-29T23:49:35.860Z"
   },
   {
    "duration": 56,
    "start_time": "2022-11-29T23:50:34.300Z"
   },
   {
    "duration": 1375,
    "start_time": "2022-11-29T23:50:51.879Z"
   },
   {
    "duration": 3,
    "start_time": "2022-11-29T23:50:53.255Z"
   },
   {
    "duration": 6,
    "start_time": "2022-11-29T23:50:53.260Z"
   },
   {
    "duration": 6,
    "start_time": "2022-11-29T23:50:53.268Z"
   },
   {
    "duration": 10,
    "start_time": "2022-11-29T23:50:53.276Z"
   },
   {
    "duration": 8,
    "start_time": "2022-11-29T23:50:53.287Z"
   },
   {
    "duration": 12,
    "start_time": "2022-11-29T23:50:53.297Z"
   },
   {
    "duration": 766,
    "start_time": "2022-11-29T23:50:53.310Z"
   },
   {
    "duration": 229,
    "start_time": "2022-11-29T23:50:54.078Z"
   },
   {
    "duration": 45,
    "start_time": "2022-11-29T23:50:54.309Z"
   },
   {
    "duration": 169,
    "start_time": "2022-11-29T23:50:54.356Z"
   },
   {
    "duration": 121,
    "start_time": "2022-11-29T23:50:54.526Z"
   },
   {
    "duration": 155,
    "start_time": "2022-11-29T23:50:54.650Z"
   },
   {
    "duration": 285,
    "start_time": "2022-11-29T23:50:54.808Z"
   },
   {
    "duration": 48,
    "start_time": "2022-11-29T23:50:55.094Z"
   },
   {
    "duration": 26,
    "start_time": "2022-11-29T23:50:55.143Z"
   },
   {
    "duration": 257,
    "start_time": "2022-11-29T23:50:55.170Z"
   },
   {
    "duration": 48,
    "start_time": "2022-11-29T23:50:55.428Z"
   },
   {
    "duration": 349,
    "start_time": "2022-11-29T23:50:55.477Z"
   },
   {
    "duration": 8,
    "start_time": "2022-11-29T23:50:55.827Z"
   },
   {
    "duration": 285,
    "start_time": "2022-11-29T23:50:55.836Z"
   },
   {
    "duration": 11,
    "start_time": "2022-11-29T23:50:56.123Z"
   },
   {
    "duration": 76,
    "start_time": "2022-11-29T23:50:56.135Z"
   },
   {
    "duration": 3,
    "start_time": "2022-11-29T23:50:56.212Z"
   },
   {
    "duration": 131,
    "start_time": "2022-11-29T23:52:01.932Z"
   },
   {
    "duration": 249,
    "start_time": "2022-11-29T23:55:22.993Z"
   },
   {
    "duration": 11,
    "start_time": "2022-11-29T23:57:56.348Z"
   },
   {
    "duration": 111,
    "start_time": "2022-11-30T00:00:07.205Z"
   },
   {
    "duration": 274,
    "start_time": "2022-11-30T00:00:11.773Z"
   },
   {
    "duration": 214,
    "start_time": "2022-11-30T00:00:21.891Z"
   },
   {
    "duration": 3,
    "start_time": "2022-11-30T00:04:47.123Z"
   },
   {
    "duration": 15,
    "start_time": "2022-11-30T00:11:36.660Z"
   },
   {
    "duration": 62,
    "start_time": "2022-11-30T00:12:44.365Z"
   },
   {
    "duration": 2,
    "start_time": "2022-11-30T00:13:26.598Z"
   },
   {
    "duration": 3,
    "start_time": "2022-11-30T00:14:17.416Z"
   },
   {
    "duration": 88,
    "start_time": "2022-11-30T00:14:44.599Z"
   },
   {
    "duration": 352354,
    "start_time": "2022-11-30T00:14:59.535Z"
   },
   {
    "duration": 10,
    "start_time": "2022-11-30T00:25:09.101Z"
   },
   {
    "duration": 9775,
    "start_time": "2022-11-30T00:25:56.604Z"
   },
   {
    "duration": 9708,
    "start_time": "2022-11-30T00:26:28.086Z"
   },
   {
    "duration": 3,
    "start_time": "2022-11-30T00:26:39.191Z"
   },
   {
    "duration": 9,
    "start_time": "2022-11-30T01:11:10.056Z"
   },
   {
    "duration": 174,
    "start_time": "2022-11-30T01:11:19.533Z"
   },
   {
    "duration": 18,
    "start_time": "2022-11-30T01:11:28.799Z"
   },
   {
    "duration": 4,
    "start_time": "2022-11-30T01:14:58.493Z"
   },
   {
    "duration": 35800,
    "start_time": "2022-11-30T01:15:25.732Z"
   },
   {
    "duration": 3,
    "start_time": "2022-11-30T01:18:41.776Z"
   },
   {
    "duration": 375645,
    "start_time": "2022-11-30T01:18:46.369Z"
   },
   {
    "duration": 8099,
    "start_time": "2022-11-30T01:30:16.111Z"
   },
   {
    "duration": 1606,
    "start_time": "2022-11-30T10:08:26.381Z"
   },
   {
    "duration": 4,
    "start_time": "2022-11-30T10:08:27.989Z"
   },
   {
    "duration": 8,
    "start_time": "2022-11-30T10:08:27.994Z"
   },
   {
    "duration": 10,
    "start_time": "2022-11-30T10:08:28.004Z"
   },
   {
    "duration": 6,
    "start_time": "2022-11-30T10:08:28.016Z"
   },
   {
    "duration": 8,
    "start_time": "2022-11-30T10:08:28.024Z"
   },
   {
    "duration": 6,
    "start_time": "2022-11-30T10:08:28.033Z"
   },
   {
    "duration": 2961,
    "start_time": "2022-11-30T10:08:28.040Z"
   },
   {
    "duration": 249,
    "start_time": "2022-11-30T10:08:31.003Z"
   },
   {
    "duration": 43,
    "start_time": "2022-11-30T10:08:31.253Z"
   },
   {
    "duration": 198,
    "start_time": "2022-11-30T10:08:31.298Z"
   },
   {
    "duration": 128,
    "start_time": "2022-11-30T10:08:31.498Z"
   },
   {
    "duration": 182,
    "start_time": "2022-11-30T10:08:31.628Z"
   },
   {
    "duration": 343,
    "start_time": "2022-11-30T10:08:31.813Z"
   },
   {
    "duration": 68,
    "start_time": "2022-11-30T10:08:32.158Z"
   },
   {
    "duration": 43,
    "start_time": "2022-11-30T10:08:32.227Z"
   },
   {
    "duration": 399,
    "start_time": "2022-11-30T10:08:32.272Z"
   },
   {
    "duration": 46,
    "start_time": "2022-11-30T10:08:32.673Z"
   },
   {
    "duration": 321,
    "start_time": "2022-11-30T10:08:32.721Z"
   },
   {
    "duration": 12,
    "start_time": "2022-11-30T10:08:33.044Z"
   },
   {
    "duration": 355,
    "start_time": "2022-11-30T10:08:33.058Z"
   },
   {
    "duration": 11,
    "start_time": "2022-11-30T10:08:33.415Z"
   },
   {
    "duration": 73,
    "start_time": "2022-11-30T10:08:33.428Z"
   },
   {
    "duration": 301,
    "start_time": "2022-11-30T10:08:33.503Z"
   },
   {
    "duration": 10,
    "start_time": "2022-11-30T10:08:33.806Z"
   },
   {
    "duration": 333,
    "start_time": "2022-11-30T10:08:33.818Z"
   },
   {
    "duration": 238,
    "start_time": "2022-11-30T10:08:34.153Z"
   },
   {
    "duration": 3,
    "start_time": "2022-11-30T10:08:34.393Z"
   },
   {
    "duration": 18,
    "start_time": "2022-11-30T10:08:34.398Z"
   },
   {
    "duration": 83,
    "start_time": "2022-11-30T10:08:34.418Z"
   },
   {
    "duration": 3,
    "start_time": "2022-11-30T10:08:34.503Z"
   },
   {
    "duration": 23,
    "start_time": "2022-11-30T10:08:34.507Z"
   },
   {
    "duration": 393697,
    "start_time": "2022-11-30T10:08:34.532Z"
   },
   {
    "duration": 11746,
    "start_time": "2022-11-30T10:15:08.231Z"
   },
   {
    "duration": 212,
    "start_time": "2022-11-30T10:15:19.979Z"
   },
   {
    "duration": 4,
    "start_time": "2022-11-30T10:15:20.192Z"
   },
   {
    "duration": 827956,
    "start_time": "2022-11-30T10:15:20.197Z"
   },
   {
    "duration": 6810,
    "start_time": "2022-11-30T10:29:08.155Z"
   },
   {
    "duration": 4,
    "start_time": "2022-11-30T10:32:18.400Z"
   },
   {
    "duration": 3151,
    "start_time": "2022-11-30T10:32:56.362Z"
   },
   {
    "duration": 13,
    "start_time": "2022-11-30T10:35:54.867Z"
   },
   {
    "duration": 95,
    "start_time": "2022-11-30T10:36:11.294Z"
   },
   {
    "duration": 151,
    "start_time": "2022-11-30T10:36:14.579Z"
   },
   {
    "duration": 3135,
    "start_time": "2022-11-30T10:36:23.310Z"
   },
   {
    "duration": 4,
    "start_time": "2022-11-30T10:39:24.338Z"
   },
   {
    "duration": 806,
    "start_time": "2022-11-30T10:39:26.171Z"
   },
   {
    "duration": 4,
    "start_time": "2022-11-30T10:40:51.787Z"
   },
   {
    "duration": 3018,
    "start_time": "2022-11-30T10:40:53.909Z"
   },
   {
    "duration": 1543,
    "start_time": "2022-11-30T10:42:52.315Z"
   },
   {
    "duration": 3,
    "start_time": "2022-11-30T10:42:53.860Z"
   },
   {
    "duration": 10,
    "start_time": "2022-11-30T10:42:53.865Z"
   },
   {
    "duration": 6,
    "start_time": "2022-11-30T10:42:53.877Z"
   },
   {
    "duration": 8,
    "start_time": "2022-11-30T10:42:53.885Z"
   },
   {
    "duration": 9,
    "start_time": "2022-11-30T10:42:53.895Z"
   },
   {
    "duration": 7,
    "start_time": "2022-11-30T10:42:53.906Z"
   },
   {
    "duration": 837,
    "start_time": "2022-11-30T10:42:53.914Z"
   },
   {
    "duration": 249,
    "start_time": "2022-11-30T10:42:54.753Z"
   },
   {
    "duration": 41,
    "start_time": "2022-11-30T10:42:55.003Z"
   },
   {
    "duration": 186,
    "start_time": "2022-11-30T10:42:55.051Z"
   },
   {
    "duration": 132,
    "start_time": "2022-11-30T10:42:55.238Z"
   },
   {
    "duration": 181,
    "start_time": "2022-11-30T10:42:55.372Z"
   },
   {
    "duration": 335,
    "start_time": "2022-11-30T10:42:55.556Z"
   },
   {
    "duration": 68,
    "start_time": "2022-11-30T10:42:55.893Z"
   },
   {
    "duration": 25,
    "start_time": "2022-11-30T10:42:55.963Z"
   },
   {
    "duration": 303,
    "start_time": "2022-11-30T10:42:55.990Z"
   },
   {
    "duration": 56,
    "start_time": "2022-11-30T10:42:56.295Z"
   },
   {
    "duration": 390,
    "start_time": "2022-11-30T10:42:56.352Z"
   },
   {
    "duration": 13,
    "start_time": "2022-11-30T10:42:56.745Z"
   },
   {
    "duration": 339,
    "start_time": "2022-11-30T10:42:56.760Z"
   },
   {
    "duration": 11,
    "start_time": "2022-11-30T10:42:57.101Z"
   },
   {
    "duration": 76,
    "start_time": "2022-11-30T10:42:57.114Z"
   },
   {
    "duration": 294,
    "start_time": "2022-11-30T10:42:57.192Z"
   },
   {
    "duration": 164,
    "start_time": "2022-11-30T10:42:57.487Z"
   },
   {
    "duration": 3,
    "start_time": "2022-11-30T10:42:57.653Z"
   },
   {
    "duration": 22,
    "start_time": "2022-11-30T10:42:57.657Z"
   },
   {
    "duration": 82,
    "start_time": "2022-11-30T10:42:57.681Z"
   },
   {
    "duration": 3,
    "start_time": "2022-11-30T10:42:57.765Z"
   },
   {
    "duration": 8,
    "start_time": "2022-11-30T10:42:57.769Z"
   },
   {
    "duration": 393742,
    "start_time": "2022-11-30T10:42:57.778Z"
   },
   {
    "duration": 10748,
    "start_time": "2022-11-30T10:49:31.522Z"
   },
   {
    "duration": 178,
    "start_time": "2022-11-30T10:49:42.272Z"
   },
   {
    "duration": 3,
    "start_time": "2022-11-30T10:49:42.452Z"
   },
   {
    "duration": 1470896,
    "start_time": "2022-11-30T10:49:42.457Z"
   },
   {
    "duration": 52696,
    "start_time": "2022-11-30T11:14:13.355Z"
   },
   {
    "duration": 3,
    "start_time": "2022-11-30T11:15:06.053Z"
   },
   {
    "duration": 51728,
    "start_time": "2022-11-30T11:15:06.058Z"
   },
   {
    "duration": 1447,
    "start_time": "2022-11-30T11:19:32.903Z"
   },
   {
    "duration": 10,
    "start_time": "2022-11-30T11:20:10.733Z"
   },
   {
    "duration": 1622,
    "start_time": "2022-12-01T15:50:21.130Z"
   },
   {
    "duration": 3,
    "start_time": "2022-12-01T15:50:22.754Z"
   },
   {
    "duration": 9,
    "start_time": "2022-12-01T15:50:22.759Z"
   },
   {
    "duration": 10,
    "start_time": "2022-12-01T15:50:22.770Z"
   },
   {
    "duration": 9,
    "start_time": "2022-12-01T15:50:22.782Z"
   },
   {
    "duration": 14,
    "start_time": "2022-12-01T15:50:22.793Z"
   },
   {
    "duration": 8,
    "start_time": "2022-12-01T15:50:22.808Z"
   },
   {
    "duration": 11,
    "start_time": "2022-12-01T15:50:22.817Z"
   },
   {
    "duration": 1045,
    "start_time": "2022-12-01T15:50:22.829Z"
   },
   {
    "duration": 238,
    "start_time": "2022-12-01T15:50:23.876Z"
   },
   {
    "duration": 39,
    "start_time": "2022-12-01T15:50:24.115Z"
   },
   {
    "duration": 177,
    "start_time": "2022-12-01T15:50:24.156Z"
   },
   {
    "duration": 122,
    "start_time": "2022-12-01T15:50:24.334Z"
   },
   {
    "duration": 219,
    "start_time": "2022-12-01T15:50:24.458Z"
   },
   {
    "duration": 407,
    "start_time": "2022-12-01T15:50:24.678Z"
   },
   {
    "duration": 72,
    "start_time": "2022-12-01T15:50:25.087Z"
   },
   {
    "duration": 38,
    "start_time": "2022-12-01T15:50:25.161Z"
   },
   {
    "duration": 320,
    "start_time": "2022-12-01T15:50:25.201Z"
   },
   {
    "duration": 40,
    "start_time": "2022-12-01T15:50:25.523Z"
   },
   {
    "duration": 297,
    "start_time": "2022-12-01T15:50:25.565Z"
   },
   {
    "duration": 10,
    "start_time": "2022-12-01T15:50:25.864Z"
   },
   {
    "duration": 323,
    "start_time": "2022-12-01T15:50:25.876Z"
   },
   {
    "duration": 10,
    "start_time": "2022-12-01T15:50:26.200Z"
   },
   {
    "duration": 55,
    "start_time": "2022-12-01T15:50:26.212Z"
   },
   {
    "duration": 283,
    "start_time": "2022-12-01T15:50:26.269Z"
   },
   {
    "duration": 167,
    "start_time": "2022-12-01T15:50:26.554Z"
   },
   {
    "duration": 4,
    "start_time": "2022-12-01T15:50:26.722Z"
   },
   {
    "duration": 21,
    "start_time": "2022-12-01T15:50:26.729Z"
   },
   {
    "duration": 78,
    "start_time": "2022-12-01T15:50:26.751Z"
   },
   {
    "duration": 2,
    "start_time": "2022-12-01T15:50:26.831Z"
   },
   {
    "duration": 7,
    "start_time": "2022-12-01T15:50:26.835Z"
   },
   {
    "duration": 361179,
    "start_time": "2022-12-01T15:50:26.843Z"
   },
   {
    "duration": 10860,
    "start_time": "2022-12-01T15:56:28.024Z"
   },
   {
    "duration": 214,
    "start_time": "2022-12-01T15:56:38.886Z"
   },
   {
    "duration": 4,
    "start_time": "2022-12-01T15:56:39.102Z"
   },
   {
    "duration": 14556,
    "start_time": "2022-12-01T15:56:39.109Z"
   },
   {
    "duration": 11,
    "start_time": "2022-12-01T15:56:53.667Z"
   },
   {
    "duration": 0,
    "start_time": "2022-12-01T15:56:53.680Z"
   },
   {
    "duration": 0,
    "start_time": "2022-12-01T15:56:53.681Z"
   },
   {
    "duration": 0,
    "start_time": "2022-12-01T15:56:53.683Z"
   },
   {
    "duration": 0,
    "start_time": "2022-12-01T15:56:53.685Z"
   },
   {
    "duration": 1282,
    "start_time": "2022-12-01T16:04:12.230Z"
   },
   {
    "duration": 3,
    "start_time": "2022-12-01T16:04:13.514Z"
   },
   {
    "duration": 6,
    "start_time": "2022-12-01T16:04:13.518Z"
   },
   {
    "duration": 9,
    "start_time": "2022-12-01T16:04:13.526Z"
   },
   {
    "duration": 11,
    "start_time": "2022-12-01T16:04:13.536Z"
   },
   {
    "duration": 6,
    "start_time": "2022-12-01T16:04:13.548Z"
   },
   {
    "duration": 12,
    "start_time": "2022-12-01T16:04:13.555Z"
   },
   {
    "duration": 8,
    "start_time": "2022-12-01T16:04:13.568Z"
   },
   {
    "duration": 744,
    "start_time": "2022-12-01T16:04:13.577Z"
   },
   {
    "duration": 297,
    "start_time": "2022-12-01T16:04:14.323Z"
   },
   {
    "duration": 48,
    "start_time": "2022-12-01T16:04:14.621Z"
   },
   {
    "duration": 196,
    "start_time": "2022-12-01T16:04:14.670Z"
   },
   {
    "duration": 130,
    "start_time": "2022-12-01T16:04:14.867Z"
   },
   {
    "duration": 166,
    "start_time": "2022-12-01T16:04:14.999Z"
   },
   {
    "duration": 318,
    "start_time": "2022-12-01T16:04:15.167Z"
   },
   {
    "duration": 51,
    "start_time": "2022-12-01T16:04:15.487Z"
   },
   {
    "duration": 24,
    "start_time": "2022-12-01T16:04:15.539Z"
   },
   {
    "duration": 300,
    "start_time": "2022-12-01T16:04:15.565Z"
   },
   {
    "duration": 47,
    "start_time": "2022-12-01T16:04:15.866Z"
   },
   {
    "duration": 353,
    "start_time": "2022-12-01T16:04:15.915Z"
   },
   {
    "duration": 7,
    "start_time": "2022-12-01T16:04:16.270Z"
   },
   {
    "duration": 292,
    "start_time": "2022-12-01T16:04:16.279Z"
   },
   {
    "duration": 9,
    "start_time": "2022-12-01T16:04:16.573Z"
   },
   {
    "duration": 67,
    "start_time": "2022-12-01T16:04:16.583Z"
   },
   {
    "duration": 263,
    "start_time": "2022-12-01T16:04:16.652Z"
   },
   {
    "duration": 145,
    "start_time": "2022-12-01T16:04:16.917Z"
   },
   {
    "duration": 3,
    "start_time": "2022-12-01T16:04:17.064Z"
   },
   {
    "duration": 31,
    "start_time": "2022-12-01T16:04:17.069Z"
   },
   {
    "duration": 63,
    "start_time": "2022-12-01T16:04:17.102Z"
   },
   {
    "duration": 2,
    "start_time": "2022-12-01T16:04:17.167Z"
   },
   {
    "duration": 13,
    "start_time": "2022-12-01T16:04:17.170Z"
   },
   {
    "duration": 352936,
    "start_time": "2022-12-01T16:04:17.184Z"
   },
   {
    "duration": 10232,
    "start_time": "2022-12-01T16:10:10.121Z"
   },
   {
    "duration": 0,
    "start_time": "2022-12-01T16:10:20.355Z"
   },
   {
    "duration": 1,
    "start_time": "2022-12-01T16:10:20.356Z"
   },
   {
    "duration": 0,
    "start_time": "2022-12-01T16:10:20.358Z"
   },
   {
    "duration": 0,
    "start_time": "2022-12-01T16:10:20.359Z"
   },
   {
    "duration": 0,
    "start_time": "2022-12-01T16:10:20.361Z"
   },
   {
    "duration": 0,
    "start_time": "2022-12-01T16:10:20.362Z"
   },
   {
    "duration": 0,
    "start_time": "2022-12-01T16:10:20.363Z"
   },
   {
    "duration": 0,
    "start_time": "2022-12-01T16:10:20.364Z"
   },
   {
    "duration": 4,
    "start_time": "2022-12-01T16:12:34.101Z"
   },
   {
    "duration": 8,
    "start_time": "2022-12-01T16:12:45.805Z"
   },
   {
    "duration": 3,
    "start_time": "2022-12-01T16:12:48.054Z"
   },
   {
    "duration": 266922,
    "start_time": "2022-12-01T16:13:24.726Z"
   },
   {
    "duration": 5,
    "start_time": "2022-12-01T16:17:54.986Z"
   },
   {
    "duration": 5,
    "start_time": "2022-12-01T16:18:02.844Z"
   },
   {
    "duration": 1390,
    "start_time": "2022-12-01T16:18:13.304Z"
   },
   {
    "duration": 4,
    "start_time": "2022-12-01T16:18:14.695Z"
   },
   {
    "duration": 54,
    "start_time": "2022-12-01T16:18:14.700Z"
   },
   {
    "duration": 35,
    "start_time": "2022-12-01T16:18:14.757Z"
   },
   {
    "duration": 27,
    "start_time": "2022-12-01T16:18:14.794Z"
   },
   {
    "duration": 23,
    "start_time": "2022-12-01T16:18:14.822Z"
   },
   {
    "duration": 18,
    "start_time": "2022-12-01T16:18:14.846Z"
   },
   {
    "duration": 26,
    "start_time": "2022-12-01T16:18:14.866Z"
   },
   {
    "duration": 767,
    "start_time": "2022-12-01T16:18:14.893Z"
   },
   {
    "duration": 224,
    "start_time": "2022-12-01T16:18:15.662Z"
   },
   {
    "duration": 43,
    "start_time": "2022-12-01T16:18:15.888Z"
   },
   {
    "duration": 171,
    "start_time": "2022-12-01T16:18:15.933Z"
   },
   {
    "duration": 120,
    "start_time": "2022-12-01T16:18:16.106Z"
   },
   {
    "duration": 159,
    "start_time": "2022-12-01T16:18:16.227Z"
   },
   {
    "duration": 286,
    "start_time": "2022-12-01T16:18:16.389Z"
   },
   {
    "duration": 59,
    "start_time": "2022-12-01T16:18:16.677Z"
   },
   {
    "duration": 23,
    "start_time": "2022-12-01T16:18:16.738Z"
   },
   {
    "duration": 258,
    "start_time": "2022-12-01T16:18:16.763Z"
   },
   {
    "duration": 42,
    "start_time": "2022-12-01T16:18:17.023Z"
   },
   {
    "duration": 326,
    "start_time": "2022-12-01T16:18:17.067Z"
   },
   {
    "duration": 8,
    "start_time": "2022-12-01T16:18:17.396Z"
   },
   {
    "duration": 271,
    "start_time": "2022-12-01T16:18:17.405Z"
   },
   {
    "duration": 9,
    "start_time": "2022-12-01T16:18:17.678Z"
   },
   {
    "duration": 49,
    "start_time": "2022-12-01T16:18:17.697Z"
   },
   {
    "duration": 264,
    "start_time": "2022-12-01T16:18:17.747Z"
   },
   {
    "duration": 139,
    "start_time": "2022-12-01T16:18:18.013Z"
   },
   {
    "duration": 2,
    "start_time": "2022-12-01T16:18:18.154Z"
   },
   {
    "duration": 17,
    "start_time": "2022-12-01T16:18:18.159Z"
   },
   {
    "duration": 77,
    "start_time": "2022-12-01T16:18:18.178Z"
   },
   {
    "duration": 3,
    "start_time": "2022-12-01T16:18:18.257Z"
   },
   {
    "duration": 8,
    "start_time": "2022-12-01T16:18:18.261Z"
   },
   {
    "duration": 353662,
    "start_time": "2022-12-01T16:18:18.270Z"
   },
   {
    "duration": 4,
    "start_time": "2022-12-01T16:24:11.934Z"
   },
   {
    "duration": 5,
    "start_time": "2022-12-01T16:24:11.941Z"
   },
   {
    "duration": 13225,
    "start_time": "2022-12-01T16:24:11.947Z"
   },
   {
    "duration": 0,
    "start_time": "2022-12-01T16:24:25.174Z"
   },
   {
    "duration": 0,
    "start_time": "2022-12-01T16:24:25.176Z"
   },
   {
    "duration": 0,
    "start_time": "2022-12-01T16:24:25.177Z"
   },
   {
    "duration": 0,
    "start_time": "2022-12-01T16:24:25.179Z"
   },
   {
    "duration": 0,
    "start_time": "2022-12-01T16:24:25.180Z"
   },
   {
    "duration": 0,
    "start_time": "2022-12-01T16:24:25.181Z"
   },
   {
    "duration": 0,
    "start_time": "2022-12-01T16:24:25.182Z"
   },
   {
    "duration": 0,
    "start_time": "2022-12-01T16:24:25.183Z"
   },
   {
    "duration": 0,
    "start_time": "2022-12-01T16:24:25.198Z"
   },
   {
    "duration": 4,
    "start_time": "2022-12-01T16:25:00.100Z"
   },
   {
    "duration": 3,
    "start_time": "2022-12-01T16:25:14.220Z"
   },
   {
    "duration": 3,
    "start_time": "2022-12-01T16:25:19.068Z"
   },
   {
    "duration": 3,
    "start_time": "2022-12-01T16:25:28.221Z"
   },
   {
    "duration": 4,
    "start_time": "2022-12-01T16:25:34.573Z"
   },
   {
    "duration": 4,
    "start_time": "2022-12-01T16:25:43.309Z"
   },
   {
    "duration": 4,
    "start_time": "2022-12-01T16:25:46.116Z"
   },
   {
    "duration": 6,
    "start_time": "2022-12-01T16:25:57.596Z"
   },
   {
    "duration": 4,
    "start_time": "2022-12-01T16:26:01.564Z"
   },
   {
    "duration": 4,
    "start_time": "2022-12-01T16:26:31.087Z"
   },
   {
    "duration": 376107,
    "start_time": "2022-12-01T16:26:36.998Z"
   },
   {
    "duration": 4,
    "start_time": "2022-12-01T16:34:20.883Z"
   },
   {
    "duration": 5,
    "start_time": "2022-12-01T16:34:25.911Z"
   },
   {
    "duration": 9,
    "start_time": "2022-12-01T16:34:55.353Z"
   },
   {
    "duration": 12,
    "start_time": "2022-12-01T16:35:07.617Z"
   },
   {
    "duration": 13,
    "start_time": "2022-12-01T16:36:30.202Z"
   },
   {
    "duration": 12,
    "start_time": "2022-12-01T16:36:34.242Z"
   },
   {
    "duration": 43,
    "start_time": "2022-12-01T16:36:39.754Z"
   },
   {
    "duration": 11,
    "start_time": "2022-12-01T16:36:42.195Z"
   },
   {
    "duration": 10,
    "start_time": "2022-12-01T16:37:20.227Z"
   },
   {
    "duration": 5,
    "start_time": "2022-12-01T16:37:25.884Z"
   },
   {
    "duration": 9,
    "start_time": "2022-12-01T16:42:47.468Z"
   },
   {
    "duration": 5,
    "start_time": "2022-12-01T16:43:41.474Z"
   },
   {
    "duration": 4,
    "start_time": "2022-12-01T16:44:26.812Z"
   },
   {
    "duration": 4,
    "start_time": "2022-12-01T16:45:06.386Z"
   },
   {
    "duration": 10401,
    "start_time": "2022-12-01T16:45:20.122Z"
   },
   {
    "duration": 4,
    "start_time": "2022-12-01T16:46:47.561Z"
   },
   {
    "duration": 10225,
    "start_time": "2022-12-01T16:46:51.575Z"
   },
   {
    "duration": 3,
    "start_time": "2022-12-01T16:48:07.588Z"
   },
   {
    "duration": 4,
    "start_time": "2022-12-01T16:52:21.536Z"
   },
   {
    "duration": 4,
    "start_time": "2022-12-01T16:52:31.782Z"
   },
   {
    "duration": 400,
    "start_time": "2022-12-01T16:53:43.401Z"
   },
   {
    "duration": 397,
    "start_time": "2022-12-01T16:53:49.640Z"
   },
   {
    "duration": 432,
    "start_time": "2022-12-01T16:54:00.433Z"
   },
   {
    "duration": 13,
    "start_time": "2022-12-01T16:54:34.626Z"
   },
   {
    "duration": 418,
    "start_time": "2022-12-01T16:54:42.186Z"
   },
   {
    "duration": 4,
    "start_time": "2022-12-01T16:54:52.385Z"
   },
   {
    "duration": 9786,
    "start_time": "2022-12-01T16:54:58.234Z"
   },
   {
    "duration": 191060,
    "start_time": "2022-12-01T16:55:18.227Z"
   },
   {
    "duration": 3,
    "start_time": "2022-12-01T16:58:32.262Z"
   },
   {
    "duration": 10,
    "start_time": "2022-12-01T16:58:40.331Z"
   },
   {
    "duration": 3,
    "start_time": "2022-12-01T16:58:45.970Z"
   },
   {
    "duration": 4,
    "start_time": "2022-12-01T16:58:48.086Z"
   },
   {
    "duration": 1271,
    "start_time": "2022-12-01T16:59:17.331Z"
   },
   {
    "duration": 2,
    "start_time": "2022-12-01T16:59:18.604Z"
   },
   {
    "duration": 9,
    "start_time": "2022-12-01T16:59:18.608Z"
   },
   {
    "duration": 11,
    "start_time": "2022-12-01T16:59:18.618Z"
   },
   {
    "duration": 34,
    "start_time": "2022-12-01T16:59:18.631Z"
   },
   {
    "duration": 7,
    "start_time": "2022-12-01T16:59:18.666Z"
   },
   {
    "duration": 6,
    "start_time": "2022-12-01T16:59:18.674Z"
   },
   {
    "duration": 10,
    "start_time": "2022-12-01T16:59:18.681Z"
   },
   {
    "duration": 773,
    "start_time": "2022-12-01T16:59:18.692Z"
   },
   {
    "duration": 217,
    "start_time": "2022-12-01T16:59:19.466Z"
   },
   {
    "duration": 38,
    "start_time": "2022-12-01T16:59:19.685Z"
   },
   {
    "duration": 155,
    "start_time": "2022-12-01T16:59:19.725Z"
   },
   {
    "duration": 121,
    "start_time": "2022-12-01T16:59:19.881Z"
   },
   {
    "duration": 175,
    "start_time": "2022-12-01T16:59:20.004Z"
   },
   {
    "duration": 286,
    "start_time": "2022-12-01T16:59:20.181Z"
   },
   {
    "duration": 59,
    "start_time": "2022-12-01T16:59:20.469Z"
   },
   {
    "duration": 25,
    "start_time": "2022-12-01T16:59:20.530Z"
   },
   {
    "duration": 260,
    "start_time": "2022-12-01T16:59:20.556Z"
   },
   {
    "duration": 43,
    "start_time": "2022-12-01T16:59:20.817Z"
   },
   {
    "duration": 356,
    "start_time": "2022-12-01T16:59:20.862Z"
   },
   {
    "duration": 9,
    "start_time": "2022-12-01T16:59:21.219Z"
   },
   {
    "duration": 304,
    "start_time": "2022-12-01T16:59:21.229Z"
   },
   {
    "duration": 10,
    "start_time": "2022-12-01T16:59:21.535Z"
   },
   {
    "duration": 72,
    "start_time": "2022-12-01T16:59:21.547Z"
   },
   {
    "duration": 254,
    "start_time": "2022-12-01T16:59:21.621Z"
   },
   {
    "duration": 161,
    "start_time": "2022-12-01T16:59:21.877Z"
   },
   {
    "duration": 3,
    "start_time": "2022-12-01T16:59:22.040Z"
   },
   {
    "duration": 27,
    "start_time": "2022-12-01T16:59:22.044Z"
   },
   {
    "duration": 72,
    "start_time": "2022-12-01T16:59:22.072Z"
   },
   {
    "duration": 3,
    "start_time": "2022-12-01T16:59:22.146Z"
   },
   {
    "duration": 10,
    "start_time": "2022-12-01T16:59:22.151Z"
   },
   {
    "duration": 283646,
    "start_time": "2022-12-01T16:59:22.163Z"
   },
   {
    "duration": 15,
    "start_time": "2022-12-01T17:04:05.811Z"
   },
   {
    "duration": 0,
    "start_time": "2022-12-01T17:04:05.828Z"
   },
   {
    "duration": 0,
    "start_time": "2022-12-01T17:04:05.829Z"
   },
   {
    "duration": 0,
    "start_time": "2022-12-01T17:04:05.830Z"
   },
   {
    "duration": 0,
    "start_time": "2022-12-01T17:04:05.831Z"
   },
   {
    "duration": 0,
    "start_time": "2022-12-01T17:04:05.832Z"
   },
   {
    "duration": 0,
    "start_time": "2022-12-01T17:04:05.834Z"
   },
   {
    "duration": 0,
    "start_time": "2022-12-01T17:04:05.835Z"
   },
   {
    "duration": 0,
    "start_time": "2022-12-01T17:04:05.836Z"
   },
   {
    "duration": 0,
    "start_time": "2022-12-01T17:04:05.837Z"
   },
   {
    "duration": 0,
    "start_time": "2022-12-01T17:04:05.838Z"
   },
   {
    "duration": 1306,
    "start_time": "2022-12-01T17:04:56.533Z"
   },
   {
    "duration": 3,
    "start_time": "2022-12-01T17:04:57.842Z"
   },
   {
    "duration": 24,
    "start_time": "2022-12-01T17:04:57.846Z"
   },
   {
    "duration": 19,
    "start_time": "2022-12-01T17:04:57.872Z"
   },
   {
    "duration": 36,
    "start_time": "2022-12-01T17:04:57.892Z"
   },
   {
    "duration": 33,
    "start_time": "2022-12-01T17:04:57.930Z"
   },
   {
    "duration": 29,
    "start_time": "2022-12-01T17:04:57.965Z"
   },
   {
    "duration": 15,
    "start_time": "2022-12-01T17:04:57.996Z"
   },
   {
    "duration": 771,
    "start_time": "2022-12-01T17:04:58.012Z"
   },
   {
    "duration": 230,
    "start_time": "2022-12-01T17:04:58.786Z"
   },
   {
    "duration": 43,
    "start_time": "2022-12-01T17:04:59.018Z"
   },
   {
    "duration": 188,
    "start_time": "2022-12-01T17:04:59.063Z"
   },
   {
    "duration": 124,
    "start_time": "2022-12-01T17:04:59.252Z"
   },
   {
    "duration": 160,
    "start_time": "2022-12-01T17:04:59.377Z"
   },
   {
    "duration": 308,
    "start_time": "2022-12-01T17:04:59.538Z"
   },
   {
    "duration": 50,
    "start_time": "2022-12-01T17:04:59.847Z"
   },
   {
    "duration": 23,
    "start_time": "2022-12-01T17:04:59.899Z"
   },
   {
    "duration": 296,
    "start_time": "2022-12-01T17:04:59.924Z"
   },
   {
    "duration": 43,
    "start_time": "2022-12-01T17:05:00.221Z"
   },
   {
    "duration": 365,
    "start_time": "2022-12-01T17:05:00.265Z"
   },
   {
    "duration": 8,
    "start_time": "2022-12-01T17:05:00.631Z"
   },
   {
    "duration": 304,
    "start_time": "2022-12-01T17:05:00.640Z"
   },
   {
    "duration": 11,
    "start_time": "2022-12-01T17:05:00.945Z"
   },
   {
    "duration": 81,
    "start_time": "2022-12-01T17:05:00.957Z"
   },
   {
    "duration": 266,
    "start_time": "2022-12-01T17:05:01.040Z"
   },
   {
    "duration": 143,
    "start_time": "2022-12-01T17:05:01.307Z"
   },
   {
    "duration": 3,
    "start_time": "2022-12-01T17:05:01.452Z"
   },
   {
    "duration": 74,
    "start_time": "2022-12-01T17:05:01.457Z"
   },
   {
    "duration": 128,
    "start_time": "2022-12-01T17:05:01.532Z"
   },
   {
    "duration": 3,
    "start_time": "2022-12-01T17:05:01.661Z"
   },
   {
    "duration": 51,
    "start_time": "2022-12-01T17:05:01.665Z"
   },
   {
    "duration": 352160,
    "start_time": "2022-12-01T17:05:01.718Z"
   },
   {
    "duration": 118,
    "start_time": "2022-12-01T17:10:53.880Z"
   },
   {
    "duration": 0,
    "start_time": "2022-12-01T17:10:54.000Z"
   },
   {
    "duration": 0,
    "start_time": "2022-12-01T17:10:54.001Z"
   },
   {
    "duration": 0,
    "start_time": "2022-12-01T17:10:54.003Z"
   },
   {
    "duration": 0,
    "start_time": "2022-12-01T17:10:54.004Z"
   },
   {
    "duration": 0,
    "start_time": "2022-12-01T17:10:54.005Z"
   },
   {
    "duration": 0,
    "start_time": "2022-12-01T17:10:54.006Z"
   },
   {
    "duration": 0,
    "start_time": "2022-12-01T17:10:54.007Z"
   },
   {
    "duration": 0,
    "start_time": "2022-12-01T17:10:54.008Z"
   },
   {
    "duration": 0,
    "start_time": "2022-12-01T17:10:54.009Z"
   },
   {
    "duration": 0,
    "start_time": "2022-12-01T17:10:54.011Z"
   },
   {
    "duration": 1321,
    "start_time": "2022-12-01T17:15:36.055Z"
   },
   {
    "duration": 3,
    "start_time": "2022-12-01T17:15:37.378Z"
   },
   {
    "duration": 27,
    "start_time": "2022-12-01T17:15:37.382Z"
   },
   {
    "duration": 8,
    "start_time": "2022-12-01T17:15:37.411Z"
   },
   {
    "duration": 8,
    "start_time": "2022-12-01T17:15:37.420Z"
   },
   {
    "duration": 11,
    "start_time": "2022-12-01T17:15:37.429Z"
   },
   {
    "duration": 6,
    "start_time": "2022-12-01T17:15:37.442Z"
   },
   {
    "duration": 15,
    "start_time": "2022-12-01T17:15:37.449Z"
   },
   {
    "duration": 788,
    "start_time": "2022-12-01T17:15:37.465Z"
   },
   {
    "duration": 227,
    "start_time": "2022-12-01T17:15:38.255Z"
   },
   {
    "duration": 42,
    "start_time": "2022-12-01T17:15:38.484Z"
   },
   {
    "duration": 178,
    "start_time": "2022-12-01T17:15:38.527Z"
   },
   {
    "duration": 141,
    "start_time": "2022-12-01T17:15:38.707Z"
   },
   {
    "duration": 167,
    "start_time": "2022-12-01T17:15:38.851Z"
   },
   {
    "duration": 293,
    "start_time": "2022-12-01T17:15:39.020Z"
   },
   {
    "duration": 36,
    "start_time": "2022-12-01T17:15:39.315Z"
   },
   {
    "duration": 26,
    "start_time": "2022-12-01T17:15:39.353Z"
   },
   {
    "duration": 278,
    "start_time": "2022-12-01T17:15:39.381Z"
   },
   {
    "duration": 60,
    "start_time": "2022-12-01T17:15:39.660Z"
   },
   {
    "duration": 375,
    "start_time": "2022-12-01T17:15:39.722Z"
   },
   {
    "duration": 10,
    "start_time": "2022-12-01T17:15:40.099Z"
   },
   {
    "duration": 287,
    "start_time": "2022-12-01T17:15:40.110Z"
   },
   {
    "duration": 10,
    "start_time": "2022-12-01T17:15:40.398Z"
   },
   {
    "duration": 60,
    "start_time": "2022-12-01T17:15:40.409Z"
   },
   {
    "duration": 251,
    "start_time": "2022-12-01T17:15:40.470Z"
   },
   {
    "duration": 147,
    "start_time": "2022-12-01T17:15:40.723Z"
   },
   {
    "duration": 3,
    "start_time": "2022-12-01T17:15:40.872Z"
   },
   {
    "duration": 28,
    "start_time": "2022-12-01T17:15:40.877Z"
   },
   {
    "duration": 68,
    "start_time": "2022-12-01T17:15:40.906Z"
   },
   {
    "duration": 3,
    "start_time": "2022-12-01T17:15:40.975Z"
   },
   {
    "duration": 26,
    "start_time": "2022-12-01T17:15:40.979Z"
   },
   {
    "duration": 357795,
    "start_time": "2022-12-01T17:15:41.006Z"
   },
   {
    "duration": 2,
    "start_time": "2022-12-01T17:21:38.803Z"
   },
   {
    "duration": 6,
    "start_time": "2022-12-01T17:21:38.807Z"
   },
   {
    "duration": 10,
    "start_time": "2022-12-01T17:21:38.815Z"
   },
   {
    "duration": 177,
    "start_time": "2022-12-01T17:21:38.826Z"
   },
   {
    "duration": 3,
    "start_time": "2022-12-01T17:21:39.005Z"
   },
   {
    "duration": 866189,
    "start_time": "2022-12-01T17:21:39.009Z"
   },
   {
    "duration": 3,
    "start_time": "2022-12-01T17:36:05.200Z"
   },
   {
    "duration": 6,
    "start_time": "2022-12-01T17:36:05.204Z"
   },
   {
    "duration": 43857,
    "start_time": "2022-12-01T17:36:05.213Z"
   },
   {
    "duration": 4,
    "start_time": "2022-12-01T17:36:49.071Z"
   },
   {
    "duration": 24,
    "start_time": "2022-12-01T17:36:49.076Z"
   },
   {
    "duration": 110,
    "start_time": "2022-12-01T17:50:10.179Z"
   },
   {
    "duration": 799,
    "start_time": "2022-12-01T17:50:15.001Z"
   },
   {
    "duration": 748,
    "start_time": "2022-12-01T17:51:05.751Z"
   },
   {
    "duration": 801,
    "start_time": "2022-12-01T17:51:12.517Z"
   },
   {
    "duration": 5,
    "start_time": "2022-12-01T17:52:04.701Z"
   },
   {
    "duration": 42,
    "start_time": "2022-12-01T17:53:21.069Z"
   },
   {
    "duration": 44,
    "start_time": "2022-12-01T17:54:08.174Z"
   }
  ],
  "kernelspec": {
   "display_name": "Python 3 (ipykernel)",
   "language": "python",
   "name": "python3"
  },
  "language_info": {
   "codemirror_mode": {
    "name": "ipython",
    "version": 3
   },
   "file_extension": ".py",
   "mimetype": "text/x-python",
   "name": "python",
   "nbconvert_exporter": "python",
   "pygments_lexer": "ipython3",
   "version": "3.9.5"
  },
  "toc": {
   "base_numbering": 1,
   "nav_menu": {},
   "number_sections": true,
   "sideBar": true,
   "skip_h1_title": true,
   "title_cell": "Table of Contents",
   "title_sidebar": "Contents",
   "toc_cell": false,
   "toc_position": {
    "height": "calc(100% - 180px)",
    "left": "10px",
    "top": "150px",
    "width": "366.188px"
   },
   "toc_section_display": true,
   "toc_window_display": true
  }
 },
 "nbformat": 4,
 "nbformat_minor": 2
}
