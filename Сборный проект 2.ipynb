{
 "cells": [
  {
   "cell_type": "markdown",
   "metadata": {},
   "source": [
    "<div style=\"border:solid Chocolate 2px; padding: 40px\">\n",
    "\n",
    "<b>Родион,\n",
    "привет!👋</b>\n",
    "\n",
    "Меня зовут Александр Куимов, я буду ревьюером твоего проекта. Ты можешь обращаться ко мне на \"ты\"😏 Надеюсь, тебя также не смутит, если я буду обращаться к тебе на \"ты\", но если это неудобно, обязательно скажи об этом!\n",
    "\n",
    "Пожалуйста, не удаляй мои комментарии, они будут особенно полезны для нашей работы в случае повторной проверки проекта. \n",
    "\n",
    "Ты также можешь реагировать на мои комментарии своими, выделяя их цветами и наиболее понравившимся тебе способом оформления, но явно  отличающимся от моих комментариев. Это нужно, чтобы не создавалась путаница😉\n",
    "\n",
    "Ты можешь найти мои комментарии, обозначенные <font color='green'>зеленым</font>, <font color='gold'>желтым</font> и <font color='red'>красным</font> цветами, например:\n",
    "\n",
    "<br/>\n",
    "\n",
    "<div class=\"alert alert-success\">\n",
    "<h2> Комментарий ревьюера <a class=\"tocSkip\"> </h2>\n",
    "\n",
    "<b>Все отлично!👍:</b> В случае, если решение на отдельном шаге является полностью правильным.\n",
    "</div>\n",
    "\n",
    "<br/>\n",
    "\n",
    "<div class=\"alert alert-warning\">\n",
    "    <h2> Комментарий ревьюера <a class=\"tocSkip\"> </h2>\n",
    "    \n",
    "<b>Некоторые замечания и рекомендации💡:</b> В случае, когда решение на отдельном шаге станет еще лучше, если внести небольшие коррективы.\n",
    "</div>\n",
    "\n",
    "\n",
    "<br/>\n",
    "<div class=\"alert alert-block alert-danger\">\n",
    "<h2> Комментарий ревьюера <a class=\"tocSkip\"></h2>\n",
    "\n",
    "    \n",
    "<b>На доработку🤔:</b>\n",
    " В случае, когда решение на отдельном шаге требует существенной переработки и внесения правок. Напоминаю, что проект не может быть принят с первого раза, если ревью содержит комментарии, рекомендующие доработать шаги.\n",
    "</div>\n",
    "    \n",
    "    \n",
    "<br/>    \n",
    "<div class=\"alert alert-info\">\n",
    "<h2> Комментарий студента: <a class=\"tocSkip\"> </h2>\n",
    "\n",
    "<b>👋:</b> В такой цветовой ячейке я прошу тебя оставлять свои комментарии. Если исправляешь проект на второй итерации и выше, не забывай пожалуйста указывать номер итерации, например, \"Комментарий студента v.2\".\n",
    "</div> \n",
    "\n",
    "<br/>    \n",
    "    \n",
    "Увидев у тебя неточность, в первый раз я лишь укажу на ее наличие и дам тебе возможность самому найти и исправить ее. На реальной работе твой руководитель будет поступать также, и я пытаюсь подготовить тебя именно к работе датасаентистом. Но если ты пока не справишься с такой задачей - при следующей проверке я дам более точную подсказку!🤓"
   ]
  },
  {
   "cell_type": "markdown",
   "metadata": {
    "toc": true
   },
   "source": [
    "<h1>Содержание<span class=\"tocSkip\"></span></h1>\n",
    "<div class=\"toc\"><ul class=\"toc-item\"><li><span><a href=\"#Подготовка-данных\" data-toc-modified-id=\"Подготовка-данных-1\"><span class=\"toc-item-num\">1&nbsp;&nbsp;</span>Подготовка данных</a></span><ul class=\"toc-item\"><li><span><a href=\"#Первичное-изучение-данных\" data-toc-modified-id=\"Первичное-изучение-данных-1.1\"><span class=\"toc-item-num\">1.1&nbsp;&nbsp;</span>Первичное изучение данных</a></span></li><li><span><a href=\"#Проверка-рассчёта-эффективности-обогащения-(rougher.output.recovery)\" data-toc-modified-id=\"Проверка-рассчёта-эффективности-обогащения-(rougher.output.recovery)-1.2\"><span class=\"toc-item-num\">1.2&nbsp;&nbsp;</span>Проверка рассчёта эффективности обогащения (rougher.output.recovery)</a></span></li><li><span><a href=\"#Анализ-признаков,-недоступных-в-тестовой-выборке\" data-toc-modified-id=\"Анализ-признаков,-недоступных-в-тестовой-выборке-1.3\"><span class=\"toc-item-num\">1.3&nbsp;&nbsp;</span>Анализ признаков, недоступных в тестовой выборке</a></span></li><li><span><a href=\"#Предобработка-данных\" data-toc-modified-id=\"Предобработка-данных-1.4\"><span class=\"toc-item-num\">1.4&nbsp;&nbsp;</span>Предобработка данных</a></span></li><li><span><a href=\"#Вывод-по-подготовкуе-данных\" data-toc-modified-id=\"Вывод-по-подготовкуе-данных-1.5\"><span class=\"toc-item-num\">1.5&nbsp;&nbsp;</span>Вывод по подготовкуе данных</a></span></li></ul></li><li><span><a href=\"#Анализ-данных\" data-toc-modified-id=\"Анализ-данных-2\"><span class=\"toc-item-num\">2&nbsp;&nbsp;</span>Анализ данных</a></span><ul class=\"toc-item\"><li><span><a href=\"#Анализ-изменения-концентрации-металлов-на-различных-этапах-очистки\" data-toc-modified-id=\"Анализ-изменения-концентрации-металлов-на-различных-этапах-очистки-2.1\"><span class=\"toc-item-num\">2.1&nbsp;&nbsp;</span>Анализ изменения концентрации металлов на различных этапах очистки</a></span></li><li><span><a href=\"#Сравнение-распределения-размеров-гранул-сырья-на-обучающей-и-тестовой-выборках\" data-toc-modified-id=\"Сравнение-распределения-размеров-гранул-сырья-на-обучающей-и-тестовой-выборках-2.2\"><span class=\"toc-item-num\">2.2&nbsp;&nbsp;</span>Сравнение распределения размеров гранул сырья на обучающей и тестовой выборках</a></span></li><li><span><a href=\"#Исследование-суммарной-концентрации-всех-веществ-на-разных-стадиях\" data-toc-modified-id=\"Исследование-суммарной-концентрации-всех-веществ-на-разных-стадиях-2.3\"><span class=\"toc-item-num\">2.3&nbsp;&nbsp;</span>Исследование суммарной концентрации всех веществ на разных стадиях</a></span></li><li><span><a href=\"#Вывод-по-анализу-данных\" data-toc-modified-id=\"Вывод-по-анализу-данных-2.4\"><span class=\"toc-item-num\">2.4&nbsp;&nbsp;</span>Вывод по анализу данных</a></span></li></ul></li><li><span><a href=\"#Модель\" data-toc-modified-id=\"Модель-3\"><span class=\"toc-item-num\">3&nbsp;&nbsp;</span>Модель</a></span><ul class=\"toc-item\"><li><span><a href=\"#Функция-для-расчёта-итогового-sMAPE\" data-toc-modified-id=\"Функция-для-расчёта-итогового-sMAPE-3.1\"><span class=\"toc-item-num\">3.1&nbsp;&nbsp;</span>Функция для расчёта итогового sMAPE</a></span></li><li><span><a href=\"#Подбор-параметров-и-обучение-моделей\" data-toc-modified-id=\"Подбор-параметров-и-обучение-моделей-3.2\"><span class=\"toc-item-num\">3.2&nbsp;&nbsp;</span>Подбор параметров и обучение моделей</a></span><ul class=\"toc-item\"><li><span><a href=\"#Дерево-решений\" data-toc-modified-id=\"Дерево-решений-3.2.1\"><span class=\"toc-item-num\">3.2.1&nbsp;&nbsp;</span>Дерево решений</a></span></li><li><span><a href=\"#Случайный-лес\" data-toc-modified-id=\"Случайный-лес-3.2.2\"><span class=\"toc-item-num\">3.2.2&nbsp;&nbsp;</span>Случайный лес</a></span></li><li><span><a href=\"#Линейная-регрессия\" data-toc-modified-id=\"Линейная-регрессия-3.2.3\"><span class=\"toc-item-num\">3.2.3&nbsp;&nbsp;</span>Линейная регрессия</a></span></li></ul></li><li><span><a href=\"#Проверка-модели-случайного-леса-на-тестовой-выборке\" data-toc-modified-id=\"Проверка-модели-случайного-леса-на-тестовой-выборке-3.3\"><span class=\"toc-item-num\">3.3&nbsp;&nbsp;</span>Проверка модели случайного леса на тестовой выборке</a></span></li></ul></li><li><span><a href=\"#Вывод\" data-toc-modified-id=\"Вывод-4\"><span class=\"toc-item-num\">4&nbsp;&nbsp;</span>Вывод</a></span></li><li><span><a href=\"#Чек-лист-готовности-проекта\" data-toc-modified-id=\"Чек-лист-готовности-проекта-5\"><span class=\"toc-item-num\">5&nbsp;&nbsp;</span>Чек-лист готовности проекта</a></span></li><li><span><a href=\"#Бонус\" data-toc-modified-id=\"Бонус-6\"><span class=\"toc-item-num\">6&nbsp;&nbsp;</span>Бонус</a></span></li></ul></div>"
   ]
  },
  {
   "cell_type": "markdown",
   "metadata": {},
   "source": [
    "# Восстановление золота из руды"
   ]
  },
  {
   "cell_type": "markdown",
   "metadata": {},
   "source": [
    "Подготовьте прототип модели машинного обучения для «Цифры». Компания разрабатывает решения для эффективной работы промышленных предприятий.\n",
    "\n",
    "Модель должна предсказать коэффициент восстановления золота из золотосодержащей руды. Используйте данные с параметрами добычи и очистки. \n",
    "\n",
    "Модель поможет оптимизировать производство, чтобы не запускать предприятие с убыточными характеристиками.\n",
    "\n",
    "Вам нужно:\n",
    "\n",
    "1. Подготовить данные;\n",
    "2. Провести исследовательский анализ данных;\n",
    "3. Построить и обучить модель.\n",
    "\n",
    "Чтобы выполнить проект, обращайтесь к библиотекам *pandas*, *matplotlib* и *sklearn.* Вам поможет их документация."
   ]
  },
  {
   "cell_type": "markdown",
   "metadata": {},
   "source": [
    "<div class=\"alert alert-success\">\n",
    "<h2> Комментарий ревьюера <a class=\"tocSkip\"> </h2>\n",
    "\n",
    "<b>Все отлично!👍:</b> \n",
    "    \n",
    "Вижу твое добавленное описание проекта. Молодец! Это поможет тебе расставлять акценты в выводах."
   ]
  },
  {
   "cell_type": "markdown",
   "metadata": {},
   "source": [
    "## Подготовка данных"
   ]
  },
  {
   "cell_type": "code",
   "execution_count": 1,
   "metadata": {
    "scrolled": true
   },
   "outputs": [],
   "source": [
    "#pip install --no-deps feature_selector"
   ]
  },
  {
   "cell_type": "code",
   "execution_count": 2,
   "metadata": {},
   "outputs": [],
   "source": [
    "#pip install lightgbm"
   ]
  },
  {
   "cell_type": "code",
   "execution_count": 3,
   "metadata": {},
   "outputs": [],
   "source": [
    "import pandas as pd\n",
    "import numpy as np\n",
    "import matplotlib\n",
    "import matplotlib.pyplot as plt\n",
    "import lightgbm\n",
    "from feature_selector import FeatureSelector\n",
    "\n",
    "from sklearn.linear_model import LinearRegression\n",
    "from sklearn.tree import DecisionTreeRegressor\n",
    "from sklearn.ensemble import RandomForestRegressor\n",
    "from sklearn.dummy import DummyRegressor\n",
    "\n",
    "from sklearn.preprocessing import StandardScaler\n",
    "from sklearn.pipeline import Pipeline\n",
    "from sklearn.model_selection import cross_val_score, GridSearchCV\n",
    "from sklearn.metrics import mean_absolute_error, make_scorer\n",
    "from sklearn.multioutput import MultiOutputRegressor"
   ]
  },
  {
   "cell_type": "code",
   "execution_count": 4,
   "metadata": {},
   "outputs": [
    {
     "name": "stdout",
     "output_type": "stream",
     "text": [
      "Name: matplotlib\n",
      "Version: 3.3.4\n",
      "Summary: Python plotting package\n",
      "Home-page: https://matplotlib.org\n",
      "Author: John D. Hunter, Michael Droettboom\n",
      "Author-email: matplotlib-users@python.org\n",
      "License: PSF\n",
      "Location: /opt/conda/lib/python3.9/site-packages\n",
      "Requires: pyparsing, pillow, kiwisolver, numpy, cycler, python-dateutil\n",
      "Required-by: seaborn, pyod, feature-selector, catboost\n",
      "Note: you may need to restart the kernel to use updated packages.\n"
     ]
    }
   ],
   "source": [
    "pip show matplotlib"
   ]
  },
  {
   "cell_type": "code",
   "execution_count": 5,
   "metadata": {},
   "outputs": [],
   "source": [
    "pd.set_option('display.max_rows', None)"
   ]
  },
  {
   "cell_type": "code",
   "execution_count": 6,
   "metadata": {},
   "outputs": [],
   "source": [
    "data_train = pd.read_csv('/datasets/gold_recovery_train_new.csv')\n",
    "data_test = pd.read_csv('/datasets/gold_recovery_test_new.csv')\n",
    "data_full = pd.read_csv('/datasets/gold_recovery_full_new.csv')"
   ]
  },
  {
   "cell_type": "markdown",
   "metadata": {},
   "source": [
    "### Первичное изучение данных"
   ]
  },
  {
   "cell_type": "markdown",
   "metadata": {},
   "source": [
    "Создадим функцию для первичного анализа данных - результатом её выполнения будет печать количества строк и столбцов, первых пяти строк, описания и информации. Также функция будет задавать индексацию по столбцу \"date\" - так как в описании проекта указано, что данные индексируются датой и времени, однако в самих данных осуществлена обычная числовая порядковая индексация - возможно, это ошибка выгрузки данных."
   ]
  },
  {
   "cell_type": "code",
   "execution_count": 7,
   "metadata": {},
   "outputs": [],
   "source": [
    "def first_analyze(data):\n",
    "    data = data.set_index('date')\n",
    "    rows, columns = data.shape\n",
    "    print('='*50)\n",
    "    print('Количество строк:', rows)\n",
    "    print('Количество столбцов:', columns)\n",
    "    display(data.head())\n",
    "    display(data.describe())\n",
    "    print(data.info())\n",
    "    print('='*50)\n",
    "    return data"
   ]
  },
  {
   "cell_type": "code",
   "execution_count": 8,
   "metadata": {
    "scrolled": false
   },
   "outputs": [
    {
     "name": "stdout",
     "output_type": "stream",
     "text": [
      "Тренировочные данные\n",
      "==================================================\n",
      "Количество строк: 14149\n",
      "Количество столбцов: 86\n"
     ]
    },
    {
     "data": {
      "text/html": [
       "<div>\n",
       "<style scoped>\n",
       "    .dataframe tbody tr th:only-of-type {\n",
       "        vertical-align: middle;\n",
       "    }\n",
       "\n",
       "    .dataframe tbody tr th {\n",
       "        vertical-align: top;\n",
       "    }\n",
       "\n",
       "    .dataframe thead th {\n",
       "        text-align: right;\n",
       "    }\n",
       "</style>\n",
       "<table border=\"1\" class=\"dataframe\">\n",
       "  <thead>\n",
       "    <tr style=\"text-align: right;\">\n",
       "      <th></th>\n",
       "      <th>final.output.concentrate_ag</th>\n",
       "      <th>final.output.concentrate_pb</th>\n",
       "      <th>final.output.concentrate_sol</th>\n",
       "      <th>final.output.concentrate_au</th>\n",
       "      <th>final.output.recovery</th>\n",
       "      <th>final.output.tail_ag</th>\n",
       "      <th>final.output.tail_pb</th>\n",
       "      <th>final.output.tail_sol</th>\n",
       "      <th>final.output.tail_au</th>\n",
       "      <th>primary_cleaner.input.sulfate</th>\n",
       "      <th>...</th>\n",
       "      <th>secondary_cleaner.state.floatbank4_a_air</th>\n",
       "      <th>secondary_cleaner.state.floatbank4_a_level</th>\n",
       "      <th>secondary_cleaner.state.floatbank4_b_air</th>\n",
       "      <th>secondary_cleaner.state.floatbank4_b_level</th>\n",
       "      <th>secondary_cleaner.state.floatbank5_a_air</th>\n",
       "      <th>secondary_cleaner.state.floatbank5_a_level</th>\n",
       "      <th>secondary_cleaner.state.floatbank5_b_air</th>\n",
       "      <th>secondary_cleaner.state.floatbank5_b_level</th>\n",
       "      <th>secondary_cleaner.state.floatbank6_a_air</th>\n",
       "      <th>secondary_cleaner.state.floatbank6_a_level</th>\n",
       "    </tr>\n",
       "    <tr>\n",
       "      <th>date</th>\n",
       "      <th></th>\n",
       "      <th></th>\n",
       "      <th></th>\n",
       "      <th></th>\n",
       "      <th></th>\n",
       "      <th></th>\n",
       "      <th></th>\n",
       "      <th></th>\n",
       "      <th></th>\n",
       "      <th></th>\n",
       "      <th></th>\n",
       "      <th></th>\n",
       "      <th></th>\n",
       "      <th></th>\n",
       "      <th></th>\n",
       "      <th></th>\n",
       "      <th></th>\n",
       "      <th></th>\n",
       "      <th></th>\n",
       "      <th></th>\n",
       "      <th></th>\n",
       "    </tr>\n",
       "  </thead>\n",
       "  <tbody>\n",
       "    <tr>\n",
       "      <th>2016-01-15 00:00:00</th>\n",
       "      <td>6.055403</td>\n",
       "      <td>9.889648</td>\n",
       "      <td>5.507324</td>\n",
       "      <td>42.192020</td>\n",
       "      <td>70.541216</td>\n",
       "      <td>10.411962</td>\n",
       "      <td>0.895447</td>\n",
       "      <td>16.904297</td>\n",
       "      <td>2.143149</td>\n",
       "      <td>127.092003</td>\n",
       "      <td>...</td>\n",
       "      <td>14.016835</td>\n",
       "      <td>-502.488007</td>\n",
       "      <td>12.099931</td>\n",
       "      <td>-504.715942</td>\n",
       "      <td>9.925633</td>\n",
       "      <td>-498.310211</td>\n",
       "      <td>8.079666</td>\n",
       "      <td>-500.470978</td>\n",
       "      <td>14.151341</td>\n",
       "      <td>-605.841980</td>\n",
       "    </tr>\n",
       "    <tr>\n",
       "      <th>2016-01-15 01:00:00</th>\n",
       "      <td>6.029369</td>\n",
       "      <td>9.968944</td>\n",
       "      <td>5.257781</td>\n",
       "      <td>42.701629</td>\n",
       "      <td>69.266198</td>\n",
       "      <td>10.462676</td>\n",
       "      <td>0.927452</td>\n",
       "      <td>16.634514</td>\n",
       "      <td>2.224930</td>\n",
       "      <td>125.629232</td>\n",
       "      <td>...</td>\n",
       "      <td>13.992281</td>\n",
       "      <td>-505.503262</td>\n",
       "      <td>11.950531</td>\n",
       "      <td>-501.331529</td>\n",
       "      <td>10.039245</td>\n",
       "      <td>-500.169983</td>\n",
       "      <td>7.984757</td>\n",
       "      <td>-500.582168</td>\n",
       "      <td>13.998353</td>\n",
       "      <td>-599.787184</td>\n",
       "    </tr>\n",
       "    <tr>\n",
       "      <th>2016-01-15 02:00:00</th>\n",
       "      <td>6.055926</td>\n",
       "      <td>10.213995</td>\n",
       "      <td>5.383759</td>\n",
       "      <td>42.657501</td>\n",
       "      <td>68.116445</td>\n",
       "      <td>10.507046</td>\n",
       "      <td>0.953716</td>\n",
       "      <td>16.208849</td>\n",
       "      <td>2.257889</td>\n",
       "      <td>123.819808</td>\n",
       "      <td>...</td>\n",
       "      <td>14.015015</td>\n",
       "      <td>-502.520901</td>\n",
       "      <td>11.912783</td>\n",
       "      <td>-501.133383</td>\n",
       "      <td>10.070913</td>\n",
       "      <td>-500.129135</td>\n",
       "      <td>8.013877</td>\n",
       "      <td>-500.517572</td>\n",
       "      <td>14.028663</td>\n",
       "      <td>-601.427363</td>\n",
       "    </tr>\n",
       "    <tr>\n",
       "      <th>2016-01-15 03:00:00</th>\n",
       "      <td>6.047977</td>\n",
       "      <td>9.977019</td>\n",
       "      <td>4.858634</td>\n",
       "      <td>42.689819</td>\n",
       "      <td>68.347543</td>\n",
       "      <td>10.422762</td>\n",
       "      <td>0.883763</td>\n",
       "      <td>16.532835</td>\n",
       "      <td>2.146849</td>\n",
       "      <td>122.270188</td>\n",
       "      <td>...</td>\n",
       "      <td>14.036510</td>\n",
       "      <td>-500.857308</td>\n",
       "      <td>11.999550</td>\n",
       "      <td>-501.193686</td>\n",
       "      <td>9.970366</td>\n",
       "      <td>-499.201640</td>\n",
       "      <td>7.977324</td>\n",
       "      <td>-500.255908</td>\n",
       "      <td>14.005551</td>\n",
       "      <td>-599.996129</td>\n",
       "    </tr>\n",
       "    <tr>\n",
       "      <th>2016-01-15 04:00:00</th>\n",
       "      <td>6.148599</td>\n",
       "      <td>10.142511</td>\n",
       "      <td>4.939416</td>\n",
       "      <td>42.774141</td>\n",
       "      <td>66.927016</td>\n",
       "      <td>10.360302</td>\n",
       "      <td>0.792826</td>\n",
       "      <td>16.525686</td>\n",
       "      <td>2.055292</td>\n",
       "      <td>117.988169</td>\n",
       "      <td>...</td>\n",
       "      <td>14.027298</td>\n",
       "      <td>-499.838632</td>\n",
       "      <td>11.953070</td>\n",
       "      <td>-501.053894</td>\n",
       "      <td>9.925709</td>\n",
       "      <td>-501.686727</td>\n",
       "      <td>7.894242</td>\n",
       "      <td>-500.356035</td>\n",
       "      <td>13.996647</td>\n",
       "      <td>-601.496691</td>\n",
       "    </tr>\n",
       "  </tbody>\n",
       "</table>\n",
       "<p>5 rows × 86 columns</p>\n",
       "</div>"
      ],
      "text/plain": [
       "                     final.output.concentrate_ag  final.output.concentrate_pb  \\\n",
       "date                                                                            \n",
       "2016-01-15 00:00:00                     6.055403                     9.889648   \n",
       "2016-01-15 01:00:00                     6.029369                     9.968944   \n",
       "2016-01-15 02:00:00                     6.055926                    10.213995   \n",
       "2016-01-15 03:00:00                     6.047977                     9.977019   \n",
       "2016-01-15 04:00:00                     6.148599                    10.142511   \n",
       "\n",
       "                     final.output.concentrate_sol  \\\n",
       "date                                                \n",
       "2016-01-15 00:00:00                      5.507324   \n",
       "2016-01-15 01:00:00                      5.257781   \n",
       "2016-01-15 02:00:00                      5.383759   \n",
       "2016-01-15 03:00:00                      4.858634   \n",
       "2016-01-15 04:00:00                      4.939416   \n",
       "\n",
       "                     final.output.concentrate_au  final.output.recovery  \\\n",
       "date                                                                      \n",
       "2016-01-15 00:00:00                    42.192020              70.541216   \n",
       "2016-01-15 01:00:00                    42.701629              69.266198   \n",
       "2016-01-15 02:00:00                    42.657501              68.116445   \n",
       "2016-01-15 03:00:00                    42.689819              68.347543   \n",
       "2016-01-15 04:00:00                    42.774141              66.927016   \n",
       "\n",
       "                     final.output.tail_ag  final.output.tail_pb  \\\n",
       "date                                                              \n",
       "2016-01-15 00:00:00             10.411962              0.895447   \n",
       "2016-01-15 01:00:00             10.462676              0.927452   \n",
       "2016-01-15 02:00:00             10.507046              0.953716   \n",
       "2016-01-15 03:00:00             10.422762              0.883763   \n",
       "2016-01-15 04:00:00             10.360302              0.792826   \n",
       "\n",
       "                     final.output.tail_sol  final.output.tail_au  \\\n",
       "date                                                               \n",
       "2016-01-15 00:00:00              16.904297              2.143149   \n",
       "2016-01-15 01:00:00              16.634514              2.224930   \n",
       "2016-01-15 02:00:00              16.208849              2.257889   \n",
       "2016-01-15 03:00:00              16.532835              2.146849   \n",
       "2016-01-15 04:00:00              16.525686              2.055292   \n",
       "\n",
       "                     primary_cleaner.input.sulfate  ...  \\\n",
       "date                                                ...   \n",
       "2016-01-15 00:00:00                     127.092003  ...   \n",
       "2016-01-15 01:00:00                     125.629232  ...   \n",
       "2016-01-15 02:00:00                     123.819808  ...   \n",
       "2016-01-15 03:00:00                     122.270188  ...   \n",
       "2016-01-15 04:00:00                     117.988169  ...   \n",
       "\n",
       "                     secondary_cleaner.state.floatbank4_a_air  \\\n",
       "date                                                            \n",
       "2016-01-15 00:00:00                                 14.016835   \n",
       "2016-01-15 01:00:00                                 13.992281   \n",
       "2016-01-15 02:00:00                                 14.015015   \n",
       "2016-01-15 03:00:00                                 14.036510   \n",
       "2016-01-15 04:00:00                                 14.027298   \n",
       "\n",
       "                     secondary_cleaner.state.floatbank4_a_level  \\\n",
       "date                                                              \n",
       "2016-01-15 00:00:00                                 -502.488007   \n",
       "2016-01-15 01:00:00                                 -505.503262   \n",
       "2016-01-15 02:00:00                                 -502.520901   \n",
       "2016-01-15 03:00:00                                 -500.857308   \n",
       "2016-01-15 04:00:00                                 -499.838632   \n",
       "\n",
       "                     secondary_cleaner.state.floatbank4_b_air  \\\n",
       "date                                                            \n",
       "2016-01-15 00:00:00                                 12.099931   \n",
       "2016-01-15 01:00:00                                 11.950531   \n",
       "2016-01-15 02:00:00                                 11.912783   \n",
       "2016-01-15 03:00:00                                 11.999550   \n",
       "2016-01-15 04:00:00                                 11.953070   \n",
       "\n",
       "                     secondary_cleaner.state.floatbank4_b_level  \\\n",
       "date                                                              \n",
       "2016-01-15 00:00:00                                 -504.715942   \n",
       "2016-01-15 01:00:00                                 -501.331529   \n",
       "2016-01-15 02:00:00                                 -501.133383   \n",
       "2016-01-15 03:00:00                                 -501.193686   \n",
       "2016-01-15 04:00:00                                 -501.053894   \n",
       "\n",
       "                     secondary_cleaner.state.floatbank5_a_air  \\\n",
       "date                                                            \n",
       "2016-01-15 00:00:00                                  9.925633   \n",
       "2016-01-15 01:00:00                                 10.039245   \n",
       "2016-01-15 02:00:00                                 10.070913   \n",
       "2016-01-15 03:00:00                                  9.970366   \n",
       "2016-01-15 04:00:00                                  9.925709   \n",
       "\n",
       "                     secondary_cleaner.state.floatbank5_a_level  \\\n",
       "date                                                              \n",
       "2016-01-15 00:00:00                                 -498.310211   \n",
       "2016-01-15 01:00:00                                 -500.169983   \n",
       "2016-01-15 02:00:00                                 -500.129135   \n",
       "2016-01-15 03:00:00                                 -499.201640   \n",
       "2016-01-15 04:00:00                                 -501.686727   \n",
       "\n",
       "                     secondary_cleaner.state.floatbank5_b_air  \\\n",
       "date                                                            \n",
       "2016-01-15 00:00:00                                  8.079666   \n",
       "2016-01-15 01:00:00                                  7.984757   \n",
       "2016-01-15 02:00:00                                  8.013877   \n",
       "2016-01-15 03:00:00                                  7.977324   \n",
       "2016-01-15 04:00:00                                  7.894242   \n",
       "\n",
       "                     secondary_cleaner.state.floatbank5_b_level  \\\n",
       "date                                                              \n",
       "2016-01-15 00:00:00                                 -500.470978   \n",
       "2016-01-15 01:00:00                                 -500.582168   \n",
       "2016-01-15 02:00:00                                 -500.517572   \n",
       "2016-01-15 03:00:00                                 -500.255908   \n",
       "2016-01-15 04:00:00                                 -500.356035   \n",
       "\n",
       "                     secondary_cleaner.state.floatbank6_a_air  \\\n",
       "date                                                            \n",
       "2016-01-15 00:00:00                                 14.151341   \n",
       "2016-01-15 01:00:00                                 13.998353   \n",
       "2016-01-15 02:00:00                                 14.028663   \n",
       "2016-01-15 03:00:00                                 14.005551   \n",
       "2016-01-15 04:00:00                                 13.996647   \n",
       "\n",
       "                     secondary_cleaner.state.floatbank6_a_level  \n",
       "date                                                             \n",
       "2016-01-15 00:00:00                                 -605.841980  \n",
       "2016-01-15 01:00:00                                 -599.787184  \n",
       "2016-01-15 02:00:00                                 -601.427363  \n",
       "2016-01-15 03:00:00                                 -599.996129  \n",
       "2016-01-15 04:00:00                                 -601.496691  \n",
       "\n",
       "[5 rows x 86 columns]"
      ]
     },
     "metadata": {},
     "output_type": "display_data"
    },
    {
     "data": {
      "text/html": [
       "<div>\n",
       "<style scoped>\n",
       "    .dataframe tbody tr th:only-of-type {\n",
       "        vertical-align: middle;\n",
       "    }\n",
       "\n",
       "    .dataframe tbody tr th {\n",
       "        vertical-align: top;\n",
       "    }\n",
       "\n",
       "    .dataframe thead th {\n",
       "        text-align: right;\n",
       "    }\n",
       "</style>\n",
       "<table border=\"1\" class=\"dataframe\">\n",
       "  <thead>\n",
       "    <tr style=\"text-align: right;\">\n",
       "      <th></th>\n",
       "      <th>final.output.concentrate_ag</th>\n",
       "      <th>final.output.concentrate_pb</th>\n",
       "      <th>final.output.concentrate_sol</th>\n",
       "      <th>final.output.concentrate_au</th>\n",
       "      <th>final.output.recovery</th>\n",
       "      <th>final.output.tail_ag</th>\n",
       "      <th>final.output.tail_pb</th>\n",
       "      <th>final.output.tail_sol</th>\n",
       "      <th>final.output.tail_au</th>\n",
       "      <th>primary_cleaner.input.sulfate</th>\n",
       "      <th>...</th>\n",
       "      <th>secondary_cleaner.state.floatbank4_a_air</th>\n",
       "      <th>secondary_cleaner.state.floatbank4_a_level</th>\n",
       "      <th>secondary_cleaner.state.floatbank4_b_air</th>\n",
       "      <th>secondary_cleaner.state.floatbank4_b_level</th>\n",
       "      <th>secondary_cleaner.state.floatbank5_a_air</th>\n",
       "      <th>secondary_cleaner.state.floatbank5_a_level</th>\n",
       "      <th>secondary_cleaner.state.floatbank5_b_air</th>\n",
       "      <th>secondary_cleaner.state.floatbank5_b_level</th>\n",
       "      <th>secondary_cleaner.state.floatbank6_a_air</th>\n",
       "      <th>secondary_cleaner.state.floatbank6_a_level</th>\n",
       "    </tr>\n",
       "  </thead>\n",
       "  <tbody>\n",
       "    <tr>\n",
       "      <th>count</th>\n",
       "      <td>14148.000000</td>\n",
       "      <td>14148.000000</td>\n",
       "      <td>13938.000000</td>\n",
       "      <td>14149.000000</td>\n",
       "      <td>14149.000000</td>\n",
       "      <td>14149.000000</td>\n",
       "      <td>14049.000000</td>\n",
       "      <td>14144.000000</td>\n",
       "      <td>14149.000000</td>\n",
       "      <td>14129.000000</td>\n",
       "      <td>...</td>\n",
       "      <td>14143.000000</td>\n",
       "      <td>14148.000000</td>\n",
       "      <td>14148.000000</td>\n",
       "      <td>14148.000000</td>\n",
       "      <td>14148.000000</td>\n",
       "      <td>14148.000000</td>\n",
       "      <td>14148.000000</td>\n",
       "      <td>14148.000000</td>\n",
       "      <td>14147.000000</td>\n",
       "      <td>14148.000000</td>\n",
       "    </tr>\n",
       "    <tr>\n",
       "      <th>mean</th>\n",
       "      <td>5.142034</td>\n",
       "      <td>10.132960</td>\n",
       "      <td>9.202849</td>\n",
       "      <td>44.003792</td>\n",
       "      <td>66.518832</td>\n",
       "      <td>9.607035</td>\n",
       "      <td>2.597298</td>\n",
       "      <td>10.512122</td>\n",
       "      <td>2.918421</td>\n",
       "      <td>133.320659</td>\n",
       "      <td>...</td>\n",
       "      <td>19.985454</td>\n",
       "      <td>-478.696836</td>\n",
       "      <td>15.487065</td>\n",
       "      <td>-460.229416</td>\n",
       "      <td>16.775136</td>\n",
       "      <td>-483.956022</td>\n",
       "      <td>13.064590</td>\n",
       "      <td>-483.966564</td>\n",
       "      <td>19.577539</td>\n",
       "      <td>-506.798480</td>\n",
       "    </tr>\n",
       "    <tr>\n",
       "      <th>std</th>\n",
       "      <td>1.369586</td>\n",
       "      <td>1.654930</td>\n",
       "      <td>2.790516</td>\n",
       "      <td>4.905261</td>\n",
       "      <td>10.295402</td>\n",
       "      <td>2.319069</td>\n",
       "      <td>0.971843</td>\n",
       "      <td>3.003617</td>\n",
       "      <td>0.903712</td>\n",
       "      <td>39.431659</td>\n",
       "      <td>...</td>\n",
       "      <td>5.657723</td>\n",
       "      <td>50.736021</td>\n",
       "      <td>5.255655</td>\n",
       "      <td>58.843586</td>\n",
       "      <td>5.831906</td>\n",
       "      <td>37.892788</td>\n",
       "      <td>5.765617</td>\n",
       "      <td>39.207913</td>\n",
       "      <td>5.764417</td>\n",
       "      <td>37.079249</td>\n",
       "    </tr>\n",
       "    <tr>\n",
       "      <th>min</th>\n",
       "      <td>0.000000</td>\n",
       "      <td>0.000000</td>\n",
       "      <td>0.000000</td>\n",
       "      <td>0.000000</td>\n",
       "      <td>0.000000</td>\n",
       "      <td>0.000000</td>\n",
       "      <td>0.000000</td>\n",
       "      <td>0.000000</td>\n",
       "      <td>0.000000</td>\n",
       "      <td>0.003112</td>\n",
       "      <td>...</td>\n",
       "      <td>0.000000</td>\n",
       "      <td>-799.709069</td>\n",
       "      <td>0.000000</td>\n",
       "      <td>-799.889113</td>\n",
       "      <td>-0.372054</td>\n",
       "      <td>-797.142475</td>\n",
       "      <td>0.646208</td>\n",
       "      <td>-800.006180</td>\n",
       "      <td>0.195324</td>\n",
       "      <td>-809.398668</td>\n",
       "    </tr>\n",
       "    <tr>\n",
       "      <th>25%</th>\n",
       "      <td>4.211620</td>\n",
       "      <td>9.297355</td>\n",
       "      <td>7.484645</td>\n",
       "      <td>43.276111</td>\n",
       "      <td>62.545817</td>\n",
       "      <td>7.997429</td>\n",
       "      <td>1.905973</td>\n",
       "      <td>8.811324</td>\n",
       "      <td>2.368607</td>\n",
       "      <td>107.006651</td>\n",
       "      <td>...</td>\n",
       "      <td>14.990775</td>\n",
       "      <td>-500.628656</td>\n",
       "      <td>11.894558</td>\n",
       "      <td>-500.149000</td>\n",
       "      <td>11.083980</td>\n",
       "      <td>-500.363177</td>\n",
       "      <td>8.994405</td>\n",
       "      <td>-500.105994</td>\n",
       "      <td>14.989304</td>\n",
       "      <td>-500.745104</td>\n",
       "    </tr>\n",
       "    <tr>\n",
       "      <th>50%</th>\n",
       "      <td>4.994652</td>\n",
       "      <td>10.297144</td>\n",
       "      <td>8.845462</td>\n",
       "      <td>44.872436</td>\n",
       "      <td>67.432775</td>\n",
       "      <td>9.480270</td>\n",
       "      <td>2.592022</td>\n",
       "      <td>10.514621</td>\n",
       "      <td>2.851025</td>\n",
       "      <td>133.018328</td>\n",
       "      <td>...</td>\n",
       "      <td>20.001789</td>\n",
       "      <td>-499.681450</td>\n",
       "      <td>14.975536</td>\n",
       "      <td>-499.388738</td>\n",
       "      <td>17.932223</td>\n",
       "      <td>-499.702452</td>\n",
       "      <td>11.997547</td>\n",
       "      <td>-499.914556</td>\n",
       "      <td>19.984175</td>\n",
       "      <td>-500.061431</td>\n",
       "    </tr>\n",
       "    <tr>\n",
       "      <th>75%</th>\n",
       "      <td>5.859540</td>\n",
       "      <td>11.170603</td>\n",
       "      <td>10.487508</td>\n",
       "      <td>46.166425</td>\n",
       "      <td>72.346428</td>\n",
       "      <td>11.003707</td>\n",
       "      <td>3.241723</td>\n",
       "      <td>11.933009</td>\n",
       "      <td>3.434764</td>\n",
       "      <td>159.825396</td>\n",
       "      <td>...</td>\n",
       "      <td>24.990826</td>\n",
       "      <td>-477.472413</td>\n",
       "      <td>20.059375</td>\n",
       "      <td>-400.039008</td>\n",
       "      <td>21.346550</td>\n",
       "      <td>-487.712108</td>\n",
       "      <td>17.982903</td>\n",
       "      <td>-453.186936</td>\n",
       "      <td>24.991623</td>\n",
       "      <td>-499.536466</td>\n",
       "    </tr>\n",
       "    <tr>\n",
       "      <th>max</th>\n",
       "      <td>16.001945</td>\n",
       "      <td>17.031899</td>\n",
       "      <td>18.124851</td>\n",
       "      <td>52.756638</td>\n",
       "      <td>100.000000</td>\n",
       "      <td>19.552149</td>\n",
       "      <td>5.639565</td>\n",
       "      <td>22.317730</td>\n",
       "      <td>8.197408</td>\n",
       "      <td>250.127834</td>\n",
       "      <td>...</td>\n",
       "      <td>30.115735</td>\n",
       "      <td>-245.239184</td>\n",
       "      <td>24.007913</td>\n",
       "      <td>-145.071088</td>\n",
       "      <td>43.709931</td>\n",
       "      <td>-275.073125</td>\n",
       "      <td>27.926001</td>\n",
       "      <td>-157.396071</td>\n",
       "      <td>32.188906</td>\n",
       "      <td>-104.427459</td>\n",
       "    </tr>\n",
       "  </tbody>\n",
       "</table>\n",
       "<p>8 rows × 86 columns</p>\n",
       "</div>"
      ],
      "text/plain": [
       "       final.output.concentrate_ag  final.output.concentrate_pb  \\\n",
       "count                 14148.000000                 14148.000000   \n",
       "mean                      5.142034                    10.132960   \n",
       "std                       1.369586                     1.654930   \n",
       "min                       0.000000                     0.000000   \n",
       "25%                       4.211620                     9.297355   \n",
       "50%                       4.994652                    10.297144   \n",
       "75%                       5.859540                    11.170603   \n",
       "max                      16.001945                    17.031899   \n",
       "\n",
       "       final.output.concentrate_sol  final.output.concentrate_au  \\\n",
       "count                  13938.000000                 14149.000000   \n",
       "mean                       9.202849                    44.003792   \n",
       "std                        2.790516                     4.905261   \n",
       "min                        0.000000                     0.000000   \n",
       "25%                        7.484645                    43.276111   \n",
       "50%                        8.845462                    44.872436   \n",
       "75%                       10.487508                    46.166425   \n",
       "max                       18.124851                    52.756638   \n",
       "\n",
       "       final.output.recovery  final.output.tail_ag  final.output.tail_pb  \\\n",
       "count           14149.000000          14149.000000          14049.000000   \n",
       "mean               66.518832              9.607035              2.597298   \n",
       "std                10.295402              2.319069              0.971843   \n",
       "min                 0.000000              0.000000              0.000000   \n",
       "25%                62.545817              7.997429              1.905973   \n",
       "50%                67.432775              9.480270              2.592022   \n",
       "75%                72.346428             11.003707              3.241723   \n",
       "max               100.000000             19.552149              5.639565   \n",
       "\n",
       "       final.output.tail_sol  final.output.tail_au  \\\n",
       "count           14144.000000          14149.000000   \n",
       "mean               10.512122              2.918421   \n",
       "std                 3.003617              0.903712   \n",
       "min                 0.000000              0.000000   \n",
       "25%                 8.811324              2.368607   \n",
       "50%                10.514621              2.851025   \n",
       "75%                11.933009              3.434764   \n",
       "max                22.317730              8.197408   \n",
       "\n",
       "       primary_cleaner.input.sulfate  ...  \\\n",
       "count                   14129.000000  ...   \n",
       "mean                      133.320659  ...   \n",
       "std                        39.431659  ...   \n",
       "min                         0.003112  ...   \n",
       "25%                       107.006651  ...   \n",
       "50%                       133.018328  ...   \n",
       "75%                       159.825396  ...   \n",
       "max                       250.127834  ...   \n",
       "\n",
       "       secondary_cleaner.state.floatbank4_a_air  \\\n",
       "count                              14143.000000   \n",
       "mean                                  19.985454   \n",
       "std                                    5.657723   \n",
       "min                                    0.000000   \n",
       "25%                                   14.990775   \n",
       "50%                                   20.001789   \n",
       "75%                                   24.990826   \n",
       "max                                   30.115735   \n",
       "\n",
       "       secondary_cleaner.state.floatbank4_a_level  \\\n",
       "count                                14148.000000   \n",
       "mean                                  -478.696836   \n",
       "std                                     50.736021   \n",
       "min                                   -799.709069   \n",
       "25%                                   -500.628656   \n",
       "50%                                   -499.681450   \n",
       "75%                                   -477.472413   \n",
       "max                                   -245.239184   \n",
       "\n",
       "       secondary_cleaner.state.floatbank4_b_air  \\\n",
       "count                              14148.000000   \n",
       "mean                                  15.487065   \n",
       "std                                    5.255655   \n",
       "min                                    0.000000   \n",
       "25%                                   11.894558   \n",
       "50%                                   14.975536   \n",
       "75%                                   20.059375   \n",
       "max                                   24.007913   \n",
       "\n",
       "       secondary_cleaner.state.floatbank4_b_level  \\\n",
       "count                                14148.000000   \n",
       "mean                                  -460.229416   \n",
       "std                                     58.843586   \n",
       "min                                   -799.889113   \n",
       "25%                                   -500.149000   \n",
       "50%                                   -499.388738   \n",
       "75%                                   -400.039008   \n",
       "max                                   -145.071088   \n",
       "\n",
       "       secondary_cleaner.state.floatbank5_a_air  \\\n",
       "count                              14148.000000   \n",
       "mean                                  16.775136   \n",
       "std                                    5.831906   \n",
       "min                                   -0.372054   \n",
       "25%                                   11.083980   \n",
       "50%                                   17.932223   \n",
       "75%                                   21.346550   \n",
       "max                                   43.709931   \n",
       "\n",
       "       secondary_cleaner.state.floatbank5_a_level  \\\n",
       "count                                14148.000000   \n",
       "mean                                  -483.956022   \n",
       "std                                     37.892788   \n",
       "min                                   -797.142475   \n",
       "25%                                   -500.363177   \n",
       "50%                                   -499.702452   \n",
       "75%                                   -487.712108   \n",
       "max                                   -275.073125   \n",
       "\n",
       "       secondary_cleaner.state.floatbank5_b_air  \\\n",
       "count                              14148.000000   \n",
       "mean                                  13.064590   \n",
       "std                                    5.765617   \n",
       "min                                    0.646208   \n",
       "25%                                    8.994405   \n",
       "50%                                   11.997547   \n",
       "75%                                   17.982903   \n",
       "max                                   27.926001   \n",
       "\n",
       "       secondary_cleaner.state.floatbank5_b_level  \\\n",
       "count                                14148.000000   \n",
       "mean                                  -483.966564   \n",
       "std                                     39.207913   \n",
       "min                                   -800.006180   \n",
       "25%                                   -500.105994   \n",
       "50%                                   -499.914556   \n",
       "75%                                   -453.186936   \n",
       "max                                   -157.396071   \n",
       "\n",
       "       secondary_cleaner.state.floatbank6_a_air  \\\n",
       "count                              14147.000000   \n",
       "mean                                  19.577539   \n",
       "std                                    5.764417   \n",
       "min                                    0.195324   \n",
       "25%                                   14.989304   \n",
       "50%                                   19.984175   \n",
       "75%                                   24.991623   \n",
       "max                                   32.188906   \n",
       "\n",
       "       secondary_cleaner.state.floatbank6_a_level  \n",
       "count                                14148.000000  \n",
       "mean                                  -506.798480  \n",
       "std                                     37.079249  \n",
       "min                                   -809.398668  \n",
       "25%                                   -500.745104  \n",
       "50%                                   -500.061431  \n",
       "75%                                   -499.536466  \n",
       "max                                   -104.427459  \n",
       "\n",
       "[8 rows x 86 columns]"
      ]
     },
     "metadata": {},
     "output_type": "display_data"
    },
    {
     "name": "stdout",
     "output_type": "stream",
     "text": [
      "<class 'pandas.core.frame.DataFrame'>\n",
      "Index: 14149 entries, 2016-01-15 00:00:00 to 2018-08-18 10:59:59\n",
      "Data columns (total 86 columns):\n",
      " #   Column                                              Non-Null Count  Dtype  \n",
      "---  ------                                              --------------  -----  \n",
      " 0   final.output.concentrate_ag                         14148 non-null  float64\n",
      " 1   final.output.concentrate_pb                         14148 non-null  float64\n",
      " 2   final.output.concentrate_sol                        13938 non-null  float64\n",
      " 3   final.output.concentrate_au                         14149 non-null  float64\n",
      " 4   final.output.recovery                               14149 non-null  float64\n",
      " 5   final.output.tail_ag                                14149 non-null  float64\n",
      " 6   final.output.tail_pb                                14049 non-null  float64\n",
      " 7   final.output.tail_sol                               14144 non-null  float64\n",
      " 8   final.output.tail_au                                14149 non-null  float64\n",
      " 9   primary_cleaner.input.sulfate                       14129 non-null  float64\n",
      " 10  primary_cleaner.input.depressant                    14117 non-null  float64\n",
      " 11  primary_cleaner.input.feed_size                     14149 non-null  float64\n",
      " 12  primary_cleaner.input.xanthate                      14049 non-null  float64\n",
      " 13  primary_cleaner.output.concentrate_ag               14149 non-null  float64\n",
      " 14  primary_cleaner.output.concentrate_pb               14063 non-null  float64\n",
      " 15  primary_cleaner.output.concentrate_sol              13863 non-null  float64\n",
      " 16  primary_cleaner.output.concentrate_au               14149 non-null  float64\n",
      " 17  primary_cleaner.output.tail_ag                      14148 non-null  float64\n",
      " 18  primary_cleaner.output.tail_pb                      14134 non-null  float64\n",
      " 19  primary_cleaner.output.tail_sol                     14103 non-null  float64\n",
      " 20  primary_cleaner.output.tail_au                      14149 non-null  float64\n",
      " 21  primary_cleaner.state.floatbank8_a_air              14145 non-null  float64\n",
      " 22  primary_cleaner.state.floatbank8_a_level            14148 non-null  float64\n",
      " 23  primary_cleaner.state.floatbank8_b_air              14145 non-null  float64\n",
      " 24  primary_cleaner.state.floatbank8_b_level            14148 non-null  float64\n",
      " 25  primary_cleaner.state.floatbank8_c_air              14147 non-null  float64\n",
      " 26  primary_cleaner.state.floatbank8_c_level            14148 non-null  float64\n",
      " 27  primary_cleaner.state.floatbank8_d_air              14146 non-null  float64\n",
      " 28  primary_cleaner.state.floatbank8_d_level            14148 non-null  float64\n",
      " 29  rougher.calculation.sulfate_to_au_concentrate       14148 non-null  float64\n",
      " 30  rougher.calculation.floatbank10_sulfate_to_au_feed  14148 non-null  float64\n",
      " 31  rougher.calculation.floatbank11_sulfate_to_au_feed  14148 non-null  float64\n",
      " 32  rougher.calculation.au_pb_ratio                     14149 non-null  float64\n",
      " 33  rougher.input.feed_ag                               14149 non-null  float64\n",
      " 34  rougher.input.feed_pb                               14049 non-null  float64\n",
      " 35  rougher.input.feed_rate                             14141 non-null  float64\n",
      " 36  rougher.input.feed_size                             14005 non-null  float64\n",
      " 37  rougher.input.feed_sol                              14071 non-null  float64\n",
      " 38  rougher.input.feed_au                               14149 non-null  float64\n",
      " 39  rougher.input.floatbank10_sulfate                   14120 non-null  float64\n",
      " 40  rougher.input.floatbank10_xanthate                  14141 non-null  float64\n",
      " 41  rougher.input.floatbank11_sulfate                   14113 non-null  float64\n",
      " 42  rougher.input.floatbank11_xanthate                  13721 non-null  float64\n",
      " 43  rougher.output.concentrate_ag                       14149 non-null  float64\n",
      " 44  rougher.output.concentrate_pb                       14149 non-null  float64\n",
      " 45  rougher.output.concentrate_sol                      14127 non-null  float64\n",
      " 46  rougher.output.concentrate_au                       14149 non-null  float64\n",
      " 47  rougher.output.recovery                             14149 non-null  float64\n",
      " 48  rougher.output.tail_ag                              14148 non-null  float64\n",
      " 49  rougher.output.tail_pb                              14149 non-null  float64\n",
      " 50  rougher.output.tail_sol                             14149 non-null  float64\n",
      " 51  rougher.output.tail_au                              14149 non-null  float64\n",
      " 52  rougher.state.floatbank10_a_air                     14148 non-null  float64\n",
      " 53  rougher.state.floatbank10_a_level                   14148 non-null  float64\n",
      " 54  rougher.state.floatbank10_b_air                     14148 non-null  float64\n",
      " 55  rougher.state.floatbank10_b_level                   14148 non-null  float64\n",
      " 56  rougher.state.floatbank10_c_air                     14148 non-null  float64\n",
      " 57  rougher.state.floatbank10_c_level                   14148 non-null  float64\n",
      " 58  rougher.state.floatbank10_d_air                     14149 non-null  float64\n",
      " 59  rougher.state.floatbank10_d_level                   14149 non-null  float64\n",
      " 60  rougher.state.floatbank10_e_air                     13713 non-null  float64\n",
      " 61  rougher.state.floatbank10_e_level                   14149 non-null  float64\n",
      " 62  rougher.state.floatbank10_f_air                     14149 non-null  float64\n",
      " 63  rougher.state.floatbank10_f_level                   14149 non-null  float64\n",
      " 64  secondary_cleaner.output.tail_ag                    14147 non-null  float64\n",
      " 65  secondary_cleaner.output.tail_pb                    14139 non-null  float64\n",
      " 66  secondary_cleaner.output.tail_sol                   12544 non-null  float64\n",
      " 67  secondary_cleaner.output.tail_au                    14149 non-null  float64\n",
      " 68  secondary_cleaner.state.floatbank2_a_air            13932 non-null  float64\n",
      " 69  secondary_cleaner.state.floatbank2_a_level          14148 non-null  float64\n",
      " 70  secondary_cleaner.state.floatbank2_b_air            14128 non-null  float64\n",
      " 71  secondary_cleaner.state.floatbank2_b_level          14148 non-null  float64\n",
      " 72  secondary_cleaner.state.floatbank3_a_air            14145 non-null  float64\n",
      " 73  secondary_cleaner.state.floatbank3_a_level          14148 non-null  float64\n",
      " 74  secondary_cleaner.state.floatbank3_b_air            14148 non-null  float64\n",
      " 75  secondary_cleaner.state.floatbank3_b_level          14148 non-null  float64\n",
      " 76  secondary_cleaner.state.floatbank4_a_air            14143 non-null  float64\n",
      " 77  secondary_cleaner.state.floatbank4_a_level          14148 non-null  float64\n",
      " 78  secondary_cleaner.state.floatbank4_b_air            14148 non-null  float64\n",
      " 79  secondary_cleaner.state.floatbank4_b_level          14148 non-null  float64\n",
      " 80  secondary_cleaner.state.floatbank5_a_air            14148 non-null  float64\n",
      " 81  secondary_cleaner.state.floatbank5_a_level          14148 non-null  float64\n",
      " 82  secondary_cleaner.state.floatbank5_b_air            14148 non-null  float64\n",
      " 83  secondary_cleaner.state.floatbank5_b_level          14148 non-null  float64\n",
      " 84  secondary_cleaner.state.floatbank6_a_air            14147 non-null  float64\n",
      " 85  secondary_cleaner.state.floatbank6_a_level          14148 non-null  float64\n",
      "dtypes: float64(86)\n",
      "memory usage: 9.4+ MB\n",
      "None\n",
      "==================================================\n"
     ]
    }
   ],
   "source": [
    "print('Тренировочные данные')\n",
    "data_train = first_analyze(data_train)"
   ]
  },
  {
   "cell_type": "code",
   "execution_count": 9,
   "metadata": {
    "scrolled": true
   },
   "outputs": [
    {
     "name": "stdout",
     "output_type": "stream",
     "text": [
      "Тестовые данные\n",
      "==================================================\n",
      "Количество строк: 5290\n",
      "Количество столбцов: 52\n"
     ]
    },
    {
     "data": {
      "text/html": [
       "<div>\n",
       "<style scoped>\n",
       "    .dataframe tbody tr th:only-of-type {\n",
       "        vertical-align: middle;\n",
       "    }\n",
       "\n",
       "    .dataframe tbody tr th {\n",
       "        vertical-align: top;\n",
       "    }\n",
       "\n",
       "    .dataframe thead th {\n",
       "        text-align: right;\n",
       "    }\n",
       "</style>\n",
       "<table border=\"1\" class=\"dataframe\">\n",
       "  <thead>\n",
       "    <tr style=\"text-align: right;\">\n",
       "      <th></th>\n",
       "      <th>primary_cleaner.input.sulfate</th>\n",
       "      <th>primary_cleaner.input.depressant</th>\n",
       "      <th>primary_cleaner.input.feed_size</th>\n",
       "      <th>primary_cleaner.input.xanthate</th>\n",
       "      <th>primary_cleaner.state.floatbank8_a_air</th>\n",
       "      <th>primary_cleaner.state.floatbank8_a_level</th>\n",
       "      <th>primary_cleaner.state.floatbank8_b_air</th>\n",
       "      <th>primary_cleaner.state.floatbank8_b_level</th>\n",
       "      <th>primary_cleaner.state.floatbank8_c_air</th>\n",
       "      <th>primary_cleaner.state.floatbank8_c_level</th>\n",
       "      <th>...</th>\n",
       "      <th>secondary_cleaner.state.floatbank4_a_air</th>\n",
       "      <th>secondary_cleaner.state.floatbank4_a_level</th>\n",
       "      <th>secondary_cleaner.state.floatbank4_b_air</th>\n",
       "      <th>secondary_cleaner.state.floatbank4_b_level</th>\n",
       "      <th>secondary_cleaner.state.floatbank5_a_air</th>\n",
       "      <th>secondary_cleaner.state.floatbank5_a_level</th>\n",
       "      <th>secondary_cleaner.state.floatbank5_b_air</th>\n",
       "      <th>secondary_cleaner.state.floatbank5_b_level</th>\n",
       "      <th>secondary_cleaner.state.floatbank6_a_air</th>\n",
       "      <th>secondary_cleaner.state.floatbank6_a_level</th>\n",
       "    </tr>\n",
       "    <tr>\n",
       "      <th>date</th>\n",
       "      <th></th>\n",
       "      <th></th>\n",
       "      <th></th>\n",
       "      <th></th>\n",
       "      <th></th>\n",
       "      <th></th>\n",
       "      <th></th>\n",
       "      <th></th>\n",
       "      <th></th>\n",
       "      <th></th>\n",
       "      <th></th>\n",
       "      <th></th>\n",
       "      <th></th>\n",
       "      <th></th>\n",
       "      <th></th>\n",
       "      <th></th>\n",
       "      <th></th>\n",
       "      <th></th>\n",
       "      <th></th>\n",
       "      <th></th>\n",
       "      <th></th>\n",
       "    </tr>\n",
       "  </thead>\n",
       "  <tbody>\n",
       "    <tr>\n",
       "      <th>2016-09-01 00:59:59</th>\n",
       "      <td>210.800909</td>\n",
       "      <td>14.993118</td>\n",
       "      <td>8.080000</td>\n",
       "      <td>1.005021</td>\n",
       "      <td>1398.981301</td>\n",
       "      <td>-500.225577</td>\n",
       "      <td>1399.144926</td>\n",
       "      <td>-499.919735</td>\n",
       "      <td>1400.102998</td>\n",
       "      <td>-500.704369</td>\n",
       "      <td>...</td>\n",
       "      <td>12.023554</td>\n",
       "      <td>-497.795834</td>\n",
       "      <td>8.016656</td>\n",
       "      <td>-501.289139</td>\n",
       "      <td>7.946562</td>\n",
       "      <td>-432.317850</td>\n",
       "      <td>4.872511</td>\n",
       "      <td>-500.037437</td>\n",
       "      <td>26.705889</td>\n",
       "      <td>-499.709414</td>\n",
       "    </tr>\n",
       "    <tr>\n",
       "      <th>2016-09-01 01:59:59</th>\n",
       "      <td>215.392455</td>\n",
       "      <td>14.987471</td>\n",
       "      <td>8.080000</td>\n",
       "      <td>0.990469</td>\n",
       "      <td>1398.777912</td>\n",
       "      <td>-500.057435</td>\n",
       "      <td>1398.055362</td>\n",
       "      <td>-499.778182</td>\n",
       "      <td>1396.151033</td>\n",
       "      <td>-499.240168</td>\n",
       "      <td>...</td>\n",
       "      <td>12.058140</td>\n",
       "      <td>-498.695773</td>\n",
       "      <td>8.130979</td>\n",
       "      <td>-499.634209</td>\n",
       "      <td>7.958270</td>\n",
       "      <td>-525.839648</td>\n",
       "      <td>4.878850</td>\n",
       "      <td>-500.162375</td>\n",
       "      <td>25.019940</td>\n",
       "      <td>-499.819438</td>\n",
       "    </tr>\n",
       "    <tr>\n",
       "      <th>2016-09-01 02:59:59</th>\n",
       "      <td>215.259946</td>\n",
       "      <td>12.884934</td>\n",
       "      <td>7.786667</td>\n",
       "      <td>0.996043</td>\n",
       "      <td>1398.493666</td>\n",
       "      <td>-500.868360</td>\n",
       "      <td>1398.860436</td>\n",
       "      <td>-499.764529</td>\n",
       "      <td>1398.075709</td>\n",
       "      <td>-502.151509</td>\n",
       "      <td>...</td>\n",
       "      <td>11.962366</td>\n",
       "      <td>-498.767484</td>\n",
       "      <td>8.096893</td>\n",
       "      <td>-500.827423</td>\n",
       "      <td>8.071056</td>\n",
       "      <td>-500.801673</td>\n",
       "      <td>4.905125</td>\n",
       "      <td>-499.828510</td>\n",
       "      <td>24.994862</td>\n",
       "      <td>-500.622559</td>\n",
       "    </tr>\n",
       "    <tr>\n",
       "      <th>2016-09-01 03:59:59</th>\n",
       "      <td>215.336236</td>\n",
       "      <td>12.006805</td>\n",
       "      <td>7.640000</td>\n",
       "      <td>0.863514</td>\n",
       "      <td>1399.618111</td>\n",
       "      <td>-498.863574</td>\n",
       "      <td>1397.440120</td>\n",
       "      <td>-499.211024</td>\n",
       "      <td>1400.129303</td>\n",
       "      <td>-498.355873</td>\n",
       "      <td>...</td>\n",
       "      <td>12.033091</td>\n",
       "      <td>-498.350935</td>\n",
       "      <td>8.074946</td>\n",
       "      <td>-499.474407</td>\n",
       "      <td>7.897085</td>\n",
       "      <td>-500.868509</td>\n",
       "      <td>4.931400</td>\n",
       "      <td>-499.963623</td>\n",
       "      <td>24.948919</td>\n",
       "      <td>-498.709987</td>\n",
       "    </tr>\n",
       "    <tr>\n",
       "      <th>2016-09-01 04:59:59</th>\n",
       "      <td>199.099327</td>\n",
       "      <td>10.682530</td>\n",
       "      <td>7.530000</td>\n",
       "      <td>0.805575</td>\n",
       "      <td>1401.268123</td>\n",
       "      <td>-500.808305</td>\n",
       "      <td>1398.128818</td>\n",
       "      <td>-499.504543</td>\n",
       "      <td>1402.172226</td>\n",
       "      <td>-500.810606</td>\n",
       "      <td>...</td>\n",
       "      <td>12.025367</td>\n",
       "      <td>-500.786497</td>\n",
       "      <td>8.054678</td>\n",
       "      <td>-500.397500</td>\n",
       "      <td>8.107890</td>\n",
       "      <td>-509.526725</td>\n",
       "      <td>4.957674</td>\n",
       "      <td>-500.360026</td>\n",
       "      <td>25.003331</td>\n",
       "      <td>-500.856333</td>\n",
       "    </tr>\n",
       "  </tbody>\n",
       "</table>\n",
       "<p>5 rows × 52 columns</p>\n",
       "</div>"
      ],
      "text/plain": [
       "                     primary_cleaner.input.sulfate  \\\n",
       "date                                                 \n",
       "2016-09-01 00:59:59                     210.800909   \n",
       "2016-09-01 01:59:59                     215.392455   \n",
       "2016-09-01 02:59:59                     215.259946   \n",
       "2016-09-01 03:59:59                     215.336236   \n",
       "2016-09-01 04:59:59                     199.099327   \n",
       "\n",
       "                     primary_cleaner.input.depressant  \\\n",
       "date                                                    \n",
       "2016-09-01 00:59:59                         14.993118   \n",
       "2016-09-01 01:59:59                         14.987471   \n",
       "2016-09-01 02:59:59                         12.884934   \n",
       "2016-09-01 03:59:59                         12.006805   \n",
       "2016-09-01 04:59:59                         10.682530   \n",
       "\n",
       "                     primary_cleaner.input.feed_size  \\\n",
       "date                                                   \n",
       "2016-09-01 00:59:59                         8.080000   \n",
       "2016-09-01 01:59:59                         8.080000   \n",
       "2016-09-01 02:59:59                         7.786667   \n",
       "2016-09-01 03:59:59                         7.640000   \n",
       "2016-09-01 04:59:59                         7.530000   \n",
       "\n",
       "                     primary_cleaner.input.xanthate  \\\n",
       "date                                                  \n",
       "2016-09-01 00:59:59                        1.005021   \n",
       "2016-09-01 01:59:59                        0.990469   \n",
       "2016-09-01 02:59:59                        0.996043   \n",
       "2016-09-01 03:59:59                        0.863514   \n",
       "2016-09-01 04:59:59                        0.805575   \n",
       "\n",
       "                     primary_cleaner.state.floatbank8_a_air  \\\n",
       "date                                                          \n",
       "2016-09-01 00:59:59                             1398.981301   \n",
       "2016-09-01 01:59:59                             1398.777912   \n",
       "2016-09-01 02:59:59                             1398.493666   \n",
       "2016-09-01 03:59:59                             1399.618111   \n",
       "2016-09-01 04:59:59                             1401.268123   \n",
       "\n",
       "                     primary_cleaner.state.floatbank8_a_level  \\\n",
       "date                                                            \n",
       "2016-09-01 00:59:59                               -500.225577   \n",
       "2016-09-01 01:59:59                               -500.057435   \n",
       "2016-09-01 02:59:59                               -500.868360   \n",
       "2016-09-01 03:59:59                               -498.863574   \n",
       "2016-09-01 04:59:59                               -500.808305   \n",
       "\n",
       "                     primary_cleaner.state.floatbank8_b_air  \\\n",
       "date                                                          \n",
       "2016-09-01 00:59:59                             1399.144926   \n",
       "2016-09-01 01:59:59                             1398.055362   \n",
       "2016-09-01 02:59:59                             1398.860436   \n",
       "2016-09-01 03:59:59                             1397.440120   \n",
       "2016-09-01 04:59:59                             1398.128818   \n",
       "\n",
       "                     primary_cleaner.state.floatbank8_b_level  \\\n",
       "date                                                            \n",
       "2016-09-01 00:59:59                               -499.919735   \n",
       "2016-09-01 01:59:59                               -499.778182   \n",
       "2016-09-01 02:59:59                               -499.764529   \n",
       "2016-09-01 03:59:59                               -499.211024   \n",
       "2016-09-01 04:59:59                               -499.504543   \n",
       "\n",
       "                     primary_cleaner.state.floatbank8_c_air  \\\n",
       "date                                                          \n",
       "2016-09-01 00:59:59                             1400.102998   \n",
       "2016-09-01 01:59:59                             1396.151033   \n",
       "2016-09-01 02:59:59                             1398.075709   \n",
       "2016-09-01 03:59:59                             1400.129303   \n",
       "2016-09-01 04:59:59                             1402.172226   \n",
       "\n",
       "                     primary_cleaner.state.floatbank8_c_level  ...  \\\n",
       "date                                                           ...   \n",
       "2016-09-01 00:59:59                               -500.704369  ...   \n",
       "2016-09-01 01:59:59                               -499.240168  ...   \n",
       "2016-09-01 02:59:59                               -502.151509  ...   \n",
       "2016-09-01 03:59:59                               -498.355873  ...   \n",
       "2016-09-01 04:59:59                               -500.810606  ...   \n",
       "\n",
       "                     secondary_cleaner.state.floatbank4_a_air  \\\n",
       "date                                                            \n",
       "2016-09-01 00:59:59                                 12.023554   \n",
       "2016-09-01 01:59:59                                 12.058140   \n",
       "2016-09-01 02:59:59                                 11.962366   \n",
       "2016-09-01 03:59:59                                 12.033091   \n",
       "2016-09-01 04:59:59                                 12.025367   \n",
       "\n",
       "                     secondary_cleaner.state.floatbank4_a_level  \\\n",
       "date                                                              \n",
       "2016-09-01 00:59:59                                 -497.795834   \n",
       "2016-09-01 01:59:59                                 -498.695773   \n",
       "2016-09-01 02:59:59                                 -498.767484   \n",
       "2016-09-01 03:59:59                                 -498.350935   \n",
       "2016-09-01 04:59:59                                 -500.786497   \n",
       "\n",
       "                     secondary_cleaner.state.floatbank4_b_air  \\\n",
       "date                                                            \n",
       "2016-09-01 00:59:59                                  8.016656   \n",
       "2016-09-01 01:59:59                                  8.130979   \n",
       "2016-09-01 02:59:59                                  8.096893   \n",
       "2016-09-01 03:59:59                                  8.074946   \n",
       "2016-09-01 04:59:59                                  8.054678   \n",
       "\n",
       "                     secondary_cleaner.state.floatbank4_b_level  \\\n",
       "date                                                              \n",
       "2016-09-01 00:59:59                                 -501.289139   \n",
       "2016-09-01 01:59:59                                 -499.634209   \n",
       "2016-09-01 02:59:59                                 -500.827423   \n",
       "2016-09-01 03:59:59                                 -499.474407   \n",
       "2016-09-01 04:59:59                                 -500.397500   \n",
       "\n",
       "                     secondary_cleaner.state.floatbank5_a_air  \\\n",
       "date                                                            \n",
       "2016-09-01 00:59:59                                  7.946562   \n",
       "2016-09-01 01:59:59                                  7.958270   \n",
       "2016-09-01 02:59:59                                  8.071056   \n",
       "2016-09-01 03:59:59                                  7.897085   \n",
       "2016-09-01 04:59:59                                  8.107890   \n",
       "\n",
       "                     secondary_cleaner.state.floatbank5_a_level  \\\n",
       "date                                                              \n",
       "2016-09-01 00:59:59                                 -432.317850   \n",
       "2016-09-01 01:59:59                                 -525.839648   \n",
       "2016-09-01 02:59:59                                 -500.801673   \n",
       "2016-09-01 03:59:59                                 -500.868509   \n",
       "2016-09-01 04:59:59                                 -509.526725   \n",
       "\n",
       "                     secondary_cleaner.state.floatbank5_b_air  \\\n",
       "date                                                            \n",
       "2016-09-01 00:59:59                                  4.872511   \n",
       "2016-09-01 01:59:59                                  4.878850   \n",
       "2016-09-01 02:59:59                                  4.905125   \n",
       "2016-09-01 03:59:59                                  4.931400   \n",
       "2016-09-01 04:59:59                                  4.957674   \n",
       "\n",
       "                     secondary_cleaner.state.floatbank5_b_level  \\\n",
       "date                                                              \n",
       "2016-09-01 00:59:59                                 -500.037437   \n",
       "2016-09-01 01:59:59                                 -500.162375   \n",
       "2016-09-01 02:59:59                                 -499.828510   \n",
       "2016-09-01 03:59:59                                 -499.963623   \n",
       "2016-09-01 04:59:59                                 -500.360026   \n",
       "\n",
       "                     secondary_cleaner.state.floatbank6_a_air  \\\n",
       "date                                                            \n",
       "2016-09-01 00:59:59                                 26.705889   \n",
       "2016-09-01 01:59:59                                 25.019940   \n",
       "2016-09-01 02:59:59                                 24.994862   \n",
       "2016-09-01 03:59:59                                 24.948919   \n",
       "2016-09-01 04:59:59                                 25.003331   \n",
       "\n",
       "                     secondary_cleaner.state.floatbank6_a_level  \n",
       "date                                                             \n",
       "2016-09-01 00:59:59                                 -499.709414  \n",
       "2016-09-01 01:59:59                                 -499.819438  \n",
       "2016-09-01 02:59:59                                 -500.622559  \n",
       "2016-09-01 03:59:59                                 -498.709987  \n",
       "2016-09-01 04:59:59                                 -500.856333  \n",
       "\n",
       "[5 rows x 52 columns]"
      ]
     },
     "metadata": {},
     "output_type": "display_data"
    },
    {
     "data": {
      "text/html": [
       "<div>\n",
       "<style scoped>\n",
       "    .dataframe tbody tr th:only-of-type {\n",
       "        vertical-align: middle;\n",
       "    }\n",
       "\n",
       "    .dataframe tbody tr th {\n",
       "        vertical-align: top;\n",
       "    }\n",
       "\n",
       "    .dataframe thead th {\n",
       "        text-align: right;\n",
       "    }\n",
       "</style>\n",
       "<table border=\"1\" class=\"dataframe\">\n",
       "  <thead>\n",
       "    <tr style=\"text-align: right;\">\n",
       "      <th></th>\n",
       "      <th>primary_cleaner.input.sulfate</th>\n",
       "      <th>primary_cleaner.input.depressant</th>\n",
       "      <th>primary_cleaner.input.feed_size</th>\n",
       "      <th>primary_cleaner.input.xanthate</th>\n",
       "      <th>primary_cleaner.state.floatbank8_a_air</th>\n",
       "      <th>primary_cleaner.state.floatbank8_a_level</th>\n",
       "      <th>primary_cleaner.state.floatbank8_b_air</th>\n",
       "      <th>primary_cleaner.state.floatbank8_b_level</th>\n",
       "      <th>primary_cleaner.state.floatbank8_c_air</th>\n",
       "      <th>primary_cleaner.state.floatbank8_c_level</th>\n",
       "      <th>...</th>\n",
       "      <th>secondary_cleaner.state.floatbank4_a_air</th>\n",
       "      <th>secondary_cleaner.state.floatbank4_a_level</th>\n",
       "      <th>secondary_cleaner.state.floatbank4_b_air</th>\n",
       "      <th>secondary_cleaner.state.floatbank4_b_level</th>\n",
       "      <th>secondary_cleaner.state.floatbank5_a_air</th>\n",
       "      <th>secondary_cleaner.state.floatbank5_a_level</th>\n",
       "      <th>secondary_cleaner.state.floatbank5_b_air</th>\n",
       "      <th>secondary_cleaner.state.floatbank5_b_level</th>\n",
       "      <th>secondary_cleaner.state.floatbank6_a_air</th>\n",
       "      <th>secondary_cleaner.state.floatbank6_a_level</th>\n",
       "    </tr>\n",
       "  </thead>\n",
       "  <tbody>\n",
       "    <tr>\n",
       "      <th>count</th>\n",
       "      <td>5286.000000</td>\n",
       "      <td>5285.000000</td>\n",
       "      <td>5290.000000</td>\n",
       "      <td>5286.000000</td>\n",
       "      <td>5.290000e+03</td>\n",
       "      <td>5290.000000</td>\n",
       "      <td>5.290000e+03</td>\n",
       "      <td>5290.000000</td>\n",
       "      <td>5.290000e+03</td>\n",
       "      <td>5290.000000</td>\n",
       "      <td>...</td>\n",
       "      <td>5.290000e+03</td>\n",
       "      <td>5290.000000</td>\n",
       "      <td>5.290000e+03</td>\n",
       "      <td>5290.000000</td>\n",
       "      <td>5290.000000</td>\n",
       "      <td>5290.000000</td>\n",
       "      <td>5290.000000</td>\n",
       "      <td>5290.000000</td>\n",
       "      <td>5290.000000</td>\n",
       "      <td>5290.000000</td>\n",
       "    </tr>\n",
       "    <tr>\n",
       "      <th>mean</th>\n",
       "      <td>174.839652</td>\n",
       "      <td>8.683596</td>\n",
       "      <td>7.266339</td>\n",
       "      <td>1.383803</td>\n",
       "      <td>1.539494e+03</td>\n",
       "      <td>-497.665883</td>\n",
       "      <td>1.545174e+03</td>\n",
       "      <td>-500.273098</td>\n",
       "      <td>1.527272e+03</td>\n",
       "      <td>-498.330680</td>\n",
       "      <td>...</td>\n",
       "      <td>1.632007e+01</td>\n",
       "      <td>-505.144570</td>\n",
       "      <td>1.373544e+01</td>\n",
       "      <td>-463.349858</td>\n",
       "      <td>12.804186</td>\n",
       "      <td>-501.329122</td>\n",
       "      <td>9.881145</td>\n",
       "      <td>-495.663398</td>\n",
       "      <td>17.304935</td>\n",
       "      <td>-501.793193</td>\n",
       "    </tr>\n",
       "    <tr>\n",
       "      <th>std</th>\n",
       "      <td>43.027080</td>\n",
       "      <td>3.072050</td>\n",
       "      <td>0.610219</td>\n",
       "      <td>0.643474</td>\n",
       "      <td>1.167979e+02</td>\n",
       "      <td>19.952431</td>\n",
       "      <td>1.222246e+02</td>\n",
       "      <td>32.968307</td>\n",
       "      <td>1.225380e+02</td>\n",
       "      <td>21.964876</td>\n",
       "      <td>...</td>\n",
       "      <td>3.493583e+00</td>\n",
       "      <td>31.427337</td>\n",
       "      <td>3.430484e+00</td>\n",
       "      <td>86.189107</td>\n",
       "      <td>3.026591</td>\n",
       "      <td>17.951495</td>\n",
       "      <td>2.868205</td>\n",
       "      <td>34.535007</td>\n",
       "      <td>4.536544</td>\n",
       "      <td>39.044215</td>\n",
       "    </tr>\n",
       "    <tr>\n",
       "      <th>min</th>\n",
       "      <td>2.566156</td>\n",
       "      <td>0.003839</td>\n",
       "      <td>5.650000</td>\n",
       "      <td>0.004984</td>\n",
       "      <td>5.445860e-32</td>\n",
       "      <td>-795.316337</td>\n",
       "      <td>6.647490e-32</td>\n",
       "      <td>-799.997015</td>\n",
       "      <td>4.033736e-32</td>\n",
       "      <td>-799.960571</td>\n",
       "      <td>...</td>\n",
       "      <td>1.079872e-16</td>\n",
       "      <td>-799.798523</td>\n",
       "      <td>2.489718e-17</td>\n",
       "      <td>-800.836914</td>\n",
       "      <td>0.069227</td>\n",
       "      <td>-797.323986</td>\n",
       "      <td>0.528083</td>\n",
       "      <td>-800.220337</td>\n",
       "      <td>-0.079426</td>\n",
       "      <td>-809.741464</td>\n",
       "    </tr>\n",
       "    <tr>\n",
       "      <th>25%</th>\n",
       "      <td>147.121401</td>\n",
       "      <td>6.489555</td>\n",
       "      <td>6.890000</td>\n",
       "      <td>0.907623</td>\n",
       "      <td>1.498936e+03</td>\n",
       "      <td>-500.357298</td>\n",
       "      <td>1.498971e+03</td>\n",
       "      <td>-500.703002</td>\n",
       "      <td>1.473230e+03</td>\n",
       "      <td>-501.018117</td>\n",
       "      <td>...</td>\n",
       "      <td>1.403618e+01</td>\n",
       "      <td>-500.868258</td>\n",
       "      <td>1.202862e+01</td>\n",
       "      <td>-500.323028</td>\n",
       "      <td>10.914838</td>\n",
       "      <td>-500.726841</td>\n",
       "      <td>8.036719</td>\n",
       "      <td>-500.194668</td>\n",
       "      <td>13.997317</td>\n",
       "      <td>-500.690984</td>\n",
       "    </tr>\n",
       "    <tr>\n",
       "      <th>50%</th>\n",
       "      <td>177.828489</td>\n",
       "      <td>8.052207</td>\n",
       "      <td>7.250000</td>\n",
       "      <td>1.197610</td>\n",
       "      <td>1.585129e+03</td>\n",
       "      <td>-499.969164</td>\n",
       "      <td>1.595622e+03</td>\n",
       "      <td>-500.028514</td>\n",
       "      <td>1.549595e+03</td>\n",
       "      <td>-500.017711</td>\n",
       "      <td>...</td>\n",
       "      <td>1.700847e+01</td>\n",
       "      <td>-500.115727</td>\n",
       "      <td>1.496486e+01</td>\n",
       "      <td>-499.576513</td>\n",
       "      <td>12.954182</td>\n",
       "      <td>-499.990332</td>\n",
       "      <td>10.004301</td>\n",
       "      <td>-499.990535</td>\n",
       "      <td>16.014935</td>\n",
       "      <td>-500.007126</td>\n",
       "    </tr>\n",
       "    <tr>\n",
       "      <th>75%</th>\n",
       "      <td>208.125438</td>\n",
       "      <td>10.027764</td>\n",
       "      <td>7.600000</td>\n",
       "      <td>1.797819</td>\n",
       "      <td>1.602077e+03</td>\n",
       "      <td>-499.568951</td>\n",
       "      <td>1.602324e+03</td>\n",
       "      <td>-499.293257</td>\n",
       "      <td>1.601144e+03</td>\n",
       "      <td>-498.994130</td>\n",
       "      <td>...</td>\n",
       "      <td>1.803862e+01</td>\n",
       "      <td>-499.404224</td>\n",
       "      <td>1.596213e+01</td>\n",
       "      <td>-400.933805</td>\n",
       "      <td>15.097528</td>\n",
       "      <td>-499.283191</td>\n",
       "      <td>11.997467</td>\n",
       "      <td>-499.719913</td>\n",
       "      <td>21.020013</td>\n",
       "      <td>-499.373018</td>\n",
       "    </tr>\n",
       "    <tr>\n",
       "      <th>max</th>\n",
       "      <td>265.983123</td>\n",
       "      <td>40.000000</td>\n",
       "      <td>15.500000</td>\n",
       "      <td>4.102454</td>\n",
       "      <td>2.103104e+03</td>\n",
       "      <td>-57.195404</td>\n",
       "      <td>1.813084e+03</td>\n",
       "      <td>-142.527229</td>\n",
       "      <td>1.715054e+03</td>\n",
       "      <td>-150.937035</td>\n",
       "      <td>...</td>\n",
       "      <td>3.005180e+01</td>\n",
       "      <td>-401.565212</td>\n",
       "      <td>3.126971e+01</td>\n",
       "      <td>-6.506986</td>\n",
       "      <td>25.258848</td>\n",
       "      <td>-244.483566</td>\n",
       "      <td>14.086866</td>\n",
       "      <td>-137.740004</td>\n",
       "      <td>26.705889</td>\n",
       "      <td>-123.307487</td>\n",
       "    </tr>\n",
       "  </tbody>\n",
       "</table>\n",
       "<p>8 rows × 52 columns</p>\n",
       "</div>"
      ],
      "text/plain": [
       "       primary_cleaner.input.sulfate  primary_cleaner.input.depressant  \\\n",
       "count                    5286.000000                       5285.000000   \n",
       "mean                      174.839652                          8.683596   \n",
       "std                        43.027080                          3.072050   \n",
       "min                         2.566156                          0.003839   \n",
       "25%                       147.121401                          6.489555   \n",
       "50%                       177.828489                          8.052207   \n",
       "75%                       208.125438                         10.027764   \n",
       "max                       265.983123                         40.000000   \n",
       "\n",
       "       primary_cleaner.input.feed_size  primary_cleaner.input.xanthate  \\\n",
       "count                      5290.000000                     5286.000000   \n",
       "mean                          7.266339                        1.383803   \n",
       "std                           0.610219                        0.643474   \n",
       "min                           5.650000                        0.004984   \n",
       "25%                           6.890000                        0.907623   \n",
       "50%                           7.250000                        1.197610   \n",
       "75%                           7.600000                        1.797819   \n",
       "max                          15.500000                        4.102454   \n",
       "\n",
       "       primary_cleaner.state.floatbank8_a_air  \\\n",
       "count                            5.290000e+03   \n",
       "mean                             1.539494e+03   \n",
       "std                              1.167979e+02   \n",
       "min                              5.445860e-32   \n",
       "25%                              1.498936e+03   \n",
       "50%                              1.585129e+03   \n",
       "75%                              1.602077e+03   \n",
       "max                              2.103104e+03   \n",
       "\n",
       "       primary_cleaner.state.floatbank8_a_level  \\\n",
       "count                               5290.000000   \n",
       "mean                                -497.665883   \n",
       "std                                   19.952431   \n",
       "min                                 -795.316337   \n",
       "25%                                 -500.357298   \n",
       "50%                                 -499.969164   \n",
       "75%                                 -499.568951   \n",
       "max                                  -57.195404   \n",
       "\n",
       "       primary_cleaner.state.floatbank8_b_air  \\\n",
       "count                            5.290000e+03   \n",
       "mean                             1.545174e+03   \n",
       "std                              1.222246e+02   \n",
       "min                              6.647490e-32   \n",
       "25%                              1.498971e+03   \n",
       "50%                              1.595622e+03   \n",
       "75%                              1.602324e+03   \n",
       "max                              1.813084e+03   \n",
       "\n",
       "       primary_cleaner.state.floatbank8_b_level  \\\n",
       "count                               5290.000000   \n",
       "mean                                -500.273098   \n",
       "std                                   32.968307   \n",
       "min                                 -799.997015   \n",
       "25%                                 -500.703002   \n",
       "50%                                 -500.028514   \n",
       "75%                                 -499.293257   \n",
       "max                                 -142.527229   \n",
       "\n",
       "       primary_cleaner.state.floatbank8_c_air  \\\n",
       "count                            5.290000e+03   \n",
       "mean                             1.527272e+03   \n",
       "std                              1.225380e+02   \n",
       "min                              4.033736e-32   \n",
       "25%                              1.473230e+03   \n",
       "50%                              1.549595e+03   \n",
       "75%                              1.601144e+03   \n",
       "max                              1.715054e+03   \n",
       "\n",
       "       primary_cleaner.state.floatbank8_c_level  ...  \\\n",
       "count                               5290.000000  ...   \n",
       "mean                                -498.330680  ...   \n",
       "std                                   21.964876  ...   \n",
       "min                                 -799.960571  ...   \n",
       "25%                                 -501.018117  ...   \n",
       "50%                                 -500.017711  ...   \n",
       "75%                                 -498.994130  ...   \n",
       "max                                 -150.937035  ...   \n",
       "\n",
       "       secondary_cleaner.state.floatbank4_a_air  \\\n",
       "count                              5.290000e+03   \n",
       "mean                               1.632007e+01   \n",
       "std                                3.493583e+00   \n",
       "min                                1.079872e-16   \n",
       "25%                                1.403618e+01   \n",
       "50%                                1.700847e+01   \n",
       "75%                                1.803862e+01   \n",
       "max                                3.005180e+01   \n",
       "\n",
       "       secondary_cleaner.state.floatbank4_a_level  \\\n",
       "count                                 5290.000000   \n",
       "mean                                  -505.144570   \n",
       "std                                     31.427337   \n",
       "min                                   -799.798523   \n",
       "25%                                   -500.868258   \n",
       "50%                                   -500.115727   \n",
       "75%                                   -499.404224   \n",
       "max                                   -401.565212   \n",
       "\n",
       "       secondary_cleaner.state.floatbank4_b_air  \\\n",
       "count                              5.290000e+03   \n",
       "mean                               1.373544e+01   \n",
       "std                                3.430484e+00   \n",
       "min                                2.489718e-17   \n",
       "25%                                1.202862e+01   \n",
       "50%                                1.496486e+01   \n",
       "75%                                1.596213e+01   \n",
       "max                                3.126971e+01   \n",
       "\n",
       "       secondary_cleaner.state.floatbank4_b_level  \\\n",
       "count                                 5290.000000   \n",
       "mean                                  -463.349858   \n",
       "std                                     86.189107   \n",
       "min                                   -800.836914   \n",
       "25%                                   -500.323028   \n",
       "50%                                   -499.576513   \n",
       "75%                                   -400.933805   \n",
       "max                                     -6.506986   \n",
       "\n",
       "       secondary_cleaner.state.floatbank5_a_air  \\\n",
       "count                               5290.000000   \n",
       "mean                                  12.804186   \n",
       "std                                    3.026591   \n",
       "min                                    0.069227   \n",
       "25%                                   10.914838   \n",
       "50%                                   12.954182   \n",
       "75%                                   15.097528   \n",
       "max                                   25.258848   \n",
       "\n",
       "       secondary_cleaner.state.floatbank5_a_level  \\\n",
       "count                                 5290.000000   \n",
       "mean                                  -501.329122   \n",
       "std                                     17.951495   \n",
       "min                                   -797.323986   \n",
       "25%                                   -500.726841   \n",
       "50%                                   -499.990332   \n",
       "75%                                   -499.283191   \n",
       "max                                   -244.483566   \n",
       "\n",
       "       secondary_cleaner.state.floatbank5_b_air  \\\n",
       "count                               5290.000000   \n",
       "mean                                   9.881145   \n",
       "std                                    2.868205   \n",
       "min                                    0.528083   \n",
       "25%                                    8.036719   \n",
       "50%                                   10.004301   \n",
       "75%                                   11.997467   \n",
       "max                                   14.086866   \n",
       "\n",
       "       secondary_cleaner.state.floatbank5_b_level  \\\n",
       "count                                 5290.000000   \n",
       "mean                                  -495.663398   \n",
       "std                                     34.535007   \n",
       "min                                   -800.220337   \n",
       "25%                                   -500.194668   \n",
       "50%                                   -499.990535   \n",
       "75%                                   -499.719913   \n",
       "max                                   -137.740004   \n",
       "\n",
       "       secondary_cleaner.state.floatbank6_a_air  \\\n",
       "count                               5290.000000   \n",
       "mean                                  17.304935   \n",
       "std                                    4.536544   \n",
       "min                                   -0.079426   \n",
       "25%                                   13.997317   \n",
       "50%                                   16.014935   \n",
       "75%                                   21.020013   \n",
       "max                                   26.705889   \n",
       "\n",
       "       secondary_cleaner.state.floatbank6_a_level  \n",
       "count                                 5290.000000  \n",
       "mean                                  -501.793193  \n",
       "std                                     39.044215  \n",
       "min                                   -809.741464  \n",
       "25%                                   -500.690984  \n",
       "50%                                   -500.007126  \n",
       "75%                                   -499.373018  \n",
       "max                                   -123.307487  \n",
       "\n",
       "[8 rows x 52 columns]"
      ]
     },
     "metadata": {},
     "output_type": "display_data"
    },
    {
     "name": "stdout",
     "output_type": "stream",
     "text": [
      "<class 'pandas.core.frame.DataFrame'>\n",
      "Index: 5290 entries, 2016-09-01 00:59:59 to 2017-12-31 23:59:59\n",
      "Data columns (total 52 columns):\n",
      " #   Column                                      Non-Null Count  Dtype  \n",
      "---  ------                                      --------------  -----  \n",
      " 0   primary_cleaner.input.sulfate               5286 non-null   float64\n",
      " 1   primary_cleaner.input.depressant            5285 non-null   float64\n",
      " 2   primary_cleaner.input.feed_size             5290 non-null   float64\n",
      " 3   primary_cleaner.input.xanthate              5286 non-null   float64\n",
      " 4   primary_cleaner.state.floatbank8_a_air      5290 non-null   float64\n",
      " 5   primary_cleaner.state.floatbank8_a_level    5290 non-null   float64\n",
      " 6   primary_cleaner.state.floatbank8_b_air      5290 non-null   float64\n",
      " 7   primary_cleaner.state.floatbank8_b_level    5290 non-null   float64\n",
      " 8   primary_cleaner.state.floatbank8_c_air      5290 non-null   float64\n",
      " 9   primary_cleaner.state.floatbank8_c_level    5290 non-null   float64\n",
      " 10  primary_cleaner.state.floatbank8_d_air      5290 non-null   float64\n",
      " 11  primary_cleaner.state.floatbank8_d_level    5290 non-null   float64\n",
      " 12  rougher.input.feed_ag                       5290 non-null   float64\n",
      " 13  rougher.input.feed_pb                       5290 non-null   float64\n",
      " 14  rougher.input.feed_rate                     5287 non-null   float64\n",
      " 15  rougher.input.feed_size                     5289 non-null   float64\n",
      " 16  rougher.input.feed_sol                      5269 non-null   float64\n",
      " 17  rougher.input.feed_au                       5290 non-null   float64\n",
      " 18  rougher.input.floatbank10_sulfate           5285 non-null   float64\n",
      " 19  rougher.input.floatbank10_xanthate          5290 non-null   float64\n",
      " 20  rougher.input.floatbank11_sulfate           5282 non-null   float64\n",
      " 21  rougher.input.floatbank11_xanthate          5265 non-null   float64\n",
      " 22  rougher.state.floatbank10_a_air             5290 non-null   float64\n",
      " 23  rougher.state.floatbank10_a_level           5290 non-null   float64\n",
      " 24  rougher.state.floatbank10_b_air             5290 non-null   float64\n",
      " 25  rougher.state.floatbank10_b_level           5290 non-null   float64\n",
      " 26  rougher.state.floatbank10_c_air             5290 non-null   float64\n",
      " 27  rougher.state.floatbank10_c_level           5290 non-null   float64\n",
      " 28  rougher.state.floatbank10_d_air             5290 non-null   float64\n",
      " 29  rougher.state.floatbank10_d_level           5290 non-null   float64\n",
      " 30  rougher.state.floatbank10_e_air             5290 non-null   float64\n",
      " 31  rougher.state.floatbank10_e_level           5290 non-null   float64\n",
      " 32  rougher.state.floatbank10_f_air             5290 non-null   float64\n",
      " 33  rougher.state.floatbank10_f_level           5290 non-null   float64\n",
      " 34  secondary_cleaner.state.floatbank2_a_air    5287 non-null   float64\n",
      " 35  secondary_cleaner.state.floatbank2_a_level  5290 non-null   float64\n",
      " 36  secondary_cleaner.state.floatbank2_b_air    5288 non-null   float64\n",
      " 37  secondary_cleaner.state.floatbank2_b_level  5290 non-null   float64\n",
      " 38  secondary_cleaner.state.floatbank3_a_air    5281 non-null   float64\n",
      " 39  secondary_cleaner.state.floatbank3_a_level  5290 non-null   float64\n",
      " 40  secondary_cleaner.state.floatbank3_b_air    5290 non-null   float64\n",
      " 41  secondary_cleaner.state.floatbank3_b_level  5290 non-null   float64\n",
      " 42  secondary_cleaner.state.floatbank4_a_air    5290 non-null   float64\n",
      " 43  secondary_cleaner.state.floatbank4_a_level  5290 non-null   float64\n",
      " 44  secondary_cleaner.state.floatbank4_b_air    5290 non-null   float64\n",
      " 45  secondary_cleaner.state.floatbank4_b_level  5290 non-null   float64\n",
      " 46  secondary_cleaner.state.floatbank5_a_air    5290 non-null   float64\n",
      " 47  secondary_cleaner.state.floatbank5_a_level  5290 non-null   float64\n",
      " 48  secondary_cleaner.state.floatbank5_b_air    5290 non-null   float64\n",
      " 49  secondary_cleaner.state.floatbank5_b_level  5290 non-null   float64\n",
      " 50  secondary_cleaner.state.floatbank6_a_air    5290 non-null   float64\n",
      " 51  secondary_cleaner.state.floatbank6_a_level  5290 non-null   float64\n",
      "dtypes: float64(52)\n",
      "memory usage: 2.1+ MB\n",
      "None\n",
      "==================================================\n"
     ]
    }
   ],
   "source": [
    "print('Тестовые данные')\n",
    "data_test = first_analyze(data_test)"
   ]
  },
  {
   "cell_type": "code",
   "execution_count": 10,
   "metadata": {
    "scrolled": true
   },
   "outputs": [
    {
     "name": "stdout",
     "output_type": "stream",
     "text": [
      "Полные данные\n",
      "==================================================\n",
      "Количество строк: 19439\n",
      "Количество столбцов: 86\n"
     ]
    },
    {
     "data": {
      "text/html": [
       "<div>\n",
       "<style scoped>\n",
       "    .dataframe tbody tr th:only-of-type {\n",
       "        vertical-align: middle;\n",
       "    }\n",
       "\n",
       "    .dataframe tbody tr th {\n",
       "        vertical-align: top;\n",
       "    }\n",
       "\n",
       "    .dataframe thead th {\n",
       "        text-align: right;\n",
       "    }\n",
       "</style>\n",
       "<table border=\"1\" class=\"dataframe\">\n",
       "  <thead>\n",
       "    <tr style=\"text-align: right;\">\n",
       "      <th></th>\n",
       "      <th>final.output.concentrate_ag</th>\n",
       "      <th>final.output.concentrate_pb</th>\n",
       "      <th>final.output.concentrate_sol</th>\n",
       "      <th>final.output.concentrate_au</th>\n",
       "      <th>final.output.recovery</th>\n",
       "      <th>final.output.tail_ag</th>\n",
       "      <th>final.output.tail_pb</th>\n",
       "      <th>final.output.tail_sol</th>\n",
       "      <th>final.output.tail_au</th>\n",
       "      <th>primary_cleaner.input.sulfate</th>\n",
       "      <th>...</th>\n",
       "      <th>secondary_cleaner.state.floatbank4_a_air</th>\n",
       "      <th>secondary_cleaner.state.floatbank4_a_level</th>\n",
       "      <th>secondary_cleaner.state.floatbank4_b_air</th>\n",
       "      <th>secondary_cleaner.state.floatbank4_b_level</th>\n",
       "      <th>secondary_cleaner.state.floatbank5_a_air</th>\n",
       "      <th>secondary_cleaner.state.floatbank5_a_level</th>\n",
       "      <th>secondary_cleaner.state.floatbank5_b_air</th>\n",
       "      <th>secondary_cleaner.state.floatbank5_b_level</th>\n",
       "      <th>secondary_cleaner.state.floatbank6_a_air</th>\n",
       "      <th>secondary_cleaner.state.floatbank6_a_level</th>\n",
       "    </tr>\n",
       "    <tr>\n",
       "      <th>date</th>\n",
       "      <th></th>\n",
       "      <th></th>\n",
       "      <th></th>\n",
       "      <th></th>\n",
       "      <th></th>\n",
       "      <th></th>\n",
       "      <th></th>\n",
       "      <th></th>\n",
       "      <th></th>\n",
       "      <th></th>\n",
       "      <th></th>\n",
       "      <th></th>\n",
       "      <th></th>\n",
       "      <th></th>\n",
       "      <th></th>\n",
       "      <th></th>\n",
       "      <th></th>\n",
       "      <th></th>\n",
       "      <th></th>\n",
       "      <th></th>\n",
       "      <th></th>\n",
       "    </tr>\n",
       "  </thead>\n",
       "  <tbody>\n",
       "    <tr>\n",
       "      <th>2016-01-15 00:00:00</th>\n",
       "      <td>6.055403</td>\n",
       "      <td>9.889648</td>\n",
       "      <td>5.507324</td>\n",
       "      <td>42.192020</td>\n",
       "      <td>70.541216</td>\n",
       "      <td>10.411962</td>\n",
       "      <td>0.895447</td>\n",
       "      <td>16.904297</td>\n",
       "      <td>2.143149</td>\n",
       "      <td>127.092003</td>\n",
       "      <td>...</td>\n",
       "      <td>14.016835</td>\n",
       "      <td>-502.488007</td>\n",
       "      <td>12.099931</td>\n",
       "      <td>-504.715942</td>\n",
       "      <td>9.925633</td>\n",
       "      <td>-498.310211</td>\n",
       "      <td>8.079666</td>\n",
       "      <td>-500.470978</td>\n",
       "      <td>14.151341</td>\n",
       "      <td>-605.841980</td>\n",
       "    </tr>\n",
       "    <tr>\n",
       "      <th>2016-01-15 01:00:00</th>\n",
       "      <td>6.029369</td>\n",
       "      <td>9.968944</td>\n",
       "      <td>5.257781</td>\n",
       "      <td>42.701629</td>\n",
       "      <td>69.266198</td>\n",
       "      <td>10.462676</td>\n",
       "      <td>0.927452</td>\n",
       "      <td>16.634514</td>\n",
       "      <td>2.224930</td>\n",
       "      <td>125.629232</td>\n",
       "      <td>...</td>\n",
       "      <td>13.992281</td>\n",
       "      <td>-505.503262</td>\n",
       "      <td>11.950531</td>\n",
       "      <td>-501.331529</td>\n",
       "      <td>10.039245</td>\n",
       "      <td>-500.169983</td>\n",
       "      <td>7.984757</td>\n",
       "      <td>-500.582168</td>\n",
       "      <td>13.998353</td>\n",
       "      <td>-599.787184</td>\n",
       "    </tr>\n",
       "    <tr>\n",
       "      <th>2016-01-15 02:00:00</th>\n",
       "      <td>6.055926</td>\n",
       "      <td>10.213995</td>\n",
       "      <td>5.383759</td>\n",
       "      <td>42.657501</td>\n",
       "      <td>68.116445</td>\n",
       "      <td>10.507046</td>\n",
       "      <td>0.953716</td>\n",
       "      <td>16.208849</td>\n",
       "      <td>2.257889</td>\n",
       "      <td>123.819808</td>\n",
       "      <td>...</td>\n",
       "      <td>14.015015</td>\n",
       "      <td>-502.520901</td>\n",
       "      <td>11.912783</td>\n",
       "      <td>-501.133383</td>\n",
       "      <td>10.070913</td>\n",
       "      <td>-500.129135</td>\n",
       "      <td>8.013877</td>\n",
       "      <td>-500.517572</td>\n",
       "      <td>14.028663</td>\n",
       "      <td>-601.427363</td>\n",
       "    </tr>\n",
       "    <tr>\n",
       "      <th>2016-01-15 03:00:00</th>\n",
       "      <td>6.047977</td>\n",
       "      <td>9.977019</td>\n",
       "      <td>4.858634</td>\n",
       "      <td>42.689819</td>\n",
       "      <td>68.347543</td>\n",
       "      <td>10.422762</td>\n",
       "      <td>0.883763</td>\n",
       "      <td>16.532835</td>\n",
       "      <td>2.146849</td>\n",
       "      <td>122.270188</td>\n",
       "      <td>...</td>\n",
       "      <td>14.036510</td>\n",
       "      <td>-500.857308</td>\n",
       "      <td>11.999550</td>\n",
       "      <td>-501.193686</td>\n",
       "      <td>9.970366</td>\n",
       "      <td>-499.201640</td>\n",
       "      <td>7.977324</td>\n",
       "      <td>-500.255908</td>\n",
       "      <td>14.005551</td>\n",
       "      <td>-599.996129</td>\n",
       "    </tr>\n",
       "    <tr>\n",
       "      <th>2016-01-15 04:00:00</th>\n",
       "      <td>6.148599</td>\n",
       "      <td>10.142511</td>\n",
       "      <td>4.939416</td>\n",
       "      <td>42.774141</td>\n",
       "      <td>66.927016</td>\n",
       "      <td>10.360302</td>\n",
       "      <td>0.792826</td>\n",
       "      <td>16.525686</td>\n",
       "      <td>2.055292</td>\n",
       "      <td>117.988169</td>\n",
       "      <td>...</td>\n",
       "      <td>14.027298</td>\n",
       "      <td>-499.838632</td>\n",
       "      <td>11.953070</td>\n",
       "      <td>-501.053894</td>\n",
       "      <td>9.925709</td>\n",
       "      <td>-501.686727</td>\n",
       "      <td>7.894242</td>\n",
       "      <td>-500.356035</td>\n",
       "      <td>13.996647</td>\n",
       "      <td>-601.496691</td>\n",
       "    </tr>\n",
       "  </tbody>\n",
       "</table>\n",
       "<p>5 rows × 86 columns</p>\n",
       "</div>"
      ],
      "text/plain": [
       "                     final.output.concentrate_ag  final.output.concentrate_pb  \\\n",
       "date                                                                            \n",
       "2016-01-15 00:00:00                     6.055403                     9.889648   \n",
       "2016-01-15 01:00:00                     6.029369                     9.968944   \n",
       "2016-01-15 02:00:00                     6.055926                    10.213995   \n",
       "2016-01-15 03:00:00                     6.047977                     9.977019   \n",
       "2016-01-15 04:00:00                     6.148599                    10.142511   \n",
       "\n",
       "                     final.output.concentrate_sol  \\\n",
       "date                                                \n",
       "2016-01-15 00:00:00                      5.507324   \n",
       "2016-01-15 01:00:00                      5.257781   \n",
       "2016-01-15 02:00:00                      5.383759   \n",
       "2016-01-15 03:00:00                      4.858634   \n",
       "2016-01-15 04:00:00                      4.939416   \n",
       "\n",
       "                     final.output.concentrate_au  final.output.recovery  \\\n",
       "date                                                                      \n",
       "2016-01-15 00:00:00                    42.192020              70.541216   \n",
       "2016-01-15 01:00:00                    42.701629              69.266198   \n",
       "2016-01-15 02:00:00                    42.657501              68.116445   \n",
       "2016-01-15 03:00:00                    42.689819              68.347543   \n",
       "2016-01-15 04:00:00                    42.774141              66.927016   \n",
       "\n",
       "                     final.output.tail_ag  final.output.tail_pb  \\\n",
       "date                                                              \n",
       "2016-01-15 00:00:00             10.411962              0.895447   \n",
       "2016-01-15 01:00:00             10.462676              0.927452   \n",
       "2016-01-15 02:00:00             10.507046              0.953716   \n",
       "2016-01-15 03:00:00             10.422762              0.883763   \n",
       "2016-01-15 04:00:00             10.360302              0.792826   \n",
       "\n",
       "                     final.output.tail_sol  final.output.tail_au  \\\n",
       "date                                                               \n",
       "2016-01-15 00:00:00              16.904297              2.143149   \n",
       "2016-01-15 01:00:00              16.634514              2.224930   \n",
       "2016-01-15 02:00:00              16.208849              2.257889   \n",
       "2016-01-15 03:00:00              16.532835              2.146849   \n",
       "2016-01-15 04:00:00              16.525686              2.055292   \n",
       "\n",
       "                     primary_cleaner.input.sulfate  ...  \\\n",
       "date                                                ...   \n",
       "2016-01-15 00:00:00                     127.092003  ...   \n",
       "2016-01-15 01:00:00                     125.629232  ...   \n",
       "2016-01-15 02:00:00                     123.819808  ...   \n",
       "2016-01-15 03:00:00                     122.270188  ...   \n",
       "2016-01-15 04:00:00                     117.988169  ...   \n",
       "\n",
       "                     secondary_cleaner.state.floatbank4_a_air  \\\n",
       "date                                                            \n",
       "2016-01-15 00:00:00                                 14.016835   \n",
       "2016-01-15 01:00:00                                 13.992281   \n",
       "2016-01-15 02:00:00                                 14.015015   \n",
       "2016-01-15 03:00:00                                 14.036510   \n",
       "2016-01-15 04:00:00                                 14.027298   \n",
       "\n",
       "                     secondary_cleaner.state.floatbank4_a_level  \\\n",
       "date                                                              \n",
       "2016-01-15 00:00:00                                 -502.488007   \n",
       "2016-01-15 01:00:00                                 -505.503262   \n",
       "2016-01-15 02:00:00                                 -502.520901   \n",
       "2016-01-15 03:00:00                                 -500.857308   \n",
       "2016-01-15 04:00:00                                 -499.838632   \n",
       "\n",
       "                     secondary_cleaner.state.floatbank4_b_air  \\\n",
       "date                                                            \n",
       "2016-01-15 00:00:00                                 12.099931   \n",
       "2016-01-15 01:00:00                                 11.950531   \n",
       "2016-01-15 02:00:00                                 11.912783   \n",
       "2016-01-15 03:00:00                                 11.999550   \n",
       "2016-01-15 04:00:00                                 11.953070   \n",
       "\n",
       "                     secondary_cleaner.state.floatbank4_b_level  \\\n",
       "date                                                              \n",
       "2016-01-15 00:00:00                                 -504.715942   \n",
       "2016-01-15 01:00:00                                 -501.331529   \n",
       "2016-01-15 02:00:00                                 -501.133383   \n",
       "2016-01-15 03:00:00                                 -501.193686   \n",
       "2016-01-15 04:00:00                                 -501.053894   \n",
       "\n",
       "                     secondary_cleaner.state.floatbank5_a_air  \\\n",
       "date                                                            \n",
       "2016-01-15 00:00:00                                  9.925633   \n",
       "2016-01-15 01:00:00                                 10.039245   \n",
       "2016-01-15 02:00:00                                 10.070913   \n",
       "2016-01-15 03:00:00                                  9.970366   \n",
       "2016-01-15 04:00:00                                  9.925709   \n",
       "\n",
       "                     secondary_cleaner.state.floatbank5_a_level  \\\n",
       "date                                                              \n",
       "2016-01-15 00:00:00                                 -498.310211   \n",
       "2016-01-15 01:00:00                                 -500.169983   \n",
       "2016-01-15 02:00:00                                 -500.129135   \n",
       "2016-01-15 03:00:00                                 -499.201640   \n",
       "2016-01-15 04:00:00                                 -501.686727   \n",
       "\n",
       "                     secondary_cleaner.state.floatbank5_b_air  \\\n",
       "date                                                            \n",
       "2016-01-15 00:00:00                                  8.079666   \n",
       "2016-01-15 01:00:00                                  7.984757   \n",
       "2016-01-15 02:00:00                                  8.013877   \n",
       "2016-01-15 03:00:00                                  7.977324   \n",
       "2016-01-15 04:00:00                                  7.894242   \n",
       "\n",
       "                     secondary_cleaner.state.floatbank5_b_level  \\\n",
       "date                                                              \n",
       "2016-01-15 00:00:00                                 -500.470978   \n",
       "2016-01-15 01:00:00                                 -500.582168   \n",
       "2016-01-15 02:00:00                                 -500.517572   \n",
       "2016-01-15 03:00:00                                 -500.255908   \n",
       "2016-01-15 04:00:00                                 -500.356035   \n",
       "\n",
       "                     secondary_cleaner.state.floatbank6_a_air  \\\n",
       "date                                                            \n",
       "2016-01-15 00:00:00                                 14.151341   \n",
       "2016-01-15 01:00:00                                 13.998353   \n",
       "2016-01-15 02:00:00                                 14.028663   \n",
       "2016-01-15 03:00:00                                 14.005551   \n",
       "2016-01-15 04:00:00                                 13.996647   \n",
       "\n",
       "                     secondary_cleaner.state.floatbank6_a_level  \n",
       "date                                                             \n",
       "2016-01-15 00:00:00                                 -605.841980  \n",
       "2016-01-15 01:00:00                                 -599.787184  \n",
       "2016-01-15 02:00:00                                 -601.427363  \n",
       "2016-01-15 03:00:00                                 -599.996129  \n",
       "2016-01-15 04:00:00                                 -601.496691  \n",
       "\n",
       "[5 rows x 86 columns]"
      ]
     },
     "metadata": {},
     "output_type": "display_data"
    },
    {
     "data": {
      "text/html": [
       "<div>\n",
       "<style scoped>\n",
       "    .dataframe tbody tr th:only-of-type {\n",
       "        vertical-align: middle;\n",
       "    }\n",
       "\n",
       "    .dataframe tbody tr th {\n",
       "        vertical-align: top;\n",
       "    }\n",
       "\n",
       "    .dataframe thead th {\n",
       "        text-align: right;\n",
       "    }\n",
       "</style>\n",
       "<table border=\"1\" class=\"dataframe\">\n",
       "  <thead>\n",
       "    <tr style=\"text-align: right;\">\n",
       "      <th></th>\n",
       "      <th>final.output.concentrate_ag</th>\n",
       "      <th>final.output.concentrate_pb</th>\n",
       "      <th>final.output.concentrate_sol</th>\n",
       "      <th>final.output.concentrate_au</th>\n",
       "      <th>final.output.recovery</th>\n",
       "      <th>final.output.tail_ag</th>\n",
       "      <th>final.output.tail_pb</th>\n",
       "      <th>final.output.tail_sol</th>\n",
       "      <th>final.output.tail_au</th>\n",
       "      <th>primary_cleaner.input.sulfate</th>\n",
       "      <th>...</th>\n",
       "      <th>secondary_cleaner.state.floatbank4_a_air</th>\n",
       "      <th>secondary_cleaner.state.floatbank4_a_level</th>\n",
       "      <th>secondary_cleaner.state.floatbank4_b_air</th>\n",
       "      <th>secondary_cleaner.state.floatbank4_b_level</th>\n",
       "      <th>secondary_cleaner.state.floatbank5_a_air</th>\n",
       "      <th>secondary_cleaner.state.floatbank5_a_level</th>\n",
       "      <th>secondary_cleaner.state.floatbank5_b_air</th>\n",
       "      <th>secondary_cleaner.state.floatbank5_b_level</th>\n",
       "      <th>secondary_cleaner.state.floatbank6_a_air</th>\n",
       "      <th>secondary_cleaner.state.floatbank6_a_level</th>\n",
       "    </tr>\n",
       "  </thead>\n",
       "  <tbody>\n",
       "    <tr>\n",
       "      <th>count</th>\n",
       "      <td>19438.000000</td>\n",
       "      <td>19438.000000</td>\n",
       "      <td>19228.000000</td>\n",
       "      <td>19439.000000</td>\n",
       "      <td>19439.000000</td>\n",
       "      <td>19438.000000</td>\n",
       "      <td>19338.000000</td>\n",
       "      <td>19433.000000</td>\n",
       "      <td>19439.000000</td>\n",
       "      <td>19415.000000</td>\n",
       "      <td>...</td>\n",
       "      <td>19433.000000</td>\n",
       "      <td>19438.000000</td>\n",
       "      <td>19438.000000</td>\n",
       "      <td>19438.000000</td>\n",
       "      <td>19438.000000</td>\n",
       "      <td>19438.000000</td>\n",
       "      <td>19438.000000</td>\n",
       "      <td>19438.000000</td>\n",
       "      <td>19437.000000</td>\n",
       "      <td>19438.000000</td>\n",
       "    </tr>\n",
       "    <tr>\n",
       "      <th>mean</th>\n",
       "      <td>5.168470</td>\n",
       "      <td>9.978895</td>\n",
       "      <td>9.501224</td>\n",
       "      <td>44.076513</td>\n",
       "      <td>67.050208</td>\n",
       "      <td>9.688589</td>\n",
       "      <td>2.705795</td>\n",
       "      <td>10.583728</td>\n",
       "      <td>3.042467</td>\n",
       "      <td>144.624774</td>\n",
       "      <td>...</td>\n",
       "      <td>18.987674</td>\n",
       "      <td>-485.894516</td>\n",
       "      <td>15.010366</td>\n",
       "      <td>-461.078636</td>\n",
       "      <td>15.694452</td>\n",
       "      <td>-488.684065</td>\n",
       "      <td>12.198224</td>\n",
       "      <td>-487.149827</td>\n",
       "      <td>18.959024</td>\n",
       "      <td>-505.436305</td>\n",
       "    </tr>\n",
       "    <tr>\n",
       "      <th>std</th>\n",
       "      <td>1.372348</td>\n",
       "      <td>1.669240</td>\n",
       "      <td>2.787537</td>\n",
       "      <td>5.129784</td>\n",
       "      <td>10.125840</td>\n",
       "      <td>2.328642</td>\n",
       "      <td>0.949077</td>\n",
       "      <td>2.868782</td>\n",
       "      <td>0.922808</td>\n",
       "      <td>44.464071</td>\n",
       "      <td>...</td>\n",
       "      <td>5.411058</td>\n",
       "      <td>47.758570</td>\n",
       "      <td>4.890228</td>\n",
       "      <td>67.405524</td>\n",
       "      <td>5.510974</td>\n",
       "      <td>34.533396</td>\n",
       "      <td>5.333024</td>\n",
       "      <td>38.347312</td>\n",
       "      <td>5.550498</td>\n",
       "      <td>37.689057</td>\n",
       "    </tr>\n",
       "    <tr>\n",
       "      <th>min</th>\n",
       "      <td>0.000000</td>\n",
       "      <td>0.000000</td>\n",
       "      <td>0.000000</td>\n",
       "      <td>0.000000</td>\n",
       "      <td>0.000000</td>\n",
       "      <td>0.000000</td>\n",
       "      <td>0.000000</td>\n",
       "      <td>0.000000</td>\n",
       "      <td>0.000000</td>\n",
       "      <td>0.003112</td>\n",
       "      <td>...</td>\n",
       "      <td>0.000000</td>\n",
       "      <td>-799.798523</td>\n",
       "      <td>0.000000</td>\n",
       "      <td>-800.836914</td>\n",
       "      <td>-0.372054</td>\n",
       "      <td>-797.323986</td>\n",
       "      <td>0.528083</td>\n",
       "      <td>-800.220337</td>\n",
       "      <td>-0.079426</td>\n",
       "      <td>-809.741464</td>\n",
       "    </tr>\n",
       "    <tr>\n",
       "      <th>25%</th>\n",
       "      <td>4.251240</td>\n",
       "      <td>9.137262</td>\n",
       "      <td>7.722820</td>\n",
       "      <td>43.402215</td>\n",
       "      <td>63.299712</td>\n",
       "      <td>8.062878</td>\n",
       "      <td>2.040119</td>\n",
       "      <td>8.938947</td>\n",
       "      <td>2.461138</td>\n",
       "      <td>114.107029</td>\n",
       "      <td>...</td>\n",
       "      <td>14.975734</td>\n",
       "      <td>-500.704892</td>\n",
       "      <td>11.940294</td>\n",
       "      <td>-500.187742</td>\n",
       "      <td>10.988606</td>\n",
       "      <td>-500.458467</td>\n",
       "      <td>8.971105</td>\n",
       "      <td>-500.129462</td>\n",
       "      <td>14.983037</td>\n",
       "      <td>-500.728067</td>\n",
       "    </tr>\n",
       "    <tr>\n",
       "      <th>50%</th>\n",
       "      <td>5.066094</td>\n",
       "      <td>10.102433</td>\n",
       "      <td>9.218961</td>\n",
       "      <td>45.011244</td>\n",
       "      <td>68.172738</td>\n",
       "      <td>9.743623</td>\n",
       "      <td>2.748730</td>\n",
       "      <td>10.622456</td>\n",
       "      <td>2.984909</td>\n",
       "      <td>143.232103</td>\n",
       "      <td>...</td>\n",
       "      <td>18.017481</td>\n",
       "      <td>-499.837793</td>\n",
       "      <td>14.971014</td>\n",
       "      <td>-499.459786</td>\n",
       "      <td>15.000036</td>\n",
       "      <td>-499.802605</td>\n",
       "      <td>11.019433</td>\n",
       "      <td>-499.935317</td>\n",
       "      <td>19.960541</td>\n",
       "      <td>-500.048400</td>\n",
       "    </tr>\n",
       "    <tr>\n",
       "      <th>75%</th>\n",
       "      <td>5.895527</td>\n",
       "      <td>11.035769</td>\n",
       "      <td>10.947813</td>\n",
       "      <td>46.275313</td>\n",
       "      <td>72.686642</td>\n",
       "      <td>11.134294</td>\n",
       "      <td>3.333216</td>\n",
       "      <td>12.104271</td>\n",
       "      <td>3.571351</td>\n",
       "      <td>175.075656</td>\n",
       "      <td>...</td>\n",
       "      <td>23.012470</td>\n",
       "      <td>-498.249730</td>\n",
       "      <td>19.034162</td>\n",
       "      <td>-400.118106</td>\n",
       "      <td>18.026190</td>\n",
       "      <td>-498.384187</td>\n",
       "      <td>14.019088</td>\n",
       "      <td>-499.436708</td>\n",
       "      <td>24.003170</td>\n",
       "      <td>-499.495378</td>\n",
       "    </tr>\n",
       "    <tr>\n",
       "      <th>max</th>\n",
       "      <td>16.001945</td>\n",
       "      <td>17.031899</td>\n",
       "      <td>19.615720</td>\n",
       "      <td>52.756638</td>\n",
       "      <td>100.000000</td>\n",
       "      <td>19.552149</td>\n",
       "      <td>5.804178</td>\n",
       "      <td>22.317730</td>\n",
       "      <td>8.245022</td>\n",
       "      <td>265.983123</td>\n",
       "      <td>...</td>\n",
       "      <td>30.115735</td>\n",
       "      <td>-245.239184</td>\n",
       "      <td>31.269706</td>\n",
       "      <td>-6.506986</td>\n",
       "      <td>43.709931</td>\n",
       "      <td>-244.483566</td>\n",
       "      <td>27.926001</td>\n",
       "      <td>-137.740004</td>\n",
       "      <td>32.188906</td>\n",
       "      <td>-104.427459</td>\n",
       "    </tr>\n",
       "  </tbody>\n",
       "</table>\n",
       "<p>8 rows × 86 columns</p>\n",
       "</div>"
      ],
      "text/plain": [
       "       final.output.concentrate_ag  final.output.concentrate_pb  \\\n",
       "count                 19438.000000                 19438.000000   \n",
       "mean                      5.168470                     9.978895   \n",
       "std                       1.372348                     1.669240   \n",
       "min                       0.000000                     0.000000   \n",
       "25%                       4.251240                     9.137262   \n",
       "50%                       5.066094                    10.102433   \n",
       "75%                       5.895527                    11.035769   \n",
       "max                      16.001945                    17.031899   \n",
       "\n",
       "       final.output.concentrate_sol  final.output.concentrate_au  \\\n",
       "count                  19228.000000                 19439.000000   \n",
       "mean                       9.501224                    44.076513   \n",
       "std                        2.787537                     5.129784   \n",
       "min                        0.000000                     0.000000   \n",
       "25%                        7.722820                    43.402215   \n",
       "50%                        9.218961                    45.011244   \n",
       "75%                       10.947813                    46.275313   \n",
       "max                       19.615720                    52.756638   \n",
       "\n",
       "       final.output.recovery  final.output.tail_ag  final.output.tail_pb  \\\n",
       "count           19439.000000          19438.000000          19338.000000   \n",
       "mean               67.050208              9.688589              2.705795   \n",
       "std                10.125840              2.328642              0.949077   \n",
       "min                 0.000000              0.000000              0.000000   \n",
       "25%                63.299712              8.062878              2.040119   \n",
       "50%                68.172738              9.743623              2.748730   \n",
       "75%                72.686642             11.134294              3.333216   \n",
       "max               100.000000             19.552149              5.804178   \n",
       "\n",
       "       final.output.tail_sol  final.output.tail_au  \\\n",
       "count           19433.000000          19439.000000   \n",
       "mean               10.583728              3.042467   \n",
       "std                 2.868782              0.922808   \n",
       "min                 0.000000              0.000000   \n",
       "25%                 8.938947              2.461138   \n",
       "50%                10.622456              2.984909   \n",
       "75%                12.104271              3.571351   \n",
       "max                22.317730              8.245022   \n",
       "\n",
       "       primary_cleaner.input.sulfate  ...  \\\n",
       "count                   19415.000000  ...   \n",
       "mean                      144.624774  ...   \n",
       "std                        44.464071  ...   \n",
       "min                         0.003112  ...   \n",
       "25%                       114.107029  ...   \n",
       "50%                       143.232103  ...   \n",
       "75%                       175.075656  ...   \n",
       "max                       265.983123  ...   \n",
       "\n",
       "       secondary_cleaner.state.floatbank4_a_air  \\\n",
       "count                              19433.000000   \n",
       "mean                                  18.987674   \n",
       "std                                    5.411058   \n",
       "min                                    0.000000   \n",
       "25%                                   14.975734   \n",
       "50%                                   18.017481   \n",
       "75%                                   23.012470   \n",
       "max                                   30.115735   \n",
       "\n",
       "       secondary_cleaner.state.floatbank4_a_level  \\\n",
       "count                                19438.000000   \n",
       "mean                                  -485.894516   \n",
       "std                                     47.758570   \n",
       "min                                   -799.798523   \n",
       "25%                                   -500.704892   \n",
       "50%                                   -499.837793   \n",
       "75%                                   -498.249730   \n",
       "max                                   -245.239184   \n",
       "\n",
       "       secondary_cleaner.state.floatbank4_b_air  \\\n",
       "count                              19438.000000   \n",
       "mean                                  15.010366   \n",
       "std                                    4.890228   \n",
       "min                                    0.000000   \n",
       "25%                                   11.940294   \n",
       "50%                                   14.971014   \n",
       "75%                                   19.034162   \n",
       "max                                   31.269706   \n",
       "\n",
       "       secondary_cleaner.state.floatbank4_b_level  \\\n",
       "count                                19438.000000   \n",
       "mean                                  -461.078636   \n",
       "std                                     67.405524   \n",
       "min                                   -800.836914   \n",
       "25%                                   -500.187742   \n",
       "50%                                   -499.459786   \n",
       "75%                                   -400.118106   \n",
       "max                                     -6.506986   \n",
       "\n",
       "       secondary_cleaner.state.floatbank5_a_air  \\\n",
       "count                              19438.000000   \n",
       "mean                                  15.694452   \n",
       "std                                    5.510974   \n",
       "min                                   -0.372054   \n",
       "25%                                   10.988606   \n",
       "50%                                   15.000036   \n",
       "75%                                   18.026190   \n",
       "max                                   43.709931   \n",
       "\n",
       "       secondary_cleaner.state.floatbank5_a_level  \\\n",
       "count                                19438.000000   \n",
       "mean                                  -488.684065   \n",
       "std                                     34.533396   \n",
       "min                                   -797.323986   \n",
       "25%                                   -500.458467   \n",
       "50%                                   -499.802605   \n",
       "75%                                   -498.384187   \n",
       "max                                   -244.483566   \n",
       "\n",
       "       secondary_cleaner.state.floatbank5_b_air  \\\n",
       "count                              19438.000000   \n",
       "mean                                  12.198224   \n",
       "std                                    5.333024   \n",
       "min                                    0.528083   \n",
       "25%                                    8.971105   \n",
       "50%                                   11.019433   \n",
       "75%                                   14.019088   \n",
       "max                                   27.926001   \n",
       "\n",
       "       secondary_cleaner.state.floatbank5_b_level  \\\n",
       "count                                19438.000000   \n",
       "mean                                  -487.149827   \n",
       "std                                     38.347312   \n",
       "min                                   -800.220337   \n",
       "25%                                   -500.129462   \n",
       "50%                                   -499.935317   \n",
       "75%                                   -499.436708   \n",
       "max                                   -137.740004   \n",
       "\n",
       "       secondary_cleaner.state.floatbank6_a_air  \\\n",
       "count                              19437.000000   \n",
       "mean                                  18.959024   \n",
       "std                                    5.550498   \n",
       "min                                   -0.079426   \n",
       "25%                                   14.983037   \n",
       "50%                                   19.960541   \n",
       "75%                                   24.003170   \n",
       "max                                   32.188906   \n",
       "\n",
       "       secondary_cleaner.state.floatbank6_a_level  \n",
       "count                                19438.000000  \n",
       "mean                                  -505.436305  \n",
       "std                                     37.689057  \n",
       "min                                   -809.741464  \n",
       "25%                                   -500.728067  \n",
       "50%                                   -500.048400  \n",
       "75%                                   -499.495378  \n",
       "max                                   -104.427459  \n",
       "\n",
       "[8 rows x 86 columns]"
      ]
     },
     "metadata": {},
     "output_type": "display_data"
    },
    {
     "name": "stdout",
     "output_type": "stream",
     "text": [
      "<class 'pandas.core.frame.DataFrame'>\n",
      "Index: 19439 entries, 2016-01-15 00:00:00 to 2018-08-18 10:59:59\n",
      "Data columns (total 86 columns):\n",
      " #   Column                                              Non-Null Count  Dtype  \n",
      "---  ------                                              --------------  -----  \n",
      " 0   final.output.concentrate_ag                         19438 non-null  float64\n",
      " 1   final.output.concentrate_pb                         19438 non-null  float64\n",
      " 2   final.output.concentrate_sol                        19228 non-null  float64\n",
      " 3   final.output.concentrate_au                         19439 non-null  float64\n",
      " 4   final.output.recovery                               19439 non-null  float64\n",
      " 5   final.output.tail_ag                                19438 non-null  float64\n",
      " 6   final.output.tail_pb                                19338 non-null  float64\n",
      " 7   final.output.tail_sol                               19433 non-null  float64\n",
      " 8   final.output.tail_au                                19439 non-null  float64\n",
      " 9   primary_cleaner.input.sulfate                       19415 non-null  float64\n",
      " 10  primary_cleaner.input.depressant                    19402 non-null  float64\n",
      " 11  primary_cleaner.input.feed_size                     19439 non-null  float64\n",
      " 12  primary_cleaner.input.xanthate                      19335 non-null  float64\n",
      " 13  primary_cleaner.output.concentrate_ag               19439 non-null  float64\n",
      " 14  primary_cleaner.output.concentrate_pb               19323 non-null  float64\n",
      " 15  primary_cleaner.output.concentrate_sol              19069 non-null  float64\n",
      " 16  primary_cleaner.output.concentrate_au               19439 non-null  float64\n",
      " 17  primary_cleaner.output.tail_ag                      19435 non-null  float64\n",
      " 18  primary_cleaner.output.tail_pb                      19418 non-null  float64\n",
      " 19  primary_cleaner.output.tail_sol                     19377 non-null  float64\n",
      " 20  primary_cleaner.output.tail_au                      19439 non-null  float64\n",
      " 21  primary_cleaner.state.floatbank8_a_air              19435 non-null  float64\n",
      " 22  primary_cleaner.state.floatbank8_a_level            19438 non-null  float64\n",
      " 23  primary_cleaner.state.floatbank8_b_air              19435 non-null  float64\n",
      " 24  primary_cleaner.state.floatbank8_b_level            19438 non-null  float64\n",
      " 25  primary_cleaner.state.floatbank8_c_air              19437 non-null  float64\n",
      " 26  primary_cleaner.state.floatbank8_c_level            19438 non-null  float64\n",
      " 27  primary_cleaner.state.floatbank8_d_air              19436 non-null  float64\n",
      " 28  primary_cleaner.state.floatbank8_d_level            19438 non-null  float64\n",
      " 29  rougher.calculation.sulfate_to_au_concentrate       19437 non-null  float64\n",
      " 30  rougher.calculation.floatbank10_sulfate_to_au_feed  19437 non-null  float64\n",
      " 31  rougher.calculation.floatbank11_sulfate_to_au_feed  19437 non-null  float64\n",
      " 32  rougher.calculation.au_pb_ratio                     19439 non-null  float64\n",
      " 33  rougher.input.feed_ag                               19439 non-null  float64\n",
      " 34  rougher.input.feed_pb                               19339 non-null  float64\n",
      " 35  rougher.input.feed_rate                             19428 non-null  float64\n",
      " 36  rougher.input.feed_size                             19294 non-null  float64\n",
      " 37  rougher.input.feed_sol                              19340 non-null  float64\n",
      " 38  rougher.input.feed_au                               19439 non-null  float64\n",
      " 39  rougher.input.floatbank10_sulfate                   19405 non-null  float64\n",
      " 40  rougher.input.floatbank10_xanthate                  19431 non-null  float64\n",
      " 41  rougher.input.floatbank11_sulfate                   19395 non-null  float64\n",
      " 42  rougher.input.floatbank11_xanthate                  18986 non-null  float64\n",
      " 43  rougher.output.concentrate_ag                       19439 non-null  float64\n",
      " 44  rougher.output.concentrate_pb                       19439 non-null  float64\n",
      " 45  rougher.output.concentrate_sol                      19416 non-null  float64\n",
      " 46  rougher.output.concentrate_au                       19439 non-null  float64\n",
      " 47  rougher.output.recovery                             19439 non-null  float64\n",
      " 48  rougher.output.tail_ag                              19438 non-null  float64\n",
      " 49  rougher.output.tail_pb                              19439 non-null  float64\n",
      " 50  rougher.output.tail_sol                             19439 non-null  float64\n",
      " 51  rougher.output.tail_au                              19439 non-null  float64\n",
      " 52  rougher.state.floatbank10_a_air                     19438 non-null  float64\n",
      " 53  rougher.state.floatbank10_a_level                   19438 non-null  float64\n",
      " 54  rougher.state.floatbank10_b_air                     19438 non-null  float64\n",
      " 55  rougher.state.floatbank10_b_level                   19438 non-null  float64\n",
      " 56  rougher.state.floatbank10_c_air                     19438 non-null  float64\n",
      " 57  rougher.state.floatbank10_c_level                   19438 non-null  float64\n",
      " 58  rougher.state.floatbank10_d_air                     19439 non-null  float64\n",
      " 59  rougher.state.floatbank10_d_level                   19439 non-null  float64\n",
      " 60  rougher.state.floatbank10_e_air                     19003 non-null  float64\n",
      " 61  rougher.state.floatbank10_e_level                   19439 non-null  float64\n",
      " 62  rougher.state.floatbank10_f_air                     19439 non-null  float64\n",
      " 63  rougher.state.floatbank10_f_level                   19439 non-null  float64\n",
      " 64  secondary_cleaner.output.tail_ag                    19437 non-null  float64\n",
      " 65  secondary_cleaner.output.tail_pb                    19427 non-null  float64\n",
      " 66  secondary_cleaner.output.tail_sol                   17691 non-null  float64\n",
      " 67  secondary_cleaner.output.tail_au                    19439 non-null  float64\n",
      " 68  secondary_cleaner.state.floatbank2_a_air            19219 non-null  float64\n",
      " 69  secondary_cleaner.state.floatbank2_a_level          19438 non-null  float64\n",
      " 70  secondary_cleaner.state.floatbank2_b_air            19416 non-null  float64\n",
      " 71  secondary_cleaner.state.floatbank2_b_level          19438 non-null  float64\n",
      " 72  secondary_cleaner.state.floatbank3_a_air            19426 non-null  float64\n",
      " 73  secondary_cleaner.state.floatbank3_a_level          19438 non-null  float64\n",
      " 74  secondary_cleaner.state.floatbank3_b_air            19438 non-null  float64\n",
      " 75  secondary_cleaner.state.floatbank3_b_level          19438 non-null  float64\n",
      " 76  secondary_cleaner.state.floatbank4_a_air            19433 non-null  float64\n",
      " 77  secondary_cleaner.state.floatbank4_a_level          19438 non-null  float64\n",
      " 78  secondary_cleaner.state.floatbank4_b_air            19438 non-null  float64\n",
      " 79  secondary_cleaner.state.floatbank4_b_level          19438 non-null  float64\n",
      " 80  secondary_cleaner.state.floatbank5_a_air            19438 non-null  float64\n",
      " 81  secondary_cleaner.state.floatbank5_a_level          19438 non-null  float64\n",
      " 82  secondary_cleaner.state.floatbank5_b_air            19438 non-null  float64\n",
      " 83  secondary_cleaner.state.floatbank5_b_level          19438 non-null  float64\n",
      " 84  secondary_cleaner.state.floatbank6_a_air            19437 non-null  float64\n",
      " 85  secondary_cleaner.state.floatbank6_a_level          19438 non-null  float64\n",
      "dtypes: float64(86)\n",
      "memory usage: 12.9+ MB\n",
      "None\n",
      "==================================================\n"
     ]
    }
   ],
   "source": [
    "print('Полные данные')\n",
    "data_full = first_analyze(data_full)"
   ]
  },
  {
   "cell_type": "markdown",
   "metadata": {},
   "source": [
    "В представленных данных присутствуют пропуски, а также в тестовых данных нет части признаков из тренировочных и полных данных."
   ]
  },
  {
   "cell_type": "markdown",
   "metadata": {},
   "source": [
    "<div class=\"alert alert-success\">\n",
    "<h2> Комментарий ревьюера <a class=\"tocSkip\"> </h2>\n",
    "\n",
    "<b>Все отлично!👍:  </b> \n",
    "    \n",
    "С данными познакомились, проведен первичный аналитический осмотр!) Полученная информация поможет нам в дальнейшем с предобработкой данных. Можно также отдельно выписать, имеются ли у нас пропуски в целевых переменных.\n",
    "</div>"
   ]
  },
  {
   "cell_type": "markdown",
   "metadata": {},
   "source": [
    "### Проверка рассчёта эффективности обогащения (rougher.output.recovery)"
   ]
  },
  {
   "cell_type": "markdown",
   "metadata": {},
   "source": [
    "Создадим функцию для проверки рассчитанного показателя rougher.output.recovery по формуле:\n",
    "\n",
    "$$ \\frac{C\\cdot(F-T)}{F\\cdot(C-T)}\\cdot100\\% $$\n",
    "\n",
    "где: \n",
    "* C — доля золота в концентрате после флотации/очистки (rougher.output.concentrate_au);\n",
    "* F — доля золота в сырье/концентрате до флотации/очистки (rougher.input.feed_au);\n",
    "* T — доля золота в отвальных хвостах после флотации/очистки (rougher.output.tail_au).\n",
    "\n",
    "Функция также сразу рассчитает MAE между нашим расчётом и предоставленными данными."
   ]
  },
  {
   "cell_type": "code",
   "execution_count": 11,
   "metadata": {},
   "outputs": [],
   "source": [
    "def recovery_check(rougher_output, rougher_input, rougher_tail):\n",
    "    recovery = (rougher_output * (rougher_input - rougher_tail))/\\\n",
    "    (rougher_input * (rougher_output - rougher_tail)) * 100\n",
    "    print(recovery.describe())\n",
    "    mae_recovery = mean_absolute_error(data_train['rougher.output.recovery'].dropna(), recovery.dropna())\n",
    "    print('MAE =', mae_recovery)"
   ]
  },
  {
   "cell_type": "code",
   "execution_count": 12,
   "metadata": {
    "scrolled": true
   },
   "outputs": [
    {
     "name": "stdout",
     "output_type": "stream",
     "text": [
      "count    14149.000000\n",
      "mean        82.704502\n",
      "std         14.479156\n",
      "min         -0.000000\n",
      "25%         79.993067\n",
      "50%         85.299462\n",
      "75%         90.165021\n",
      "max        100.000000\n",
      "dtype: float64\n",
      "MAE = 9.73512347450521e-15\n"
     ]
    }
   ],
   "source": [
    "recovery_check(data_train['rougher.output.concentrate_au'],\n",
    "              data_train['rougher.input.feed_au'],\n",
    "              data_train['rougher.output.tail_au'])"
   ]
  },
  {
   "cell_type": "markdown",
   "metadata": {},
   "source": [
    "МАЕ между рассчитанным и предоставленным показателем rougher.output.recovery очень мал - можно сделать вывод, что значение эффективности в предоставленных данных верное."
   ]
  },
  {
   "cell_type": "markdown",
   "metadata": {},
   "source": [
    "<div class=\"alert alert-success\">\n",
    "<h2> Комментарий ревьюера <a class=\"tocSkip\"> </h2>\n",
    "\n",
    "<b>Все отлично!👍:</b> \n",
    "    \n",
    "Твое расссчитанное значение `MAE` верно. Молодец, что расчёт эффективности выносишь в отдельную функцию."
   ]
  },
  {
   "cell_type": "markdown",
   "metadata": {},
   "source": [
    "### Анализ признаков, недоступных в тестовой выборке"
   ]
  },
  {
   "cell_type": "markdown",
   "metadata": {},
   "source": [
    "Посмотрим какие признаки есть в тренировочной, но отсутствуют в тестовой."
   ]
  },
  {
   "cell_type": "code",
   "execution_count": 13,
   "metadata": {},
   "outputs": [
    {
     "name": "stdout",
     "output_type": "stream",
     "text": [
      "final.output.concentrate_sol                          float64\n",
      "secondary_cleaner.output.tail_sol                     float64\n",
      "final.output.concentrate_ag                           float64\n",
      "primary_cleaner.output.concentrate_au                 float64\n",
      "secondary_cleaner.output.tail_ag                      float64\n",
      "secondary_cleaner.output.tail_pb                      float64\n",
      "rougher.calculation.floatbank11_sulfate_to_au_feed    float64\n",
      "final.output.concentrate_au                           float64\n",
      "primary_cleaner.output.tail_au                        float64\n",
      "final.output.recovery                                 float64\n",
      "primary_cleaner.output.concentrate_ag                 float64\n",
      "rougher.output.tail_au                                float64\n",
      "rougher.output.tail_ag                                float64\n",
      "final.output.concentrate_pb                           float64\n",
      "rougher.output.recovery                               float64\n",
      "rougher.calculation.au_pb_ratio                       float64\n",
      "rougher.output.concentrate_pb                         float64\n",
      "rougher.output.concentrate_ag                         float64\n",
      "final.output.tail_ag                                  float64\n",
      "final.output.tail_pb                                  float64\n",
      "final.output.tail_au                                  float64\n",
      "rougher.output.tail_pb                                float64\n",
      "rougher.calculation.floatbank10_sulfate_to_au_feed    float64\n",
      "primary_cleaner.output.tail_pb                        float64\n",
      "primary_cleaner.output.concentrate_pb                 float64\n",
      "primary_cleaner.output.tail_sol                       float64\n",
      "final.output.tail_sol                                 float64\n",
      "rougher.output.concentrate_sol                        float64\n",
      "rougher.output.concentrate_au                         float64\n",
      "secondary_cleaner.output.tail_au                      float64\n",
      "primary_cleaner.output.concentrate_sol                float64\n",
      "primary_cleaner.output.tail_ag                        float64\n",
      "rougher.calculation.sulfate_to_au_concentrate         float64\n",
      "rougher.output.tail_sol                               float64\n",
      "dtype: object\n"
     ]
    }
   ],
   "source": [
    "missing_test_fields = set(data_train.columns.to_list()) - set(data_test.columns.to_list())\n",
    "print(data_train[missing_test_fields].dtypes)"
   ]
  },
  {
   "cell_type": "markdown",
   "metadata": {},
   "source": [
    "* все пропущенные признаки имеют тип float;\n",
    "* признаки output - целевые признаки и из-за этого отсутствуют в тестовой выборке;\n",
    "* признаки rougher.calculation - это расчётные признаки, которые получены уже после окончания процессов."
   ]
  },
  {
   "cell_type": "markdown",
   "metadata": {},
   "source": [
    "<div class=\"alert alert-success\">\n",
    "<h2> Комментарий ревьюера <a class=\"tocSkip\"> </h2>\n",
    "\n",
    "<b>Все отлично!👍:</b> \n",
    "    \n",
    "Все верно, в тестовой выборке недоступны некоторые расчетные (calculation) и выходные (output) характеристики процесса, ведь их невозможно получить либо замерить во время выполнения технологического процесса."
   ]
  },
  {
   "cell_type": "markdown",
   "metadata": {},
   "source": [
    "### Предобработка данных"
   ]
  },
  {
   "cell_type": "markdown",
   "metadata": {},
   "source": [
    "Создадим фыункцию для расчёта процента пропусков и посмотрим процент пропусков в тренировочной и тестовой выборках."
   ]
  },
  {
   "cell_type": "code",
   "execution_count": 14,
   "metadata": {},
   "outputs": [],
   "source": [
    "def na_percent(data):\n",
    "    print(data.isnull().mean().sort_values(ascending=False)*100)"
   ]
  },
  {
   "cell_type": "code",
   "execution_count": 15,
   "metadata": {
    "scrolled": true
   },
   "outputs": [
    {
     "name": "stdout",
     "output_type": "stream",
     "text": [
      "secondary_cleaner.output.tail_sol                     11.343558\n",
      "rougher.state.floatbank10_e_air                        3.081490\n",
      "rougher.input.floatbank11_xanthate                     3.024949\n",
      "primary_cleaner.output.concentrate_sol                 2.021344\n",
      "secondary_cleaner.state.floatbank2_a_air               1.533677\n",
      "final.output.concentrate_sol                           1.491271\n",
      "rougher.input.feed_size                                1.017740\n",
      "rougher.input.feed_pb                                  0.706764\n",
      "final.output.tail_pb                                   0.706764\n",
      "primary_cleaner.input.xanthate                         0.706764\n",
      "primary_cleaner.output.concentrate_pb                  0.607817\n",
      "rougher.input.feed_sol                                 0.551276\n",
      "primary_cleaner.output.tail_sol                        0.325111\n",
      "rougher.input.floatbank11_sulfate                      0.254435\n",
      "primary_cleaner.input.depressant                       0.226164\n",
      "rougher.input.floatbank10_sulfate                      0.204961\n",
      "rougher.output.concentrate_sol                         0.155488\n",
      "secondary_cleaner.state.floatbank2_b_air               0.148420\n",
      "primary_cleaner.input.sulfate                          0.141353\n",
      "primary_cleaner.output.tail_pb                         0.106015\n",
      "secondary_cleaner.output.tail_pb                       0.070676\n",
      "rougher.input.floatbank10_xanthate                     0.056541\n",
      "rougher.input.feed_rate                                0.056541\n",
      "secondary_cleaner.state.floatbank4_a_air               0.042406\n",
      "final.output.tail_sol                                  0.035338\n",
      "primary_cleaner.state.floatbank8_b_air                 0.028271\n",
      "primary_cleaner.state.floatbank8_a_air                 0.028271\n",
      "secondary_cleaner.state.floatbank3_a_air               0.028271\n",
      "primary_cleaner.state.floatbank8_d_air                 0.021203\n",
      "secondary_cleaner.output.tail_ag                       0.014135\n",
      "secondary_cleaner.state.floatbank6_a_air               0.014135\n",
      "primary_cleaner.state.floatbank8_c_air                 0.014135\n",
      "rougher.state.floatbank10_c_level                      0.007068\n",
      "rougher.state.floatbank10_c_air                        0.007068\n",
      "rougher.state.floatbank10_b_level                      0.007068\n",
      "rougher.state.floatbank10_b_air                        0.007068\n",
      "final.output.concentrate_ag                            0.007068\n",
      "secondary_cleaner.state.floatbank2_a_level             0.007068\n",
      "secondary_cleaner.state.floatbank2_b_level             0.007068\n",
      "secondary_cleaner.state.floatbank3_a_level             0.007068\n",
      "rougher.state.floatbank10_a_air                        0.007068\n",
      "secondary_cleaner.state.floatbank3_b_air               0.007068\n",
      "secondary_cleaner.state.floatbank3_b_level             0.007068\n",
      "secondary_cleaner.state.floatbank4_a_level             0.007068\n",
      "secondary_cleaner.state.floatbank4_b_air               0.007068\n",
      "secondary_cleaner.state.floatbank4_b_level             0.007068\n",
      "secondary_cleaner.state.floatbank5_a_air               0.007068\n",
      "secondary_cleaner.state.floatbank5_a_level             0.007068\n",
      "secondary_cleaner.state.floatbank5_b_air               0.007068\n",
      "secondary_cleaner.state.floatbank5_b_level             0.007068\n",
      "rougher.state.floatbank10_a_level                      0.007068\n",
      "secondary_cleaner.state.floatbank6_a_level             0.007068\n",
      "rougher.calculation.floatbank11_sulfate_to_au_feed     0.007068\n",
      "rougher.calculation.floatbank10_sulfate_to_au_feed     0.007068\n",
      "primary_cleaner.state.floatbank8_d_level               0.007068\n",
      "primary_cleaner.state.floatbank8_c_level               0.007068\n",
      "primary_cleaner.state.floatbank8_b_level               0.007068\n",
      "primary_cleaner.state.floatbank8_a_level               0.007068\n",
      "final.output.concentrate_pb                            0.007068\n",
      "primary_cleaner.output.tail_ag                         0.007068\n",
      "rougher.calculation.sulfate_to_au_concentrate          0.007068\n",
      "rougher.output.tail_ag                                 0.007068\n",
      "primary_cleaner.output.concentrate_ag                  0.000000\n",
      "primary_cleaner.input.feed_size                        0.000000\n",
      "primary_cleaner.output.tail_au                         0.000000\n",
      "final.output.tail_au                                   0.000000\n",
      "final.output.tail_ag                                   0.000000\n",
      "final.output.recovery                                  0.000000\n",
      "final.output.concentrate_au                            0.000000\n",
      "primary_cleaner.output.concentrate_au                  0.000000\n",
      "rougher.output.tail_au                                 0.000000\n",
      "rougher.output.tail_sol                                0.000000\n",
      "rougher.calculation.au_pb_ratio                        0.000000\n",
      "secondary_cleaner.output.tail_au                       0.000000\n",
      "rougher.input.feed_ag                                  0.000000\n",
      "rougher.input.feed_au                                  0.000000\n",
      "rougher.state.floatbank10_f_level                      0.000000\n",
      "rougher.state.floatbank10_f_air                        0.000000\n",
      "rougher.state.floatbank10_e_level                      0.000000\n",
      "rougher.output.concentrate_pb                          0.000000\n",
      "rougher.state.floatbank10_d_level                      0.000000\n",
      "rougher.state.floatbank10_d_air                        0.000000\n",
      "rougher.output.concentrate_au                          0.000000\n",
      "rougher.output.recovery                                0.000000\n",
      "rougher.output.tail_pb                                 0.000000\n",
      "rougher.output.concentrate_ag                          0.000000\n",
      "dtype: float64\n"
     ]
    }
   ],
   "source": [
    "na_percent(data_train)"
   ]
  },
  {
   "cell_type": "code",
   "execution_count": 16,
   "metadata": {
    "scrolled": true
   },
   "outputs": [
    {
     "name": "stdout",
     "output_type": "stream",
     "text": [
      "rougher.input.floatbank11_xanthate            0.472590\n",
      "rougher.input.feed_sol                        0.396975\n",
      "secondary_cleaner.state.floatbank3_a_air      0.170132\n",
      "rougher.input.floatbank11_sulfate             0.151229\n",
      "primary_cleaner.input.depressant              0.094518\n",
      "rougher.input.floatbank10_sulfate             0.094518\n",
      "primary_cleaner.input.sulfate                 0.075614\n",
      "primary_cleaner.input.xanthate                0.075614\n",
      "rougher.input.feed_rate                       0.056711\n",
      "secondary_cleaner.state.floatbank2_a_air      0.056711\n",
      "secondary_cleaner.state.floatbank2_b_air      0.037807\n",
      "rougher.input.feed_size                       0.018904\n",
      "secondary_cleaner.state.floatbank3_b_level    0.000000\n",
      "secondary_cleaner.state.floatbank3_b_air      0.000000\n",
      "rougher.state.floatbank10_f_air               0.000000\n",
      "rougher.state.floatbank10_f_level             0.000000\n",
      "secondary_cleaner.state.floatbank6_a_air      0.000000\n",
      "secondary_cleaner.state.floatbank5_b_level    0.000000\n",
      "secondary_cleaner.state.floatbank2_a_level    0.000000\n",
      "secondary_cleaner.state.floatbank5_b_air      0.000000\n",
      "secondary_cleaner.state.floatbank2_b_level    0.000000\n",
      "secondary_cleaner.state.floatbank5_a_level    0.000000\n",
      "secondary_cleaner.state.floatbank5_a_air      0.000000\n",
      "secondary_cleaner.state.floatbank4_b_level    0.000000\n",
      "secondary_cleaner.state.floatbank4_b_air      0.000000\n",
      "secondary_cleaner.state.floatbank3_a_level    0.000000\n",
      "secondary_cleaner.state.floatbank4_a_level    0.000000\n",
      "rougher.state.floatbank10_e_air               0.000000\n",
      "secondary_cleaner.state.floatbank4_a_air      0.000000\n",
      "rougher.state.floatbank10_e_level             0.000000\n",
      "rougher.state.floatbank10_c_air               0.000000\n",
      "rougher.state.floatbank10_d_level             0.000000\n",
      "primary_cleaner.state.floatbank8_d_level      0.000000\n",
      "primary_cleaner.input.feed_size               0.000000\n",
      "primary_cleaner.state.floatbank8_a_air        0.000000\n",
      "primary_cleaner.state.floatbank8_a_level      0.000000\n",
      "primary_cleaner.state.floatbank8_b_air        0.000000\n",
      "primary_cleaner.state.floatbank8_b_level      0.000000\n",
      "primary_cleaner.state.floatbank8_c_air        0.000000\n",
      "primary_cleaner.state.floatbank8_c_level      0.000000\n",
      "primary_cleaner.state.floatbank8_d_air        0.000000\n",
      "rougher.input.feed_ag                         0.000000\n",
      "rougher.state.floatbank10_d_air               0.000000\n",
      "rougher.input.feed_pb                         0.000000\n",
      "rougher.input.feed_au                         0.000000\n",
      "rougher.input.floatbank10_xanthate            0.000000\n",
      "rougher.state.floatbank10_a_air               0.000000\n",
      "rougher.state.floatbank10_a_level             0.000000\n",
      "rougher.state.floatbank10_b_air               0.000000\n",
      "rougher.state.floatbank10_b_level             0.000000\n",
      "rougher.state.floatbank10_c_level             0.000000\n",
      "secondary_cleaner.state.floatbank6_a_level    0.000000\n",
      "dtype: float64\n"
     ]
    }
   ],
   "source": [
    "na_percent(data_test)"
   ]
  },
  {
   "cell_type": "markdown",
   "metadata": {},
   "source": [
    "Перенесём из полной выборки в тестовую необходимые целевые признаки - 'rougher.output.recovery', 'final.output.recovery'. Переносить будем по индексу, так как индексация у нас по дате и времени."
   ]
  },
  {
   "cell_type": "code",
   "execution_count": 17,
   "metadata": {},
   "outputs": [
    {
     "name": "stdout",
     "output_type": "stream",
     "text": [
      "(5290, 52)\n",
      "(5290, 54)\n"
     ]
    },
    {
     "data": {
      "text/html": [
       "<div>\n",
       "<style scoped>\n",
       "    .dataframe tbody tr th:only-of-type {\n",
       "        vertical-align: middle;\n",
       "    }\n",
       "\n",
       "    .dataframe tbody tr th {\n",
       "        vertical-align: top;\n",
       "    }\n",
       "\n",
       "    .dataframe thead th {\n",
       "        text-align: right;\n",
       "    }\n",
       "</style>\n",
       "<table border=\"1\" class=\"dataframe\">\n",
       "  <thead>\n",
       "    <tr style=\"text-align: right;\">\n",
       "      <th></th>\n",
       "      <th>primary_cleaner.input.sulfate</th>\n",
       "      <th>primary_cleaner.input.depressant</th>\n",
       "      <th>primary_cleaner.input.feed_size</th>\n",
       "      <th>primary_cleaner.input.xanthate</th>\n",
       "      <th>primary_cleaner.state.floatbank8_a_air</th>\n",
       "      <th>primary_cleaner.state.floatbank8_a_level</th>\n",
       "      <th>primary_cleaner.state.floatbank8_b_air</th>\n",
       "      <th>primary_cleaner.state.floatbank8_b_level</th>\n",
       "      <th>primary_cleaner.state.floatbank8_c_air</th>\n",
       "      <th>primary_cleaner.state.floatbank8_c_level</th>\n",
       "      <th>...</th>\n",
       "      <th>secondary_cleaner.state.floatbank4_b_air</th>\n",
       "      <th>secondary_cleaner.state.floatbank4_b_level</th>\n",
       "      <th>secondary_cleaner.state.floatbank5_a_air</th>\n",
       "      <th>secondary_cleaner.state.floatbank5_a_level</th>\n",
       "      <th>secondary_cleaner.state.floatbank5_b_air</th>\n",
       "      <th>secondary_cleaner.state.floatbank5_b_level</th>\n",
       "      <th>secondary_cleaner.state.floatbank6_a_air</th>\n",
       "      <th>secondary_cleaner.state.floatbank6_a_level</th>\n",
       "      <th>rougher.output.recovery</th>\n",
       "      <th>final.output.recovery</th>\n",
       "    </tr>\n",
       "    <tr>\n",
       "      <th>date</th>\n",
       "      <th></th>\n",
       "      <th></th>\n",
       "      <th></th>\n",
       "      <th></th>\n",
       "      <th></th>\n",
       "      <th></th>\n",
       "      <th></th>\n",
       "      <th></th>\n",
       "      <th></th>\n",
       "      <th></th>\n",
       "      <th></th>\n",
       "      <th></th>\n",
       "      <th></th>\n",
       "      <th></th>\n",
       "      <th></th>\n",
       "      <th></th>\n",
       "      <th></th>\n",
       "      <th></th>\n",
       "      <th></th>\n",
       "      <th></th>\n",
       "      <th></th>\n",
       "    </tr>\n",
       "  </thead>\n",
       "  <tbody>\n",
       "    <tr>\n",
       "      <th>2016-09-01 00:59:59</th>\n",
       "      <td>210.800909</td>\n",
       "      <td>14.993118</td>\n",
       "      <td>8.080000</td>\n",
       "      <td>1.005021</td>\n",
       "      <td>1398.981301</td>\n",
       "      <td>-500.225577</td>\n",
       "      <td>1399.144926</td>\n",
       "      <td>-499.919735</td>\n",
       "      <td>1400.102998</td>\n",
       "      <td>-500.704369</td>\n",
       "      <td>...</td>\n",
       "      <td>8.016656</td>\n",
       "      <td>-501.289139</td>\n",
       "      <td>7.946562</td>\n",
       "      <td>-432.317850</td>\n",
       "      <td>4.872511</td>\n",
       "      <td>-500.037437</td>\n",
       "      <td>26.705889</td>\n",
       "      <td>-499.709414</td>\n",
       "      <td>89.993421</td>\n",
       "      <td>70.273583</td>\n",
       "    </tr>\n",
       "    <tr>\n",
       "      <th>2016-09-01 01:59:59</th>\n",
       "      <td>215.392455</td>\n",
       "      <td>14.987471</td>\n",
       "      <td>8.080000</td>\n",
       "      <td>0.990469</td>\n",
       "      <td>1398.777912</td>\n",
       "      <td>-500.057435</td>\n",
       "      <td>1398.055362</td>\n",
       "      <td>-499.778182</td>\n",
       "      <td>1396.151033</td>\n",
       "      <td>-499.240168</td>\n",
       "      <td>...</td>\n",
       "      <td>8.130979</td>\n",
       "      <td>-499.634209</td>\n",
       "      <td>7.958270</td>\n",
       "      <td>-525.839648</td>\n",
       "      <td>4.878850</td>\n",
       "      <td>-500.162375</td>\n",
       "      <td>25.019940</td>\n",
       "      <td>-499.819438</td>\n",
       "      <td>88.089657</td>\n",
       "      <td>68.910432</td>\n",
       "    </tr>\n",
       "    <tr>\n",
       "      <th>2016-09-01 02:59:59</th>\n",
       "      <td>215.259946</td>\n",
       "      <td>12.884934</td>\n",
       "      <td>7.786667</td>\n",
       "      <td>0.996043</td>\n",
       "      <td>1398.493666</td>\n",
       "      <td>-500.868360</td>\n",
       "      <td>1398.860436</td>\n",
       "      <td>-499.764529</td>\n",
       "      <td>1398.075709</td>\n",
       "      <td>-502.151509</td>\n",
       "      <td>...</td>\n",
       "      <td>8.096893</td>\n",
       "      <td>-500.827423</td>\n",
       "      <td>8.071056</td>\n",
       "      <td>-500.801673</td>\n",
       "      <td>4.905125</td>\n",
       "      <td>-499.828510</td>\n",
       "      <td>24.994862</td>\n",
       "      <td>-500.622559</td>\n",
       "      <td>88.412756</td>\n",
       "      <td>68.143213</td>\n",
       "    </tr>\n",
       "    <tr>\n",
       "      <th>2016-09-01 03:59:59</th>\n",
       "      <td>215.336236</td>\n",
       "      <td>12.006805</td>\n",
       "      <td>7.640000</td>\n",
       "      <td>0.863514</td>\n",
       "      <td>1399.618111</td>\n",
       "      <td>-498.863574</td>\n",
       "      <td>1397.440120</td>\n",
       "      <td>-499.211024</td>\n",
       "      <td>1400.129303</td>\n",
       "      <td>-498.355873</td>\n",
       "      <td>...</td>\n",
       "      <td>8.074946</td>\n",
       "      <td>-499.474407</td>\n",
       "      <td>7.897085</td>\n",
       "      <td>-500.868509</td>\n",
       "      <td>4.931400</td>\n",
       "      <td>-499.963623</td>\n",
       "      <td>24.948919</td>\n",
       "      <td>-498.709987</td>\n",
       "      <td>87.360133</td>\n",
       "      <td>67.776393</td>\n",
       "    </tr>\n",
       "    <tr>\n",
       "      <th>2016-09-01 04:59:59</th>\n",
       "      <td>199.099327</td>\n",
       "      <td>10.682530</td>\n",
       "      <td>7.530000</td>\n",
       "      <td>0.805575</td>\n",
       "      <td>1401.268123</td>\n",
       "      <td>-500.808305</td>\n",
       "      <td>1398.128818</td>\n",
       "      <td>-499.504543</td>\n",
       "      <td>1402.172226</td>\n",
       "      <td>-500.810606</td>\n",
       "      <td>...</td>\n",
       "      <td>8.054678</td>\n",
       "      <td>-500.397500</td>\n",
       "      <td>8.107890</td>\n",
       "      <td>-509.526725</td>\n",
       "      <td>4.957674</td>\n",
       "      <td>-500.360026</td>\n",
       "      <td>25.003331</td>\n",
       "      <td>-500.856333</td>\n",
       "      <td>83.236367</td>\n",
       "      <td>61.467078</td>\n",
       "    </tr>\n",
       "  </tbody>\n",
       "</table>\n",
       "<p>5 rows × 54 columns</p>\n",
       "</div>"
      ],
      "text/plain": [
       "                     primary_cleaner.input.sulfate  \\\n",
       "date                                                 \n",
       "2016-09-01 00:59:59                     210.800909   \n",
       "2016-09-01 01:59:59                     215.392455   \n",
       "2016-09-01 02:59:59                     215.259946   \n",
       "2016-09-01 03:59:59                     215.336236   \n",
       "2016-09-01 04:59:59                     199.099327   \n",
       "\n",
       "                     primary_cleaner.input.depressant  \\\n",
       "date                                                    \n",
       "2016-09-01 00:59:59                         14.993118   \n",
       "2016-09-01 01:59:59                         14.987471   \n",
       "2016-09-01 02:59:59                         12.884934   \n",
       "2016-09-01 03:59:59                         12.006805   \n",
       "2016-09-01 04:59:59                         10.682530   \n",
       "\n",
       "                     primary_cleaner.input.feed_size  \\\n",
       "date                                                   \n",
       "2016-09-01 00:59:59                         8.080000   \n",
       "2016-09-01 01:59:59                         8.080000   \n",
       "2016-09-01 02:59:59                         7.786667   \n",
       "2016-09-01 03:59:59                         7.640000   \n",
       "2016-09-01 04:59:59                         7.530000   \n",
       "\n",
       "                     primary_cleaner.input.xanthate  \\\n",
       "date                                                  \n",
       "2016-09-01 00:59:59                        1.005021   \n",
       "2016-09-01 01:59:59                        0.990469   \n",
       "2016-09-01 02:59:59                        0.996043   \n",
       "2016-09-01 03:59:59                        0.863514   \n",
       "2016-09-01 04:59:59                        0.805575   \n",
       "\n",
       "                     primary_cleaner.state.floatbank8_a_air  \\\n",
       "date                                                          \n",
       "2016-09-01 00:59:59                             1398.981301   \n",
       "2016-09-01 01:59:59                             1398.777912   \n",
       "2016-09-01 02:59:59                             1398.493666   \n",
       "2016-09-01 03:59:59                             1399.618111   \n",
       "2016-09-01 04:59:59                             1401.268123   \n",
       "\n",
       "                     primary_cleaner.state.floatbank8_a_level  \\\n",
       "date                                                            \n",
       "2016-09-01 00:59:59                               -500.225577   \n",
       "2016-09-01 01:59:59                               -500.057435   \n",
       "2016-09-01 02:59:59                               -500.868360   \n",
       "2016-09-01 03:59:59                               -498.863574   \n",
       "2016-09-01 04:59:59                               -500.808305   \n",
       "\n",
       "                     primary_cleaner.state.floatbank8_b_air  \\\n",
       "date                                                          \n",
       "2016-09-01 00:59:59                             1399.144926   \n",
       "2016-09-01 01:59:59                             1398.055362   \n",
       "2016-09-01 02:59:59                             1398.860436   \n",
       "2016-09-01 03:59:59                             1397.440120   \n",
       "2016-09-01 04:59:59                             1398.128818   \n",
       "\n",
       "                     primary_cleaner.state.floatbank8_b_level  \\\n",
       "date                                                            \n",
       "2016-09-01 00:59:59                               -499.919735   \n",
       "2016-09-01 01:59:59                               -499.778182   \n",
       "2016-09-01 02:59:59                               -499.764529   \n",
       "2016-09-01 03:59:59                               -499.211024   \n",
       "2016-09-01 04:59:59                               -499.504543   \n",
       "\n",
       "                     primary_cleaner.state.floatbank8_c_air  \\\n",
       "date                                                          \n",
       "2016-09-01 00:59:59                             1400.102998   \n",
       "2016-09-01 01:59:59                             1396.151033   \n",
       "2016-09-01 02:59:59                             1398.075709   \n",
       "2016-09-01 03:59:59                             1400.129303   \n",
       "2016-09-01 04:59:59                             1402.172226   \n",
       "\n",
       "                     primary_cleaner.state.floatbank8_c_level  ...  \\\n",
       "date                                                           ...   \n",
       "2016-09-01 00:59:59                               -500.704369  ...   \n",
       "2016-09-01 01:59:59                               -499.240168  ...   \n",
       "2016-09-01 02:59:59                               -502.151509  ...   \n",
       "2016-09-01 03:59:59                               -498.355873  ...   \n",
       "2016-09-01 04:59:59                               -500.810606  ...   \n",
       "\n",
       "                     secondary_cleaner.state.floatbank4_b_air  \\\n",
       "date                                                            \n",
       "2016-09-01 00:59:59                                  8.016656   \n",
       "2016-09-01 01:59:59                                  8.130979   \n",
       "2016-09-01 02:59:59                                  8.096893   \n",
       "2016-09-01 03:59:59                                  8.074946   \n",
       "2016-09-01 04:59:59                                  8.054678   \n",
       "\n",
       "                     secondary_cleaner.state.floatbank4_b_level  \\\n",
       "date                                                              \n",
       "2016-09-01 00:59:59                                 -501.289139   \n",
       "2016-09-01 01:59:59                                 -499.634209   \n",
       "2016-09-01 02:59:59                                 -500.827423   \n",
       "2016-09-01 03:59:59                                 -499.474407   \n",
       "2016-09-01 04:59:59                                 -500.397500   \n",
       "\n",
       "                     secondary_cleaner.state.floatbank5_a_air  \\\n",
       "date                                                            \n",
       "2016-09-01 00:59:59                                  7.946562   \n",
       "2016-09-01 01:59:59                                  7.958270   \n",
       "2016-09-01 02:59:59                                  8.071056   \n",
       "2016-09-01 03:59:59                                  7.897085   \n",
       "2016-09-01 04:59:59                                  8.107890   \n",
       "\n",
       "                     secondary_cleaner.state.floatbank5_a_level  \\\n",
       "date                                                              \n",
       "2016-09-01 00:59:59                                 -432.317850   \n",
       "2016-09-01 01:59:59                                 -525.839648   \n",
       "2016-09-01 02:59:59                                 -500.801673   \n",
       "2016-09-01 03:59:59                                 -500.868509   \n",
       "2016-09-01 04:59:59                                 -509.526725   \n",
       "\n",
       "                     secondary_cleaner.state.floatbank5_b_air  \\\n",
       "date                                                            \n",
       "2016-09-01 00:59:59                                  4.872511   \n",
       "2016-09-01 01:59:59                                  4.878850   \n",
       "2016-09-01 02:59:59                                  4.905125   \n",
       "2016-09-01 03:59:59                                  4.931400   \n",
       "2016-09-01 04:59:59                                  4.957674   \n",
       "\n",
       "                     secondary_cleaner.state.floatbank5_b_level  \\\n",
       "date                                                              \n",
       "2016-09-01 00:59:59                                 -500.037437   \n",
       "2016-09-01 01:59:59                                 -500.162375   \n",
       "2016-09-01 02:59:59                                 -499.828510   \n",
       "2016-09-01 03:59:59                                 -499.963623   \n",
       "2016-09-01 04:59:59                                 -500.360026   \n",
       "\n",
       "                     secondary_cleaner.state.floatbank6_a_air  \\\n",
       "date                                                            \n",
       "2016-09-01 00:59:59                                 26.705889   \n",
       "2016-09-01 01:59:59                                 25.019940   \n",
       "2016-09-01 02:59:59                                 24.994862   \n",
       "2016-09-01 03:59:59                                 24.948919   \n",
       "2016-09-01 04:59:59                                 25.003331   \n",
       "\n",
       "                     secondary_cleaner.state.floatbank6_a_level  \\\n",
       "date                                                              \n",
       "2016-09-01 00:59:59                                 -499.709414   \n",
       "2016-09-01 01:59:59                                 -499.819438   \n",
       "2016-09-01 02:59:59                                 -500.622559   \n",
       "2016-09-01 03:59:59                                 -498.709987   \n",
       "2016-09-01 04:59:59                                 -500.856333   \n",
       "\n",
       "                     rougher.output.recovery  final.output.recovery  \n",
       "date                                                                 \n",
       "2016-09-01 00:59:59                89.993421              70.273583  \n",
       "2016-09-01 01:59:59                88.089657              68.910432  \n",
       "2016-09-01 02:59:59                88.412756              68.143213  \n",
       "2016-09-01 03:59:59                87.360133              67.776393  \n",
       "2016-09-01 04:59:59                83.236367              61.467078  \n",
       "\n",
       "[5 rows x 54 columns]"
      ]
     },
     "metadata": {},
     "output_type": "display_data"
    }
   ],
   "source": [
    "#добавляем в тестовую выборку целевые признаки из полного датафрейма\n",
    "print(data_test.shape)\n",
    "targets = ['rougher.output.recovery', 'final.output.recovery']\n",
    "data_test = data_test.merge(data_full[targets], left_index=True, right_index=True)\n",
    "print(data_test.shape)\n",
    "display(data_test.head())"
   ]
  },
  {
   "cell_type": "markdown",
   "metadata": {},
   "source": [
    "<div class=\"alert alert-success\">\n",
    "<h2> Комментарий ревьюера <a class=\"tocSkip\"> </h2>\n",
    "\n",
    "<b>Все отлично!👍:</b> \n",
    "    \n",
    "Вытягивание целевых признаков в тестовую выборку правильное)"
   ]
  },
  {
   "cell_type": "code",
   "execution_count": 18,
   "metadata": {},
   "outputs": [
    {
     "data": {
      "text/plain": [
       "rougher.output.recovery    0\n",
       "final.output.recovery      0\n",
       "dtype: int64"
      ]
     },
     "execution_count": 18,
     "metadata": {},
     "output_type": "execute_result"
    }
   ],
   "source": [
    "data_train[targets].isna().sum()"
   ]
  },
  {
   "cell_type": "code",
   "execution_count": 19,
   "metadata": {},
   "outputs": [
    {
     "data": {
      "text/plain": [
       "rougher.output.recovery    0\n",
       "final.output.recovery      0\n",
       "dtype: int64"
      ]
     },
     "execution_count": 19,
     "metadata": {},
     "output_type": "execute_result"
    }
   ],
   "source": [
    "data_test[targets].isna().sum()"
   ]
  },
  {
   "cell_type": "markdown",
   "metadata": {},
   "source": [
    "В тренировочной и тестовой выборке отсутствуют пропуски в целевых признаках.\n",
    "~~Удалим из тренировочной и тестовой выборке строки с пропусками в целевых значениях."
   ]
  },
  {
   "cell_type": "code",
   "execution_count": 20,
   "metadata": {},
   "outputs": [],
   "source": [
    "#data_train = data_train.dropna(subset=targets)\n",
    "#data_test = data_test.dropna(subset=targets)"
   ]
  },
  {
   "cell_type": "markdown",
   "metadata": {},
   "source": [
    "<div class=\"alert alert-warning\">\n",
    "    <h2> Комментарий ревьюера <a class=\"tocSkip\"> </h2>\n",
    "    \n",
    "<b>Некоторые замечания и рекомендации💡:</b> \n",
    "        \n",
    "В целевых переменных у нас нет пропусков."
   ]
  },
  {
   "cell_type": "markdown",
   "metadata": {},
   "source": [
    "<div class=\"alert alert-info\">\n",
    "<h2> Комментарий студента: <a class=\"tocSkip\"> </h2>\n",
    "\n",
    "<b>👋:</b> Тут согласен, уже на автомате откидывал \"потенциальные\" пропуски в целевых признаках - добавил проверку пропусков в таргетах, заккоментировал \"удаление\" пропусков."
   ]
  },
  {
   "cell_type": "markdown",
   "metadata": {},
   "source": [
    "<div class=\"alert alert-success\">\n",
    "<h2> Комментарий ревьюера v.2 <a class=\"tocSkip\"> </h2>\n",
    "\n",
    "<b>Все отлично!👍:</b>"
   ]
  },
  {
   "cell_type": "markdown",
   "metadata": {},
   "source": [
    "Так как по условию задачи близкие по дате и времени параметры зачастую схожи и индексация у нас происходит по дате и времени - оставшиеся пропуски заполняем методом .fillna с параметром method='ffill'."
   ]
  },
  {
   "cell_type": "code",
   "execution_count": 21,
   "metadata": {},
   "outputs": [
    {
     "name": "stdout",
     "output_type": "stream",
     "text": [
      "В data_train есть пропуски:  False\n",
      "В data_test есть пропуски:  False\n"
     ]
    }
   ],
   "source": [
    "data_train = data_train.fillna(method='ffill')\n",
    "data_test = data_test.fillna(method='ffill')\n",
    "\n",
    "print('В data_train есть пропуски: ', data_train.isnull().values.any())\n",
    "print('В data_test есть пропуски: ', data_test.isnull().values.any())"
   ]
  },
  {
   "cell_type": "markdown",
   "metadata": {},
   "source": [
    "<div class=\"alert alert-success\">\n",
    "<h2> Комментарий ревьюера <a class=\"tocSkip\"> </h2>\n",
    "\n",
    "<b>Верно!👍:\\\n",
    "</b> Верное решение по обработке пропусков, в признаках их не много. Все наблюдения представляют собой последовательные измерения, заполнить пропуски можно методами `pandas`: `ffill`/ `bfill`/ `interpolate` , это вполне уместно.\\\n",
    "Хочу посоветовать тебе статью, которая рассматривает разные способы обработки пропусков, выделяет их плюсы и минусы, думаю, тебе может быть интересно: https://loginom.ru/blog/missing   "
   ]
  },
  {
   "cell_type": "markdown",
   "metadata": {},
   "source": [
    "### Вывод по подготовкуе данных"
   ]
  },
  {
   "cell_type": "markdown",
   "metadata": {},
   "source": [
    "В ходе подготовки данных был произведён первичный анализ данных, проверена точность расчёта эффективности обогащения, добавлены необходимые столбцы из полной выборки в тестовую и произведена обработка пропусков. \n",
    "\n",
    "Для дальнейшего анализа данных мы имеем тренировочную и тестовую выборки без пропусков в данных."
   ]
  },
  {
   "cell_type": "markdown",
   "metadata": {},
   "source": [
    "<div class=\"alert alert-success\">\n",
    "<h2> Комментарий ревьюера <a class=\"tocSkip\"> </h2>\n",
    "\n",
    "<b>Все отлично!👍:</b>\n",
    "    \n",
    "    \n",
    "Данные подготовили, приступаем к анализу данных)\n",
    "    \n",
    "Для интереса, оставляю тебе ссылку, по флотации руды: https://www.youtube.com/watch?v=BY9d1MC6qLs и \n",
    "\n",
    "https://www.youtube.com/watch?v=qYuGEjR8ZKw&t=13s\n"
   ]
  },
  {
   "cell_type": "markdown",
   "metadata": {},
   "source": [
    "## Анализ данных"
   ]
  },
  {
   "cell_type": "markdown",
   "metadata": {},
   "source": [
    "### Анализ изменения концентрации металлов на различных этапах очистки"
   ]
  },
  {
   "cell_type": "markdown",
   "metadata": {},
   "source": [
    "Посмотрим, как изменяется концентрация металлов (Au, Ag, Pb) на различных этапах очистки.\n",
    "\n",
    "В руде можно выделить следующие металлы:\n",
    "* Au - золото\n",
    "* Ag - серебро\n",
    "* Pb - свинец\n",
    "\n",
    "Концентрации будем смотреть на следующих этапах отчистки:\n",
    "* rougher.input.feed - сырье поступающее на флотацию;\n",
    "* rougher.output.concentrate - сырье после флотации;\n",
    "* primary_cleaner.output.concentrate - сырье после первой отчистки;\n",
    "* final.output.concentrate - сырье после второй отчистки (т.е. итоговая концентрация)."
   ]
  },
  {
   "cell_type": "code",
   "execution_count": 22,
   "metadata": {},
   "outputs": [
    {
     "data": {
      "image/png": "[encoded data removed]",
      "text/plain": [
       "<Figure size 1440x576 with 1 Axes>"
      ]
     },
     "metadata": {
      "needs_background": "light"
     },
     "output_type": "display_data"
    },
    {
     "data": {
      "image/png": "[encoded data removed]",
      "text/plain": [
       "<Figure size 1440x576 with 1 Axes>"
      ]
     },
     "metadata": {
      "needs_background": "light"
     },
     "output_type": "display_data"
    },
    {
     "data": {
      "image/png": "[encoded data removed]",
      "text/plain": [
       "<Figure size 1440x576 with 1 Axes>"
      ]
     },
     "metadata": {
      "needs_background": "light"
     },
     "output_type": "display_data"
    }
   ],
   "source": [
    "metals = ['au', 'ag', 'pb']\n",
    "conc_metrics = ['rougher.input.feed',\n",
    "                'rougher.output.concentrate',\n",
    "                'primary_cleaner.output.concentrate',\n",
    "                'final.output.concentrate'\n",
    "               ]\n",
    "\n",
    "for metal in metals:\n",
    "    metrics = ['{}_{}'.format(x, metal) for x in conc_metrics]\n",
    "\n",
    "    data_full[metrics].plot(\n",
    "        title = 'Изменение концентрации на разных этапах очистки для {}'.format(metal.upper()),\n",
    "        kind='hist', \n",
    "        bins=200, \n",
    "        grid=True, \n",
    "        legend=True,\n",
    "        figsize=(20, 8),\n",
    "        alpha=0.5,\n",
    "    ).set(xlabel='concentrate') \n",
    "    \n",
    "    plt.show()"
   ]
  },
  {
   "cell_type": "markdown",
   "metadata": {},
   "source": [
    "Для более наглядного восприятия - поместим средние значения концентрации на каждом из этапов очистки в таблицу и отобразим ее значения в виде графика."
   ]
  },
  {
   "cell_type": "code",
   "execution_count": 23,
   "metadata": {},
   "outputs": [
    {
     "data": {
      "image/png": "[encoded data removed]",
      "text/plain": [
       "<Figure size 792x360 with 1 Axes>"
      ]
     },
     "metadata": {
      "needs_background": "light"
     },
     "output_type": "display_data"
    },
    {
     "data": {
      "text/html": [
       "<div>\n",
       "<style scoped>\n",
       "    .dataframe tbody tr th:only-of-type {\n",
       "        vertical-align: middle;\n",
       "    }\n",
       "\n",
       "    .dataframe tbody tr th {\n",
       "        vertical-align: top;\n",
       "    }\n",
       "\n",
       "    .dataframe thead th {\n",
       "        text-align: right;\n",
       "    }\n",
       "</style>\n",
       "<table border=\"1\" class=\"dataframe\">\n",
       "  <thead>\n",
       "    <tr style=\"text-align: right;\">\n",
       "      <th></th>\n",
       "      <th>rougher.input.feed</th>\n",
       "      <th>rougher.output.concentrate</th>\n",
       "      <th>primary_cleaner.output.concentrate</th>\n",
       "      <th>final.output.concentrate</th>\n",
       "    </tr>\n",
       "  </thead>\n",
       "  <tbody>\n",
       "    <tr>\n",
       "      <th>au</th>\n",
       "      <td>8.266097</td>\n",
       "      <td>19.772</td>\n",
       "      <td>32.1194</td>\n",
       "      <td>44.076513</td>\n",
       "    </tr>\n",
       "    <tr>\n",
       "      <th>ag</th>\n",
       "      <td>8.794927</td>\n",
       "      <td>11.994759</td>\n",
       "      <td>8.442408</td>\n",
       "      <td>5.16847</td>\n",
       "    </tr>\n",
       "    <tr>\n",
       "      <th>pb</th>\n",
       "      <td>3.598085</td>\n",
       "      <td>7.606272</td>\n",
       "      <td>9.82953</td>\n",
       "      <td>9.978895</td>\n",
       "    </tr>\n",
       "  </tbody>\n",
       "</table>\n",
       "</div>"
      ],
      "text/plain": [
       "   rougher.input.feed rougher.output.concentrate  \\\n",
       "au           8.266097                     19.772   \n",
       "ag           8.794927                  11.994759   \n",
       "pb           3.598085                   7.606272   \n",
       "\n",
       "   primary_cleaner.output.concentrate final.output.concentrate  \n",
       "au                            32.1194                44.076513  \n",
       "ag                           8.442408                  5.16847  \n",
       "pb                            9.82953                 9.978895  "
      ]
     },
     "metadata": {},
     "output_type": "display_data"
    }
   ],
   "source": [
    "metals_concentrate = pd.DataFrame(columns=conc_metrics)\n",
    "\n",
    "for metal in metals:\n",
    "        \n",
    "    for metric in conc_metrics:\n",
    "        metals_concentrate.loc[metal, metric] = data_full['{}_{}'.format(metric, metal)].mean()\n",
    "\n",
    "for metal in metals:\n",
    "    metals_concentrate.loc[metal].plot(\n",
    "        title='Изменение концентрации на разных этапах очистки', \n",
    "        grid=True, \n",
    "        legend=True, \n",
    "        figsize=(11, 5)\n",
    "    ).set(xlabel='stage', ylabel = 'concentrate')\n",
    "plt.show()\n",
    "\n",
    "display(metals_concentrate)"
   ]
  },
  {
   "cell_type": "markdown",
   "metadata": {},
   "source": [
    "По анализу изменения концентрации металлов можно сделать следующие выводы:\n",
    "* для золота (Au) концентрация растёт на все этапах, к концу очистки выросла в 5.3 раза;\n",
    "* для серебра (Ag) концентрация начинает падать после флотации, к концу очистки снизилась в 1.7 раза;\n",
    "* для свинца (Pb) концентрация медленно растёт, к концу очистки выросла в 2.7 раза."
   ]
  },
  {
   "cell_type": "markdown",
   "metadata": {},
   "source": [
    "<div class=\"alert alert-success\">\n",
    "<h2> Комментарий ревьюера <a class=\"tocSkip\"> </h2>\n",
    "\n",
    "<b>Верно!👍:\\\n",
    "</b> Мне интересно было изучить твои графики, практичный и красочный графический анализ. Видно, что золото растёт в концентрации - это здорово!) А серебро падает - ведь наша цель -  золото, верно?)\n",
    "А свинец - это побочный элемент химических реакций, по этой причине немного и увеличивается его концентрация."
   ]
  },
  {
   "cell_type": "markdown",
   "metadata": {},
   "source": [
    "### Сравнение распределения размеров гранул сырья на обучающей и тестовой выборках"
   ]
  },
  {
   "cell_type": "markdown",
   "metadata": {},
   "source": [
    "Построим гистограмму по размеру гранул сырья на обучающей и тестовой выборках."
   ]
  },
  {
   "cell_type": "code",
   "execution_count": 24,
   "metadata": {},
   "outputs": [
    {
     "data": {
      "image/png": "[encoded data removed]",
      "text/plain": [
       "<Figure size 792x360 with 1 Axes>"
      ]
     },
     "metadata": {
      "needs_background": "light"
     },
     "output_type": "display_data"
    },
    {
     "data": {
      "image/png": "[encoded data removed]",
      "text/plain": [
       "<Figure size 792x360 with 1 Axes>"
      ]
     },
     "metadata": {
      "needs_background": "light"
     },
     "output_type": "display_data"
    }
   ],
   "source": [
    "for metric in ('rougher.input.feed_size', 'primary_cleaner.input.feed_size'):\n",
    "    for label, df in (('train', data_train), ('test', data_test)): \n",
    "        df[metric].plot(\n",
    "                title = 'Сравнение распределения размеров гранул сырья на обучающей и тестовой выборках для {}'.format(metric),\n",
    "                kind='hist', \n",
    "                bins=100, \n",
    "                grid=True, \n",
    "                legend=True,\n",
    "                figsize=(11, 5),\n",
    "                alpha=0.5,\n",
    "                label=label,\n",
    "            ).set(xlabel='concentrate')\n",
    "  \n",
    "    plt.show()"
   ]
  },
  {
   "cell_type": "markdown",
   "metadata": {},
   "source": [
    "По графикам можно сделать вывод, что распределение частиц на обучающей и тестовой выборках в целом близко друг к другу - значит, оценка модели будет расчитываться верно."
   ]
  },
  {
   "cell_type": "markdown",
   "metadata": {},
   "source": [
    "<div class=\"alert alert-success\">\n",
    "<h2> Комментарий ревьюера <a class=\"tocSkip\"> </h2>\n",
    "\n",
    "<b>Все отлично!👍:</b> \n",
    "\n",
    "Правильно, распределения примерно одинаковы. Для лучшей визуализации распределения рекомендую нормализовать гистограммы (например используя метод `sns.distplot()` )."
   ]
  },
  {
   "cell_type": "markdown",
   "metadata": {},
   "source": [
    "### Исследование суммарной концентрации всех веществ на разных стадиях"
   ]
  },
  {
   "cell_type": "markdown",
   "metadata": {},
   "source": [
    "Посчитаем сумму всех веществ (металлы + sol) по каждой из стадий и запишем их в датасет data_train для дальнейшего поиска аномалий. Аномалии будем устранять только на тренировочной выборке - эти аномалии прямо повлияют на качество обучаемой модели. Аномалии на тестовой выборке удалять не имеет смысла - при реальном использовании не всегда будет возможность исключать аномалии из передаваемых данных, в хужшем случае модель вернёт неверные предсказания для аномальных значений."
   ]
  },
  {
   "cell_type": "code",
   "execution_count": 25,
   "metadata": {},
   "outputs": [
    {
     "data": {
      "text/html": [
       "<div>\n",
       "<style scoped>\n",
       "    .dataframe tbody tr th:only-of-type {\n",
       "        vertical-align: middle;\n",
       "    }\n",
       "\n",
       "    .dataframe tbody tr th {\n",
       "        vertical-align: top;\n",
       "    }\n",
       "\n",
       "    .dataframe thead th {\n",
       "        text-align: right;\n",
       "    }\n",
       "</style>\n",
       "<table border=\"1\" class=\"dataframe\">\n",
       "  <thead>\n",
       "    <tr style=\"text-align: right;\">\n",
       "      <th></th>\n",
       "      <th>rougher.input.feed</th>\n",
       "      <th>rougher.output.concentrate</th>\n",
       "      <th>primary_cleaner.output.concentrate</th>\n",
       "      <th>final.output.concentrate</th>\n",
       "    </tr>\n",
       "    <tr>\n",
       "      <th>date</th>\n",
       "      <th></th>\n",
       "      <th></th>\n",
       "      <th></th>\n",
       "      <th></th>\n",
       "    </tr>\n",
       "  </thead>\n",
       "  <tbody>\n",
       "    <tr>\n",
       "      <th>2016-01-15 00:00:00</th>\n",
       "      <td>51.680034</td>\n",
       "      <td>66.424950</td>\n",
       "      <td>72.640924</td>\n",
       "      <td>63.644396</td>\n",
       "    </tr>\n",
       "    <tr>\n",
       "      <th>2016-01-15 01:00:00</th>\n",
       "      <td>50.659114</td>\n",
       "      <td>67.012710</td>\n",
       "      <td>72.543485</td>\n",
       "      <td>63.957723</td>\n",
       "    </tr>\n",
       "    <tr>\n",
       "      <th>2016-01-15 02:00:00</th>\n",
       "      <td>50.609929</td>\n",
       "      <td>66.103793</td>\n",
       "      <td>72.095042</td>\n",
       "      <td>64.311180</td>\n",
       "    </tr>\n",
       "    <tr>\n",
       "      <th>2016-01-15 03:00:00</th>\n",
       "      <td>51.061546</td>\n",
       "      <td>65.752751</td>\n",
       "      <td>59.957723</td>\n",
       "      <td>63.573449</td>\n",
       "    </tr>\n",
       "    <tr>\n",
       "      <th>2016-01-15 04:00:00</th>\n",
       "      <td>47.859163</td>\n",
       "      <td>65.908382</td>\n",
       "      <td>71.321010</td>\n",
       "      <td>64.004667</td>\n",
       "    </tr>\n",
       "  </tbody>\n",
       "</table>\n",
       "</div>"
      ],
      "text/plain": [
       "                     rougher.input.feed  rougher.output.concentrate  \\\n",
       "date                                                                  \n",
       "2016-01-15 00:00:00           51.680034                   66.424950   \n",
       "2016-01-15 01:00:00           50.659114                   67.012710   \n",
       "2016-01-15 02:00:00           50.609929                   66.103793   \n",
       "2016-01-15 03:00:00           51.061546                   65.752751   \n",
       "2016-01-15 04:00:00           47.859163                   65.908382   \n",
       "\n",
       "                     primary_cleaner.output.concentrate  \\\n",
       "date                                                      \n",
       "2016-01-15 00:00:00                           72.640924   \n",
       "2016-01-15 01:00:00                           72.543485   \n",
       "2016-01-15 02:00:00                           72.095042   \n",
       "2016-01-15 03:00:00                           59.957723   \n",
       "2016-01-15 04:00:00                           71.321010   \n",
       "\n",
       "                     final.output.concentrate  \n",
       "date                                           \n",
       "2016-01-15 00:00:00                 63.644396  \n",
       "2016-01-15 01:00:00                 63.957723  \n",
       "2016-01-15 02:00:00                 64.311180  \n",
       "2016-01-15 03:00:00                 63.573449  \n",
       "2016-01-15 04:00:00                 64.004667  "
      ]
     },
     "metadata": {},
     "output_type": "display_data"
    }
   ],
   "source": [
    "for metric in conc_metrics:\n",
    "    data_train[metric] = 0\n",
    "    for metal in metals + ['sol']:\n",
    "        data_train[metric] += data_train['{}_{}'.format(metric, metal)]\n",
    "    \n",
    "display(data_train[conc_metrics].head(5))"
   ]
  },
  {
   "cell_type": "markdown",
   "metadata": {},
   "source": [
    "Для каждого этапа посчитаем границы нормальных значений (т.е Q1 - 1.5 IQR и Q3 + 1.5 IQR), построим график распределения и гистограмму."
   ]
  },
  {
   "cell_type": "code",
   "execution_count": 26,
   "metadata": {
    "scrolled": false
   },
   "outputs": [
    {
     "data": {
      "text/plain": [
       "count    14149.000000\n",
       "mean        56.242170\n",
       "std          7.029808\n",
       "min          0.040000\n",
       "25%         52.573579\n",
       "50%         56.627635\n",
       "75%         60.763234\n",
       "max         74.458253\n",
       "Name: rougher.input.feed, dtype: float64"
      ]
     },
     "metadata": {},
     "output_type": "display_data"
    },
    {
     "name": "stdout",
     "output_type": "stream",
     "text": [
      "Границы нормальных значений для столбца rougher.input.feed: (40.29, 73.05)\n"
     ]
    },
    {
     "data": {
      "image/png": "[encoded data removed]",
      "text/plain": [
       "<Figure size 1440x360 with 2 Axes>"
      ]
     },
     "metadata": {
      "needs_background": "light"
     },
     "output_type": "display_data"
    },
    {
     "data": {
      "text/plain": [
       "count    14149.000000\n",
       "mean        67.173145\n",
       "std         12.713129\n",
       "min          0.000000\n",
       "25%         64.914390\n",
       "50%         69.175663\n",
       "75%         73.429261\n",
       "max         88.140119\n",
       "Name: rougher.output.concentrate, dtype: float64"
      ]
     },
     "metadata": {},
     "output_type": "display_data"
    },
    {
     "name": "stdout",
     "output_type": "stream",
     "text": [
      "Границы нормальных значений для столбца rougher.output.concentrate: (52.14, 86.20)\n"
     ]
    },
    {
     "data": {
      "image/png": "[encoded data removed]",
      "text/plain": [
       "<Figure size 1440x360 with 2 Axes>"
      ]
     },
     "metadata": {
      "needs_background": "light"
     },
     "output_type": "display_data"
    },
    {
     "data": {
      "text/plain": [
       "count    14149.000000\n",
       "mean        60.172546\n",
       "std         10.448165\n",
       "min          0.000000\n",
       "25%         58.046816\n",
       "50%         61.786946\n",
       "75%         65.355951\n",
       "max         76.918076\n",
       "Name: primary_cleaner.output.concentrate, dtype: float64"
      ]
     },
     "metadata": {},
     "output_type": "display_data"
    },
    {
     "name": "stdout",
     "output_type": "stream",
     "text": [
      "Границы нормальных значений для столбца primary_cleaner.output.concentrate: (47.08, 76.32)\n"
     ]
    },
    {
     "data": {
      "image/png": "[encoded data removed]",
      "text/plain": [
       "<Figure size 1440x360 with 2 Axes>"
      ]
     },
     "metadata": {
      "needs_background": "light"
     },
     "output_type": "display_data"
    },
    {
     "data": {
      "text/plain": [
       "count    14149.000000\n",
       "mean        68.387872\n",
       "std          7.023723\n",
       "min          0.000000\n",
       "25%         67.559819\n",
       "50%         69.141502\n",
       "75%         70.974661\n",
       "max         80.210644\n",
       "Name: final.output.concentrate, dtype: float64"
      ]
     },
     "metadata": {},
     "output_type": "display_data"
    },
    {
     "name": "stdout",
     "output_type": "stream",
     "text": [
      "Границы нормальных значений для столбца final.output.concentrate: (62.44, 76.10)\n"
     ]
    },
    {
     "data": {
      "image/png": "[encoded data removed]",
      "text/plain": [
       "<Figure size 1440x360 with 2 Axes>"
      ]
     },
     "metadata": {
      "needs_background": "light"
     },
     "output_type": "display_data"
    }
   ],
   "source": [
    "min_max = []\n",
    "for metric in conc_metrics:\n",
    "        \n",
    "    MIN_VIEW_BOXPLOT_MUL = 0.8\n",
    "    MAX_VIEW_BOXPLOT_MUL = 1.2\n",
    "    \n",
    "    display(data_train[metric].describe())\n",
    "    min_, q1, q3, max_ = data_train[metric].quantile([0, 0.25, 0.75, 1])\n",
    "    iqr = q3 - q1\n",
    "    range_min = max(min_, q1 - 1.5 * iqr)\n",
    "    range_max = min(max_, q3 + 1.5 * iqr)\n",
    "    min_max.append([range_min, range_max])\n",
    "    \n",
    "    print('Границы нормальных значений для столбца {}: ({:.2f}, {:.2f})'.format(\n",
    "            metric, \n",
    "            range_min,\n",
    "            range_max,\n",
    "        ))\n",
    "    \n",
    "    fig, axes = plt.subplots(nrows=1, ncols=2)\n",
    "    data_train[metric].plot(\n",
    "            kind='box',\n",
    "            grid=True,\n",
    "            ax=axes[0],\n",
    "            ylim=(range_min*MIN_VIEW_BOXPLOT_MUL, range_max*MAX_VIEW_BOXPLOT_MUL),\n",
    "            figsize=(20,5),\n",
    "        )\n",
    "    data_train[metric].plot(\n",
    "            kind='hist', \n",
    "            ax=axes[1],\n",
    "            bins=100, \n",
    "            title=metric,\n",
    "            grid=True,\n",
    "            figsize=(20,5),\n",
    "        )\n",
    "    plt.show()\n",
    "   "
   ]
  },
  {
   "cell_type": "markdown",
   "metadata": {},
   "source": [
    "Удалим аномальные (т.е. вне границ нормальных значений) значения."
   ]
  },
  {
   "cell_type": "code",
   "execution_count": 27,
   "metadata": {},
   "outputs": [
    {
     "name": "stdout",
     "output_type": "stream",
     "text": [
      "(14149, 90)\n",
      "(11931, 90)\n"
     ]
    }
   ],
   "source": [
    "print(data_train.shape)\n",
    "for i in range(len(conc_metrics)):\n",
    "    data_train = data_train[\n",
    "    (data_train[conc_metrics[i]] >= min_max[i][0]) & \n",
    "    (data_train[conc_metrics[i]] <= min_max[i][1])\n",
    "    ]\n",
    "print(data_train.shape)"
   ]
  },
  {
   "cell_type": "markdown",
   "metadata": {},
   "source": [
    "Было удалено 15.7% данных из обучающей выборки как аномальных."
   ]
  },
  {
   "cell_type": "markdown",
   "metadata": {},
   "source": [
    "<div class=\"alert alert-success\">\n",
    "<h2> Комментарий ревьюера <a class=\"tocSkip\"> </h2>\n",
    "\n",
    "<b>Все отлично!👍:</b> \n",
    "\n",
    "Замечательно, суммарную концентрацию всех веществ на разных стадиях исследовали и нашли аномалии.\n",
    " \n",
    "Ведь отдельно по каждому веществу они могут быть (не всегда же есть крупицы золота в руде), а вот суммарно - вряд ли (в руде хоть какие-то элементы, но будут). А если мы имеем ноль, значит большая вероятность неточности в измерениях.\n",
    "    \n",
    "Правильный вывод, выборку нужно очистить от таких аномалий."
   ]
  },
  {
   "cell_type": "markdown",
   "metadata": {},
   "source": [
    "### Вывод по анализу данных"
   ]
  },
  {
   "cell_type": "markdown",
   "metadata": {},
   "source": [
    "В ходе анализа данных были построены графики изменения концентрации металлов на разных этапах отчистки, проведено сравнение распределения гранул сырья на тренировочной и тестовой выборках и проведено исслодование суммарной концентрации всех веществ на разных этапах отчистки с удалением аномальных значений.\n",
    "\n",
    "Для обучения и проверки моделей получили обучающую выборку с удалёнными аномальными значениями."
   ]
  },
  {
   "cell_type": "markdown",
   "metadata": {},
   "source": [
    "<div class=\"alert alert-success\">\n",
    "<h2> Комментарий ревьюера <a class=\"tocSkip\"> </h2>\n",
    "\n",
    "<b>Все отлично!👍:</b> \n",
    "\n",
    "Твой анализ данных интересно было изучить. Приступаем к построению моделей)"
   ]
  },
  {
   "cell_type": "markdown",
   "metadata": {},
   "source": [
    "## Модель"
   ]
  },
  {
   "cell_type": "markdown",
   "metadata": {},
   "source": [
    "Удалим лишние признаки из тренировочного датафрейма и проверим совпадение признаков в тренировочной и тестовой выборке."
   ]
  },
  {
   "cell_type": "code",
   "execution_count": 28,
   "metadata": {},
   "outputs": [
    {
     "name": "stdout",
     "output_type": "stream",
     "text": [
      "{'primary_cleaner.output.concentrate', 'final.output.concentrate_sol', 'secondary_cleaner.output.tail_sol', 'final.output.concentrate_ag', 'primary_cleaner.output.concentrate_au', 'secondary_cleaner.output.tail_ag', 'secondary_cleaner.output.tail_pb', 'rougher.calculation.floatbank11_sulfate_to_au_feed', 'final.output.concentrate_au', 'primary_cleaner.output.tail_au', 'primary_cleaner.output.concentrate_ag', 'rougher.output.concentrate', 'rougher.output.tail_au', 'rougher.output.tail_ag', 'final.output.concentrate_pb', 'rougher.calculation.au_pb_ratio', 'rougher.output.concentrate_pb', 'rougher.output.concentrate_ag', 'final.output.tail_ag', 'final.output.tail_pb', 'final.output.tail_au', 'rougher.input.feed', 'rougher.output.tail_pb', 'rougher.calculation.floatbank10_sulfate_to_au_feed', 'primary_cleaner.output.tail_pb', 'primary_cleaner.output.concentrate_pb', 'primary_cleaner.output.tail_sol', 'final.output.tail_sol', 'rougher.output.concentrate_sol', 'rougher.output.concentrate_au', 'secondary_cleaner.output.tail_au', 'primary_cleaner.output.concentrate_sol', 'primary_cleaner.output.tail_ag', 'rougher.calculation.sulfate_to_au_concentrate', 'rougher.output.tail_sol', 'final.output.concentrate'}\n",
      "set()\n",
      "set()\n"
     ]
    }
   ],
   "source": [
    "missing_test_fields = set(data_train.columns.to_list()) - set(data_test.columns.to_list())\n",
    "#fields_diff(gold_recovery_train, gold_recovery_test)\n",
    "print(missing_test_fields)\n",
    "data_train = data_train.drop(missing_test_fields, axis='columns')\n",
    "print(set(data_train.columns.to_list()) - set(data_test.columns.to_list()))\n",
    "print(set(data_test.columns.to_list()) - set(data_train.columns.to_list()))"
   ]
  },
  {
   "cell_type": "markdown",
   "metadata": {},
   "source": [
    "### Функция для расчёта итогового sMAPE"
   ]
  },
  {
   "cell_type": "markdown",
   "metadata": {},
   "source": [
    "Создадим функцию для расчёта sMAPE."
   ]
  },
  {
   "cell_type": "code",
   "execution_count": 29,
   "metadata": {},
   "outputs": [],
   "source": [
    "def smape(target_true, target_predictions):\n",
    "    numerator = np.abs(target_true - target_predictions)\n",
    "    denominator = (np.abs(target_true) + np.abs(target_predictions)) / 2 \n",
    "    \n",
    "    return 1 / len(target_true) * np.sum(numerator / denominator) * 100 "
   ]
  },
  {
   "cell_type": "markdown",
   "metadata": {},
   "source": [
    "С использованием функции smape создадим функцию расчёта итогового sMAPE."
   ]
  },
  {
   "cell_type": "code",
   "execution_count": 30,
   "metadata": {},
   "outputs": [],
   "source": [
    "def final_smape(target_true, target_predictions):\n",
    "    target_true_rougher = target_true['rougher.output.recovery']\n",
    "    target_true_final = target_true['final.output.recovery']\n",
    "    \n",
    "    target_predictions_rougher = target_predictions[:, 0]\n",
    "    target_predictions_final = target_predictions[:, 1]\n",
    "    \n",
    "    return 0.25 * smape(target_true_rougher, target_predictions_rougher)\\\n",
    "        + 0.75 * smape(target_true_final, target_predictions_final)"
   ]
  },
  {
   "cell_type": "markdown",
   "metadata": {},
   "source": [
    "Для дальнейшего использования при подборе параметров с помощью GridSearchCV - создадим скорер на основе функции final_smape. Чем меньше итоговый sMAPE - тем лучше, поэтому согдаем скорер с параметром greater_is_better=False."
   ]
  },
  {
   "cell_type": "code",
   "execution_count": 31,
   "metadata": {},
   "outputs": [],
   "source": [
    "final_smape_scorer = make_scorer(final_smape, greater_is_better=False)"
   ]
  },
  {
   "cell_type": "markdown",
   "metadata": {},
   "source": [
    "<div class=\"alert alert-success\">\n",
    "<h2> Комментарий ревьюера <a class=\"tocSkip\"> </h2>\n",
    "\n",
    "<b>Все отлично!👍:</b> \n",
    "\n",
    "Функция правильная) Молодец, что для избежания дублирования кода вначале используешь функцию для невзвешенной sMAPE."
   ]
  },
  {
   "cell_type": "markdown",
   "metadata": {},
   "source": [
    "### Подбор параметров и обучение моделей"
   ]
  },
  {
   "cell_type": "markdown",
   "metadata": {},
   "source": [
    "Выделим признаки и целевые признаки из тренировочной и тестовой выборок."
   ]
  },
  {
   "cell_type": "code",
   "execution_count": 32,
   "metadata": {},
   "outputs": [],
   "source": [
    "features_train = data_train.drop(targets, axis='columns')\n",
    "target_train = data_train[targets]\n",
    "features_test = data_test.drop(targets, axis='columns')\n",
    "target_test = data_test[targets]"
   ]
  },
  {
   "cell_type": "markdown",
   "metadata": {},
   "source": [
    "#### Дерево решений"
   ]
  },
  {
   "cell_type": "code",
   "execution_count": 33,
   "metadata": {},
   "outputs": [
    {
     "name": "stdout",
     "output_type": "stream",
     "text": [
      "Лучшее значение sMAPE для дерева решений: 8.40 при значениях гиперпараметров: {'max_depth': 2}\n",
      "CPU times: user 13.9 s, sys: 3.29 ms, total: 13.9 s\n",
      "Wall time: 14 s\n"
     ]
    }
   ],
   "source": [
    "%%time\n",
    "param_grid = {'max_depth': range(1, 11)}\n",
    "\n",
    "model = DecisionTreeRegressor(random_state=131296)\n",
    "search = GridSearchCV(model, param_grid, cv=5, scoring=final_smape_scorer, n_jobs=-1)\n",
    "search.fit(features_train, target_train)\n",
    "print('Лучшее значение sMAPE для дерева решений: {:.2f} при значениях гиперпараметров: {}'.format(-search.best_score_,\n",
    "                                                                                              search.best_params_))"
   ]
  },
  {
   "cell_type": "markdown",
   "metadata": {},
   "source": [
    "#### Случайный лес"
   ]
  },
  {
   "cell_type": "code",
   "execution_count": 34,
   "metadata": {},
   "outputs": [
    {
     "name": "stdout",
     "output_type": "stream",
     "text": [
      "Лучшее значение sMAPE для случайного леса: 8.22 при значениях гиперпараметров: {'max_depth': 2, 'n_estimators': 10}\n",
      "CPU times: user 27min 22s, sys: 2.01 s, total: 27min 24s\n",
      "Wall time: 27min 26s\n"
     ]
    }
   ],
   "source": [
    "%%time\n",
    "param_grid = {'max_depth': range(1, 11),\n",
    "              'n_estimators': range(10, 61, 10)}\n",
    "\n",
    "model = RandomForestRegressor(random_state=131296)\n",
    "search = GridSearchCV(model, param_grid, cv=5, scoring=final_smape_scorer, n_jobs=-1)\n",
    "search.fit(features_train, target_train)\n",
    "print('Лучшее значение sMAPE для случайного леса: {:.2f} при значениях гиперпараметров: {}'.format(-search.best_score_,\n",
    "                                                                                               search.best_params_))"
   ]
  },
  {
   "cell_type": "markdown",
   "metadata": {},
   "source": [
    "#### Линейная регрессия"
   ]
  },
  {
   "cell_type": "code",
   "execution_count": 35,
   "metadata": {},
   "outputs": [
    {
     "name": "stdout",
     "output_type": "stream",
     "text": [
      "Лучшее значение sMAPE для линейной регрессии: 9.08\n",
      "CPU times: user 360 ms, sys: 628 ms, total: 988 ms\n",
      "Wall time: 924 ms\n"
     ]
    }
   ],
   "source": [
    "%%time\n",
    "pipe = Pipeline([\n",
    "        ('scale', StandardScaler()),\n",
    "        ('model', LinearRegression())\n",
    "        ])\n",
    "smape_result = cross_val_score(pipe, features_train, target_train, cv=5, scoring=final_smape_scorer).mean()\n",
    "print('Лучшее значение sMAPE для линейной регрессии: {:.2f}'.format(-smape_result))"
   ]
  },
  {
   "cell_type": "markdown",
   "metadata": {},
   "source": [
    "<div class=\"alert alert-warning\">\n",
    "    <h2> Комментарий ревьюера <a class=\"tocSkip\"> </h2>\n",
    "    \n",
    "<b>Некоторые замечания и рекомендации💡:</b> \n",
    "     \n",
    "Если используешь `cross_val_score`, то нет нужды перед ним вызывать `fit` у модели."
   ]
  },
  {
   "cell_type": "markdown",
   "metadata": {},
   "source": [
    "<div class=\"alert alert-info\">\n",
    "<h2> Комментарий студента: <a class=\"tocSkip\"> </h2>\n",
    "\n",
    "<b>👋:</b> Согласен, тут сам запамятовал."
   ]
  },
  {
   "cell_type": "markdown",
   "metadata": {},
   "source": [
    "<div class=\"alert alert-success\">\n",
    "<h2> Комментарий ревьюера v.2 <a class=\"tocSkip\"> </h2>\n",
    "\n",
    "<b>Все отлично!👍:</b>"
   ]
  },
  {
   "cell_type": "markdown",
   "metadata": {},
   "source": [
    "<div class=\"alert alert-warning\">\n",
    "    <h2> Комментарий ревьюера <a class=\"tocSkip\"> </h2>\n",
    "    \n",
    "<b>Некоторые замечания и рекомендации💡:</b> \n",
    "    \n",
    "Хотя ты и не используешь тут стандартизацию признаков, оставлю для тебя полезную информацию. Для линейной регрессии, а также для моделей, основанных на деревьях, масштабирование либо нормализация данных перед обучением никак не влияет на качество предсказаний (<a href = 'https://www.baeldung.com/cs/normalization-vs-standardization'>ссылка</a>)\n",
    "        \n",
    "У моделей на основе деревьв принцип принятия решения завязан на относительности значений признаков, а она при стандартизации воздействию не подвергается. \n",
    "        \n",
    "С линейными регрессиями чуть интереснее: стандартизация никак себя не проявит, поскольку все изменения переменной можно нивелировать за счет изменения коэффициента:  \n",
    "\n",
    "$y = \\alpha + \\beta X$ - без стандартизации\n",
    "\n",
    "$y = \\alpha_{st} + \\beta_{st} \\frac{X-mean}{std} = (\\alpha_{st} - \\frac{\\beta_{st}mean}{std}) + (\\frac{\\beta_{st}}{std}) X$ - со стандартизацией\n",
    "\n",
    "При этом $\\alpha = (\\alpha_{st} - \\frac{\\beta_{st}mean}{std})$ и $\\beta = (\\frac{\\beta_{st}}{std})$.\n",
    "\n",
    "По ссылкам можно узнать, когда все-таки стандартизация крайне важна: <a href = 'https://www.listendata.com/2017/04/how-to-standardize-variable-in-regression.html'>ссылка 1</a>, <a href = 'https://www.statlect.com/fundamentals-of-statistics/linear-regression-with-standardized-variables'>ссылка 2</a>.\n",
    "\n",
    "Преимущество, которое дает стандартизация для линейной регрессии, это то, что мы можем по величине полученных коэффициентов судить о важности соотвествующих признаков (больше коэффициент - больше значимость, важность необходима для регрессий с регуляризацией). Без стандартизации такая интерпретация невозможна, так как каждый коэффициент в себя включает еще и элемент балансировки масштаба своего признака. Но на качестве предсказаний это никак не отражается.\n",
    "        \n",
    "С другой стороны, применяя стандартизацию к признакам, нужно быть осторожным: если не использовать конвеерную обработку (<a href = 'https://stackoverflow.com/questions/51459406/how-to-apply-standardscaler-in-pipeline-in-scikit-learn-sklearn'>через пайплайн</a>), то утечка данных внутри кросс-валидации будет неизбежна.\n",
    "        \n",
    "        \n",
    "        "
   ]
  },
  {
   "cell_type": "markdown",
   "metadata": {},
   "source": [
    "<div class=\"alert alert-success\">\n",
    "<h2> Комментарий ревьюера v.2 <a class=\"tocSkip\"> </h2>\n",
    "\n",
    "<b>Все отлично!👍:</b>"
   ]
  },
  {
   "cell_type": "markdown",
   "metadata": {},
   "source": [
    "### Проверка модели случайного леса на тестовой выборке"
   ]
  },
  {
   "cell_type": "markdown",
   "metadata": {},
   "source": [
    "Лучший результат по итоговому sMAPE (8.22) на кросс-валидации показала модель случайного леса со следующими параметрами:\n",
    "* max_depth: 2;\n",
    "* n_estimators: 10.\n",
    "\n",
    "Проверим эту модель на тестовых данных."
   ]
  },
  {
   "cell_type": "code",
   "execution_count": 36,
   "metadata": {
    "scrolled": true
   },
   "outputs": [
    {
     "name": "stdout",
     "output_type": "stream",
     "text": [
      "sMAPE для тестовых данных: 8.87\n"
     ]
    }
   ],
   "source": [
    "model = RandomForestRegressor(max_depth=2, n_estimators=10, random_state=131296)\n",
    "model.fit(features_train, target_train)\n",
    "predictions_test = model.predict(features_test)\n",
    "print('sMAPE для тестовых данных: {:.2f}'.format(final_smape(target_test, predictions_test)))"
   ]
  },
  {
   "cell_type": "markdown",
   "metadata": {},
   "source": [
    "Проверим модель на адекватность - получим значение итогового sMAPE для DummyRegressor."
   ]
  },
  {
   "cell_type": "code",
   "execution_count": 37,
   "metadata": {},
   "outputs": [
    {
     "name": "stdout",
     "output_type": "stream",
     "text": [
      "sMAPE для Dummy-регрессии: 9.57\n"
     ]
    }
   ],
   "source": [
    "model = DummyRegressor()\n",
    "model.fit(features_train, target_train)\n",
    "predictions_test = model.predict(features_test)\n",
    "print('sMAPE для Dummy-регрессии: {:.2f}'.format(final_smape(target_test, predictions_test)))"
   ]
  },
  {
   "cell_type": "markdown",
   "metadata": {},
   "source": [
    "Модель адекватна - показатель sMAPE для Dummy-регрессии на тестовой выборке больше (т.е. хуже) чем у выбранной модели."
   ]
  },
  {
   "cell_type": "markdown",
   "metadata": {},
   "source": [
    "<div class=\"alert alert-success\">\n",
    "<h2> Комментарий ревьюера <a class=\"tocSkip\"> </h2>\n",
    "\n",
    "<b>Все отлично!👍:</b> \n",
    "        \n",
    "Тестирование лучшей модели проведено правильно."
   ]
  },
  {
   "cell_type": "markdown",
   "metadata": {},
   "source": [
    "## Вывод"
   ]
  },
  {
   "cell_type": "markdown",
   "metadata": {},
   "source": [
    "Целью проекта было создание прототипа модели машинного обучения для предсказания коэфициента восстановления золота из золотосодержащей руды. Оценка точности предсказания должна производиться по параметру итогового значения sMAPE - симметричного среднего абсолютного процентного отклонения.\n",
    "\n",
    "Для достижения этой цели были проведены следующие этапы исследования:\n",
    "* подготовка данных, по результату которых была получена тренировочная и тестовая выборки без пропусков в данных;\n",
    "* анализ данных, по результату которого мы подтвердили сходное распределение размера гранул в тренировочной и тестовой выборке, получена обучающая выборка с удалёнными аномальными значениями в размере 15.6%;\n",
    "* обучены несколько моделей и выбрана одна - модель случайного леса - которая на тестовой выборке показала результат - итоговый sMAPE 8.87.\n",
    "\n",
    "Для улучшения результата можно провести повторное исследование с испытанием других моделей машинного обучения."
   ]
  },
  {
   "cell_type": "markdown",
   "metadata": {},
   "source": [
    "<br/>\n",
    "<div class=\"alert alert-block alert-danger\">\n",
    "<h2> Комментарий ревьюера <a class=\"tocSkip\"></h2>\n",
    "    \n",
    "<b>На доработку🤔:</b>\n",
    "    \n",
    "В каждом проекте при оценке качества модели, имеет смысл сравнивать ее с константной моделью (к примеру, которая предсказывает медиану по таргету). И в наш проект важно добавить это сравнение.  Создавать константные модели можно либо вручную, либо воспользоваться готовым алгоритмом <a href='https://scikit-learn.org/stable/modules/generated/sklearn.dummy.DummyRegressor.html'>DummyRegressor</a> из пакета `sklearn`."
   ]
  },
  {
   "cell_type": "markdown",
   "metadata": {},
   "source": [
    "<div class=\"alert alert-info\">\n",
    "<h2> Комментарий студента: <a class=\"tocSkip\"> </h2>\n",
    "\n",
    "<b>👋:</b> \n",
    "    \n",
    "У меня есть предположение, что можно было бы добиться лучших результатов по следующему алгоритму создания моделей:\n",
    "    \n",
    "* вместо моделей, поддерживающих мультиоутпут - т.е. предсказание нескольких таргетов - взять новые модели;\n",
    "*  выделить отдельно фичи для таргета выхода с флотации - так как на recovery после флотации могут влиять хронологически только те данные, которые мы получаем на этапе флотации; в свою очередь на финальный recovery хронологически могут влиять все фичи;\\\n",
    "*  для каждой испытываемой модели подбирать параметры для минимизации sMAPE по каждому таргету отдельно и потом по двум оптимизированным моделям считать итоговый sMAPE."
   ]
  },
  {
   "cell_type": "markdown",
   "metadata": {},
   "source": [
    "<div class=\"alert alert-success\">\n",
    "<h2> Комментарий ревьюера v.2 <a class=\"tocSkip\"></a></h2>\n",
    "\n",
    "<b>Все отлично!👍:  </b> \n",
    "    \n",
    "Да, это отличная идея и вполне реализуемая)"
   ]
  },
  {
   "cell_type": "markdown",
   "metadata": {},
   "source": [
    "<div style=\"border:solid Chocolate 2px; padding: 40px\">\n",
    "\n",
    "\n",
    "<h2> Итоговый комментарий ревьюера v.1 <a class=\"tocSkip\"> </h2>    \n",
    "    \n",
    "  \n",
    "У меня сложилось хорошее общее впечатление о проекте, тебе удалось неплохо справиться с таким объемным и сложным проектом. Молодец! Подготовлены данные для анализа, изучен каждый параметр. Все красиво визуализировано, построено несколько моделей регрессии и оценено их качество. Осмысленная аналитика и дельная модельная работа - многое удалось как надо)\n",
    "    \n",
    "Отмечу отдельные положительные моменты проекта🙂:\n",
    "    \n",
    "- в ходе проекта встречались функции, помогающие избавиться от дублирования кода;\n",
    "- много красивых визуализаций в проекте и хорошая интерпретация;\n",
    "- при обучении моделей использована кросс-валидация и поиск гиперпараметров с `GridSearchCV`.\n",
    "    \n",
    "Есть несколько моментов всего, на которые стоит ещё раз взглянуть, их я обзначил тебе в комментариях по ходу проекта. Предлагаю тебе доработать проект по моим комментариям, чтобы довести его до совершенства.\n",
    "\n",
    "Если будут вопросы, обращайся, с удовольствием на них отвечу.  \n",
    "</div>"
   ]
  },
  {
   "cell_type": "markdown",
   "metadata": {},
   "source": [
    "<div class=\"alert alert-success\">\n",
    "<h2> Комментарий ревьюера v.2 <a class=\"tocSkip\"> </h2>\n",
    "\n",
    "<b>Все отлично!👍:</b> \n",
    "    \n",
    "Если хочешь лучше разобраться в ML, то могу посоветовать тебе: \n",
    "    \n",
    "- Открытый курс машинного обучения: https://habr.com/ru/company/ods/blog/322626/   \n",
    "    \n",
    "- Книжка от ШАД: https://ml-handbook.ru/\n",
    "    \n",
    "- Также рекомендую лекции от Andrew Ng: https://www.youtube.com/watch?v=PPLop4L2eGk&list=PLLssT5z_DsK-h9vYZkQkYNWcItqhlRJLN\n",
    "- Избежать утечки данных при кросс-валидации тебе поможет <a href=\"https://towardsdatascience.com/pipeline-columntransformer-and-featureunion-explained-f5491f815f\">конвеерная обработка данных</a>.     \n",
    "    \n",
    "- Не все признаки приносят пользу при моделировании. Инструмент <a href=\"https://proglib.io/p/feature-selector\">FeatureSelector</a> поможет тебе отобрать важные признаки и избавит от ручной обработки.  Также можешь посмотреть статью на <a href=\"https://www.kaggle.com/code/prashant111/comprehensive-guide-on-feature-selection/notebook\">Kaggle</a>.\n",
    "    "
   ]
  },
  {
   "cell_type": "markdown",
   "metadata": {},
   "source": [
    "<div style=\"border:solid Chocolate 2px; padding: 40px\">\n",
    "\n",
    "\n",
    "<h2> Итоговый комментарий ревьюера v.2 <a class=\"tocSkip\"> </h2>    \n",
    "    \n",
    "     \n",
    "  \n",
    "Теперь почти идеально. Принимаю работу)\n",
    "    \n",
    "    \n",
    "В этом проекте были отработаны несколько моментов. А самый очевидный: заметно, что разность метрик качества (константной и нашей модели) -  не слишком большая. Такое расхождение метрик допустимо в этом проекте. Что тогда  для дальнейшего улучшения качества моделирования возможно тут пересмотреть?\n",
    "Попробую описать для тебя:\n",
    "1. Качество данных на входе модели машинного обучения: повторно оценить аномалии, пропуски, соответствие законам химии и физики, все ли правдоподобно?\n",
    "2. Работа с моделями машинного обучения:\n",
    "- Создание новых признаков для моделей, Features Engineering: возможно стоит обратиться к технологу производства и ещё раз пробежаться по бизнес-цепочке процесса.\n",
    "- Отбор самих моделей машинного обучения и гиперпараметров.\n",
    "    \n",
    "3. Параметры производственного процесса, к примеру: температура сырья, скорость ленточного конвейера, и.т.п.\n",
    "    \n",
    "\n",
    "Если провести Анализ измерительных систем, или MSA, то можно разобраться в причинах неточности полученных с производства данных. Статистический анализ данных, или SPC, - тоже будет являться незаменимым помощником в решении нашей задачи.\n",
    "    \n",
    "Добавлю здесь, что цель нашего проекта достигнута, а именно пройдены важные этапы подготовки данных и построения модели для производства золота.\n",
    "    \n",
    "Успехов тебе в следующем спринте!\n",
    "    \n",
    "Рад был помочь тебе)\n",
    "    \n",
    "Преподаватель в Slack будет рад помочь, если у тебя появятся вопросы.\n",
    "</div>"
   ]
  },
  {
   "cell_type": "markdown",
   "metadata": {},
   "source": [
    "## Чек-лист готовности проекта"
   ]
  },
  {
   "cell_type": "markdown",
   "metadata": {},
   "source": [
    "- [x]  Jupyter Notebook открыт\n",
    "- [x]  Весь код выполняется без ошибок\n",
    "- [x]  Ячейки с кодом расположены в порядке выполнения\n",
    "- [x]  Выполнен шаг 1: данные подготовлены\n",
    "    - [x]  Проверена формула вычисления эффективности обогащения\n",
    "    - [x]  Проанализированы признаки, недоступные в тестовой выборке\n",
    "    - [x]  Проведена предобработка данных\n",
    "- [x]  Выполнен шаг 2: данные проанализированы\n",
    "    - [x]  Исследовано изменение концентрации элементов на каждом этапе\n",
    "    - [x]  Проанализированы распределения размеров гранул на обучающей и тестовой выборках\n",
    "    - [x]  Исследованы суммарные концентрации\n",
    "- [x]  Выполнен шаг 3: построена модель прогнозирования\n",
    "    - [x]  Написана функция для вычисления итогового *sMAPE*\n",
    "    - [x]  Обучено и проверено несколько моделей\n",
    "    - [x]  Выбрана лучшая модель, её качество проверено на тестовой выборке"
   ]
  },
  {
   "cell_type": "markdown",
   "metadata": {},
   "source": [
    "## Бонус "
   ]
  },
  {
   "cell_type": "code",
   "execution_count": 38,
   "metadata": {},
   "outputs": [
    {
     "name": "stdout",
     "output_type": "stream",
     "text": [
      "['rougher.input.feed_ag', 'rougher.input.feed_pb', 'rougher.input.feed_rate', 'rougher.input.feed_size', 'rougher.input.feed_sol', 'rougher.input.feed_au', 'rougher.input.floatbank10_sulfate', 'rougher.input.floatbank10_xanthate', 'rougher.input.floatbank11_sulfate', 'rougher.input.floatbank11_xanthate', 'rougher.state.floatbank10_a_air', 'rougher.state.floatbank10_a_level', 'rougher.state.floatbank10_b_air', 'rougher.state.floatbank10_b_level', 'rougher.state.floatbank10_c_air', 'rougher.state.floatbank10_c_level', 'rougher.state.floatbank10_d_air', 'rougher.state.floatbank10_d_level', 'rougher.state.floatbank10_e_air', 'rougher.state.floatbank10_e_level', 'rougher.state.floatbank10_f_air', 'rougher.state.floatbank10_f_level']\n"
     ]
    }
   ],
   "source": [
    "features_rougher_label = list(features_train.columns)\n",
    "#print(features_rougher_label)\n",
    "features_rougher_label = list(filter(lambda x: x.startswith('rougher'), features_rougher_label))\n",
    "print(features_rougher_label)"
   ]
  },
  {
   "cell_type": "code",
   "execution_count": 39,
   "metadata": {},
   "outputs": [],
   "source": [
    "#фичи и таргеты для флотации\n",
    "features_train_rougher = features_train[features_rougher_label]\n",
    "targets_train_rougher = target_train.iloc[:, 0]\n",
    "features_test_rougher = features_test[features_rougher_label]\n",
    "targets_test_rougher = target_test.iloc[:, 0]"
   ]
  },
  {
   "cell_type": "code",
   "execution_count": 40,
   "metadata": {},
   "outputs": [],
   "source": [
    "#fs = FeatureSelector(data = features_train_rougher, labels = features_train_rougher.columns)"
   ]
  },
  {
   "cell_type": "code",
   "execution_count": 41,
   "metadata": {},
   "outputs": [],
   "source": [
    "#print(features_train_rougher.shape)\n",
    "#print(len(features_rougher_label))"
   ]
  },
  {
   "cell_type": "code",
   "execution_count": 42,
   "metadata": {},
   "outputs": [],
   "source": [
    "#fs.identify_missing(missing_threshold = 0.6)"
   ]
  },
  {
   "cell_type": "code",
   "execution_count": 43,
   "metadata": {
    "scrolled": true
   },
   "outputs": [],
   "source": [
    "#fs.identify_collinear(correlation_threshold = 0.98)"
   ]
  },
  {
   "cell_type": "code",
   "execution_count": 44,
   "metadata": {},
   "outputs": [],
   "source": [
    "#fs.identify_single_unique()"
   ]
  },
  {
   "cell_type": "code",
   "execution_count": 45,
   "metadata": {},
   "outputs": [
    {
     "ename": "IndentationError",
     "evalue": "unexpected indent (455493813.py, line 2)",
     "output_type": "error",
     "traceback": [
      "\u001b[0;36m  File \u001b[0;32m\"/tmp/ipykernel_54/455493813.py\"\u001b[0;36m, line \u001b[0;32m2\u001b[0m\n\u001b[0;31m    eval_metric = 'l2',\u001b[0m\n\u001b[0m    ^\u001b[0m\n\u001b[0;31mIndentationError\u001b[0m\u001b[0;31m:\u001b[0m unexpected indent\n"
     ]
    }
   ],
   "source": [
    "#fs.identify_zero_importance(task = 'regression', \n",
    "#                            eval_metric = 'l2', \n",
    "#                            n_iterations = 10, \n",
    "#                            early_stopping = True)"
   ]
  },
  {
   "cell_type": "code",
   "execution_count": null,
   "metadata": {},
   "outputs": [],
   "source": [
    "#fs.identify_low_importance(cumulative_importance = 0.99)"
   ]
  }
 ],
 "metadata": {
  "ExecuteTimeLog": [
   {
    "duration": 396,
    "start_time": "2022-10-18T15:26:45.721Z"
   },
   {
    "duration": 1511,
    "start_time": "2022-10-18T15:32:58.170Z"
   },
   {
    "duration": 23,
    "start_time": "2022-10-18T16:03:10.515Z"
   },
   {
    "duration": 13,
    "start_time": "2022-10-18T16:03:55.313Z"
   },
   {
    "duration": 25,
    "start_time": "2022-10-18T16:04:11.449Z"
   },
   {
    "duration": 18,
    "start_time": "2022-10-18T16:05:25.433Z"
   },
   {
    "duration": 24,
    "start_time": "2022-10-18T16:05:37.212Z"
   },
   {
    "duration": 24,
    "start_time": "2022-10-18T16:05:47.957Z"
   },
   {
    "duration": 1914,
    "start_time": "2022-10-18T16:11:23.322Z"
   },
   {
    "duration": 3,
    "start_time": "2022-10-18T16:12:19.084Z"
   },
   {
    "duration": 1590,
    "start_time": "2022-10-18T16:12:26.141Z"
   },
   {
    "duration": 20,
    "start_time": "2022-10-18T16:13:05.381Z"
   },
   {
    "duration": 18,
    "start_time": "2022-10-18T16:13:16.781Z"
   },
   {
    "duration": 76,
    "start_time": "2022-10-18T16:14:23.327Z"
   },
   {
    "duration": 2,
    "start_time": "2022-10-18T16:14:31.055Z"
   },
   {
    "duration": 18,
    "start_time": "2022-10-18T16:14:34.072Z"
   },
   {
    "duration": 19,
    "start_time": "2022-10-18T16:14:49.304Z"
   },
   {
    "duration": 18,
    "start_time": "2022-10-18T16:17:18.466Z"
   },
   {
    "duration": 19,
    "start_time": "2022-10-18T16:17:31.115Z"
   },
   {
    "duration": 801,
    "start_time": "2022-10-19T11:50:50.059Z"
   },
   {
    "duration": 5,
    "start_time": "2022-10-19T11:50:53.250Z"
   },
   {
    "duration": 1479,
    "start_time": "2022-10-19T11:50:55.419Z"
   },
   {
    "duration": 69,
    "start_time": "2022-10-19T11:54:04.440Z"
   },
   {
    "duration": 4,
    "start_time": "2022-10-19T11:54:10.301Z"
   },
   {
    "duration": 80,
    "start_time": "2022-10-19T11:54:17.735Z"
   },
   {
    "duration": 3,
    "start_time": "2022-10-19T11:54:25.024Z"
   },
   {
    "duration": 3,
    "start_time": "2022-10-19T11:54:26.528Z"
   },
   {
    "duration": 68,
    "start_time": "2022-10-19T11:55:17.089Z"
   },
   {
    "duration": 4,
    "start_time": "2022-10-19T11:55:47.689Z"
   },
   {
    "duration": 4,
    "start_time": "2022-10-19T11:55:49.185Z"
   },
   {
    "duration": 4,
    "start_time": "2022-10-19T11:57:06.187Z"
   },
   {
    "duration": 295,
    "start_time": "2022-10-19T11:57:07.538Z"
   },
   {
    "duration": 3,
    "start_time": "2022-10-19T11:58:10.638Z"
   },
   {
    "duration": 289,
    "start_time": "2022-10-19T11:58:11.794Z"
   },
   {
    "duration": 296,
    "start_time": "2022-10-19T11:59:03.540Z"
   },
   {
    "duration": 283,
    "start_time": "2022-10-19T11:59:19.147Z"
   },
   {
    "duration": 4,
    "start_time": "2022-10-19T11:59:49.583Z"
   },
   {
    "duration": 263,
    "start_time": "2022-10-19T11:59:51.351Z"
   },
   {
    "duration": 166,
    "start_time": "2022-10-19T12:04:56.877Z"
   },
   {
    "duration": 310,
    "start_time": "2022-10-19T12:05:14.645Z"
   },
   {
    "duration": 310,
    "start_time": "2022-10-19T12:05:18.286Z"
   },
   {
    "duration": 2,
    "start_time": "2022-10-19T12:07:29.681Z"
   },
   {
    "duration": 8,
    "start_time": "2022-10-19T12:30:01.486Z"
   },
   {
    "duration": 9,
    "start_time": "2022-10-19T12:30:09.950Z"
   },
   {
    "duration": 765,
    "start_time": "2022-10-19T12:30:55.670Z"
   },
   {
    "duration": 14,
    "start_time": "2022-10-19T12:30:59.815Z"
   },
   {
    "duration": 4,
    "start_time": "2022-10-19T12:34:26.578Z"
   },
   {
    "duration": 11,
    "start_time": "2022-10-19T12:35:01.307Z"
   },
   {
    "duration": 5,
    "start_time": "2022-10-19T12:39:13.483Z"
   },
   {
    "duration": 49,
    "start_time": "2022-10-19T12:39:37.323Z"
   },
   {
    "duration": 11,
    "start_time": "2022-10-19T12:39:43.098Z"
   },
   {
    "duration": 10,
    "start_time": "2022-10-19T12:40:02.979Z"
   },
   {
    "duration": 4,
    "start_time": "2022-10-19T12:40:25.083Z"
   },
   {
    "duration": 6,
    "start_time": "2022-10-19T12:40:31.844Z"
   },
   {
    "duration": 2,
    "start_time": "2022-10-19T12:40:52.020Z"
   },
   {
    "duration": 4,
    "start_time": "2022-10-19T12:41:20.348Z"
   },
   {
    "duration": 4,
    "start_time": "2022-10-19T12:41:40.516Z"
   },
   {
    "duration": 8,
    "start_time": "2022-10-19T12:41:56.566Z"
   },
   {
    "duration": 7,
    "start_time": "2022-10-19T12:42:28.758Z"
   },
   {
    "duration": 3,
    "start_time": "2022-10-19T12:44:35.360Z"
   },
   {
    "duration": 3,
    "start_time": "2022-10-19T12:47:52.069Z"
   },
   {
    "duration": 2,
    "start_time": "2022-10-19T12:48:35.110Z"
   },
   {
    "duration": 3,
    "start_time": "2022-10-19T12:48:44.582Z"
   },
   {
    "duration": 14,
    "start_time": "2022-10-19T12:48:54.862Z"
   },
   {
    "duration": 3,
    "start_time": "2022-10-19T12:49:04.470Z"
   },
   {
    "duration": 11,
    "start_time": "2022-10-19T12:49:05.950Z"
   },
   {
    "duration": 3,
    "start_time": "2022-10-19T12:49:33.055Z"
   },
   {
    "duration": 10,
    "start_time": "2022-10-19T12:49:34.425Z"
   },
   {
    "duration": 4,
    "start_time": "2022-10-19T12:50:14.991Z"
   },
   {
    "duration": 13,
    "start_time": "2022-10-19T12:50:22.168Z"
   },
   {
    "duration": 3,
    "start_time": "2022-10-19T12:50:27.680Z"
   },
   {
    "duration": 15,
    "start_time": "2022-10-19T12:50:29.040Z"
   },
   {
    "duration": 8,
    "start_time": "2022-10-19T12:51:15.266Z"
   },
   {
    "duration": 63,
    "start_time": "2022-10-19T13:55:48.421Z"
   },
   {
    "duration": 11,
    "start_time": "2022-10-19T13:56:03.023Z"
   },
   {
    "duration": 21,
    "start_time": "2022-10-19T13:56:10.663Z"
   },
   {
    "duration": 17,
    "start_time": "2022-10-19T13:58:27.851Z"
   },
   {
    "duration": 22,
    "start_time": "2022-10-19T14:00:31.916Z"
   },
   {
    "duration": 992,
    "start_time": "2022-10-19T14:01:02.006Z"
   },
   {
    "duration": 1054,
    "start_time": "2022-10-19T14:01:13.541Z"
   },
   {
    "duration": 5,
    "start_time": "2022-10-19T14:01:24.053Z"
   },
   {
    "duration": 5,
    "start_time": "2022-10-19T14:01:53.391Z"
   },
   {
    "duration": 26,
    "start_time": "2022-10-19T14:03:12.360Z"
   },
   {
    "duration": 1424,
    "start_time": "2022-10-19T14:03:40.936Z"
   },
   {
    "duration": 17,
    "start_time": "2022-10-19T14:03:55.504Z"
   },
   {
    "duration": 21,
    "start_time": "2022-10-19T14:04:16.354Z"
   },
   {
    "duration": 15,
    "start_time": "2022-10-19T14:04:28.618Z"
   },
   {
    "duration": 724,
    "start_time": "2022-10-19T14:04:56.347Z"
   },
   {
    "duration": 1482,
    "start_time": "2022-10-19T14:05:07.527Z"
   },
   {
    "duration": 15,
    "start_time": "2022-10-19T14:05:36.166Z"
   },
   {
    "duration": 1575,
    "start_time": "2022-10-19T14:05:47.539Z"
   },
   {
    "duration": 3,
    "start_time": "2022-10-19T14:05:49.121Z"
   },
   {
    "duration": 707,
    "start_time": "2022-10-19T14:05:49.127Z"
   },
   {
    "duration": 4,
    "start_time": "2022-10-19T14:05:49.835Z"
   },
   {
    "duration": 294,
    "start_time": "2022-10-19T14:05:49.841Z"
   },
   {
    "duration": 176,
    "start_time": "2022-10-19T14:05:50.137Z"
   },
   {
    "duration": 319,
    "start_time": "2022-10-19T14:05:50.320Z"
   },
   {
    "duration": 3,
    "start_time": "2022-10-19T14:05:50.640Z"
   },
   {
    "duration": 29,
    "start_time": "2022-10-19T14:05:50.644Z"
   },
   {
    "duration": 45,
    "start_time": "2022-10-19T14:05:50.675Z"
   },
   {
    "duration": 16,
    "start_time": "2022-10-19T14:05:50.722Z"
   },
   {
    "duration": 28,
    "start_time": "2022-10-19T14:05:50.740Z"
   },
   {
    "duration": 8,
    "start_time": "2022-10-19T14:05:50.770Z"
   },
   {
    "duration": 22,
    "start_time": "2022-10-19T14:05:50.781Z"
   },
   {
    "duration": 22,
    "start_time": "2022-10-19T14:05:50.805Z"
   },
   {
    "duration": 21,
    "start_time": "2022-10-19T14:05:50.829Z"
   },
   {
    "duration": 36,
    "start_time": "2022-10-19T14:05:50.853Z"
   },
   {
    "duration": 19,
    "start_time": "2022-10-19T14:05:50.891Z"
   },
   {
    "duration": 6,
    "start_time": "2022-10-19T14:08:18.977Z"
   },
   {
    "duration": 290,
    "start_time": "2022-10-19T14:08:20.992Z"
   },
   {
    "duration": 4,
    "start_time": "2022-10-19T14:08:38.328Z"
   },
   {
    "duration": 271,
    "start_time": "2022-10-19T14:08:41.385Z"
   },
   {
    "duration": 1549,
    "start_time": "2022-10-19T14:08:47.692Z"
   },
   {
    "duration": 3,
    "start_time": "2022-10-19T14:08:49.243Z"
   },
   {
    "duration": 683,
    "start_time": "2022-10-19T14:08:49.247Z"
   },
   {
    "duration": 4,
    "start_time": "2022-10-19T14:08:49.932Z"
   },
   {
    "duration": 313,
    "start_time": "2022-10-19T14:08:49.938Z"
   },
   {
    "duration": 175,
    "start_time": "2022-10-19T14:08:50.253Z"
   },
   {
    "duration": 318,
    "start_time": "2022-10-19T14:08:50.431Z"
   },
   {
    "duration": 3,
    "start_time": "2022-10-19T14:08:50.751Z"
   },
   {
    "duration": 12,
    "start_time": "2022-10-19T14:08:50.756Z"
   },
   {
    "duration": 16,
    "start_time": "2022-10-19T14:08:50.771Z"
   },
   {
    "duration": 12,
    "start_time": "2022-10-19T14:08:50.789Z"
   },
   {
    "duration": 18,
    "start_time": "2022-10-19T14:08:50.803Z"
   },
   {
    "duration": 5,
    "start_time": "2022-10-19T14:08:50.823Z"
   },
   {
    "duration": 10,
    "start_time": "2022-10-19T14:08:50.830Z"
   },
   {
    "duration": 11,
    "start_time": "2022-10-19T14:08:50.842Z"
   },
   {
    "duration": 17,
    "start_time": "2022-10-19T14:08:50.855Z"
   },
   {
    "duration": 13,
    "start_time": "2022-10-19T14:08:50.874Z"
   },
   {
    "duration": 33,
    "start_time": "2022-10-19T14:08:50.889Z"
   },
   {
    "duration": 1454,
    "start_time": "2022-10-19T14:09:42.110Z"
   },
   {
    "duration": 3,
    "start_time": "2022-10-19T14:09:43.566Z"
   },
   {
    "duration": 696,
    "start_time": "2022-10-19T14:09:43.571Z"
   },
   {
    "duration": 4,
    "start_time": "2022-10-19T14:09:44.269Z"
   },
   {
    "duration": 308,
    "start_time": "2022-10-19T14:09:44.276Z"
   },
   {
    "duration": 177,
    "start_time": "2022-10-19T14:09:44.585Z"
   },
   {
    "duration": 328,
    "start_time": "2022-10-19T14:09:44.764Z"
   },
   {
    "duration": 3,
    "start_time": "2022-10-19T14:09:45.094Z"
   },
   {
    "duration": 28,
    "start_time": "2022-10-19T14:09:45.099Z"
   },
   {
    "duration": 31,
    "start_time": "2022-10-19T14:09:45.129Z"
   },
   {
    "duration": 6,
    "start_time": "2022-10-19T14:09:45.162Z"
   },
   {
    "duration": 18,
    "start_time": "2022-10-19T14:09:45.169Z"
   },
   {
    "duration": 21,
    "start_time": "2022-10-19T14:09:45.188Z"
   },
   {
    "duration": 14,
    "start_time": "2022-10-19T14:09:45.211Z"
   },
   {
    "duration": 19,
    "start_time": "2022-10-19T14:09:45.227Z"
   },
   {
    "duration": 19,
    "start_time": "2022-10-19T14:09:45.248Z"
   },
   {
    "duration": 8,
    "start_time": "2022-10-19T14:09:45.269Z"
   },
   {
    "duration": 7,
    "start_time": "2022-10-19T14:09:45.279Z"
   },
   {
    "duration": 4,
    "start_time": "2022-10-19T14:11:07.276Z"
   },
   {
    "duration": 129,
    "start_time": "2022-10-19T14:11:11.108Z"
   },
   {
    "duration": 17,
    "start_time": "2022-10-19T14:12:36.931Z"
   },
   {
    "duration": 14,
    "start_time": "2022-10-19T14:15:39.847Z"
   },
   {
    "duration": 8,
    "start_time": "2022-10-19T14:16:49.449Z"
   },
   {
    "duration": 30,
    "start_time": "2022-10-19T14:17:15.569Z"
   },
   {
    "duration": 40,
    "start_time": "2022-10-19T14:17:34.106Z"
   },
   {
    "duration": 1460,
    "start_time": "2022-10-19T14:17:39.017Z"
   },
   {
    "duration": 3,
    "start_time": "2022-10-19T14:17:40.479Z"
   },
   {
    "duration": 726,
    "start_time": "2022-10-19T14:17:40.484Z"
   },
   {
    "duration": 4,
    "start_time": "2022-10-19T14:17:41.212Z"
   },
   {
    "duration": 294,
    "start_time": "2022-10-19T14:17:41.221Z"
   },
   {
    "duration": 213,
    "start_time": "2022-10-19T14:17:41.516Z"
   },
   {
    "duration": 323,
    "start_time": "2022-10-19T14:17:41.731Z"
   },
   {
    "duration": 3,
    "start_time": "2022-10-19T14:17:42.056Z"
   },
   {
    "duration": 38,
    "start_time": "2022-10-19T14:17:42.061Z"
   },
   {
    "duration": 36,
    "start_time": "2022-10-19T14:17:42.101Z"
   },
   {
    "duration": 15,
    "start_time": "2022-10-19T14:17:42.140Z"
   },
   {
    "duration": 24,
    "start_time": "2022-10-19T14:17:42.157Z"
   },
   {
    "duration": 11,
    "start_time": "2022-10-19T14:17:42.184Z"
   },
   {
    "duration": 51,
    "start_time": "2022-10-19T14:17:42.198Z"
   },
   {
    "duration": 28,
    "start_time": "2022-10-19T14:17:42.251Z"
   },
   {
    "duration": 25,
    "start_time": "2022-10-19T14:17:42.281Z"
   },
   {
    "duration": 34,
    "start_time": "2022-10-19T14:17:42.308Z"
   },
   {
    "duration": 58,
    "start_time": "2022-10-19T14:17:42.344Z"
   },
   {
    "duration": 14,
    "start_time": "2022-10-19T14:17:42.403Z"
   },
   {
    "duration": 1419,
    "start_time": "2022-10-19T14:18:23.486Z"
   },
   {
    "duration": 3,
    "start_time": "2022-10-19T14:18:26.024Z"
   },
   {
    "duration": 680,
    "start_time": "2022-10-19T14:18:26.672Z"
   },
   {
    "duration": 4,
    "start_time": "2022-10-19T14:18:28.337Z"
   },
   {
    "duration": 281,
    "start_time": "2022-10-19T14:18:29.458Z"
   },
   {
    "duration": 24,
    "start_time": "2022-10-19T14:18:48.570Z"
   },
   {
    "duration": 1499,
    "start_time": "2022-10-19T14:22:55.303Z"
   },
   {
    "duration": 4,
    "start_time": "2022-10-19T14:22:56.804Z"
   },
   {
    "duration": 730,
    "start_time": "2022-10-19T14:22:56.810Z"
   },
   {
    "duration": 5,
    "start_time": "2022-10-19T14:22:57.542Z"
   },
   {
    "duration": 333,
    "start_time": "2022-10-19T14:22:57.549Z"
   },
   {
    "duration": 208,
    "start_time": "2022-10-19T14:22:57.884Z"
   },
   {
    "duration": 345,
    "start_time": "2022-10-19T14:22:58.094Z"
   },
   {
    "duration": 3,
    "start_time": "2022-10-19T14:22:58.441Z"
   },
   {
    "duration": 25,
    "start_time": "2022-10-19T14:22:58.447Z"
   },
   {
    "duration": 35,
    "start_time": "2022-10-19T14:22:58.475Z"
   },
   {
    "duration": 15,
    "start_time": "2022-10-19T14:22:58.512Z"
   },
   {
    "duration": 32,
    "start_time": "2022-10-19T14:22:58.529Z"
   },
   {
    "duration": 45,
    "start_time": "2022-10-19T14:22:58.563Z"
   },
   {
    "duration": 17,
    "start_time": "2022-10-19T14:22:58.610Z"
   },
   {
    "duration": 20,
    "start_time": "2022-10-19T14:22:58.629Z"
   },
   {
    "duration": 18,
    "start_time": "2022-10-19T14:22:58.651Z"
   },
   {
    "duration": 8,
    "start_time": "2022-10-19T14:22:58.671Z"
   },
   {
    "duration": 38,
    "start_time": "2022-10-19T14:22:58.681Z"
   },
   {
    "duration": 3,
    "start_time": "2022-10-19T14:22:58.721Z"
   },
   {
    "duration": 32,
    "start_time": "2022-10-19T14:23:59.852Z"
   },
   {
    "duration": 4,
    "start_time": "2022-10-19T14:27:26.642Z"
   },
   {
    "duration": 110,
    "start_time": "2022-10-19T14:27:33.642Z"
   },
   {
    "duration": 5,
    "start_time": "2022-10-19T14:27:40.593Z"
   },
   {
    "duration": 12,
    "start_time": "2022-10-19T14:28:25.300Z"
   },
   {
    "duration": 1497,
    "start_time": "2022-10-19T15:34:18.105Z"
   },
   {
    "duration": 3,
    "start_time": "2022-10-19T15:34:19.604Z"
   },
   {
    "duration": 721,
    "start_time": "2022-10-19T15:34:19.610Z"
   },
   {
    "duration": 4,
    "start_time": "2022-10-19T15:34:20.332Z"
   },
   {
    "duration": 313,
    "start_time": "2022-10-19T15:34:20.339Z"
   },
   {
    "duration": 180,
    "start_time": "2022-10-19T15:34:20.653Z"
   },
   {
    "duration": 320,
    "start_time": "2022-10-19T15:34:20.835Z"
   },
   {
    "duration": 3,
    "start_time": "2022-10-19T15:34:21.157Z"
   },
   {
    "duration": 13,
    "start_time": "2022-10-19T15:34:21.162Z"
   },
   {
    "duration": 33,
    "start_time": "2022-10-19T15:34:21.177Z"
   },
   {
    "duration": 3,
    "start_time": "2022-10-19T15:34:21.212Z"
   },
   {
    "duration": 30,
    "start_time": "2022-10-19T15:34:21.219Z"
   },
   {
    "duration": 22,
    "start_time": "2022-10-19T15:34:21.251Z"
   },
   {
    "duration": 18,
    "start_time": "2022-10-19T15:34:21.276Z"
   },
   {
    "duration": 8,
    "start_time": "2022-10-19T15:34:21.296Z"
   },
   {
    "duration": 20,
    "start_time": "2022-10-19T15:34:21.306Z"
   },
   {
    "duration": 7,
    "start_time": "2022-10-19T15:34:21.327Z"
   },
   {
    "duration": 33,
    "start_time": "2022-10-19T15:34:21.336Z"
   },
   {
    "duration": 2,
    "start_time": "2022-10-19T15:39:09.542Z"
   },
   {
    "duration": 110,
    "start_time": "2022-10-19T15:45:31.703Z"
   },
   {
    "duration": 4945,
    "start_time": "2022-10-19T15:45:41.942Z"
   },
   {
    "duration": 4997,
    "start_time": "2022-10-19T15:48:34.404Z"
   },
   {
    "duration": 14,
    "start_time": "2022-10-19T15:49:35.037Z"
   },
   {
    "duration": 220,
    "start_time": "2022-10-19T15:49:44.765Z"
   },
   {
    "duration": 223,
    "start_time": "2022-10-19T15:50:35.927Z"
   },
   {
    "duration": 1135,
    "start_time": "2022-10-19T15:51:43.352Z"
   },
   {
    "duration": 17,
    "start_time": "2022-10-19T18:35:32.834Z"
   },
   {
    "duration": 4,
    "start_time": "2022-10-19T18:35:53.091Z"
   },
   {
    "duration": 8,
    "start_time": "2022-10-19T18:36:04.371Z"
   },
   {
    "duration": 882,
    "start_time": "2022-10-19T18:36:37.732Z"
   },
   {
    "duration": 809,
    "start_time": "2022-10-19T18:37:22.469Z"
   },
   {
    "duration": 862,
    "start_time": "2022-10-19T18:39:57.662Z"
   },
   {
    "duration": 231,
    "start_time": "2022-10-19T18:40:10.224Z"
   },
   {
    "duration": 11,
    "start_time": "2022-10-19T19:06:58.691Z"
   },
   {
    "duration": 36,
    "start_time": "2022-10-19T19:07:11.044Z"
   },
   {
    "duration": 40,
    "start_time": "2022-10-19T19:07:21.830Z"
   },
   {
    "duration": 16,
    "start_time": "2022-10-19T19:27:24.886Z"
   },
   {
    "duration": 25,
    "start_time": "2022-10-19T19:27:30.274Z"
   },
   {
    "duration": 19,
    "start_time": "2022-10-19T20:06:51.307Z"
   },
   {
    "duration": 43,
    "start_time": "2022-10-19T20:06:55.223Z"
   },
   {
    "duration": 36,
    "start_time": "2022-10-19T20:07:54.647Z"
   },
   {
    "duration": 33,
    "start_time": "2022-10-19T20:08:23.416Z"
   },
   {
    "duration": 33,
    "start_time": "2022-10-19T20:08:39.503Z"
   },
   {
    "duration": 22,
    "start_time": "2022-10-19T20:10:55.427Z"
   },
   {
    "duration": 159,
    "start_time": "2022-10-19T20:11:24.842Z"
   },
   {
    "duration": 955,
    "start_time": "2022-10-19T20:12:10.156Z"
   },
   {
    "duration": 1061,
    "start_time": "2022-10-19T20:12:40.227Z"
   },
   {
    "duration": 45,
    "start_time": "2022-10-19T20:13:48.335Z"
   },
   {
    "duration": 243,
    "start_time": "2022-10-19T20:13:56.856Z"
   },
   {
    "duration": 1640,
    "start_time": "2022-10-19T20:14:21.181Z"
   },
   {
    "duration": 1368,
    "start_time": "2022-10-19T20:14:45.709Z"
   },
   {
    "duration": 3,
    "start_time": "2022-10-19T20:14:47.079Z"
   },
   {
    "duration": 682,
    "start_time": "2022-10-19T20:14:47.084Z"
   },
   {
    "duration": 4,
    "start_time": "2022-10-19T20:14:47.768Z"
   },
   {
    "duration": 313,
    "start_time": "2022-10-19T20:14:47.774Z"
   },
   {
    "duration": 183,
    "start_time": "2022-10-19T20:14:48.089Z"
   },
   {
    "duration": 320,
    "start_time": "2022-10-19T20:14:48.274Z"
   },
   {
    "duration": 3,
    "start_time": "2022-10-19T20:14:48.596Z"
   },
   {
    "duration": 21,
    "start_time": "2022-10-19T20:14:48.602Z"
   },
   {
    "duration": 23,
    "start_time": "2022-10-19T20:14:48.625Z"
   },
   {
    "duration": 4,
    "start_time": "2022-10-19T20:14:48.650Z"
   },
   {
    "duration": 13,
    "start_time": "2022-10-19T20:14:48.656Z"
   },
   {
    "duration": 28,
    "start_time": "2022-10-19T20:14:48.671Z"
   },
   {
    "duration": 27,
    "start_time": "2022-10-19T20:14:48.702Z"
   },
   {
    "duration": 18,
    "start_time": "2022-10-19T20:14:48.731Z"
   },
   {
    "duration": 22,
    "start_time": "2022-10-19T20:14:48.751Z"
   },
   {
    "duration": 9,
    "start_time": "2022-10-19T20:14:48.775Z"
   },
   {
    "duration": 39,
    "start_time": "2022-10-19T20:14:48.786Z"
   },
   {
    "duration": 3,
    "start_time": "2022-10-19T20:14:48.827Z"
   },
   {
    "duration": 5229,
    "start_time": "2022-10-19T20:14:48.832Z"
   },
   {
    "duration": 233,
    "start_time": "2022-10-19T20:14:54.063Z"
   },
   {
    "duration": 1212,
    "start_time": "2022-10-19T20:14:54.298Z"
   },
   {
    "duration": 34,
    "start_time": "2022-10-19T20:14:55.513Z"
   },
   {
    "duration": 1716,
    "start_time": "2022-10-19T20:14:55.549Z"
   },
   {
    "duration": 1705,
    "start_time": "2022-10-20T09:02:43.239Z"
   },
   {
    "duration": 3,
    "start_time": "2022-10-20T09:02:44.946Z"
   },
   {
    "duration": 3628,
    "start_time": "2022-10-20T09:02:44.951Z"
   },
   {
    "duration": 4,
    "start_time": "2022-10-20T09:02:48.581Z"
   },
   {
    "duration": 293,
    "start_time": "2022-10-20T09:02:48.587Z"
   },
   {
    "duration": 161,
    "start_time": "2022-10-20T09:02:48.882Z"
   },
   {
    "duration": 321,
    "start_time": "2022-10-20T09:02:49.045Z"
   },
   {
    "duration": 2,
    "start_time": "2022-10-20T09:02:49.368Z"
   },
   {
    "duration": 18,
    "start_time": "2022-10-20T09:02:49.372Z"
   },
   {
    "duration": 27,
    "start_time": "2022-10-20T09:02:49.392Z"
   },
   {
    "duration": 2,
    "start_time": "2022-10-20T09:02:49.421Z"
   },
   {
    "duration": 18,
    "start_time": "2022-10-20T09:02:49.425Z"
   },
   {
    "duration": 13,
    "start_time": "2022-10-20T09:02:49.444Z"
   },
   {
    "duration": 3,
    "start_time": "2022-10-20T09:02:49.459Z"
   },
   {
    "duration": 4,
    "start_time": "2022-10-20T09:02:49.463Z"
   },
   {
    "duration": 10,
    "start_time": "2022-10-20T09:02:49.469Z"
   },
   {
    "duration": 7,
    "start_time": "2022-10-20T09:02:49.481Z"
   },
   {
    "duration": 41,
    "start_time": "2022-10-20T09:02:49.490Z"
   },
   {
    "duration": 2,
    "start_time": "2022-10-20T09:02:49.533Z"
   },
   {
    "duration": 4892,
    "start_time": "2022-10-20T09:02:49.537Z"
   },
   {
    "duration": 238,
    "start_time": "2022-10-20T09:02:54.431Z"
   },
   {
    "duration": 1116,
    "start_time": "2022-10-20T09:02:54.671Z"
   },
   {
    "duration": 30,
    "start_time": "2022-10-20T09:02:55.789Z"
   },
   {
    "duration": 1677,
    "start_time": "2022-10-20T09:02:55.830Z"
   },
   {
    "duration": 6,
    "start_time": "2022-10-20T09:19:17.632Z"
   },
   {
    "duration": 1531,
    "start_time": "2022-10-20T09:23:03.115Z"
   },
   {
    "duration": 8,
    "start_time": "2022-10-20T09:43:38.263Z"
   },
   {
    "duration": 1659,
    "start_time": "2022-10-20T09:43:41.189Z"
   },
   {
    "duration": 5,
    "start_time": "2022-10-20T09:45:35.929Z"
   },
   {
    "duration": 1761,
    "start_time": "2022-10-20T09:45:37.536Z"
   },
   {
    "duration": 1568,
    "start_time": "2022-10-20T09:47:33.418Z"
   },
   {
    "duration": 2,
    "start_time": "2022-10-20T11:02:30.776Z"
   },
   {
    "duration": 4,
    "start_time": "2022-10-20T11:06:36.352Z"
   },
   {
    "duration": 240,
    "start_time": "2022-10-20T11:27:02.976Z"
   },
   {
    "duration": 1587,
    "start_time": "2022-10-20T11:27:16.787Z"
   },
   {
    "duration": 3,
    "start_time": "2022-10-20T11:27:26.954Z"
   },
   {
    "duration": 4,
    "start_time": "2022-10-20T11:41:17.060Z"
   },
   {
    "duration": 4,
    "start_time": "2022-10-20T11:41:24.604Z"
   },
   {
    "duration": 4,
    "start_time": "2022-10-20T11:41:43.021Z"
   },
   {
    "duration": 24,
    "start_time": "2022-10-20T11:55:30.477Z"
   },
   {
    "duration": 19,
    "start_time": "2022-10-20T11:55:40.111Z"
   },
   {
    "duration": 1273,
    "start_time": "2022-10-20T11:55:49.881Z"
   },
   {
    "duration": 3,
    "start_time": "2022-10-20T11:55:51.156Z"
   },
   {
    "duration": 673,
    "start_time": "2022-10-20T11:55:51.161Z"
   },
   {
    "duration": 3,
    "start_time": "2022-10-20T11:55:51.837Z"
   },
   {
    "duration": 292,
    "start_time": "2022-10-20T11:55:51.841Z"
   },
   {
    "duration": 170,
    "start_time": "2022-10-20T11:55:52.135Z"
   },
   {
    "duration": 308,
    "start_time": "2022-10-20T11:55:52.307Z"
   },
   {
    "duration": 2,
    "start_time": "2022-10-20T11:55:52.617Z"
   },
   {
    "duration": 3,
    "start_time": "2022-10-20T11:55:52.629Z"
   },
   {
    "duration": 16,
    "start_time": "2022-10-20T11:55:52.634Z"
   },
   {
    "duration": 2,
    "start_time": "2022-10-20T11:55:52.651Z"
   },
   {
    "duration": 8,
    "start_time": "2022-10-20T11:55:52.655Z"
   },
   {
    "duration": 7,
    "start_time": "2022-10-20T11:55:52.665Z"
   },
   {
    "duration": 6,
    "start_time": "2022-10-20T11:55:52.673Z"
   },
   {
    "duration": 7,
    "start_time": "2022-10-20T11:55:52.680Z"
   },
   {
    "duration": 12,
    "start_time": "2022-10-20T11:55:52.688Z"
   },
   {
    "duration": 7,
    "start_time": "2022-10-20T11:55:52.729Z"
   },
   {
    "duration": 31,
    "start_time": "2022-10-20T11:55:52.737Z"
   },
   {
    "duration": 3,
    "start_time": "2022-10-20T11:55:52.770Z"
   },
   {
    "duration": 4757,
    "start_time": "2022-10-20T11:55:52.774Z"
   },
   {
    "duration": 239,
    "start_time": "2022-10-20T11:55:57.532Z"
   },
   {
    "duration": 1179,
    "start_time": "2022-10-20T11:55:57.773Z"
   },
   {
    "duration": 29,
    "start_time": "2022-10-20T11:55:58.954Z"
   },
   {
    "duration": 1657,
    "start_time": "2022-10-20T11:55:58.985Z"
   },
   {
    "duration": 2,
    "start_time": "2022-10-20T11:56:00.644Z"
   },
   {
    "duration": 40,
    "start_time": "2022-10-20T11:56:00.648Z"
   },
   {
    "duration": 2,
    "start_time": "2022-10-20T11:59:27.195Z"
   },
   {
    "duration": 6,
    "start_time": "2022-10-20T12:16:24.200Z"
   },
   {
    "duration": 3,
    "start_time": "2022-10-20T12:25:13.476Z"
   },
   {
    "duration": 3,
    "start_time": "2022-10-20T13:45:57.338Z"
   },
   {
    "duration": 3,
    "start_time": "2022-10-20T13:45:58.706Z"
   },
   {
    "duration": 3,
    "start_time": "2022-10-20T13:46:00.515Z"
   },
   {
    "duration": 2,
    "start_time": "2022-10-20T13:46:59.453Z"
   },
   {
    "duration": 2,
    "start_time": "2022-10-20T13:47:23.869Z"
   },
   {
    "duration": 3,
    "start_time": "2022-10-20T13:49:06.942Z"
   },
   {
    "duration": 113,
    "start_time": "2022-10-20T13:50:53.561Z"
   },
   {
    "duration": 9,
    "start_time": "2022-10-20T13:51:09.555Z"
   },
   {
    "duration": 3,
    "start_time": "2022-10-20T13:51:25.642Z"
   },
   {
    "duration": 111,
    "start_time": "2022-10-20T13:52:10.643Z"
   },
   {
    "duration": 22,
    "start_time": "2022-10-20T13:52:40.003Z"
   },
   {
    "duration": 26,
    "start_time": "2022-10-20T13:52:53.394Z"
   },
   {
    "duration": 67,
    "start_time": "2022-10-20T13:53:15.465Z"
   },
   {
    "duration": 10,
    "start_time": "2022-10-20T13:54:26.855Z"
   },
   {
    "duration": 270,
    "start_time": "2022-10-20T13:54:44.132Z"
   },
   {
    "duration": 1537,
    "start_time": "2022-10-20T16:56:26.003Z"
   },
   {
    "duration": 3,
    "start_time": "2022-10-20T16:56:27.541Z"
   },
   {
    "duration": 3936,
    "start_time": "2022-10-20T16:56:27.545Z"
   },
   {
    "duration": 4,
    "start_time": "2022-10-20T16:56:31.483Z"
   },
   {
    "duration": 290,
    "start_time": "2022-10-20T16:56:31.489Z"
   },
   {
    "duration": 183,
    "start_time": "2022-10-20T16:56:31.781Z"
   },
   {
    "duration": 312,
    "start_time": "2022-10-20T16:56:31.966Z"
   },
   {
    "duration": 3,
    "start_time": "2022-10-20T16:56:32.280Z"
   },
   {
    "duration": 20,
    "start_time": "2022-10-20T16:56:32.285Z"
   },
   {
    "duration": 90,
    "start_time": "2022-10-20T16:56:32.308Z"
   },
   {
    "duration": 39,
    "start_time": "2022-10-20T16:56:32.399Z"
   },
   {
    "duration": 18,
    "start_time": "2022-10-20T16:56:32.439Z"
   },
   {
    "duration": 36,
    "start_time": "2022-10-20T16:56:32.458Z"
   },
   {
    "duration": 45,
    "start_time": "2022-10-20T16:56:32.495Z"
   },
   {
    "duration": 22,
    "start_time": "2022-10-20T16:56:32.542Z"
   },
   {
    "duration": 31,
    "start_time": "2022-10-20T16:56:32.566Z"
   },
   {
    "duration": 28,
    "start_time": "2022-10-20T16:56:32.598Z"
   },
   {
    "duration": 70,
    "start_time": "2022-10-20T16:56:32.627Z"
   },
   {
    "duration": 10,
    "start_time": "2022-10-20T16:56:32.699Z"
   },
   {
    "duration": 5061,
    "start_time": "2022-10-20T16:56:32.711Z"
   },
   {
    "duration": 243,
    "start_time": "2022-10-20T16:56:37.773Z"
   },
   {
    "duration": 1089,
    "start_time": "2022-10-20T16:56:38.018Z"
   },
   {
    "duration": 32,
    "start_time": "2022-10-20T16:56:39.108Z"
   },
   {
    "duration": 1872,
    "start_time": "2022-10-20T16:56:39.141Z"
   },
   {
    "duration": 9,
    "start_time": "2022-10-20T16:56:41.015Z"
   },
   {
    "duration": 33,
    "start_time": "2022-10-20T16:56:41.029Z"
   },
   {
    "duration": 3,
    "start_time": "2022-10-20T16:56:41.064Z"
   },
   {
    "duration": 9,
    "start_time": "2022-10-20T16:56:41.070Z"
   },
   {
    "duration": 7,
    "start_time": "2022-10-20T16:56:41.081Z"
   },
   {
    "duration": 12,
    "start_time": "2022-10-20T16:56:41.090Z"
   },
   {
    "duration": 13,
    "start_time": "2022-10-20T16:56:41.104Z"
   },
   {
    "duration": 22,
    "start_time": "2022-10-20T16:56:41.119Z"
   },
   {
    "duration": 6,
    "start_time": "2022-10-20T16:56:41.143Z"
   },
   {
    "duration": 5,
    "start_time": "2022-10-20T16:56:41.151Z"
   },
   {
    "duration": 10,
    "start_time": "2022-10-20T16:56:41.158Z"
   },
   {
    "duration": 41,
    "start_time": "2022-10-20T16:56:41.169Z"
   },
   {
    "duration": 362,
    "start_time": "2022-10-20T16:56:41.211Z"
   },
   {
    "duration": 0,
    "start_time": "2022-10-20T16:56:41.575Z"
   },
   {
    "duration": 241,
    "start_time": "2022-10-20T16:57:18.004Z"
   },
   {
    "duration": 18,
    "start_time": "2022-10-20T16:58:35.339Z"
   },
   {
    "duration": 16,
    "start_time": "2022-10-20T17:07:01.421Z"
   },
   {
    "duration": 172,
    "start_time": "2022-10-20T17:07:03.480Z"
   },
   {
    "duration": 18,
    "start_time": "2022-10-20T17:07:15.633Z"
   },
   {
    "duration": 1394,
    "start_time": "2022-10-20T17:08:03.371Z"
   },
   {
    "duration": 3,
    "start_time": "2022-10-20T17:08:04.767Z"
   },
   {
    "duration": 840,
    "start_time": "2022-10-20T17:08:04.772Z"
   },
   {
    "duration": 7,
    "start_time": "2022-10-20T17:08:05.614Z"
   },
   {
    "duration": 382,
    "start_time": "2022-10-20T17:08:05.623Z"
   },
   {
    "duration": 193,
    "start_time": "2022-10-20T17:08:06.007Z"
   },
   {
    "duration": 373,
    "start_time": "2022-10-20T17:08:06.202Z"
   },
   {
    "duration": 3,
    "start_time": "2022-10-20T17:08:06.576Z"
   },
   {
    "duration": 31,
    "start_time": "2022-10-20T17:08:06.581Z"
   },
   {
    "duration": 51,
    "start_time": "2022-10-20T17:08:06.622Z"
   },
   {
    "duration": 15,
    "start_time": "2022-10-20T17:08:06.675Z"
   },
   {
    "duration": 56,
    "start_time": "2022-10-20T17:08:06.692Z"
   },
   {
    "duration": 20,
    "start_time": "2022-10-20T17:08:06.750Z"
   },
   {
    "duration": 27,
    "start_time": "2022-10-20T17:08:06.773Z"
   },
   {
    "duration": 43,
    "start_time": "2022-10-20T17:08:06.802Z"
   },
   {
    "duration": 81,
    "start_time": "2022-10-20T17:08:06.847Z"
   },
   {
    "duration": 66,
    "start_time": "2022-10-20T17:08:06.930Z"
   },
   {
    "duration": 63,
    "start_time": "2022-10-20T17:08:06.998Z"
   },
   {
    "duration": 18,
    "start_time": "2022-10-20T17:08:07.063Z"
   },
   {
    "duration": 5220,
    "start_time": "2022-10-20T17:08:07.083Z"
   },
   {
    "duration": 241,
    "start_time": "2022-10-20T17:08:12.305Z"
   },
   {
    "duration": 1209,
    "start_time": "2022-10-20T17:08:12.548Z"
   },
   {
    "duration": 27,
    "start_time": "2022-10-20T17:08:13.758Z"
   },
   {
    "duration": 1673,
    "start_time": "2022-10-20T17:08:13.786Z"
   },
   {
    "duration": 3,
    "start_time": "2022-10-20T17:08:15.461Z"
   },
   {
    "duration": 34,
    "start_time": "2022-10-20T17:08:15.466Z"
   },
   {
    "duration": 3,
    "start_time": "2022-10-20T17:08:15.502Z"
   },
   {
    "duration": 31,
    "start_time": "2022-10-20T17:08:15.523Z"
   },
   {
    "duration": 10,
    "start_time": "2022-10-20T17:08:15.556Z"
   },
   {
    "duration": 6,
    "start_time": "2022-10-20T17:08:15.568Z"
   },
   {
    "duration": 9,
    "start_time": "2022-10-20T17:08:15.576Z"
   },
   {
    "duration": 12,
    "start_time": "2022-10-20T17:08:15.587Z"
   },
   {
    "duration": 17,
    "start_time": "2022-10-20T17:08:15.601Z"
   },
   {
    "duration": 26,
    "start_time": "2022-10-20T17:08:15.620Z"
   },
   {
    "duration": 14,
    "start_time": "2022-10-20T17:08:15.648Z"
   },
   {
    "duration": 233,
    "start_time": "2022-10-20T17:08:15.663Z"
   },
   {
    "duration": 7,
    "start_time": "2022-10-20T17:12:10.093Z"
   },
   {
    "duration": 7,
    "start_time": "2022-10-20T17:12:21.989Z"
   },
   {
    "duration": 9,
    "start_time": "2022-10-20T17:19:48.048Z"
   },
   {
    "duration": 9,
    "start_time": "2022-10-20T17:20:42.711Z"
   },
   {
    "duration": 1410,
    "start_time": "2022-10-20T17:20:47.350Z"
   },
   {
    "duration": 2,
    "start_time": "2022-10-20T17:20:48.762Z"
   },
   {
    "duration": 720,
    "start_time": "2022-10-20T17:20:48.766Z"
   },
   {
    "duration": 3,
    "start_time": "2022-10-20T17:20:49.488Z"
   },
   {
    "duration": 276,
    "start_time": "2022-10-20T17:20:49.493Z"
   },
   {
    "duration": 161,
    "start_time": "2022-10-20T17:20:49.770Z"
   },
   {
    "duration": 283,
    "start_time": "2022-10-20T17:20:49.933Z"
   },
   {
    "duration": 9,
    "start_time": "2022-10-20T17:20:50.218Z"
   },
   {
    "duration": 28,
    "start_time": "2022-10-20T17:20:50.229Z"
   },
   {
    "duration": 16,
    "start_time": "2022-10-20T17:20:50.259Z"
   },
   {
    "duration": 2,
    "start_time": "2022-10-20T17:20:50.276Z"
   },
   {
    "duration": 9,
    "start_time": "2022-10-20T17:20:50.280Z"
   },
   {
    "duration": 7,
    "start_time": "2022-10-20T17:20:50.290Z"
   },
   {
    "duration": 4,
    "start_time": "2022-10-20T17:20:50.299Z"
   },
   {
    "duration": 8,
    "start_time": "2022-10-20T17:20:50.305Z"
   },
   {
    "duration": 12,
    "start_time": "2022-10-20T17:20:50.314Z"
   },
   {
    "duration": 29,
    "start_time": "2022-10-20T17:20:50.327Z"
   },
   {
    "duration": 27,
    "start_time": "2022-10-20T17:20:50.357Z"
   },
   {
    "duration": 17,
    "start_time": "2022-10-20T17:20:50.386Z"
   },
   {
    "duration": 12,
    "start_time": "2022-10-20T17:20:50.405Z"
   },
   {
    "duration": 5,
    "start_time": "2022-10-20T17:20:50.418Z"
   },
   {
    "duration": 4883,
    "start_time": "2022-10-20T17:20:50.425Z"
   },
   {
    "duration": 273,
    "start_time": "2022-10-20T17:20:55.310Z"
   },
   {
    "duration": 1185,
    "start_time": "2022-10-20T17:20:55.585Z"
   },
   {
    "duration": 30,
    "start_time": "2022-10-20T17:20:56.771Z"
   },
   {
    "duration": 1624,
    "start_time": "2022-10-20T17:20:56.803Z"
   },
   {
    "duration": 3,
    "start_time": "2022-10-20T17:20:58.429Z"
   },
   {
    "duration": 35,
    "start_time": "2022-10-20T17:20:58.433Z"
   },
   {
    "duration": 3,
    "start_time": "2022-10-20T17:20:58.469Z"
   },
   {
    "duration": 11,
    "start_time": "2022-10-20T17:20:58.473Z"
   },
   {
    "duration": 5,
    "start_time": "2022-10-20T17:20:58.485Z"
   },
   {
    "duration": 6,
    "start_time": "2022-10-20T17:20:58.492Z"
   },
   {
    "duration": 9,
    "start_time": "2022-10-20T17:20:58.499Z"
   },
   {
    "duration": 8,
    "start_time": "2022-10-20T17:20:58.509Z"
   },
   {
    "duration": 31,
    "start_time": "2022-10-20T17:20:58.518Z"
   },
   {
    "duration": 4,
    "start_time": "2022-10-20T17:20:58.551Z"
   },
   {
    "duration": 10,
    "start_time": "2022-10-20T17:20:58.557Z"
   },
   {
    "duration": 42,
    "start_time": "2022-10-20T17:20:58.568Z"
   },
   {
    "duration": 12186,
    "start_time": "2022-10-20T17:23:27.355Z"
   },
   {
    "duration": 3,
    "start_time": "2022-10-20T17:23:49.676Z"
   },
   {
    "duration": 12155,
    "start_time": "2022-10-20T17:23:52.316Z"
   },
   {
    "duration": 1348,
    "start_time": "2022-10-20T17:24:45.670Z"
   },
   {
    "duration": 14,
    "start_time": "2022-10-20T17:24:47.020Z"
   },
   {
    "duration": 740,
    "start_time": "2022-10-20T17:24:47.039Z"
   },
   {
    "duration": 5,
    "start_time": "2022-10-20T17:24:47.780Z"
   },
   {
    "duration": 294,
    "start_time": "2022-10-20T17:24:47.788Z"
   },
   {
    "duration": 157,
    "start_time": "2022-10-20T17:24:48.084Z"
   },
   {
    "duration": 305,
    "start_time": "2022-10-20T17:24:48.243Z"
   },
   {
    "duration": 4,
    "start_time": "2022-10-20T17:24:48.549Z"
   },
   {
    "duration": 17,
    "start_time": "2022-10-20T17:24:48.555Z"
   },
   {
    "duration": 39,
    "start_time": "2022-10-20T17:24:48.573Z"
   },
   {
    "duration": 4,
    "start_time": "2022-10-20T17:24:48.613Z"
   },
   {
    "duration": 33,
    "start_time": "2022-10-20T17:24:48.618Z"
   },
   {
    "duration": 17,
    "start_time": "2022-10-20T17:24:48.652Z"
   },
   {
    "duration": 33,
    "start_time": "2022-10-20T17:24:48.672Z"
   },
   {
    "duration": 22,
    "start_time": "2022-10-20T17:24:48.707Z"
   },
   {
    "duration": 41,
    "start_time": "2022-10-20T17:24:48.730Z"
   },
   {
    "duration": 10,
    "start_time": "2022-10-20T17:24:48.773Z"
   },
   {
    "duration": 30,
    "start_time": "2022-10-20T17:24:48.785Z"
   },
   {
    "duration": 39,
    "start_time": "2022-10-20T17:24:48.816Z"
   },
   {
    "duration": 16,
    "start_time": "2022-10-20T17:24:48.857Z"
   },
   {
    "duration": 10,
    "start_time": "2022-10-20T17:24:48.875Z"
   },
   {
    "duration": 4553,
    "start_time": "2022-10-20T17:24:48.886Z"
   },
   {
    "duration": 230,
    "start_time": "2022-10-20T17:24:53.440Z"
   },
   {
    "duration": 1059,
    "start_time": "2022-10-20T17:24:53.672Z"
   },
   {
    "duration": 27,
    "start_time": "2022-10-20T17:24:54.734Z"
   },
   {
    "duration": 1675,
    "start_time": "2022-10-20T17:24:54.763Z"
   },
   {
    "duration": 2,
    "start_time": "2022-10-20T17:24:56.443Z"
   },
   {
    "duration": 22,
    "start_time": "2022-10-20T17:24:56.447Z"
   },
   {
    "duration": 2,
    "start_time": "2022-10-20T17:24:56.471Z"
   },
   {
    "duration": 11,
    "start_time": "2022-10-20T17:24:56.475Z"
   },
   {
    "duration": 6,
    "start_time": "2022-10-20T17:24:56.488Z"
   },
   {
    "duration": 6,
    "start_time": "2022-10-20T17:24:56.496Z"
   },
   {
    "duration": 8,
    "start_time": "2022-10-20T17:24:56.504Z"
   },
   {
    "duration": 3,
    "start_time": "2022-10-20T17:24:56.523Z"
   },
   {
    "duration": 16,
    "start_time": "2022-10-20T17:24:56.533Z"
   },
   {
    "duration": 6,
    "start_time": "2022-10-20T17:24:56.551Z"
   },
   {
    "duration": 10,
    "start_time": "2022-10-20T17:24:56.558Z"
   },
   {
    "duration": 47,
    "start_time": "2022-10-20T17:24:56.569Z"
   },
   {
    "duration": 11974,
    "start_time": "2022-10-20T17:24:56.618Z"
   },
   {
    "duration": 903,
    "start_time": "2022-10-20T17:26:33.747Z"
   },
   {
    "duration": 813,
    "start_time": "2022-10-20T17:26:42.365Z"
   },
   {
    "duration": 971,
    "start_time": "2022-10-20T17:27:10.901Z"
   },
   {
    "duration": 962,
    "start_time": "2022-10-20T17:27:30.094Z"
   },
   {
    "duration": 846,
    "start_time": "2022-10-20T17:27:44.198Z"
   },
   {
    "duration": 946,
    "start_time": "2022-10-20T17:27:59.694Z"
   },
   {
    "duration": 969,
    "start_time": "2022-10-20T17:28:29.287Z"
   },
   {
    "duration": 3,
    "start_time": "2022-10-20T17:28:55.871Z"
   },
   {
    "duration": 927,
    "start_time": "2022-10-20T17:29:00.992Z"
   },
   {
    "duration": 12565,
    "start_time": "2022-10-20T17:29:12.520Z"
   },
   {
    "duration": 19103,
    "start_time": "2022-10-20T17:29:59.441Z"
   },
   {
    "duration": 1540,
    "start_time": "2022-10-20T17:32:02.703Z"
   },
   {
    "duration": 2382,
    "start_time": "2022-10-20T17:33:39.941Z"
   },
   {
    "duration": 1570,
    "start_time": "2022-10-20T17:33:44.798Z"
   },
   {
    "duration": 1592,
    "start_time": "2022-10-20T17:34:02.710Z"
   },
   {
    "duration": 1545,
    "start_time": "2022-10-20T17:35:12.255Z"
   },
   {
    "duration": 1525,
    "start_time": "2022-10-20T17:35:39.837Z"
   },
   {
    "duration": 1525,
    "start_time": "2022-10-20T17:36:06.863Z"
   },
   {
    "duration": 1282,
    "start_time": "2022-10-20T17:36:17.065Z"
   },
   {
    "duration": 3,
    "start_time": "2022-10-20T17:36:18.348Z"
   },
   {
    "duration": 705,
    "start_time": "2022-10-20T17:36:18.352Z"
   },
   {
    "duration": 4,
    "start_time": "2022-10-20T17:36:19.058Z"
   },
   {
    "duration": 297,
    "start_time": "2022-10-20T17:36:19.064Z"
   },
   {
    "duration": 183,
    "start_time": "2022-10-20T17:36:19.363Z"
   },
   {
    "duration": 315,
    "start_time": "2022-10-20T17:36:19.547Z"
   },
   {
    "duration": 2,
    "start_time": "2022-10-20T17:36:19.864Z"
   },
   {
    "duration": 8,
    "start_time": "2022-10-20T17:36:19.868Z"
   },
   {
    "duration": 22,
    "start_time": "2022-10-20T17:36:19.878Z"
   },
   {
    "duration": 2,
    "start_time": "2022-10-20T17:36:19.902Z"
   },
   {
    "duration": 23,
    "start_time": "2022-10-20T17:36:19.906Z"
   },
   {
    "duration": 10,
    "start_time": "2022-10-20T17:36:19.931Z"
   },
   {
    "duration": 6,
    "start_time": "2022-10-20T17:36:19.946Z"
   },
   {
    "duration": 15,
    "start_time": "2022-10-20T17:36:19.954Z"
   },
   {
    "duration": 16,
    "start_time": "2022-10-20T17:36:19.970Z"
   },
   {
    "duration": 9,
    "start_time": "2022-10-20T17:36:19.987Z"
   },
   {
    "duration": 41,
    "start_time": "2022-10-20T17:36:19.998Z"
   },
   {
    "duration": 17,
    "start_time": "2022-10-20T17:36:20.041Z"
   },
   {
    "duration": 14,
    "start_time": "2022-10-20T17:36:20.060Z"
   },
   {
    "duration": 3,
    "start_time": "2022-10-20T17:36:20.075Z"
   },
   {
    "duration": 5063,
    "start_time": "2022-10-20T17:36:20.079Z"
   },
   {
    "duration": 218,
    "start_time": "2022-10-20T17:36:25.144Z"
   },
   {
    "duration": 1140,
    "start_time": "2022-10-20T17:36:25.364Z"
   },
   {
    "duration": 37,
    "start_time": "2022-10-20T17:36:26.506Z"
   },
   {
    "duration": 1545,
    "start_time": "2022-10-20T17:36:26.545Z"
   },
   {
    "duration": 2,
    "start_time": "2022-10-20T17:36:28.092Z"
   },
   {
    "duration": 35,
    "start_time": "2022-10-20T17:36:28.096Z"
   },
   {
    "duration": 6,
    "start_time": "2022-10-20T17:36:28.132Z"
   },
   {
    "duration": 11,
    "start_time": "2022-10-20T17:36:28.139Z"
   },
   {
    "duration": 6,
    "start_time": "2022-10-20T17:36:28.151Z"
   },
   {
    "duration": 9,
    "start_time": "2022-10-20T17:36:28.159Z"
   },
   {
    "duration": 15,
    "start_time": "2022-10-20T17:36:28.169Z"
   },
   {
    "duration": 11,
    "start_time": "2022-10-20T17:36:28.186Z"
   },
   {
    "duration": 12,
    "start_time": "2022-10-20T17:36:28.199Z"
   },
   {
    "duration": 11,
    "start_time": "2022-10-20T17:36:28.213Z"
   },
   {
    "duration": 30,
    "start_time": "2022-10-20T17:36:28.226Z"
   },
   {
    "duration": 12336,
    "start_time": "2022-10-20T17:36:28.257Z"
   },
   {
    "duration": 19093,
    "start_time": "2022-10-20T17:36:40.594Z"
   },
   {
    "duration": 1947,
    "start_time": "2022-10-20T17:36:59.689Z"
   },
   {
    "duration": 1709,
    "start_time": "2022-10-20T17:37:01.645Z"
   },
   {
    "duration": 1721,
    "start_time": "2022-10-20T17:38:33.890Z"
   },
   {
    "duration": 1548,
    "start_time": "2022-10-20T17:41:57.356Z"
   },
   {
    "duration": 1545,
    "start_time": "2022-10-20T17:42:04.536Z"
   },
   {
    "duration": 1612,
    "start_time": "2022-10-20T17:43:01.262Z"
   },
   {
    "duration": 1539,
    "start_time": "2022-10-20T17:43:51.567Z"
   },
   {
    "duration": 802,
    "start_time": "2022-10-20T17:44:03.137Z"
   },
   {
    "duration": 12,
    "start_time": "2022-10-20T17:44:49.880Z"
   },
   {
    "duration": 4,
    "start_time": "2022-10-20T17:45:01.959Z"
   },
   {
    "duration": 16,
    "start_time": "2022-10-20T17:45:04.840Z"
   },
   {
    "duration": 18,
    "start_time": "2022-10-20T17:45:06.216Z"
   },
   {
    "duration": 14,
    "start_time": "2022-10-20T17:45:06.369Z"
   },
   {
    "duration": 20,
    "start_time": "2022-10-20T17:45:06.519Z"
   },
   {
    "duration": 16,
    "start_time": "2022-10-20T17:45:06.655Z"
   },
   {
    "duration": 14,
    "start_time": "2022-10-20T17:45:06.792Z"
   },
   {
    "duration": 14,
    "start_time": "2022-10-20T17:45:06.933Z"
   },
   {
    "duration": 14,
    "start_time": "2022-10-20T17:45:07.055Z"
   },
   {
    "duration": 11,
    "start_time": "2022-10-20T17:45:07.191Z"
   },
   {
    "duration": 13,
    "start_time": "2022-10-20T17:45:07.343Z"
   },
   {
    "duration": 13,
    "start_time": "2022-10-20T17:45:07.464Z"
   },
   {
    "duration": 13,
    "start_time": "2022-10-20T17:45:07.599Z"
   },
   {
    "duration": 15,
    "start_time": "2022-10-20T17:45:07.739Z"
   },
   {
    "duration": 11,
    "start_time": "2022-10-20T17:45:29.360Z"
   },
   {
    "duration": 1725,
    "start_time": "2022-10-20T17:45:34.339Z"
   },
   {
    "duration": 1588,
    "start_time": "2022-10-20T17:45:41.976Z"
   },
   {
    "duration": 1696,
    "start_time": "2022-10-20T17:53:16.645Z"
   },
   {
    "duration": 1579,
    "start_time": "2022-10-20T17:53:27.160Z"
   },
   {
    "duration": 1542,
    "start_time": "2022-10-20T17:54:31.618Z"
   },
   {
    "duration": 1595,
    "start_time": "2022-10-20T17:55:15.371Z"
   },
   {
    "duration": 1635,
    "start_time": "2022-10-20T17:55:37.507Z"
   },
   {
    "duration": 1622,
    "start_time": "2022-10-20T17:55:57.403Z"
   },
   {
    "duration": 1353,
    "start_time": "2022-10-20T17:56:12.570Z"
   },
   {
    "duration": 5,
    "start_time": "2022-10-20T17:56:13.929Z"
   },
   {
    "duration": 728,
    "start_time": "2022-10-20T17:56:13.936Z"
   },
   {
    "duration": 4,
    "start_time": "2022-10-20T17:56:14.665Z"
   },
   {
    "duration": 284,
    "start_time": "2022-10-20T17:56:14.671Z"
   },
   {
    "duration": 159,
    "start_time": "2022-10-20T17:56:14.957Z"
   },
   {
    "duration": 310,
    "start_time": "2022-10-20T17:56:15.124Z"
   },
   {
    "duration": 2,
    "start_time": "2022-10-20T17:56:15.439Z"
   },
   {
    "duration": 7,
    "start_time": "2022-10-20T17:56:15.443Z"
   },
   {
    "duration": 25,
    "start_time": "2022-10-20T17:56:15.452Z"
   },
   {
    "duration": 2,
    "start_time": "2022-10-20T17:56:15.478Z"
   },
   {
    "duration": 11,
    "start_time": "2022-10-20T17:56:15.482Z"
   },
   {
    "duration": 20,
    "start_time": "2022-10-20T17:56:15.495Z"
   },
   {
    "duration": 31,
    "start_time": "2022-10-20T17:56:15.518Z"
   },
   {
    "duration": 8,
    "start_time": "2022-10-20T17:56:15.551Z"
   },
   {
    "duration": 36,
    "start_time": "2022-10-20T17:56:15.560Z"
   },
   {
    "duration": 7,
    "start_time": "2022-10-20T17:56:15.598Z"
   },
   {
    "duration": 37,
    "start_time": "2022-10-20T17:56:15.607Z"
   },
   {
    "duration": 24,
    "start_time": "2022-10-20T17:56:15.645Z"
   },
   {
    "duration": 22,
    "start_time": "2022-10-20T17:56:15.672Z"
   },
   {
    "duration": 2,
    "start_time": "2022-10-20T17:56:15.696Z"
   },
   {
    "duration": 5109,
    "start_time": "2022-10-20T17:56:15.700Z"
   },
   {
    "duration": 290,
    "start_time": "2022-10-20T17:56:20.811Z"
   },
   {
    "duration": 1204,
    "start_time": "2022-10-20T17:56:21.103Z"
   },
   {
    "duration": 47,
    "start_time": "2022-10-20T17:56:22.308Z"
   },
   {
    "duration": 1822,
    "start_time": "2022-10-20T17:56:22.357Z"
   },
   {
    "duration": 2,
    "start_time": "2022-10-20T17:56:24.181Z"
   },
   {
    "duration": 22,
    "start_time": "2022-10-20T17:56:24.186Z"
   },
   {
    "duration": 23,
    "start_time": "2022-10-20T17:56:24.210Z"
   },
   {
    "duration": 19,
    "start_time": "2022-10-20T17:56:24.238Z"
   },
   {
    "duration": 14,
    "start_time": "2022-10-20T17:56:24.259Z"
   },
   {
    "duration": 8,
    "start_time": "2022-10-20T17:56:24.275Z"
   },
   {
    "duration": 11,
    "start_time": "2022-10-20T17:56:24.285Z"
   },
   {
    "duration": 10,
    "start_time": "2022-10-20T17:56:24.298Z"
   },
   {
    "duration": 8,
    "start_time": "2022-10-20T17:56:24.309Z"
   },
   {
    "duration": 28,
    "start_time": "2022-10-20T17:56:24.319Z"
   },
   {
    "duration": 14,
    "start_time": "2022-10-20T17:56:24.349Z"
   },
   {
    "duration": 12950,
    "start_time": "2022-10-20T17:56:24.365Z"
   },
   {
    "duration": 20136,
    "start_time": "2022-10-20T17:56:37.316Z"
   },
   {
    "duration": 2284,
    "start_time": "2022-10-20T17:56:57.455Z"
   },
   {
    "duration": 1741,
    "start_time": "2022-10-20T17:56:59.823Z"
   },
   {
    "duration": 2342,
    "start_time": "2022-10-20T17:57:09.573Z"
   },
   {
    "duration": 1740,
    "start_time": "2022-10-20T17:57:33.774Z"
   },
   {
    "duration": 1504,
    "start_time": "2022-10-20T17:58:02.574Z"
   },
   {
    "duration": 1576,
    "start_time": "2022-10-20T17:58:11.869Z"
   },
   {
    "duration": 1526,
    "start_time": "2022-10-20T17:58:16.293Z"
   },
   {
    "duration": 1594,
    "start_time": "2022-10-20T17:58:23.011Z"
   },
   {
    "duration": 12254,
    "start_time": "2022-10-20T17:59:35.712Z"
   },
   {
    "duration": 1360,
    "start_time": "2022-10-20T18:00:03.027Z"
   },
   {
    "duration": 3,
    "start_time": "2022-10-20T18:00:04.388Z"
   },
   {
    "duration": 716,
    "start_time": "2022-10-20T18:00:04.393Z"
   },
   {
    "duration": 4,
    "start_time": "2022-10-20T18:00:05.111Z"
   },
   {
    "duration": 292,
    "start_time": "2022-10-20T18:00:05.117Z"
   },
   {
    "duration": 186,
    "start_time": "2022-10-20T18:00:05.411Z"
   },
   {
    "duration": 305,
    "start_time": "2022-10-20T18:00:05.598Z"
   },
   {
    "duration": 2,
    "start_time": "2022-10-20T18:00:05.905Z"
   },
   {
    "duration": 18,
    "start_time": "2022-10-20T18:00:05.908Z"
   },
   {
    "duration": 23,
    "start_time": "2022-10-20T18:00:05.939Z"
   },
   {
    "duration": 3,
    "start_time": "2022-10-20T18:00:05.964Z"
   },
   {
    "duration": 16,
    "start_time": "2022-10-20T18:00:05.969Z"
   },
   {
    "duration": 33,
    "start_time": "2022-10-20T18:00:05.987Z"
   },
   {
    "duration": 35,
    "start_time": "2022-10-20T18:00:06.022Z"
   },
   {
    "duration": 8,
    "start_time": "2022-10-20T18:00:06.059Z"
   },
   {
    "duration": 13,
    "start_time": "2022-10-20T18:00:06.069Z"
   },
   {
    "duration": 7,
    "start_time": "2022-10-20T18:00:06.084Z"
   },
   {
    "duration": 52,
    "start_time": "2022-10-20T18:00:06.093Z"
   },
   {
    "duration": 21,
    "start_time": "2022-10-20T18:00:06.147Z"
   },
   {
    "duration": 26,
    "start_time": "2022-10-20T18:00:06.170Z"
   },
   {
    "duration": 3,
    "start_time": "2022-10-20T18:00:06.198Z"
   },
   {
    "duration": 4900,
    "start_time": "2022-10-20T18:00:06.203Z"
   },
   {
    "duration": 205,
    "start_time": "2022-10-20T18:00:11.104Z"
   },
   {
    "duration": 1120,
    "start_time": "2022-10-20T18:00:11.310Z"
   },
   {
    "duration": 29,
    "start_time": "2022-10-20T18:00:12.434Z"
   },
   {
    "duration": 1522,
    "start_time": "2022-10-20T18:00:12.464Z"
   },
   {
    "duration": 4,
    "start_time": "2022-10-20T18:00:13.987Z"
   },
   {
    "duration": 17,
    "start_time": "2022-10-20T18:00:13.993Z"
   },
   {
    "duration": 10,
    "start_time": "2022-10-20T18:00:14.012Z"
   },
   {
    "duration": 10,
    "start_time": "2022-10-20T18:00:14.024Z"
   },
   {
    "duration": 7,
    "start_time": "2022-10-20T18:00:14.039Z"
   },
   {
    "duration": 5,
    "start_time": "2022-10-20T18:00:14.048Z"
   },
   {
    "duration": 6,
    "start_time": "2022-10-20T18:00:14.054Z"
   },
   {
    "duration": 5,
    "start_time": "2022-10-20T18:00:14.062Z"
   },
   {
    "duration": 6,
    "start_time": "2022-10-20T18:00:14.069Z"
   },
   {
    "duration": 9,
    "start_time": "2022-10-20T18:00:14.076Z"
   },
   {
    "duration": 12,
    "start_time": "2022-10-20T18:00:14.086Z"
   },
   {
    "duration": 12503,
    "start_time": "2022-10-20T18:00:14.099Z"
   },
   {
    "duration": 19193,
    "start_time": "2022-10-20T18:00:26.603Z"
   },
   {
    "duration": 1842,
    "start_time": "2022-10-20T18:00:45.797Z"
   },
   {
    "duration": 76,
    "start_time": "2022-10-20T18:00:47.646Z"
   },
   {
    "duration": 1720,
    "start_time": "2022-10-20T18:01:31.221Z"
   },
   {
    "duration": 1515,
    "start_time": "2022-10-20T18:02:40.485Z"
   },
   {
    "duration": 1501,
    "start_time": "2022-10-20T18:02:44.638Z"
   },
   {
    "duration": 1614,
    "start_time": "2022-10-20T18:03:21.255Z"
   },
   {
    "duration": 2617,
    "start_time": "2022-10-20T18:03:27.479Z"
   },
   {
    "duration": 1491,
    "start_time": "2022-10-20T18:04:12.434Z"
   },
   {
    "duration": 1627,
    "start_time": "2022-10-20T18:04:24.496Z"
   },
   {
    "duration": 1526,
    "start_time": "2022-10-20T18:04:38.945Z"
   },
   {
    "duration": 1538,
    "start_time": "2022-10-20T18:06:03.218Z"
   },
   {
    "duration": 1509,
    "start_time": "2022-10-20T18:06:26.739Z"
   },
   {
    "duration": 1495,
    "start_time": "2022-10-20T18:12:42.218Z"
   },
   {
    "duration": 1590,
    "start_time": "2022-10-20T18:12:47.243Z"
   },
   {
    "duration": 1494,
    "start_time": "2022-10-20T18:25:22.861Z"
   },
   {
    "duration": 1453,
    "start_time": "2022-10-20T18:25:27.109Z"
   },
   {
    "duration": 1590,
    "start_time": "2022-10-20T18:27:19.376Z"
   },
   {
    "duration": 1549,
    "start_time": "2022-10-20T18:27:27.655Z"
   },
   {
    "duration": 1443,
    "start_time": "2022-10-20T18:27:43.552Z"
   },
   {
    "duration": 1457,
    "start_time": "2022-10-20T18:27:57.088Z"
   },
   {
    "duration": 1490,
    "start_time": "2022-10-20T18:28:15.105Z"
   },
   {
    "duration": 1488,
    "start_time": "2022-10-20T18:28:59.145Z"
   },
   {
    "duration": 1467,
    "start_time": "2022-10-20T18:29:07.929Z"
   },
   {
    "duration": 1527,
    "start_time": "2022-10-20T18:29:46.643Z"
   },
   {
    "duration": 1484,
    "start_time": "2022-10-20T18:30:30.323Z"
   },
   {
    "duration": 3,
    "start_time": "2022-10-20T18:30:55.131Z"
   },
   {
    "duration": 3,
    "start_time": "2022-10-20T18:31:16.548Z"
   },
   {
    "duration": 5,
    "start_time": "2022-10-20T18:32:59.487Z"
   },
   {
    "duration": 4,
    "start_time": "2022-10-20T18:33:46.032Z"
   },
   {
    "duration": 6,
    "start_time": "2022-10-20T18:34:43.481Z"
   },
   {
    "duration": 2,
    "start_time": "2022-10-20T18:35:45.035Z"
   },
   {
    "duration": 3,
    "start_time": "2022-10-20T18:35:54.442Z"
   },
   {
    "duration": 1346,
    "start_time": "2022-10-20T18:50:22.513Z"
   },
   {
    "duration": 2,
    "start_time": "2022-10-20T18:50:23.861Z"
   },
   {
    "duration": 728,
    "start_time": "2022-10-20T18:50:23.865Z"
   },
   {
    "duration": 3,
    "start_time": "2022-10-20T18:50:24.595Z"
   },
   {
    "duration": 298,
    "start_time": "2022-10-20T18:50:24.601Z"
   },
   {
    "duration": 168,
    "start_time": "2022-10-20T18:50:24.901Z"
   },
   {
    "duration": 294,
    "start_time": "2022-10-20T18:50:25.070Z"
   },
   {
    "duration": 3,
    "start_time": "2022-10-20T18:50:25.366Z"
   },
   {
    "duration": 14,
    "start_time": "2022-10-20T18:50:25.370Z"
   },
   {
    "duration": 33,
    "start_time": "2022-10-20T18:50:25.386Z"
   },
   {
    "duration": 6,
    "start_time": "2022-10-20T18:50:25.420Z"
   },
   {
    "duration": 16,
    "start_time": "2022-10-20T18:50:25.428Z"
   },
   {
    "duration": 7,
    "start_time": "2022-10-20T18:50:25.445Z"
   },
   {
    "duration": 5,
    "start_time": "2022-10-20T18:50:25.454Z"
   },
   {
    "duration": 5,
    "start_time": "2022-10-20T18:50:25.460Z"
   },
   {
    "duration": 13,
    "start_time": "2022-10-20T18:50:25.466Z"
   },
   {
    "duration": 5,
    "start_time": "2022-10-20T18:50:25.480Z"
   },
   {
    "duration": 40,
    "start_time": "2022-10-20T18:50:25.487Z"
   },
   {
    "duration": 22,
    "start_time": "2022-10-20T18:50:25.528Z"
   },
   {
    "duration": 12,
    "start_time": "2022-10-20T18:50:25.551Z"
   },
   {
    "duration": 2,
    "start_time": "2022-10-20T18:50:25.564Z"
   },
   {
    "duration": 4328,
    "start_time": "2022-10-20T18:50:25.567Z"
   },
   {
    "duration": 210,
    "start_time": "2022-10-20T18:50:29.897Z"
   },
   {
    "duration": 1029,
    "start_time": "2022-10-20T18:50:30.109Z"
   },
   {
    "duration": 26,
    "start_time": "2022-10-20T18:50:31.140Z"
   },
   {
    "duration": 1475,
    "start_time": "2022-10-20T18:50:31.168Z"
   },
   {
    "duration": 3,
    "start_time": "2022-10-20T18:50:32.645Z"
   },
   {
    "duration": 34,
    "start_time": "2022-10-20T18:50:32.649Z"
   },
   {
    "duration": 5,
    "start_time": "2022-10-20T18:50:32.685Z"
   },
   {
    "duration": 16,
    "start_time": "2022-10-20T18:50:32.692Z"
   },
   {
    "duration": 33,
    "start_time": "2022-10-20T18:50:32.710Z"
   },
   {
    "duration": 10,
    "start_time": "2022-10-20T18:50:32.745Z"
   },
   {
    "duration": 11,
    "start_time": "2022-10-20T18:50:32.756Z"
   },
   {
    "duration": 8,
    "start_time": "2022-10-20T18:50:32.768Z"
   },
   {
    "duration": 11,
    "start_time": "2022-10-20T18:50:32.777Z"
   },
   {
    "duration": 9,
    "start_time": "2022-10-20T18:50:32.789Z"
   },
   {
    "duration": 11,
    "start_time": "2022-10-20T18:50:32.799Z"
   },
   {
    "duration": 12081,
    "start_time": "2022-10-20T18:50:32.811Z"
   },
   {
    "duration": 18555,
    "start_time": "2022-10-20T18:50:44.894Z"
   },
   {
    "duration": 1184,
    "start_time": "2022-10-20T18:51:03.450Z"
   },
   {
    "duration": 1675,
    "start_time": "2022-10-20T18:51:04.640Z"
   },
   {
    "duration": 18,
    "start_time": "2022-10-20T18:51:06.317Z"
   },
   {
    "duration": 11,
    "start_time": "2022-10-20T18:51:06.336Z"
   },
   {
    "duration": 8,
    "start_time": "2022-10-20T18:51:06.349Z"
   },
   {
    "duration": 4,
    "start_time": "2022-10-20T18:51:06.358Z"
   },
   {
    "duration": 9,
    "start_time": "2022-10-20T18:51:06.364Z"
   },
   {
    "duration": 4,
    "start_time": "2022-10-20T19:13:22.992Z"
   },
   {
    "duration": 1247,
    "start_time": "2022-10-20T19:13:28.864Z"
   },
   {
    "duration": 3,
    "start_time": "2022-10-20T19:13:31.256Z"
   },
   {
    "duration": 662,
    "start_time": "2022-10-20T19:13:32.088Z"
   },
   {
    "duration": 5,
    "start_time": "2022-10-20T19:13:33.352Z"
   },
   {
    "duration": 270,
    "start_time": "2022-10-20T19:13:34.768Z"
   },
   {
    "duration": 172,
    "start_time": "2022-10-20T19:13:36.121Z"
   },
   {
    "duration": 265,
    "start_time": "2022-10-20T19:13:37.137Z"
   },
   {
    "duration": 2,
    "start_time": "2022-10-20T19:13:41.833Z"
   },
   {
    "duration": 3,
    "start_time": "2022-10-20T19:13:44.969Z"
   },
   {
    "duration": 14,
    "start_time": "2022-10-20T19:13:46.825Z"
   },
   {
    "duration": 3,
    "start_time": "2022-10-20T19:13:50.200Z"
   },
   {
    "duration": 7,
    "start_time": "2022-10-20T19:13:51.955Z"
   },
   {
    "duration": 2,
    "start_time": "2022-10-20T19:13:54.737Z"
   },
   {
    "duration": 3,
    "start_time": "2022-10-20T19:13:55.384Z"
   },
   {
    "duration": 3,
    "start_time": "2022-10-20T19:13:56.689Z"
   },
   {
    "duration": 9,
    "start_time": "2022-10-20T19:13:57.857Z"
   },
   {
    "duration": 6,
    "start_time": "2022-10-20T19:13:58.977Z"
   },
   {
    "duration": 28,
    "start_time": "2022-10-20T19:14:01.585Z"
   },
   {
    "duration": 14,
    "start_time": "2022-10-20T19:14:03.620Z"
   },
   {
    "duration": 16,
    "start_time": "2022-10-20T19:14:04.994Z"
   },
   {
    "duration": 2,
    "start_time": "2022-10-20T19:14:07.882Z"
   },
   {
    "duration": 4219,
    "start_time": "2022-10-20T19:14:10.241Z"
   },
   {
    "duration": 228,
    "start_time": "2022-10-20T19:15:19.571Z"
   },
   {
    "duration": 1015,
    "start_time": "2022-10-20T19:16:01.205Z"
   },
   {
    "duration": 29,
    "start_time": "2022-10-20T19:16:05.444Z"
   },
   {
    "duration": 1440,
    "start_time": "2022-10-20T19:16:27.621Z"
   },
   {
    "duration": 3,
    "start_time": "2022-10-20T19:16:35.876Z"
   },
   {
    "duration": 16,
    "start_time": "2022-10-20T19:16:37.204Z"
   },
   {
    "duration": 3,
    "start_time": "2022-10-20T19:16:44.284Z"
   },
   {
    "duration": 6,
    "start_time": "2022-10-20T19:16:45.645Z"
   },
   {
    "duration": 3,
    "start_time": "2022-10-20T19:16:48.668Z"
   },
   {
    "duration": 3,
    "start_time": "2022-10-20T19:16:49.172Z"
   },
   {
    "duration": 2,
    "start_time": "2022-10-20T19:16:50.045Z"
   },
   {
    "duration": 3,
    "start_time": "2022-10-20T19:16:50.517Z"
   },
   {
    "duration": 3,
    "start_time": "2022-10-20T19:17:05.236Z"
   },
   {
    "duration": 4,
    "start_time": "2022-10-20T19:17:07.860Z"
   },
   {
    "duration": 7,
    "start_time": "2022-10-20T19:17:12.437Z"
   },
   {
    "duration": 12212,
    "start_time": "2022-10-20T19:17:13.932Z"
   },
   {
    "duration": 18229,
    "start_time": "2022-10-20T19:17:34.686Z"
   },
   {
    "duration": 990,
    "start_time": "2022-10-20T19:17:56.933Z"
   },
   {
    "duration": 1501,
    "start_time": "2022-10-20T19:19:42.144Z"
   },
   {
    "duration": 100,
    "start_time": "2022-10-20T19:19:50.792Z"
   },
   {
    "duration": 3,
    "start_time": "2022-10-20T19:19:53.433Z"
   },
   {
    "duration": 4,
    "start_time": "2022-10-20T19:19:54.609Z"
   },
   {
    "duration": 5,
    "start_time": "2022-10-20T19:19:55.184Z"
   },
   {
    "duration": 2,
    "start_time": "2022-10-20T19:19:55.737Z"
   },
   {
    "duration": 3,
    "start_time": "2022-10-20T19:19:56.288Z"
   },
   {
    "duration": 4,
    "start_time": "2022-10-20T19:30:00.044Z"
   },
   {
    "duration": 750,
    "start_time": "2022-10-20T20:29:52.174Z"
   },
   {
    "duration": 1347,
    "start_time": "2022-10-20T20:30:02.302Z"
   },
   {
    "duration": 3,
    "start_time": "2022-10-20T20:30:03.651Z"
   },
   {
    "duration": 625,
    "start_time": "2022-10-20T20:30:03.656Z"
   },
   {
    "duration": 3,
    "start_time": "2022-10-20T20:30:04.283Z"
   },
   {
    "duration": 257,
    "start_time": "2022-10-20T20:30:04.288Z"
   },
   {
    "duration": 144,
    "start_time": "2022-10-20T20:30:04.547Z"
   },
   {
    "duration": 263,
    "start_time": "2022-10-20T20:30:04.693Z"
   },
   {
    "duration": 3,
    "start_time": "2022-10-20T20:30:04.957Z"
   },
   {
    "duration": 29,
    "start_time": "2022-10-20T20:30:04.962Z"
   },
   {
    "duration": 24,
    "start_time": "2022-10-20T20:30:04.994Z"
   },
   {
    "duration": 14,
    "start_time": "2022-10-20T20:30:05.019Z"
   },
   {
    "duration": 23,
    "start_time": "2022-10-20T20:30:05.034Z"
   },
   {
    "duration": 26,
    "start_time": "2022-10-20T20:30:05.058Z"
   },
   {
    "duration": 8,
    "start_time": "2022-10-20T20:30:05.085Z"
   },
   {
    "duration": 14,
    "start_time": "2022-10-20T20:30:05.094Z"
   },
   {
    "duration": 26,
    "start_time": "2022-10-20T20:30:05.109Z"
   },
   {
    "duration": 29,
    "start_time": "2022-10-20T20:30:05.137Z"
   },
   {
    "duration": 77,
    "start_time": "2022-10-20T20:30:05.167Z"
   },
   {
    "duration": 12,
    "start_time": "2022-10-20T20:30:05.246Z"
   },
   {
    "duration": 35,
    "start_time": "2022-10-20T20:30:05.259Z"
   },
   {
    "duration": 5,
    "start_time": "2022-10-20T20:30:05.295Z"
   },
   {
    "duration": 4248,
    "start_time": "2022-10-20T20:30:05.301Z"
   },
   {
    "duration": 190,
    "start_time": "2022-10-20T20:30:09.551Z"
   },
   {
    "duration": 943,
    "start_time": "2022-10-20T20:30:09.742Z"
   },
   {
    "duration": 27,
    "start_time": "2022-10-20T20:30:10.686Z"
   },
   {
    "duration": 1409,
    "start_time": "2022-10-20T20:30:10.721Z"
   },
   {
    "duration": 3,
    "start_time": "2022-10-20T20:30:12.131Z"
   },
   {
    "duration": 17,
    "start_time": "2022-10-20T20:30:12.136Z"
   },
   {
    "duration": 2,
    "start_time": "2022-10-20T20:30:12.155Z"
   },
   {
    "duration": 9,
    "start_time": "2022-10-20T20:30:12.159Z"
   },
   {
    "duration": 12,
    "start_time": "2022-10-20T20:30:12.169Z"
   },
   {
    "duration": 7,
    "start_time": "2022-10-20T20:30:12.182Z"
   },
   {
    "duration": 8,
    "start_time": "2022-10-20T20:30:12.190Z"
   },
   {
    "duration": 8,
    "start_time": "2022-10-20T20:30:12.199Z"
   },
   {
    "duration": 5,
    "start_time": "2022-10-20T20:30:12.208Z"
   },
   {
    "duration": 3,
    "start_time": "2022-10-20T20:30:12.222Z"
   },
   {
    "duration": 10,
    "start_time": "2022-10-20T20:30:12.226Z"
   },
   {
    "duration": 11603,
    "start_time": "2022-10-20T20:30:12.237Z"
   },
   {
    "duration": 17912,
    "start_time": "2022-10-20T20:30:23.842Z"
   },
   {
    "duration": 1067,
    "start_time": "2022-10-20T20:30:41.755Z"
   },
   {
    "duration": 1513,
    "start_time": "2022-10-20T20:30:42.824Z"
   },
   {
    "duration": 6,
    "start_time": "2022-10-20T20:30:44.339Z"
   },
   {
    "duration": 7,
    "start_time": "2022-10-20T20:30:44.347Z"
   },
   {
    "duration": 8,
    "start_time": "2022-10-20T20:30:44.355Z"
   },
   {
    "duration": 5,
    "start_time": "2022-10-20T20:30:44.364Z"
   },
   {
    "duration": 6,
    "start_time": "2022-10-20T20:30:44.370Z"
   },
   {
    "duration": 5,
    "start_time": "2022-10-20T20:30:44.377Z"
   },
   {
    "duration": 1518,
    "start_time": "2022-10-20T20:31:18.976Z"
   },
   {
    "duration": 1275,
    "start_time": "2022-10-20T20:38:14.937Z"
   },
   {
    "duration": 2,
    "start_time": "2022-10-20T20:38:16.214Z"
   },
   {
    "duration": 639,
    "start_time": "2022-10-20T20:38:16.218Z"
   },
   {
    "duration": 3,
    "start_time": "2022-10-20T20:38:16.859Z"
   },
   {
    "duration": 252,
    "start_time": "2022-10-20T20:38:16.863Z"
   },
   {
    "duration": 140,
    "start_time": "2022-10-20T20:38:17.121Z"
   },
   {
    "duration": 263,
    "start_time": "2022-10-20T20:38:17.262Z"
   },
   {
    "duration": 2,
    "start_time": "2022-10-20T20:38:17.526Z"
   },
   {
    "duration": 5,
    "start_time": "2022-10-20T20:38:17.530Z"
   },
   {
    "duration": 16,
    "start_time": "2022-10-20T20:38:17.537Z"
   },
   {
    "duration": 2,
    "start_time": "2022-10-20T20:38:17.554Z"
   },
   {
    "duration": 10,
    "start_time": "2022-10-20T20:38:17.557Z"
   },
   {
    "duration": 6,
    "start_time": "2022-10-20T20:38:17.569Z"
   },
   {
    "duration": 6,
    "start_time": "2022-10-20T20:38:17.576Z"
   },
   {
    "duration": 5,
    "start_time": "2022-10-20T20:38:17.583Z"
   },
   {
    "duration": 10,
    "start_time": "2022-10-20T20:38:17.590Z"
   },
   {
    "duration": 23,
    "start_time": "2022-10-20T20:38:17.601Z"
   },
   {
    "duration": 34,
    "start_time": "2022-10-20T20:38:17.626Z"
   },
   {
    "duration": 13,
    "start_time": "2022-10-20T20:38:17.661Z"
   },
   {
    "duration": 11,
    "start_time": "2022-10-20T20:38:17.676Z"
   },
   {
    "duration": 2,
    "start_time": "2022-10-20T20:38:17.688Z"
   },
   {
    "duration": 4348,
    "start_time": "2022-10-20T20:38:17.692Z"
   },
   {
    "duration": 206,
    "start_time": "2022-10-20T20:38:22.042Z"
   },
   {
    "duration": 1026,
    "start_time": "2022-10-20T20:38:22.249Z"
   },
   {
    "duration": 27,
    "start_time": "2022-10-20T20:38:23.276Z"
   },
   {
    "duration": 1445,
    "start_time": "2022-10-20T20:38:23.305Z"
   },
   {
    "duration": 2,
    "start_time": "2022-10-20T20:38:24.752Z"
   },
   {
    "duration": 40,
    "start_time": "2022-10-20T20:38:24.757Z"
   },
   {
    "duration": 21,
    "start_time": "2022-10-20T20:38:24.798Z"
   },
   {
    "duration": 21,
    "start_time": "2022-10-20T20:38:24.821Z"
   },
   {
    "duration": 24,
    "start_time": "2022-10-20T20:38:24.843Z"
   },
   {
    "duration": 10,
    "start_time": "2022-10-20T20:38:24.868Z"
   },
   {
    "duration": 16,
    "start_time": "2022-10-20T20:38:24.880Z"
   },
   {
    "duration": 11,
    "start_time": "2022-10-20T20:38:24.898Z"
   },
   {
    "duration": 19,
    "start_time": "2022-10-20T20:38:24.911Z"
   },
   {
    "duration": 14,
    "start_time": "2022-10-20T20:38:24.932Z"
   },
   {
    "duration": 26,
    "start_time": "2022-10-20T20:38:24.948Z"
   },
   {
    "duration": 11586,
    "start_time": "2022-10-20T20:38:24.976Z"
   },
   {
    "duration": 17901,
    "start_time": "2022-10-20T20:38:36.564Z"
   },
   {
    "duration": 1156,
    "start_time": "2022-10-20T20:38:54.467Z"
   },
   {
    "duration": 1591,
    "start_time": "2022-10-20T20:38:55.625Z"
   },
   {
    "duration": 3,
    "start_time": "2022-10-20T20:41:41.543Z"
   },
   {
    "duration": 49,
    "start_time": "2022-10-20T20:43:46.417Z"
   },
   {
    "duration": 3228,
    "start_time": "2022-10-20T20:43:51.632Z"
   },
   {
    "duration": 3241,
    "start_time": "2022-10-20T20:44:55.370Z"
   },
   {
    "duration": 11817,
    "start_time": "2022-10-20T20:45:51.083Z"
   },
   {
    "duration": 1297,
    "start_time": "2022-10-20T20:55:57.888Z"
   },
   {
    "duration": 2,
    "start_time": "2022-10-20T20:55:59.187Z"
   },
   {
    "duration": 658,
    "start_time": "2022-10-20T20:55:59.190Z"
   },
   {
    "duration": 3,
    "start_time": "2022-10-20T20:55:59.850Z"
   },
   {
    "duration": 254,
    "start_time": "2022-10-20T20:55:59.854Z"
   },
   {
    "duration": 148,
    "start_time": "2022-10-20T20:56:00.110Z"
   },
   {
    "duration": 272,
    "start_time": "2022-10-20T20:56:00.260Z"
   },
   {
    "duration": 2,
    "start_time": "2022-10-20T20:56:00.534Z"
   },
   {
    "duration": 19,
    "start_time": "2022-10-20T20:56:00.537Z"
   },
   {
    "duration": 30,
    "start_time": "2022-10-20T20:56:00.558Z"
   },
   {
    "duration": 13,
    "start_time": "2022-10-20T20:56:00.589Z"
   },
   {
    "duration": 23,
    "start_time": "2022-10-20T20:56:00.603Z"
   },
   {
    "duration": 16,
    "start_time": "2022-10-20T20:56:00.627Z"
   },
   {
    "duration": 25,
    "start_time": "2022-10-20T20:56:00.645Z"
   },
   {
    "duration": 17,
    "start_time": "2022-10-20T20:56:00.672Z"
   },
   {
    "duration": 18,
    "start_time": "2022-10-20T20:56:00.691Z"
   },
   {
    "duration": 18,
    "start_time": "2022-10-20T20:56:00.711Z"
   },
   {
    "duration": 51,
    "start_time": "2022-10-20T20:56:00.731Z"
   },
   {
    "duration": 28,
    "start_time": "2022-10-20T20:56:00.783Z"
   },
   {
    "duration": 24,
    "start_time": "2022-10-20T20:56:00.813Z"
   },
   {
    "duration": 9,
    "start_time": "2022-10-20T20:56:00.839Z"
   },
   {
    "duration": 4126,
    "start_time": "2022-10-20T20:56:00.850Z"
   },
   {
    "duration": 199,
    "start_time": "2022-10-20T20:56:04.977Z"
   },
   {
    "duration": 1021,
    "start_time": "2022-10-20T20:56:05.178Z"
   },
   {
    "duration": 40,
    "start_time": "2022-10-20T20:56:06.201Z"
   },
   {
    "duration": 1381,
    "start_time": "2022-10-20T20:56:06.243Z"
   },
   {
    "duration": 2,
    "start_time": "2022-10-20T20:56:07.626Z"
   },
   {
    "duration": 18,
    "start_time": "2022-10-20T20:56:07.631Z"
   },
   {
    "duration": 2,
    "start_time": "2022-10-20T20:56:07.651Z"
   },
   {
    "duration": 10,
    "start_time": "2022-10-20T20:56:07.655Z"
   },
   {
    "duration": 7,
    "start_time": "2022-10-20T20:56:07.667Z"
   },
   {
    "duration": 7,
    "start_time": "2022-10-20T20:56:07.676Z"
   },
   {
    "duration": 7,
    "start_time": "2022-10-20T20:56:07.684Z"
   },
   {
    "duration": 6,
    "start_time": "2022-10-20T20:56:07.692Z"
   },
   {
    "duration": 5,
    "start_time": "2022-10-20T20:56:07.700Z"
   },
   {
    "duration": 18,
    "start_time": "2022-10-20T20:56:07.706Z"
   },
   {
    "duration": 18,
    "start_time": "2022-10-20T20:56:07.726Z"
   },
   {
    "duration": 11740,
    "start_time": "2022-10-20T20:56:07.746Z"
   },
   {
    "duration": 2424116,
    "start_time": "2022-10-20T20:56:19.488Z"
   },
   {
    "duration": 1723,
    "start_time": "2022-10-20T21:36:43.606Z"
   },
   {
    "duration": 1579,
    "start_time": "2022-10-20T21:36:45.330Z"
   },
   {
    "duration": 89,
    "start_time": "2022-10-20T21:36:58.370Z"
   },
   {
    "duration": 11988,
    "start_time": "2022-10-20T21:37:52.947Z"
   },
   {
    "duration": 11953,
    "start_time": "2022-10-20T21:38:33.051Z"
   },
   {
    "duration": 1022714,
    "start_time": "2022-10-20T21:39:00.357Z"
   },
   {
    "duration": 1272530,
    "start_time": "2022-10-20T21:56:28.283Z"
   },
   {
    "duration": 60186,
    "start_time": "2022-10-20T22:18:27.159Z"
   },
   {
    "duration": 1254,
    "start_time": "2022-10-20T22:46:19.577Z"
   },
   {
    "duration": 3,
    "start_time": "2022-10-20T22:46:20.833Z"
   },
   {
    "duration": 674,
    "start_time": "2022-10-20T22:46:20.837Z"
   },
   {
    "duration": 8,
    "start_time": "2022-10-20T22:46:21.513Z"
   },
   {
    "duration": 264,
    "start_time": "2022-10-20T22:46:21.523Z"
   },
   {
    "duration": 160,
    "start_time": "2022-10-20T22:46:21.789Z"
   },
   {
    "duration": 282,
    "start_time": "2022-10-20T22:46:21.951Z"
   },
   {
    "duration": 2,
    "start_time": "2022-10-20T22:46:22.235Z"
   },
   {
    "duration": 7,
    "start_time": "2022-10-20T22:46:22.239Z"
   },
   {
    "duration": 14,
    "start_time": "2022-10-20T22:46:22.250Z"
   },
   {
    "duration": 2,
    "start_time": "2022-10-20T22:46:22.266Z"
   },
   {
    "duration": 9,
    "start_time": "2022-10-20T22:46:22.269Z"
   },
   {
    "duration": 6,
    "start_time": "2022-10-20T22:46:22.280Z"
   },
   {
    "duration": 6,
    "start_time": "2022-10-20T22:46:22.287Z"
   },
   {
    "duration": 5,
    "start_time": "2022-10-20T22:46:22.294Z"
   },
   {
    "duration": 28,
    "start_time": "2022-10-20T22:46:22.300Z"
   },
   {
    "duration": 7,
    "start_time": "2022-10-20T22:46:22.330Z"
   },
   {
    "duration": 29,
    "start_time": "2022-10-20T22:46:22.338Z"
   },
   {
    "duration": 14,
    "start_time": "2022-10-20T22:46:22.368Z"
   },
   {
    "duration": 39,
    "start_time": "2022-10-20T22:46:22.384Z"
   },
   {
    "duration": 2,
    "start_time": "2022-10-20T22:46:22.425Z"
   },
   {
    "duration": 4264,
    "start_time": "2022-10-20T22:46:22.428Z"
   },
   {
    "duration": 192,
    "start_time": "2022-10-20T22:46:26.694Z"
   },
   {
    "duration": 936,
    "start_time": "2022-10-20T22:46:26.887Z"
   },
   {
    "duration": 31,
    "start_time": "2022-10-20T22:46:27.825Z"
   },
   {
    "duration": 1337,
    "start_time": "2022-10-20T22:46:27.858Z"
   },
   {
    "duration": 2,
    "start_time": "2022-10-20T22:46:29.197Z"
   },
   {
    "duration": 24,
    "start_time": "2022-10-20T22:46:29.203Z"
   },
   {
    "duration": 3,
    "start_time": "2022-10-20T22:46:29.229Z"
   },
   {
    "duration": 10,
    "start_time": "2022-10-20T22:46:29.233Z"
   },
   {
    "duration": 4,
    "start_time": "2022-10-20T22:46:29.245Z"
   },
   {
    "duration": 6,
    "start_time": "2022-10-20T22:46:29.251Z"
   },
   {
    "duration": 7,
    "start_time": "2022-10-20T22:46:29.258Z"
   },
   {
    "duration": 6,
    "start_time": "2022-10-20T22:46:29.266Z"
   },
   {
    "duration": 7,
    "start_time": "2022-10-20T22:46:29.274Z"
   },
   {
    "duration": 5,
    "start_time": "2022-10-20T22:46:29.282Z"
   },
   {
    "duration": 9,
    "start_time": "2022-10-20T22:46:29.289Z"
   },
   {
    "duration": 11673,
    "start_time": "2022-10-20T22:46:29.299Z"
   },
   {
    "duration": 1426888,
    "start_time": "2022-10-20T22:46:40.974Z"
   },
   {
    "duration": 860,
    "start_time": "2022-10-20T23:10:27.864Z"
   },
   {
    "duration": 1520,
    "start_time": "2022-10-20T23:10:28.726Z"
   },
   {
    "duration": 855,
    "start_time": "2022-10-20T23:19:50.777Z"
   },
   {
    "duration": 3,
    "start_time": "2022-10-20T23:20:39.482Z"
   },
   {
    "duration": 4,
    "start_time": "2022-10-20T23:21:59.531Z"
   },
   {
    "duration": 288,
    "start_time": "2022-10-20T23:22:07.212Z"
   },
   {
    "duration": 15,
    "start_time": "2022-10-20T23:22:50.741Z"
   },
   {
    "duration": 3,
    "start_time": "2022-10-20T23:24:14.399Z"
   },
   {
    "duration": 90699,
    "start_time": "2022-10-20T23:24:21.927Z"
   },
   {
    "duration": 320510,
    "start_time": "2022-10-20T23:27:31.618Z"
   },
   {
    "duration": 3,
    "start_time": "2022-10-20T23:32:52.130Z"
   },
   {
    "duration": 720,
    "start_time": "2022-10-20T23:32:52.134Z"
   },
   {
    "duration": 10343,
    "start_time": "2022-10-20T23:37:52.688Z"
   },
   {
    "duration": 3,
    "start_time": "2022-10-20T23:38:31.175Z"
   },
   {
    "duration": 6968,
    "start_time": "2022-10-20T23:39:29.655Z"
   },
   {
    "duration": 7020,
    "start_time": "2022-10-20T23:39:44.522Z"
   },
   {
    "duration": 434,
    "start_time": "2022-10-20T23:41:31.395Z"
   },
   {
    "duration": 376,
    "start_time": "2022-10-20T23:42:06.853Z"
   },
   {
    "duration": 86,
    "start_time": "2022-10-20T23:42:10.868Z"
   },
   {
    "duration": 703,
    "start_time": "2022-10-20T23:42:23.413Z"
   },
   {
    "duration": 3,
    "start_time": "2022-10-20T23:43:25.543Z"
   },
   {
    "duration": 83,
    "start_time": "2022-10-20T23:47:26.611Z"
   },
   {
    "duration": 75,
    "start_time": "2022-10-20T23:48:46.109Z"
   },
   {
    "duration": 5,
    "start_time": "2022-10-20T23:49:06.702Z"
   },
   {
    "duration": 2101,
    "start_time": "2022-10-20T23:49:10.910Z"
   },
   {
    "duration": 99,
    "start_time": "2022-10-20T23:50:38.265Z"
   },
   {
    "duration": 376,
    "start_time": "2022-10-20T23:53:51.916Z"
   },
   {
    "duration": 2176,
    "start_time": "2022-10-20T23:53:57.228Z"
   },
   {
    "duration": 1400,
    "start_time": "2022-10-20T23:54:03.660Z"
   },
   {
    "duration": 710,
    "start_time": "2022-10-20T23:54:13.748Z"
   },
   {
    "duration": 1432,
    "start_time": "2022-10-20T23:54:18.572Z"
   },
   {
    "duration": 7180,
    "start_time": "2022-10-20T23:54:30.525Z"
   },
   {
    "duration": 4265,
    "start_time": "2022-10-20T23:54:43.588Z"
   },
   {
    "duration": 2148,
    "start_time": "2022-10-20T23:54:52.118Z"
   },
   {
    "duration": 719,
    "start_time": "2022-10-20T23:54:59.197Z"
   },
   {
    "duration": 1903,
    "start_time": "2022-10-20T23:55:10.413Z"
   },
   {
    "duration": 1040,
    "start_time": "2022-10-20T23:55:15.989Z"
   },
   {
    "duration": 748,
    "start_time": "2022-10-20T23:55:19.574Z"
   },
   {
    "duration": 3567,
    "start_time": "2022-10-20T23:56:25.935Z"
   },
   {
    "duration": 741,
    "start_time": "2022-10-20T23:56:46.968Z"
   },
   {
    "duration": 1594,
    "start_time": "2022-10-21T07:13:12.163Z"
   },
   {
    "duration": 3,
    "start_time": "2022-10-21T07:13:13.759Z"
   },
   {
    "duration": 1533,
    "start_time": "2022-10-21T07:13:13.763Z"
   },
   {
    "duration": 3,
    "start_time": "2022-10-21T07:13:15.298Z"
   },
   {
    "duration": 280,
    "start_time": "2022-10-21T07:13:15.304Z"
   },
   {
    "duration": 170,
    "start_time": "2022-10-21T07:13:15.586Z"
   },
   {
    "duration": 325,
    "start_time": "2022-10-21T07:13:15.758Z"
   },
   {
    "duration": 3,
    "start_time": "2022-10-21T07:13:16.085Z"
   },
   {
    "duration": 25,
    "start_time": "2022-10-21T07:13:16.089Z"
   },
   {
    "duration": 19,
    "start_time": "2022-10-21T07:13:16.116Z"
   },
   {
    "duration": 2,
    "start_time": "2022-10-21T07:13:16.138Z"
   },
   {
    "duration": 10,
    "start_time": "2022-10-21T07:13:16.142Z"
   },
   {
    "duration": 8,
    "start_time": "2022-10-21T07:13:16.154Z"
   },
   {
    "duration": 5,
    "start_time": "2022-10-21T07:13:16.166Z"
   },
   {
    "duration": 5,
    "start_time": "2022-10-21T07:13:16.173Z"
   },
   {
    "duration": 31,
    "start_time": "2022-10-21T07:13:16.181Z"
   },
   {
    "duration": 8,
    "start_time": "2022-10-21T07:13:16.214Z"
   },
   {
    "duration": 46,
    "start_time": "2022-10-21T07:13:16.224Z"
   },
   {
    "duration": 42,
    "start_time": "2022-10-21T07:13:16.271Z"
   },
   {
    "duration": 12,
    "start_time": "2022-10-21T07:13:16.315Z"
   },
   {
    "duration": 2,
    "start_time": "2022-10-21T07:13:16.329Z"
   },
   {
    "duration": 4617,
    "start_time": "2022-10-21T07:13:16.333Z"
   },
   {
    "duration": 202,
    "start_time": "2022-10-21T07:13:20.951Z"
   },
   {
    "duration": 1003,
    "start_time": "2022-10-21T07:13:21.154Z"
   },
   {
    "duration": 26,
    "start_time": "2022-10-21T07:13:22.158Z"
   },
   {
    "duration": 1435,
    "start_time": "2022-10-21T07:13:22.186Z"
   },
   {
    "duration": 2,
    "start_time": "2022-10-21T07:13:23.623Z"
   },
   {
    "duration": 25,
    "start_time": "2022-10-21T07:13:23.626Z"
   },
   {
    "duration": 2,
    "start_time": "2022-10-21T07:13:23.653Z"
   },
   {
    "duration": 7,
    "start_time": "2022-10-21T07:13:23.657Z"
   },
   {
    "duration": 8,
    "start_time": "2022-10-21T07:13:23.666Z"
   },
   {
    "duration": 7,
    "start_time": "2022-10-21T07:13:23.675Z"
   },
   {
    "duration": 17,
    "start_time": "2022-10-21T07:13:23.683Z"
   },
   {
    "duration": 2,
    "start_time": "2022-10-21T07:13:23.702Z"
   },
   {
    "duration": 4,
    "start_time": "2022-10-21T07:13:23.706Z"
   },
   {
    "duration": 5,
    "start_time": "2022-10-21T07:13:23.712Z"
   },
   {
    "duration": 13,
    "start_time": "2022-10-21T07:13:23.718Z"
   },
   {
    "duration": 12254,
    "start_time": "2022-10-21T07:13:23.732Z"
   },
   {
    "duration": 1503166,
    "start_time": "2022-10-21T07:13:35.987Z"
   },
   {
    "duration": 1147,
    "start_time": "2022-10-21T07:38:39.155Z"
   },
   {
    "duration": 831,
    "start_time": "2022-10-21T07:38:40.307Z"
   },
   {
    "duration": 54,
    "start_time": "2022-10-21T08:18:04.800Z"
   },
   {
    "duration": 33821,
    "start_time": "2022-10-21T08:21:55.941Z"
   },
   {
    "duration": 49,
    "start_time": "2022-10-21T08:27:40.292Z"
   },
   {
    "duration": 4,
    "start_time": "2022-10-21T08:28:09.621Z"
   },
   {
    "duration": 55,
    "start_time": "2022-10-21T08:28:12.910Z"
   },
   {
    "duration": 680,
    "start_time": "2022-10-21T08:28:32.472Z"
   },
   {
    "duration": 58,
    "start_time": "2022-10-21T08:33:01.077Z"
   },
   {
    "duration": 3,
    "start_time": "2022-10-21T08:33:09.878Z"
   },
   {
    "duration": 4,
    "start_time": "2022-10-21T08:34:03.997Z"
   },
   {
    "duration": 65,
    "start_time": "2022-10-21T08:35:27.238Z"
   },
   {
    "duration": 3,
    "start_time": "2022-10-21T08:35:53.488Z"
   },
   {
    "duration": 7,
    "start_time": "2022-10-21T08:35:57.623Z"
   },
   {
    "duration": 794,
    "start_time": "2022-10-21T08:36:03.623Z"
   },
   {
    "duration": 759,
    "start_time": "2022-10-21T08:50:43.469Z"
   },
   {
    "duration": 1303,
    "start_time": "2022-10-21T08:52:15.710Z"
   },
   {
    "duration": 3,
    "start_time": "2022-10-21T08:52:17.015Z"
   },
   {
    "duration": 586,
    "start_time": "2022-10-21T08:52:17.019Z"
   },
   {
    "duration": 5,
    "start_time": "2022-10-21T08:52:17.606Z"
   },
   {
    "duration": 248,
    "start_time": "2022-10-21T08:52:17.612Z"
   },
   {
    "duration": 147,
    "start_time": "2022-10-21T08:52:17.862Z"
   },
   {
    "duration": 284,
    "start_time": "2022-10-21T08:52:18.011Z"
   },
   {
    "duration": 3,
    "start_time": "2022-10-21T08:52:18.299Z"
   },
   {
    "duration": 15,
    "start_time": "2022-10-21T08:52:18.303Z"
   },
   {
    "duration": 27,
    "start_time": "2022-10-21T08:52:18.320Z"
   },
   {
    "duration": 3,
    "start_time": "2022-10-21T08:52:18.348Z"
   },
   {
    "duration": 8,
    "start_time": "2022-10-21T08:52:18.352Z"
   },
   {
    "duration": 6,
    "start_time": "2022-10-21T08:52:18.362Z"
   },
   {
    "duration": 9,
    "start_time": "2022-10-21T08:52:18.369Z"
   },
   {
    "duration": 18,
    "start_time": "2022-10-21T08:52:18.380Z"
   },
   {
    "duration": 5,
    "start_time": "2022-10-21T08:52:18.400Z"
   },
   {
    "duration": 32,
    "start_time": "2022-10-21T08:52:18.406Z"
   },
   {
    "duration": 13,
    "start_time": "2022-10-21T08:52:18.439Z"
   },
   {
    "duration": 15,
    "start_time": "2022-10-21T08:52:18.454Z"
   },
   {
    "duration": 4629,
    "start_time": "2022-10-21T08:52:18.471Z"
   },
   {
    "duration": 199,
    "start_time": "2022-10-21T08:52:23.102Z"
   },
   {
    "duration": 1025,
    "start_time": "2022-10-21T08:52:23.303Z"
   },
   {
    "duration": 28,
    "start_time": "2022-10-21T08:52:24.330Z"
   },
   {
    "duration": 1489,
    "start_time": "2022-10-21T08:52:24.360Z"
   },
   {
    "duration": 15,
    "start_time": "2022-10-21T08:52:25.851Z"
   },
   {
    "duration": 29,
    "start_time": "2022-10-21T08:52:25.867Z"
   },
   {
    "duration": 12,
    "start_time": "2022-10-21T08:52:25.897Z"
   },
   {
    "duration": 35,
    "start_time": "2022-10-21T08:52:25.912Z"
   },
   {
    "duration": 38,
    "start_time": "2022-10-21T08:52:25.948Z"
   },
   {
    "duration": 38,
    "start_time": "2022-10-21T08:52:25.988Z"
   },
   {
    "duration": 12008,
    "start_time": "2022-10-21T08:52:26.028Z"
   },
   {
    "duration": 1490114,
    "start_time": "2022-10-21T08:52:38.038Z"
   },
   {
    "duration": 1045,
    "start_time": "2022-10-21T09:17:28.154Z"
   },
   {
    "duration": 844,
    "start_time": "2022-10-21T09:17:29.203Z"
   },
   {
    "duration": 4,
    "start_time": "2022-10-21T14:10:51.834Z"
   },
   {
    "duration": 1652,
    "start_time": "2022-10-21T15:51:49.648Z"
   },
   {
    "duration": 3,
    "start_time": "2022-10-21T15:51:53.573Z"
   },
   {
    "duration": 1463,
    "start_time": "2022-10-21T15:51:55.350Z"
   },
   {
    "duration": 4,
    "start_time": "2022-10-21T15:52:07.845Z"
   },
   {
    "duration": 280,
    "start_time": "2022-10-21T15:52:09.389Z"
   },
   {
    "duration": 200,
    "start_time": "2022-10-21T15:52:11.646Z"
   },
   {
    "duration": 300,
    "start_time": "2022-10-21T15:52:14.254Z"
   },
   {
    "duration": 4,
    "start_time": "2022-10-21T15:52:18.054Z"
   },
   {
    "duration": 14,
    "start_time": "2022-10-21T15:52:19.726Z"
   },
   {
    "duration": 3,
    "start_time": "2022-10-21T15:52:44.584Z"
   },
   {
    "duration": 8,
    "start_time": "2022-10-21T15:52:49.710Z"
   },
   {
    "duration": 3,
    "start_time": "2022-10-21T15:52:56.606Z"
   },
   {
    "duration": 8,
    "start_time": "2022-10-21T15:52:57.950Z"
   },
   {
    "duration": 7,
    "start_time": "2022-10-21T15:53:00.118Z"
   },
   {
    "duration": 31,
    "start_time": "2022-10-21T15:53:06.800Z"
   },
   {
    "duration": 7,
    "start_time": "2022-10-21T15:53:28.263Z"
   },
   {
    "duration": 8,
    "start_time": "2022-10-21T15:53:42.167Z"
   },
   {
    "duration": 15,
    "start_time": "2022-10-21T15:55:53.554Z"
   },
   {
    "duration": 5003,
    "start_time": "2022-10-21T15:57:53.453Z"
   },
   {
    "duration": 234,
    "start_time": "2022-10-21T15:58:01.859Z"
   },
   {
    "duration": 1159,
    "start_time": "2022-10-21T15:58:25.165Z"
   },
   {
    "duration": 31,
    "start_time": "2022-10-21T15:58:36.125Z"
   },
   {
    "duration": 1791,
    "start_time": "2022-10-21T15:58:39.238Z"
   },
   {
    "duration": 21,
    "start_time": "2022-10-21T15:58:44.421Z"
   },
   {
    "duration": 7,
    "start_time": "2022-10-21T16:02:47.539Z"
   },
   {
    "duration": 4,
    "start_time": "2022-10-21T16:02:50.970Z"
   },
   {
    "duration": 4,
    "start_time": "2022-10-21T16:02:52.777Z"
   },
   {
    "duration": 3,
    "start_time": "2022-10-21T16:02:58.825Z"
   },
   {
    "duration": 9,
    "start_time": "2022-10-21T16:04:00.492Z"
   },
   {
    "duration": 13590,
    "start_time": "2022-10-21T16:04:02.211Z"
   },
   {
    "duration": 1671537,
    "start_time": "2022-10-21T16:07:07.584Z"
   },
   {
    "duration": 1131,
    "start_time": "2022-10-21T16:34:59.123Z"
   },
   {
    "duration": 950,
    "start_time": "2022-10-21T16:35:55.506Z"
   },
   {
    "duration": 5,
    "start_time": "2022-10-21T16:46:09.701Z"
   },
   {
    "duration": 4,
    "start_time": "2022-10-21T16:46:46.478Z"
   },
   {
    "duration": 898,
    "start_time": "2022-10-21T16:47:52.760Z"
   },
   {
    "duration": 851,
    "start_time": "2022-10-21T16:48:33.672Z"
   },
   {
    "duration": 4,
    "start_time": "2022-10-21T16:49:28.194Z"
   },
   {
    "duration": 121,
    "start_time": "2022-10-21T16:50:38.755Z"
   },
   {
    "duration": 36,
    "start_time": "2022-10-21T16:51:04.300Z"
   },
   {
    "duration": 9,
    "start_time": "2022-10-21T16:53:23.239Z"
   },
   {
    "duration": 3,
    "start_time": "2022-10-21T16:53:27.334Z"
   },
   {
    "duration": 10,
    "start_time": "2022-10-21T16:53:47.447Z"
   },
   {
    "duration": 5,
    "start_time": "2022-10-21T16:54:13.992Z"
   },
   {
    "duration": 3,
    "start_time": "2022-10-21T16:54:18.544Z"
   },
   {
    "duration": 3,
    "start_time": "2022-10-21T16:58:40.701Z"
   },
   {
    "duration": 27,
    "start_time": "2022-10-21T16:59:15.710Z"
   },
   {
    "duration": 107575,
    "start_time": "2022-10-21T17:00:40.744Z"
   },
   {
    "duration": 0,
    "start_time": "2022-10-21T17:09:35.327Z"
   },
   {
    "duration": 5,
    "start_time": "2022-10-21T17:10:03.770Z"
   },
   {
    "duration": 13099,
    "start_time": "2022-10-21T17:10:08.771Z"
   },
   {
    "duration": 2184,
    "start_time": "2022-10-21T17:10:36.257Z"
   },
   {
    "duration": 1512,
    "start_time": "2022-10-21T19:00:59.976Z"
   },
   {
    "duration": 4,
    "start_time": "2022-10-21T19:01:01.491Z"
   },
   {
    "duration": 791,
    "start_time": "2022-10-21T19:01:01.497Z"
   },
   {
    "duration": 4,
    "start_time": "2022-10-21T19:01:02.290Z"
   },
   {
    "duration": 318,
    "start_time": "2022-10-21T19:01:02.296Z"
   },
   {
    "duration": 199,
    "start_time": "2022-10-21T19:01:02.616Z"
   },
   {
    "duration": 319,
    "start_time": "2022-10-21T19:01:02.817Z"
   },
   {
    "duration": 16,
    "start_time": "2022-10-21T19:01:03.138Z"
   },
   {
    "duration": 67,
    "start_time": "2022-10-21T19:01:03.156Z"
   },
   {
    "duration": 19,
    "start_time": "2022-10-21T19:01:03.226Z"
   },
   {
    "duration": 30,
    "start_time": "2022-10-21T19:01:03.247Z"
   },
   {
    "duration": 40,
    "start_time": "2022-10-21T19:01:03.279Z"
   },
   {
    "duration": 37,
    "start_time": "2022-10-21T19:01:03.321Z"
   },
   {
    "duration": 65,
    "start_time": "2022-10-21T19:01:03.360Z"
   },
   {
    "duration": 10,
    "start_time": "2022-10-21T19:01:03.427Z"
   },
   {
    "duration": 68,
    "start_time": "2022-10-21T19:01:03.439Z"
   },
   {
    "duration": 10,
    "start_time": "2022-10-21T19:01:03.509Z"
   },
   {
    "duration": 34,
    "start_time": "2022-10-21T19:01:03.520Z"
   },
   {
    "duration": 5173,
    "start_time": "2022-10-21T19:01:03.557Z"
   },
   {
    "duration": 240,
    "start_time": "2022-10-21T19:01:08.732Z"
   },
   {
    "duration": 1168,
    "start_time": "2022-10-21T19:01:08.974Z"
   },
   {
    "duration": 38,
    "start_time": "2022-10-21T19:01:10.144Z"
   },
   {
    "duration": 1886,
    "start_time": "2022-10-21T19:01:10.185Z"
   },
   {
    "duration": 25,
    "start_time": "2022-10-21T19:01:12.073Z"
   },
   {
    "duration": 8,
    "start_time": "2022-10-21T19:01:12.100Z"
   },
   {
    "duration": 8,
    "start_time": "2022-10-21T19:01:12.110Z"
   },
   {
    "duration": 13,
    "start_time": "2022-10-21T19:01:12.120Z"
   },
   {
    "duration": 3,
    "start_time": "2022-10-21T19:01:12.158Z"
   },
   {
    "duration": 16,
    "start_time": "2022-10-21T19:01:12.163Z"
   },
   {
    "duration": 13884,
    "start_time": "2022-10-21T19:01:12.181Z"
   },
   {
    "duration": 1690417,
    "start_time": "2022-10-21T19:01:26.067Z"
   },
   {
    "duration": 1693,
    "start_time": "2022-10-21T19:29:36.486Z"
   },
   {
    "duration": 957,
    "start_time": "2022-10-21T19:29:38.182Z"
   },
   {
    "duration": 41,
    "start_time": "2022-10-21T19:29:39.141Z"
   },
   {
    "duration": 2496,
    "start_time": "2022-10-21T19:48:06.453Z"
   },
   {
    "duration": 9,
    "start_time": "2022-10-21T19:48:22.960Z"
   },
   {
    "duration": 11,
    "start_time": "2022-10-21T19:48:48.463Z"
   },
   {
    "duration": 1697,
    "start_time": "2022-10-23T11:47:55.061Z"
   },
   {
    "duration": 3,
    "start_time": "2022-10-23T11:47:56.761Z"
   },
   {
    "duration": 1442,
    "start_time": "2022-10-23T11:47:56.765Z"
   },
   {
    "duration": 4,
    "start_time": "2022-10-23T11:47:58.210Z"
   },
   {
    "duration": 298,
    "start_time": "2022-10-23T11:47:58.216Z"
   },
   {
    "duration": 186,
    "start_time": "2022-10-23T11:47:58.516Z"
   },
   {
    "duration": 312,
    "start_time": "2022-10-23T11:47:58.704Z"
   },
   {
    "duration": 3,
    "start_time": "2022-10-23T11:47:59.018Z"
   },
   {
    "duration": 31,
    "start_time": "2022-10-23T11:47:59.023Z"
   },
   {
    "duration": 7,
    "start_time": "2022-10-23T11:47:59.056Z"
   },
   {
    "duration": 16,
    "start_time": "2022-10-23T11:47:59.065Z"
   },
   {
    "duration": 15,
    "start_time": "2022-10-23T11:47:59.082Z"
   },
   {
    "duration": 7,
    "start_time": "2022-10-23T11:47:59.099Z"
   },
   {
    "duration": 64,
    "start_time": "2022-10-23T11:47:59.108Z"
   },
   {
    "duration": 7,
    "start_time": "2022-10-23T11:47:59.174Z"
   },
   {
    "duration": 17,
    "start_time": "2022-10-23T11:47:59.182Z"
   },
   {
    "duration": 8,
    "start_time": "2022-10-23T11:47:59.201Z"
   },
   {
    "duration": 20,
    "start_time": "2022-10-23T11:47:59.211Z"
   },
   {
    "duration": 5042,
    "start_time": "2022-10-23T11:47:59.253Z"
   },
   {
    "duration": 233,
    "start_time": "2022-10-23T11:48:04.296Z"
   },
   {
    "duration": 1167,
    "start_time": "2022-10-23T11:48:04.530Z"
   },
   {
    "duration": 29,
    "start_time": "2022-10-23T11:48:05.699Z"
   },
   {
    "duration": 1632,
    "start_time": "2022-10-23T11:48:05.730Z"
   },
   {
    "duration": 26,
    "start_time": "2022-10-23T11:48:07.364Z"
   },
   {
    "duration": 7,
    "start_time": "2022-10-23T11:48:07.392Z"
   },
   {
    "duration": 10,
    "start_time": "2022-10-23T11:48:07.401Z"
   },
   {
    "duration": 8,
    "start_time": "2022-10-23T11:48:07.413Z"
   },
   {
    "duration": 15,
    "start_time": "2022-10-23T11:48:07.425Z"
   },
   {
    "duration": 20,
    "start_time": "2022-10-23T11:48:07.441Z"
   },
   {
    "duration": 13657,
    "start_time": "2022-10-23T11:48:07.464Z"
   },
   {
    "duration": 1667057,
    "start_time": "2022-10-23T11:48:21.122Z"
   },
   {
    "duration": 976,
    "start_time": "2022-10-23T12:16:08.181Z"
   },
   {
    "duration": 917,
    "start_time": "2022-10-23T12:16:09.159Z"
   },
   {
    "duration": 8,
    "start_time": "2022-10-23T12:16:10.078Z"
   },
   {
    "duration": 5,
    "start_time": "2022-10-23T20:45:01.656Z"
   },
   {
    "duration": 13418,
    "start_time": "2022-10-23T20:45:04.784Z"
   },
   {
    "duration": 1540,
    "start_time": "2022-10-24T16:42:09.879Z"
   },
   {
    "duration": 3,
    "start_time": "2022-10-24T16:42:11.421Z"
   },
   {
    "duration": 1903,
    "start_time": "2022-10-24T16:42:11.425Z"
   },
   {
    "duration": 4,
    "start_time": "2022-10-24T16:42:13.329Z"
   },
   {
    "duration": 292,
    "start_time": "2022-10-24T16:42:13.335Z"
   },
   {
    "duration": 181,
    "start_time": "2022-10-24T16:42:13.630Z"
   },
   {
    "duration": 318,
    "start_time": "2022-10-24T16:42:13.813Z"
   },
   {
    "duration": 4,
    "start_time": "2022-10-24T16:42:14.133Z"
   },
   {
    "duration": 32,
    "start_time": "2022-10-24T16:42:14.138Z"
   },
   {
    "duration": 16,
    "start_time": "2022-10-24T16:42:14.171Z"
   },
   {
    "duration": 32,
    "start_time": "2022-10-24T16:42:14.189Z"
   },
   {
    "duration": 29,
    "start_time": "2022-10-24T16:42:14.223Z"
   },
   {
    "duration": 25,
    "start_time": "2022-10-24T16:42:14.253Z"
   },
   {
    "duration": 42,
    "start_time": "2022-10-24T16:42:14.281Z"
   },
   {
    "duration": 20,
    "start_time": "2022-10-24T16:42:14.324Z"
   },
   {
    "duration": 30,
    "start_time": "2022-10-24T16:42:14.346Z"
   },
   {
    "duration": 17,
    "start_time": "2022-10-24T16:42:14.378Z"
   },
   {
    "duration": 38,
    "start_time": "2022-10-24T16:42:14.397Z"
   },
   {
    "duration": 5212,
    "start_time": "2022-10-24T16:42:14.437Z"
   },
   {
    "duration": 262,
    "start_time": "2022-10-24T16:42:19.651Z"
   },
   {
    "duration": 1191,
    "start_time": "2022-10-24T16:42:19.915Z"
   },
   {
    "duration": 40,
    "start_time": "2022-10-24T16:42:21.108Z"
   },
   {
    "duration": 1848,
    "start_time": "2022-10-24T16:42:21.150Z"
   },
   {
    "duration": 31,
    "start_time": "2022-10-24T16:42:23.001Z"
   },
   {
    "duration": 8,
    "start_time": "2022-10-24T16:42:23.034Z"
   },
   {
    "duration": 5,
    "start_time": "2022-10-24T16:42:23.044Z"
   },
   {
    "duration": 5,
    "start_time": "2022-10-24T16:42:23.050Z"
   },
   {
    "duration": 7,
    "start_time": "2022-10-24T16:42:23.056Z"
   },
   {
    "duration": 10,
    "start_time": "2022-10-24T16:42:23.064Z"
   },
   {
    "duration": 14801,
    "start_time": "2022-10-24T16:42:23.075Z"
   },
   {
    "duration": 1765469,
    "start_time": "2022-10-24T16:42:37.877Z"
   },
   {
    "duration": 3484,
    "start_time": "2022-10-24T17:12:03.348Z"
   },
   {
    "duration": 954,
    "start_time": "2022-10-24T17:12:06.835Z"
   },
   {
    "duration": 9,
    "start_time": "2022-10-24T17:12:07.791Z"
   },
   {
    "duration": 169,
    "start_time": "2022-10-24T17:32:10.147Z"
   },
   {
    "duration": 3,
    "start_time": "2022-10-24T17:32:12.802Z"
   },
   {
    "duration": 5,
    "start_time": "2022-10-24T17:32:20.338Z"
   },
   {
    "duration": 5,
    "start_time": "2022-10-24T17:32:31.714Z"
   },
   {
    "duration": 4,
    "start_time": "2022-10-24T17:37:55.817Z"
   },
   {
    "duration": 15,
    "start_time": "2022-10-24T17:39:46.141Z"
   },
   {
    "duration": 15,
    "start_time": "2022-10-24T17:40:00.579Z"
   },
   {
    "duration": 10,
    "start_time": "2022-10-24T17:46:29.892Z"
   },
   {
    "duration": 14,
    "start_time": "2022-10-24T17:46:38.276Z"
   },
   {
    "duration": 5,
    "start_time": "2022-10-24T17:47:40.924Z"
   },
   {
    "duration": 69,
    "start_time": "2022-10-24T17:48:44.816Z"
   },
   {
    "duration": 6,
    "start_time": "2022-10-24T17:48:52.511Z"
   },
   {
    "duration": 4,
    "start_time": "2022-10-24T17:49:00.441Z"
   },
   {
    "duration": 3,
    "start_time": "2022-10-24T17:53:56.461Z"
   },
   {
    "duration": 4,
    "start_time": "2022-10-24T17:54:02.750Z"
   },
   {
    "duration": 5,
    "start_time": "2022-10-24T17:55:19.894Z"
   },
   {
    "duration": 4,
    "start_time": "2022-10-24T17:55:26.247Z"
   },
   {
    "duration": 5,
    "start_time": "2022-10-24T17:56:48.844Z"
   },
   {
    "duration": 3,
    "start_time": "2022-10-24T17:57:42.866Z"
   },
   {
    "duration": 3,
    "start_time": "2022-10-24T17:57:49.883Z"
   },
   {
    "duration": 5,
    "start_time": "2022-10-24T17:57:59.683Z"
   },
   {
    "duration": 5863,
    "start_time": "2022-10-24T17:58:07.342Z"
   },
   {
    "duration": 1985,
    "start_time": "2022-10-24T17:58:23.959Z"
   },
   {
    "duration": 1966,
    "start_time": "2022-10-24T17:58:32.644Z"
   },
   {
    "duration": 5646,
    "start_time": "2022-10-24T17:58:50.396Z"
   },
   {
    "duration": 24,
    "start_time": "2022-10-24T18:00:05.001Z"
   },
   {
    "duration": 8,
    "start_time": "2022-10-24T18:01:15.544Z"
   },
   {
    "duration": 9,
    "start_time": "2022-10-24T18:01:27.448Z"
   },
   {
    "duration": 552,
    "start_time": "2022-10-24T18:01:32.351Z"
   },
   {
    "duration": 7,
    "start_time": "2022-10-24T18:01:42.146Z"
   },
   {
    "duration": 4,
    "start_time": "2022-10-24T18:02:04.281Z"
   },
   {
    "duration": 8,
    "start_time": "2022-10-24T18:13:55.444Z"
   },
   {
    "duration": 11,
    "start_time": "2022-10-24T18:19:31.621Z"
   },
   {
    "duration": 2278,
    "start_time": "2022-10-24T18:22:43.498Z"
   },
   {
    "duration": 3,
    "start_time": "2022-10-24T18:23:19.706Z"
   },
   {
    "duration": 13,
    "start_time": "2022-10-24T18:23:30.315Z"
   },
   {
    "duration": 65,
    "start_time": "2022-10-24T18:24:10.449Z"
   },
   {
    "duration": 947,
    "start_time": "2022-10-24T18:38:35.748Z"
   },
   {
    "duration": 10100,
    "start_time": "2022-10-24T18:44:54.577Z"
   },
   {
    "duration": 14,
    "start_time": "2022-10-24T18:46:56.899Z"
   },
   {
    "duration": 4647,
    "start_time": "2022-10-24T18:47:33.043Z"
   },
   {
    "duration": 7726,
    "start_time": "2022-10-24T18:48:06.900Z"
   },
   {
    "duration": 6646,
    "start_time": "2022-10-24T18:56:55.622Z"
   },
   {
    "duration": 8457,
    "start_time": "2022-10-24T18:57:14.294Z"
   },
   {
    "duration": 1045,
    "start_time": "2022-10-24T18:59:30.951Z"
   },
   {
    "duration": 9199,
    "start_time": "2022-10-24T18:59:51.170Z"
   },
   {
    "duration": 1475,
    "start_time": "2022-10-24T19:00:10.956Z"
   },
   {
    "duration": 4695,
    "start_time": "2022-10-24T19:00:13.747Z"
   },
   {
    "duration": 10644,
    "start_time": "2022-10-24T19:02:39.789Z"
   },
   {
    "duration": 11,
    "start_time": "2022-10-24T19:06:11.715Z"
   },
   {
    "duration": 6280,
    "start_time": "2022-10-24T19:06:15.851Z"
   },
   {
    "duration": 2046,
    "start_time": "2022-10-24T19:06:34.515Z"
   },
   {
    "duration": 7719,
    "start_time": "2022-10-24T19:06:55.975Z"
   },
   {
    "duration": 1589,
    "start_time": "2022-10-24T19:07:17.575Z"
   },
   {
    "duration": 83,
    "start_time": "2022-10-24T19:07:52.976Z"
   },
   {
    "duration": 1161,
    "start_time": "2022-10-24T19:07:59.751Z"
   },
   {
    "duration": 3,
    "start_time": "2022-10-24T19:09:47.339Z"
   },
   {
    "duration": 1506,
    "start_time": "2022-10-24T19:09:47.344Z"
   },
   {
    "duration": 1949,
    "start_time": "2022-10-24T19:09:48.852Z"
   },
   {
    "duration": 3,
    "start_time": "2022-10-24T19:09:50.803Z"
   },
   {
    "duration": 693,
    "start_time": "2022-10-24T19:09:50.808Z"
   },
   {
    "duration": 4,
    "start_time": "2022-10-24T19:09:51.503Z"
   },
   {
    "duration": 294,
    "start_time": "2022-10-24T19:09:51.508Z"
   },
   {
    "duration": 176,
    "start_time": "2022-10-24T19:09:51.804Z"
   },
   {
    "duration": 649,
    "start_time": "2022-10-24T19:09:51.982Z"
   },
   {
    "duration": 4,
    "start_time": "2022-10-24T19:09:52.632Z"
   },
   {
    "duration": 22,
    "start_time": "2022-10-24T19:09:52.638Z"
   },
   {
    "duration": 9,
    "start_time": "2022-10-24T19:09:52.662Z"
   },
   {
    "duration": 56,
    "start_time": "2022-10-24T19:09:52.675Z"
   },
   {
    "duration": 14,
    "start_time": "2022-10-24T19:09:52.733Z"
   },
   {
    "duration": 8,
    "start_time": "2022-10-24T19:09:52.749Z"
   },
   {
    "duration": 87,
    "start_time": "2022-10-24T19:09:52.759Z"
   },
   {
    "duration": 13,
    "start_time": "2022-10-24T19:09:52.847Z"
   },
   {
    "duration": 20,
    "start_time": "2022-10-24T19:09:52.862Z"
   },
   {
    "duration": 47,
    "start_time": "2022-10-24T19:09:52.883Z"
   },
   {
    "duration": 28,
    "start_time": "2022-10-24T19:09:52.932Z"
   },
   {
    "duration": 5444,
    "start_time": "2022-10-24T19:09:52.962Z"
   },
   {
    "duration": 351,
    "start_time": "2022-10-24T19:09:58.408Z"
   },
   {
    "duration": 958,
    "start_time": "2022-10-24T19:09:58.761Z"
   },
   {
    "duration": 32,
    "start_time": "2022-10-24T19:09:59.721Z"
   },
   {
    "duration": 1704,
    "start_time": "2022-10-24T19:09:59.755Z"
   },
   {
    "duration": 20,
    "start_time": "2022-10-24T19:10:01.461Z"
   },
   {
    "duration": 25,
    "start_time": "2022-10-24T19:10:01.484Z"
   },
   {
    "duration": 26,
    "start_time": "2022-10-24T19:10:01.512Z"
   },
   {
    "duration": 20,
    "start_time": "2022-10-24T19:10:01.540Z"
   },
   {
    "duration": 41,
    "start_time": "2022-10-24T19:10:01.562Z"
   },
   {
    "duration": 25,
    "start_time": "2022-10-24T19:10:01.605Z"
   },
   {
    "duration": 14460,
    "start_time": "2022-10-24T19:10:01.632Z"
   },
   {
    "duration": 1792919,
    "start_time": "2022-10-24T19:10:16.094Z"
   },
   {
    "duration": 1020,
    "start_time": "2022-10-24T19:40:09.015Z"
   },
   {
    "duration": 1027,
    "start_time": "2022-10-24T19:40:10.037Z"
   },
   {
    "duration": 9,
    "start_time": "2022-10-24T19:40:11.065Z"
   },
   {
    "duration": 8,
    "start_time": "2022-10-24T19:40:11.077Z"
   },
   {
    "duration": 5,
    "start_time": "2022-10-24T19:40:11.087Z"
   },
   {
    "duration": 3,
    "start_time": "2022-10-24T19:43:28.719Z"
   },
   {
    "duration": 194,
    "start_time": "2022-10-24T19:45:25.928Z"
   },
   {
    "duration": 32,
    "start_time": "2022-10-24T19:46:59.066Z"
   },
   {
    "duration": 599,
    "start_time": "2022-10-24T19:47:23.626Z"
   },
   {
    "duration": 45,
    "start_time": "2022-10-24T19:48:41.757Z"
   },
   {
    "duration": 2596,
    "start_time": "2022-10-24T19:50:27.383Z"
   },
   {
    "duration": 18,
    "start_time": "2022-10-24T19:50:58.487Z"
   },
   {
    "duration": 4,
    "start_time": "2022-10-24T19:51:06.306Z"
   },
   {
    "duration": 30,
    "start_time": "2022-10-24T19:51:06.312Z"
   },
   {
    "duration": 772,
    "start_time": "2022-10-24T19:51:06.344Z"
   },
   {
    "duration": 0,
    "start_time": "2022-10-24T19:51:07.120Z"
   },
   {
    "duration": 0,
    "start_time": "2022-10-24T19:51:07.122Z"
   },
   {
    "duration": 0,
    "start_time": "2022-10-24T19:51:07.123Z"
   },
   {
    "duration": 0,
    "start_time": "2022-10-24T19:51:07.130Z"
   },
   {
    "duration": 0,
    "start_time": "2022-10-24T19:51:07.131Z"
   },
   {
    "duration": 0,
    "start_time": "2022-10-24T19:51:07.133Z"
   },
   {
    "duration": 0,
    "start_time": "2022-10-24T19:51:07.134Z"
   },
   {
    "duration": 0,
    "start_time": "2022-10-24T19:51:07.135Z"
   },
   {
    "duration": 0,
    "start_time": "2022-10-24T19:51:07.136Z"
   },
   {
    "duration": 0,
    "start_time": "2022-10-24T19:51:07.137Z"
   },
   {
    "duration": 0,
    "start_time": "2022-10-24T19:51:07.138Z"
   },
   {
    "duration": 0,
    "start_time": "2022-10-24T19:51:07.139Z"
   },
   {
    "duration": 0,
    "start_time": "2022-10-24T19:51:07.140Z"
   },
   {
    "duration": 0,
    "start_time": "2022-10-24T19:51:07.141Z"
   },
   {
    "duration": 0,
    "start_time": "2022-10-24T19:51:07.142Z"
   },
   {
    "duration": 0,
    "start_time": "2022-10-24T19:51:07.143Z"
   },
   {
    "duration": 0,
    "start_time": "2022-10-24T19:51:07.144Z"
   },
   {
    "duration": 0,
    "start_time": "2022-10-24T19:51:07.145Z"
   },
   {
    "duration": 0,
    "start_time": "2022-10-24T19:51:07.146Z"
   },
   {
    "duration": 1,
    "start_time": "2022-10-24T19:51:07.147Z"
   },
   {
    "duration": 0,
    "start_time": "2022-10-24T19:51:07.149Z"
   },
   {
    "duration": 0,
    "start_time": "2022-10-24T19:51:07.150Z"
   },
   {
    "duration": 0,
    "start_time": "2022-10-24T19:51:07.151Z"
   },
   {
    "duration": 0,
    "start_time": "2022-10-24T19:51:07.152Z"
   },
   {
    "duration": 0,
    "start_time": "2022-10-24T19:51:07.153Z"
   },
   {
    "duration": 0,
    "start_time": "2022-10-24T19:51:07.154Z"
   },
   {
    "duration": 0,
    "start_time": "2022-10-24T19:51:07.155Z"
   },
   {
    "duration": 0,
    "start_time": "2022-10-24T19:51:07.156Z"
   },
   {
    "duration": 0,
    "start_time": "2022-10-24T19:51:07.157Z"
   },
   {
    "duration": 0,
    "start_time": "2022-10-24T19:51:07.158Z"
   },
   {
    "duration": 0,
    "start_time": "2022-10-24T19:51:07.159Z"
   },
   {
    "duration": 0,
    "start_time": "2022-10-24T19:51:07.160Z"
   },
   {
    "duration": 0,
    "start_time": "2022-10-24T19:51:07.161Z"
   },
   {
    "duration": 0,
    "start_time": "2022-10-24T19:51:07.162Z"
   },
   {
    "duration": 0,
    "start_time": "2022-10-24T19:51:07.163Z"
   },
   {
    "duration": 0,
    "start_time": "2022-10-24T19:51:07.164Z"
   },
   {
    "duration": 0,
    "start_time": "2022-10-24T19:51:07.165Z"
   },
   {
    "duration": 0,
    "start_time": "2022-10-24T19:51:07.166Z"
   },
   {
    "duration": 0,
    "start_time": "2022-10-24T19:51:07.167Z"
   },
   {
    "duration": 3,
    "start_time": "2022-10-24T19:51:15.124Z"
   },
   {
    "duration": 2353,
    "start_time": "2022-10-24T19:51:17.292Z"
   },
   {
    "duration": 13,
    "start_time": "2022-10-24T19:51:21.997Z"
   },
   {
    "duration": 770,
    "start_time": "2022-10-24T19:51:40.310Z"
   },
   {
    "duration": 2195,
    "start_time": "2022-10-24T19:52:08.447Z"
   },
   {
    "duration": 838,
    "start_time": "2022-10-24T19:52:18.719Z"
   },
   {
    "duration": 4,
    "start_time": "2022-10-24T19:52:28.736Z"
   },
   {
    "duration": 4,
    "start_time": "2022-10-24T19:52:28.741Z"
   },
   {
    "duration": 1434,
    "start_time": "2022-10-24T19:52:28.747Z"
   },
   {
    "duration": 2352,
    "start_time": "2022-10-24T19:52:30.182Z"
   },
   {
    "duration": 3,
    "start_time": "2022-10-24T19:52:32.537Z"
   },
   {
    "duration": 1237,
    "start_time": "2022-10-24T19:52:32.542Z"
   },
   {
    "duration": 5,
    "start_time": "2022-10-24T19:52:33.781Z"
   },
   {
    "duration": 297,
    "start_time": "2022-10-24T19:52:33.788Z"
   },
   {
    "duration": 174,
    "start_time": "2022-10-24T19:52:34.088Z"
   },
   {
    "duration": 322,
    "start_time": "2022-10-24T19:52:34.265Z"
   },
   {
    "duration": 4,
    "start_time": "2022-10-24T19:52:34.590Z"
   },
   {
    "duration": 34,
    "start_time": "2022-10-24T19:52:34.596Z"
   },
   {
    "duration": 7,
    "start_time": "2022-10-24T19:52:34.632Z"
   },
   {
    "duration": 4,
    "start_time": "2022-10-24T19:52:34.641Z"
   },
   {
    "duration": 10,
    "start_time": "2022-10-24T19:52:34.646Z"
   },
   {
    "duration": 6,
    "start_time": "2022-10-24T19:52:34.657Z"
   },
   {
    "duration": 29,
    "start_time": "2022-10-24T19:52:34.664Z"
   },
   {
    "duration": 39,
    "start_time": "2022-10-24T19:52:34.695Z"
   },
   {
    "duration": 10,
    "start_time": "2022-10-24T19:52:34.735Z"
   },
   {
    "duration": 3,
    "start_time": "2022-10-24T19:52:34.746Z"
   },
   {
    "duration": 13,
    "start_time": "2022-10-24T19:52:34.751Z"
   },
   {
    "duration": 5125,
    "start_time": "2022-10-24T19:52:34.766Z"
   },
   {
    "duration": 332,
    "start_time": "2022-10-24T19:52:39.893Z"
   },
   {
    "duration": 991,
    "start_time": "2022-10-24T19:52:40.227Z"
   },
   {
    "duration": 34,
    "start_time": "2022-10-24T19:52:41.221Z"
   },
   {
    "duration": 1646,
    "start_time": "2022-10-24T19:52:41.258Z"
   },
   {
    "duration": 30,
    "start_time": "2022-10-24T19:52:42.906Z"
   },
   {
    "duration": 8,
    "start_time": "2022-10-24T19:52:42.938Z"
   },
   {
    "duration": 4,
    "start_time": "2022-10-24T19:52:42.949Z"
   },
   {
    "duration": 4,
    "start_time": "2022-10-24T19:52:42.955Z"
   },
   {
    "duration": 4,
    "start_time": "2022-10-24T19:52:42.960Z"
   },
   {
    "duration": 8,
    "start_time": "2022-10-24T19:52:42.966Z"
   },
   {
    "duration": 14072,
    "start_time": "2022-10-24T19:52:42.976Z"
   },
   {
    "duration": 1776943,
    "start_time": "2022-10-24T19:52:57.050Z"
   },
   {
    "duration": 1140,
    "start_time": "2022-10-24T20:22:33.995Z"
   },
   {
    "duration": 946,
    "start_time": "2022-10-24T20:22:35.137Z"
   },
   {
    "duration": 8,
    "start_time": "2022-10-24T20:22:36.085Z"
   },
   {
    "duration": 4,
    "start_time": "2022-10-24T20:22:36.094Z"
   },
   {
    "duration": 12,
    "start_time": "2022-10-24T20:22:36.099Z"
   },
   {
    "duration": 16,
    "start_time": "2022-10-24T20:22:36.113Z"
   },
   {
    "duration": 33,
    "start_time": "2022-10-24T20:22:36.131Z"
   },
   {
    "duration": 154,
    "start_time": "2022-10-24T20:22:36.166Z"
   },
   {
    "duration": 7,
    "start_time": "2022-10-25T11:08:28.851Z"
   },
   {
    "duration": 6,
    "start_time": "2022-10-25T11:08:28.863Z"
   },
   {
    "duration": 1999,
    "start_time": "2022-10-25T11:08:28.871Z"
   },
   {
    "duration": 0,
    "start_time": "2022-10-25T11:08:30.873Z"
   },
   {
    "duration": 0,
    "start_time": "2022-10-25T11:08:30.874Z"
   },
   {
    "duration": 0,
    "start_time": "2022-10-25T11:08:30.875Z"
   },
   {
    "duration": 0,
    "start_time": "2022-10-25T11:08:30.876Z"
   },
   {
    "duration": 0,
    "start_time": "2022-10-25T11:08:30.877Z"
   },
   {
    "duration": 0,
    "start_time": "2022-10-25T11:08:30.878Z"
   },
   {
    "duration": 0,
    "start_time": "2022-10-25T11:08:30.879Z"
   },
   {
    "duration": 0,
    "start_time": "2022-10-25T11:08:30.881Z"
   },
   {
    "duration": 0,
    "start_time": "2022-10-25T11:08:30.882Z"
   },
   {
    "duration": 0,
    "start_time": "2022-10-25T11:08:30.884Z"
   },
   {
    "duration": 0,
    "start_time": "2022-10-25T11:08:30.885Z"
   },
   {
    "duration": 0,
    "start_time": "2022-10-25T11:08:30.887Z"
   },
   {
    "duration": 0,
    "start_time": "2022-10-25T11:08:30.888Z"
   },
   {
    "duration": 0,
    "start_time": "2022-10-25T11:08:30.890Z"
   },
   {
    "duration": 0,
    "start_time": "2022-10-25T11:08:30.891Z"
   },
   {
    "duration": 0,
    "start_time": "2022-10-25T11:08:30.893Z"
   },
   {
    "duration": 0,
    "start_time": "2022-10-25T11:08:30.894Z"
   },
   {
    "duration": 0,
    "start_time": "2022-10-25T11:08:30.936Z"
   },
   {
    "duration": 0,
    "start_time": "2022-10-25T11:08:30.937Z"
   },
   {
    "duration": 0,
    "start_time": "2022-10-25T11:08:30.939Z"
   },
   {
    "duration": 0,
    "start_time": "2022-10-25T11:08:30.941Z"
   },
   {
    "duration": 0,
    "start_time": "2022-10-25T11:08:30.943Z"
   },
   {
    "duration": 0,
    "start_time": "2022-10-25T11:08:30.944Z"
   },
   {
    "duration": 0,
    "start_time": "2022-10-25T11:08:30.946Z"
   },
   {
    "duration": 0,
    "start_time": "2022-10-25T11:08:30.948Z"
   },
   {
    "duration": 0,
    "start_time": "2022-10-25T11:08:30.953Z"
   },
   {
    "duration": 0,
    "start_time": "2022-10-25T11:08:30.954Z"
   },
   {
    "duration": 0,
    "start_time": "2022-10-25T11:08:30.955Z"
   },
   {
    "duration": 0,
    "start_time": "2022-10-25T11:08:30.956Z"
   },
   {
    "duration": 0,
    "start_time": "2022-10-25T11:08:30.957Z"
   },
   {
    "duration": 1,
    "start_time": "2022-10-25T11:08:30.957Z"
   },
   {
    "duration": 0,
    "start_time": "2022-10-25T11:08:30.958Z"
   },
   {
    "duration": 0,
    "start_time": "2022-10-25T11:08:30.959Z"
   },
   {
    "duration": 0,
    "start_time": "2022-10-25T11:08:30.960Z"
   },
   {
    "duration": 0,
    "start_time": "2022-10-25T11:08:30.961Z"
   },
   {
    "duration": 0,
    "start_time": "2022-10-25T11:08:30.962Z"
   },
   {
    "duration": 0,
    "start_time": "2022-10-25T11:08:30.963Z"
   },
   {
    "duration": 0,
    "start_time": "2022-10-25T11:08:30.964Z"
   },
   {
    "duration": 0,
    "start_time": "2022-10-25T11:08:30.965Z"
   },
   {
    "duration": 2385,
    "start_time": "2022-10-25T11:08:42.187Z"
   },
   {
    "duration": 1579,
    "start_time": "2022-10-25T11:08:45.764Z"
   },
   {
    "duration": 2608,
    "start_time": "2022-10-25T11:08:56.682Z"
   },
   {
    "duration": 4,
    "start_time": "2022-10-25T11:09:07.004Z"
   },
   {
    "duration": 6,
    "start_time": "2022-10-25T11:09:07.011Z"
   },
   {
    "duration": 1854,
    "start_time": "2022-10-25T11:09:07.019Z"
   },
   {
    "duration": 2300,
    "start_time": "2022-10-25T11:09:08.876Z"
   },
   {
    "duration": 3,
    "start_time": "2022-10-25T11:09:11.178Z"
   },
   {
    "duration": 2979,
    "start_time": "2022-10-25T11:09:11.183Z"
   },
   {
    "duration": 4,
    "start_time": "2022-10-25T11:09:14.163Z"
   },
   {
    "duration": 761,
    "start_time": "2022-10-25T11:09:14.169Z"
   },
   {
    "duration": 524,
    "start_time": "2022-10-25T11:09:14.933Z"
   },
   {
    "duration": 976,
    "start_time": "2022-10-25T11:09:15.464Z"
   },
   {
    "duration": 5,
    "start_time": "2022-10-25T11:09:16.443Z"
   },
   {
    "duration": 23,
    "start_time": "2022-10-25T11:09:16.455Z"
   },
   {
    "duration": 8,
    "start_time": "2022-10-25T11:09:16.479Z"
   },
   {
    "duration": 21,
    "start_time": "2022-10-25T11:09:16.489Z"
   },
   {
    "duration": 26,
    "start_time": "2022-10-25T11:09:16.512Z"
   },
   {
    "duration": 13,
    "start_time": "2022-10-25T11:09:16.540Z"
   },
   {
    "duration": 40,
    "start_time": "2022-10-25T11:09:16.554Z"
   },
   {
    "duration": 7,
    "start_time": "2022-10-25T11:09:16.596Z"
   },
   {
    "duration": 27,
    "start_time": "2022-10-25T11:09:16.604Z"
   },
   {
    "duration": 3,
    "start_time": "2022-10-25T11:09:16.633Z"
   },
   {
    "duration": 37,
    "start_time": "2022-10-25T11:09:16.638Z"
   },
   {
    "duration": 6084,
    "start_time": "2022-10-25T11:09:16.676Z"
   },
   {
    "duration": 412,
    "start_time": "2022-10-25T11:09:22.763Z"
   },
   {
    "duration": 1188,
    "start_time": "2022-10-25T11:09:23.178Z"
   },
   {
    "duration": 30,
    "start_time": "2022-10-25T11:09:24.368Z"
   },
   {
    "duration": 1976,
    "start_time": "2022-10-25T11:09:24.400Z"
   },
   {
    "duration": 21,
    "start_time": "2022-10-25T11:09:26.378Z"
   },
   {
    "duration": 45,
    "start_time": "2022-10-25T11:09:26.402Z"
   },
   {
    "duration": 10,
    "start_time": "2022-10-25T11:09:26.453Z"
   },
   {
    "duration": 45,
    "start_time": "2022-10-25T11:09:26.465Z"
   },
   {
    "duration": 46,
    "start_time": "2022-10-25T11:09:26.511Z"
   },
   {
    "duration": 26,
    "start_time": "2022-10-25T11:09:26.559Z"
   },
   {
    "duration": 15872,
    "start_time": "2022-10-25T11:09:26.587Z"
   },
   {
    "duration": 1923015,
    "start_time": "2022-10-25T11:09:42.463Z"
   },
   {
    "duration": 2769,
    "start_time": "2022-10-25T11:41:45.480Z"
   },
   {
    "duration": 1214,
    "start_time": "2022-10-25T11:41:48.258Z"
   },
   {
    "duration": 10,
    "start_time": "2022-10-25T11:41:49.474Z"
   },
   {
    "duration": 4,
    "start_time": "2022-10-25T11:41:49.486Z"
   },
   {
    "duration": 10,
    "start_time": "2022-10-25T11:41:49.492Z"
   },
   {
    "duration": 9,
    "start_time": "2022-10-25T11:41:49.503Z"
   },
   {
    "duration": 54,
    "start_time": "2022-10-25T11:41:49.524Z"
   },
   {
    "duration": 161,
    "start_time": "2022-10-25T11:41:49.580Z"
   },
   {
    "duration": 21,
    "start_time": "2022-10-25T13:47:26.654Z"
   },
   {
    "duration": 9,
    "start_time": "2022-10-25T13:47:47.559Z"
   },
   {
    "duration": 23,
    "start_time": "2022-10-25T13:47:50.454Z"
   },
   {
    "duration": 78,
    "start_time": "2022-10-25T13:48:57.136Z"
   },
   {
    "duration": 33,
    "start_time": "2022-10-25T13:49:24.516Z"
   },
   {
    "duration": 11,
    "start_time": "2022-10-25T13:49:50.133Z"
   },
   {
    "duration": 23,
    "start_time": "2022-10-25T13:53:35.045Z"
   },
   {
    "duration": 3,
    "start_time": "2022-10-25T13:54:48.375Z"
   },
   {
    "duration": 3,
    "start_time": "2022-10-25T13:55:16.096Z"
   },
   {
    "duration": 20,
    "start_time": "2022-10-25T13:55:17.911Z"
   },
   {
    "duration": 6,
    "start_time": "2022-10-25T13:55:24.975Z"
   },
   {
    "duration": 3,
    "start_time": "2022-10-25T13:55:26.799Z"
   },
   {
    "duration": 3,
    "start_time": "2022-10-25T13:55:40.984Z"
   },
   {
    "duration": 10,
    "start_time": "2022-10-25T13:55:51.472Z"
   },
   {
    "duration": 11,
    "start_time": "2022-10-25T13:56:01.264Z"
   },
   {
    "duration": 72,
    "start_time": "2022-10-25T13:56:15.134Z"
   },
   {
    "duration": 4,
    "start_time": "2022-10-25T13:56:17.233Z"
   },
   {
    "duration": 4,
    "start_time": "2022-10-25T13:56:30.553Z"
   },
   {
    "duration": 3,
    "start_time": "2022-10-25T13:56:36.265Z"
   },
   {
    "duration": 2,
    "start_time": "2022-10-25T13:56:40.434Z"
   },
   {
    "duration": 24,
    "start_time": "2022-10-25T13:56:42.746Z"
   },
   {
    "duration": 2,
    "start_time": "2022-10-25T13:57:13.523Z"
   },
   {
    "duration": 23,
    "start_time": "2022-10-25T13:57:15.090Z"
   },
   {
    "duration": 21,
    "start_time": "2022-10-25T14:04:06.099Z"
   },
   {
    "duration": 6,
    "start_time": "2022-10-25T14:05:08.476Z"
   },
   {
    "duration": 3,
    "start_time": "2022-10-25T14:05:10.140Z"
   },
   {
    "duration": 4,
    "start_time": "2022-10-25T14:05:11.691Z"
   },
   {
    "duration": 8,
    "start_time": "2022-10-25T14:05:14.036Z"
   },
   {
    "duration": 35,
    "start_time": "2022-10-25T14:05:16.613Z"
   },
   {
    "duration": 26,
    "start_time": "2022-10-25T14:05:54.596Z"
   },
   {
    "duration": 12,
    "start_time": "2022-10-25T14:06:48.525Z"
   },
   {
    "duration": 23,
    "start_time": "2022-10-25T14:06:53.990Z"
   },
   {
    "duration": 10,
    "start_time": "2022-10-25T14:07:07.222Z"
   },
   {
    "duration": 4,
    "start_time": "2022-10-25T19:57:39.098Z"
   },
   {
    "duration": 3,
    "start_time": "2022-10-25T19:57:39.104Z"
   },
   {
    "duration": 1632,
    "start_time": "2022-10-25T19:57:39.109Z"
   },
   {
    "duration": 2285,
    "start_time": "2022-10-25T19:57:40.744Z"
   },
   {
    "duration": 3,
    "start_time": "2022-10-25T19:57:43.032Z"
   },
   {
    "duration": 787,
    "start_time": "2022-10-25T19:57:43.037Z"
   },
   {
    "duration": 3,
    "start_time": "2022-10-25T19:57:43.826Z"
   },
   {
    "duration": 308,
    "start_time": "2022-10-25T19:57:43.832Z"
   },
   {
    "duration": 183,
    "start_time": "2022-10-25T19:57:44.141Z"
   },
   {
    "duration": 334,
    "start_time": "2022-10-25T19:57:44.325Z"
   },
   {
    "duration": 5,
    "start_time": "2022-10-25T19:57:44.660Z"
   },
   {
    "duration": 18,
    "start_time": "2022-10-25T19:57:44.666Z"
   },
   {
    "duration": 9,
    "start_time": "2022-10-25T19:57:44.686Z"
   },
   {
    "duration": 28,
    "start_time": "2022-10-25T19:57:44.696Z"
   },
   {
    "duration": 10,
    "start_time": "2022-10-25T19:57:44.726Z"
   },
   {
    "duration": 8,
    "start_time": "2022-10-25T19:57:44.738Z"
   },
   {
    "duration": 37,
    "start_time": "2022-10-25T19:57:44.748Z"
   },
   {
    "duration": 7,
    "start_time": "2022-10-25T19:57:44.825Z"
   },
   {
    "duration": 9,
    "start_time": "2022-10-25T19:57:44.835Z"
   },
   {
    "duration": 3,
    "start_time": "2022-10-25T19:57:44.848Z"
   },
   {
    "duration": 19,
    "start_time": "2022-10-25T19:57:44.852Z"
   },
   {
    "duration": 5248,
    "start_time": "2022-10-25T19:57:44.874Z"
   },
   {
    "duration": 406,
    "start_time": "2022-10-25T19:57:50.123Z"
   },
   {
    "duration": 1080,
    "start_time": "2022-10-25T19:57:50.530Z"
   },
   {
    "duration": 38,
    "start_time": "2022-10-25T19:57:51.612Z"
   },
   {
    "duration": 1855,
    "start_time": "2022-10-25T19:57:51.652Z"
   },
   {
    "duration": 28,
    "start_time": "2022-10-25T19:57:53.509Z"
   },
   {
    "duration": 7,
    "start_time": "2022-10-25T19:57:53.539Z"
   },
   {
    "duration": 4,
    "start_time": "2022-10-25T19:57:53.548Z"
   },
   {
    "duration": 13,
    "start_time": "2022-10-25T19:57:53.554Z"
   },
   {
    "duration": 5,
    "start_time": "2022-10-25T19:57:53.569Z"
   },
   {
    "duration": 9,
    "start_time": "2022-10-25T19:57:53.576Z"
   },
   {
    "duration": 15064,
    "start_time": "2022-10-25T19:57:53.587Z"
   },
   {
    "duration": 1869234,
    "start_time": "2022-10-25T19:58:08.653Z"
   },
   {
    "duration": 1145,
    "start_time": "2022-10-25T20:29:17.889Z"
   },
   {
    "duration": 983,
    "start_time": "2022-10-25T20:29:19.124Z"
   },
   {
    "duration": 16,
    "start_time": "2022-10-25T20:29:20.109Z"
   },
   {
    "duration": 4,
    "start_time": "2022-10-25T20:29:20.127Z"
   },
   {
    "duration": 10,
    "start_time": "2022-10-25T20:29:20.132Z"
   },
   {
    "duration": 5,
    "start_time": "2022-10-25T20:29:20.144Z"
   },
   {
    "duration": 5,
    "start_time": "2022-10-25T20:29:20.151Z"
   },
   {
    "duration": 5,
    "start_time": "2022-10-25T20:29:20.158Z"
   },
   {
    "duration": 7,
    "start_time": "2022-10-25T20:29:20.164Z"
   },
   {
    "duration": 4,
    "start_time": "2022-10-25T20:29:20.173Z"
   },
   {
    "duration": 86,
    "start_time": "2022-10-25T20:29:20.179Z"
   },
   {
    "duration": 0,
    "start_time": "2022-10-25T20:29:20.267Z"
   },
   {
    "duration": 1908,
    "start_time": "2022-10-28T12:29:50.125Z"
   },
   {
    "duration": 2091,
    "start_time": "2022-10-28T12:29:53.012Z"
   },
   {
    "duration": 4,
    "start_time": "2022-10-28T12:30:08.068Z"
   },
   {
    "duration": 10,
    "start_time": "2022-10-28T12:30:08.074Z"
   },
   {
    "duration": 1702,
    "start_time": "2022-10-28T12:30:08.085Z"
   },
   {
    "duration": 1848,
    "start_time": "2022-10-28T12:30:09.789Z"
   },
   {
    "duration": 3,
    "start_time": "2022-10-28T12:30:11.640Z"
   },
   {
    "duration": 3196,
    "start_time": "2022-10-28T12:30:11.645Z"
   },
   {
    "duration": 4,
    "start_time": "2022-10-28T12:30:14.843Z"
   },
   {
    "duration": 347,
    "start_time": "2022-10-28T12:30:14.848Z"
   },
   {
    "duration": 196,
    "start_time": "2022-10-28T12:30:15.199Z"
   },
   {
    "duration": 357,
    "start_time": "2022-10-28T12:30:15.397Z"
   },
   {
    "duration": 4,
    "start_time": "2022-10-28T12:30:15.756Z"
   },
   {
    "duration": 44,
    "start_time": "2022-10-28T12:30:15.761Z"
   },
   {
    "duration": 32,
    "start_time": "2022-10-28T12:30:15.807Z"
   },
   {
    "duration": 11,
    "start_time": "2022-10-28T12:30:15.840Z"
   },
   {
    "duration": 40,
    "start_time": "2022-10-28T12:30:15.852Z"
   },
   {
    "duration": 18,
    "start_time": "2022-10-28T12:30:15.894Z"
   },
   {
    "duration": 50,
    "start_time": "2022-10-28T12:30:15.913Z"
   },
   {
    "duration": 27,
    "start_time": "2022-10-28T12:30:15.966Z"
   },
   {
    "duration": 36,
    "start_time": "2022-10-28T12:30:15.995Z"
   },
   {
    "duration": 32,
    "start_time": "2022-10-28T12:30:16.033Z"
   },
   {
    "duration": 38,
    "start_time": "2022-10-28T12:30:16.067Z"
   },
   {
    "duration": 5063,
    "start_time": "2022-10-28T12:30:16.108Z"
   },
   {
    "duration": 388,
    "start_time": "2022-10-28T12:30:21.172Z"
   },
   {
    "duration": 1140,
    "start_time": "2022-10-28T12:30:21.564Z"
   },
   {
    "duration": 48,
    "start_time": "2022-10-28T12:30:22.706Z"
   },
   {
    "duration": 1687,
    "start_time": "2022-10-28T12:30:22.756Z"
   },
   {
    "duration": 30,
    "start_time": "2022-10-28T12:30:24.445Z"
   },
   {
    "duration": 8,
    "start_time": "2022-10-28T12:30:24.477Z"
   },
   {
    "duration": 13,
    "start_time": "2022-10-28T12:30:24.487Z"
   },
   {
    "duration": 10,
    "start_time": "2022-10-28T12:30:24.501Z"
   },
   {
    "duration": 10,
    "start_time": "2022-10-28T12:30:24.513Z"
   },
   {
    "duration": 12,
    "start_time": "2022-10-28T12:30:24.525Z"
   },
   {
    "duration": 13968,
    "start_time": "2022-10-28T12:30:24.538Z"
   },
   {
    "duration": 1646227,
    "start_time": "2022-10-28T12:30:38.508Z"
   },
   {
    "duration": 1019,
    "start_time": "2022-10-28T12:58:04.736Z"
   },
   {
    "duration": 859,
    "start_time": "2022-10-28T12:58:05.757Z"
   },
   {
    "duration": 8,
    "start_time": "2022-10-28T12:58:06.617Z"
   },
   {
    "duration": 6,
    "start_time": "2022-10-28T12:58:06.626Z"
   },
   {
    "duration": 26,
    "start_time": "2022-10-28T12:58:06.634Z"
   },
   {
    "duration": 6,
    "start_time": "2022-10-28T12:58:06.662Z"
   },
   {
    "duration": 6,
    "start_time": "2022-10-28T12:58:06.671Z"
   },
   {
    "duration": 7,
    "start_time": "2022-10-28T12:58:06.679Z"
   },
   {
    "duration": 9,
    "start_time": "2022-10-28T12:58:06.688Z"
   },
   {
    "duration": 5,
    "start_time": "2022-10-28T12:58:06.698Z"
   },
   {
    "duration": 53,
    "start_time": "2022-10-28T12:58:06.705Z"
   },
   {
    "duration": 0,
    "start_time": "2022-10-28T12:58:06.760Z"
   }
  ],
  "kernelspec": {
   "display_name": "Python 3 (ipykernel)",
   "language": "python",
   "name": "python3"
  },
  "language_info": {
   "codemirror_mode": {
    "name": "ipython",
    "version": 3
   },
   "file_extension": ".py",
   "mimetype": "text/x-python",
   "name": "python",
   "nbconvert_exporter": "python",
   "pygments_lexer": "ipython3",
   "version": "3.9.5"
  },
  "toc": {
   "base_numbering": 1,
   "nav_menu": {},
   "number_sections": true,
   "sideBar": true,
   "skip_h1_title": true,
   "title_cell": "Содержание",
   "title_sidebar": "Contents",
   "toc_cell": true,
   "toc_position": {
    "height": "724px",
    "left": "22px",
    "top": "111.125px",
    "width": "314px"
   },
   "toc_section_display": true,
   "toc_window_display": true
  }
 },
 "nbformat": 4,
 "nbformat_minor": 2
}
