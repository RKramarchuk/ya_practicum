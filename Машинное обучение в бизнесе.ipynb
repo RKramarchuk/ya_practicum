{
 "cells": [
  {
   "cell_type": "markdown",
   "metadata": {},
   "source": [
    "<div style=\"border:solid Chocolate 2px; padding: 40px\">\n",
    "\n",
    "<b>Привет!👋</b>\n",
    "\n",
    "Меня зовут Роман Абрамов, я буду ревьюером твоего проекта. Ты можешь обращаться ко мне на \"ты\"😏 Надеюсь, тебя также не смутит, если я буду обращаться к тебе на \"ты\", но если это неудобно, обязательно скажи об этом!\n",
    "\n",
    "Пожалуйста, не удаляй мои комментарии, они будут особенно полезны для нашей работы в случае повторной проверки проекта.\n",
    "\n",
    "Ты также можешь реагировать на мои комментарии своими, выделяя их цветами и наиболее понравившимся тебе способом оформления, но явно  отличающимся от моих комментариев. Это нужно, чтобы не создавалась путаница😉\n",
    "\n",
    "Ты можешь найти мои комментарии, обозначенные <font color='green'>зеленым</font>, <font color='gold'>желтым</font> и <font color='red'>красным</font> цветами, например:\n",
    "\n",
    "<br/>\n",
    "\n",
    "<div class=\"alert alert-success\">\n",
    "<h2> Комментарий ревьюера <a class=\"tocSkip\"> </h2>\n",
    "\n",
    "<b>Все отлично!👍:</b> В случае, если решение на отдельном шаге является полностью правильным.\n",
    "</div>\n",
    "\n",
    "<br/>\n",
    "\n",
    "<div class=\"alert alert-warning\">\n",
    "    <h2> Комментарий ревьюера <a class=\"tocSkip\"> </h2>\n",
    "\n",
    "<b>Некоторые замечания и рекомендации💡:</b> В случае, когда решение на отдельном шаге станет еще лучше, если внести небольшие коррективы. Желтые замечания и рекомендации необязательны к исправлению - на то это и рекомендации. Они больше ориентированы на улучшение твоих навыков\n",
    "</div>\n",
    "\n",
    "\n",
    "<br/>\n",
    "<div class=\"alert alert-block alert-danger\">\n",
    "<h2> Комментарий ревьюера <a class=\"tocSkip\"></h2>\n",
    "\n",
    "\n",
    "<b>На доработку🤔:</b>\n",
    " В случае, когда решение на отдельном шаге требует существенной переработки и внесения правок. Напоминаю, что проект не может быть принят с первого раза, если ревью содержит комментарии, рекомендующие доработать шаги.\n",
    "</div>\n",
    "\n",
    "Увидев у тебя неточность, в первый раз я лишь укажу на ее наличие и дам тебе возможность самому найти и исправить ее. На реальной работе твой руководитель будет поступать также. Но если ты пока не справишься с такой задачей - при следующей проверке я дам более точную подсказку!🤓"
   ]
  },
  {
   "cell_type": "markdown",
   "metadata": {},
   "source": [
    "# Выбор локации для скважины"
   ]
  },
  {
   "cell_type": "markdown",
   "metadata": {},
   "source": [
    "Допустим, вы работаете в добывающей компании «ГлавРосГосНефть». Нужно решить, где бурить новую скважину.\n",
    "\n",
    "Вам предоставлены пробы нефти в трёх регионах: в каждом 10 000 месторождений, где измерили качество нефти и объём её запасов. Постройте модель машинного обучения, которая поможет определить регион, где добыча принесёт наибольшую прибыль. Проанализируйте возможную прибыль и риски техникой *Bootstrap.*\n",
    "\n",
    "Шаги для выбора локации:\n",
    "\n",
    "- В избранном регионе ищут месторождения, для каждого определяют значения признаков;\n",
    "- Строят модель и оценивают объём запасов;\n",
    "- Выбирают месторождения с самым высокими оценками значений. Количество месторождений зависит от бюджета компании и стоимости разработки одной скважины;\n",
    "- Прибыль равна суммарной прибыли отобранных месторождений."
   ]
  },
  {
   "cell_type": "markdown",
   "metadata": {},
   "source": [
    "## Загрузка и подготовка данных"
   ]
  },
  {
   "cell_type": "code",
   "execution_count": 57,
   "metadata": {},
   "outputs": [],
   "source": [
    "import pandas as pd\n",
    "import numpy as np\n",
    "\n",
    "\n",
    "from sklearn.linear_model import LinearRegression\n",
    "from sklearn.model_selection import train_test_split, cross_val_score\n",
    "from sklearn.metrics import mean_squared_error, make_scorer\n",
    "from scipy import stats as st"
   ]
  },
  {
   "cell_type": "markdown",
   "metadata": {},
   "source": [
    "<div class=\"alert alert-warning\">\n",
    "    <h2> Комментарий ревьюера <a class=\"tocSkip\"> </h2>\n",
    "\n",
    "<b>Некоторые замечания и рекомендации💡:</b>\n",
    "\n",
    "    \n",
    "Хорошая структуризация импортов, но советовал бы не мешать раздел import ... и from ... import ..."
   ]
  },
  {
   "cell_type": "markdown",
   "metadata": {},
   "source": [
    "<div class=\"alert alert-info\">\n",
    "    <h2> Комментарий студента <a class=\"tocSkip\"> </h2>\n",
    "\n",
    "    \n",
    "Пересмотрел структуризацию импортов - сделал разделение по импорту целых библиотек и импорту методов из библиотек отдельно. Также удалил лишние импорты"
   ]
  },
  {
   "cell_type": "markdown",
   "metadata": {},
   "source": [
    "<div class=\"alert alert-success\">\n",
    "\n",
    "<h2> Комментарий ревьюера 2 итерация <a class=\"tocSkip\"> </h2>\n",
    "\n",
    "Супер"
   ]
  },
  {
   "cell_type": "code",
   "execution_count": 2,
   "metadata": {},
   "outputs": [],
   "source": [
    "data_r0 = pd.read_csv('/datasets/geo_data_0.csv')\n",
    "data_r1 = pd.read_csv('/datasets/geo_data_1.csv')\n",
    "data_r2 = pd.read_csv('/datasets/geo_data_2.csv')"
   ]
  },
  {
   "cell_type": "markdown",
   "metadata": {},
   "source": [
    "Рассмотрим данные по регионам 0, 1 и 2 - посмотрим общую информацию, описание данных и первые пять строк по каждому региону."
   ]
  },
  {
   "cell_type": "code",
   "execution_count": 3,
   "metadata": {
    "scrolled": false
   },
   "outputs": [
    {
     "name": "stdout",
     "output_type": "stream",
     "text": [
      "<class 'pandas.core.frame.DataFrame'>\n",
      "RangeIndex: 100000 entries, 0 to 99999\n",
      "Data columns (total 5 columns):\n",
      " #   Column   Non-Null Count   Dtype  \n",
      "---  ------   --------------   -----  \n",
      " 0   id       100000 non-null  object \n",
      " 1   f0       100000 non-null  float64\n",
      " 2   f1       100000 non-null  float64\n",
      " 3   f2       100000 non-null  float64\n",
      " 4   product  100000 non-null  float64\n",
      "dtypes: float64(4), object(1)\n",
      "memory usage: 3.8+ MB\n"
     ]
    },
    {
     "data": {
      "text/plain": [
       "None"
      ]
     },
     "metadata": {},
     "output_type": "display_data"
    },
    {
     "data": {
      "text/html": [
       "<div>\n",
       "<style scoped>\n",
       "    .dataframe tbody tr th:only-of-type {\n",
       "        vertical-align: middle;\n",
       "    }\n",
       "\n",
       "    .dataframe tbody tr th {\n",
       "        vertical-align: top;\n",
       "    }\n",
       "\n",
       "    .dataframe thead th {\n",
       "        text-align: right;\n",
       "    }\n",
       "</style>\n",
       "<table border=\"1\" class=\"dataframe\">\n",
       "  <thead>\n",
       "    <tr style=\"text-align: right;\">\n",
       "      <th></th>\n",
       "      <th>f0</th>\n",
       "      <th>f1</th>\n",
       "      <th>f2</th>\n",
       "      <th>product</th>\n",
       "    </tr>\n",
       "  </thead>\n",
       "  <tbody>\n",
       "    <tr>\n",
       "      <th>count</th>\n",
       "      <td>100000.000000</td>\n",
       "      <td>100000.000000</td>\n",
       "      <td>100000.000000</td>\n",
       "      <td>100000.000000</td>\n",
       "    </tr>\n",
       "    <tr>\n",
       "      <th>mean</th>\n",
       "      <td>0.500419</td>\n",
       "      <td>0.250143</td>\n",
       "      <td>2.502647</td>\n",
       "      <td>92.500000</td>\n",
       "    </tr>\n",
       "    <tr>\n",
       "      <th>std</th>\n",
       "      <td>0.871832</td>\n",
       "      <td>0.504433</td>\n",
       "      <td>3.248248</td>\n",
       "      <td>44.288691</td>\n",
       "    </tr>\n",
       "    <tr>\n",
       "      <th>min</th>\n",
       "      <td>-1.408605</td>\n",
       "      <td>-0.848218</td>\n",
       "      <td>-12.088328</td>\n",
       "      <td>0.000000</td>\n",
       "    </tr>\n",
       "    <tr>\n",
       "      <th>25%</th>\n",
       "      <td>-0.072580</td>\n",
       "      <td>-0.200881</td>\n",
       "      <td>0.287748</td>\n",
       "      <td>56.497507</td>\n",
       "    </tr>\n",
       "    <tr>\n",
       "      <th>50%</th>\n",
       "      <td>0.502360</td>\n",
       "      <td>0.250252</td>\n",
       "      <td>2.515969</td>\n",
       "      <td>91.849972</td>\n",
       "    </tr>\n",
       "    <tr>\n",
       "      <th>75%</th>\n",
       "      <td>1.073581</td>\n",
       "      <td>0.700646</td>\n",
       "      <td>4.715088</td>\n",
       "      <td>128.564089</td>\n",
       "    </tr>\n",
       "    <tr>\n",
       "      <th>max</th>\n",
       "      <td>2.362331</td>\n",
       "      <td>1.343769</td>\n",
       "      <td>16.003790</td>\n",
       "      <td>185.364347</td>\n",
       "    </tr>\n",
       "  </tbody>\n",
       "</table>\n",
       "</div>"
      ],
      "text/plain": [
       "                  f0             f1             f2        product\n",
       "count  100000.000000  100000.000000  100000.000000  100000.000000\n",
       "mean        0.500419       0.250143       2.502647      92.500000\n",
       "std         0.871832       0.504433       3.248248      44.288691\n",
       "min        -1.408605      -0.848218     -12.088328       0.000000\n",
       "25%        -0.072580      -0.200881       0.287748      56.497507\n",
       "50%         0.502360       0.250252       2.515969      91.849972\n",
       "75%         1.073581       0.700646       4.715088     128.564089\n",
       "max         2.362331       1.343769      16.003790     185.364347"
      ]
     },
     "metadata": {},
     "output_type": "display_data"
    },
    {
     "data": {
      "text/html": [
       "<div>\n",
       "<style scoped>\n",
       "    .dataframe tbody tr th:only-of-type {\n",
       "        vertical-align: middle;\n",
       "    }\n",
       "\n",
       "    .dataframe tbody tr th {\n",
       "        vertical-align: top;\n",
       "    }\n",
       "\n",
       "    .dataframe thead th {\n",
       "        text-align: right;\n",
       "    }\n",
       "</style>\n",
       "<table border=\"1\" class=\"dataframe\">\n",
       "  <thead>\n",
       "    <tr style=\"text-align: right;\">\n",
       "      <th></th>\n",
       "      <th>id</th>\n",
       "      <th>f0</th>\n",
       "      <th>f1</th>\n",
       "      <th>f2</th>\n",
       "      <th>product</th>\n",
       "    </tr>\n",
       "  </thead>\n",
       "  <tbody>\n",
       "    <tr>\n",
       "      <th>0</th>\n",
       "      <td>txEyH</td>\n",
       "      <td>0.705745</td>\n",
       "      <td>-0.497823</td>\n",
       "      <td>1.221170</td>\n",
       "      <td>105.280062</td>\n",
       "    </tr>\n",
       "    <tr>\n",
       "      <th>1</th>\n",
       "      <td>2acmU</td>\n",
       "      <td>1.334711</td>\n",
       "      <td>-0.340164</td>\n",
       "      <td>4.365080</td>\n",
       "      <td>73.037750</td>\n",
       "    </tr>\n",
       "    <tr>\n",
       "      <th>2</th>\n",
       "      <td>409Wp</td>\n",
       "      <td>1.022732</td>\n",
       "      <td>0.151990</td>\n",
       "      <td>1.419926</td>\n",
       "      <td>85.265647</td>\n",
       "    </tr>\n",
       "    <tr>\n",
       "      <th>3</th>\n",
       "      <td>iJLyR</td>\n",
       "      <td>-0.032172</td>\n",
       "      <td>0.139033</td>\n",
       "      <td>2.978566</td>\n",
       "      <td>168.620776</td>\n",
       "    </tr>\n",
       "    <tr>\n",
       "      <th>4</th>\n",
       "      <td>Xdl7t</td>\n",
       "      <td>1.988431</td>\n",
       "      <td>0.155413</td>\n",
       "      <td>4.751769</td>\n",
       "      <td>154.036647</td>\n",
       "    </tr>\n",
       "  </tbody>\n",
       "</table>\n",
       "</div>"
      ],
      "text/plain": [
       "      id        f0        f1        f2     product\n",
       "0  txEyH  0.705745 -0.497823  1.221170  105.280062\n",
       "1  2acmU  1.334711 -0.340164  4.365080   73.037750\n",
       "2  409Wp  1.022732  0.151990  1.419926   85.265647\n",
       "3  iJLyR -0.032172  0.139033  2.978566  168.620776\n",
       "4  Xdl7t  1.988431  0.155413  4.751769  154.036647"
      ]
     },
     "metadata": {},
     "output_type": "display_data"
    }
   ],
   "source": [
    "display(data_r0.info())\n",
    "display(data_r0.describe())\n",
    "display(data_r0.head())"
   ]
  },
  {
   "cell_type": "code",
   "execution_count": 4,
   "metadata": {
    "scrolled": false
   },
   "outputs": [
    {
     "name": "stdout",
     "output_type": "stream",
     "text": [
      "<class 'pandas.core.frame.DataFrame'>\n",
      "RangeIndex: 100000 entries, 0 to 99999\n",
      "Data columns (total 5 columns):\n",
      " #   Column   Non-Null Count   Dtype  \n",
      "---  ------   --------------   -----  \n",
      " 0   id       100000 non-null  object \n",
      " 1   f0       100000 non-null  float64\n",
      " 2   f1       100000 non-null  float64\n",
      " 3   f2       100000 non-null  float64\n",
      " 4   product  100000 non-null  float64\n",
      "dtypes: float64(4), object(1)\n",
      "memory usage: 3.8+ MB\n"
     ]
    },
    {
     "data": {
      "text/plain": [
       "None"
      ]
     },
     "metadata": {},
     "output_type": "display_data"
    },
    {
     "data": {
      "text/html": [
       "<div>\n",
       "<style scoped>\n",
       "    .dataframe tbody tr th:only-of-type {\n",
       "        vertical-align: middle;\n",
       "    }\n",
       "\n",
       "    .dataframe tbody tr th {\n",
       "        vertical-align: top;\n",
       "    }\n",
       "\n",
       "    .dataframe thead th {\n",
       "        text-align: right;\n",
       "    }\n",
       "</style>\n",
       "<table border=\"1\" class=\"dataframe\">\n",
       "  <thead>\n",
       "    <tr style=\"text-align: right;\">\n",
       "      <th></th>\n",
       "      <th>f0</th>\n",
       "      <th>f1</th>\n",
       "      <th>f2</th>\n",
       "      <th>product</th>\n",
       "    </tr>\n",
       "  </thead>\n",
       "  <tbody>\n",
       "    <tr>\n",
       "      <th>count</th>\n",
       "      <td>100000.000000</td>\n",
       "      <td>100000.000000</td>\n",
       "      <td>100000.000000</td>\n",
       "      <td>100000.000000</td>\n",
       "    </tr>\n",
       "    <tr>\n",
       "      <th>mean</th>\n",
       "      <td>1.141296</td>\n",
       "      <td>-4.796579</td>\n",
       "      <td>2.494541</td>\n",
       "      <td>68.825000</td>\n",
       "    </tr>\n",
       "    <tr>\n",
       "      <th>std</th>\n",
       "      <td>8.965932</td>\n",
       "      <td>5.119872</td>\n",
       "      <td>1.703572</td>\n",
       "      <td>45.944423</td>\n",
       "    </tr>\n",
       "    <tr>\n",
       "      <th>min</th>\n",
       "      <td>-31.609576</td>\n",
       "      <td>-26.358598</td>\n",
       "      <td>-0.018144</td>\n",
       "      <td>0.000000</td>\n",
       "    </tr>\n",
       "    <tr>\n",
       "      <th>25%</th>\n",
       "      <td>-6.298551</td>\n",
       "      <td>-8.267985</td>\n",
       "      <td>1.000021</td>\n",
       "      <td>26.953261</td>\n",
       "    </tr>\n",
       "    <tr>\n",
       "      <th>50%</th>\n",
       "      <td>1.153055</td>\n",
       "      <td>-4.813172</td>\n",
       "      <td>2.011479</td>\n",
       "      <td>57.085625</td>\n",
       "    </tr>\n",
       "    <tr>\n",
       "      <th>75%</th>\n",
       "      <td>8.621015</td>\n",
       "      <td>-1.332816</td>\n",
       "      <td>3.999904</td>\n",
       "      <td>107.813044</td>\n",
       "    </tr>\n",
       "    <tr>\n",
       "      <th>max</th>\n",
       "      <td>29.421755</td>\n",
       "      <td>18.734063</td>\n",
       "      <td>5.019721</td>\n",
       "      <td>137.945408</td>\n",
       "    </tr>\n",
       "  </tbody>\n",
       "</table>\n",
       "</div>"
      ],
      "text/plain": [
       "                  f0             f1             f2        product\n",
       "count  100000.000000  100000.000000  100000.000000  100000.000000\n",
       "mean        1.141296      -4.796579       2.494541      68.825000\n",
       "std         8.965932       5.119872       1.703572      45.944423\n",
       "min       -31.609576     -26.358598      -0.018144       0.000000\n",
       "25%        -6.298551      -8.267985       1.000021      26.953261\n",
       "50%         1.153055      -4.813172       2.011479      57.085625\n",
       "75%         8.621015      -1.332816       3.999904     107.813044\n",
       "max        29.421755      18.734063       5.019721     137.945408"
      ]
     },
     "metadata": {},
     "output_type": "display_data"
    },
    {
     "data": {
      "text/html": [
       "<div>\n",
       "<style scoped>\n",
       "    .dataframe tbody tr th:only-of-type {\n",
       "        vertical-align: middle;\n",
       "    }\n",
       "\n",
       "    .dataframe tbody tr th {\n",
       "        vertical-align: top;\n",
       "    }\n",
       "\n",
       "    .dataframe thead th {\n",
       "        text-align: right;\n",
       "    }\n",
       "</style>\n",
       "<table border=\"1\" class=\"dataframe\">\n",
       "  <thead>\n",
       "    <tr style=\"text-align: right;\">\n",
       "      <th></th>\n",
       "      <th>id</th>\n",
       "      <th>f0</th>\n",
       "      <th>f1</th>\n",
       "      <th>f2</th>\n",
       "      <th>product</th>\n",
       "    </tr>\n",
       "  </thead>\n",
       "  <tbody>\n",
       "    <tr>\n",
       "      <th>0</th>\n",
       "      <td>kBEdx</td>\n",
       "      <td>-15.001348</td>\n",
       "      <td>-8.276000</td>\n",
       "      <td>-0.005876</td>\n",
       "      <td>3.179103</td>\n",
       "    </tr>\n",
       "    <tr>\n",
       "      <th>1</th>\n",
       "      <td>62mP7</td>\n",
       "      <td>14.272088</td>\n",
       "      <td>-3.475083</td>\n",
       "      <td>0.999183</td>\n",
       "      <td>26.953261</td>\n",
       "    </tr>\n",
       "    <tr>\n",
       "      <th>2</th>\n",
       "      <td>vyE1P</td>\n",
       "      <td>6.263187</td>\n",
       "      <td>-5.948386</td>\n",
       "      <td>5.001160</td>\n",
       "      <td>134.766305</td>\n",
       "    </tr>\n",
       "    <tr>\n",
       "      <th>3</th>\n",
       "      <td>KcrkZ</td>\n",
       "      <td>-13.081196</td>\n",
       "      <td>-11.506057</td>\n",
       "      <td>4.999415</td>\n",
       "      <td>137.945408</td>\n",
       "    </tr>\n",
       "    <tr>\n",
       "      <th>4</th>\n",
       "      <td>AHL4O</td>\n",
       "      <td>12.702195</td>\n",
       "      <td>-8.147433</td>\n",
       "      <td>5.004363</td>\n",
       "      <td>134.766305</td>\n",
       "    </tr>\n",
       "  </tbody>\n",
       "</table>\n",
       "</div>"
      ],
      "text/plain": [
       "      id         f0         f1        f2     product\n",
       "0  kBEdx -15.001348  -8.276000 -0.005876    3.179103\n",
       "1  62mP7  14.272088  -3.475083  0.999183   26.953261\n",
       "2  vyE1P   6.263187  -5.948386  5.001160  134.766305\n",
       "3  KcrkZ -13.081196 -11.506057  4.999415  137.945408\n",
       "4  AHL4O  12.702195  -8.147433  5.004363  134.766305"
      ]
     },
     "metadata": {},
     "output_type": "display_data"
    }
   ],
   "source": [
    "display(data_r1.info())\n",
    "display(data_r1.describe())\n",
    "display(data_r1.head())"
   ]
  },
  {
   "cell_type": "code",
   "execution_count": 5,
   "metadata": {},
   "outputs": [
    {
     "name": "stdout",
     "output_type": "stream",
     "text": [
      "<class 'pandas.core.frame.DataFrame'>\n",
      "RangeIndex: 100000 entries, 0 to 99999\n",
      "Data columns (total 5 columns):\n",
      " #   Column   Non-Null Count   Dtype  \n",
      "---  ------   --------------   -----  \n",
      " 0   id       100000 non-null  object \n",
      " 1   f0       100000 non-null  float64\n",
      " 2   f1       100000 non-null  float64\n",
      " 3   f2       100000 non-null  float64\n",
      " 4   product  100000 non-null  float64\n",
      "dtypes: float64(4), object(1)\n",
      "memory usage: 3.8+ MB\n"
     ]
    },
    {
     "data": {
      "text/plain": [
       "None"
      ]
     },
     "metadata": {},
     "output_type": "display_data"
    },
    {
     "data": {
      "text/html": [
       "<div>\n",
       "<style scoped>\n",
       "    .dataframe tbody tr th:only-of-type {\n",
       "        vertical-align: middle;\n",
       "    }\n",
       "\n",
       "    .dataframe tbody tr th {\n",
       "        vertical-align: top;\n",
       "    }\n",
       "\n",
       "    .dataframe thead th {\n",
       "        text-align: right;\n",
       "    }\n",
       "</style>\n",
       "<table border=\"1\" class=\"dataframe\">\n",
       "  <thead>\n",
       "    <tr style=\"text-align: right;\">\n",
       "      <th></th>\n",
       "      <th>f0</th>\n",
       "      <th>f1</th>\n",
       "      <th>f2</th>\n",
       "      <th>product</th>\n",
       "    </tr>\n",
       "  </thead>\n",
       "  <tbody>\n",
       "    <tr>\n",
       "      <th>count</th>\n",
       "      <td>100000.000000</td>\n",
       "      <td>100000.000000</td>\n",
       "      <td>100000.000000</td>\n",
       "      <td>100000.000000</td>\n",
       "    </tr>\n",
       "    <tr>\n",
       "      <th>mean</th>\n",
       "      <td>0.002023</td>\n",
       "      <td>-0.002081</td>\n",
       "      <td>2.495128</td>\n",
       "      <td>95.000000</td>\n",
       "    </tr>\n",
       "    <tr>\n",
       "      <th>std</th>\n",
       "      <td>1.732045</td>\n",
       "      <td>1.730417</td>\n",
       "      <td>3.473445</td>\n",
       "      <td>44.749921</td>\n",
       "    </tr>\n",
       "    <tr>\n",
       "      <th>min</th>\n",
       "      <td>-8.760004</td>\n",
       "      <td>-7.084020</td>\n",
       "      <td>-11.970335</td>\n",
       "      <td>0.000000</td>\n",
       "    </tr>\n",
       "    <tr>\n",
       "      <th>25%</th>\n",
       "      <td>-1.162288</td>\n",
       "      <td>-1.174820</td>\n",
       "      <td>0.130359</td>\n",
       "      <td>59.450441</td>\n",
       "    </tr>\n",
       "    <tr>\n",
       "      <th>50%</th>\n",
       "      <td>0.009424</td>\n",
       "      <td>-0.009482</td>\n",
       "      <td>2.484236</td>\n",
       "      <td>94.925613</td>\n",
       "    </tr>\n",
       "    <tr>\n",
       "      <th>75%</th>\n",
       "      <td>1.158535</td>\n",
       "      <td>1.163678</td>\n",
       "      <td>4.858794</td>\n",
       "      <td>130.595027</td>\n",
       "    </tr>\n",
       "    <tr>\n",
       "      <th>max</th>\n",
       "      <td>7.238262</td>\n",
       "      <td>7.844801</td>\n",
       "      <td>16.739402</td>\n",
       "      <td>190.029838</td>\n",
       "    </tr>\n",
       "  </tbody>\n",
       "</table>\n",
       "</div>"
      ],
      "text/plain": [
       "                  f0             f1             f2        product\n",
       "count  100000.000000  100000.000000  100000.000000  100000.000000\n",
       "mean        0.002023      -0.002081       2.495128      95.000000\n",
       "std         1.732045       1.730417       3.473445      44.749921\n",
       "min        -8.760004      -7.084020     -11.970335       0.000000\n",
       "25%        -1.162288      -1.174820       0.130359      59.450441\n",
       "50%         0.009424      -0.009482       2.484236      94.925613\n",
       "75%         1.158535       1.163678       4.858794     130.595027\n",
       "max         7.238262       7.844801      16.739402     190.029838"
      ]
     },
     "metadata": {},
     "output_type": "display_data"
    },
    {
     "data": {
      "text/html": [
       "<div>\n",
       "<style scoped>\n",
       "    .dataframe tbody tr th:only-of-type {\n",
       "        vertical-align: middle;\n",
       "    }\n",
       "\n",
       "    .dataframe tbody tr th {\n",
       "        vertical-align: top;\n",
       "    }\n",
       "\n",
       "    .dataframe thead th {\n",
       "        text-align: right;\n",
       "    }\n",
       "</style>\n",
       "<table border=\"1\" class=\"dataframe\">\n",
       "  <thead>\n",
       "    <tr style=\"text-align: right;\">\n",
       "      <th></th>\n",
       "      <th>id</th>\n",
       "      <th>f0</th>\n",
       "      <th>f1</th>\n",
       "      <th>f2</th>\n",
       "      <th>product</th>\n",
       "    </tr>\n",
       "  </thead>\n",
       "  <tbody>\n",
       "    <tr>\n",
       "      <th>0</th>\n",
       "      <td>fwXo0</td>\n",
       "      <td>-1.146987</td>\n",
       "      <td>0.963328</td>\n",
       "      <td>-0.828965</td>\n",
       "      <td>27.758673</td>\n",
       "    </tr>\n",
       "    <tr>\n",
       "      <th>1</th>\n",
       "      <td>WJtFt</td>\n",
       "      <td>0.262778</td>\n",
       "      <td>0.269839</td>\n",
       "      <td>-2.530187</td>\n",
       "      <td>56.069697</td>\n",
       "    </tr>\n",
       "    <tr>\n",
       "      <th>2</th>\n",
       "      <td>ovLUW</td>\n",
       "      <td>0.194587</td>\n",
       "      <td>0.289035</td>\n",
       "      <td>-5.586433</td>\n",
       "      <td>62.871910</td>\n",
       "    </tr>\n",
       "    <tr>\n",
       "      <th>3</th>\n",
       "      <td>q6cA6</td>\n",
       "      <td>2.236060</td>\n",
       "      <td>-0.553760</td>\n",
       "      <td>0.930038</td>\n",
       "      <td>114.572842</td>\n",
       "    </tr>\n",
       "    <tr>\n",
       "      <th>4</th>\n",
       "      <td>WPMUX</td>\n",
       "      <td>-0.515993</td>\n",
       "      <td>1.716266</td>\n",
       "      <td>5.899011</td>\n",
       "      <td>149.600746</td>\n",
       "    </tr>\n",
       "  </tbody>\n",
       "</table>\n",
       "</div>"
      ],
      "text/plain": [
       "      id        f0        f1        f2     product\n",
       "0  fwXo0 -1.146987  0.963328 -0.828965   27.758673\n",
       "1  WJtFt  0.262778  0.269839 -2.530187   56.069697\n",
       "2  ovLUW  0.194587  0.289035 -5.586433   62.871910\n",
       "3  q6cA6  2.236060 -0.553760  0.930038  114.572842\n",
       "4  WPMUX -0.515993  1.716266  5.899011  149.600746"
      ]
     },
     "metadata": {},
     "output_type": "display_data"
    }
   ],
   "source": [
    "display(data_r2.info())\n",
    "display(data_r2.describe())\n",
    "display(data_r2.head())"
   ]
  },
  {
   "cell_type": "markdown",
   "metadata": {},
   "source": [
    "Судя по первичному анализу данных - данные были переданы предварительно подготовленные, пропусков нет, данные достаточно однородные."
   ]
  },
  {
   "cell_type": "markdown",
   "metadata": {},
   "source": [
    "<div class=\"alert alert-warning\">\n",
    "    <h2> Комментарий ревьюера <a class=\"tocSkip\"> </h2>\n",
    "\n",
    "<b>Некоторые замечания и рекомендации💡:</b>\n",
    "\n",
    "Стоило бы посмотреть на распределения признаков, чтобы получить информацию о данных, с которыми стоит работать. Возможно, что где-то содержится ошибка и на это стоит сразу же обратить внимание с помощью анализа данных.\n",
    "    \n",
    "    \n",
    "Можно было бы ещё провести корреляционный анализ, чтобы посмотреть на различия для наших нескольких датасетов - эта информация тоже может дать нам что-то. Плюс стоило бы обратить внимание на мультиколлиниарность, раз уж предстоит работать с линейными моделями"
   ]
  },
  {
   "cell_type": "markdown",
   "metadata": {},
   "source": [
    "## Обучение и проверка модели"
   ]
  },
  {
   "cell_type": "markdown",
   "metadata": {},
   "source": [
    "В качестве модели будем использовать линейную регрессию. Предвалительно подготовим данные для обучения и тестирования моделей - разделим данные для каждого региона на признаки и цели, после чего выделим выборки для кросс-валидации и обучения (CV-выборка) и тестовую выборку (test-выборка)."
   ]
  },
  {
   "cell_type": "code",
   "execution_count": 6,
   "metadata": {},
   "outputs": [],
   "source": [
    "features_r0 = data_r0.drop(['id', 'product'], axis=1)\n",
    "target_r0 = data_r0['product']\n",
    "\n",
    "features_r1 = data_r1.drop(['id', 'product'], axis=1)\n",
    "target_r1 = data_r1['product']\n",
    "\n",
    "features_r2 = data_r2.drop(['id', 'product'], axis=1)\n",
    "target_r2 = data_r2['product']"
   ]
  },
  {
   "cell_type": "markdown",
   "metadata": {},
   "source": [
    "<div class=\"alert alert-info\">\n",
    "    <h2> Комментарий студента <a class=\"tocSkip\"> </h2>\n",
    "\n",
    "    \n",
    "Тут я начал оборачивать часть кода в функции, что в итоге закончилось переписью проекта с использованием списка списков. Итоговый результат не поменялся, но было интересно попробовать реализовать проект по другому."
   ]
  },
  {
   "cell_type": "markdown",
   "metadata": {},
   "source": [
    "<div class=\"alert alert-success\">\n",
    "\n",
    "<h2> Комментарий ревьюера 2 итерация <a class=\"tocSkip\"> </h2>\n",
    "\n",
    "Отлично\n",
    "    "
   ]
  },
  {
   "cell_type": "markdown",
   "metadata": {},
   "source": [
    "Создадим список regions, в котором будут находиться все необходимые для расчётов данные в следующем формате: \n",
    "\n",
    "- regions[region_id][data_id]\n",
    "\n",
    "где:\n",
    "* region_id - порядковый номер региона, совпадающий с условинм задачи - 0, 1 и 2;\n",
    "* data_id - id необходимых для рассчёта данных:\n",
    "     * 0 - features_cv;\n",
    "     * 1 - features_test;\n",
    "     * 2 - target_cv;\n",
    "     * 3 - target_test.\n",
    "\n",
    "Список будет наполняться в ходе функции, проводящей разделение данных.\\\n",
    "Также для упрощения дальнейшей работы с данными target_test - в функции индексы этих данных будут обнулены, т.е. данные будут иметь новые индексы от 0 до 24999."
   ]
  },
  {
   "cell_type": "code",
   "execution_count": 7,
   "metadata": {},
   "outputs": [],
   "source": [
    "regions = []\n",
    "def split(features, target):\n",
    "    region_data = []\n",
    "    features_cv, features_test, target_cv, target_test = train_test_split(features,\n",
    "                                                                         target,\n",
    "                                                                         test_size=0.25,\n",
    "                                                                         shuffle=True,\n",
    "                                                                         random_state=131296)\n",
    "    region_data.append(features_cv)\n",
    "    region_data.append(features_test)\n",
    "    region_data.append(target_cv)\n",
    "    target_test = target_test.reset_index(drop=True)\n",
    "    region_data.append(target_test)\n",
    "    return regions.append(region_data)"
   ]
  },
  {
   "cell_type": "markdown",
   "metadata": {},
   "source": [
    "Производим сплит для всех регионов."
   ]
  },
  {
   "cell_type": "code",
   "execution_count": 8,
   "metadata": {},
   "outputs": [],
   "source": [
    "split(features_r0, target_r0)\n",
    "split(features_r1, target_r1)\n",
    "split(features_r2, target_r2)"
   ]
  },
  {
   "cell_type": "markdown",
   "metadata": {},
   "source": [
    "Для обучения и проверки модели создадим функцию, которая будет проводить кросс-валидацию модели линейной регрессии на основании RMSE, обучать модель на CV-выборке, получать RMSE на test-выборке и рассчитывать среднее предсказанное количество нефти в тыс. баррелей на скважину. Все полученные значения функция будет выводить на печать.\n",
    "\n",
    "Также в ходе работы функции для дальнейших рассчётов в список данных regions будут сохраняться списки с предсказаниями для каждого региона, которые будут переводится в формат pd.Series с новыми индексами от 0 до 24999, которые будут соответствовать записям из target_test."
   ]
  },
  {
   "cell_type": "markdown",
   "metadata": {},
   "source": [
    "Уточним список индексов в списке regions после добавления в него данных по предсказаниям:\n",
    "* region_id - порядковый номер региона, совпадающий с условинм задачи - 0, 1 и 2;\n",
    "* data_id - id необходимых для рассчёта данных:\n",
    "     * 0 - features_cv;\n",
    "     * 1 - features_test;\n",
    "     * 2 - target_cv;\n",
    "     * 3 - target_test;\n",
    "     * 4 - predictions."
   ]
  },
  {
   "cell_type": "code",
   "execution_count": 9,
   "metadata": {},
   "outputs": [],
   "source": [
    "def model(region_id):\n",
    "    model = LinearRegression()\n",
    "    scores = cross_val_score(model, regions[region_id][0], regions[region_id][2], cv=5, scoring='neg_mean_squared_error')\n",
    "    final_score = abs(np.mean(scores))\n",
    "    model.fit(regions[region_id][0], regions[region_id][2])\n",
    "    predictions = model.predict(regions[region_id][1])\n",
    "    result = mean_squared_error(regions[region_id][3], predictions)**0.5\n",
    "    predictions = pd.Series(predictions)\n",
    "    \n",
    "    return (regions[region_id].append(predictions),\n",
    "            print('MSE на кросс-валидации:', final_score),\n",
    "            print('RMSE на кросс-валидации:', final_score**0.5),\n",
    "            print('RMSE на тестовой выборке:', result),\n",
    "            print('Среднее предсказанное количество тыс. баррелей на скважину в регионе:', predictions.mean())\n",
    "            )"
   ]
  },
  {
   "cell_type": "code",
   "execution_count": 10,
   "metadata": {},
   "outputs": [
    {
     "name": "stdout",
     "output_type": "stream",
     "text": [
      "Регион 0\n",
      "MSE на кросс-валидации: 1417.5758099006212\n",
      "RMSE на кросс-валидации: 37.65070796015157\n",
      "RMSE на тестовой выборке: 37.82413746607025\n",
      "Среднее предсказанное количество тыс. баррелей на скважину в регионе: 92.44406533876325\n",
      "-------------------------\n",
      "Регион 1\n",
      "MSE на кросс-валидации: 0.7918412214864892\n",
      "RMSE на кросс-валидации: 0.8898546069367114\n",
      "RMSE на тестовой выборке: 0.8921725476909704\n",
      "Среднее предсказанное количество тыс. баррелей на скважину в регионе: 68.88394552865586\n",
      "-------------------------\n",
      "Регион 2\n",
      "MSE на кросс-валидации: 1605.69153579596\n",
      "RMSE на кросс-валидации: 40.071081041019596\n",
      "RMSE на тестовой выборке: 40.02150979913441\n",
      "Среднее предсказанное количество тыс. баррелей на скважину в регионе: 95.0818059508208\n",
      "-------------------------\n"
     ]
    }
   ],
   "source": [
    "for i in range(3):\n",
    "    print(f'Регион {i}')\n",
    "    model(i);\n",
    "    print('-'*25)"
   ]
  },
  {
   "cell_type": "markdown",
   "metadata": {},
   "source": [
    "<div class=\"alert alert-warning\">\n",
    "    <h2> Комментарий ревьюера <a class=\"tocSkip\"> </h2>\n",
    "\n",
    "<b>Некоторые замечания и рекомендации💡:</b>\n",
    "\n",
    "Тут возможно бы использовать функцию, чтобы не дублировать код. Если повторять его, то становится куда сложнее его поддерживать - приходится искать в коде изменяющиеся части и проводить замену несколько раз - вероятность ошибиться в таком случае куда выше, чем при использовании функций. Плюс чисто физически это занимает меньше места и становится проще читать"
   ]
  },
  {
   "cell_type": "markdown",
   "metadata": {},
   "source": [
    "Самое маленькое значение RMSE на тестовой выборке было получени для Региона 1. При этом, в этом региона наименьшее среднее количество ресурсов на скважину по предсказанным данным."
   ]
  },
  {
   "cell_type": "markdown",
   "metadata": {},
   "source": [
    "<div class=\"alert alert-success\">\n",
    "<h2> Комментарий ревьюера <a class=\"tocSkip\"> </h2>\n",
    "\n",
    "<b>Все отлично!👍:</b> \n",
    "\n",
    "Хорошо, согласен. Можно было бы ещё предложить методы по улучшению предсказания - собрать больше данных, выбрать другую модель и т.п., чтобы заказчику сразу располагал методами решения проблемы"
   ]
  },
  {
   "cell_type": "markdown",
   "metadata": {},
   "source": [
    "## Подготовка к расчёту прибыли"
   ]
  },
  {
   "cell_type": "markdown",
   "metadata": {},
   "source": [
    "Запишем в переменные необходимые данные из условия задачи, а также посчитаем некоторые дополнительные параметры для расчёта прибыли."
   ]
  },
  {
   "cell_type": "code",
   "execution_count": 11,
   "metadata": {},
   "outputs": [],
   "source": [
    "budget = 10000 #млн рублей\n",
    "price = 0.45 #доходность 1 тыс баррелей в млн рублей\n",
    "points_per_budget = 200 #количество точек разработки в одном бюджетировании\n",
    "\n",
    "budget_per_point = budget/points_per_budget #бюджет в млн руб на 1 скважину\n",
    "product_value_point = budget_per_point/price #минимальное необходимое количество добычи в тыс. баррелей для выхода скважины в 0"
   ]
  },
  {
   "cell_type": "code",
   "execution_count": 12,
   "metadata": {
    "scrolled": true
   },
   "outputs": [
    {
     "name": "stdout",
     "output_type": "stream",
     "text": [
      "Бюджет всей разработки скважен (млн. руб.): 10000\n",
      "Доходность 1 тыс. баррелей (млн. руб.): 0.45\n",
      "Количество точке разработки скважин в рамках одного бюджета: 200\n",
      "Бюджет на разработку одной скважины (млн. руб.): 50.0\n",
      "Минимальная необходимая добычы в тыс. баррелей для получения прибыли со скважины: 111.11111111111111\n"
     ]
    }
   ],
   "source": [
    "print('Бюджет всей разработки скважен (млн. руб.):', budget)\n",
    "print('Доходность 1 тыс. баррелей (млн. руб.):', price)\n",
    "print('Количество точке разработки скважин в рамках одного бюджета:', points_per_budget)\n",
    "print('Бюджет на разработку одной скважины (млн. руб.):', budget_per_point)\n",
    "print('Минимальная необходимая добычы в тыс. баррелей для получения прибыли со скважины:', product_value_point)"
   ]
  },
  {
   "cell_type": "code",
   "execution_count": 13,
   "metadata": {},
   "outputs": [
    {
     "name": "stdout",
     "output_type": "stream",
     "text": [
      "Среднее количество тыс. баррелей на скважину в Регионе 0: 92.50000000000001\n",
      "Среднее количество тыс. баррелей на скважину в Регионе 1: 68.82500000000002\n",
      "Среднее количество тыс. баррелей на скважину в Регионе 2: 95.00000000000004\n"
     ]
    }
   ],
   "source": [
    "print('Среднее количество тыс. баррелей на скважину в Регионе 0:', data_r0['product'].mean())\n",
    "print('Среднее количество тыс. баррелей на скважину в Регионе 1:', data_r1['product'].mean())\n",
    "print('Среднее количество тыс. баррелей на скважину в Регионе 2:', data_r2['product'].mean())"
   ]
  },
  {
   "cell_type": "markdown",
   "metadata": {},
   "source": [
    "Сравним необходимую минимальную добычу со скважины с предсказанными средними показателями по регионам:\n",
    "* Регион 0 - среднее на скважину 92.50 < необходимо 111.11;\n",
    "* Регион 1 - среднее на скважину 68.82 < необходимо 111.11;\n",
    "* Регион 2 - среднее на скважину 95.00 < необходимо 111.11.\n",
    "\n",
    "Все регионы несут риски, которые будем просчитывать далее. Для этого расчёта создадим функцию определения прибыли с некоторого количества скважин."
   ]
  },
  {
   "cell_type": "markdown",
   "metadata": {},
   "source": [
    "<div class=\"alert alert-block alert-danger\">\n",
    "<h2> Комментарий ревьюера <a class=\"tocSkip\"></h2>\n",
    "\n",
    "\n",
    "<b>На доработку🤔:</b>\n",
    "\n",
    "Средний объем необходимо считать, используя имеющиеся данные, а не предсказанные - вторые содержат ошибку и будет не совсем верно их представлять для объективного рассчета показателей."
   ]
  },
  {
   "cell_type": "markdown",
   "metadata": {},
   "source": [
    "<div class=\"alert alert-info\">\n",
    "    <h2> Комментарий студента <a class=\"tocSkip\"> </h2>\n",
    "\n",
    "    \n",
    "Исправил - сначала посчитал среднее значение на скважину по генеральной совокупности по каждому региону, после этого сравнил необходимое для самоокупаемости с полученными значениями."
   ]
  },
  {
   "cell_type": "code",
   "execution_count": 14,
   "metadata": {},
   "outputs": [],
   "source": [
    "def revenue(target, predictions, count):\n",
    "    predictions_sorted = predictions.sort_values(ascending=False)\n",
    "    selected = target[predictions_sorted.index][:count]\n",
    "    return price * selected.sum()"
   ]
  },
  {
   "cell_type": "markdown",
   "metadata": {},
   "source": [
    "<div class=\"alert alert-block alert-danger\">\n",
    "<h2> Комментарий ревьюера <a class=\"tocSkip\"></h2>\n",
    "\n",
    "\n",
    "<b>На доработку🤔:</b>\n",
    "\n",
    "Необходимо использовать константы, которые были определены ранее. Без их использования код так же становиться сложнее поддерживать - необходимо менять параметры во всех частях, что используют переменную и это может повлечь за собой ошибки.\n",
    "    \n",
    "Так же можешь ознакомиться с рекомендациями по написанию кода на Python в целом\n",
    "    \n",
    "https://pythonworld.ru/osnovy/pep-8-rukovodstvo-po-napisaniyu-koda-na-python.html"
   ]
  },
  {
   "cell_type": "markdown",
   "metadata": {},
   "source": [
    "<div class=\"alert alert-info\">\n",
    "    <h2> Комментарий студента <a class=\"tocSkip\"> </h2>\n",
    "\n",
    "    \n",
    "Исправил - внес в функцию переменную price, созданную ранее"
   ]
  },
  {
   "cell_type": "markdown",
   "metadata": {},
   "source": [
    "<div class=\"alert alert-success\">\n",
    "\n",
    "<h2> Комментарий ревьюера 2 итерация <a class=\"tocSkip\"> </h2>\n",
    "\n",
    "Плюс"
   ]
  },
  {
   "cell_type": "markdown",
   "metadata": {},
   "source": [
    "## Расчёт прибыли и рисков "
   ]
  },
  {
   "cell_type": "markdown",
   "metadata": {},
   "source": [
    "Создадим функцию для рассчёта рисков с помощью бутстрепа. \n",
    "\n",
    "По условиям задачи, при разведке региона исследуют 500 точек, из которых выбирают 200 лучших. Для этого будем из общего списка истинных значений test-выборки отбирать семпл размером в 500 значений, получать предсказания с соответствующими индексами и с помощью созданной ранее функции получать прибыль 200 лучших скважин в семпле.\n",
    "\n",
    "Список с прибылями по результатам бутстрепа обработаем с помощью цикла с целью получения количества испытаний, при которых добыча в регионе не окупилась - то есть потенциальная добыча с 200 скважин была меньше бюджета в 10 млрд. рублей.\n",
    "\n",
    "По результатам работы функции получим среднюю выручку по бутстрепу, 95% доверительный интервал и риск убытка. Риск убытка будем считать как процент не окупившихся испытаний по отношению к значению цикла бутстрепа - 1000 испытаний."
   ]
  },
  {
   "cell_type": "code",
   "execution_count": 15,
   "metadata": {},
   "outputs": [],
   "source": [
    "def risk(region_id):\n",
    "    state = np.random.RandomState(131296)\n",
    "    values = []\n",
    " \n",
    "    for i in range(1000):\n",
    "        target_subsample = regions[region_id][3].sample(replace=True, random_state=state, n=500, axis=0)\n",
    "        probs_subsample = regions[region_id][4][target_subsample.index]\n",
    "        values.append(revenue(target_subsample, probs_subsample, 200))\n",
    " \n",
    "    loss=0\n",
    "    for i in values:\n",
    "        if i < budget:\n",
    "            loss += 1\n",
    "        \n",
    "    values = pd.Series(values)\n",
    "    mean = values.mean()\n",
    "    lower = values.quantile(0.025)\n",
    "    upper = values.quantile(0.975)\n",
    " \n",
    "    return (print(\"Средняя выручка:\", mean),\n",
    "            print(\"95%-ый доверительный интервал:\", lower, upper),\n",
    "            print(\"Риск убытков в процентах:\", loss/1000*100))"
   ]
  },
  {
   "cell_type": "code",
   "execution_count": 16,
   "metadata": {
    "scrolled": true
   },
   "outputs": [
    {
     "name": "stdout",
     "output_type": "stream",
     "text": [
      "Регион 0\n",
      "Средняя выручка: 10404.755982492421\n",
      "95%-ый доверительный интервал: 9880.779295422853 10936.087505251335\n",
      "Риск убытков в процентах: 6.7\n",
      "-------------------------\n",
      "Регион 1\n",
      "Средняя выручка: 10490.767043045487\n",
      "95%-ый доверительный интервал: 10109.508376367205 10924.478580219586\n",
      "Риск убытков в процентах: 0.4\n",
      "-------------------------\n",
      "Регион 2\n",
      "Средняя выручка: 10317.797155224289\n",
      "95%-ый доверительный интервал: 9763.374050128548 10910.11832154286\n",
      "Риск убытков в процентах: 12.6\n",
      "-------------------------\n"
     ]
    }
   ],
   "source": [
    "for i in range(3):\n",
    "    print(f'Регион {i}')\n",
    "    risk(i);\n",
    "    print('-'*25)"
   ]
  },
  {
   "cell_type": "markdown",
   "metadata": {},
   "source": [
    "<div class=\"alert alert-warning\">\n",
    "    <h2> Комментарий ревьюера <a class=\"tocSkip\"> </h2>\n",
    "\n",
    "<b>Некоторые замечания и рекомендации💡:</b>\n",
    "\n",
    "Такие большие дублирующие участки кода тоже стоило бы обернуть в функцию."
   ]
  },
  {
   "cell_type": "markdown",
   "metadata": {},
   "source": [
    "По результатам бутстрепа наиболее надёжным регионом является Регион 1. Риск добычи в этом регионе составляет всего 0.4 процента. Средняя выручка также в этом регионе больше, чем в остальных."
   ]
  },
  {
   "cell_type": "markdown",
   "metadata": {},
   "source": [
    "## Общий вывод"
   ]
  },
  {
   "cell_type": "markdown",
   "metadata": {},
   "source": [
    "Задачей исследования был выбор наименее рискованного и наиболее прибыльного региона для разработки месторождений нефти. Выбор проводился среди трёх регионов, данные по которым были предоставлены.\n",
    "\n",
    "Перед началом работы была проведена загрузка и первичный анализ данных по трём регионам. Данные были переданы уже подготовленные к анализу - пропуски отсутствуют, данные достаточно однородные.\n",
    "\n",
    "Первым этапом исследования являлось обучение и проверки модели для каждого из региона. В качестве модели была использована линейная регрессия. Для каждого региона модель была проверена с помощью кросс-валидации с использованием требуемого скоринга - RMSE. После этого модели были обучены на CV-выборке данных и испытаны на test-выборке. Для каждой модели по регионам определены RMSE и среднее количество тыс. баррелей в скваженах по предсказаниям модели. Регионом с наименьшим RMSE был Регион 1, но при этом среднее количество тыс. баррелей в скважине в этом регионе наименьшее.\n",
    "\n",
    "Вторым этапом исследования являлся сбор необходимых для дальнейших расчётов данных в переменные и расчёт дополнительных значений:\n",
    "* Бюджет всей разработки скважен (млн. руб.): 10000\n",
    "* Доходность 1 тыс. баррелей (млн. руб.): 0.45\n",
    "* Количество точке разработки скважин в рамках одного бюджета: 200\n",
    "* Бюджет на разработку одной скважины (млн. руб.): 50.0\n",
    "* Минимальная необходимая добычы в тыс. баррелей для получения прибыли со скважины: 111.11\n",
    "\n",
    "Также на этом этапе создаётся функция рассчёта прибыли лучших скважин с заданными истинными значениями, предсказаниями и количеством лучших скважин.\n",
    "\n",
    "Третьим этапом исследования являлся рассчёт прибыли и рисков для добычи в каждом регионе. По условию исследования, при разведке региона исследуются 500 локаций для скважин, из них 200 лучших, согласно модели машинного обучения, разрабатываются. В ходе этого этапа проведена подготовка данных - списков истинных значений и предсказаний. Для списков предсказаний - изменён тип данных на pd.Series что создало для них новые индексы; для списков истинных значений - обнулены индексы. Это сделано с целью дальнейшего обращения по индексам соответствующих истинных значений и предсказаний. Был проведён бутстрепинг на 1000 испытаний, по результатам которого рассчитывались значения средней выручки, 95% доверительный интервал и процент риска. Процент риска рассчитывался как доля убыточных испытаний относительно общего количества испытаний.\n",
    "\n",
    "По результатам исследования наиболее перспективным к разработки регионом можно считать Регион 1. При испытании с помощью бутстрепинга и модели машинного обучения результаты по Региону 1 следующие:\n",
    "* Средняя выручка: 10490.767043045487\n",
    "* 95%-ый доверительный интервал: 10109.508376367205 10924.478580219586\n",
    "* Риск убытков в процентах: 0.4"
   ]
  },
  {
   "cell_type": "markdown",
   "metadata": {},
   "source": [
    "<div class=\"alert alert-success\">\n",
    "<h2> Комментарий ревьюера <a class=\"tocSkip\"> </h2>\n",
    "\n",
    "<b>Все отлично!👍:</b> \n",
    "    \n",
    "Согласен с выводами, отлично, что пишешь ключевую информацию - это делает наш отчет более информативным. Чтобы ещё его улучшить можно добавить информацию по модели (метрики и т.п.), а так же идеи насчет улучшения результатов"
   ]
  },
  {
   "cell_type": "markdown",
   "metadata": {},
   "source": [
    "<div style=\"border:solid Chocolate 2px; padding: 40px\">\n",
    "\n",
    "**Общий вывод по проекту (комментарий ревьера)**\n",
    "\n",
    "Спасибо за твой проект! Есть несколько моментов, помеченных красным, которые стоит исправить. Если хочешь получить ещё больше опыта - попробуй воспользоваться частью советов из желтых комментариев. В целом, логика проекта верна, так что уверен, что тебе не составит труда исправить все остальное.\n",
    "\n",
    "**Отмечу отдельные положительные моменты проекта🙂**:\n",
    "\n",
    "* Достаточное комментирование по ходу работы\n",
    "* Блоки кода структурированы и логичны\n",
    "\n",
    "**На что стоит обратить внимание🤓**:\n",
    "\n",
    "* Стоит переиспользовать код в виде функций и использовать константы\n",
    "* Остальные рекомендации ты найдешь в моих комментариях!\n",
    "\n",
    "\n",
    "**Желаю удачи и жду твой проект на повторное ревью!**😉\n"
   ]
  },
  {
   "cell_type": "markdown",
   "metadata": {},
   "source": [
    "<div class=\"alert alert-info\">\n",
    "    <h2> Комментарий студента <a class=\"tocSkip\"> </h2>\n",
    "\n",
    "    \n",
    "В итоге переделал проект с использованием новых функций и списка списков с данными по регионам. Единственное \"желтое\" замечание, которое я не отработал - корреляционный анализ данных, хотелось бы поподробнее узнать, как его можно провести примерно."
   ]
  },
  {
   "cell_type": "markdown",
   "metadata": {},
   "source": [
    "<div class=\"alert alert-success\">\n",
    "\n",
    "<h2> Комментарий ревьюера 2 итерация <a class=\"tocSkip\"> </h2>\n",
    "\n",
    "Можно посмотреть, например, здесь\n",
    "    \n",
    "https://habr.com/ru/post/557998/\n",
    "    \n",
    "https://medium.com/@dipti.rohan.pawar/correlation-statistical-analysis-9471411f0431"
   ]
  },
  {
   "cell_type": "markdown",
   "metadata": {},
   "source": [
    "## Чек-лист готовности проекта"
   ]
  },
  {
   "cell_type": "markdown",
   "metadata": {},
   "source": [
    "Поставьте 'x' в выполненных пунктах. Далее нажмите Shift+Enter."
   ]
  },
  {
   "cell_type": "markdown",
   "metadata": {},
   "source": [
    "- [x]  Jupyter Notebook открыт\n",
    "- [x]  Весь код выполняется без ошибок\n",
    "- [x]  Ячейки с кодом расположены в порядке исполнения\n",
    "- [x]  Выполнен шаг 1: данные подготовлены\n",
    "- [x]  Выполнен шаг 2: модели обучены и проверены\n",
    "    - [x]  Данные корректно разбиты на обучающую и валидационную выборки\n",
    "    - [x]  Модели обучены, предсказания сделаны\n",
    "    - [x]  Предсказания и правильные ответы на валидационной выборке сохранены\n",
    "    - [x]  На экране напечатаны результаты\n",
    "    - [x]  Сделаны выводы\n",
    "- [x]  Выполнен шаг 3: проведена подготовка к расчёту прибыли\n",
    "    - [x]  Для всех ключевых значений созданы константы Python\n",
    "    - [x]  Посчитано минимальное среднее количество продукта в месторождениях региона, достаточное для разработки\n",
    "    - [x]  По предыдущему пункту сделаны выводы\n",
    "    - [x]  Написана функция расчёта прибыли\n",
    "- [x]  Выполнен шаг 4: посчитаны риски и прибыль\n",
    "    - [x]  Проведена процедура *Bootstrap*\n",
    "    - [x]  Все параметры бутстрепа соответствуют условию\n",
    "    - [x]  Найдены все нужные величины\n",
    "    - [x]  Предложен регион для разработки месторождения\n",
    "    - [x]  Выбор региона обоснован"
   ]
  },
  {
   "cell_type": "code",
   "execution_count": 39,
   "metadata": {},
   "outputs": [],
   "source": [
    "features_r1_cv, features_r1_test, target_r1_cv, target_r1_test = train_test_split(features_r1,\n",
    "                                                                                  target_r1,\n",
    "                                                                                  test_size=0.25,\n",
    "                                                                                  shuffle=True,\n",
    "                                                                                  random_state=131296)"
   ]
  },
  {
   "cell_type": "code",
   "execution_count": 51,
   "metadata": {},
   "outputs": [],
   "source": [
    "def risk_score_2(y_true, y_pred):\n",
    "    state = np.random.RandomState(131296)\n",
    "    values = []\n",
    "    \n",
    "    y_true = y_true.reset_index(drop=True)\n",
    "    y_pred = pd.Series(y_pred)\n",
    "    \n",
    "    for i in range(1000):\n",
    "        target_subsample = y_true.sample(replace=True, random_state=state, n=500, axis=0)\n",
    "        probs_subsample = y_pred[target_subsample.index]\n",
    "        values.append(revenue(target_subsample, probs_subsample, 200))\n",
    " \n",
    "    loss=0\n",
    "    for i in values:\n",
    "        if i < budget:\n",
    "            loss += 1\n",
    "    \n",
    "    error = loss/10\n",
    "    return error"
   ]
  },
  {
   "cell_type": "code",
   "execution_count": 52,
   "metadata": {},
   "outputs": [],
   "source": [
    "risk_scorer_2 = make_scorer(risk_score_2, greater_is_better=False)"
   ]
  },
  {
   "cell_type": "code",
   "execution_count": 53,
   "metadata": {},
   "outputs": [],
   "source": [
    "model_test = LinearRegression()\n",
    "scores = cross_val_score(model_test, features_r1_cv, target_r1_cv, cv=5, scoring=risk_scorer_2)"
   ]
  },
  {
   "cell_type": "code",
   "execution_count": 56,
   "metadata": {},
   "outputs": [
    {
     "name": "stdout",
     "output_type": "stream",
     "text": [
      "[-0.5 -0.4 -0.7 -0.2 -0.4]\n",
      "0.44000000000000006\n"
     ]
    }
   ],
   "source": [
    "print(scores)\n",
    "print(abs(np.mean(scores)))"
   ]
  }
 ],
 "metadata": {
  "ExecuteTimeLog": [
   {
    "duration": 1406,
    "start_time": "2022-10-05T18:43:16.755Z"
   },
   {
    "duration": 720,
    "start_time": "2022-10-05T18:46:34.870Z"
   },
   {
    "duration": 51,
    "start_time": "2022-10-05T18:46:59.166Z"
   },
   {
    "duration": 42,
    "start_time": "2022-10-05T18:47:17.806Z"
   },
   {
    "duration": 53,
    "start_time": "2022-10-05T18:47:32.384Z"
   },
   {
    "duration": 47,
    "start_time": "2022-10-05T18:50:37.148Z"
   },
   {
    "duration": 47,
    "start_time": "2022-10-05T18:51:22.420Z"
   },
   {
    "duration": 4,
    "start_time": "2022-10-05T18:55:03.800Z"
   },
   {
    "duration": 11,
    "start_time": "2022-10-05T18:55:22.426Z"
   },
   {
    "duration": 4,
    "start_time": "2022-10-05T18:55:27.395Z"
   },
   {
    "duration": 11,
    "start_time": "2022-10-05T18:56:21.507Z"
   },
   {
    "duration": 13,
    "start_time": "2022-10-05T18:58:13.790Z"
   },
   {
    "duration": 4,
    "start_time": "2022-10-05T19:08:43.553Z"
   },
   {
    "duration": 108,
    "start_time": "2022-10-05T19:11:11.551Z"
   },
   {
    "duration": 16,
    "start_time": "2022-10-05T19:11:32.269Z"
   },
   {
    "duration": 280,
    "start_time": "2022-10-05T19:11:46.422Z"
   },
   {
    "duration": 316,
    "start_time": "2022-10-05T19:12:43.887Z"
   },
   {
    "duration": 307,
    "start_time": "2022-10-05T19:13:21.096Z"
   },
   {
    "duration": 249,
    "start_time": "2022-10-05T19:13:34.560Z"
   },
   {
    "duration": 281,
    "start_time": "2022-10-05T19:13:50.329Z"
   },
   {
    "duration": 1317,
    "start_time": "2022-10-05T19:14:25.476Z"
   },
   {
    "duration": 332,
    "start_time": "2022-10-05T19:14:26.794Z"
   },
   {
    "duration": 55,
    "start_time": "2022-10-05T19:14:27.127Z"
   },
   {
    "duration": 52,
    "start_time": "2022-10-05T19:14:27.184Z"
   },
   {
    "duration": 65,
    "start_time": "2022-10-05T19:14:27.237Z"
   },
   {
    "duration": 4,
    "start_time": "2022-10-05T19:14:27.303Z"
   },
   {
    "duration": 13,
    "start_time": "2022-10-05T19:14:27.308Z"
   },
   {
    "duration": 2,
    "start_time": "2022-10-05T19:14:27.323Z"
   },
   {
    "duration": 382,
    "start_time": "2022-10-05T19:14:27.327Z"
   },
   {
    "duration": 113,
    "start_time": "2022-10-05T19:15:44.981Z"
   },
   {
    "duration": 580,
    "start_time": "2022-10-05T19:17:11.422Z"
   },
   {
    "duration": 13,
    "start_time": "2022-10-05T19:17:51.344Z"
   },
   {
    "duration": 674,
    "start_time": "2022-10-05T19:18:17.137Z"
   },
   {
    "duration": 4,
    "start_time": "2022-10-05T19:18:49.321Z"
   },
   {
    "duration": 521,
    "start_time": "2022-10-05T19:18:53.986Z"
   },
   {
    "duration": 478,
    "start_time": "2022-10-05T19:21:36.125Z"
   },
   {
    "duration": 11,
    "start_time": "2022-10-05T19:22:29.982Z"
   },
   {
    "duration": 537,
    "start_time": "2022-10-05T19:22:54.671Z"
   },
   {
    "duration": 538,
    "start_time": "2022-10-05T19:23:15.465Z"
   },
   {
    "duration": 14,
    "start_time": "2022-10-05T19:23:27.479Z"
   },
   {
    "duration": 484,
    "start_time": "2022-10-05T19:23:28.919Z"
   },
   {
    "duration": 11,
    "start_time": "2022-10-05T19:24:15.841Z"
   },
   {
    "duration": 575,
    "start_time": "2022-10-05T19:25:11.434Z"
   },
   {
    "duration": 1393,
    "start_time": "2022-10-11T05:58:58.239Z"
   },
   {
    "duration": 851,
    "start_time": "2022-10-11T05:58:59.634Z"
   },
   {
    "duration": 55,
    "start_time": "2022-10-11T05:59:00.487Z"
   },
   {
    "duration": 60,
    "start_time": "2022-10-11T05:59:00.543Z"
   },
   {
    "duration": 47,
    "start_time": "2022-10-11T05:59:00.604Z"
   },
   {
    "duration": 4,
    "start_time": "2022-10-11T05:59:00.652Z"
   },
   {
    "duration": 31,
    "start_time": "2022-10-11T05:59:00.658Z"
   },
   {
    "duration": 612,
    "start_time": "2022-10-11T05:59:00.691Z"
   },
   {
    "duration": 102,
    "start_time": "2022-10-11T05:59:01.305Z"
   },
   {
    "duration": 699,
    "start_time": "2022-10-11T05:59:01.409Z"
   },
   {
    "duration": 193,
    "start_time": "2022-10-11T05:59:02.110Z"
   },
   {
    "duration": 606,
    "start_time": "2022-10-11T05:59:02.304Z"
   },
   {
    "duration": 1752,
    "start_time": "2022-10-11T17:36:04.456Z"
   },
   {
    "duration": 1474,
    "start_time": "2022-10-11T17:36:06.210Z"
   },
   {
    "duration": 55,
    "start_time": "2022-10-11T17:36:07.685Z"
   },
   {
    "duration": 63,
    "start_time": "2022-10-11T17:36:07.742Z"
   },
   {
    "duration": 50,
    "start_time": "2022-10-11T17:36:07.807Z"
   },
   {
    "duration": 26,
    "start_time": "2022-10-11T17:36:07.859Z"
   },
   {
    "duration": 12,
    "start_time": "2022-10-11T17:36:07.886Z"
   },
   {
    "duration": 588,
    "start_time": "2022-10-11T17:36:07.900Z"
   },
   {
    "duration": 100,
    "start_time": "2022-10-11T17:36:08.490Z"
   },
   {
    "duration": 595,
    "start_time": "2022-10-11T17:36:08.592Z"
   },
   {
    "duration": 104,
    "start_time": "2022-10-11T17:36:09.189Z"
   },
   {
    "duration": 593,
    "start_time": "2022-10-11T17:36:09.295Z"
   },
   {
    "duration": 1431,
    "start_time": "2022-10-11T17:38:19.507Z"
   },
   {
    "duration": 706,
    "start_time": "2022-10-11T17:38:35.086Z"
   },
   {
    "duration": 512,
    "start_time": "2022-10-11T17:51:10.076Z"
   },
   {
    "duration": 472,
    "start_time": "2022-10-11T17:51:19.916Z"
   },
   {
    "duration": 513,
    "start_time": "2022-10-11T17:52:19.175Z"
   },
   {
    "duration": 439,
    "start_time": "2022-10-11T17:52:24.950Z"
   },
   {
    "duration": 2,
    "start_time": "2022-10-11T17:57:24.291Z"
   },
   {
    "duration": 3,
    "start_time": "2022-10-11T18:02:51.338Z"
   },
   {
    "duration": 3,
    "start_time": "2022-10-11T18:03:01.450Z"
   },
   {
    "duration": 117,
    "start_time": "2022-10-11T18:07:46.984Z"
   },
   {
    "duration": 4,
    "start_time": "2022-10-11T18:13:11.766Z"
   },
   {
    "duration": 1516,
    "start_time": "2022-10-12T11:41:28.426Z"
   },
   {
    "duration": 711,
    "start_time": "2022-10-12T11:41:29.944Z"
   },
   {
    "duration": 74,
    "start_time": "2022-10-12T11:41:30.657Z"
   },
   {
    "duration": 55,
    "start_time": "2022-10-12T11:41:30.734Z"
   },
   {
    "duration": 68,
    "start_time": "2022-10-12T11:41:30.791Z"
   },
   {
    "duration": 8,
    "start_time": "2022-10-12T11:41:30.862Z"
   },
   {
    "duration": 50,
    "start_time": "2022-10-12T11:41:30.872Z"
   },
   {
    "duration": 588,
    "start_time": "2022-10-12T11:41:30.924Z"
   },
   {
    "duration": 698,
    "start_time": "2022-10-12T11:41:31.514Z"
   },
   {
    "duration": 904,
    "start_time": "2022-10-12T11:41:32.214Z"
   },
   {
    "duration": 0,
    "start_time": "2022-10-12T11:41:33.119Z"
   },
   {
    "duration": 1,
    "start_time": "2022-10-12T11:41:33.120Z"
   },
   {
    "duration": 568,
    "start_time": "2022-10-12T11:42:20.644Z"
   },
   {
    "duration": 3,
    "start_time": "2022-10-12T11:42:24.329Z"
   },
   {
    "duration": 5,
    "start_time": "2022-10-12T11:42:24.834Z"
   },
   {
    "duration": 482,
    "start_time": "2022-10-12T11:43:53.733Z"
   },
   {
    "duration": 531,
    "start_time": "2022-10-12T11:43:58.381Z"
   },
   {
    "duration": 585,
    "start_time": "2022-10-12T11:44:03.933Z"
   },
   {
    "duration": 3,
    "start_time": "2022-10-12T11:46:06.183Z"
   },
   {
    "duration": 4,
    "start_time": "2022-10-12T11:46:07.827Z"
   },
   {
    "duration": 3,
    "start_time": "2022-10-12T13:20:31.963Z"
   },
   {
    "duration": 11,
    "start_time": "2022-10-12T13:26:53.731Z"
   },
   {
    "duration": 17,
    "start_time": "2022-10-12T13:29:19.447Z"
   },
   {
    "duration": 10,
    "start_time": "2022-10-12T13:33:36.323Z"
   },
   {
    "duration": 10,
    "start_time": "2022-10-12T13:34:50.308Z"
   },
   {
    "duration": 600,
    "start_time": "2022-10-12T13:35:01.218Z"
   },
   {
    "duration": 702,
    "start_time": "2022-10-12T13:35:25.213Z"
   },
   {
    "duration": 495,
    "start_time": "2022-10-12T13:35:44.517Z"
   },
   {
    "duration": 17,
    "start_time": "2022-10-12T13:35:51.894Z"
   },
   {
    "duration": 21,
    "start_time": "2022-10-12T13:36:04.821Z"
   },
   {
    "duration": 484,
    "start_time": "2022-10-12T13:36:22.630Z"
   },
   {
    "duration": 19,
    "start_time": "2022-10-12T13:38:08.952Z"
   },
   {
    "duration": 16,
    "start_time": "2022-10-12T13:38:38.281Z"
   },
   {
    "duration": 16,
    "start_time": "2022-10-12T13:43:23.300Z"
   },
   {
    "duration": 3,
    "start_time": "2022-10-12T13:43:45.143Z"
   },
   {
    "duration": 19,
    "start_time": "2022-10-12T13:43:46.615Z"
   },
   {
    "duration": 50,
    "start_time": "2022-10-12T13:44:11.552Z"
   },
   {
    "duration": 4,
    "start_time": "2022-10-12T13:44:15.526Z"
   },
   {
    "duration": 20,
    "start_time": "2022-10-12T13:44:17.248Z"
   },
   {
    "duration": 3,
    "start_time": "2022-10-12T13:44:39.631Z"
   },
   {
    "duration": 23,
    "start_time": "2022-10-12T13:44:44.553Z"
   },
   {
    "duration": 3,
    "start_time": "2022-10-12T16:23:02.575Z"
   },
   {
    "duration": 6,
    "start_time": "2022-10-12T16:23:14.383Z"
   },
   {
    "duration": 4,
    "start_time": "2022-10-12T16:23:26.592Z"
   },
   {
    "duration": 8,
    "start_time": "2022-10-12T16:23:53.064Z"
   },
   {
    "duration": 8,
    "start_time": "2022-10-12T16:24:02.784Z"
   },
   {
    "duration": 12,
    "start_time": "2022-10-12T16:24:09.449Z"
   },
   {
    "duration": 7,
    "start_time": "2022-10-12T16:24:16.775Z"
   },
   {
    "duration": 4,
    "start_time": "2022-10-12T16:24:50.233Z"
   },
   {
    "duration": 21,
    "start_time": "2022-10-12T16:24:52.266Z"
   },
   {
    "duration": 20,
    "start_time": "2022-10-12T16:25:38.298Z"
   },
   {
    "duration": 7,
    "start_time": "2022-10-12T16:29:11.289Z"
   },
   {
    "duration": 9,
    "start_time": "2022-10-12T16:30:27.368Z"
   },
   {
    "duration": 10,
    "start_time": "2022-10-12T16:30:40.834Z"
   },
   {
    "duration": 3,
    "start_time": "2022-10-12T16:31:41.338Z"
   },
   {
    "duration": 3,
    "start_time": "2022-10-12T16:31:43.332Z"
   },
   {
    "duration": 10,
    "start_time": "2022-10-12T16:31:45.450Z"
   },
   {
    "duration": 1131,
    "start_time": "2022-10-12T16:31:47.866Z"
   },
   {
    "duration": 4,
    "start_time": "2022-10-12T16:32:22.475Z"
   },
   {
    "duration": 3,
    "start_time": "2022-10-12T17:04:54.595Z"
   },
   {
    "duration": 1194,
    "start_time": "2022-10-12T17:05:32.243Z"
   },
   {
    "duration": 3,
    "start_time": "2022-10-12T17:05:43.578Z"
   },
   {
    "duration": 3,
    "start_time": "2022-10-12T17:06:26.308Z"
   },
   {
    "duration": 3,
    "start_time": "2022-10-12T17:06:31.996Z"
   },
   {
    "duration": 1264,
    "start_time": "2022-10-12T17:11:32.477Z"
   },
   {
    "duration": 4,
    "start_time": "2022-10-12T17:28:26.966Z"
   },
   {
    "duration": 3,
    "start_time": "2022-10-12T17:28:34.375Z"
   },
   {
    "duration": 1109,
    "start_time": "2022-10-12T17:31:06.962Z"
   },
   {
    "duration": 1142,
    "start_time": "2022-10-12T17:32:14.940Z"
   },
   {
    "duration": 1119,
    "start_time": "2022-10-12T17:33:39.237Z"
   },
   {
    "duration": 1193,
    "start_time": "2022-10-12T17:33:52.229Z"
   },
   {
    "duration": 4,
    "start_time": "2022-10-12T17:35:57.680Z"
   },
   {
    "duration": 1130,
    "start_time": "2022-10-12T17:36:01.336Z"
   },
   {
    "duration": 1200,
    "start_time": "2022-10-12T17:36:22.264Z"
   },
   {
    "duration": 1136,
    "start_time": "2022-10-12T17:37:00.154Z"
   },
   {
    "duration": 4,
    "start_time": "2022-10-12T17:38:42.156Z"
   },
   {
    "duration": 5,
    "start_time": "2022-10-12T17:39:02.795Z"
   },
   {
    "duration": 4,
    "start_time": "2022-10-12T17:39:16.396Z"
   },
   {
    "duration": 1169,
    "start_time": "2022-10-12T17:41:45.415Z"
   },
   {
    "duration": 1125,
    "start_time": "2022-10-12T17:42:00.504Z"
   },
   {
    "duration": 1314,
    "start_time": "2022-10-12T17:42:24.028Z"
   },
   {
    "duration": 356,
    "start_time": "2022-10-12T17:42:25.344Z"
   },
   {
    "duration": 62,
    "start_time": "2022-10-12T17:42:25.702Z"
   },
   {
    "duration": 67,
    "start_time": "2022-10-12T17:42:25.765Z"
   },
   {
    "duration": 60,
    "start_time": "2022-10-12T17:42:25.834Z"
   },
   {
    "duration": 14,
    "start_time": "2022-10-12T17:42:25.895Z"
   },
   {
    "duration": 33,
    "start_time": "2022-10-12T17:42:25.911Z"
   },
   {
    "duration": 567,
    "start_time": "2022-10-12T17:42:25.945Z"
   },
   {
    "duration": 603,
    "start_time": "2022-10-12T17:42:26.514Z"
   },
   {
    "duration": 793,
    "start_time": "2022-10-12T17:42:27.119Z"
   },
   {
    "duration": 2,
    "start_time": "2022-10-12T17:42:27.914Z"
   },
   {
    "duration": 192,
    "start_time": "2022-10-12T17:42:27.918Z"
   },
   {
    "duration": 38,
    "start_time": "2022-10-12T17:42:28.111Z"
   },
   {
    "duration": 31,
    "start_time": "2022-10-12T17:42:28.151Z"
   },
   {
    "duration": 1210,
    "start_time": "2022-10-12T17:42:28.184Z"
   },
   {
    "duration": 1205,
    "start_time": "2022-10-12T17:42:29.396Z"
   },
   {
    "duration": 1243,
    "start_time": "2022-10-12T17:42:30.603Z"
   },
   {
    "duration": 5,
    "start_time": "2022-10-12T17:47:41.648Z"
   },
   {
    "duration": 1444,
    "start_time": "2022-10-12T17:47:57.944Z"
   },
   {
    "duration": 351,
    "start_time": "2022-10-12T17:47:59.390Z"
   },
   {
    "duration": 67,
    "start_time": "2022-10-12T17:47:59.743Z"
   },
   {
    "duration": 58,
    "start_time": "2022-10-12T17:47:59.812Z"
   },
   {
    "duration": 76,
    "start_time": "2022-10-12T17:47:59.872Z"
   },
   {
    "duration": 10,
    "start_time": "2022-10-12T17:47:59.950Z"
   },
   {
    "duration": 51,
    "start_time": "2022-10-12T17:47:59.962Z"
   },
   {
    "duration": 495,
    "start_time": "2022-10-12T17:48:00.015Z"
   },
   {
    "duration": 600,
    "start_time": "2022-10-12T17:48:00.512Z"
   },
   {
    "duration": 595,
    "start_time": "2022-10-12T17:48:01.115Z"
   },
   {
    "duration": 5,
    "start_time": "2022-10-12T17:48:01.716Z"
   },
   {
    "duration": 15,
    "start_time": "2022-10-12T17:48:01.808Z"
   },
   {
    "duration": 9,
    "start_time": "2022-10-12T17:48:01.825Z"
   },
   {
    "duration": 9,
    "start_time": "2022-10-12T17:48:01.836Z"
   },
   {
    "duration": 1394,
    "start_time": "2022-10-12T17:48:01.846Z"
   },
   {
    "duration": 1290,
    "start_time": "2022-10-12T17:48:03.243Z"
   },
   {
    "duration": 1233,
    "start_time": "2022-10-12T17:48:04.535Z"
   },
   {
    "duration": 269,
    "start_time": "2022-10-12T17:49:59.080Z"
   },
   {
    "duration": 430,
    "start_time": "2022-10-12T17:50:14.041Z"
   },
   {
    "duration": 441,
    "start_time": "2022-10-12T17:50:23.850Z"
   },
   {
    "duration": 125,
    "start_time": "2022-10-12T17:50:45.690Z"
   },
   {
    "duration": 1512,
    "start_time": "2022-10-12T17:59:22.032Z"
   },
   {
    "duration": 774,
    "start_time": "2022-10-12T17:59:23.547Z"
   },
   {
    "duration": 59,
    "start_time": "2022-10-12T17:59:24.323Z"
   },
   {
    "duration": 81,
    "start_time": "2022-10-12T17:59:24.384Z"
   },
   {
    "duration": 68,
    "start_time": "2022-10-12T17:59:24.468Z"
   },
   {
    "duration": 8,
    "start_time": "2022-10-12T17:59:24.537Z"
   },
   {
    "duration": 35,
    "start_time": "2022-10-12T17:59:24.547Z"
   },
   {
    "duration": 447,
    "start_time": "2022-10-12T17:59:24.584Z"
   },
   {
    "duration": 881,
    "start_time": "2022-10-12T17:59:25.033Z"
   },
   {
    "duration": 699,
    "start_time": "2022-10-12T17:59:25.919Z"
   },
   {
    "duration": 5,
    "start_time": "2022-10-12T17:59:26.621Z"
   },
   {
    "duration": 204,
    "start_time": "2022-10-12T17:59:26.629Z"
   },
   {
    "duration": 10,
    "start_time": "2022-10-12T17:59:26.834Z"
   },
   {
    "duration": 1359,
    "start_time": "2022-10-12T17:59:26.847Z"
   },
   {
    "duration": 1354,
    "start_time": "2022-10-12T17:59:28.208Z"
   },
   {
    "duration": 1307,
    "start_time": "2022-10-12T17:59:29.564Z"
   },
   {
    "duration": 8,
    "start_time": "2022-10-12T18:09:35.635Z"
   },
   {
    "duration": 8,
    "start_time": "2022-10-12T18:09:58.764Z"
   },
   {
    "duration": 10,
    "start_time": "2022-10-12T18:10:13.404Z"
   },
   {
    "duration": 424,
    "start_time": "2022-10-12T18:10:44.548Z"
   },
   {
    "duration": 427,
    "start_time": "2022-10-12T18:16:20.091Z"
   },
   {
    "duration": 5,
    "start_time": "2022-10-12T18:16:28.947Z"
   },
   {
    "duration": 1333,
    "start_time": "2022-10-12T18:16:31.939Z"
   },
   {
    "duration": 474,
    "start_time": "2022-10-12T18:26:12.648Z"
   },
   {
    "duration": 461,
    "start_time": "2022-10-12T18:26:24.848Z"
   },
   {
    "duration": 446,
    "start_time": "2022-10-12T18:26:32.367Z"
   },
   {
    "duration": 4,
    "start_time": "2022-10-12T18:34:11.673Z"
   },
   {
    "duration": 5,
    "start_time": "2022-10-12T18:44:53.352Z"
   },
   {
    "duration": 1387,
    "start_time": "2022-10-12T20:03:26.491Z"
   },
   {
    "duration": 566,
    "start_time": "2022-10-12T20:03:27.880Z"
   },
   {
    "duration": 62,
    "start_time": "2022-10-12T20:03:28.448Z"
   },
   {
    "duration": 50,
    "start_time": "2022-10-12T20:03:28.512Z"
   },
   {
    "duration": 76,
    "start_time": "2022-10-12T20:03:28.565Z"
   },
   {
    "duration": 8,
    "start_time": "2022-10-12T20:03:28.642Z"
   },
   {
    "duration": 34,
    "start_time": "2022-10-12T20:03:28.652Z"
   },
   {
    "duration": 624,
    "start_time": "2022-10-12T20:03:28.688Z"
   },
   {
    "duration": 699,
    "start_time": "2022-10-12T20:03:29.314Z"
   },
   {
    "duration": 601,
    "start_time": "2022-10-12T20:03:30.015Z"
   },
   {
    "duration": 95,
    "start_time": "2022-10-12T20:03:30.618Z"
   },
   {
    "duration": 101,
    "start_time": "2022-10-12T20:03:30.718Z"
   },
   {
    "duration": 7,
    "start_time": "2022-10-12T20:03:30.820Z"
   },
   {
    "duration": 12,
    "start_time": "2022-10-12T20:03:30.829Z"
   },
   {
    "duration": 1143,
    "start_time": "2022-10-12T20:03:30.843Z"
   },
   {
    "duration": 1199,
    "start_time": "2022-10-12T20:03:31.987Z"
   },
   {
    "duration": 1159,
    "start_time": "2022-10-12T20:03:33.187Z"
   },
   {
    "duration": 1897,
    "start_time": "2022-10-14T09:19:10.206Z"
   },
   {
    "duration": 2159,
    "start_time": "2022-10-14T09:19:12.106Z"
   },
   {
    "duration": 73,
    "start_time": "2022-10-14T09:19:14.267Z"
   },
   {
    "duration": 84,
    "start_time": "2022-10-14T09:19:14.342Z"
   },
   {
    "duration": 82,
    "start_time": "2022-10-14T09:19:14.428Z"
   },
   {
    "duration": 9,
    "start_time": "2022-10-14T09:19:14.512Z"
   },
   {
    "duration": 40,
    "start_time": "2022-10-14T09:19:14.523Z"
   },
   {
    "duration": 827,
    "start_time": "2022-10-14T09:19:14.565Z"
   },
   {
    "duration": 798,
    "start_time": "2022-10-14T09:19:15.395Z"
   },
   {
    "duration": 697,
    "start_time": "2022-10-14T09:19:16.196Z"
   },
   {
    "duration": 4,
    "start_time": "2022-10-14T09:19:16.895Z"
   },
   {
    "duration": 191,
    "start_time": "2022-10-14T09:19:16.901Z"
   },
   {
    "duration": 12,
    "start_time": "2022-10-14T09:19:17.094Z"
   },
   {
    "duration": 16,
    "start_time": "2022-10-14T09:19:17.108Z"
   },
   {
    "duration": 1595,
    "start_time": "2022-10-14T09:19:17.127Z"
   },
   {
    "duration": 1516,
    "start_time": "2022-10-14T09:19:18.724Z"
   },
   {
    "duration": 1597,
    "start_time": "2022-10-14T09:19:20.243Z"
   },
   {
    "duration": 1570,
    "start_time": "2022-10-14T09:23:18.808Z"
   },
   {
    "duration": 4,
    "start_time": "2022-10-14T09:44:40.071Z"
   },
   {
    "duration": 1614,
    "start_time": "2022-10-14T09:46:25.317Z"
   },
   {
    "duration": 447,
    "start_time": "2022-10-14T09:46:26.934Z"
   },
   {
    "duration": 82,
    "start_time": "2022-10-14T09:46:27.383Z"
   },
   {
    "duration": 82,
    "start_time": "2022-10-14T09:46:27.467Z"
   },
   {
    "duration": 86,
    "start_time": "2022-10-14T09:46:27.552Z"
   },
   {
    "duration": 8,
    "start_time": "2022-10-14T09:46:27.640Z"
   },
   {
    "duration": 71,
    "start_time": "2022-10-14T09:46:27.651Z"
   },
   {
    "duration": 675,
    "start_time": "2022-10-14T09:46:27.724Z"
   },
   {
    "duration": 690,
    "start_time": "2022-10-14T09:46:28.403Z"
   },
   {
    "duration": 808,
    "start_time": "2022-10-14T09:46:29.095Z"
   },
   {
    "duration": 15,
    "start_time": "2022-10-14T09:46:29.906Z"
   },
   {
    "duration": 131,
    "start_time": "2022-10-14T09:46:29.991Z"
   },
   {
    "duration": 19,
    "start_time": "2022-10-14T09:46:30.124Z"
   },
   {
    "duration": 23,
    "start_time": "2022-10-14T09:46:30.147Z"
   },
   {
    "duration": 1696,
    "start_time": "2022-10-14T09:46:30.172Z"
   },
   {
    "duration": 1713,
    "start_time": "2022-10-14T09:46:31.871Z"
   },
   {
    "duration": 1612,
    "start_time": "2022-10-14T09:46:33.589Z"
   },
   {
    "duration": 78,
    "start_time": "2022-10-14T09:59:39.001Z"
   },
   {
    "duration": 7,
    "start_time": "2022-10-14T10:00:06.324Z"
   },
   {
    "duration": 127,
    "start_time": "2022-10-14T10:01:19.548Z"
   },
   {
    "duration": 7,
    "start_time": "2022-10-14T10:01:31.213Z"
   },
   {
    "duration": 15,
    "start_time": "2022-10-14T10:01:33.300Z"
   },
   {
    "duration": 6,
    "start_time": "2022-10-14T10:01:44.815Z"
   },
   {
    "duration": 814,
    "start_time": "2022-10-14T10:01:46.485Z"
   },
   {
    "duration": 5,
    "start_time": "2022-10-14T10:02:47.119Z"
   },
   {
    "duration": 880,
    "start_time": "2022-10-14T10:02:48.718Z"
   },
   {
    "duration": 867,
    "start_time": "2022-10-14T10:03:03.639Z"
   },
   {
    "duration": 1064,
    "start_time": "2022-10-14T10:03:54.128Z"
   },
   {
    "duration": 7,
    "start_time": "2022-10-14T10:04:34.793Z"
   },
   {
    "duration": 1054,
    "start_time": "2022-10-14T10:04:36.537Z"
   },
   {
    "duration": 6,
    "start_time": "2022-10-14T10:04:47.416Z"
   },
   {
    "duration": 790,
    "start_time": "2022-10-14T10:04:49.009Z"
   },
   {
    "duration": 523,
    "start_time": "2022-10-14T10:04:53.073Z"
   },
   {
    "duration": 4,
    "start_time": "2022-10-14T10:04:56.017Z"
   },
   {
    "duration": 758,
    "start_time": "2022-10-14T10:05:18.538Z"
   },
   {
    "duration": 660,
    "start_time": "2022-10-14T10:05:41.834Z"
   },
   {
    "duration": 3,
    "start_time": "2022-10-14T10:09:00.918Z"
   },
   {
    "duration": 4,
    "start_time": "2022-10-14T10:11:33.041Z"
   },
   {
    "duration": 4,
    "start_time": "2022-10-14T10:13:53.572Z"
   },
   {
    "duration": 5,
    "start_time": "2022-10-14T10:14:01.988Z"
   },
   {
    "duration": 766,
    "start_time": "2022-10-14T10:14:04.731Z"
   },
   {
    "duration": 669,
    "start_time": "2022-10-14T10:14:06.426Z"
   },
   {
    "duration": 836,
    "start_time": "2022-10-14T10:14:08.163Z"
   },
   {
    "duration": 4,
    "start_time": "2022-10-14T10:14:14.780Z"
   },
   {
    "duration": 747,
    "start_time": "2022-10-14T10:14:15.947Z"
   },
   {
    "duration": 773,
    "start_time": "2022-10-14T10:14:17.820Z"
   },
   {
    "duration": 814,
    "start_time": "2022-10-14T10:14:19.483Z"
   },
   {
    "duration": 7,
    "start_time": "2022-10-14T10:29:02.422Z"
   },
   {
    "duration": 7,
    "start_time": "2022-10-14T10:29:14.682Z"
   },
   {
    "duration": 6,
    "start_time": "2022-10-14T10:37:25.371Z"
   },
   {
    "duration": 1428,
    "start_time": "2022-10-14T10:37:46.935Z"
   },
   {
    "duration": 1432,
    "start_time": "2022-10-14T10:37:51.847Z"
   },
   {
    "duration": 1481,
    "start_time": "2022-10-14T10:38:11.336Z"
   },
   {
    "duration": 1415,
    "start_time": "2022-10-14T10:38:18.544Z"
   },
   {
    "duration": 5,
    "start_time": "2022-10-14T11:18:30.744Z"
   },
   {
    "duration": 10,
    "start_time": "2022-10-14T11:18:32.297Z"
   },
   {
    "duration": 1402,
    "start_time": "2022-10-14T11:18:40.180Z"
   },
   {
    "duration": 506,
    "start_time": "2022-10-14T11:18:41.585Z"
   },
   {
    "duration": 76,
    "start_time": "2022-10-14T11:18:42.093Z"
   },
   {
    "duration": 73,
    "start_time": "2022-10-14T11:18:42.171Z"
   },
   {
    "duration": 89,
    "start_time": "2022-10-14T11:18:42.245Z"
   },
   {
    "duration": 8,
    "start_time": "2022-10-14T11:18:42.336Z"
   },
   {
    "duration": 51,
    "start_time": "2022-10-14T11:18:42.345Z"
   },
   {
    "duration": 4,
    "start_time": "2022-10-14T11:18:42.398Z"
   },
   {
    "duration": 132,
    "start_time": "2022-10-14T11:18:42.404Z"
   },
   {
    "duration": 0,
    "start_time": "2022-10-14T11:18:42.538Z"
   },
   {
    "duration": 0,
    "start_time": "2022-10-14T11:18:42.539Z"
   },
   {
    "duration": 0,
    "start_time": "2022-10-14T11:18:42.540Z"
   },
   {
    "duration": 0,
    "start_time": "2022-10-14T11:18:42.541Z"
   },
   {
    "duration": 0,
    "start_time": "2022-10-14T11:18:42.542Z"
   },
   {
    "duration": 0,
    "start_time": "2022-10-14T11:18:42.543Z"
   },
   {
    "duration": 0,
    "start_time": "2022-10-14T11:18:42.545Z"
   },
   {
    "duration": 0,
    "start_time": "2022-10-14T11:18:42.546Z"
   },
   {
    "duration": 0,
    "start_time": "2022-10-14T11:18:42.547Z"
   },
   {
    "duration": 0,
    "start_time": "2022-10-14T11:18:42.548Z"
   },
   {
    "duration": 0,
    "start_time": "2022-10-14T11:18:42.549Z"
   },
   {
    "duration": 5,
    "start_time": "2022-10-14T11:19:22.386Z"
   },
   {
    "duration": 11,
    "start_time": "2022-10-14T11:19:23.826Z"
   },
   {
    "duration": 896,
    "start_time": "2022-10-14T11:21:07.701Z"
   },
   {
    "duration": 607,
    "start_time": "2022-10-14T11:21:36.293Z"
   },
   {
    "duration": 700,
    "start_time": "2022-10-14T11:21:47.093Z"
   },
   {
    "duration": 3,
    "start_time": "2022-10-14T11:22:15.773Z"
   },
   {
    "duration": 7,
    "start_time": "2022-10-14T11:22:17.077Z"
   },
   {
    "duration": 9,
    "start_time": "2022-10-14T11:22:19.070Z"
   },
   {
    "duration": 4,
    "start_time": "2022-10-14T11:22:22.047Z"
   },
   {
    "duration": 6,
    "start_time": "2022-10-14T11:22:28.374Z"
   },
   {
    "duration": 8,
    "start_time": "2022-10-14T11:22:30.893Z"
   },
   {
    "duration": 33,
    "start_time": "2022-10-14T11:22:32.909Z"
   },
   {
    "duration": 6,
    "start_time": "2022-10-14T11:23:17.502Z"
   },
   {
    "duration": 6,
    "start_time": "2022-10-14T11:23:19.215Z"
   },
   {
    "duration": 21,
    "start_time": "2022-10-14T11:23:21.703Z"
   },
   {
    "duration": 11,
    "start_time": "2022-10-14T11:23:40.783Z"
   },
   {
    "duration": 5,
    "start_time": "2022-10-14T11:23:44.296Z"
   },
   {
    "duration": 4,
    "start_time": "2022-10-14T11:23:53.799Z"
   },
   {
    "duration": 1449,
    "start_time": "2022-10-14T11:23:57.963Z"
   },
   {
    "duration": 401,
    "start_time": "2022-10-14T11:23:59.414Z"
   },
   {
    "duration": 63,
    "start_time": "2022-10-14T11:23:59.817Z"
   },
   {
    "duration": 63,
    "start_time": "2022-10-14T11:23:59.882Z"
   },
   {
    "duration": 82,
    "start_time": "2022-10-14T11:23:59.947Z"
   },
   {
    "duration": 9,
    "start_time": "2022-10-14T11:24:00.031Z"
   },
   {
    "duration": 55,
    "start_time": "2022-10-14T11:24:00.041Z"
   },
   {
    "duration": 5,
    "start_time": "2022-10-14T11:24:00.097Z"
   },
   {
    "duration": 787,
    "start_time": "2022-10-14T11:24:00.104Z"
   },
   {
    "duration": 899,
    "start_time": "2022-10-14T11:24:00.895Z"
   },
   {
    "duration": 996,
    "start_time": "2022-10-14T11:24:01.796Z"
   },
   {
    "duration": 4,
    "start_time": "2022-10-14T11:24:02.795Z"
   },
   {
    "duration": 8,
    "start_time": "2022-10-14T11:24:02.889Z"
   },
   {
    "duration": 11,
    "start_time": "2022-10-14T11:24:02.899Z"
   },
   {
    "duration": 8,
    "start_time": "2022-10-14T11:24:02.912Z"
   },
   {
    "duration": 7,
    "start_time": "2022-10-14T11:24:02.922Z"
   },
   {
    "duration": 7,
    "start_time": "2022-10-14T11:24:02.931Z"
   },
   {
    "duration": 9,
    "start_time": "2022-10-14T11:24:02.940Z"
   },
   {
    "duration": 7,
    "start_time": "2022-10-14T11:24:02.951Z"
   },
   {
    "duration": 161,
    "start_time": "2022-10-14T11:24:02.959Z"
   },
   {
    "duration": 0,
    "start_time": "2022-10-14T11:24:03.123Z"
   },
   {
    "duration": 0,
    "start_time": "2022-10-14T11:24:03.125Z"
   },
   {
    "duration": 643,
    "start_time": "2022-10-14T11:24:29.957Z"
   },
   {
    "duration": 4,
    "start_time": "2022-10-14T11:24:39.916Z"
   },
   {
    "duration": 757,
    "start_time": "2022-10-14T11:24:42.141Z"
   },
   {
    "duration": 4,
    "start_time": "2022-10-14T11:24:59.702Z"
   },
   {
    "duration": 777,
    "start_time": "2022-10-14T11:25:01.020Z"
   },
   {
    "duration": 690,
    "start_time": "2022-10-14T11:25:12.805Z"
   },
   {
    "duration": 93,
    "start_time": "2022-10-14T11:26:06.543Z"
   },
   {
    "duration": 4,
    "start_time": "2022-10-14T11:26:26.383Z"
   },
   {
    "duration": 941,
    "start_time": "2022-10-14T11:26:28.350Z"
   },
   {
    "duration": 901,
    "start_time": "2022-10-14T11:26:49.591Z"
   },
   {
    "duration": 852,
    "start_time": "2022-10-14T11:26:52.840Z"
   },
   {
    "duration": 5,
    "start_time": "2022-10-14T11:27:09.263Z"
   },
   {
    "duration": 805,
    "start_time": "2022-10-14T11:27:11.184Z"
   },
   {
    "duration": 6,
    "start_time": "2022-10-14T11:27:24.103Z"
   },
   {
    "duration": 5,
    "start_time": "2022-10-14T11:27:26.936Z"
   },
   {
    "duration": 4,
    "start_time": "2022-10-14T11:27:28.391Z"
   },
   {
    "duration": 6,
    "start_time": "2022-10-14T11:27:30.266Z"
   },
   {
    "duration": 21,
    "start_time": "2022-10-14T11:27:31.720Z"
   },
   {
    "duration": 5,
    "start_time": "2022-10-14T11:28:12.449Z"
   },
   {
    "duration": 877,
    "start_time": "2022-10-14T11:28:37.114Z"
   },
   {
    "duration": 82,
    "start_time": "2022-10-14T11:30:14.748Z"
   },
   {
    "duration": 73,
    "start_time": "2022-10-14T11:30:26.020Z"
   },
   {
    "duration": 77,
    "start_time": "2022-10-14T11:30:36.148Z"
   },
   {
    "duration": 33,
    "start_time": "2022-10-14T11:31:57.982Z"
   },
   {
    "duration": 5,
    "start_time": "2022-10-14T11:35:02.890Z"
   },
   {
    "duration": 13,
    "start_time": "2022-10-14T11:35:12.426Z"
   },
   {
    "duration": 38,
    "start_time": "2022-10-14T11:35:41.450Z"
   },
   {
    "duration": 17,
    "start_time": "2022-10-14T11:35:56.420Z"
   },
   {
    "duration": 13,
    "start_time": "2022-10-14T11:36:00.195Z"
   },
   {
    "duration": 11,
    "start_time": "2022-10-14T11:36:23.404Z"
   },
   {
    "duration": 34,
    "start_time": "2022-10-14T11:36:33.356Z"
   },
   {
    "duration": 36,
    "start_time": "2022-10-14T11:37:24.502Z"
   },
   {
    "duration": 1251,
    "start_time": "2022-10-14T11:37:27.252Z"
   },
   {
    "duration": 13,
    "start_time": "2022-10-14T11:37:31.173Z"
   },
   {
    "duration": 5,
    "start_time": "2022-10-14T11:37:34.429Z"
   },
   {
    "duration": 709,
    "start_time": "2022-10-14T11:37:36.389Z"
   },
   {
    "duration": 5,
    "start_time": "2022-10-14T11:38:27.422Z"
   },
   {
    "duration": 755,
    "start_time": "2022-10-14T11:38:28.934Z"
   },
   {
    "duration": 484,
    "start_time": "2022-10-14T11:38:42.310Z"
   },
   {
    "duration": 508,
    "start_time": "2022-10-14T11:38:48.390Z"
   },
   {
    "duration": 328,
    "start_time": "2022-10-14T11:39:47.785Z"
   },
   {
    "duration": 620,
    "start_time": "2022-10-14T11:39:57.575Z"
   },
   {
    "duration": 4,
    "start_time": "2022-10-14T11:40:30.528Z"
   },
   {
    "duration": 1734,
    "start_time": "2022-10-14T11:41:04.563Z"
   },
   {
    "duration": 33,
    "start_time": "2022-10-14T11:42:31.307Z"
   },
   {
    "duration": 11,
    "start_time": "2022-10-14T11:42:34.763Z"
   },
   {
    "duration": 6,
    "start_time": "2022-10-14T11:43:04.156Z"
   },
   {
    "duration": 2426,
    "start_time": "2022-10-14T11:43:05.668Z"
   },
   {
    "duration": 3,
    "start_time": "2022-10-14T11:45:01.134Z"
   },
   {
    "duration": 3,
    "start_time": "2022-10-14T11:45:54.807Z"
   },
   {
    "duration": 5,
    "start_time": "2022-10-14T11:46:07.808Z"
   },
   {
    "duration": 21,
    "start_time": "2022-10-14T11:46:13.919Z"
   },
   {
    "duration": 5,
    "start_time": "2022-10-14T11:46:39.080Z"
   },
   {
    "duration": 2349,
    "start_time": "2022-10-14T11:46:42.240Z"
   },
   {
    "duration": 5,
    "start_time": "2022-10-14T11:46:47.272Z"
   },
   {
    "duration": 19,
    "start_time": "2022-10-14T11:46:48.992Z"
   },
   {
    "duration": 5,
    "start_time": "2022-10-14T11:47:22.921Z"
   },
   {
    "duration": 6,
    "start_time": "2022-10-14T11:52:10.800Z"
   },
   {
    "duration": 2271,
    "start_time": "2022-10-14T11:52:12.822Z"
   },
   {
    "duration": 6,
    "start_time": "2022-10-14T11:52:16.814Z"
   },
   {
    "duration": 6,
    "start_time": "2022-10-14T11:52:21.590Z"
   },
   {
    "duration": 5,
    "start_time": "2022-10-14T11:52:24.151Z"
   },
   {
    "duration": 5,
    "start_time": "2022-10-14T11:53:35.145Z"
   },
   {
    "duration": 1704,
    "start_time": "2022-10-14T11:53:37.689Z"
   },
   {
    "duration": 4,
    "start_time": "2022-10-14T11:53:40.657Z"
   },
   {
    "duration": 6,
    "start_time": "2022-10-14T11:56:48.174Z"
   },
   {
    "duration": 5,
    "start_time": "2022-10-14T11:57:18.349Z"
   },
   {
    "duration": 2302,
    "start_time": "2022-10-14T11:57:20.302Z"
   },
   {
    "duration": 5,
    "start_time": "2022-10-14T11:57:23.917Z"
   },
   {
    "duration": 24,
    "start_time": "2022-10-14T11:57:41.877Z"
   },
   {
    "duration": 10,
    "start_time": "2022-10-14T11:58:21.575Z"
   },
   {
    "duration": 11,
    "start_time": "2022-10-14T11:58:30.599Z"
   },
   {
    "duration": 6,
    "start_time": "2022-10-14T11:58:34.441Z"
   },
   {
    "duration": 8,
    "start_time": "2022-10-14T11:58:40.339Z"
   },
   {
    "duration": 5,
    "start_time": "2022-10-14T11:58:42.311Z"
   },
   {
    "duration": 6,
    "start_time": "2022-10-14T11:58:44.529Z"
   },
   {
    "duration": 6,
    "start_time": "2022-10-14T11:59:23.823Z"
   },
   {
    "duration": 7,
    "start_time": "2022-10-14T11:59:27.095Z"
   },
   {
    "duration": 6,
    "start_time": "2022-10-14T11:59:29.615Z"
   },
   {
    "duration": 5,
    "start_time": "2022-10-14T11:59:32.416Z"
   },
   {
    "duration": 6,
    "start_time": "2022-10-14T11:59:38.636Z"
   },
   {
    "duration": 1449,
    "start_time": "2022-10-14T12:00:06.217Z"
   },
   {
    "duration": 428,
    "start_time": "2022-10-14T12:00:09.641Z"
   },
   {
    "duration": 11,
    "start_time": "2022-10-14T12:00:14.889Z"
   },
   {
    "duration": 37,
    "start_time": "2022-10-14T12:00:38.905Z"
   },
   {
    "duration": 129,
    "start_time": "2022-10-14T12:00:48.177Z"
   },
   {
    "duration": 17,
    "start_time": "2022-10-14T12:00:58.489Z"
   },
   {
    "duration": 6,
    "start_time": "2022-10-14T12:01:13.001Z"
   },
   {
    "duration": 2136,
    "start_time": "2022-10-14T12:01:20.657Z"
   },
   {
    "duration": 15,
    "start_time": "2022-10-14T12:01:26.936Z"
   },
   {
    "duration": 1608,
    "start_time": "2022-10-14T12:02:38.411Z"
   },
   {
    "duration": 489,
    "start_time": "2022-10-14T12:02:41.617Z"
   },
   {
    "duration": 11,
    "start_time": "2022-10-14T12:02:45.841Z"
   },
   {
    "duration": 43,
    "start_time": "2022-10-14T12:03:33.508Z"
   },
   {
    "duration": 16,
    "start_time": "2022-10-14T12:03:36.580Z"
   },
   {
    "duration": 6,
    "start_time": "2022-10-14T12:03:39.405Z"
   },
   {
    "duration": 3057,
    "start_time": "2022-10-14T12:03:41.541Z"
   },
   {
    "duration": 15,
    "start_time": "2022-10-14T12:03:47.371Z"
   },
   {
    "duration": 3,
    "start_time": "2022-10-14T12:04:03.316Z"
   },
   {
    "duration": 3,
    "start_time": "2022-10-14T12:04:05.172Z"
   },
   {
    "duration": 6,
    "start_time": "2022-10-14T12:04:07.840Z"
   },
   {
    "duration": 1479,
    "start_time": "2022-10-14T12:04:09.701Z"
   },
   {
    "duration": 4544,
    "start_time": "2022-10-14T12:04:37.918Z"
   },
   {
    "duration": 1569,
    "start_time": "2022-10-14T12:36:38.084Z"
   },
   {
    "duration": 423,
    "start_time": "2022-10-14T12:36:39.656Z"
   },
   {
    "duration": 73,
    "start_time": "2022-10-14T12:36:40.081Z"
   },
   {
    "duration": 82,
    "start_time": "2022-10-14T12:36:40.156Z"
   },
   {
    "duration": 107,
    "start_time": "2022-10-14T12:36:40.240Z"
   },
   {
    "duration": 9,
    "start_time": "2022-10-14T12:36:40.349Z"
   },
   {
    "duration": 15,
    "start_time": "2022-10-14T12:36:40.360Z"
   },
   {
    "duration": 48,
    "start_time": "2022-10-14T12:36:40.377Z"
   },
   {
    "duration": 7,
    "start_time": "2022-10-14T12:36:40.426Z"
   },
   {
    "duration": 2259,
    "start_time": "2022-10-14T12:36:40.437Z"
   },
   {
    "duration": 89,
    "start_time": "2022-10-14T12:36:42.704Z"
   },
   {
    "duration": 90,
    "start_time": "2022-10-14T12:36:42.801Z"
   },
   {
    "duration": 12,
    "start_time": "2022-10-14T12:36:42.893Z"
   },
   {
    "duration": 4,
    "start_time": "2022-10-14T12:36:42.907Z"
   },
   {
    "duration": 8,
    "start_time": "2022-10-14T12:36:42.914Z"
   },
   {
    "duration": 4418,
    "start_time": "2022-10-14T12:36:42.924Z"
   },
   {
    "duration": 54,
    "start_time": "2022-10-14T12:36:47.344Z"
   },
   {
    "duration": 14,
    "start_time": "2022-10-14T12:36:47.400Z"
   },
   {
    "duration": 7,
    "start_time": "2022-10-14T12:36:47.416Z"
   },
   {
    "duration": 2371,
    "start_time": "2022-10-14T12:36:47.425Z"
   },
   {
    "duration": 100,
    "start_time": "2022-10-14T12:36:49.802Z"
   },
   {
    "duration": 95,
    "start_time": "2022-10-14T12:36:49.905Z"
   },
   {
    "duration": 5,
    "start_time": "2022-10-14T12:36:50.002Z"
   },
   {
    "duration": 9,
    "start_time": "2022-10-14T12:36:50.009Z"
   },
   {
    "duration": 4416,
    "start_time": "2022-10-14T12:36:50.021Z"
   },
   {
    "duration": 1501,
    "start_time": "2022-10-15T11:05:08.241Z"
   },
   {
    "duration": 1662,
    "start_time": "2022-10-15T11:05:09.744Z"
   },
   {
    "duration": 64,
    "start_time": "2022-10-15T11:05:11.407Z"
   },
   {
    "duration": 61,
    "start_time": "2022-10-15T11:05:11.473Z"
   },
   {
    "duration": 71,
    "start_time": "2022-10-15T11:05:11.536Z"
   },
   {
    "duration": 9,
    "start_time": "2022-10-15T11:05:11.609Z"
   },
   {
    "duration": 12,
    "start_time": "2022-10-15T11:05:11.620Z"
   },
   {
    "duration": 36,
    "start_time": "2022-10-15T11:05:11.633Z"
   },
   {
    "duration": 25,
    "start_time": "2022-10-15T11:05:11.671Z"
   },
   {
    "duration": 1406,
    "start_time": "2022-10-15T11:05:11.699Z"
   },
   {
    "duration": 87,
    "start_time": "2022-10-15T11:05:13.109Z"
   },
   {
    "duration": 105,
    "start_time": "2022-10-15T11:05:13.198Z"
   },
   {
    "duration": 12,
    "start_time": "2022-10-15T11:05:13.305Z"
   },
   {
    "duration": 3,
    "start_time": "2022-10-15T11:05:13.319Z"
   },
   {
    "duration": 11,
    "start_time": "2022-10-15T11:05:13.323Z"
   },
   {
    "duration": 4034,
    "start_time": "2022-10-15T11:05:13.335Z"
   },
   {
    "duration": 1612,
    "start_time": "2022-10-15T16:08:42.613Z"
   },
   {
    "duration": 2402,
    "start_time": "2022-10-15T16:08:44.228Z"
   },
   {
    "duration": 76,
    "start_time": "2022-10-15T16:08:46.632Z"
   },
   {
    "duration": 88,
    "start_time": "2022-10-15T16:08:46.711Z"
   },
   {
    "duration": 66,
    "start_time": "2022-10-15T16:08:46.801Z"
   },
   {
    "duration": 32,
    "start_time": "2022-10-15T16:08:46.870Z"
   },
   {
    "duration": 9,
    "start_time": "2022-10-15T16:08:46.904Z"
   },
   {
    "duration": 35,
    "start_time": "2022-10-15T16:08:46.915Z"
   },
   {
    "duration": 5,
    "start_time": "2022-10-15T16:08:46.952Z"
   },
   {
    "duration": 2146,
    "start_time": "2022-10-15T16:08:46.960Z"
   },
   {
    "duration": 90,
    "start_time": "2022-10-15T16:08:49.109Z"
   },
   {
    "duration": 101,
    "start_time": "2022-10-15T16:08:49.202Z"
   },
   {
    "duration": 16,
    "start_time": "2022-10-15T16:08:49.305Z"
   },
   {
    "duration": 3,
    "start_time": "2022-10-15T16:08:49.322Z"
   },
   {
    "duration": 5,
    "start_time": "2022-10-15T16:08:49.327Z"
   },
   {
    "duration": 4132,
    "start_time": "2022-10-15T16:08:49.334Z"
   },
   {
    "duration": 5,
    "start_time": "2022-10-15T16:21:38.626Z"
   },
   {
    "duration": 5,
    "start_time": "2022-10-15T16:23:29.751Z"
   },
   {
    "duration": 3,
    "start_time": "2022-10-15T16:24:38.722Z"
   },
   {
    "duration": 138,
    "start_time": "2022-10-15T16:26:41.789Z"
   },
   {
    "duration": 14,
    "start_time": "2022-10-15T16:27:02.643Z"
   },
   {
    "duration": 4,
    "start_time": "2022-10-15T16:38:12.179Z"
   },
   {
    "duration": 3,
    "start_time": "2022-10-15T16:38:15.427Z"
   },
   {
    "duration": 16,
    "start_time": "2022-10-15T16:38:16.835Z"
   },
   {
    "duration": 1391,
    "start_time": "2022-10-15T17:12:20.887Z"
   },
   {
    "duration": 435,
    "start_time": "2022-10-15T17:12:22.280Z"
   },
   {
    "duration": 81,
    "start_time": "2022-10-15T17:12:22.719Z"
   },
   {
    "duration": 77,
    "start_time": "2022-10-15T17:12:22.806Z"
   },
   {
    "duration": 62,
    "start_time": "2022-10-15T17:12:22.885Z"
   },
   {
    "duration": 8,
    "start_time": "2022-10-15T17:12:22.949Z"
   },
   {
    "duration": 7,
    "start_time": "2022-10-15T17:12:22.959Z"
   },
   {
    "duration": 61,
    "start_time": "2022-10-15T17:12:22.969Z"
   },
   {
    "duration": 7,
    "start_time": "2022-10-15T17:12:23.032Z"
   },
   {
    "duration": 1854,
    "start_time": "2022-10-15T17:12:23.042Z"
   },
   {
    "duration": 5,
    "start_time": "2022-10-15T17:12:24.901Z"
   },
   {
    "duration": 109,
    "start_time": "2022-10-15T17:12:24.909Z"
   },
   {
    "duration": 16,
    "start_time": "2022-10-15T17:12:25.019Z"
   },
   {
    "duration": 9,
    "start_time": "2022-10-15T17:12:25.038Z"
   },
   {
    "duration": 6,
    "start_time": "2022-10-15T17:12:25.049Z"
   },
   {
    "duration": 4342,
    "start_time": "2022-10-15T17:12:25.057Z"
   },
   {
    "duration": 5,
    "start_time": "2022-10-15T17:12:29.401Z"
   },
   {
    "duration": 13,
    "start_time": "2022-10-15T17:12:29.407Z"
   },
   {
    "duration": 117,
    "start_time": "2022-10-15T17:12:29.421Z"
   },
   {
    "duration": 5,
    "start_time": "2022-10-15T17:13:14.351Z"
   },
   {
    "duration": 5,
    "start_time": "2022-10-15T17:16:23.051Z"
   },
   {
    "duration": 3,
    "start_time": "2022-10-15T17:16:27.052Z"
   },
   {
    "duration": 14,
    "start_time": "2022-10-15T17:16:29.412Z"
   },
   {
    "duration": 5,
    "start_time": "2022-10-15T17:28:54.525Z"
   },
   {
    "duration": 4,
    "start_time": "2022-10-15T17:33:58.867Z"
   },
   {
    "duration": 3,
    "start_time": "2022-10-15T17:34:00.402Z"
   },
   {
    "duration": 14,
    "start_time": "2022-10-15T17:34:01.914Z"
   },
   {
    "duration": 4,
    "start_time": "2022-10-15T18:32:32.217Z"
   },
   {
    "duration": 3,
    "start_time": "2022-10-15T18:32:34.107Z"
   },
   {
    "duration": 12,
    "start_time": "2022-10-15T18:32:37.940Z"
   },
   {
    "duration": 510,
    "start_time": "2022-10-15T18:33:06.396Z"
   },
   {
    "duration": 4,
    "start_time": "2022-10-15T18:35:26.982Z"
   },
   {
    "duration": 3,
    "start_time": "2022-10-15T18:35:42.103Z"
   },
   {
    "duration": 528,
    "start_time": "2022-10-15T18:35:48.071Z"
   },
   {
    "duration": 4,
    "start_time": "2022-10-15T18:37:08.883Z"
   },
   {
    "duration": 2,
    "start_time": "2022-10-15T18:37:11.009Z"
   },
   {
    "duration": 7175,
    "start_time": "2022-10-15T18:37:13.649Z"
   },
   {
    "duration": 4,
    "start_time": "2022-10-15T18:38:21.674Z"
   },
   {
    "duration": 14,
    "start_time": "2022-10-15T18:41:08.005Z"
   },
   {
    "duration": 4,
    "start_time": "2022-10-15T18:41:13.757Z"
   },
   {
    "duration": 2,
    "start_time": "2022-10-15T18:41:15.382Z"
   },
   {
    "duration": 7423,
    "start_time": "2022-10-15T18:41:25.214Z"
   },
   {
    "duration": 3,
    "start_time": "2022-10-15T18:41:34.551Z"
   },
   {
    "duration": 4,
    "start_time": "2022-10-15T18:41:44.863Z"
   },
   {
    "duration": 4,
    "start_time": "2022-10-15T18:41:46.502Z"
   },
   {
    "duration": 7018,
    "start_time": "2022-10-15T18:41:47.614Z"
   },
   {
    "duration": 4,
    "start_time": "2022-10-15T19:32:48.454Z"
   },
   {
    "duration": 3,
    "start_time": "2022-10-15T19:32:49.645Z"
   },
   {
    "duration": 7551,
    "start_time": "2022-10-15T19:32:50.510Z"
   },
   {
    "duration": 3,
    "start_time": "2022-10-15T19:33:14.254Z"
   },
   {
    "duration": 4,
    "start_time": "2022-10-15T19:33:30.926Z"
   },
   {
    "duration": 3,
    "start_time": "2022-10-15T19:33:33.518Z"
   },
   {
    "duration": 7448,
    "start_time": "2022-10-15T19:33:35.307Z"
   },
   {
    "duration": 3,
    "start_time": "2022-10-15T19:33:45.156Z"
   },
   {
    "duration": 9,
    "start_time": "2022-10-15T19:38:13.548Z"
   },
   {
    "duration": 6,
    "start_time": "2022-10-15T19:38:34.093Z"
   },
   {
    "duration": 4,
    "start_time": "2022-10-15T19:42:13.009Z"
   }
  ],
  "kernelspec": {
   "display_name": "Python 3 (ipykernel)",
   "language": "python",
   "name": "python3"
  },
  "language_info": {
   "codemirror_mode": {
    "name": "ipython",
    "version": 3
   },
   "file_extension": ".py",
   "mimetype": "text/x-python",
   "name": "python",
   "nbconvert_exporter": "python",
   "pygments_lexer": "ipython3",
   "version": "3.9.5"
  },
  "toc": {
   "base_numbering": 1,
   "nav_menu": {},
   "number_sections": true,
   "sideBar": true,
   "skip_h1_title": true,
   "title_cell": "Table of Contents",
   "title_sidebar": "Contents",
   "toc_cell": false,
   "toc_position": {},
   "toc_section_display": true,
   "toc_window_display": true
  }
 },
 "nbformat": 4,
 "nbformat_minor": 2
}
