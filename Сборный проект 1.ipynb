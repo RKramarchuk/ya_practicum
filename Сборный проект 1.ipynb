{
 "cells": [
  {
   "cell_type": "markdown",
   "metadata": {},
   "source": [
    "Привет! Меня зовут Исмаилов Исмаил, я буду проверять твой проект :) Можешь обращаться ко мне на «ты». Если тебе комфортно, то и я буду к тебе так обращаться, если нет, то обязательно скажи об этом.\n",
    "\n",
    "Пожалуйста, не удаляй мои комментарии, которые я буду оставлять в работе. Это особенно поможет, если твои проекты будут отправлены на повторную проверку. При повторных проверках у комментариев будут приписки: \"Вторая итерация\", \"Третья итерация\" и т.д. \n",
    "\n",
    "Ты тоже можешь реагировать на мои комментарии, но в таком случае постарайся, чтобы твои комментарии отличались от моих: например, выделяй их своим любимым цветом — так у нас не возникнет путаницы :)\n",
    "\n",
    "Кстати, про цвета! Мои комментарии будут в следующей цветовой гамме: зелеными, желтыми и красными. Например:\n",
    "\n",
    "<div class=\"alert-success\"> \n",
    "<b>Комментарий ревьюера 👍 </b>\n",
    "    \n",
    "В случае, если решение на отдельном шаге является полностью правильным. </div>\n",
    "\n",
    "<div class=\"alert-warning\"> \n",
    "<b>Комментарий ревьюера 💡</b> \n",
    "    \n",
    "В случае, если решение может стать еще лучше с некоторыми корректировками </div>\n",
    " \n",
    "<div class=\"alert-danger\"> \n",
    "<b>Комментарий ревьюера ❌</b> \n",
    "    \n",
    "В случае, если решение какого-то шага требует значительных изменений. Проект не может быть принят с первого раза, если ревью содержит комментарии, помеченные этим цветом </div>"
   ]
  },
  {
   "cell_type": "markdown",
   "metadata": {},
   "source": [
    "# Сборный проект"
   ]
  },
  {
   "cell_type": "markdown",
   "metadata": {},
   "source": [
    "## Введение"
   ]
  },
  {
   "cell_type": "markdown",
   "metadata": {},
   "source": [
    "Целью исследования является определение закономерностей, влияющих на успешность игр и выявление потенциально наиболее популярных жанров и платформ на различных рынках в следующем году.\n",
    "\n",
    "В качестве исходных данных используется информация по релизам игр до 2016 года, которая включает в себя:\n",
    "* название игры;\n",
    "* платформа;\n",
    "* год выпуска;\n",
    "* жанр;\n",
    "* продажи в Северной Америке;\n",
    "* продажи в Европе;\n",
    "* продажи в Японии;\n",
    "* продажи в прочих регионах;\n",
    "* оценка критиков;\n",
    "* оценка пользователей;\n",
    "* рейтинг ESRB.\n",
    "Продажи указаны в миллионах копий в год релиза. Оценки критиков и пользователей могут отсутствовать. Рейтинг ESRB - рейтинг от организации ESRB (англ. Entertainment Software Rating Board). Эта ассоциация определяет рейтинг компьютерных игр и присваивает им подходящую возрастную категорию.\n",
    "\n",
    "Для достижения цели исследования необходимо выполнить следующие задачи:\n",
    "* подготовить данные;\n",
    "* провести исследовательский анализ данных;\n",
    "* составить портрет пользователя для различных регионов;\n",
    "* поставить и проверить необходимые гипотезы."
   ]
  },
  {
   "cell_type": "markdown",
   "metadata": {},
   "source": [
    "## Подготовка данных"
   ]
  },
  {
   "cell_type": "markdown",
   "metadata": {},
   "source": [
    "<div class=\"alert-danger\"> \n",
    "<b>Комментарий ревьюера ❌</b> \n",
    "    \n",
    "Нет необходимого вступления в проект: нужно рассказать, что за данные у тебя имеются, что вообще стоит делать, какие цели и задачи, что желаешь получить. Представь, что показываешь проект бизнесу / заказчику: заказчик не поймет даже, где оказался, потому что в проекте нет и названия, поэтому нужно стороннего читателя вводить в курс дела </div>"
   ]
  },
  {
   "cell_type": "code",
   "execution_count": 1,
   "metadata": {},
   "outputs": [],
   "source": [
    "import pandas as pd\n",
    "import matplotlib.pyplot as plt\n",
    "import seaborn as sns\n",
    "import numpy as np\n",
    "from scipy import stats as st\n",
    "\n",
    "pd.options.mode.chained_assignment = None"
   ]
  },
  {
   "cell_type": "code",
   "execution_count": 2,
   "metadata": {},
   "outputs": [
    {
     "data": {
      "text/html": [
       "<div>\n",
       "<style scoped>\n",
       "    .dataframe tbody tr th:only-of-type {\n",
       "        vertical-align: middle;\n",
       "    }\n",
       "\n",
       "    .dataframe tbody tr th {\n",
       "        vertical-align: top;\n",
       "    }\n",
       "\n",
       "    .dataframe thead th {\n",
       "        text-align: right;\n",
       "    }\n",
       "</style>\n",
       "<table border=\"1\" class=\"dataframe\">\n",
       "  <thead>\n",
       "    <tr style=\"text-align: right;\">\n",
       "      <th></th>\n",
       "      <th>Name</th>\n",
       "      <th>Platform</th>\n",
       "      <th>Year_of_Release</th>\n",
       "      <th>Genre</th>\n",
       "      <th>NA_sales</th>\n",
       "      <th>EU_sales</th>\n",
       "      <th>JP_sales</th>\n",
       "      <th>Other_sales</th>\n",
       "      <th>Critic_Score</th>\n",
       "      <th>User_Score</th>\n",
       "      <th>Rating</th>\n",
       "    </tr>\n",
       "  </thead>\n",
       "  <tbody>\n",
       "    <tr>\n",
       "      <th>0</th>\n",
       "      <td>Wii Sports</td>\n",
       "      <td>Wii</td>\n",
       "      <td>2006.0</td>\n",
       "      <td>Sports</td>\n",
       "      <td>41.36</td>\n",
       "      <td>28.96</td>\n",
       "      <td>3.77</td>\n",
       "      <td>8.45</td>\n",
       "      <td>76.0</td>\n",
       "      <td>8</td>\n",
       "      <td>E</td>\n",
       "    </tr>\n",
       "    <tr>\n",
       "      <th>1</th>\n",
       "      <td>Super Mario Bros.</td>\n",
       "      <td>NES</td>\n",
       "      <td>1985.0</td>\n",
       "      <td>Platform</td>\n",
       "      <td>29.08</td>\n",
       "      <td>3.58</td>\n",
       "      <td>6.81</td>\n",
       "      <td>0.77</td>\n",
       "      <td>NaN</td>\n",
       "      <td>NaN</td>\n",
       "      <td>NaN</td>\n",
       "    </tr>\n",
       "    <tr>\n",
       "      <th>2</th>\n",
       "      <td>Mario Kart Wii</td>\n",
       "      <td>Wii</td>\n",
       "      <td>2008.0</td>\n",
       "      <td>Racing</td>\n",
       "      <td>15.68</td>\n",
       "      <td>12.76</td>\n",
       "      <td>3.79</td>\n",
       "      <td>3.29</td>\n",
       "      <td>82.0</td>\n",
       "      <td>8.3</td>\n",
       "      <td>E</td>\n",
       "    </tr>\n",
       "    <tr>\n",
       "      <th>3</th>\n",
       "      <td>Wii Sports Resort</td>\n",
       "      <td>Wii</td>\n",
       "      <td>2009.0</td>\n",
       "      <td>Sports</td>\n",
       "      <td>15.61</td>\n",
       "      <td>10.93</td>\n",
       "      <td>3.28</td>\n",
       "      <td>2.95</td>\n",
       "      <td>80.0</td>\n",
       "      <td>8</td>\n",
       "      <td>E</td>\n",
       "    </tr>\n",
       "    <tr>\n",
       "      <th>4</th>\n",
       "      <td>Pokemon Red/Pokemon Blue</td>\n",
       "      <td>GB</td>\n",
       "      <td>1996.0</td>\n",
       "      <td>Role-Playing</td>\n",
       "      <td>11.27</td>\n",
       "      <td>8.89</td>\n",
       "      <td>10.22</td>\n",
       "      <td>1.00</td>\n",
       "      <td>NaN</td>\n",
       "      <td>NaN</td>\n",
       "      <td>NaN</td>\n",
       "    </tr>\n",
       "  </tbody>\n",
       "</table>\n",
       "</div>"
      ],
      "text/plain": [
       "                       Name Platform  Year_of_Release         Genre  NA_sales  \\\n",
       "0                Wii Sports      Wii           2006.0        Sports     41.36   \n",
       "1         Super Mario Bros.      NES           1985.0      Platform     29.08   \n",
       "2            Mario Kart Wii      Wii           2008.0        Racing     15.68   \n",
       "3         Wii Sports Resort      Wii           2009.0        Sports     15.61   \n",
       "4  Pokemon Red/Pokemon Blue       GB           1996.0  Role-Playing     11.27   \n",
       "\n",
       "   EU_sales  JP_sales  Other_sales  Critic_Score User_Score Rating  \n",
       "0     28.96      3.77         8.45          76.0          8      E  \n",
       "1      3.58      6.81         0.77           NaN        NaN    NaN  \n",
       "2     12.76      3.79         3.29          82.0        8.3      E  \n",
       "3     10.93      3.28         2.95          80.0          8      E  \n",
       "4      8.89     10.22         1.00           NaN        NaN    NaN  "
      ]
     },
     "metadata": {},
     "output_type": "display_data"
    },
    {
     "name": "stdout",
     "output_type": "stream",
     "text": [
      "<class 'pandas.core.frame.DataFrame'>\n",
      "RangeIndex: 16715 entries, 0 to 16714\n",
      "Data columns (total 11 columns):\n",
      " #   Column           Non-Null Count  Dtype  \n",
      "---  ------           --------------  -----  \n",
      " 0   Name             16713 non-null  object \n",
      " 1   Platform         16715 non-null  object \n",
      " 2   Year_of_Release  16446 non-null  float64\n",
      " 3   Genre            16713 non-null  object \n",
      " 4   NA_sales         16715 non-null  float64\n",
      " 5   EU_sales         16715 non-null  float64\n",
      " 6   JP_sales         16715 non-null  float64\n",
      " 7   Other_sales      16715 non-null  float64\n",
      " 8   Critic_Score     8137 non-null   float64\n",
      " 9   User_Score       10014 non-null  object \n",
      " 10  Rating           9949 non-null   object \n",
      "dtypes: float64(6), object(5)\n",
      "memory usage: 1.4+ MB\n"
     ]
    },
    {
     "data": {
      "image/png": "[encoded data removed]",
      "text/plain": [
       "<Figure size 720x720 with 6 Axes>"
      ]
     },
     "metadata": {
      "needs_background": "light"
     },
     "output_type": "display_data"
    }
   ],
   "source": [
    "data = pd.read_csv('/datasets/games.csv')\n",
    "display(data.head())\n",
    "data.info()\n",
    "data.hist(figsize=(10,10));"
   ]
  },
  {
   "cell_type": "code",
   "execution_count": 3,
   "metadata": {},
   "outputs": [],
   "source": [
    "#data = data.rename(columns={'Name':'name',\n",
    "#                    'Platform':'platform',\n",
    "#                    'Year_of_Release':'year_of_release',\n",
    "#                    'Genre':'genre',\n",
    "#                    'NA_sales':'na_sales',\n",
    "#                    'EU_sales':'eu_sales',\n",
    "#                    'JP_sales':'jp_sales',\n",
    "#                    'Other_sales':'other_sales',\n",
    "#                    'Critic_Score':'critic_score',\n",
    "#                    'User_Score':'user_score',\n",
    "#                    'Rating':'rating'})"
   ]
  },
  {
   "cell_type": "code",
   "execution_count": 4,
   "metadata": {},
   "outputs": [],
   "source": [
    "data.columns = data.columns.str.lower()"
   ]
  },
  {
   "cell_type": "markdown",
   "metadata": {},
   "source": [
    "<div class=\"alert-warning\"> \n",
    "<b>Комментарий ревьюера 💡</b> \n",
    "    \n",
    "А если бы у тебя было сотни столбиков (что вполне возможно), то вручную писать совсем неоптимально. Это долго, повышает шанс ошибки и в целом - зачем писать самому, если есть Питон? Используй .str.lower"
   ]
  },
  {
   "cell_type": "markdown",
   "metadata": {},
   "source": [
    "<div class=\"alert-info\"> \n",
    "<b>Комментарий студента</b> \n",
    "    \n",
    "Согласен, перевёл через .str.lower"
   ]
  },
  {
   "cell_type": "code",
   "execution_count": 5,
   "metadata": {},
   "outputs": [
    {
     "name": "stdout",
     "output_type": "stream",
     "text": [
      "<class 'pandas.core.frame.DataFrame'>\n",
      "RangeIndex: 16715 entries, 0 to 16714\n",
      "Data columns (total 11 columns):\n",
      " #   Column           Non-Null Count  Dtype  \n",
      "---  ------           --------------  -----  \n",
      " 0   name             16713 non-null  object \n",
      " 1   platform         16715 non-null  object \n",
      " 2   year_of_release  16446 non-null  float64\n",
      " 3   genre            16713 non-null  object \n",
      " 4   na_sales         16715 non-null  float64\n",
      " 5   eu_sales         16715 non-null  float64\n",
      " 6   jp_sales         16715 non-null  float64\n",
      " 7   other_sales      16715 non-null  float64\n",
      " 8   critic_score     8137 non-null   float64\n",
      " 9   user_score       10014 non-null  object \n",
      " 10  rating           9949 non-null   object \n",
      "dtypes: float64(6), object(5)\n",
      "memory usage: 1.4+ MB\n"
     ]
    }
   ],
   "source": [
    "#check\n",
    "data.info()"
   ]
  },
  {
   "cell_type": "code",
   "execution_count": 6,
   "metadata": {},
   "outputs": [
    {
     "data": {
      "image/png": "[encoded data removed]",
      "text/plain": [
       "<Figure size 1080x288 with 1 Axes>"
      ]
     },
     "metadata": {
      "needs_background": "light"
     },
     "output_type": "display_data"
    }
   ],
   "source": [
    "(\n",
    "    (data.isna().mean()*100)\n",
    "    .to_frame()\n",
    "    .rename(columns = {0:'space'})\n",
    "    .query('space > 0')\n",
    "    .sort_values(by = 'space', ascending = True)\n",
    "    .plot(kind= 'barh', figsize=(15,4), legend = False, fontsize = 16)\n",
    "    .set_title('Процент пропущенных значений' + \"\\n\", fontsize = 22, color = 'Black')\n",
    ");"
   ]
  },
  {
   "cell_type": "markdown",
   "metadata": {},
   "source": [
    "Из пропущенных значений удалим только строки без указания названия игры и года выпуска.\\\n",
    "Переведём столбец с годом выпуска в тип данных int - год не может быть дробным. Переводить в формат datetime особого смысла нет, так как присутствует только год.\\\n",
    "Пропущенные значения в оценках критиков и пользователей заполняем значением 'tbd' - 'to be detailed' ('подлежит уточнению').\\\n",
    "Пропущенные значения в рейтинге ESRB заполнеям значением 'unrated' - зона действия ESRB - Северная Америка, игры для других регионов могут не проходить оценку в ESRB, также как и некоторые игры, которые не будут продоваться на физических носителях - к примеру, в магазине цифровой дистрибьюции Steam рейтинг ESRB не требуется."
   ]
  },
  {
   "cell_type": "code",
   "execution_count": 7,
   "metadata": {},
   "outputs": [],
   "source": [
    "data.dropna(subset=['name', 'year_of_release'], inplace=True)\n",
    "data['year_of_release'] = data['year_of_release'].astype('int')\n",
    "\n",
    "data['critic_score'].fillna(value='tbd', inplace=True)\n",
    "data['user_score'].fillna(value='tbd', inplace=True)\n",
    "data['rating'].fillna(value='unrated', inplace=True)"
   ]
  },
  {
   "cell_type": "markdown",
   "metadata": {},
   "source": [
    "<div class=\"alert-success\"> \n",
    "<b>Комментарий ревьюера 👍 </b>\n",
    "\n",
    "Да, не нужно бояться удалять данные, если от их удаления мы ничего не потеряем"
   ]
  },
  {
   "cell_type": "code",
   "execution_count": 8,
   "metadata": {},
   "outputs": [
    {
     "name": "stdout",
     "output_type": "stream",
     "text": [
      "<class 'pandas.core.frame.DataFrame'>\n",
      "Int64Index: 16444 entries, 0 to 16714\n",
      "Data columns (total 11 columns):\n",
      " #   Column           Non-Null Count  Dtype  \n",
      "---  ------           --------------  -----  \n",
      " 0   name             16444 non-null  object \n",
      " 1   platform         16444 non-null  object \n",
      " 2   year_of_release  16444 non-null  int64  \n",
      " 3   genre            16444 non-null  object \n",
      " 4   na_sales         16444 non-null  float64\n",
      " 5   eu_sales         16444 non-null  float64\n",
      " 6   jp_sales         16444 non-null  float64\n",
      " 7   other_sales      16444 non-null  float64\n",
      " 8   critic_score     16444 non-null  object \n",
      " 9   user_score       16444 non-null  object \n",
      " 10  rating           16444 non-null  object \n",
      "dtypes: float64(4), int64(1), object(6)\n",
      "memory usage: 1.5+ MB\n"
     ]
    }
   ],
   "source": [
    "#check\n",
    "data.info()"
   ]
  },
  {
   "cell_type": "code",
   "execution_count": 9,
   "metadata": {},
   "outputs": [],
   "source": [
    "#data['worldwide_sales'] = data['na_sales'] + data['eu_sales'] + data['jp_sales'] + data['other_sales']\n",
    "data['worldwide_sales'] = data[['na_sales','eu_sales','jp_sales', 'other_sales']].sum(axis = 1)"
   ]
  },
  {
   "cell_type": "markdown",
   "metadata": {},
   "source": [
    "<div class=\"alert-success\"> \n",
    "<b>Комментарий ревьюера 👍 </b>\n",
    "    \n",
    "Более изящная конструкция \n",
    "\n",
    "data[['na_sales','eu_sales','jp_sales', 'other_sales']].sum(axis = 1)"
   ]
  },
  {
   "cell_type": "code",
   "execution_count": 10,
   "metadata": {},
   "outputs": [
    {
     "name": "stdout",
     "output_type": "stream",
     "text": [
      "<class 'pandas.core.frame.DataFrame'>\n",
      "Int64Index: 16444 entries, 0 to 16714\n",
      "Data columns (total 12 columns):\n",
      " #   Column           Non-Null Count  Dtype  \n",
      "---  ------           --------------  -----  \n",
      " 0   name             16444 non-null  object \n",
      " 1   platform         16444 non-null  object \n",
      " 2   year_of_release  16444 non-null  int64  \n",
      " 3   genre            16444 non-null  object \n",
      " 4   na_sales         16444 non-null  float64\n",
      " 5   eu_sales         16444 non-null  float64\n",
      " 6   jp_sales         16444 non-null  float64\n",
      " 7   other_sales      16444 non-null  float64\n",
      " 8   critic_score     16444 non-null  object \n",
      " 9   user_score       16444 non-null  object \n",
      " 10  rating           16444 non-null  object \n",
      " 11  worldwide_sales  16444 non-null  float64\n",
      "dtypes: float64(5), int64(1), object(6)\n",
      "memory usage: 1.6+ MB\n"
     ]
    },
    {
     "data": {
      "text/html": [
       "<div>\n",
       "<style scoped>\n",
       "    .dataframe tbody tr th:only-of-type {\n",
       "        vertical-align: middle;\n",
       "    }\n",
       "\n",
       "    .dataframe tbody tr th {\n",
       "        vertical-align: top;\n",
       "    }\n",
       "\n",
       "    .dataframe thead th {\n",
       "        text-align: right;\n",
       "    }\n",
       "</style>\n",
       "<table border=\"1\" class=\"dataframe\">\n",
       "  <thead>\n",
       "    <tr style=\"text-align: right;\">\n",
       "      <th></th>\n",
       "      <th>name</th>\n",
       "      <th>platform</th>\n",
       "      <th>year_of_release</th>\n",
       "      <th>genre</th>\n",
       "      <th>na_sales</th>\n",
       "      <th>eu_sales</th>\n",
       "      <th>jp_sales</th>\n",
       "      <th>other_sales</th>\n",
       "      <th>critic_score</th>\n",
       "      <th>user_score</th>\n",
       "      <th>rating</th>\n",
       "      <th>worldwide_sales</th>\n",
       "    </tr>\n",
       "  </thead>\n",
       "  <tbody>\n",
       "    <tr>\n",
       "      <th>0</th>\n",
       "      <td>Wii Sports</td>\n",
       "      <td>Wii</td>\n",
       "      <td>2006</td>\n",
       "      <td>Sports</td>\n",
       "      <td>41.36</td>\n",
       "      <td>28.96</td>\n",
       "      <td>3.77</td>\n",
       "      <td>8.45</td>\n",
       "      <td>76.0</td>\n",
       "      <td>8</td>\n",
       "      <td>E</td>\n",
       "      <td>82.54</td>\n",
       "    </tr>\n",
       "    <tr>\n",
       "      <th>1</th>\n",
       "      <td>Super Mario Bros.</td>\n",
       "      <td>NES</td>\n",
       "      <td>1985</td>\n",
       "      <td>Platform</td>\n",
       "      <td>29.08</td>\n",
       "      <td>3.58</td>\n",
       "      <td>6.81</td>\n",
       "      <td>0.77</td>\n",
       "      <td>tbd</td>\n",
       "      <td>tbd</td>\n",
       "      <td>unrated</td>\n",
       "      <td>40.24</td>\n",
       "    </tr>\n",
       "    <tr>\n",
       "      <th>2</th>\n",
       "      <td>Mario Kart Wii</td>\n",
       "      <td>Wii</td>\n",
       "      <td>2008</td>\n",
       "      <td>Racing</td>\n",
       "      <td>15.68</td>\n",
       "      <td>12.76</td>\n",
       "      <td>3.79</td>\n",
       "      <td>3.29</td>\n",
       "      <td>82.0</td>\n",
       "      <td>8.3</td>\n",
       "      <td>E</td>\n",
       "      <td>35.52</td>\n",
       "    </tr>\n",
       "    <tr>\n",
       "      <th>3</th>\n",
       "      <td>Wii Sports Resort</td>\n",
       "      <td>Wii</td>\n",
       "      <td>2009</td>\n",
       "      <td>Sports</td>\n",
       "      <td>15.61</td>\n",
       "      <td>10.93</td>\n",
       "      <td>3.28</td>\n",
       "      <td>2.95</td>\n",
       "      <td>80.0</td>\n",
       "      <td>8</td>\n",
       "      <td>E</td>\n",
       "      <td>32.77</td>\n",
       "    </tr>\n",
       "    <tr>\n",
       "      <th>4</th>\n",
       "      <td>Pokemon Red/Pokemon Blue</td>\n",
       "      <td>GB</td>\n",
       "      <td>1996</td>\n",
       "      <td>Role-Playing</td>\n",
       "      <td>11.27</td>\n",
       "      <td>8.89</td>\n",
       "      <td>10.22</td>\n",
       "      <td>1.00</td>\n",
       "      <td>tbd</td>\n",
       "      <td>tbd</td>\n",
       "      <td>unrated</td>\n",
       "      <td>31.38</td>\n",
       "    </tr>\n",
       "  </tbody>\n",
       "</table>\n",
       "</div>"
      ],
      "text/plain": [
       "                       name platform  year_of_release         genre  na_sales  \\\n",
       "0                Wii Sports      Wii             2006        Sports     41.36   \n",
       "1         Super Mario Bros.      NES             1985      Platform     29.08   \n",
       "2            Mario Kart Wii      Wii             2008        Racing     15.68   \n",
       "3         Wii Sports Resort      Wii             2009        Sports     15.61   \n",
       "4  Pokemon Red/Pokemon Blue       GB             1996  Role-Playing     11.27   \n",
       "\n",
       "   eu_sales  jp_sales  other_sales critic_score user_score   rating  \\\n",
       "0     28.96      3.77         8.45         76.0          8        E   \n",
       "1      3.58      6.81         0.77          tbd        tbd  unrated   \n",
       "2     12.76      3.79         3.29         82.0        8.3        E   \n",
       "3     10.93      3.28         2.95         80.0          8        E   \n",
       "4      8.89     10.22         1.00          tbd        tbd  unrated   \n",
       "\n",
       "   worldwide_sales  \n",
       "0            82.54  \n",
       "1            40.24  \n",
       "2            35.52  \n",
       "3            32.77  \n",
       "4            31.38  "
      ]
     },
     "execution_count": 10,
     "metadata": {},
     "output_type": "execute_result"
    }
   ],
   "source": [
    "#check\n",
    "data.info()\n",
    "data.head()"
   ]
  },
  {
   "cell_type": "markdown",
   "metadata": {},
   "source": [
    "## Исследовательский анализ данных"
   ]
  },
  {
   "cell_type": "markdown",
   "metadata": {},
   "source": [
    "### Распределение игр по году выпуска"
   ]
  },
  {
   "cell_type": "code",
   "execution_count": 11,
   "metadata": {},
   "outputs": [
    {
     "data": {
      "image/png": "[encoded data removed]",
      "text/plain": [
       "<Figure size 576x576 with 1 Axes>"
      ]
     },
     "metadata": {
      "needs_background": "light"
     },
     "output_type": "display_data"
    }
   ],
   "source": [
    "(\n",
    "    data.pivot_table(index='year_of_release', values='name', aggfunc='count')\n",
    "    .plot(kind='bar', figsize=(8,8))\n",
    ");"
   ]
  },
  {
   "cell_type": "code",
   "execution_count": null,
   "metadata": {},
   "outputs": [],
   "source": []
  },
  {
   "cell_type": "markdown",
   "metadata": {},
   "source": [
    "До 1995 года выходило менее 200 игр в год. С 1995 до 2008 года идёт рост количества выпущенных игр. С 2009 до 2016 года идёт спад количества выпущенных игр."
   ]
  },
  {
   "cell_type": "markdown",
   "metadata": {},
   "source": [
    "### Распределение игр по платформам"
   ]
  },
  {
   "cell_type": "code",
   "execution_count": 12,
   "metadata": {},
   "outputs": [
    {
     "data": {
      "image/png": "[encoded data removed]",
      "text/plain": [
       "<Figure size 576x576 with 1 Axes>"
      ]
     },
     "metadata": {
      "needs_background": "light"
     },
     "output_type": "display_data"
    }
   ],
   "source": [
    "(\n",
    "    data.pivot_table(index='platform', values='worldwide_sales', aggfunc='sum')\n",
    "    .sort_values('worldwide_sales')\n",
    "    .plot(kind='bar', figsize=(8,8))\n",
    ");\n",
    "#data['platform'].value_counts()"
   ]
  },
  {
   "cell_type": "markdown",
   "metadata": {},
   "source": [
    "Платформы с наибольшими продажами:\n",
    "* PS;\n",
    "* DS;\n",
    "* Wii;\n",
    "* PS3;\n",
    "* X360;\n",
    "* PS2."
   ]
  },
  {
   "cell_type": "code",
   "execution_count": 13,
   "metadata": {
    "scrolled": false
   },
   "outputs": [
    {
     "data": {
      "image/png": "[encoded data removed]",
      "text/plain": [
       "<Figure size 432x288 with 1 Axes>"
      ]
     },
     "metadata": {
      "needs_background": "light"
     },
     "output_type": "display_data"
    }
   ],
   "source": [
    "top_platforms = (\n",
    "    data.query('platform in [\"PS\", \"DS\", \"Wii\", \"PS3\", \"X360\", \"PS2\"]')\n",
    "    .pivot_table(index=['year_of_release', 'platform'], values='worldwide_sales', aggfunc='sum')\n",
    "    .reset_index()\n",
    ")\n",
    "\n",
    "\n",
    "top_platforms.columns=['year_of_release', 'platform', 'worldwide_sales_sum']\n",
    "\n",
    "ax = sns.barplot(x='year_of_release',\n",
    "            y='worldwide_sales_sum',\n",
    "            hue=\"platform\",\n",
    "            data=top_platforms)\n",
    "#plt.rcParams['figure.figsize']=(15,10)"
   ]
  },
  {
   "cell_type": "code",
   "execution_count": 14,
   "metadata": {},
   "outputs": [
    {
     "data": {
      "text/plain": [
       "<Figure size 720x432 with 0 Axes>"
      ]
     },
     "metadata": {},
     "output_type": "display_data"
    },
    {
     "data": {
      "image/png": "[encoded data removed]",
      "text/plain": [
       "<Figure size 432x288 with 1 Axes>"
      ]
     },
     "metadata": {
      "needs_background": "light"
     },
     "output_type": "display_data"
    }
   ],
   "source": [
    "top_platform = data.query('platform==[\"PS2\",\"X360\",\"PS3\",\"Wii\",\"DS\",\"PS\"]')\\\n",
    ".pivot_table(index = 'year_of_release', columns ='platform',values='worldwide_sales',aggfunc='sum')\n",
    " \n",
    "plt.figure(figsize=(10,6))\n",
    " \n",
    "top_platform.plot() \n",
    "plt.legend()\n",
    "plt.show()"
   ]
  },
  {
   "cell_type": "markdown",
   "metadata": {},
   "source": [
    "На примере платформ с наибольшими суммарными продажими продолжительность \"жизни\" платформы:\n",
    "* PS - 10 лет - с 1994 до 2003 года;\n",
    "* PS2 - 12 лет - с 2000 до 2011 года;\n",
    "* DS - 10 лет - с 2004 до 2013 года;\n",
    "* X360 - 12 лет - с 2005 до 2016 года;\n",
    "* PS3 - 11 лет - с 2006 до 2016 года;\n",
    "* Wii - 11 лет - с 2006 до 2016 года.\n",
    "\n",
    "При этом в последние годы продаж игр для PS2 и Wii продажи были единичными."
   ]
  },
  {
   "cell_type": "code",
   "execution_count": 15,
   "metadata": {},
   "outputs": [
    {
     "name": "stdout",
     "output_type": "stream",
     "text": [
      "Средняя продолжительность \"жизни\" платформы: 11 лет\n"
     ]
    }
   ],
   "source": [
    "print(f'Средняя продолжительность \"жизни\" платформы: {round((10+12+10+12+11+11)/6)} лет')"
   ]
  },
  {
   "cell_type": "markdown",
   "metadata": {},
   "source": [
    "### Выбор актуального периода"
   ]
  },
  {
   "cell_type": "markdown",
   "metadata": {},
   "source": [
    "~~Исходя из полученного распределения количества игр по годам и средней продолжительности \"жизни\" платформы для дальнейшего исследования выбирем период с 2006 до 2016 года.\\\n",
    "Сохраним срез данных для дальнейшего исследования в переменную actual_data.~~\n",
    "\n",
    "В качестве актуального периода возьмём данные с 2013 года - три полных года + неполный 2016 год.\\\n",
    "Сохраним срез данных для дальнейшего исследования в переменную actual_data."
   ]
  },
  {
   "cell_type": "code",
   "execution_count": 16,
   "metadata": {},
   "outputs": [],
   "source": [
    "actual_data = data.query('year_of_release >= 2013')"
   ]
  },
  {
   "cell_type": "markdown",
   "metadata": {},
   "source": [
    "<div class=\"alert-danger\"> \n",
    "<b>Комментарий ревьюера ❌</b>\n",
    "Для целей прогнозирования продяаж на следующий год даже в традиционных бизнесах редко берут данные более чем за 2-3 года. А в такой динамично меняющейся индустрии, как компьютерные игры и вовсе не стоит брать слишком большой временной интервал - иначе обязательно захватишь уже отжившие тренды. Но и слишком короткий период тоже брать не стоит."
   ]
  },
  {
   "cell_type": "markdown",
   "metadata": {},
   "source": [
    "<div class=\"alert-info\"> \n",
    "<b>Комментарий студента</b> \n",
    "    \n",
    "Так как данные за 2016 год неполные, взял данные за последние три года + 2016 год. Также обе основных конкурирующих консоли - PS5 и XOne - вышли в 2013 году, для анализа основных конкурентов более старые данные не имеют смысла."
   ]
  },
  {
   "cell_type": "markdown",
   "metadata": {},
   "source": [
    "### Выбор потенциально прибыльных платформ"
   ]
  },
  {
   "cell_type": "code",
   "execution_count": 17,
   "metadata": {
    "scrolled": false
   },
   "outputs": [
    {
     "data": {
      "image/png": "[encoded data removed]",
      "text/plain": [
       "<Figure size 432x288 with 1 Axes>"
      ]
     },
     "metadata": {
      "needs_background": "light"
     },
     "output_type": "display_data"
    },
    {
     "data": {
      "image/png": "[encoded data removed]",
      "text/plain": [
       "<Figure size 1080x720 with 1 Axes>"
      ]
     },
     "metadata": {
      "needs_background": "light"
     },
     "output_type": "display_data"
    }
   ],
   "source": [
    "actual_platforms = (\n",
    "    actual_data\n",
    "    .pivot_table(index=['year_of_release', 'platform'], values='worldwide_sales', aggfunc=['count', 'sum'])\n",
    "    .reset_index()\n",
    ")\n",
    "\n",
    "\n",
    "actual_platforms.columns=['year_of_release', 'platform', 'worldwide_sales_count', 'worldwide_sales_sum']\n",
    "\n",
    "ax_sum = sns.barplot(x='year_of_release',\n",
    "            y='worldwide_sales_sum',\n",
    "            hue=\"platform\",\n",
    "            data=actual_platforms,\n",
    "            palette='bright')\n",
    "plt.rcParams['figure.figsize']=(15,10)\n",
    "plt.show()\n",
    "ax_count = sns.barplot(x='year_of_release',\n",
    "            y='worldwide_sales_count',\n",
    "            hue=\"platform\",\n",
    "            data=actual_platforms,\n",
    "            palette='bright')\n",
    "plt.rcParams['figure.figsize']=(15,10)"
   ]
  },
  {
   "cell_type": "code",
   "execution_count": 18,
   "metadata": {
    "scrolled": false
   },
   "outputs": [
    {
     "data": {
      "text/html": [
       "<div>\n",
       "<style scoped>\n",
       "    .dataframe tbody tr th:only-of-type {\n",
       "        vertical-align: middle;\n",
       "    }\n",
       "\n",
       "    .dataframe tbody tr th {\n",
       "        vertical-align: top;\n",
       "    }\n",
       "\n",
       "    .dataframe thead th {\n",
       "        text-align: right;\n",
       "    }\n",
       "</style>\n",
       "<table border=\"1\" class=\"dataframe\">\n",
       "  <thead>\n",
       "    <tr style=\"text-align: right;\">\n",
       "      <th></th>\n",
       "      <th>count</th>\n",
       "      <th>sum</th>\n",
       "    </tr>\n",
       "    <tr>\n",
       "      <th>platform</th>\n",
       "      <th></th>\n",
       "      <th></th>\n",
       "    </tr>\n",
       "  </thead>\n",
       "  <tbody>\n",
       "    <tr>\n",
       "      <th>PS4</th>\n",
       "      <td>164</td>\n",
       "      <td>69.25</td>\n",
       "    </tr>\n",
       "    <tr>\n",
       "      <th>XOne</th>\n",
       "      <td>87</td>\n",
       "      <td>26.15</td>\n",
       "    </tr>\n",
       "    <tr>\n",
       "      <th>PSV</th>\n",
       "      <td>85</td>\n",
       "      <td>4.25</td>\n",
       "    </tr>\n",
       "    <tr>\n",
       "      <th>PC</th>\n",
       "      <td>54</td>\n",
       "      <td>5.25</td>\n",
       "    </tr>\n",
       "    <tr>\n",
       "      <th>3DS</th>\n",
       "      <td>46</td>\n",
       "      <td>15.14</td>\n",
       "    </tr>\n",
       "    <tr>\n",
       "      <th>PS3</th>\n",
       "      <td>38</td>\n",
       "      <td>3.60</td>\n",
       "    </tr>\n",
       "    <tr>\n",
       "      <th>WiiU</th>\n",
       "      <td>14</td>\n",
       "      <td>4.60</td>\n",
       "    </tr>\n",
       "    <tr>\n",
       "      <th>X360</th>\n",
       "      <td>13</td>\n",
       "      <td>1.52</td>\n",
       "    </tr>\n",
       "    <tr>\n",
       "      <th>Wii</th>\n",
       "      <td>1</td>\n",
       "      <td>0.18</td>\n",
       "    </tr>\n",
       "  </tbody>\n",
       "</table>\n",
       "</div>"
      ],
      "text/plain": [
       "          count    sum\n",
       "platform              \n",
       "PS4         164  69.25\n",
       "XOne         87  26.15\n",
       "PSV          85   4.25\n",
       "PC           54   5.25\n",
       "3DS          46  15.14\n",
       "PS3          38   3.60\n",
       "WiiU         14   4.60\n",
       "X360         13   1.52\n",
       "Wii           1   0.18"
      ]
     },
     "metadata": {},
     "output_type": "display_data"
    },
    {
     "data": {
      "text/html": [
       "<div>\n",
       "<style scoped>\n",
       "    .dataframe tbody tr th:only-of-type {\n",
       "        vertical-align: middle;\n",
       "    }\n",
       "\n",
       "    .dataframe tbody tr th {\n",
       "        vertical-align: top;\n",
       "    }\n",
       "\n",
       "    .dataframe thead th {\n",
       "        text-align: right;\n",
       "    }\n",
       "</style>\n",
       "<table border=\"1\" class=\"dataframe\">\n",
       "  <thead>\n",
       "    <tr style=\"text-align: right;\">\n",
       "      <th></th>\n",
       "      <th>count</th>\n",
       "      <th>sum</th>\n",
       "    </tr>\n",
       "    <tr>\n",
       "      <th>platform</th>\n",
       "      <th></th>\n",
       "      <th></th>\n",
       "    </tr>\n",
       "  </thead>\n",
       "  <tbody>\n",
       "    <tr>\n",
       "      <th>PS4</th>\n",
       "      <td>164</td>\n",
       "      <td>69.25</td>\n",
       "    </tr>\n",
       "    <tr>\n",
       "      <th>XOne</th>\n",
       "      <td>87</td>\n",
       "      <td>26.15</td>\n",
       "    </tr>\n",
       "    <tr>\n",
       "      <th>3DS</th>\n",
       "      <td>46</td>\n",
       "      <td>15.14</td>\n",
       "    </tr>\n",
       "    <tr>\n",
       "      <th>PC</th>\n",
       "      <td>54</td>\n",
       "      <td>5.25</td>\n",
       "    </tr>\n",
       "    <tr>\n",
       "      <th>WiiU</th>\n",
       "      <td>14</td>\n",
       "      <td>4.60</td>\n",
       "    </tr>\n",
       "    <tr>\n",
       "      <th>PSV</th>\n",
       "      <td>85</td>\n",
       "      <td>4.25</td>\n",
       "    </tr>\n",
       "    <tr>\n",
       "      <th>PS3</th>\n",
       "      <td>38</td>\n",
       "      <td>3.60</td>\n",
       "    </tr>\n",
       "    <tr>\n",
       "      <th>X360</th>\n",
       "      <td>13</td>\n",
       "      <td>1.52</td>\n",
       "    </tr>\n",
       "    <tr>\n",
       "      <th>Wii</th>\n",
       "      <td>1</td>\n",
       "      <td>0.18</td>\n",
       "    </tr>\n",
       "  </tbody>\n",
       "</table>\n",
       "</div>"
      ],
      "text/plain": [
       "          count    sum\n",
       "platform              \n",
       "PS4         164  69.25\n",
       "XOne         87  26.15\n",
       "3DS          46  15.14\n",
       "PC           54   5.25\n",
       "WiiU         14   4.60\n",
       "PSV          85   4.25\n",
       "PS3          38   3.60\n",
       "X360         13   1.52\n",
       "Wii           1   0.18"
      ]
     },
     "metadata": {},
     "output_type": "display_data"
    }
   ],
   "source": [
    "actual_data_2016 = (\n",
    "    actual_data\n",
    "    .query('year_of_release == 2016')\n",
    "    .pivot_table(index='platform', values='worldwide_sales', aggfunc=['count', 'sum'])\n",
    ")\n",
    "actual_data_2016.columns=['count', 'sum']\n",
    "display(actual_data_2016.sort_values('count', ascending=False))\n",
    "display(actual_data_2016.sort_values('sum', ascending=False))"
   ]
  },
  {
   "cell_type": "markdown",
   "metadata": {},
   "source": [
    "Актуальными консолями на 2016 год являются:\n",
    "* PC,\n",
    "* PS3,\n",
    "* Wii,\n",
    "* X360,\n",
    "* 3DS,\n",
    "* PSV\n",
    "* WiiU,\n",
    "* PS4,\n",
    "* XOne.\n",
    "\n",
    "Однако, основная масса продаж приходится на платформы 3DS, PS4 и XOne.\n",
    "\n",
    "Продажи по всем платформам снижаются, что объясняется средним жизненным циклом - PS4 и XOne в 2016 были на 4 году своего жизненного цикла, 3DS - на 6 году.\n",
    "\n",
    "В 2015-2016 годах на PS4 выходило примерно в два раза больше игр чем на XOne, количество игр на PS4 росло, а на XOne вышло на плато. Количество игр на 3DS с момента релиза консоли снижалось незначительно, 2016 год был первым годом значительного снижения релизов.\n",
    "\n",
    "При этом, количество вышедших игр и их тираж на 3DS напрямую не влияет на тиражи игр на PS4 и XOne - PS4 и XOne являются прямыми конкурентами и влияют друг на друга, а 3DS является портативной консолью."
   ]
  },
  {
   "cell_type": "markdown",
   "metadata": {},
   "source": [
    "<div class=\"alert-success\"> \n",
    "<b>Комментарий ревьюера 👍 </b>\n",
    "\n",
    "Согласен с выбором платформ"
   ]
  },
  {
   "cell_type": "markdown",
   "metadata": {},
   "source": [
    "### Анализ продаж игр на основных консолях"
   ]
  },
  {
   "cell_type": "code",
   "execution_count": 19,
   "metadata": {},
   "outputs": [
    {
     "data": {
      "text/plain": [
       "count    392.000000\n",
       "mean       0.801378\n",
       "std        1.609456\n",
       "min        0.010000\n",
       "25%        0.060000\n",
       "50%        0.200000\n",
       "75%        0.730000\n",
       "max       14.630000\n",
       "Name: worldwide_sales, dtype: float64"
      ]
     },
     "metadata": {},
     "output_type": "display_data"
    },
    {
     "data": {
      "text/plain": [
       "count    303.000000\n",
       "mean       0.472772\n",
       "std        1.381347\n",
       "min        0.010000\n",
       "25%        0.040000\n",
       "50%        0.090000\n",
       "75%        0.280000\n",
       "max       14.600000\n",
       "Name: worldwide_sales, dtype: float64"
      ]
     },
     "metadata": {},
     "output_type": "display_data"
    },
    {
     "data": {
      "text/plain": [
       "count    247.000000\n",
       "mean       0.645020\n",
       "std        1.036139\n",
       "min        0.010000\n",
       "25%        0.060000\n",
       "50%        0.220000\n",
       "75%        0.685000\n",
       "max        7.390000\n",
       "Name: worldwide_sales, dtype: float64"
      ]
     },
     "metadata": {},
     "output_type": "display_data"
    }
   ],
   "source": [
    "#actual_data.query('platform in [\"PS4\", \"3DS\", \"XOne\"]')['worldwide_sales']\n",
    "\n",
    "\n",
    "display(actual_data.query('platform == \"PS4\"')['worldwide_sales'].describe())\n",
    "display(actual_data.query('platform == \"3DS\"')['worldwide_sales'].describe())\n",
    "display(actual_data.query('platform == \"XOne\"')['worldwide_sales'].describe())"
   ]
  },
  {
   "cell_type": "code",
   "execution_count": 20,
   "metadata": {
    "scrolled": false
   },
   "outputs": [
    {
     "data": {
      "image/png": "[encoded data removed]",
      "text/plain": [
       "<Figure size 1080x720 with 1 Axes>"
      ]
     },
     "metadata": {
      "needs_background": "light"
     },
     "output_type": "display_data"
    }
   ],
   "source": [
    "ax = sns.boxplot(x='platform', \n",
    "                 y='worldwide_sales', \n",
    "                 data=actual_data.query('platform in [\"PS4\", \"XOne\", \"3DS\"]'))"
   ]
  },
  {
   "cell_type": "markdown",
   "metadata": {},
   "source": [
    "Для PS4 медианный общий тираж игр в год релиза - 0.20 миллиона копий; самый большой тираж в год релиза - 14.63 миллиона копий.\\\n",
    "Игры с тиражами более 5 миллионов копий в год релиза - единичные, можно считать их хитами.\n",
    "\n",
    "Для 3DS медианный общий тираж игр в год релиза - 0.12 миллиона копий; самый большой тираж в год релиза - 14.60 миллиона копий.\\\n",
    "Игры с тиражами более 4 миллионов копий в год релиза - единичные, можно считать их хитами.\n",
    "\n",
    "Для XOne медианный общий тираж игр в год релиза - 0.22 миллиона копий; самый большой тираж в год релиза - 7.39 миллиона копий.\\\n",
    "Игры с тиражами более 3.5 миллионов копий в год релиза - единичные, можно считать их хитами."
   ]
  },
  {
   "cell_type": "markdown",
   "metadata": {},
   "source": [
    "Построим график повторно без учёта игр-\"хитов\"."
   ]
  },
  {
   "cell_type": "code",
   "execution_count": 21,
   "metadata": {},
   "outputs": [
    {
     "data": {
      "image/png": "[encoded data removed]",
      "text/plain": [
       "<Figure size 1080x720 with 1 Axes>"
      ]
     },
     "metadata": {
      "needs_background": "light"
     },
     "output_type": "display_data"
    }
   ],
   "source": [
    "ax = sns.boxplot(x='platform', \n",
    "                 y='worldwide_sales', \n",
    "                 data=actual_data.query('(platform == \"PS4\" and worldwide_sales <= 5) or\\\n",
    "                                         (platform == \"3DS\" and worldwide_sales <= 4) or\\\n",
    "                                         (platform == \"XOne\" and worldwide_sales <= 3.5)'))"
   ]
  },
  {
   "cell_type": "markdown",
   "metadata": {},
   "source": [
    "Исходя из динамики количества игровых релизов на платформы PS4 и XOne можно предположить, что в 2017 году количество игр на PS4 также будет больше, чем на XOne. При этом, учитывая примерно одинаковое распределение тиражей игр на PS4 и XOne можно сказать, что наиболее прибыльной и популярной стационарной игровой платформой будет PS4.\n",
    "\n",
    "3DS, как не составляющая им прямой конкуренции портативная консоль, имеет меньшие тиражи игр, но и количество релизов на этой консоли снижается не так резко, как на стационарных консолях. При этом возможен релиз новой портативной консоли Нинтендо в следующем 2017 году.\n",
    "\n",
    "Для дальнейшего рассмотрения выберем консоль PS4 - как потенциально наиболее популярную консоль в следующем (2017) году."
   ]
  },
  {
   "cell_type": "markdown",
   "metadata": {},
   "source": [
    "<div class=\"alert-warning\"> \n",
    "<b>Комментарий ревьюера 💡</b> \n",
    "     \n",
    "Стоит сузить боксплот, посмотреть на него без выбросов, ибо сейчас плохо видно"
   ]
  },
  {
   "cell_type": "markdown",
   "metadata": {},
   "source": [
    "<div class=\"alert-info\"> \n",
    "<b>Комментарий студента</b> \n",
    "    \n",
    "Построил повторно график боксплота - выкинул из выборки часть игр с выбивающимися тиражами."
   ]
  },
  {
   "cell_type": "markdown",
   "metadata": {},
   "source": [
    "### Влияние отзывов пользователей и критиков на продажи на примере консоли PS4"
   ]
  },
  {
   "cell_type": "markdown",
   "metadata": {},
   "source": [
    "Для анализа влияния отзывов критиков и пользователей возьмём срез данных со следующими условиями - платформа PS4, отзывы критиков и пользователей - не \"tbd\", а также дополнительно поменяем тип данных - столбец с отзывами критиков на int, с отзывами пользователей на float."
   ]
  },
  {
   "cell_type": "code",
   "execution_count": 22,
   "metadata": {},
   "outputs": [
    {
     "name": "stdout",
     "output_type": "stream",
     "text": [
      "<class 'pandas.core.frame.DataFrame'>\n",
      "Int64Index: 249 entries, 42 to 16530\n",
      "Data columns (total 12 columns):\n",
      " #   Column           Non-Null Count  Dtype  \n",
      "---  ------           --------------  -----  \n",
      " 0   name             249 non-null    object \n",
      " 1   platform         249 non-null    object \n",
      " 2   year_of_release  249 non-null    int64  \n",
      " 3   genre            249 non-null    object \n",
      " 4   na_sales         249 non-null    float64\n",
      " 5   eu_sales         249 non-null    float64\n",
      " 6   jp_sales         249 non-null    float64\n",
      " 7   other_sales      249 non-null    float64\n",
      " 8   critic_score     249 non-null    int64  \n",
      " 9   user_score       249 non-null    float64\n",
      " 10  rating           249 non-null    object \n",
      " 11  worldwide_sales  249 non-null    float64\n",
      "dtypes: float64(6), int64(2), object(4)\n",
      "memory usage: 25.3+ KB\n"
     ]
    }
   ],
   "source": [
    "ps4_actual = actual_data.query('platform == \"PS4\" and critic_score != \"tbd\" and user_score != \"tbd\"')\n",
    "ps4_actual['critic_score'] = ps4_actual['critic_score'].astype('int')\n",
    "ps4_actual['user_score'] = ps4_actual['user_score'].astype('float')\n",
    "ps4_actual.info()"
   ]
  },
  {
   "cell_type": "code",
   "execution_count": 23,
   "metadata": {
    "scrolled": false
   },
   "outputs": [
    {
     "data": {
      "image/png": "[encoded data removed]",
      "text/plain": [
       "<Figure size 1080x576 with 1 Axes>"
      ]
     },
     "metadata": {
      "needs_background": "light"
     },
     "output_type": "display_data"
    },
    {
     "name": "stdout",
     "output_type": "stream",
     "text": [
      "Корреляция продаж в год релиза и оценки критиков 0.4059\n"
     ]
    },
    {
     "data": {
      "image/png": "[encoded data removed]",
      "text/plain": [
       "<Figure size 1080x576 with 1 Axes>"
      ]
     },
     "metadata": {
      "needs_background": "light"
     },
     "output_type": "display_data"
    },
    {
     "name": "stdout",
     "output_type": "stream",
     "text": [
      "Корреляция продаж в год релиза и оценки пользователей -0.0336\n"
     ]
    }
   ],
   "source": [
    "(\n",
    "    ps4_actual.plot(kind='scatter', \n",
    "               y='worldwide_sales',\n",
    "               x='critic_score',\n",
    "               figsize=(15,8))\n",
    ")\n",
    "plt.title('Диаграмма рассеяния - Продажи в год релиза - оценка критиков')\n",
    "plt.show()\n",
    "print('Корреляция продаж в год релиза и оценки критиков', \n",
    "     ps4_actual['critic_score'].corr(ps4_actual['worldwide_sales']).round(4))\n",
    "\n",
    "(\n",
    "    ps4_actual.sort_values('user_score')\n",
    "              .plot(kind='scatter', \n",
    "               y='worldwide_sales',\n",
    "               x='user_score',\n",
    "               figsize=(15,8),\n",
    "               rot = 75)\n",
    ")\n",
    "plt.title('Диаграмма рассеяния - Продажи в год релиза - оценка пользователей')\n",
    "plt.show()\n",
    "print('Корреляция продаж в год релиза и оценки пользователей', \n",
    "     ps4_actual['user_score'].corr(ps4_actual['worldwide_sales']).round(4));"
   ]
  },
  {
   "cell_type": "markdown",
   "metadata": {},
   "source": [
    "Корреляция между отзывами и тиражём игр на PS4 в год релиза отсутствует. Это может быть связанно с тем, что в основном продажи в год релиза зависят от рекламной кампании до релиза игры, а отзывы в любом случае появляются после релиза."
   ]
  },
  {
   "cell_type": "markdown",
   "metadata": {},
   "source": [
    "### Влияние отзывов пользователей и критиков на продажи игр на консолях 3DS и XOne"
   ]
  },
  {
   "cell_type": "code",
   "execution_count": 24,
   "metadata": {},
   "outputs": [
    {
     "name": "stdout",
     "output_type": "stream",
     "text": [
      "<class 'pandas.core.frame.DataFrame'>\n",
      "Int64Index: 67 entries, 235 to 16143\n",
      "Data columns (total 12 columns):\n",
      " #   Column           Non-Null Count  Dtype  \n",
      "---  ------           --------------  -----  \n",
      " 0   name             67 non-null     object \n",
      " 1   platform         67 non-null     object \n",
      " 2   year_of_release  67 non-null     int64  \n",
      " 3   genre            67 non-null     object \n",
      " 4   na_sales         67 non-null     float64\n",
      " 5   eu_sales         67 non-null     float64\n",
      " 6   jp_sales         67 non-null     float64\n",
      " 7   other_sales      67 non-null     float64\n",
      " 8   critic_score     67 non-null     int64  \n",
      " 9   user_score       67 non-null     float64\n",
      " 10  rating           67 non-null     object \n",
      " 11  worldwide_sales  67 non-null     float64\n",
      "dtypes: float64(6), int64(2), object(4)\n",
      "memory usage: 6.8+ KB\n"
     ]
    }
   ],
   "source": [
    "threeds_actual = actual_data.query('platform == \"3DS\" and critic_score != \"tbd\" and user_score != \"tbd\"')\n",
    "threeds_actual['critic_score'] = threeds_actual['critic_score'].astype('int')\n",
    "threeds_actual['user_score'] = threeds_actual['user_score'].astype('float')\n",
    "threeds_actual.info()"
   ]
  },
  {
   "cell_type": "code",
   "execution_count": 25,
   "metadata": {},
   "outputs": [
    {
     "data": {
      "image/png": "[encoded data removed]",
      "text/plain": [
       "<Figure size 1080x576 with 1 Axes>"
      ]
     },
     "metadata": {
      "needs_background": "light"
     },
     "output_type": "display_data"
    },
    {
     "name": "stdout",
     "output_type": "stream",
     "text": [
      "Корреляция продаж в год релиза и оценки критиков 0.3392\n"
     ]
    },
    {
     "data": {
      "image/png": "[encoded data removed]",
      "text/plain": [
       "<Figure size 1080x576 with 1 Axes>"
      ]
     },
     "metadata": {
      "needs_background": "light"
     },
     "output_type": "display_data"
    },
    {
     "name": "stdout",
     "output_type": "stream",
     "text": [
      "Корреляция продаж в год релиза и оценки пользователей 0.273\n"
     ]
    }
   ],
   "source": [
    "(\n",
    "    threeds_actual.plot(kind='scatter', \n",
    "               y='worldwide_sales',\n",
    "               x='critic_score',\n",
    "               figsize=(15,8))\n",
    ")\n",
    "plt.title('Диаграмма рассеяния - Продажи в год релиза - оценка критиков')\n",
    "plt.show()\n",
    "print('Корреляция продаж в год релиза и оценки критиков', \n",
    "     threeds_actual['critic_score'].corr(threeds_actual['worldwide_sales']).round(4))\n",
    "\n",
    "(\n",
    "    threeds_actual.sort_values('user_score')\n",
    "              .plot(kind='scatter', \n",
    "               y='worldwide_sales',\n",
    "               x='user_score',\n",
    "               figsize=(15,8),\n",
    "               rot = 75)\n",
    ")\n",
    "plt.title('Диаграмма рассеяния - Продажи в год релиза - оценка пользователей')\n",
    "plt.show()\n",
    "print('Корреляция продаж в год релиза и оценки пользователей', \n",
    "     threeds_actual['user_score'].corr(threeds_actual['worldwide_sales']).round(4));"
   ]
  },
  {
   "cell_type": "markdown",
   "metadata": {},
   "source": [
    "Корреляция между отзывами и тиражём игр на 3DS в год релиза отсутствует. Это может быть связанно с тем, что в основном продажи в год релиза зависят от рекламной кампании до релиза игры, а отзывы в любом случае появляются после релиза."
   ]
  },
  {
   "cell_type": "code",
   "execution_count": 26,
   "metadata": {},
   "outputs": [
    {
     "name": "stdout",
     "output_type": "stream",
     "text": [
      "<class 'pandas.core.frame.DataFrame'>\n",
      "Int64Index: 165 entries, 165 to 16660\n",
      "Data columns (total 12 columns):\n",
      " #   Column           Non-Null Count  Dtype  \n",
      "---  ------           --------------  -----  \n",
      " 0   name             165 non-null    object \n",
      " 1   platform         165 non-null    object \n",
      " 2   year_of_release  165 non-null    int64  \n",
      " 3   genre            165 non-null    object \n",
      " 4   na_sales         165 non-null    float64\n",
      " 5   eu_sales         165 non-null    float64\n",
      " 6   jp_sales         165 non-null    float64\n",
      " 7   other_sales      165 non-null    float64\n",
      " 8   critic_score     165 non-null    int64  \n",
      " 9   user_score       165 non-null    float64\n",
      " 10  rating           165 non-null    object \n",
      " 11  worldwide_sales  165 non-null    float64\n",
      "dtypes: float64(6), int64(2), object(4)\n",
      "memory usage: 16.8+ KB\n"
     ]
    }
   ],
   "source": [
    "xone_actual = actual_data.query('platform == \"XOne\" and critic_score != \"tbd\" and user_score != \"tbd\"')\n",
    "xone_actual['critic_score'] = xone_actual['critic_score'].astype('int')\n",
    "xone_actual['user_score'] = xone_actual['user_score'].astype('float')\n",
    "xone_actual.info()"
   ]
  },
  {
   "cell_type": "code",
   "execution_count": 27,
   "metadata": {},
   "outputs": [
    {
     "data": {
      "image/png": "[encoded data removed]",
      "text/plain": [
       "<Figure size 1080x576 with 1 Axes>"
      ]
     },
     "metadata": {
      "needs_background": "light"
     },
     "output_type": "display_data"
    },
    {
     "name": "stdout",
     "output_type": "stream",
     "text": [
      "Корреляция продаж в год релиза и оценки критиков 0.4104\n"
     ]
    },
    {
     "data": {
      "image/png": "[encoded data removed]",
      "text/plain": [
       "<Figure size 1080x576 with 1 Axes>"
      ]
     },
     "metadata": {
      "needs_background": "light"
     },
     "output_type": "display_data"
    },
    {
     "name": "stdout",
     "output_type": "stream",
     "text": [
      "Корреляция продаж в год релиза и оценки пользователей -0.094\n"
     ]
    }
   ],
   "source": [
    "(\n",
    "    xone_actual.plot(kind='scatter', \n",
    "               y='worldwide_sales',\n",
    "               x='critic_score',\n",
    "               figsize=(15,8))\n",
    ")\n",
    "plt.title('Диаграмма рассеяния - Продажи в год релиза - оценка критиков')\n",
    "plt.show()\n",
    "print('Корреляция продаж в год релиза и оценки критиков', \n",
    "     xone_actual['critic_score'].corr(xone_actual['worldwide_sales']).round(4))\n",
    "\n",
    "(\n",
    "    xone_actual.sort_values('user_score')\n",
    "              .plot(kind='scatter', \n",
    "               y='worldwide_sales',\n",
    "               x='user_score',\n",
    "               figsize=(15,8),\n",
    "               rot = 75)\n",
    ")\n",
    "plt.title('Диаграмма рассеяния - Продажи в год релиза - оценка пользователей')\n",
    "plt.show()\n",
    "print('Корреляция продаж в год релиза и оценки пользователей', \n",
    "     xone_actual['user_score'].corr(xone_actual['worldwide_sales']).round(4));"
   ]
  },
  {
   "cell_type": "markdown",
   "metadata": {},
   "source": [
    "Корреляция между отзывами и тиражём игр на XOne в год релиза отсутствует. Это может быть связанно с тем, что в основном продажи в год релиза зависят от рекламной кампании до релиза игры, а отзывы в любом случае появляются после релиза."
   ]
  },
  {
   "cell_type": "markdown",
   "metadata": {},
   "source": [
    "<div class=\"alert-success\"> \n",
    "<b>Комментарий ревьюера 👍 </b>\n",
    "\n",
    "Хорошие диаграммы рассеивания. Корреляция тоже подсчитана верно"
   ]
  },
  {
   "cell_type": "markdown",
   "metadata": {},
   "source": [
    "### Распределение игр по жанрам"
   ]
  },
  {
   "cell_type": "code",
   "execution_count": 28,
   "metadata": {},
   "outputs": [
    {
     "data": {
      "image/png": "[encoded data removed]",
      "text/plain": [
       "<Figure size 1080x720 with 1 Axes>"
      ]
     },
     "metadata": {
      "needs_background": "light"
     },
     "output_type": "display_data"
    }
   ],
   "source": [
    "(\n",
    "    actual_data.pivot_table(index='genre', values='worldwide_sales', aggfunc=['count', 'sum'])\n",
    "    .plot(kind='bar', xlabel='Жанр', grid=True)\n",
    ");"
   ]
  },
  {
   "cell_type": "markdown",
   "metadata": {},
   "source": [
    "~~За 2006-2016 года больше всего было продано игр жанра Action, но и количество выпущенных игр этого жанра также самое большое.\\\n",
    "Меньше всего продано игр жанров Puzzle и Strategy.\\\n",
    "При этом игры жанра Shooter имеют отношение продаж к количеству игр близкое в среднем к одному миллиону проданых копий на один релиз.~~"
   ]
  },
  {
   "cell_type": "markdown",
   "metadata": {},
   "source": [
    "За 2013-2016 года больше всего было продано игр жанра Action, но и количество выпущенных игр этого жанра также самое большое.\n",
    "Меньше всего продано игр жанров Puzzle и Strategy.\n",
    "При этом игры жанра Shooter имеют в среднем отношение продаж к количеству игр больше чем один миллион проданых копий на один релиз."
   ]
  },
  {
   "cell_type": "markdown",
   "metadata": {},
   "source": [
    "<div class=\"alert-success\"> \n",
    "<b>Комментарий ревьюера 👍 </b>\n",
    "\n",
    "Здорово, что обратил внимание на средние продажи"
   ]
  },
  {
   "cell_type": "markdown",
   "metadata": {},
   "source": [
    "<div class=\"alert-info\"> \n",
    "<b>Комментарий студента</b>\n",
    "\n",
    "Чуть поправил вывод - это связанно с изменением актуального периода. Впрочем, общая картина изменилась не сильно - за исключением ещё более высокого среднего отношения проданных копий на один релиз у игр жанра Shooter."
   ]
  },
  {
   "cell_type": "markdown",
   "metadata": {},
   "source": [
    "## Портрет пользователя региона"
   ]
  },
  {
   "cell_type": "code",
   "execution_count": 29,
   "metadata": {
    "scrolled": true
   },
   "outputs": [
    {
     "name": "stdout",
     "output_type": "stream",
     "text": [
      "          na_sales\n",
      "platform          \n",
      "PS4         108.74\n",
      "XOne         93.12\n",
      "X360         81.66\n",
      "PS3          63.50\n",
      "3DS          38.20\n",
      "          eu_sales\n",
      "platform          \n",
      "PS4         141.09\n",
      "PS3          67.81\n",
      "XOne         51.59\n",
      "X360         42.52\n",
      "3DS          30.96\n",
      "          jp_sales\n",
      "platform          \n",
      "3DS          67.81\n",
      "PS3          23.35\n",
      "PSV          18.59\n",
      "PS4          15.96\n",
      "WiiU         10.88\n"
     ]
    },
    {
     "data": {
      "image/png": "[encoded data removed]",
      "text/plain": [
       "<Figure size 1080x720 with 1 Axes>"
      ]
     },
     "metadata": {},
     "output_type": "display_data"
    },
    {
     "data": {
      "image/png": "[encoded data removed]",
      "text/plain": [
       "<Figure size 1080x720 with 1 Axes>"
      ]
     },
     "metadata": {},
     "output_type": "display_data"
    },
    {
     "data": {
      "image/png": "[encoded data removed]",
      "text/plain": [
       "<Figure size 1080x720 with 1 Axes>"
      ]
     },
     "metadata": {},
     "output_type": "display_data"
    }
   ],
   "source": [
    "for i in ['na_sales', 'eu_sales', 'jp_sales']:\n",
    "    print(\n",
    "        actual_data.pivot_table(index='platform', values=i, aggfunc='sum')\n",
    "        .sort_values(i, ascending=False)\n",
    "        .head()\n",
    "    )\n",
    "    (\n",
    "        actual_data.pivot_table(index='platform', values=i, aggfunc='sum')\n",
    "        .sort_values(i, ascending=False)\n",
    "        .head()\n",
    "    ).plot(subplots=True, kind='pie')"
   ]
  },
  {
   "cell_type": "markdown",
   "metadata": {},
   "source": [
    "За последние десять лет топ-5 платформ по регионам по общим тиражам игр в год релиза:\n",
    "* Северная Америка:\n",
    "    * PS4;\n",
    "    * XOne;\n",
    "    * X360;\n",
    "    * PS3;\n",
    "    * 3DS.\n",
    "* Европа:\n",
    "    * PS4;\n",
    "    * PS3;\n",
    "    * XOne;\n",
    "    * X360;\n",
    "    * 3DS.\n",
    "* Япония:\n",
    "    * 3DS;\n",
    "    * PS3;\n",
    "    * PSV;\n",
    "    * PS4;\n",
    "    * WiiU."
   ]
  },
  {
   "cell_type": "code",
   "execution_count": 30,
   "metadata": {
    "scrolled": false
   },
   "outputs": [
    {
     "name": "stdout",
     "output_type": "stream",
     "text": [
      "              na_sales\n",
      "genre                 \n",
      "Action          126.05\n",
      "Shooter         109.74\n",
      "Sports           65.27\n",
      "Role-Playing     46.40\n",
      "Misc             27.49\n",
      "              eu_sales\n",
      "genre                 \n",
      "Action          118.13\n",
      "Shooter          87.86\n",
      "Sports           60.52\n",
      "Role-Playing     36.97\n",
      "Racing           20.19\n",
      "              jp_sales\n",
      "genre                 \n",
      "Role-Playing     51.04\n",
      "Action           40.49\n",
      "Misc              9.20\n",
      "Fighting          7.65\n",
      "Shooter           6.61\n"
     ]
    },
    {
     "data": {
      "image/png": "[encoded data removed]",
      "text/plain": [
       "<Figure size 1080x720 with 1 Axes>"
      ]
     },
     "metadata": {},
     "output_type": "display_data"
    },
    {
     "data": {
      "image/png": "[encoded data removed]",
      "text/plain": [
       "<Figure size 1080x720 with 1 Axes>"
      ]
     },
     "metadata": {},
     "output_type": "display_data"
    },
    {
     "data": {
      "image/png": "[encoded data removed]",
      "text/plain": [
       "<Figure size 1080x720 with 1 Axes>"
      ]
     },
     "metadata": {},
     "output_type": "display_data"
    }
   ],
   "source": [
    "for i in ['na_sales', 'eu_sales', 'jp_sales']:\n",
    "    print(\n",
    "        actual_data.pivot_table(index='genre', values=i, aggfunc='sum')\n",
    "        .sort_values(i, ascending=False)\n",
    "        .head()\n",
    "    )\n",
    "    (\n",
    "        actual_data.pivot_table(index='genre', values=i, aggfunc='sum')\n",
    "        .sort_values(i, ascending=False)\n",
    "        .head()\n",
    "    ).plot(subplots=True, kind='pie')"
   ]
  },
  {
   "cell_type": "markdown",
   "metadata": {},
   "source": [
    "За последние десять лет топ-5 жанров по регионам по общим тиражам игр в год релиза:\n",
    "\n",
    "* Северная Америка:\n",
    "    * Action;\n",
    "    * Shooter;\n",
    "    * Sports;\n",
    "    * Role-Playing;\n",
    "    * Misc.\n",
    "* Европа:\n",
    "    * Action;\n",
    "    * Shooter;\n",
    "    * Sports;\n",
    "    * Role-Playing;\n",
    "    * Racing.\n",
    "* Япония:\n",
    "    * Role-Playing;\n",
    "    * Action;\n",
    "    * Misc;\n",
    "    * Fighting;\n",
    "    * Shooter."
   ]
  },
  {
   "cell_type": "code",
   "execution_count": 31,
   "metadata": {
    "scrolled": false
   },
   "outputs": [],
   "source": [
    "#actual_data.pivot_table(index='rating', values=['na_sales', 'eu_sales', 'jp_sales'], aggfunc = 'sum').plot(kind='bar');"
   ]
  },
  {
   "cell_type": "code",
   "execution_count": 32,
   "metadata": {},
   "outputs": [
    {
     "data": {
      "image/png": "[encoded data removed]",
      "text/plain": [
       "<Figure size 1080x720 with 1 Axes>"
      ]
     },
     "metadata": {
      "needs_background": "light"
     },
     "output_type": "display_data"
    }
   ],
   "source": [
    "actual_data.pivot_table(index='rating', values=['na_sales', 'eu_sales', 'jp_sales'], aggfunc = 'sum').T.plot.bar();"
   ]
  },
  {
   "cell_type": "markdown",
   "metadata": {},
   "source": [
    "В Европе больше продаются игры с рейтингами ESRB - E и M.\\\n",
    "В Японии игры продаются без характерного влияния ESRB.\n",
    "В Северной Америке больше продаются игры с рейтингами ESRB - E и M.\\\n",
    "Также во всех регионах примерно одинаково продаются игры, не проходящие оценку в ESRB.\n",
    "\n",
    "При этом нужно принимать во внимание, что рейтинг ESRB действует в Северной Америке - в Европе есть свой рейтинг PEGI, в Японии - CERO. В частности, в Японии следят именно за соблюдением национального рейтинга, что объясняет низкое влияния рейтинга ESRB на продажи в этом регионе."
   ]
  },
  {
   "cell_type": "markdown",
   "metadata": {},
   "source": [
    "<div class=\"alert-danger\"> \n",
    "<b>Комментарий ревьюера ❌</b> \n",
    "\n",
    "В последнем графике ты посмотрел разбиение не по стране, а по рейтнингу - это неверно"
   ]
  },
  {
   "cell_type": "markdown",
   "metadata": {},
   "source": [
    "<div class=\"alert-info\"> \n",
    "<b>Комментарий студента</b> \n",
    "\n",
    "Изменил последний график - поменял разбиение, сделал по странам"
   ]
  },
  {
   "cell_type": "markdown",
   "metadata": {},
   "source": [
    "## Проверка гипотез"
   ]
  },
  {
   "cell_type": "markdown",
   "metadata": {},
   "source": [
    "При проверке гипотез мы будем использовать все данные, доступные в актуальный период - то есть, нам будут доступны генеральные совокупности, также совокупности являются независимыми - они не пересекаются. Соответственно, в ходе проверки будем использовать **гипотезу о равенстве средних двух генеральных совокупностей**. Так как нам не важно, какое именно отклонение присутствует или отсутствует (т.е. нам не важно, результат больше или меньше) то гипотезы проверяем как двусторонние. "
   ]
  },
  {
   "cell_type": "markdown",
   "metadata": {},
   "source": [
    "### Гипотеза 1 - средние пользовательские рейтинги платформ PC и XOne одинаковые"
   ]
  },
  {
   "cell_type": "markdown",
   "metadata": {},
   "source": [
    "Нулевая гипотеза - средние пользовательские рейтинги платформ PC и XOne одинаковые.\\\n",
    "Альтернативная гипотеза - средние пользовательские рейтинги платформ PC и XOne не одинаковые.\\\n",
    "alpha = 0.05\\\n",
    "Так как выборки не равные используем параметр equal_var=False."
   ]
  },
  {
   "cell_type": "code",
   "execution_count": 33,
   "metadata": {
    "scrolled": true
   },
   "outputs": [
    {
     "name": "stdout",
     "output_type": "stream",
     "text": [
      "<class 'pandas.core.frame.DataFrame'>\n",
      "Int64Index: 155 entries, 458 to 16692\n",
      "Data columns (total 12 columns):\n",
      " #   Column           Non-Null Count  Dtype  \n",
      "---  ------           --------------  -----  \n",
      " 0   name             155 non-null    object \n",
      " 1   platform         155 non-null    object \n",
      " 2   year_of_release  155 non-null    int64  \n",
      " 3   genre            155 non-null    object \n",
      " 4   na_sales         155 non-null    float64\n",
      " 5   eu_sales         155 non-null    float64\n",
      " 6   jp_sales         155 non-null    float64\n",
      " 7   other_sales      155 non-null    float64\n",
      " 8   critic_score     155 non-null    object \n",
      " 9   user_score       155 non-null    float64\n",
      " 10  rating           155 non-null    object \n",
      " 11  worldwide_sales  155 non-null    float64\n",
      "dtypes: float64(6), int64(1), object(5)\n",
      "memory usage: 15.7+ KB\n"
     ]
    }
   ],
   "source": [
    "pc_actual = actual_data.query('platform == \"PC\" and user_score != \"tbd\"')\n",
    "pc_actual['user_score'] = pc_actual['user_score'].astype('float')\n",
    "pc_actual.info()"
   ]
  },
  {
   "cell_type": "code",
   "execution_count": 34,
   "metadata": {},
   "outputs": [
    {
     "name": "stdout",
     "output_type": "stream",
     "text": [
      "0.12511463063961994\n",
      "Не получилось отвергнуть нулевую гипотезу\n"
     ]
    }
   ],
   "source": [
    "results = st.ttest_ind(pc_actual['user_score'],\n",
    "                       xone_actual['user_score'],\n",
    "                       equal_var=False)\n",
    "alpha = .05\n",
    "print(results.pvalue)\n",
    "if results.pvalue < alpha:\n",
    "    print('Отвергаем нулевую гипотезу')\n",
    "else:\n",
    "    print('Не получилось отвергнуть нулевую гипотезу')"
   ]
  },
  {
   "cell_type": "markdown",
   "metadata": {},
   "source": [
    "Гипотеза подтверждена - средние пользовательские рейтинги платформ PC и XOne одинаковые."
   ]
  },
  {
   "cell_type": "markdown",
   "metadata": {},
   "source": [
    "### Гипотеза 2 - средние пользовательские рейтинги жанров Action и Sports разные."
   ]
  },
  {
   "cell_type": "markdown",
   "metadata": {},
   "source": [
    "Нулевая гипотеза - средние пользовательские рейтинги жанров Action и Sports одинаковые.\\\n",
    "Альтернативная гипотеза - средние пользовательские рейтинги жанров Action и Sports не одинаковые.\\\n",
    "alpha = 0.05\\\n",
    "Так как выборки не равные используем параметр equal_var=False."
   ]
  },
  {
   "cell_type": "code",
   "execution_count": 35,
   "metadata": {},
   "outputs": [
    {
     "name": "stdout",
     "output_type": "stream",
     "text": [
      "<class 'pandas.core.frame.DataFrame'>\n",
      "Int64Index: 549 entries, 16 to 16692\n",
      "Data columns (total 12 columns):\n",
      " #   Column           Non-Null Count  Dtype  \n",
      "---  ------           --------------  -----  \n",
      " 0   name             549 non-null    object \n",
      " 1   platform         549 non-null    object \n",
      " 2   year_of_release  549 non-null    int64  \n",
      " 3   genre            549 non-null    object \n",
      " 4   na_sales         549 non-null    float64\n",
      " 5   eu_sales         549 non-null    float64\n",
      " 6   jp_sales         549 non-null    float64\n",
      " 7   other_sales      549 non-null    float64\n",
      " 8   critic_score     549 non-null    object \n",
      " 9   user_score       549 non-null    float64\n",
      " 10  rating           549 non-null    object \n",
      " 11  worldwide_sales  549 non-null    float64\n",
      "dtypes: float64(6), int64(1), object(5)\n",
      "memory usage: 55.8+ KB\n"
     ]
    }
   ],
   "source": [
    "action_sport_data = actual_data.query('(genre == \"Action\" or genre == \"Sports\") and user_score != \"tbd\"')\n",
    "action_sport_data['user_score'] = action_sport_data['user_score'].astype('float')\n",
    "action_sport_data.info()"
   ]
  },
  {
   "cell_type": "code",
   "execution_count": 36,
   "metadata": {
    "scrolled": true
   },
   "outputs": [
    {
     "name": "stdout",
     "output_type": "stream",
     "text": [
      "1.4460039700704315e-20\n",
      "Отвергаем нулевую гипотезу\n"
     ]
    }
   ],
   "source": [
    "results = st.ttest_ind(action_sport_data.loc[action_sport_data['genre'] == \"Action\", 'user_score'],\n",
    "                       action_sport_data.loc[action_sport_data['genre'] == \"Sports\", 'user_score'],\n",
    "                       equal_var=False)\n",
    "alpha = .05\n",
    "print(results.pvalue)\n",
    "if results.pvalue < alpha:\n",
    "    print('Отвергаем нулевую гипотезу')\n",
    "else:\n",
    "    print('Не получилось отвергнуть нулевую гипотезу')"
   ]
  },
  {
   "cell_type": "markdown",
   "metadata": {},
   "source": [
    "Гипотеза подтверждена - средние пользовательские рейтинги жанров Action и Sports разные."
   ]
  },
  {
   "cell_type": "markdown",
   "metadata": {},
   "source": [
    "<div class=\"alert-danger\"> \n",
    "<b>Комментарий ревьюера ❌</b> \n",
    "\n",
    "Ничего не сказано про выбранный статистический критерий (тест). Нужно назвать его и сказать, почему в твоем проекте используется именно такой"
   ]
  },
  {
   "cell_type": "markdown",
   "metadata": {},
   "source": [
    "<div class=\"alert-info\"> \n",
    "<b>Комментарий студента</b> \n",
    "\n",
    "Указал о выборе гипотезы равенства средних двух генеральных совокупностей.\\\n",
    "Также из-за изменения актуального периода изменился результат проверки первой гипотезы."
   ]
  },
  {
   "cell_type": "markdown",
   "metadata": {},
   "source": [
    "## Вывод"
   ]
  },
  {
   "cell_type": "markdown",
   "metadata": {},
   "source": [
    "### Подготовка данных"
   ]
  },
  {
   "cell_type": "markdown",
   "metadata": {},
   "source": [
    "В ходе подготовки данных были удалены строки без названия игр и года релиза, заполнены пропуски в рейтингах значением 'tbd', изменён тип данных столбца с годами на int."
   ]
  },
  {
   "cell_type": "markdown",
   "metadata": {},
   "source": [
    "### Исследовательский анализ данных"
   ]
  },
  {
   "cell_type": "markdown",
   "metadata": {},
   "source": [
    "В ходе анализа данных были исследованны распределения игр по годам выпуска и по платформам. На основании этих данных был выбран актуальный период (жизненный цикл консоли) - 10 лет. На основании данных актуального периода были выбраны три потенциально прибыльных консоли на следующий - 2017 - год: PS4, XOne и 3DS. Для выбранных консолей был проведён анализ продаж игр в год релиза и из трёх консолей выбрана наиболее потенциально прибыльная - PS4. Также выяснено, что ни оценки пользователей, ни оценки критиков не оказывают значительного влияния на продажи игр в год релиза и иссоедовано распределение количества игр и общих продаж в год релиза."
   ]
  },
  {
   "cell_type": "markdown",
   "metadata": {},
   "source": [
    "### Портрет пользователей разных регионов"
   ]
  },
  {
   "cell_type": "markdown",
   "metadata": {},
   "source": [
    "Для трёх основных регионов продаж - Северная Америка, Европа и Япония - были найдены топ-5 самых популярных жанров и самых популярный консолей на основе суммарных продаж в соответсвующих регионах за последние 10 лет. Также оценено влияние рейтинга ESRB на популярность игр в соответствующих регионах."
   ]
  },
  {
   "cell_type": "markdown",
   "metadata": {},
   "source": [
    "### Проверка гипотез"
   ]
  },
  {
   "cell_type": "markdown",
   "metadata": {},
   "source": [
    "Перед исследованием было поставлено две гипотезы, которые проверялись как двусторонние с помощью t-теста:\n",
    "* Гипотеза 1 - средние пользовательские рейтинги платформ PC и XOne одинаковые - подтверждена;\n",
    "* Гипотеза 2 - средние пользовательские рейтинги жанров Action и Sports разные - подтверждена."
   ]
  },
  {
   "cell_type": "markdown",
   "metadata": {},
   "source": [
    "### Рекомендации"
   ]
  },
  {
   "cell_type": "markdown",
   "metadata": {},
   "source": [
    "К повторному анализу рекомендуется проверка влияния рейтинга на популярность игр - в исходных данных рейтинг дан только по системе ESRB - эта система актуальна только для рынка Северной Америки."
   ]
  },
  {
   "cell_type": "markdown",
   "metadata": {},
   "source": [
    "<div class=\"alert-success\"> \n",
    "<b>Комментарий ревьюера 👍 </b>\n",
    "\n",
    "Отличный общий вывод! Нечего добавить :)"
   ]
  },
  {
   "cell_type": "markdown",
   "metadata": {},
   "source": [
    "<div class=\"alert-danger\"> \n",
    "<b>Комментарий ревьюера ❌</b> \n",
    "    \n",
    "Отличный проект, тобою проделана большая работа, ты молодец!\n",
    "\n",
    "Сперва похвалю за наличие везде промежуточных выводов, комментариев и рассуждений. Также очень хорошее оформление проекта. Сделано все именно так, как требуется. По коду вопросов тоже практически нет, в том числе у тебя хорошие графики и визуализация данных. \n",
    "\n",
    "Что обязательно стоит доработать: написать, какой статистический критерий для проверки гипотез был выбран и почему именно он; доработать пункт составления портретов пользователей; изменить актуальный срок для прогнозирования\n",
    "\n",
    "Также я оставил несколько желтых комментариев. Думаю, и они будут тебе полезны.\n",
    "\n",
    "Буду ждать доработок :) Удачи!"
   ]
  },
  {
   "cell_type": "markdown",
   "metadata": {},
   "source": [
    "<div class=\"alert-success\"> \n",
    "<b>Комментарий ревьюера 👍 Вторая итерация </b>\n",
    "\n",
    "Все ошибки исправлены, проект стал еще лучше, принимаю. Успехов в дальнейшей учебе!"
   ]
  },
  {
   "cell_type": "code",
   "execution_count": null,
   "metadata": {},
   "outputs": [],
   "source": []
  }
 ],
 "metadata": {
  "ExecuteTimeLog": [
   {
    "duration": 401,
    "start_time": "2022-08-22T10:10:25.304Z"
   },
   {
    "duration": 91,
    "start_time": "2022-08-22T10:10:44.719Z"
   },
   {
    "duration": 59,
    "start_time": "2022-08-22T10:11:40.929Z"
   },
   {
    "duration": 838,
    "start_time": "2022-08-22T10:17:25.255Z"
   },
   {
    "duration": 490,
    "start_time": "2022-08-22T10:17:29.079Z"
   },
   {
    "duration": 590,
    "start_time": "2022-08-22T10:17:43.648Z"
   },
   {
    "duration": 610,
    "start_time": "2022-08-22T10:41:49.454Z"
   },
   {
    "duration": 657,
    "start_time": "2022-08-22T10:41:57.128Z"
   },
   {
    "duration": 21,
    "start_time": "2022-08-22T10:43:38.290Z"
   },
   {
    "duration": 13,
    "start_time": "2022-08-22T10:43:51.674Z"
   },
   {
    "duration": 5,
    "start_time": "2022-08-22T10:43:59.737Z"
   },
   {
    "duration": 12,
    "start_time": "2022-08-22T10:44:01.354Z"
   },
   {
    "duration": 12,
    "start_time": "2022-08-22T10:45:42.981Z"
   },
   {
    "duration": 11,
    "start_time": "2022-08-22T10:45:48.677Z"
   },
   {
    "duration": 79,
    "start_time": "2022-08-22T10:47:21.911Z"
   },
   {
    "duration": 422,
    "start_time": "2022-08-23T09:27:11.231Z"
   },
   {
    "duration": 1183,
    "start_time": "2022-08-23T09:27:12.270Z"
   },
   {
    "duration": 6,
    "start_time": "2022-08-23T09:27:15.710Z"
   },
   {
    "duration": 16,
    "start_time": "2022-08-23T09:27:17.054Z"
   },
   {
    "duration": 4,
    "start_time": "2022-08-23T09:28:14.288Z"
   },
   {
    "duration": 103,
    "start_time": "2022-08-23T09:28:25.632Z"
   },
   {
    "duration": 101,
    "start_time": "2022-08-23T09:28:50.232Z"
   },
   {
    "duration": 235,
    "start_time": "2022-08-23T09:29:07.873Z"
   },
   {
    "duration": 129,
    "start_time": "2022-08-23T09:29:31.889Z"
   },
   {
    "duration": 90,
    "start_time": "2022-08-23T09:29:50.482Z"
   },
   {
    "duration": 61,
    "start_time": "2022-08-23T09:29:54.834Z"
   },
   {
    "duration": 188,
    "start_time": "2022-08-23T09:31:07.397Z"
   },
   {
    "duration": 166,
    "start_time": "2022-08-23T09:31:24.357Z"
   },
   {
    "duration": 173,
    "start_time": "2022-08-23T09:31:32.236Z"
   },
   {
    "duration": 160,
    "start_time": "2022-08-23T09:31:37.951Z"
   },
   {
    "duration": 163,
    "start_time": "2022-08-23T09:31:42.076Z"
   },
   {
    "duration": 146,
    "start_time": "2022-08-23T09:31:54.629Z"
   },
   {
    "duration": 151,
    "start_time": "2022-08-23T09:32:01.636Z"
   },
   {
    "duration": 151,
    "start_time": "2022-08-23T09:32:12.565Z"
   },
   {
    "duration": 96,
    "start_time": "2022-08-23T09:35:12.633Z"
   },
   {
    "duration": 16,
    "start_time": "2022-08-23T09:35:19.010Z"
   },
   {
    "duration": 12,
    "start_time": "2022-08-23T09:40:42.217Z"
   },
   {
    "duration": 8,
    "start_time": "2022-08-23T09:41:23.513Z"
   },
   {
    "duration": 20,
    "start_time": "2022-08-23T09:41:30.394Z"
   },
   {
    "duration": 16,
    "start_time": "2022-08-23T09:57:26.554Z"
   },
   {
    "duration": 11,
    "start_time": "2022-08-23T09:59:49.264Z"
   },
   {
    "duration": 14,
    "start_time": "2022-08-23T09:59:52.985Z"
   },
   {
    "duration": 13,
    "start_time": "2022-08-23T10:00:02.833Z"
   },
   {
    "duration": 17,
    "start_time": "2022-08-23T10:00:04.601Z"
   },
   {
    "duration": 13,
    "start_time": "2022-08-23T10:00:50.642Z"
   },
   {
    "duration": 17,
    "start_time": "2022-08-23T10:00:52.641Z"
   },
   {
    "duration": 4,
    "start_time": "2022-08-23T10:02:04.364Z"
   },
   {
    "duration": 29,
    "start_time": "2022-08-23T10:02:12.764Z"
   },
   {
    "duration": 4,
    "start_time": "2022-08-23T10:02:34.908Z"
   },
   {
    "duration": 14,
    "start_time": "2022-08-23T10:04:00.877Z"
   },
   {
    "duration": 16,
    "start_time": "2022-08-23T10:04:02.405Z"
   },
   {
    "duration": 6,
    "start_time": "2022-08-23T10:04:06.077Z"
   },
   {
    "duration": 28,
    "start_time": "2022-08-23T10:04:08.380Z"
   },
   {
    "duration": 365,
    "start_time": "2022-08-23T10:09:55.546Z"
   },
   {
    "duration": 997,
    "start_time": "2022-08-23T10:09:55.913Z"
   },
   {
    "duration": 5,
    "start_time": "2022-08-23T10:09:56.912Z"
   },
   {
    "duration": 26,
    "start_time": "2022-08-23T10:09:56.919Z"
   },
   {
    "duration": 164,
    "start_time": "2022-08-23T10:09:56.946Z"
   },
   {
    "duration": 16,
    "start_time": "2022-08-23T10:09:57.111Z"
   },
   {
    "duration": 15,
    "start_time": "2022-08-23T10:09:57.129Z"
   },
   {
    "duration": 5,
    "start_time": "2022-08-23T10:09:57.145Z"
   },
   {
    "duration": 51,
    "start_time": "2022-08-23T10:09:57.152Z"
   },
   {
    "duration": 213,
    "start_time": "2022-08-23T10:09:57.205Z"
   },
   {
    "duration": 421,
    "start_time": "2022-08-23T10:10:19.666Z"
   },
   {
    "duration": 1002,
    "start_time": "2022-08-23T10:10:20.089Z"
   },
   {
    "duration": 13,
    "start_time": "2022-08-23T10:10:21.094Z"
   },
   {
    "duration": 16,
    "start_time": "2022-08-23T10:10:21.108Z"
   },
   {
    "duration": 189,
    "start_time": "2022-08-23T10:10:21.127Z"
   },
   {
    "duration": 15,
    "start_time": "2022-08-23T10:10:21.318Z"
   },
   {
    "duration": 14,
    "start_time": "2022-08-23T10:10:21.335Z"
   },
   {
    "duration": 4,
    "start_time": "2022-08-23T10:10:21.351Z"
   },
   {
    "duration": 50,
    "start_time": "2022-08-23T10:10:21.357Z"
   },
   {
    "duration": 368,
    "start_time": "2022-08-23T10:11:09.445Z"
   },
   {
    "duration": 1034,
    "start_time": "2022-08-23T10:11:09.815Z"
   },
   {
    "duration": 5,
    "start_time": "2022-08-23T10:11:10.850Z"
   },
   {
    "duration": 19,
    "start_time": "2022-08-23T10:11:10.857Z"
   },
   {
    "duration": 163,
    "start_time": "2022-08-23T10:11:10.878Z"
   },
   {
    "duration": 15,
    "start_time": "2022-08-23T10:11:11.042Z"
   },
   {
    "duration": 18,
    "start_time": "2022-08-23T10:11:11.059Z"
   },
   {
    "duration": 5,
    "start_time": "2022-08-23T10:11:11.079Z"
   },
   {
    "duration": 27,
    "start_time": "2022-08-23T10:11:11.102Z"
   },
   {
    "duration": 381,
    "start_time": "2022-08-23T10:11:11.132Z"
   },
   {
    "duration": 294,
    "start_time": "2022-08-23T10:13:36.039Z"
   },
   {
    "duration": 399,
    "start_time": "2022-08-23T10:13:52.522Z"
   },
   {
    "duration": 992,
    "start_time": "2022-08-23T10:13:52.924Z"
   },
   {
    "duration": 6,
    "start_time": "2022-08-23T10:13:53.919Z"
   },
   {
    "duration": 26,
    "start_time": "2022-08-23T10:13:53.927Z"
   },
   {
    "duration": 165,
    "start_time": "2022-08-23T10:13:53.955Z"
   },
   {
    "duration": 15,
    "start_time": "2022-08-23T10:13:54.121Z"
   },
   {
    "duration": 18,
    "start_time": "2022-08-23T10:13:54.138Z"
   },
   {
    "duration": 11,
    "start_time": "2022-08-23T10:13:54.158Z"
   },
   {
    "duration": 37,
    "start_time": "2022-08-23T10:13:54.171Z"
   },
   {
    "duration": 353,
    "start_time": "2022-08-23T10:14:03.761Z"
   },
   {
    "duration": 1028,
    "start_time": "2022-08-23T10:14:04.116Z"
   },
   {
    "duration": 6,
    "start_time": "2022-08-23T10:14:05.146Z"
   },
   {
    "duration": 21,
    "start_time": "2022-08-23T10:14:05.155Z"
   },
   {
    "duration": 181,
    "start_time": "2022-08-23T10:14:05.178Z"
   },
   {
    "duration": 15,
    "start_time": "2022-08-23T10:14:05.361Z"
   },
   {
    "duration": 30,
    "start_time": "2022-08-23T10:14:05.377Z"
   },
   {
    "duration": 5,
    "start_time": "2022-08-23T10:14:05.409Z"
   },
   {
    "duration": 39,
    "start_time": "2022-08-23T10:14:05.415Z"
   },
   {
    "duration": 385,
    "start_time": "2022-08-23T10:17:11.338Z"
   },
   {
    "duration": 1030,
    "start_time": "2022-08-23T10:17:11.725Z"
   },
   {
    "duration": 6,
    "start_time": "2022-08-23T10:17:12.756Z"
   },
   {
    "duration": 20,
    "start_time": "2022-08-23T10:17:12.764Z"
   },
   {
    "duration": 169,
    "start_time": "2022-08-23T10:17:12.786Z"
   },
   {
    "duration": 16,
    "start_time": "2022-08-23T10:17:12.957Z"
   },
   {
    "duration": 35,
    "start_time": "2022-08-23T10:17:12.974Z"
   },
   {
    "duration": 6,
    "start_time": "2022-08-23T10:17:13.011Z"
   },
   {
    "duration": 28,
    "start_time": "2022-08-23T10:17:13.018Z"
   },
   {
    "duration": 16,
    "start_time": "2022-08-23T10:17:13.049Z"
   },
   {
    "duration": 416,
    "start_time": "2022-08-23T10:17:30.144Z"
   },
   {
    "duration": 351,
    "start_time": "2022-08-23T10:17:37.304Z"
   },
   {
    "duration": 344,
    "start_time": "2022-08-23T10:17:49.681Z"
   },
   {
    "duration": 6,
    "start_time": "2022-08-23T10:22:27.054Z"
   },
   {
    "duration": 42,
    "start_time": "2022-08-23T10:23:06.487Z"
   },
   {
    "duration": 15,
    "start_time": "2022-08-23T10:23:13.151Z"
   },
   {
    "duration": 313,
    "start_time": "2022-08-23T10:23:43.832Z"
   },
   {
    "duration": 76,
    "start_time": "2022-08-23T10:24:45.890Z"
   },
   {
    "duration": 359,
    "start_time": "2022-08-23T10:25:07.759Z"
   },
   {
    "duration": 1124,
    "start_time": "2022-08-23T10:25:08.120Z"
   },
   {
    "duration": 6,
    "start_time": "2022-08-23T10:25:09.246Z"
   },
   {
    "duration": 28,
    "start_time": "2022-08-23T10:25:09.254Z"
   },
   {
    "duration": 170,
    "start_time": "2022-08-23T10:25:09.284Z"
   },
   {
    "duration": 16,
    "start_time": "2022-08-23T10:25:09.456Z"
   },
   {
    "duration": 31,
    "start_time": "2022-08-23T10:25:09.473Z"
   },
   {
    "duration": 5,
    "start_time": "2022-08-23T10:25:09.506Z"
   },
   {
    "duration": 36,
    "start_time": "2022-08-23T10:25:09.513Z"
   },
   {
    "duration": 439,
    "start_time": "2022-08-23T10:25:09.552Z"
   },
   {
    "duration": 337,
    "start_time": "2022-08-23T10:25:09.993Z"
   },
   {
    "duration": 274,
    "start_time": "2022-08-23T10:25:13.710Z"
   },
   {
    "duration": 2,
    "start_time": "2022-08-23T10:28:33.210Z"
   },
   {
    "duration": 304,
    "start_time": "2022-08-23T10:31:40.278Z"
   },
   {
    "duration": 316,
    "start_time": "2022-08-23T10:32:17.294Z"
   },
   {
    "duration": 367,
    "start_time": "2022-08-23T10:32:34.376Z"
   },
   {
    "duration": 73,
    "start_time": "2022-08-23T10:32:53.824Z"
   },
   {
    "duration": 371,
    "start_time": "2022-08-23T10:33:01.424Z"
   },
   {
    "duration": 17,
    "start_time": "2022-08-23T10:33:16.296Z"
   },
   {
    "duration": 299,
    "start_time": "2022-08-23T10:33:24.473Z"
   },
   {
    "duration": 295,
    "start_time": "2022-08-23T10:33:33.400Z"
   },
   {
    "duration": 290,
    "start_time": "2022-08-23T10:33:43.336Z"
   },
   {
    "duration": 319,
    "start_time": "2022-08-23T10:34:06.361Z"
   },
   {
    "duration": 419,
    "start_time": "2022-08-23T10:34:20.497Z"
   },
   {
    "duration": 20,
    "start_time": "2022-08-23T10:47:23.130Z"
   },
   {
    "duration": 23,
    "start_time": "2022-08-23T10:47:43.290Z"
   },
   {
    "duration": 1172,
    "start_time": "2022-08-23T10:48:01.554Z"
   },
   {
    "duration": 1199,
    "start_time": "2022-08-23T10:48:25.810Z"
   },
   {
    "duration": 13,
    "start_time": "2022-08-23T10:49:27.316Z"
   },
   {
    "duration": 1295,
    "start_time": "2022-08-23T10:49:37.885Z"
   },
   {
    "duration": 24,
    "start_time": "2022-08-23T10:51:07.654Z"
   },
   {
    "duration": 1223,
    "start_time": "2022-08-23T10:51:26.623Z"
   },
   {
    "duration": 578,
    "start_time": "2022-08-23T10:53:56.353Z"
   },
   {
    "duration": 74,
    "start_time": "2022-08-23T10:56:08.964Z"
   },
   {
    "duration": 27,
    "start_time": "2022-08-23T10:57:27.230Z"
   },
   {
    "duration": 24,
    "start_time": "2022-08-23T10:58:11.631Z"
   },
   {
    "duration": 20,
    "start_time": "2022-08-23T10:58:20.552Z"
   },
   {
    "duration": 16,
    "start_time": "2022-08-23T10:58:46.072Z"
   },
   {
    "duration": 26,
    "start_time": "2022-08-23T10:58:52.511Z"
   },
   {
    "duration": 43,
    "start_time": "2022-08-23T10:59:12.136Z"
   },
   {
    "duration": 327,
    "start_time": "2022-08-23T11:00:05.569Z"
   },
   {
    "duration": 635,
    "start_time": "2022-08-23T11:00:44.538Z"
   },
   {
    "duration": 23,
    "start_time": "2022-08-23T11:01:07.275Z"
   },
   {
    "duration": 39,
    "start_time": "2022-08-23T11:01:14.459Z"
   },
   {
    "duration": 28,
    "start_time": "2022-08-23T11:02:03.349Z"
   },
   {
    "duration": 26,
    "start_time": "2022-08-23T11:03:49.678Z"
   },
   {
    "duration": 1044,
    "start_time": "2022-08-23T11:04:29.583Z"
   },
   {
    "duration": 310,
    "start_time": "2022-08-23T11:04:51.799Z"
   },
   {
    "duration": 204,
    "start_time": "2022-08-23T11:06:14.649Z"
   },
   {
    "duration": 1050,
    "start_time": "2022-08-23T11:06:20.402Z"
   },
   {
    "duration": 1209,
    "start_time": "2022-08-23T11:06:24.433Z"
   },
   {
    "duration": 1053,
    "start_time": "2022-08-23T11:07:05.082Z"
   },
   {
    "duration": 1081,
    "start_time": "2022-08-23T11:07:12.906Z"
   },
   {
    "duration": 1290,
    "start_time": "2022-08-23T11:07:18.915Z"
   },
   {
    "duration": 32,
    "start_time": "2022-08-23T11:10:30.262Z"
   },
   {
    "duration": 1114,
    "start_time": "2022-08-23T11:10:50.047Z"
   },
   {
    "duration": 36,
    "start_time": "2022-08-23T11:11:25.608Z"
   },
   {
    "duration": 234,
    "start_time": "2022-08-23T11:11:59.928Z"
   },
   {
    "duration": 23,
    "start_time": "2022-08-23T11:12:33.089Z"
   },
   {
    "duration": 188,
    "start_time": "2022-08-23T11:12:52.730Z"
   },
   {
    "duration": 960,
    "start_time": "2022-08-23T11:13:39.234Z"
   },
   {
    "duration": 20,
    "start_time": "2022-08-23T11:13:56.779Z"
   },
   {
    "duration": 29,
    "start_time": "2022-08-23T11:14:04.604Z"
   },
   {
    "duration": 304,
    "start_time": "2022-08-23T11:15:09.661Z"
   },
   {
    "duration": 3957,
    "start_time": "2022-08-23T11:15:50.261Z"
   },
   {
    "duration": 4072,
    "start_time": "2022-08-23T11:16:02.165Z"
   },
   {
    "duration": 4074,
    "start_time": "2022-08-23T11:17:00.974Z"
   },
   {
    "duration": 1284,
    "start_time": "2022-08-23T11:17:19.774Z"
   },
   {
    "duration": 1596,
    "start_time": "2022-08-23T11:17:30.216Z"
   },
   {
    "duration": 1407,
    "start_time": "2022-08-23T11:22:28.118Z"
   },
   {
    "duration": 1289,
    "start_time": "2022-08-23T11:22:45.582Z"
   },
   {
    "duration": 11,
    "start_time": "2022-08-23T11:23:40.215Z"
   },
   {
    "duration": 523,
    "start_time": "2022-08-23T11:23:53.488Z"
   },
   {
    "duration": 958,
    "start_time": "2022-08-23T11:24:18.031Z"
   },
   {
    "duration": 276,
    "start_time": "2022-08-23T11:24:32.944Z"
   },
   {
    "duration": 30,
    "start_time": "2022-08-23T11:25:48.538Z"
   },
   {
    "duration": 34,
    "start_time": "2022-08-23T11:27:09.147Z"
   },
   {
    "duration": 55,
    "start_time": "2022-08-23T11:27:30.604Z"
   },
   {
    "duration": 67,
    "start_time": "2022-08-23T11:28:21.950Z"
   },
   {
    "duration": 80,
    "start_time": "2022-08-23T11:28:28.545Z"
   },
   {
    "duration": 58,
    "start_time": "2022-08-23T11:28:32.485Z"
   },
   {
    "duration": 295,
    "start_time": "2022-08-23T11:28:39.837Z"
   },
   {
    "duration": 25,
    "start_time": "2022-08-23T11:29:02.549Z"
   },
   {
    "duration": 16,
    "start_time": "2022-08-23T11:29:07.215Z"
   },
   {
    "duration": 4,
    "start_time": "2022-08-23T11:29:22.542Z"
   },
   {
    "duration": 51,
    "start_time": "2022-08-23T11:29:27.310Z"
   },
   {
    "duration": 107,
    "start_time": "2022-08-23T11:29:53.678Z"
   },
   {
    "duration": 19,
    "start_time": "2022-08-23T11:29:57.446Z"
   },
   {
    "duration": 25,
    "start_time": "2022-08-23T11:30:03.750Z"
   },
   {
    "duration": 23,
    "start_time": "2022-08-23T11:30:14.792Z"
   },
   {
    "duration": 30,
    "start_time": "2022-08-23T11:30:21.295Z"
   },
   {
    "duration": 20,
    "start_time": "2022-08-23T11:30:38.496Z"
   },
   {
    "duration": 21,
    "start_time": "2022-08-23T11:30:43.680Z"
   },
   {
    "duration": 28,
    "start_time": "2022-08-23T11:30:57.624Z"
   },
   {
    "duration": 117,
    "start_time": "2022-08-23T11:31:28.817Z"
   },
   {
    "duration": 1244,
    "start_time": "2022-08-23T11:31:36.648Z"
   },
   {
    "duration": 1154,
    "start_time": "2022-08-23T11:31:54.579Z"
   },
   {
    "duration": 174,
    "start_time": "2022-08-23T11:32:08.578Z"
   },
   {
    "duration": 1101,
    "start_time": "2022-08-23T11:32:11.345Z"
   },
   {
    "duration": 1326,
    "start_time": "2022-08-23T11:32:50.620Z"
   },
   {
    "duration": 1142,
    "start_time": "2022-08-23T11:35:33.117Z"
   },
   {
    "duration": 1339,
    "start_time": "2022-08-23T11:35:48.814Z"
   },
   {
    "duration": 1229,
    "start_time": "2022-08-23T11:35:52.550Z"
   },
   {
    "duration": 1070,
    "start_time": "2022-08-23T11:35:57.734Z"
   },
   {
    "duration": 1266,
    "start_time": "2022-08-23T11:36:03.294Z"
   },
   {
    "duration": 1107,
    "start_time": "2022-08-23T11:36:07.566Z"
   },
   {
    "duration": 1326,
    "start_time": "2022-08-23T11:37:13.872Z"
   },
   {
    "duration": 1098,
    "start_time": "2022-08-23T11:37:17.656Z"
   },
   {
    "duration": 10,
    "start_time": "2022-08-23T11:45:16.642Z"
   },
   {
    "duration": 10,
    "start_time": "2022-08-23T11:45:25.970Z"
   },
   {
    "duration": 4,
    "start_time": "2022-08-23T11:46:33.348Z"
   },
   {
    "duration": 4,
    "start_time": "2022-08-23T11:46:55.604Z"
   },
   {
    "duration": 10,
    "start_time": "2022-08-23T11:47:09.476Z"
   },
   {
    "duration": 3,
    "start_time": "2022-08-23T11:47:50.094Z"
   },
   {
    "duration": 7,
    "start_time": "2022-08-23T11:58:31.627Z"
   },
   {
    "duration": 5,
    "start_time": "2022-08-23T11:58:47.779Z"
   },
   {
    "duration": 11,
    "start_time": "2022-08-23T12:02:06.800Z"
   },
   {
    "duration": 1295,
    "start_time": "2022-08-23T12:02:14.648Z"
   },
   {
    "duration": 1174,
    "start_time": "2022-08-23T12:03:08.385Z"
   },
   {
    "duration": 1286,
    "start_time": "2022-08-23T12:04:16.498Z"
   },
   {
    "duration": 1241,
    "start_time": "2022-08-23T12:04:22.234Z"
   },
   {
    "duration": 1207,
    "start_time": "2022-08-23T12:04:34.542Z"
   },
   {
    "duration": 808,
    "start_time": "2022-08-23T12:04:35.752Z"
   },
   {
    "duration": 7,
    "start_time": "2022-08-23T12:04:36.562Z"
   },
   {
    "duration": 17,
    "start_time": "2022-08-23T12:04:36.571Z"
   },
   {
    "duration": 170,
    "start_time": "2022-08-23T12:04:36.602Z"
   },
   {
    "duration": 16,
    "start_time": "2022-08-23T12:04:36.774Z"
   },
   {
    "duration": 15,
    "start_time": "2022-08-23T12:04:36.804Z"
   },
   {
    "duration": 6,
    "start_time": "2022-08-23T12:04:36.821Z"
   },
   {
    "duration": 32,
    "start_time": "2022-08-23T12:04:36.828Z"
   },
   {
    "duration": 395,
    "start_time": "2022-08-23T12:04:36.863Z"
   },
   {
    "duration": 351,
    "start_time": "2022-08-23T12:04:37.260Z"
   },
   {
    "duration": 1149,
    "start_time": "2022-08-23T12:04:37.613Z"
   },
   {
    "duration": 4,
    "start_time": "2022-08-23T12:04:38.765Z"
   },
   {
    "duration": 11,
    "start_time": "2022-08-23T12:04:38.771Z"
   },
   {
    "duration": 1399,
    "start_time": "2022-08-23T12:04:38.784Z"
   },
   {
    "duration": 1361,
    "start_time": "2022-08-23T12:07:14.338Z"
   },
   {
    "duration": 1351,
    "start_time": "2022-08-23T12:12:25.321Z"
   },
   {
    "duration": 24,
    "start_time": "2022-08-23T12:17:04.743Z"
   },
   {
    "duration": 24,
    "start_time": "2022-08-23T12:18:17.762Z"
   },
   {
    "duration": 17,
    "start_time": "2022-08-23T12:19:44.339Z"
   },
   {
    "duration": 277,
    "start_time": "2022-08-23T12:20:35.203Z"
   },
   {
    "duration": 29,
    "start_time": "2022-08-23T12:20:43.532Z"
   },
   {
    "duration": 25,
    "start_time": "2022-08-23T12:20:54.422Z"
   },
   {
    "duration": 22,
    "start_time": "2022-08-23T12:21:15.901Z"
   },
   {
    "duration": 27,
    "start_time": "2022-08-23T12:21:22.853Z"
   },
   {
    "duration": 343,
    "start_time": "2022-08-23T12:29:23.752Z"
   },
   {
    "duration": 11,
    "start_time": "2022-08-23T12:30:42.609Z"
   },
   {
    "duration": 11,
    "start_time": "2022-08-23T12:30:48.105Z"
   },
   {
    "duration": 183,
    "start_time": "2022-08-23T12:30:50.842Z"
   },
   {
    "duration": 189,
    "start_time": "2022-08-23T12:32:35.604Z"
   },
   {
    "duration": 12,
    "start_time": "2022-08-23T12:42:03.472Z"
   },
   {
    "duration": 23,
    "start_time": "2022-08-23T12:42:19.800Z"
   },
   {
    "duration": 2,
    "start_time": "2022-08-23T12:43:59.442Z"
   },
   {
    "duration": 29,
    "start_time": "2022-08-23T12:47:03.958Z"
   },
   {
    "duration": 12,
    "start_time": "2022-08-23T12:47:19.351Z"
   },
   {
    "duration": 19,
    "start_time": "2022-08-23T12:48:35.920Z"
   },
   {
    "duration": 24,
    "start_time": "2022-08-23T12:49:50.282Z"
   },
   {
    "duration": 19,
    "start_time": "2022-08-23T12:50:17.570Z"
   },
   {
    "duration": 14,
    "start_time": "2022-08-23T12:50:25.314Z"
   },
   {
    "duration": 17,
    "start_time": "2022-08-23T12:50:59.507Z"
   },
   {
    "duration": 996,
    "start_time": "2022-08-23T12:51:18.389Z"
   },
   {
    "duration": 947,
    "start_time": "2022-08-23T12:51:31.188Z"
   },
   {
    "duration": 24,
    "start_time": "2022-08-23T12:51:40.885Z"
   },
   {
    "duration": 22,
    "start_time": "2022-08-23T12:51:55.676Z"
   },
   {
    "duration": 26,
    "start_time": "2022-08-23T12:52:09.485Z"
   },
   {
    "duration": 1290,
    "start_time": "2022-08-23T13:40:00.880Z"
   },
   {
    "duration": 1486,
    "start_time": "2022-08-23T13:40:46.562Z"
   },
   {
    "duration": 1333,
    "start_time": "2022-08-23T13:40:56.584Z"
   },
   {
    "duration": 2518,
    "start_time": "2022-08-23T13:41:46.138Z"
   },
   {
    "duration": 2510,
    "start_time": "2022-08-23T13:42:01.948Z"
   },
   {
    "duration": 2730,
    "start_time": "2022-08-23T13:42:09.843Z"
   },
   {
    "duration": 1223,
    "start_time": "2022-08-23T14:04:21.328Z"
   },
   {
    "duration": 12,
    "start_time": "2022-08-23T14:06:00.338Z"
   },
   {
    "duration": 6,
    "start_time": "2022-08-23T14:06:11.882Z"
   },
   {
    "duration": 18,
    "start_time": "2022-08-23T14:06:17.705Z"
   },
   {
    "duration": 6,
    "start_time": "2022-08-23T14:07:03.460Z"
   },
   {
    "duration": 181,
    "start_time": "2022-08-23T14:08:19.653Z"
   },
   {
    "duration": 1278,
    "start_time": "2022-08-23T14:08:59.614Z"
   },
   {
    "duration": 177,
    "start_time": "2022-08-23T14:09:18.343Z"
   },
   {
    "duration": 14,
    "start_time": "2022-08-23T14:13:06.092Z"
   },
   {
    "duration": 16,
    "start_time": "2022-08-23T14:13:57.517Z"
   },
   {
    "duration": 193,
    "start_time": "2022-08-23T14:14:21.117Z"
   },
   {
    "duration": 164,
    "start_time": "2022-08-23T14:16:53.266Z"
   },
   {
    "duration": 19,
    "start_time": "2022-08-23T14:18:36.939Z"
   },
   {
    "duration": 7,
    "start_time": "2022-08-23T14:20:34.797Z"
   },
   {
    "duration": 6,
    "start_time": "2022-08-23T14:20:39.469Z"
   },
   {
    "duration": 173,
    "start_time": "2022-08-23T14:20:51.305Z"
   },
   {
    "duration": 51,
    "start_time": "2022-08-23T14:21:36.030Z"
   },
   {
    "duration": 1164,
    "start_time": "2022-08-23T14:21:42.650Z"
   },
   {
    "duration": 812,
    "start_time": "2022-08-23T14:21:43.816Z"
   },
   {
    "duration": 6,
    "start_time": "2022-08-23T14:21:44.630Z"
   },
   {
    "duration": 18,
    "start_time": "2022-08-23T14:21:44.638Z"
   },
   {
    "duration": 179,
    "start_time": "2022-08-23T14:21:44.658Z"
   },
   {
    "duration": 9,
    "start_time": "2022-08-23T14:21:44.838Z"
   },
   {
    "duration": 17,
    "start_time": "2022-08-23T14:21:44.849Z"
   },
   {
    "duration": 5,
    "start_time": "2022-08-23T14:21:44.868Z"
   },
   {
    "duration": 49,
    "start_time": "2022-08-23T14:21:44.874Z"
   },
   {
    "duration": 373,
    "start_time": "2022-08-23T14:21:44.925Z"
   },
   {
    "duration": 308,
    "start_time": "2022-08-23T14:21:45.302Z"
   },
   {
    "duration": 1157,
    "start_time": "2022-08-23T14:21:45.612Z"
   },
   {
    "duration": 3,
    "start_time": "2022-08-23T14:21:46.771Z"
   },
   {
    "duration": 28,
    "start_time": "2022-08-23T14:21:46.777Z"
   },
   {
    "duration": 2727,
    "start_time": "2022-08-23T14:21:46.807Z"
   },
   {
    "duration": 28,
    "start_time": "2022-08-23T14:21:49.536Z"
   },
   {
    "duration": 47,
    "start_time": "2022-08-23T14:21:49.565Z"
   },
   {
    "duration": 197,
    "start_time": "2022-08-23T14:21:49.613Z"
   },
   {
    "duration": 6,
    "start_time": "2022-08-23T14:21:49.812Z"
   },
   {
    "duration": 111,
    "start_time": "2022-08-23T14:21:49.820Z"
   },
   {
    "duration": 188,
    "start_time": "2022-08-23T14:22:15.038Z"
   },
   {
    "duration": 875,
    "start_time": "2022-08-23T14:22:38.630Z"
   },
   {
    "duration": 906,
    "start_time": "2022-08-23T14:22:56.776Z"
   },
   {
    "duration": 13,
    "start_time": "2022-08-23T14:23:22.191Z"
   },
   {
    "duration": 12,
    "start_time": "2022-08-23T14:23:28.432Z"
   },
   {
    "duration": 1137,
    "start_time": "2022-08-23T14:23:44.155Z"
   },
   {
    "duration": 769,
    "start_time": "2022-08-23T14:23:45.294Z"
   },
   {
    "duration": 6,
    "start_time": "2022-08-23T14:23:46.065Z"
   },
   {
    "duration": 21,
    "start_time": "2022-08-23T14:23:46.072Z"
   },
   {
    "duration": 163,
    "start_time": "2022-08-23T14:23:46.104Z"
   },
   {
    "duration": 130,
    "start_time": "2022-08-23T14:23:46.269Z"
   },
   {
    "duration": 0,
    "start_time": "2022-08-23T14:23:46.403Z"
   },
   {
    "duration": 0,
    "start_time": "2022-08-23T14:23:46.404Z"
   },
   {
    "duration": 0,
    "start_time": "2022-08-23T14:23:46.405Z"
   },
   {
    "duration": 0,
    "start_time": "2022-08-23T14:23:46.406Z"
   },
   {
    "duration": 0,
    "start_time": "2022-08-23T14:23:46.407Z"
   },
   {
    "duration": 0,
    "start_time": "2022-08-23T14:23:46.409Z"
   },
   {
    "duration": 0,
    "start_time": "2022-08-23T14:23:46.410Z"
   },
   {
    "duration": 0,
    "start_time": "2022-08-23T14:23:46.412Z"
   },
   {
    "duration": 0,
    "start_time": "2022-08-23T14:23:46.413Z"
   },
   {
    "duration": 0,
    "start_time": "2022-08-23T14:23:46.415Z"
   },
   {
    "duration": 0,
    "start_time": "2022-08-23T14:23:46.416Z"
   },
   {
    "duration": 0,
    "start_time": "2022-08-23T14:23:46.418Z"
   },
   {
    "duration": 0,
    "start_time": "2022-08-23T14:23:46.419Z"
   },
   {
    "duration": 0,
    "start_time": "2022-08-23T14:23:46.421Z"
   },
   {
    "duration": 12,
    "start_time": "2022-08-23T14:24:04.387Z"
   },
   {
    "duration": 14,
    "start_time": "2022-08-23T14:24:08.064Z"
   },
   {
    "duration": 1222,
    "start_time": "2022-08-23T14:24:15.418Z"
   },
   {
    "duration": 814,
    "start_time": "2022-08-23T14:24:16.642Z"
   },
   {
    "duration": 7,
    "start_time": "2022-08-23T14:24:17.458Z"
   },
   {
    "duration": 44,
    "start_time": "2022-08-23T14:24:17.467Z"
   },
   {
    "duration": 181,
    "start_time": "2022-08-23T14:24:17.515Z"
   },
   {
    "duration": 13,
    "start_time": "2022-08-23T14:24:17.698Z"
   },
   {
    "duration": 33,
    "start_time": "2022-08-23T14:24:17.712Z"
   },
   {
    "duration": 25,
    "start_time": "2022-08-23T14:24:17.747Z"
   },
   {
    "duration": 51,
    "start_time": "2022-08-23T14:24:17.774Z"
   },
   {
    "duration": 376,
    "start_time": "2022-08-23T14:24:17.827Z"
   },
   {
    "duration": 335,
    "start_time": "2022-08-23T14:24:18.205Z"
   },
   {
    "duration": 1272,
    "start_time": "2022-08-23T14:24:18.542Z"
   },
   {
    "duration": 3,
    "start_time": "2022-08-23T14:24:19.816Z"
   },
   {
    "duration": 23,
    "start_time": "2022-08-23T14:24:19.822Z"
   },
   {
    "duration": 2688,
    "start_time": "2022-08-23T14:24:19.847Z"
   },
   {
    "duration": 29,
    "start_time": "2022-08-23T14:24:22.537Z"
   },
   {
    "duration": 44,
    "start_time": "2022-08-23T14:24:22.567Z"
   },
   {
    "duration": 198,
    "start_time": "2022-08-23T14:24:22.613Z"
   },
   {
    "duration": 6,
    "start_time": "2022-08-23T14:24:22.814Z"
   },
   {
    "duration": 271,
    "start_time": "2022-08-23T14:24:22.822Z"
   },
   {
    "duration": 154,
    "start_time": "2022-08-23T14:24:40.038Z"
   },
   {
    "duration": 9,
    "start_time": "2022-08-23T14:25:05.438Z"
   },
   {
    "duration": 1167,
    "start_time": "2022-08-23T14:25:09.062Z"
   },
   {
    "duration": 816,
    "start_time": "2022-08-23T14:25:10.232Z"
   },
   {
    "duration": 6,
    "start_time": "2022-08-23T14:25:11.050Z"
   },
   {
    "duration": 16,
    "start_time": "2022-08-23T14:25:11.058Z"
   },
   {
    "duration": 190,
    "start_time": "2022-08-23T14:25:11.076Z"
   },
   {
    "duration": 10,
    "start_time": "2022-08-23T14:25:11.268Z"
   },
   {
    "duration": 31,
    "start_time": "2022-08-23T14:25:11.280Z"
   },
   {
    "duration": 12,
    "start_time": "2022-08-23T14:25:11.313Z"
   },
   {
    "duration": 29,
    "start_time": "2022-08-23T14:25:11.327Z"
   },
   {
    "duration": 367,
    "start_time": "2022-08-23T14:25:11.358Z"
   },
   {
    "duration": 318,
    "start_time": "2022-08-23T14:25:11.727Z"
   },
   {
    "duration": 1179,
    "start_time": "2022-08-23T14:25:12.046Z"
   },
   {
    "duration": 3,
    "start_time": "2022-08-23T14:25:13.228Z"
   },
   {
    "duration": 21,
    "start_time": "2022-08-23T14:25:13.233Z"
   },
   {
    "duration": 2728,
    "start_time": "2022-08-23T14:25:13.256Z"
   },
   {
    "duration": 40,
    "start_time": "2022-08-23T14:25:15.986Z"
   },
   {
    "duration": 27,
    "start_time": "2022-08-23T14:25:16.027Z"
   },
   {
    "duration": 211,
    "start_time": "2022-08-23T14:25:16.056Z"
   },
   {
    "duration": 6,
    "start_time": "2022-08-23T14:25:16.270Z"
   },
   {
    "duration": 208,
    "start_time": "2022-08-23T14:25:16.278Z"
   },
   {
    "duration": 181,
    "start_time": "2022-08-23T14:25:26.994Z"
   },
   {
    "duration": 188,
    "start_time": "2022-08-23T14:26:46.469Z"
   },
   {
    "duration": 201,
    "start_time": "2022-08-23T14:26:54.349Z"
   },
   {
    "duration": 313,
    "start_time": "2022-08-23T14:27:17.293Z"
   },
   {
    "duration": 191,
    "start_time": "2022-08-23T14:27:31.286Z"
   },
   {
    "duration": 213,
    "start_time": "2022-08-23T14:28:34.623Z"
   },
   {
    "duration": 223,
    "start_time": "2022-08-23T14:28:48.199Z"
   },
   {
    "duration": 195,
    "start_time": "2022-08-23T14:28:59.663Z"
   },
   {
    "duration": 190,
    "start_time": "2022-08-23T14:29:20.544Z"
   },
   {
    "duration": 442,
    "start_time": "2022-08-23T14:29:49.161Z"
   },
   {
    "duration": 13,
    "start_time": "2022-08-23T14:31:17.315Z"
   },
   {
    "duration": 1149,
    "start_time": "2022-08-23T14:31:21.271Z"
   },
   {
    "duration": 787,
    "start_time": "2022-08-23T14:31:22.422Z"
   },
   {
    "duration": 6,
    "start_time": "2022-08-23T14:31:23.211Z"
   },
   {
    "duration": 23,
    "start_time": "2022-08-23T14:31:23.218Z"
   },
   {
    "duration": 164,
    "start_time": "2022-08-23T14:31:23.243Z"
   },
   {
    "duration": 15,
    "start_time": "2022-08-23T14:31:23.409Z"
   },
   {
    "duration": 14,
    "start_time": "2022-08-23T14:31:23.426Z"
   },
   {
    "duration": 5,
    "start_time": "2022-08-23T14:31:23.441Z"
   },
   {
    "duration": 27,
    "start_time": "2022-08-23T14:31:23.447Z"
   },
   {
    "duration": 365,
    "start_time": "2022-08-23T14:31:23.476Z"
   },
   {
    "duration": 297,
    "start_time": "2022-08-23T14:31:23.842Z"
   },
   {
    "duration": 1109,
    "start_time": "2022-08-23T14:31:24.141Z"
   },
   {
    "duration": 4,
    "start_time": "2022-08-23T14:31:25.252Z"
   },
   {
    "duration": 20,
    "start_time": "2022-08-23T14:31:25.259Z"
   },
   {
    "duration": 2568,
    "start_time": "2022-08-23T14:31:25.280Z"
   },
   {
    "duration": 26,
    "start_time": "2022-08-23T14:31:27.850Z"
   },
   {
    "duration": 41,
    "start_time": "2022-08-23T14:31:27.878Z"
   },
   {
    "duration": 193,
    "start_time": "2022-08-23T14:31:27.921Z"
   },
   {
    "duration": 6,
    "start_time": "2022-08-23T14:31:28.116Z"
   },
   {
    "duration": 260,
    "start_time": "2022-08-23T14:31:28.124Z"
   },
   {
    "duration": 217,
    "start_time": "2022-08-23T14:32:56.079Z"
   },
   {
    "duration": 989,
    "start_time": "2022-08-23T14:33:31.686Z"
   },
   {
    "duration": 1070,
    "start_time": "2022-08-23T14:33:59.487Z"
   },
   {
    "duration": 62,
    "start_time": "2022-08-23T14:35:27.617Z"
   },
   {
    "duration": 954,
    "start_time": "2022-08-23T14:35:33.521Z"
   },
   {
    "duration": 955,
    "start_time": "2022-08-23T14:36:55.395Z"
   },
   {
    "duration": 967,
    "start_time": "2022-08-23T14:37:04.347Z"
   },
   {
    "duration": 959,
    "start_time": "2022-08-23T14:37:17.427Z"
   },
   {
    "duration": 1095,
    "start_time": "2022-08-23T14:37:37.196Z"
   },
   {
    "duration": 954,
    "start_time": "2022-08-23T14:37:59.228Z"
   },
   {
    "duration": 58,
    "start_time": "2022-08-23T14:40:06.863Z"
   },
   {
    "duration": 992,
    "start_time": "2022-08-23T14:40:11.192Z"
   },
   {
    "duration": 114,
    "start_time": "2022-08-23T14:41:03.673Z"
   },
   {
    "duration": 7,
    "start_time": "2022-08-23T14:41:12.561Z"
   },
   {
    "duration": 206,
    "start_time": "2022-08-23T14:41:20.505Z"
   },
   {
    "duration": 1003,
    "start_time": "2022-08-23T14:41:40.315Z"
   },
   {
    "duration": 87,
    "start_time": "2022-08-23T14:43:28.124Z"
   },
   {
    "duration": 1124,
    "start_time": "2022-08-23T14:45:02.392Z"
   },
   {
    "duration": 1023,
    "start_time": "2022-08-23T14:45:47.527Z"
   },
   {
    "duration": 12,
    "start_time": "2022-08-23T14:45:54.342Z"
   },
   {
    "duration": 16,
    "start_time": "2022-08-23T14:46:39.138Z"
   },
   {
    "duration": 14,
    "start_time": "2022-08-23T14:46:53.545Z"
   },
   {
    "duration": 11,
    "start_time": "2022-08-23T14:47:06.953Z"
   },
   {
    "duration": 3,
    "start_time": "2022-08-23T14:48:54.235Z"
   },
   {
    "duration": 3,
    "start_time": "2022-08-23T14:48:57.117Z"
   },
   {
    "duration": 931,
    "start_time": "2022-08-23T14:49:09.683Z"
   },
   {
    "duration": 1192,
    "start_time": "2022-08-23T14:49:32.257Z"
   },
   {
    "duration": 785,
    "start_time": "2022-08-23T14:49:33.452Z"
   },
   {
    "duration": 6,
    "start_time": "2022-08-23T14:49:34.239Z"
   },
   {
    "duration": 17,
    "start_time": "2022-08-23T14:49:34.247Z"
   },
   {
    "duration": 185,
    "start_time": "2022-08-23T14:49:34.266Z"
   },
   {
    "duration": 20,
    "start_time": "2022-08-23T14:49:34.453Z"
   },
   {
    "duration": 35,
    "start_time": "2022-08-23T14:49:34.474Z"
   },
   {
    "duration": 7,
    "start_time": "2022-08-23T14:49:34.511Z"
   },
   {
    "duration": 43,
    "start_time": "2022-08-23T14:49:34.520Z"
   },
   {
    "duration": 376,
    "start_time": "2022-08-23T14:49:34.566Z"
   },
   {
    "duration": 345,
    "start_time": "2022-08-23T14:49:34.944Z"
   },
   {
    "duration": 1137,
    "start_time": "2022-08-23T14:49:35.291Z"
   },
   {
    "duration": 4,
    "start_time": "2022-08-23T14:49:36.430Z"
   },
   {
    "duration": 10,
    "start_time": "2022-08-23T14:49:36.435Z"
   },
   {
    "duration": 2782,
    "start_time": "2022-08-23T14:49:36.447Z"
   },
   {
    "duration": 28,
    "start_time": "2022-08-23T14:49:39.231Z"
   },
   {
    "duration": 44,
    "start_time": "2022-08-23T14:49:39.261Z"
   },
   {
    "duration": 199,
    "start_time": "2022-08-23T14:49:39.307Z"
   },
   {
    "duration": 5,
    "start_time": "2022-08-23T14:49:39.508Z"
   },
   {
    "duration": 1046,
    "start_time": "2022-08-23T14:49:39.515Z"
   },
   {
    "duration": 14,
    "start_time": "2022-08-23T14:50:32.761Z"
   },
   {
    "duration": 15,
    "start_time": "2022-08-23T14:51:10.697Z"
   },
   {
    "duration": 28,
    "start_time": "2022-08-23T14:52:45.747Z"
   },
   {
    "duration": 16,
    "start_time": "2022-08-23T14:52:50.755Z"
   },
   {
    "duration": 6,
    "start_time": "2022-08-23T14:53:47.837Z"
   },
   {
    "duration": 9,
    "start_time": "2022-08-23T14:54:10.279Z"
   },
   {
    "duration": 8,
    "start_time": "2022-08-23T14:54:30.181Z"
   },
   {
    "duration": 8,
    "start_time": "2022-08-23T14:54:50.718Z"
   },
   {
    "duration": 53,
    "start_time": "2022-08-23T14:54:56.935Z"
   },
   {
    "duration": 19,
    "start_time": "2022-08-23T14:55:00.631Z"
   },
   {
    "duration": 28,
    "start_time": "2022-08-23T14:55:10.103Z"
   },
   {
    "duration": 6,
    "start_time": "2022-08-23T14:55:51.288Z"
   },
   {
    "duration": 8,
    "start_time": "2022-08-23T14:57:54.258Z"
   },
   {
    "duration": 17,
    "start_time": "2022-08-23T14:58:02.091Z"
   },
   {
    "duration": 979,
    "start_time": "2022-08-23T14:58:46.284Z"
   },
   {
    "duration": 589,
    "start_time": "2022-08-23T14:59:12.028Z"
   },
   {
    "duration": 995,
    "start_time": "2022-08-23T14:59:24.893Z"
   },
   {
    "duration": 373,
    "start_time": "2022-08-23T14:59:35.404Z"
   },
   {
    "duration": 368,
    "start_time": "2022-08-23T14:59:52.917Z"
   },
   {
    "duration": 1048,
    "start_time": "2022-08-23T14:59:58.422Z"
   },
   {
    "duration": 221,
    "start_time": "2022-08-23T15:00:01.358Z"
   },
   {
    "duration": 12,
    "start_time": "2022-08-23T15:00:16.558Z"
   },
   {
    "duration": 19,
    "start_time": "2022-08-23T15:00:56.900Z"
   },
   {
    "duration": 23,
    "start_time": "2022-08-23T15:01:25.663Z"
   },
   {
    "duration": 19,
    "start_time": "2022-08-23T15:02:00.168Z"
   },
   {
    "duration": 400,
    "start_time": "2022-08-23T15:02:21.697Z"
   },
   {
    "duration": 12,
    "start_time": "2022-08-23T15:02:42.856Z"
   },
   {
    "duration": 5,
    "start_time": "2022-08-23T15:02:48.336Z"
   },
   {
    "duration": 436,
    "start_time": "2022-08-23T15:03:56.970Z"
   },
   {
    "duration": 420,
    "start_time": "2022-08-23T15:04:11.498Z"
   },
   {
    "duration": 437,
    "start_time": "2022-08-23T15:04:22.027Z"
   },
   {
    "duration": 405,
    "start_time": "2022-08-23T15:04:26.461Z"
   },
   {
    "duration": 578,
    "start_time": "2022-08-23T15:04:30.859Z"
   },
   {
    "duration": 423,
    "start_time": "2022-08-23T15:04:56.852Z"
   },
   {
    "duration": 440,
    "start_time": "2022-08-23T15:05:09.276Z"
   },
   {
    "duration": 6,
    "start_time": "2022-08-23T15:05:27.252Z"
   },
   {
    "duration": 5,
    "start_time": "2022-08-23T15:05:36.037Z"
   },
   {
    "duration": 18,
    "start_time": "2022-08-23T15:05:54.981Z"
   },
   {
    "duration": 443,
    "start_time": "2022-08-23T15:05:57.061Z"
   },
   {
    "duration": 1231,
    "start_time": "2022-08-23T16:01:48.692Z"
   },
   {
    "duration": 815,
    "start_time": "2022-08-23T16:01:49.926Z"
   },
   {
    "duration": 5,
    "start_time": "2022-08-23T16:01:50.743Z"
   },
   {
    "duration": 18,
    "start_time": "2022-08-23T16:01:50.750Z"
   },
   {
    "duration": 171,
    "start_time": "2022-08-23T16:01:50.770Z"
   },
   {
    "duration": 14,
    "start_time": "2022-08-23T16:01:50.943Z"
   },
   {
    "duration": 14,
    "start_time": "2022-08-23T16:01:50.958Z"
   },
   {
    "duration": 4,
    "start_time": "2022-08-23T16:01:50.974Z"
   },
   {
    "duration": 48,
    "start_time": "2022-08-23T16:01:50.979Z"
   },
   {
    "duration": 396,
    "start_time": "2022-08-23T16:01:51.030Z"
   },
   {
    "duration": 342,
    "start_time": "2022-08-23T16:01:51.428Z"
   },
   {
    "duration": 1321,
    "start_time": "2022-08-23T16:01:51.772Z"
   },
   {
    "duration": 10,
    "start_time": "2022-08-23T16:01:53.095Z"
   },
   {
    "duration": 13,
    "start_time": "2022-08-23T16:01:53.107Z"
   },
   {
    "duration": 2732,
    "start_time": "2022-08-23T16:01:53.122Z"
   },
   {
    "duration": 27,
    "start_time": "2022-08-23T16:01:55.857Z"
   },
   {
    "duration": 41,
    "start_time": "2022-08-23T16:01:55.886Z"
   },
   {
    "duration": 205,
    "start_time": "2022-08-23T16:01:55.929Z"
   },
   {
    "duration": 21,
    "start_time": "2022-08-23T16:01:56.136Z"
   },
   {
    "duration": 426,
    "start_time": "2022-08-23T16:01:56.159Z"
   },
   {
    "duration": 65,
    "start_time": "2022-08-23T16:03:04.662Z"
   },
   {
    "duration": 56,
    "start_time": "2022-08-23T16:03:25.912Z"
   },
   {
    "duration": 5,
    "start_time": "2022-08-23T16:03:33.927Z"
   },
   {
    "duration": 54,
    "start_time": "2022-08-23T16:03:41.216Z"
   },
   {
    "duration": 79,
    "start_time": "2022-08-23T16:03:48.487Z"
   },
   {
    "duration": 19,
    "start_time": "2022-08-23T16:04:01.928Z"
   },
   {
    "duration": 3,
    "start_time": "2022-08-23T16:05:12.682Z"
   },
   {
    "duration": 27,
    "start_time": "2022-08-23T16:05:16.801Z"
   },
   {
    "duration": 424,
    "start_time": "2022-08-23T16:05:37.666Z"
   },
   {
    "duration": 23,
    "start_time": "2022-08-23T16:06:33.515Z"
   },
   {
    "duration": 474,
    "start_time": "2022-08-23T16:06:52.572Z"
   },
   {
    "duration": 23,
    "start_time": "2022-08-23T16:09:30.767Z"
   },
   {
    "duration": 291,
    "start_time": "2022-08-23T16:10:01.182Z"
   },
   {
    "duration": 230,
    "start_time": "2022-08-23T16:10:23.560Z"
   },
   {
    "duration": 268,
    "start_time": "2022-08-23T16:10:27.968Z"
   },
   {
    "duration": 309,
    "start_time": "2022-08-23T16:11:14.946Z"
   },
   {
    "duration": 275,
    "start_time": "2022-08-23T16:12:42.963Z"
   },
   {
    "duration": 311,
    "start_time": "2022-08-23T16:16:34.943Z"
   },
   {
    "duration": 15,
    "start_time": "2022-08-23T16:21:20.335Z"
   },
   {
    "duration": 20,
    "start_time": "2022-08-23T16:21:34.417Z"
   },
   {
    "duration": 16,
    "start_time": "2022-08-23T16:21:42.359Z"
   },
   {
    "duration": 15,
    "start_time": "2022-08-23T16:21:56.568Z"
   },
   {
    "duration": 20,
    "start_time": "2022-08-23T16:22:54.473Z"
   },
   {
    "duration": 11,
    "start_time": "2022-08-23T16:23:32.747Z"
   },
   {
    "duration": 111,
    "start_time": "2022-08-23T16:24:17.524Z"
   },
   {
    "duration": 28,
    "start_time": "2022-08-23T16:24:25.075Z"
   },
   {
    "duration": 38,
    "start_time": "2022-08-23T16:24:43.299Z"
   },
   {
    "duration": 26,
    "start_time": "2022-08-23T16:28:14.584Z"
   },
   {
    "duration": 31,
    "start_time": "2022-08-23T16:28:55.031Z"
   },
   {
    "duration": 18,
    "start_time": "2022-08-23T16:30:24.979Z"
   },
   {
    "duration": 49,
    "start_time": "2022-08-23T16:30:59.156Z"
   },
   {
    "duration": 16,
    "start_time": "2022-08-23T16:31:02.876Z"
   },
   {
    "duration": 20,
    "start_time": "2022-08-23T16:31:11.420Z"
   },
   {
    "duration": 803,
    "start_time": "2022-08-23T16:31:23.835Z"
   },
   {
    "duration": 51,
    "start_time": "2022-08-23T16:32:15.654Z"
   },
   {
    "duration": 821,
    "start_time": "2022-08-23T16:32:21.893Z"
   },
   {
    "duration": 659,
    "start_time": "2022-08-23T16:33:02.534Z"
   },
   {
    "duration": 19,
    "start_time": "2022-08-23T16:38:05.885Z"
   },
   {
    "duration": 48,
    "start_time": "2022-08-24T17:26:22.684Z"
   },
   {
    "duration": 1265,
    "start_time": "2022-08-24T17:26:31.066Z"
   },
   {
    "duration": 813,
    "start_time": "2022-08-24T17:26:32.333Z"
   },
   {
    "duration": 6,
    "start_time": "2022-08-24T17:26:33.148Z"
   },
   {
    "duration": 29,
    "start_time": "2022-08-24T17:26:33.157Z"
   },
   {
    "duration": 160,
    "start_time": "2022-08-24T17:26:33.188Z"
   },
   {
    "duration": 15,
    "start_time": "2022-08-24T17:26:33.350Z"
   },
   {
    "duration": 26,
    "start_time": "2022-08-24T17:26:33.367Z"
   },
   {
    "duration": 5,
    "start_time": "2022-08-24T17:26:33.395Z"
   },
   {
    "duration": 30,
    "start_time": "2022-08-24T17:26:33.401Z"
   },
   {
    "duration": 334,
    "start_time": "2022-08-24T17:26:33.434Z"
   },
   {
    "duration": 306,
    "start_time": "2022-08-24T17:26:33.770Z"
   },
   {
    "duration": 1177,
    "start_time": "2022-08-24T17:26:34.078Z"
   },
   {
    "duration": 3,
    "start_time": "2022-08-24T17:26:35.257Z"
   },
   {
    "duration": 11,
    "start_time": "2022-08-24T17:26:35.262Z"
   },
   {
    "duration": 2419,
    "start_time": "2022-08-24T17:26:35.274Z"
   },
   {
    "duration": 29,
    "start_time": "2022-08-24T17:26:37.695Z"
   },
   {
    "duration": 30,
    "start_time": "2022-08-24T17:26:37.727Z"
   },
   {
    "duration": 188,
    "start_time": "2022-08-24T17:26:37.784Z"
   },
   {
    "duration": 25,
    "start_time": "2022-08-24T17:26:37.974Z"
   },
   {
    "duration": 388,
    "start_time": "2022-08-24T17:26:38.001Z"
   },
   {
    "duration": 19,
    "start_time": "2022-08-24T17:26:38.391Z"
   },
   {
    "duration": 368,
    "start_time": "2022-08-24T17:26:38.412Z"
   },
   {
    "duration": 18,
    "start_time": "2022-08-24T17:26:38.785Z"
   },
   {
    "duration": 446,
    "start_time": "2022-08-24T17:26:38.805Z"
   },
   {
    "duration": 269,
    "start_time": "2022-08-24T17:26:39.253Z"
   },
   {
    "duration": 725,
    "start_time": "2022-08-24T17:26:39.524Z"
   },
   {
    "duration": 638,
    "start_time": "2022-08-24T17:26:40.251Z"
   },
   {
    "duration": 17,
    "start_time": "2022-08-24T17:26:40.892Z"
   },
   {
    "duration": 18,
    "start_time": "2022-08-24T17:28:52.269Z"
   },
   {
    "duration": 18,
    "start_time": "2022-08-24T17:29:15.428Z"
   },
   {
    "duration": 365,
    "start_time": "2022-08-24T17:29:21.380Z"
   },
   {
    "duration": 262,
    "start_time": "2022-08-24T17:30:04.683Z"
   },
   {
    "duration": 1162,
    "start_time": "2022-08-24T17:31:09.456Z"
   },
   {
    "duration": 763,
    "start_time": "2022-08-24T17:31:10.621Z"
   },
   {
    "duration": 5,
    "start_time": "2022-08-24T17:31:11.386Z"
   },
   {
    "duration": 18,
    "start_time": "2022-08-24T17:31:11.393Z"
   },
   {
    "duration": 166,
    "start_time": "2022-08-24T17:31:11.413Z"
   },
   {
    "duration": 18,
    "start_time": "2022-08-24T17:31:11.585Z"
   },
   {
    "duration": 14,
    "start_time": "2022-08-24T17:31:11.605Z"
   },
   {
    "duration": 5,
    "start_time": "2022-08-24T17:31:11.621Z"
   },
   {
    "duration": 27,
    "start_time": "2022-08-24T17:31:11.628Z"
   },
   {
    "duration": 355,
    "start_time": "2022-08-24T17:31:11.657Z"
   },
   {
    "duration": 306,
    "start_time": "2022-08-24T17:31:12.013Z"
   },
   {
    "duration": 1092,
    "start_time": "2022-08-24T17:31:12.320Z"
   },
   {
    "duration": 3,
    "start_time": "2022-08-24T17:31:13.414Z"
   },
   {
    "duration": 27,
    "start_time": "2022-08-24T17:31:13.418Z"
   },
   {
    "duration": 2560,
    "start_time": "2022-08-24T17:31:13.446Z"
   },
   {
    "duration": 28,
    "start_time": "2022-08-24T17:31:16.008Z"
   },
   {
    "duration": 47,
    "start_time": "2022-08-24T17:31:16.038Z"
   },
   {
    "duration": 183,
    "start_time": "2022-08-24T17:31:16.087Z"
   },
   {
    "duration": 22,
    "start_time": "2022-08-24T17:31:16.272Z"
   },
   {
    "duration": 359,
    "start_time": "2022-08-24T17:31:16.296Z"
   },
   {
    "duration": 33,
    "start_time": "2022-08-24T17:31:16.657Z"
   },
   {
    "duration": 371,
    "start_time": "2022-08-24T17:31:16.692Z"
   },
   {
    "duration": 26,
    "start_time": "2022-08-24T17:31:17.066Z"
   },
   {
    "duration": 532,
    "start_time": "2022-08-24T17:31:17.094Z"
   },
   {
    "duration": 282,
    "start_time": "2022-08-24T17:31:17.628Z"
   },
   {
    "duration": 660,
    "start_time": "2022-08-24T17:31:17.911Z"
   },
   {
    "duration": 630,
    "start_time": "2022-08-24T17:31:18.573Z"
   },
   {
    "duration": 1121,
    "start_time": "2022-08-24T17:34:00.696Z"
   },
   {
    "duration": 794,
    "start_time": "2022-08-24T17:34:01.818Z"
   },
   {
    "duration": 6,
    "start_time": "2022-08-24T17:34:02.613Z"
   },
   {
    "duration": 28,
    "start_time": "2022-08-24T17:34:02.621Z"
   },
   {
    "duration": 169,
    "start_time": "2022-08-24T17:34:02.650Z"
   },
   {
    "duration": 16,
    "start_time": "2022-08-24T17:34:02.820Z"
   },
   {
    "duration": 22,
    "start_time": "2022-08-24T17:34:02.838Z"
   },
   {
    "duration": 24,
    "start_time": "2022-08-24T17:34:02.863Z"
   },
   {
    "duration": 42,
    "start_time": "2022-08-24T17:34:02.889Z"
   },
   {
    "duration": 340,
    "start_time": "2022-08-24T17:34:02.934Z"
   },
   {
    "duration": 335,
    "start_time": "2022-08-24T17:34:03.276Z"
   },
   {
    "duration": 1243,
    "start_time": "2022-08-24T17:34:03.613Z"
   },
   {
    "duration": 4,
    "start_time": "2022-08-24T17:34:04.859Z"
   },
   {
    "duration": 21,
    "start_time": "2022-08-24T17:34:04.865Z"
   },
   {
    "duration": 2526,
    "start_time": "2022-08-24T17:34:04.888Z"
   },
   {
    "duration": 27,
    "start_time": "2022-08-24T17:34:07.416Z"
   },
   {
    "duration": 21,
    "start_time": "2022-08-24T17:34:07.444Z"
   },
   {
    "duration": 167,
    "start_time": "2022-08-24T17:34:07.485Z"
   },
   {
    "duration": 17,
    "start_time": "2022-08-24T17:34:07.654Z"
   },
   {
    "duration": 364,
    "start_time": "2022-08-24T17:34:07.673Z"
   },
   {
    "duration": 17,
    "start_time": "2022-08-24T17:34:08.039Z"
   },
   {
    "duration": 370,
    "start_time": "2022-08-24T17:34:08.057Z"
   },
   {
    "duration": 17,
    "start_time": "2022-08-24T17:34:08.429Z"
   },
   {
    "duration": 478,
    "start_time": "2022-08-24T17:34:08.448Z"
   },
   {
    "duration": 282,
    "start_time": "2022-08-24T17:34:08.928Z"
   },
   {
    "duration": 675,
    "start_time": "2022-08-24T17:34:09.212Z"
   },
   {
    "duration": 706,
    "start_time": "2022-08-24T17:34:09.889Z"
   },
   {
    "duration": 26,
    "start_time": "2022-08-24T17:34:10.599Z"
   },
   {
    "duration": 16,
    "start_time": "2022-08-24T17:34:34.358Z"
   },
   {
    "duration": 333,
    "start_time": "2022-08-24T17:34:44.391Z"
   },
   {
    "duration": 17,
    "start_time": "2022-08-24T17:34:52.119Z"
   },
   {
    "duration": 222,
    "start_time": "2022-08-24T17:35:26.015Z"
   },
   {
    "duration": 230,
    "start_time": "2022-08-24T17:35:45.751Z"
   },
   {
    "duration": 247,
    "start_time": "2022-08-24T17:40:15.502Z"
   },
   {
    "duration": 3,
    "start_time": "2022-08-24T17:44:15.899Z"
   },
   {
    "duration": 47,
    "start_time": "2022-08-24T21:43:25.346Z"
   },
   {
    "duration": 1284,
    "start_time": "2022-08-24T21:43:33.927Z"
   },
   {
    "duration": 999,
    "start_time": "2022-08-24T21:43:35.213Z"
   },
   {
    "duration": 7,
    "start_time": "2022-08-24T21:43:36.214Z"
   },
   {
    "duration": 26,
    "start_time": "2022-08-24T21:43:36.224Z"
   },
   {
    "duration": 190,
    "start_time": "2022-08-24T21:43:36.251Z"
   },
   {
    "duration": 15,
    "start_time": "2022-08-24T21:43:36.443Z"
   },
   {
    "duration": 15,
    "start_time": "2022-08-24T21:43:36.460Z"
   },
   {
    "duration": 7,
    "start_time": "2022-08-24T21:43:36.477Z"
   },
   {
    "duration": 29,
    "start_time": "2022-08-24T21:43:36.505Z"
   },
   {
    "duration": 364,
    "start_time": "2022-08-24T21:43:36.538Z"
   },
   {
    "duration": 280,
    "start_time": "2022-08-24T21:43:36.905Z"
   },
   {
    "duration": 998,
    "start_time": "2022-08-24T21:43:37.187Z"
   },
   {
    "duration": 3,
    "start_time": "2022-08-24T21:43:38.187Z"
   },
   {
    "duration": 21,
    "start_time": "2022-08-24T21:43:38.192Z"
   },
   {
    "duration": 2188,
    "start_time": "2022-08-24T21:43:38.215Z"
   },
   {
    "duration": 34,
    "start_time": "2022-08-24T21:43:40.405Z"
   },
   {
    "duration": 22,
    "start_time": "2022-08-24T21:43:40.441Z"
   },
   {
    "duration": 182,
    "start_time": "2022-08-24T21:43:40.464Z"
   },
   {
    "duration": 16,
    "start_time": "2022-08-24T21:43:40.647Z"
   },
   {
    "duration": 350,
    "start_time": "2022-08-24T21:43:40.664Z"
   },
   {
    "duration": 16,
    "start_time": "2022-08-24T21:43:41.016Z"
   },
   {
    "duration": 347,
    "start_time": "2022-08-24T21:43:41.034Z"
   },
   {
    "duration": 23,
    "start_time": "2022-08-24T21:43:41.384Z"
   },
   {
    "duration": 437,
    "start_time": "2022-08-24T21:43:41.408Z"
   },
   {
    "duration": 237,
    "start_time": "2022-08-24T21:43:41.847Z"
   },
   {
    "duration": 538,
    "start_time": "2022-08-24T21:43:42.086Z"
   },
   {
    "duration": 536,
    "start_time": "2022-08-24T21:43:42.626Z"
   },
   {
    "duration": 201,
    "start_time": "2022-08-24T21:43:43.165Z"
   },
   {
    "duration": 188,
    "start_time": "2022-08-24T21:43:43.368Z"
   },
   {
    "duration": 16,
    "start_time": "2022-08-24T21:45:31.757Z"
   },
   {
    "duration": 4,
    "start_time": "2022-08-24T21:46:34.176Z"
   },
   {
    "duration": 4,
    "start_time": "2022-08-24T21:46:52.648Z"
   },
   {
    "duration": 5,
    "start_time": "2022-08-24T21:48:18.804Z"
   },
   {
    "duration": 78,
    "start_time": "2022-08-24T21:52:04.295Z"
   },
   {
    "duration": 94,
    "start_time": "2022-08-24T21:54:11.099Z"
   },
   {
    "duration": 311,
    "start_time": "2022-08-24T21:55:52.460Z"
   },
   {
    "duration": 1077,
    "start_time": "2022-08-24T21:56:11.996Z"
   },
   {
    "duration": 683,
    "start_time": "2022-08-24T21:56:13.075Z"
   },
   {
    "duration": 7,
    "start_time": "2022-08-24T21:56:13.759Z"
   },
   {
    "duration": 18,
    "start_time": "2022-08-24T21:56:13.767Z"
   },
   {
    "duration": 168,
    "start_time": "2022-08-24T21:56:13.788Z"
   },
   {
    "duration": 17,
    "start_time": "2022-08-24T21:56:13.958Z"
   },
   {
    "duration": 34,
    "start_time": "2022-08-24T21:56:13.978Z"
   },
   {
    "duration": 6,
    "start_time": "2022-08-24T21:56:14.014Z"
   },
   {
    "duration": 41,
    "start_time": "2022-08-24T21:56:14.022Z"
   },
   {
    "duration": 316,
    "start_time": "2022-08-24T21:56:14.064Z"
   },
   {
    "duration": 278,
    "start_time": "2022-08-24T21:56:14.383Z"
   },
   {
    "duration": 976,
    "start_time": "2022-08-24T21:56:14.663Z"
   },
   {
    "duration": 4,
    "start_time": "2022-08-24T21:56:15.641Z"
   },
   {
    "duration": 10,
    "start_time": "2022-08-24T21:56:15.648Z"
   },
   {
    "duration": 2433,
    "start_time": "2022-08-24T21:56:15.660Z"
   },
   {
    "duration": 33,
    "start_time": "2022-08-24T21:56:18.094Z"
   },
   {
    "duration": 22,
    "start_time": "2022-08-24T21:56:18.129Z"
   },
   {
    "duration": 191,
    "start_time": "2022-08-24T21:56:18.153Z"
   },
   {
    "duration": 17,
    "start_time": "2022-08-24T21:56:18.345Z"
   },
   {
    "duration": 383,
    "start_time": "2022-08-24T21:56:18.364Z"
   },
   {
    "duration": 23,
    "start_time": "2022-08-24T21:56:18.750Z"
   },
   {
    "duration": 379,
    "start_time": "2022-08-24T21:56:18.775Z"
   },
   {
    "duration": 17,
    "start_time": "2022-08-24T21:56:19.156Z"
   },
   {
    "duration": 479,
    "start_time": "2022-08-24T21:56:19.174Z"
   },
   {
    "duration": 369,
    "start_time": "2022-08-24T21:56:19.655Z"
   },
   {
    "duration": 593,
    "start_time": "2022-08-24T21:56:20.026Z"
   },
   {
    "duration": 548,
    "start_time": "2022-08-24T21:56:20.621Z"
   },
   {
    "duration": 248,
    "start_time": "2022-08-24T21:56:21.170Z"
   },
   {
    "duration": 22,
    "start_time": "2022-08-24T21:56:21.420Z"
   },
   {
    "duration": 6,
    "start_time": "2022-08-24T21:56:21.444Z"
   },
   {
    "duration": 401,
    "start_time": "2022-08-24T21:56:21.452Z"
   },
   {
    "duration": 0,
    "start_time": "2022-08-24T21:56:21.855Z"
   },
   {
    "duration": 20,
    "start_time": "2022-08-24T21:56:49.598Z"
   },
   {
    "duration": 59,
    "start_time": "2022-08-24T21:57:00.877Z"
   },
   {
    "duration": 24,
    "start_time": "2022-08-24T21:57:06.949Z"
   },
   {
    "duration": 5,
    "start_time": "2022-08-24T21:57:09.518Z"
   },
   {
    "duration": 28,
    "start_time": "2022-08-24T21:57:31.342Z"
   },
   {
    "duration": 17,
    "start_time": "2022-08-24T21:57:48.103Z"
   },
   {
    "duration": 9,
    "start_time": "2022-08-24T21:58:10.007Z"
   },
   {
    "duration": 11,
    "start_time": "2022-08-24T21:58:39.623Z"
   },
   {
    "duration": 7,
    "start_time": "2022-08-24T21:59:17.536Z"
   },
   {
    "duration": 6,
    "start_time": "2022-08-24T21:59:27.448Z"
   },
   {
    "duration": 7,
    "start_time": "2022-08-24T21:59:38.968Z"
   },
   {
    "duration": 16,
    "start_time": "2022-08-24T22:00:35.305Z"
   },
   {
    "duration": 13,
    "start_time": "2022-08-24T22:01:02.826Z"
   },
   {
    "duration": 10,
    "start_time": "2022-08-24T22:01:18.913Z"
   },
   {
    "duration": 15,
    "start_time": "2022-08-24T22:02:05.196Z"
   },
   {
    "duration": 9,
    "start_time": "2022-08-24T22:02:07.772Z"
   },
   {
    "duration": 5,
    "start_time": "2022-08-24T22:02:16.835Z"
   },
   {
    "duration": 13,
    "start_time": "2022-08-24T22:02:28.892Z"
   },
   {
    "duration": 4,
    "start_time": "2022-08-24T22:02:39.197Z"
   },
   {
    "duration": 6,
    "start_time": "2022-08-24T22:03:06.293Z"
   },
   {
    "duration": 63,
    "start_time": "2022-08-26T10:04:47.915Z"
   },
   {
    "duration": 1370,
    "start_time": "2022-08-26T11:26:13.078Z"
   },
   {
    "duration": 875,
    "start_time": "2022-08-26T11:26:14.741Z"
   },
   {
    "duration": 3,
    "start_time": "2022-08-26T11:26:18.664Z"
   },
   {
    "duration": 4,
    "start_time": "2022-08-26T11:26:19.260Z"
   },
   {
    "duration": 16,
    "start_time": "2022-08-26T11:26:21.429Z"
   },
   {
    "duration": 167,
    "start_time": "2022-08-26T11:30:44.910Z"
   },
   {
    "duration": 16,
    "start_time": "2022-08-26T11:30:46.242Z"
   },
   {
    "duration": 17,
    "start_time": "2022-08-26T11:30:47.422Z"
   },
   {
    "duration": 7,
    "start_time": "2022-08-26T11:31:07.603Z"
   },
   {
    "duration": 30,
    "start_time": "2022-08-26T11:31:09.402Z"
   },
   {
    "duration": 348,
    "start_time": "2022-08-26T11:31:15.091Z"
   },
   {
    "duration": 348,
    "start_time": "2022-08-26T11:31:21.644Z"
   },
   {
    "duration": 1102,
    "start_time": "2022-08-26T11:31:48.764Z"
   },
   {
    "duration": 1052,
    "start_time": "2022-08-26T11:31:52.533Z"
   },
   {
    "duration": 4,
    "start_time": "2022-08-26T11:31:58.780Z"
   },
   {
    "duration": 7,
    "start_time": "2022-08-26T11:39:04.283Z"
   },
   {
    "duration": 933,
    "start_time": "2022-08-26T11:39:06.190Z"
   },
   {
    "duration": 30,
    "start_time": "2022-08-26T11:40:00.253Z"
   },
   {
    "duration": 26,
    "start_time": "2022-08-26T11:41:13.600Z"
   },
   {
    "duration": 197,
    "start_time": "2022-08-26T11:41:16.279Z"
   },
   {
    "duration": 7,
    "start_time": "2022-08-26T11:45:37.421Z"
   },
   {
    "duration": 26,
    "start_time": "2022-08-26T11:45:45.500Z"
   },
   {
    "duration": 30,
    "start_time": "2022-08-26T11:46:04.024Z"
   },
   {
    "duration": 11,
    "start_time": "2022-08-26T11:46:11.862Z"
   },
   {
    "duration": 182,
    "start_time": "2022-08-26T11:46:37.393Z"
   },
   {
    "duration": 22,
    "start_time": "2022-08-26T11:51:01.996Z"
   },
   {
    "duration": 376,
    "start_time": "2022-08-26T11:51:04.940Z"
   },
   {
    "duration": 17,
    "start_time": "2022-08-26T11:51:11.180Z"
   },
   {
    "duration": 377,
    "start_time": "2022-08-26T11:51:16.989Z"
   },
   {
    "duration": 18,
    "start_time": "2022-08-26T11:51:22.156Z"
   },
   {
    "duration": 368,
    "start_time": "2022-08-26T11:51:23.605Z"
   },
   {
    "duration": 287,
    "start_time": "2022-08-26T11:51:29.565Z"
   },
   {
    "duration": 787,
    "start_time": "2022-08-26T11:55:26.394Z"
   },
   {
    "duration": 664,
    "start_time": "2022-08-26T11:56:42.032Z"
   },
   {
    "duration": 18403,
    "start_time": "2022-08-26T11:59:19.976Z"
   },
   {
    "duration": 77,
    "start_time": "2022-08-26T12:02:11.631Z"
   },
   {
    "duration": 1379,
    "start_time": "2022-08-26T12:02:28.067Z"
   },
   {
    "duration": 242,
    "start_time": "2022-08-26T12:02:45.492Z"
   },
   {
    "duration": 222,
    "start_time": "2022-08-26T12:02:49.387Z"
   },
   {
    "duration": 5,
    "start_time": "2022-08-26T12:04:09.518Z"
   },
   {
    "duration": 23,
    "start_time": "2022-08-26T12:04:21.126Z"
   },
   {
    "duration": 25,
    "start_time": "2022-08-26T12:04:35.276Z"
   },
   {
    "duration": 16,
    "start_time": "2022-08-26T12:04:56.543Z"
   },
   {
    "duration": 173,
    "start_time": "2022-08-26T12:05:11.247Z"
   },
   {
    "duration": 231,
    "start_time": "2022-08-26T12:05:17.312Z"
   },
   {
    "duration": 10,
    "start_time": "2022-08-26T12:05:23.646Z"
   },
   {
    "duration": 11,
    "start_time": "2022-08-26T12:05:42.959Z"
   },
   {
    "duration": 17,
    "start_time": "2022-08-26T12:05:50.192Z"
   },
   {
    "duration": 241,
    "start_time": "2022-08-26T12:06:08.112Z"
   },
   {
    "duration": 1197,
    "start_time": "2022-08-26T12:06:22.360Z"
   },
   {
    "duration": 16,
    "start_time": "2022-08-26T12:06:29.824Z"
   },
   {
    "duration": 17,
    "start_time": "2022-08-26T12:08:36.427Z"
   },
   {
    "duration": 226,
    "start_time": "2022-08-26T12:08:44.467Z"
   },
   {
    "duration": 174,
    "start_time": "2022-08-26T12:09:41.749Z"
   },
   {
    "duration": 23,
    "start_time": "2022-08-26T12:09:45.596Z"
   },
   {
    "duration": 18434,
    "start_time": "2022-08-26T12:09:57.252Z"
   },
   {
    "duration": 22,
    "start_time": "2022-08-26T12:12:19.639Z"
   },
   {
    "duration": 23,
    "start_time": "2022-08-26T12:12:34.760Z"
   },
   {
    "duration": 9,
    "start_time": "2022-08-26T12:12:39.217Z"
   },
   {
    "duration": 73,
    "start_time": "2022-08-26T12:12:53.449Z"
   },
   {
    "duration": 10,
    "start_time": "2022-08-26T12:12:57.128Z"
   },
   {
    "duration": 16,
    "start_time": "2022-08-26T12:13:45.555Z"
   },
   {
    "duration": 637,
    "start_time": "2022-08-26T12:15:38.870Z"
   },
   {
    "duration": 17,
    "start_time": "2022-08-26T12:18:04.334Z"
   },
   {
    "duration": 13,
    "start_time": "2022-08-26T12:21:13.795Z"
   },
   {
    "duration": 18,
    "start_time": "2022-08-26T12:21:16.252Z"
   },
   {
    "duration": 23,
    "start_time": "2022-08-26T12:21:51.221Z"
   },
   {
    "duration": 24,
    "start_time": "2022-08-26T12:22:12.252Z"
   },
   {
    "duration": 27,
    "start_time": "2022-08-26T12:23:03.966Z"
   },
   {
    "duration": 17,
    "start_time": "2022-08-26T12:24:38.032Z"
   },
   {
    "duration": 21,
    "start_time": "2022-08-26T12:24:51.776Z"
   },
   {
    "duration": 18,
    "start_time": "2022-08-26T12:25:12.211Z"
   },
   {
    "duration": 11,
    "start_time": "2022-08-26T12:25:36.129Z"
   },
   {
    "duration": 1493,
    "start_time": "2022-08-26T12:25:47.530Z"
   },
   {
    "duration": 1382,
    "start_time": "2022-08-26T12:26:04.356Z"
   },
   {
    "duration": 75,
    "start_time": "2022-08-26T12:26:18.556Z"
   },
   {
    "duration": 13,
    "start_time": "2022-08-26T12:26:26.547Z"
   },
   {
    "duration": 16,
    "start_time": "2022-08-26T12:26:38.930Z"
   },
   {
    "duration": 10,
    "start_time": "2022-08-26T12:27:10.493Z"
   },
   {
    "duration": 15,
    "start_time": "2022-08-26T12:27:14.262Z"
   },
   {
    "duration": 19,
    "start_time": "2022-08-26T12:28:42.638Z"
   },
   {
    "duration": 12,
    "start_time": "2022-08-26T12:29:18.927Z"
   },
   {
    "duration": 29,
    "start_time": "2022-08-26T12:29:34.504Z"
   },
   {
    "duration": 22,
    "start_time": "2022-08-26T12:29:48.591Z"
   },
   {
    "duration": 22,
    "start_time": "2022-08-26T12:29:59.504Z"
   },
   {
    "duration": 23,
    "start_time": "2022-08-26T12:30:32.320Z"
   },
   {
    "duration": 305,
    "start_time": "2022-08-26T12:30:43.159Z"
   },
   {
    "duration": 17,
    "start_time": "2022-08-26T12:30:53.977Z"
   },
   {
    "duration": 47,
    "start_time": "2022-08-26T12:31:02.041Z"
   },
   {
    "duration": 482,
    "start_time": "2022-08-26T12:31:17.714Z"
   },
   {
    "duration": 51,
    "start_time": "2022-08-26T12:31:46.810Z"
   },
   {
    "duration": 20,
    "start_time": "2022-08-26T12:33:48.349Z"
   },
   {
    "duration": 446,
    "start_time": "2022-08-26T12:33:55.229Z"
   },
   {
    "duration": 245,
    "start_time": "2022-08-26T12:37:44.489Z"
   },
   {
    "duration": 171,
    "start_time": "2022-08-26T12:46:27.862Z"
   },
   {
    "duration": 21,
    "start_time": "2022-08-26T12:46:51.304Z"
   },
   {
    "duration": 237,
    "start_time": "2022-08-26T12:48:33.440Z"
   },
   {
    "duration": 75,
    "start_time": "2022-08-26T12:55:47.312Z"
   },
   {
    "duration": 20,
    "start_time": "2022-08-26T12:55:57.665Z"
   },
   {
    "duration": 12,
    "start_time": "2022-08-26T12:56:00.587Z"
   },
   {
    "duration": 17,
    "start_time": "2022-08-26T12:56:10.865Z"
   },
   {
    "duration": 5,
    "start_time": "2022-08-26T12:56:13.311Z"
   },
   {
    "duration": 6,
    "start_time": "2022-08-26T12:56:30.610Z"
   },
   {
    "duration": 6,
    "start_time": "2022-08-26T12:57:16.108Z"
   },
   {
    "duration": 19,
    "start_time": "2022-08-26T13:01:13.360Z"
   },
   {
    "duration": 25,
    "start_time": "2022-08-26T13:03:14.102Z"
   },
   {
    "duration": 297,
    "start_time": "2022-08-26T13:03:21.580Z"
   },
   {
    "duration": 250,
    "start_time": "2022-08-26T13:04:23.132Z"
   },
   {
    "duration": 2,
    "start_time": "2022-08-26T13:04:32.327Z"
   },
   {
    "duration": 243,
    "start_time": "2022-08-26T13:10:39.534Z"
   },
   {
    "duration": 1536,
    "start_time": "2022-08-26T16:50:27.052Z"
   },
   {
    "duration": 985,
    "start_time": "2022-08-26T16:50:28.590Z"
   },
   {
    "duration": 3,
    "start_time": "2022-08-26T16:50:29.577Z"
   },
   {
    "duration": 5,
    "start_time": "2022-08-26T16:50:29.591Z"
   },
   {
    "duration": 18,
    "start_time": "2022-08-26T16:50:29.598Z"
   },
   {
    "duration": 189,
    "start_time": "2022-08-26T16:50:29.618Z"
   },
   {
    "duration": 17,
    "start_time": "2022-08-26T16:50:29.809Z"
   },
   {
    "duration": 17,
    "start_time": "2022-08-26T16:50:29.828Z"
   },
   {
    "duration": 7,
    "start_time": "2022-08-26T16:50:29.847Z"
   },
   {
    "duration": 59,
    "start_time": "2022-08-26T16:50:29.857Z"
   },
   {
    "duration": 385,
    "start_time": "2022-08-26T16:50:29.918Z"
   },
   {
    "duration": 342,
    "start_time": "2022-08-26T16:50:30.305Z"
   },
   {
    "duration": 1150,
    "start_time": "2022-08-26T16:50:30.649Z"
   },
   {
    "duration": 6,
    "start_time": "2022-08-26T16:50:31.801Z"
   },
   {
    "duration": 14,
    "start_time": "2022-08-26T16:50:31.810Z"
   },
   {
    "duration": 992,
    "start_time": "2022-08-26T16:50:31.827Z"
   },
   {
    "duration": 30,
    "start_time": "2022-08-26T16:50:32.821Z"
   },
   {
    "duration": 48,
    "start_time": "2022-08-26T16:50:32.853Z"
   },
   {
    "duration": 204,
    "start_time": "2022-08-26T16:50:32.903Z"
   },
   {
    "duration": 191,
    "start_time": "2022-08-26T16:50:33.109Z"
   },
   {
    "duration": 19,
    "start_time": "2022-08-26T16:50:33.302Z"
   },
   {
    "duration": 522,
    "start_time": "2022-08-26T16:50:33.323Z"
   },
   {
    "duration": 19,
    "start_time": "2022-08-26T16:50:33.847Z"
   },
   {
    "duration": 383,
    "start_time": "2022-08-26T16:50:33.867Z"
   },
   {
    "duration": 19,
    "start_time": "2022-08-26T16:50:34.251Z"
   },
   {
    "duration": 422,
    "start_time": "2022-08-26T16:50:34.271Z"
   },
   {
    "duration": 317,
    "start_time": "2022-08-26T16:50:34.695Z"
   },
   {
    "duration": 668,
    "start_time": "2022-08-26T16:50:35.015Z"
   },
   {
    "duration": 709,
    "start_time": "2022-08-26T16:50:35.685Z"
   },
   {
    "duration": 3,
    "start_time": "2022-08-26T16:50:36.396Z"
   },
   {
    "duration": 357,
    "start_time": "2022-08-26T16:50:36.401Z"
   },
   {
    "duration": 32,
    "start_time": "2022-08-26T16:50:36.761Z"
   },
   {
    "duration": 30,
    "start_time": "2022-08-26T16:50:36.795Z"
   },
   {
    "duration": 32,
    "start_time": "2022-08-26T16:50:36.827Z"
   },
   {
    "duration": 16,
    "start_time": "2022-08-26T16:50:36.861Z"
   },
   {
    "duration": 1113,
    "start_time": "2022-08-26T16:53:18.210Z"
   },
   {
    "duration": 112,
    "start_time": "2022-08-26T16:53:51.148Z"
   },
   {
    "duration": 340,
    "start_time": "2022-08-26T16:54:00.812Z"
   },
   {
    "duration": 273,
    "start_time": "2022-08-26T16:54:07.259Z"
   },
   {
    "duration": 282,
    "start_time": "2022-08-26T16:54:09.552Z"
   },
   {
    "duration": 266,
    "start_time": "2022-08-26T16:54:13.527Z"
   },
   {
    "duration": 270,
    "start_time": "2022-08-26T16:54:30.314Z"
   },
   {
    "duration": 385,
    "start_time": "2022-08-26T16:54:37.630Z"
   },
   {
    "duration": 249,
    "start_time": "2022-08-26T16:54:47.261Z"
   },
   {
    "duration": 221,
    "start_time": "2022-08-26T16:54:51.250Z"
   },
   {
    "duration": 213,
    "start_time": "2022-08-26T16:54:53.507Z"
   },
   {
    "duration": 217,
    "start_time": "2022-08-26T16:54:57.178Z"
   },
   {
    "duration": 228,
    "start_time": "2022-08-26T16:55:00.384Z"
   },
   {
    "duration": 244,
    "start_time": "2022-08-26T16:55:15.791Z"
   },
   {
    "duration": 222,
    "start_time": "2022-08-26T16:55:21.002Z"
   },
   {
    "duration": 230,
    "start_time": "2022-08-26T16:55:22.991Z"
   },
   {
    "duration": 228,
    "start_time": "2022-08-26T16:55:32.696Z"
   },
   {
    "duration": 227,
    "start_time": "2022-08-26T16:55:36.940Z"
   },
   {
    "duration": 336,
    "start_time": "2022-08-26T16:55:41.355Z"
   },
   {
    "duration": 299,
    "start_time": "2022-08-26T16:55:43.021Z"
   },
   {
    "duration": 240,
    "start_time": "2022-08-26T16:55:52.342Z"
   },
   {
    "duration": 278,
    "start_time": "2022-08-26T16:55:56.655Z"
   },
   {
    "duration": 269,
    "start_time": "2022-08-26T16:56:07.027Z"
   },
   {
    "duration": 272,
    "start_time": "2022-08-26T16:56:11.027Z"
   },
   {
    "duration": 258,
    "start_time": "2022-08-26T16:56:14.977Z"
   },
   {
    "duration": 258,
    "start_time": "2022-08-26T16:58:54.899Z"
   },
   {
    "duration": 1135,
    "start_time": "2022-08-26T16:59:25.331Z"
   },
   {
    "duration": 1335,
    "start_time": "2022-08-26T16:59:48.117Z"
   },
   {
    "duration": 1205,
    "start_time": "2022-08-26T16:59:53.187Z"
   },
   {
    "duration": 1218,
    "start_time": "2022-08-26T17:00:09.375Z"
   },
   {
    "duration": 260,
    "start_time": "2022-08-26T17:01:32.539Z"
   },
   {
    "duration": 261,
    "start_time": "2022-08-26T17:01:46.074Z"
   },
   {
    "duration": 285,
    "start_time": "2022-08-26T17:02:04.278Z"
   },
   {
    "duration": 1674,
    "start_time": "2022-08-26T17:02:18.526Z"
   },
   {
    "duration": 268,
    "start_time": "2022-08-26T17:02:55.111Z"
   },
   {
    "duration": 11,
    "start_time": "2022-08-26T17:04:11.082Z"
   },
   {
    "duration": 18,
    "start_time": "2022-08-26T17:04:15.289Z"
   },
   {
    "duration": 300,
    "start_time": "2022-08-26T17:04:21.957Z"
   },
   {
    "duration": 267,
    "start_time": "2022-08-26T17:04:28.949Z"
   },
   {
    "duration": 262,
    "start_time": "2022-08-26T17:04:33.239Z"
   },
   {
    "duration": 1288,
    "start_time": "2022-08-27T15:39:26.044Z"
   },
   {
    "duration": 729,
    "start_time": "2022-08-27T15:39:27.334Z"
   },
   {
    "duration": 2,
    "start_time": "2022-08-27T15:39:28.065Z"
   },
   {
    "duration": 9,
    "start_time": "2022-08-27T15:39:28.069Z"
   },
   {
    "duration": 17,
    "start_time": "2022-08-27T15:39:28.079Z"
   },
   {
    "duration": 152,
    "start_time": "2022-08-27T15:39:28.097Z"
   },
   {
    "duration": 14,
    "start_time": "2022-08-27T15:39:28.251Z"
   },
   {
    "duration": 14,
    "start_time": "2022-08-27T15:39:28.266Z"
   },
   {
    "duration": 6,
    "start_time": "2022-08-27T15:39:28.282Z"
   },
   {
    "duration": 50,
    "start_time": "2022-08-27T15:39:28.290Z"
   },
   {
    "duration": 306,
    "start_time": "2022-08-27T15:39:28.342Z"
   },
   {
    "duration": 297,
    "start_time": "2022-08-27T15:39:28.649Z"
   },
   {
    "duration": 1026,
    "start_time": "2022-08-27T15:39:28.949Z"
   },
   {
    "duration": 193,
    "start_time": "2022-08-27T15:39:29.977Z"
   },
   {
    "duration": 4,
    "start_time": "2022-08-27T15:39:30.172Z"
   },
   {
    "duration": 12,
    "start_time": "2022-08-27T15:39:30.177Z"
   },
   {
    "duration": 781,
    "start_time": "2022-08-27T15:39:30.190Z"
   },
   {
    "duration": 25,
    "start_time": "2022-08-27T15:39:30.973Z"
   },
   {
    "duration": 42,
    "start_time": "2022-08-27T15:39:31.000Z"
   },
   {
    "duration": 175,
    "start_time": "2022-08-27T15:39:31.044Z"
   },
   {
    "duration": 244,
    "start_time": "2022-08-27T15:39:31.221Z"
   },
   {
    "duration": 16,
    "start_time": "2022-08-27T15:39:31.466Z"
   },
   {
    "duration": 370,
    "start_time": "2022-08-27T15:39:31.484Z"
   },
   {
    "duration": 15,
    "start_time": "2022-08-27T15:39:31.855Z"
   },
   {
    "duration": 341,
    "start_time": "2022-08-27T15:39:31.872Z"
   },
   {
    "duration": 25,
    "start_time": "2022-08-27T15:39:32.215Z"
   },
   {
    "duration": 342,
    "start_time": "2022-08-27T15:39:32.242Z"
   },
   {
    "duration": 125,
    "start_time": "2022-08-27T15:39:32.588Z"
   },
   {
    "duration": 0,
    "start_time": "2022-08-27T15:39:32.715Z"
   },
   {
    "duration": 0,
    "start_time": "2022-08-27T15:39:32.716Z"
   },
   {
    "duration": 0,
    "start_time": "2022-08-27T15:39:32.717Z"
   },
   {
    "duration": 0,
    "start_time": "2022-08-27T15:39:32.718Z"
   },
   {
    "duration": 0,
    "start_time": "2022-08-27T15:39:32.719Z"
   },
   {
    "duration": 0,
    "start_time": "2022-08-27T15:39:32.738Z"
   },
   {
    "duration": 0,
    "start_time": "2022-08-27T15:39:32.739Z"
   },
   {
    "duration": 0,
    "start_time": "2022-08-27T15:39:32.740Z"
   },
   {
    "duration": 0,
    "start_time": "2022-08-27T15:39:32.741Z"
   },
   {
    "duration": 16,
    "start_time": "2022-08-27T15:39:56.482Z"
   },
   {
    "duration": 24,
    "start_time": "2022-08-27T15:42:15.514Z"
   },
   {
    "duration": 41,
    "start_time": "2022-08-27T15:42:28.763Z"
   },
   {
    "duration": 50,
    "start_time": "2022-08-27T19:17:23.582Z"
   },
   {
    "duration": 1202,
    "start_time": "2022-08-27T19:17:36.976Z"
   },
   {
    "duration": 661,
    "start_time": "2022-08-27T19:17:38.180Z"
   },
   {
    "duration": 2,
    "start_time": "2022-08-27T19:17:38.843Z"
   },
   {
    "duration": 7,
    "start_time": "2022-08-27T19:17:38.847Z"
   },
   {
    "duration": 14,
    "start_time": "2022-08-27T19:17:38.856Z"
   },
   {
    "duration": 143,
    "start_time": "2022-08-27T19:17:38.871Z"
   },
   {
    "duration": 13,
    "start_time": "2022-08-27T19:17:39.016Z"
   },
   {
    "duration": 13,
    "start_time": "2022-08-27T19:17:39.030Z"
   },
   {
    "duration": 6,
    "start_time": "2022-08-27T19:17:39.044Z"
   },
   {
    "duration": 23,
    "start_time": "2022-08-27T19:17:39.052Z"
   },
   {
    "duration": 311,
    "start_time": "2022-08-27T19:17:39.077Z"
   },
   {
    "duration": 274,
    "start_time": "2022-08-27T19:17:39.390Z"
   },
   {
    "duration": 910,
    "start_time": "2022-08-27T19:17:39.666Z"
   },
   {
    "duration": 175,
    "start_time": "2022-08-27T19:17:40.578Z"
   },
   {
    "duration": 3,
    "start_time": "2022-08-27T19:17:40.755Z"
   },
   {
    "duration": 6,
    "start_time": "2022-08-27T19:17:40.760Z"
   },
   {
    "duration": 715,
    "start_time": "2022-08-27T19:17:40.768Z"
   },
   {
    "duration": 32,
    "start_time": "2022-08-27T19:17:41.485Z"
   },
   {
    "duration": 20,
    "start_time": "2022-08-27T19:17:41.519Z"
   },
   {
    "duration": 178,
    "start_time": "2022-08-27T19:17:41.541Z"
   },
   {
    "duration": 221,
    "start_time": "2022-08-27T19:17:41.721Z"
   },
   {
    "duration": 15,
    "start_time": "2022-08-27T19:17:41.943Z"
   },
   {
    "duration": 351,
    "start_time": "2022-08-27T19:17:41.960Z"
   },
   {
    "duration": 14,
    "start_time": "2022-08-27T19:17:42.313Z"
   },
   {
    "duration": 364,
    "start_time": "2022-08-27T19:17:42.328Z"
   },
   {
    "duration": 25,
    "start_time": "2022-08-27T19:17:42.694Z"
   },
   {
    "duration": 354,
    "start_time": "2022-08-27T19:17:42.720Z"
   },
   {
    "duration": 250,
    "start_time": "2022-08-27T19:17:43.077Z"
   },
   {
    "duration": 528,
    "start_time": "2022-08-27T19:17:43.329Z"
   },
   {
    "duration": 600,
    "start_time": "2022-08-27T19:17:43.858Z"
   },
   {
    "duration": 3,
    "start_time": "2022-08-27T19:17:44.460Z"
   },
   {
    "duration": 210,
    "start_time": "2022-08-27T19:17:44.464Z"
   },
   {
    "duration": 12,
    "start_time": "2022-08-27T19:17:44.676Z"
   },
   {
    "duration": 4,
    "start_time": "2022-08-27T19:17:44.689Z"
   },
   {
    "duration": 25,
    "start_time": "2022-08-27T19:17:44.695Z"
   },
   {
    "duration": 5,
    "start_time": "2022-08-27T19:17:44.722Z"
   },
   {
    "duration": 15,
    "start_time": "2022-08-27T19:35:59.809Z"
   },
   {
    "duration": 13,
    "start_time": "2022-08-27T19:36:30.521Z"
   },
   {
    "duration": 15,
    "start_time": "2022-08-27T19:36:42.602Z"
   },
   {
    "duration": 21,
    "start_time": "2022-08-27T19:39:01.492Z"
   },
   {
    "duration": 14,
    "start_time": "2022-08-27T19:39:24.054Z"
   },
   {
    "duration": 5,
    "start_time": "2022-08-27T19:39:30.189Z"
   },
   {
    "duration": 149,
    "start_time": "2022-08-27T19:39:38.821Z"
   },
   {
    "duration": 107,
    "start_time": "2022-08-27T19:42:39.809Z"
   },
   {
    "duration": 703,
    "start_time": "2022-08-27T19:43:07.583Z"
   },
   {
    "duration": 15,
    "start_time": "2022-08-27T19:43:16.594Z"
   },
   {
    "duration": 670,
    "start_time": "2022-08-27T19:43:20.315Z"
   },
   {
    "duration": 23156,
    "start_time": "2022-08-27T19:43:42.979Z"
   },
   {
    "duration": 55,
    "start_time": "2022-08-29T15:21:00.441Z"
   },
   {
    "duration": 1274,
    "start_time": "2022-08-29T15:21:05.203Z"
   },
   {
    "duration": 679,
    "start_time": "2022-08-29T15:21:06.479Z"
   },
   {
    "duration": 2,
    "start_time": "2022-08-29T15:21:07.159Z"
   },
   {
    "duration": 6,
    "start_time": "2022-08-29T15:21:07.163Z"
   },
   {
    "duration": 17,
    "start_time": "2022-08-29T15:21:07.170Z"
   },
   {
    "duration": 142,
    "start_time": "2022-08-29T15:21:07.198Z"
   },
   {
    "duration": 13,
    "start_time": "2022-08-29T15:21:07.342Z"
   },
   {
    "duration": 12,
    "start_time": "2022-08-29T15:21:07.357Z"
   },
   {
    "duration": 27,
    "start_time": "2022-08-29T15:21:07.371Z"
   },
   {
    "duration": 24,
    "start_time": "2022-08-29T15:21:07.401Z"
   },
   {
    "duration": 301,
    "start_time": "2022-08-29T15:21:07.426Z"
   },
   {
    "duration": 262,
    "start_time": "2022-08-29T15:21:07.729Z"
   },
   {
    "duration": 930,
    "start_time": "2022-08-29T15:21:07.994Z"
   },
   {
    "duration": 189,
    "start_time": "2022-08-29T15:21:08.926Z"
   },
   {
    "duration": 4,
    "start_time": "2022-08-29T15:21:09.116Z"
   },
   {
    "duration": 7,
    "start_time": "2022-08-29T15:21:09.121Z"
   },
   {
    "duration": 748,
    "start_time": "2022-08-29T15:21:09.129Z"
   },
   {
    "duration": 34,
    "start_time": "2022-08-29T15:21:09.879Z"
   },
   {
    "duration": 28,
    "start_time": "2022-08-29T15:21:09.915Z"
   },
   {
    "duration": 224,
    "start_time": "2022-08-29T15:21:09.951Z"
   },
   {
    "duration": 260,
    "start_time": "2022-08-29T15:21:10.177Z"
   },
   {
    "duration": 18,
    "start_time": "2022-08-29T15:21:10.438Z"
   },
   {
    "duration": 348,
    "start_time": "2022-08-29T15:21:10.458Z"
   },
   {
    "duration": 16,
    "start_time": "2022-08-29T15:21:10.808Z"
   },
   {
    "duration": 317,
    "start_time": "2022-08-29T15:21:10.825Z"
   },
   {
    "duration": 13,
    "start_time": "2022-08-29T15:21:11.144Z"
   },
   {
    "duration": 335,
    "start_time": "2022-08-29T15:21:11.159Z"
   },
   {
    "duration": 249,
    "start_time": "2022-08-29T15:21:11.500Z"
   },
   {
    "duration": 526,
    "start_time": "2022-08-29T15:21:11.751Z"
   },
   {
    "duration": 607,
    "start_time": "2022-08-29T15:21:12.279Z"
   },
   {
    "duration": 10,
    "start_time": "2022-08-29T15:21:12.888Z"
   },
   {
    "duration": 193,
    "start_time": "2022-08-29T15:21:12.899Z"
   },
   {
    "duration": 14,
    "start_time": "2022-08-29T15:21:13.094Z"
   },
   {
    "duration": 6,
    "start_time": "2022-08-29T15:21:13.110Z"
   },
   {
    "duration": 16,
    "start_time": "2022-08-29T15:21:13.117Z"
   },
   {
    "duration": 5,
    "start_time": "2022-08-29T15:21:13.135Z"
   },
   {
    "duration": 125,
    "start_time": "2022-08-29T15:21:13.142Z"
   },
   {
    "duration": 16,
    "start_time": "2022-08-29T15:21:32.743Z"
   }
  ],
  "kernelspec": {
   "display_name": "Python 3 (ipykernel)",
   "language": "python",
   "name": "python3"
  },
  "language_info": {
   "codemirror_mode": {
    "name": "ipython",
    "version": 3
   },
   "file_extension": ".py",
   "mimetype": "text/x-python",
   "name": "python",
   "nbconvert_exporter": "python",
   "pygments_lexer": "ipython3",
   "version": "3.9.5"
  },
  "toc": {
   "base_numbering": 1,
   "nav_menu": {},
   "number_sections": true,
   "sideBar": true,
   "skip_h1_title": true,
   "title_cell": "Table of Contents",
   "title_sidebar": "Contents",
   "toc_cell": false,
   "toc_position": {},
   "toc_section_display": true,
   "toc_window_display": true
  }
 },
 "nbformat": 4,
 "nbformat_minor": 2
}
