{
 "cells": [
  {
   "cell_type": "markdown",
   "metadata": {},
   "source": [
    "👋 **Привет, Родион!**\n",
    "\n",
    "Меня зовут Арсен Абдулин, и я буду твоим ревьювером по проекту. Предлагаю общаться на «ты», если не против =) Моя цель — не поиск ошибок в твоей работе, а поделиться опытом и помочь успешно завершить проект, чтобы на шаг приблизиться к профессии специалиста по Data Science.\n",
    "\n",
    "Видно, что ты очень старался, выполняя проект, у меня положительное впечатление о работе! Выполнены почти все ключевые этапы — нужно только поправить теоретическое доказательство. В остальном я отметил рекомендации.      \n",
    "\n",
    "При проверке работ я делаю следующие комментарии:\n",
    "\n",
    "<div class=\"alert alert-success\">\n",
    "<b>✔️ Зеленым цветом</b> отмечены удачные решения, на которые можно опираться в следующих проектах.</div>\n",
    "\n",
    "<div class=\"alert alert-warning\">\n",
    "<b>⚠️ Желтым цветом</b> я отметил пункты, которые в следующий раз можно сделать по-другому. Одно-два таких замечания в проекте допускается, но если их много — проект следует доработать. </div>\n",
    "\n",
    "<div class=\"alert alert-danger\">\n",
    "<b>🚫 Красным цветом</b> отмечены критические замечания, которые необходимо поправить, чтобы принять проект. </div>\n",
    "\n",
    "Если какие-то моменты в задании для тебя были непонятны и у тебя есть ко мне вопросы — смело спрашивай 😊 Также ты можешь доработать места, где есть желтые комментарии в этом проекте (однако, это не обязательно).\n",
    "\n",
    "Предлагаю работать над проектом в диалоге: если ты решишь что-то поменять по моим рекомендациям — пиши об этом (выбери для своих комментариев определенный цвет — так мне будет легче увидеть изменения). Пожалуйста не перемещай, не изменяй и не удаляй мои комментарии. Все это поможет сделать проверку твоего проекта оперативнее.\n",
    "\n",
    "<div class=\"alert alert-info\"> <b>ℹ️ Комментарий студента: </b> Пример комментария. </div>"
   ]
  },
  {
   "cell_type": "markdown",
   "metadata": {},
   "source": [
    "<div class=\"alert alert-success\">\n",
    "<b>✔️ Комментарий ревьювера:</b> На всякий случай, здесь я добавил дополнительные материалы по матрицам. Может пригодится =)\n",
    "    \n",
    "http://publish.sutd.ru/e_books/lin_alg_2013/html/matrix_33.html основные операции с матрицами    \n",
    "\n",
    "https://python-scripts.com/numpy информация по numpy с примерами\n",
    "    \n",
    "https://ml-handbook.ru/chapters/linear_models/intro Можешь посмотреть вот здесь теорию по линейной регрессии и по матрицам в том числе.\n",
    "\n",
    "Вот неплохая статья по основам матричных операций и линейным моделям, правда на английском языке:\n",
    "\n",
    "https://jonathan-hui.medium.com/machine-learning-linear-algebra-a5b1658f0151\n",
    "\n",
    "http://www.machinelearning.ru/wiki/images/b/bb/Sem08_factorizations.pdf по матричным разложениям\n",
    "    \n",
    "Как дополнение по матричным разложениями и теории машинного обучения можно посмотреть видеолекции К. Воронцова или Е. Соколова, они есть на Youtube.\n",
    "    \n",
    "</div>"
   ]
  },
  {
   "cell_type": "markdown",
   "metadata": {
    "toc": true
   },
   "source": [
    "<h1>Содержание<span class=\"tocSkip\"></span></h1>\n",
    "<div class=\"toc\"><ul class=\"toc-item\"><li><span><a href=\"#Загрузка-данных\" data-toc-modified-id=\"Загрузка-данных-1\"><span class=\"toc-item-num\">1&nbsp;&nbsp;</span>Загрузка данных</a></span></li><li><span><a href=\"#Умножение-матриц\" data-toc-modified-id=\"Умножение-матриц-2\"><span class=\"toc-item-num\">2&nbsp;&nbsp;</span>Умножение матриц</a></span></li><li><span><a href=\"#Алгоритм-преобразования\" data-toc-modified-id=\"Алгоритм-преобразования-3\"><span class=\"toc-item-num\">3&nbsp;&nbsp;</span>Алгоритм преобразования</a></span></li><li><span><a href=\"#Проверка-алгоритма\" data-toc-modified-id=\"Проверка-алгоритма-4\"><span class=\"toc-item-num\">4&nbsp;&nbsp;</span>Проверка алгоритма</a></span></li><li><span><a href=\"#Чек-лист-проверки\" data-toc-modified-id=\"Чек-лист-проверки-5\"><span class=\"toc-item-num\">5&nbsp;&nbsp;</span>Чек-лист проверки</a></span></li></ul></div>"
   ]
  },
  {
   "cell_type": "markdown",
   "metadata": {},
   "source": [
    "# Защита персональных данных клиентов"
   ]
  },
  {
   "cell_type": "markdown",
   "metadata": {},
   "source": [
    "Вам нужно защитить данные клиентов страховой компании «Хоть потоп». Разработайте такой метод преобразования данных, чтобы по ним было сложно восстановить персональную информацию. Обоснуйте корректность его работы.\n",
    "\n",
    "Нужно защитить данные, чтобы при преобразовании качество моделей машинного обучения не ухудшилось. Подбирать наилучшую модель не требуется."
   ]
  },
  {
   "cell_type": "markdown",
   "metadata": {},
   "source": [
    "<div class=\"alert alert-success\">\n",
    "<b>✔️ Комментарий ревьювера:</b> Хорошо, что добавил небольшое описание и содержание проекта — так постороннему человеку будет проще разобраться.\n",
    "    \n",
    "</div>"
   ]
  },
  {
   "cell_type": "markdown",
   "metadata": {},
   "source": [
    "## Загрузка данных"
   ]
  },
  {
   "cell_type": "code",
   "execution_count": 1,
   "metadata": {},
   "outputs": [],
   "source": [
    "import pandas as pd\n",
    "import numpy as np \n",
    "\n",
    "from sklearn.metrics import r2_score\n",
    "from sklearn.model_selection import train_test_split\n",
    "from sklearn.linear_model import LinearRegression\n",
    "\n",
    "RANDOM_STATE = np.random.RandomState(131296) \n"
   ]
  },
  {
   "cell_type": "markdown",
   "metadata": {},
   "source": [
    "<div class=\"alert alert-success\">\n",
    "<b>✔️ Комментарий ревьювера:</b> Необходимые библиотеки импортированы, все хорошо.\n",
    "    \n",
    "</div>"
   ]
  },
  {
   "cell_type": "code",
   "execution_count": 2,
   "metadata": {},
   "outputs": [],
   "source": [
    "def first_analyze(data):\n",
    "    rows, columns = data.shape\n",
    "    print('='*50)\n",
    "    print('Количество строк:', rows)\n",
    "    print('Количество столбцов:', columns)\n",
    "    display(data.head())\n",
    "    display(data.describe())\n",
    "    print(data.info())\n",
    "    print('='*50)"
   ]
  },
  {
   "cell_type": "code",
   "execution_count": 3,
   "metadata": {},
   "outputs": [
    {
     "name": "stdout",
     "output_type": "stream",
     "text": [
      "==================================================\n",
      "Количество строк: 5000\n",
      "Количество столбцов: 5\n"
     ]
    },
    {
     "data": {
      "text/html": [
       "<div>\n",
       "<style scoped>\n",
       "    .dataframe tbody tr th:only-of-type {\n",
       "        vertical-align: middle;\n",
       "    }\n",
       "\n",
       "    .dataframe tbody tr th {\n",
       "        vertical-align: top;\n",
       "    }\n",
       "\n",
       "    .dataframe thead th {\n",
       "        text-align: right;\n",
       "    }\n",
       "</style>\n",
       "<table border=\"1\" class=\"dataframe\">\n",
       "  <thead>\n",
       "    <tr style=\"text-align: right;\">\n",
       "      <th></th>\n",
       "      <th>Пол</th>\n",
       "      <th>Возраст</th>\n",
       "      <th>Зарплата</th>\n",
       "      <th>Члены семьи</th>\n",
       "      <th>Страховые выплаты</th>\n",
       "    </tr>\n",
       "  </thead>\n",
       "  <tbody>\n",
       "    <tr>\n",
       "      <th>0</th>\n",
       "      <td>1</td>\n",
       "      <td>41.0</td>\n",
       "      <td>49600.0</td>\n",
       "      <td>1</td>\n",
       "      <td>0</td>\n",
       "    </tr>\n",
       "    <tr>\n",
       "      <th>1</th>\n",
       "      <td>0</td>\n",
       "      <td>46.0</td>\n",
       "      <td>38000.0</td>\n",
       "      <td>1</td>\n",
       "      <td>1</td>\n",
       "    </tr>\n",
       "    <tr>\n",
       "      <th>2</th>\n",
       "      <td>0</td>\n",
       "      <td>29.0</td>\n",
       "      <td>21000.0</td>\n",
       "      <td>0</td>\n",
       "      <td>0</td>\n",
       "    </tr>\n",
       "    <tr>\n",
       "      <th>3</th>\n",
       "      <td>0</td>\n",
       "      <td>21.0</td>\n",
       "      <td>41700.0</td>\n",
       "      <td>2</td>\n",
       "      <td>0</td>\n",
       "    </tr>\n",
       "    <tr>\n",
       "      <th>4</th>\n",
       "      <td>1</td>\n",
       "      <td>28.0</td>\n",
       "      <td>26100.0</td>\n",
       "      <td>0</td>\n",
       "      <td>0</td>\n",
       "    </tr>\n",
       "  </tbody>\n",
       "</table>\n",
       "</div>"
      ],
      "text/plain": [
       "   Пол  Возраст  Зарплата  Члены семьи  Страховые выплаты\n",
       "0    1     41.0   49600.0            1                  0\n",
       "1    0     46.0   38000.0            1                  1\n",
       "2    0     29.0   21000.0            0                  0\n",
       "3    0     21.0   41700.0            2                  0\n",
       "4    1     28.0   26100.0            0                  0"
      ]
     },
     "metadata": {},
     "output_type": "display_data"
    },
    {
     "data": {
      "text/html": [
       "<div>\n",
       "<style scoped>\n",
       "    .dataframe tbody tr th:only-of-type {\n",
       "        vertical-align: middle;\n",
       "    }\n",
       "\n",
       "    .dataframe tbody tr th {\n",
       "        vertical-align: top;\n",
       "    }\n",
       "\n",
       "    .dataframe thead th {\n",
       "        text-align: right;\n",
       "    }\n",
       "</style>\n",
       "<table border=\"1\" class=\"dataframe\">\n",
       "  <thead>\n",
       "    <tr style=\"text-align: right;\">\n",
       "      <th></th>\n",
       "      <th>Пол</th>\n",
       "      <th>Возраст</th>\n",
       "      <th>Зарплата</th>\n",
       "      <th>Члены семьи</th>\n",
       "      <th>Страховые выплаты</th>\n",
       "    </tr>\n",
       "  </thead>\n",
       "  <tbody>\n",
       "    <tr>\n",
       "      <th>count</th>\n",
       "      <td>5000.000000</td>\n",
       "      <td>5000.000000</td>\n",
       "      <td>5000.000000</td>\n",
       "      <td>5000.000000</td>\n",
       "      <td>5000.000000</td>\n",
       "    </tr>\n",
       "    <tr>\n",
       "      <th>mean</th>\n",
       "      <td>0.499000</td>\n",
       "      <td>30.952800</td>\n",
       "      <td>39916.360000</td>\n",
       "      <td>1.194200</td>\n",
       "      <td>0.148000</td>\n",
       "    </tr>\n",
       "    <tr>\n",
       "      <th>std</th>\n",
       "      <td>0.500049</td>\n",
       "      <td>8.440807</td>\n",
       "      <td>9900.083569</td>\n",
       "      <td>1.091387</td>\n",
       "      <td>0.463183</td>\n",
       "    </tr>\n",
       "    <tr>\n",
       "      <th>min</th>\n",
       "      <td>0.000000</td>\n",
       "      <td>18.000000</td>\n",
       "      <td>5300.000000</td>\n",
       "      <td>0.000000</td>\n",
       "      <td>0.000000</td>\n",
       "    </tr>\n",
       "    <tr>\n",
       "      <th>25%</th>\n",
       "      <td>0.000000</td>\n",
       "      <td>24.000000</td>\n",
       "      <td>33300.000000</td>\n",
       "      <td>0.000000</td>\n",
       "      <td>0.000000</td>\n",
       "    </tr>\n",
       "    <tr>\n",
       "      <th>50%</th>\n",
       "      <td>0.000000</td>\n",
       "      <td>30.000000</td>\n",
       "      <td>40200.000000</td>\n",
       "      <td>1.000000</td>\n",
       "      <td>0.000000</td>\n",
       "    </tr>\n",
       "    <tr>\n",
       "      <th>75%</th>\n",
       "      <td>1.000000</td>\n",
       "      <td>37.000000</td>\n",
       "      <td>46600.000000</td>\n",
       "      <td>2.000000</td>\n",
       "      <td>0.000000</td>\n",
       "    </tr>\n",
       "    <tr>\n",
       "      <th>max</th>\n",
       "      <td>1.000000</td>\n",
       "      <td>65.000000</td>\n",
       "      <td>79000.000000</td>\n",
       "      <td>6.000000</td>\n",
       "      <td>5.000000</td>\n",
       "    </tr>\n",
       "  </tbody>\n",
       "</table>\n",
       "</div>"
      ],
      "text/plain": [
       "               Пол      Возраст      Зарплата  Члены семьи  Страховые выплаты\n",
       "count  5000.000000  5000.000000   5000.000000  5000.000000        5000.000000\n",
       "mean      0.499000    30.952800  39916.360000     1.194200           0.148000\n",
       "std       0.500049     8.440807   9900.083569     1.091387           0.463183\n",
       "min       0.000000    18.000000   5300.000000     0.000000           0.000000\n",
       "25%       0.000000    24.000000  33300.000000     0.000000           0.000000\n",
       "50%       0.000000    30.000000  40200.000000     1.000000           0.000000\n",
       "75%       1.000000    37.000000  46600.000000     2.000000           0.000000\n",
       "max       1.000000    65.000000  79000.000000     6.000000           5.000000"
      ]
     },
     "metadata": {},
     "output_type": "display_data"
    },
    {
     "name": "stdout",
     "output_type": "stream",
     "text": [
      "<class 'pandas.core.frame.DataFrame'>\n",
      "RangeIndex: 5000 entries, 0 to 4999\n",
      "Data columns (total 5 columns):\n",
      " #   Column             Non-Null Count  Dtype  \n",
      "---  ------             --------------  -----  \n",
      " 0   Пол                5000 non-null   int64  \n",
      " 1   Возраст            5000 non-null   float64\n",
      " 2   Зарплата           5000 non-null   float64\n",
      " 3   Члены семьи        5000 non-null   int64  \n",
      " 4   Страховые выплаты  5000 non-null   int64  \n",
      "dtypes: float64(2), int64(3)\n",
      "memory usage: 195.4 KB\n",
      "None\n",
      "==================================================\n"
     ]
    }
   ],
   "source": [
    "data = pd.read_csv('/datasets/insurance.csv')\n",
    "first_analyze(data)"
   ]
  },
  {
   "cell_type": "markdown",
   "metadata": {},
   "source": [
    "Данные предоставленны в подготовленном виде - пропуски отсутствуют, типы данных соответствуют содержанию, явных аномалий нет."
   ]
  },
  {
   "cell_type": "markdown",
   "metadata": {},
   "source": [
    "<div class=\"alert alert-success\">\n",
    "<b>✔️ Комментарий ревьювера:</b> Данные загружены и изучены успешно! Здорово, что применил функцию для анализа датасета.\n",
    "    \n",
    "Как рекомендация, можно еще посмотреть матрицу корреляции числовых признаков.\n",
    "    \n",
    "</div>"
   ]
  },
  {
   "cell_type": "markdown",
   "metadata": {},
   "source": [
    "## Умножение матриц"
   ]
  },
  {
   "cell_type": "markdown",
   "metadata": {},
   "source": [
    "В этом задании вы можете записывать формулы в *Jupyter Notebook.*\n",
    "\n",
    "Чтобы записать формулу внутри текста, окружите её символами доллара \\\\$; если снаружи —  двойными символами \\\\$\\\\$. Эти формулы записываются на языке вёрстки *LaTeX.* \n",
    "\n",
    "Для примера мы записали формулы линейной регрессии. Можете их скопировать и отредактировать, чтобы решить задачу.\n",
    "\n",
    "Работать в *LaTeX* необязательно."
   ]
  },
  {
   "cell_type": "markdown",
   "metadata": {},
   "source": [
    "Обозначения:\n",
    "\n",
    "- $X$ — матрица признаков (нулевой столбец состоит из единиц)\n",
    "\n",
    "- $y$ — вектор целевого признака\n",
    "\n",
    "- $P$ — матрица, на которую умножаются признаки\n",
    "\n",
    "- $w$ — вектор весов линейной регрессии (нулевой элемент равен сдвигу)"
   ]
  },
  {
   "cell_type": "markdown",
   "metadata": {},
   "source": [
    "Предсказания:\n",
    "\n",
    "$$\n",
    "a = Xw\n",
    "$$\n",
    "\n",
    "Задача обучения:\n",
    "\n",
    "$$\n",
    "w = \\arg\\min_w MSE(Xw, y)\n",
    "$$\n",
    "\n",
    "Формула обучения:\n",
    "\n",
    "$$\n",
    "w = (X^T X)^{-1} X^T y\n",
    "$$"
   ]
  },
  {
   "cell_type": "markdown",
   "metadata": {},
   "source": [
    "**Ответ:** Не изменится\n",
    "\n",
    "**Обоснование:** \n",
    "\n",
    "Возьмём новую матрицу $Z$ как результат умножения исходной матрицы $X$ на произвольную обратимую матрицу $P$:\n",
    "\n",
    "$$\n",
    "Z = XP\n",
    "$$\n",
    "\n",
    "Запишем формулы предсказания и обучения с новой матрицей $Z$:\n",
    "\n",
    "$$\n",
    "a = Zw\n",
    "$$\n",
    "\n",
    "$$\n",
    "w = (Z^T Z)^{-1} Z^T y\n",
    "$$\n",
    "\n",
    "Подставим формулу обучения в формулу предсказания:\n",
    "\n",
    "$$\n",
    "a = Z(Z^T Z)^{-1} Z^T y\n",
    "$$\n",
    "\n",
    "Заменим $Z$ на $XP$:\n",
    "\n",
    "$$\n",
    "a = XP((XP)^T XP)^{-1} (XP)^T y\n",
    "$$\n",
    "\n",
    "Используем свойство произведения транспонированных матриц:\n",
    "\n",
    "$$\n",
    "(AB)^T = B^T A^T \n",
    "$$\n",
    "\n",
    "$$\n",
    "a = XP (P^TX^T XP)^{-1} P^T X^T y\n",
    "$$\n",
    "\n",
    "Предположим, что в $(P^TX^T XP)^{-1}$ - $A = P^TX^T X$ и $B = P$, по свойству обратных матриц:\n",
    "\n",
    "$$\n",
    "(AB)^{-1} = B^{-1} A^{-1} \n",
    "$$\n",
    "\n",
    "$$\n",
    "a = XP P^{-1} (P^TX^T X)^{-1} P^T X^T y\n",
    "$$\n",
    "\n",
    "Предположим, что в $(P^TX^T X)^{-1}$ - $A = P^T$ и $B = X^T X$:\n",
    "\n",
    "$$\n",
    "a = X P P^{-1} (X^T X)^{-1} P^{T^{-1}} P^T X^T y\n",
    "$$\n",
    "\n",
    "Сократим $P$ и $P^{-1}$, $P^T$ и $P^{T^{-1}}$ - каждое из этих сокращений даст единичную матрицу $E$:\n",
    "\n",
    "$$\n",
    "a = X E (X^T X)^{-1} E X^T y\n",
    "$$\n",
    "$$\n",
    "a = X (X^T X)^{-1} X^T y\n",
    "$$\n",
    "\n",
    "Таким образом мы вернулись к изначальной функции, то есть значение предсказаний $a$ не меняется из-за умножения на произвольную обратимую матрицу."
   ]
  },
  {
   "cell_type": "markdown",
   "metadata": {},
   "source": [
    "<div class=\"alert alert-success\">\n",
    "<b>✔️ Комментарий ревьювера v3:</b> Отлично, теперь все правильно!\n",
    "    \n",
    "Работа принята, желаю успехов в дальнейшем обучении =)\n",
    "   \n",
    "</div>"
   ]
  },
  {
   "cell_type": "markdown",
   "metadata": {},
   "source": [
    "<div class=\"alert alert-info\"> <b>ℹ️ Комментарий студента: </b> Попытка номер три, немножко по другому пути пошёл, поподробнее с: </div>"
   ]
  },
  {
   "cell_type": "markdown",
   "metadata": {},
   "source": [
    "<div class=\"alert alert-warning\">\n",
    "<b>⚠️ Комментарий ревьювера v2:</b> В доказательстве осталось поправить еще один момент: после раскрытия скобок матрица $P^T$ должна оказаться в правой части, а матрица $P$ — в левой.\n",
    "    \n",
    "В матричных выражениях, в отличие от алгебраических, мы не можем менять сомножители местами.\n",
    "    \n",
    "В данном случае пригодится сочетательное свойство:\n",
    "    \n",
    "$(ABC)^{-1} = (C)^{-1} (AB)^{-1}$\n",
    "    \n",
    "</div>"
   ]
  },
  {
   "cell_type": "markdown",
   "metadata": {},
   "source": [
    "<div class=\"alert alert-danger\">\n",
    "<b>🚫 Комментарий ревьювера:</b> Ход доказательства правильный, то есть некоторые замечания.\n",
    "    \n",
    "В выражении $(X^T X)^{-1}$ нельзя раскрывать скобки, так как матрицы $X$ и $X^T$ прямоугольные и для них не существует обратных матриц, то есть нельзя записывать $(X^T)^{-1}$ и $X^{-1}$.\n",
    "    \n",
    "Удобно преобразовать выражение для $w_1$:\n",
    "   \n",
    "$w_1 = ((X_1)^T X_1)^{-1} (X_1)^T y$.\n",
    "\n",
    "Сначала нужно раскрыть скобки в операции транспонирования $(XP)^T$, а затем извлечь из-за скобок матрицы $P$ и $P^T$, а выражение $(X^T X)^{-1}$ оставить без изменений.\n",
    "\n",
    "</div>"
   ]
  },
  {
   "cell_type": "markdown",
   "metadata": {},
   "source": [
    "## Алгоритм преобразования"
   ]
  },
  {
   "cell_type": "markdown",
   "metadata": {},
   "source": [
    "**Алгоритм**\n",
    "\n",
    "Для защиты данных клиентов будем применять следующий алгоритм:\n",
    "1. Создадим производную квадратную матрицу, размер которой определяется количеством признаков;\n",
    "2. Проверим обратимость созданной матрицы, и если она не обратима - создадим новую;\n",
    "3. Проведём умножение матрицы признаков на нашу созданную матрицу."
   ]
  },
  {
   "cell_type": "markdown",
   "metadata": {},
   "source": [
    "**Обоснование**\n",
    "\n",
    "На основании пункта 2 можно сделать вывод о том, что такое умножение не повлияет на качество модели линейной регрессии."
   ]
  },
  {
   "cell_type": "markdown",
   "metadata": {},
   "source": [
    "## Проверка алгоритма"
   ]
  },
  {
   "cell_type": "markdown",
   "metadata": {},
   "source": [
    "Выделим признаки и целевой признак из исходных данных."
   ]
  },
  {
   "cell_type": "markdown",
   "metadata": {},
   "source": [
    "<div class=\"alert alert-success\">\n",
    "<b>✔️ Комментарий ревьювера:</b> Хорошо, что разделил данные на обучающую и тестовую выборки.\n",
    "    \n",
    "</div>"
   ]
  },
  {
   "cell_type": "code",
   "execution_count": 4,
   "metadata": {},
   "outputs": [],
   "source": [
    "features = data.drop(columns=['Страховые выплаты'])\n",
    "target = data['Страховые выплаты']"
   ]
  },
  {
   "cell_type": "markdown",
   "metadata": {},
   "source": [
    "Выделим тренировочную и тестовую выборки."
   ]
  },
  {
   "cell_type": "code",
   "execution_count": 5,
   "metadata": {},
   "outputs": [],
   "source": [
    "features_train, features_test, target_train, target_test = train_test_split(features,\n",
    "                                                                            target,\n",
    "                                                                            test_size=0.25,\n",
    "                                                                            random_state=131296)"
   ]
  },
  {
   "cell_type": "markdown",
   "metadata": {},
   "source": [
    "Создадим произвольную квадратную матрицу и проверим, обратима ли она."
   ]
  },
  {
   "cell_type": "code",
   "execution_count": 6,
   "metadata": {},
   "outputs": [],
   "source": [
    "def get_random_matrix(feature, random_state):\n",
    "    return random_state.uniform(0, 1, size=(feature.shape[1], feature.shape[1]))\n",
    "\n",
    "def is_matrix_invertible(matrix):\n",
    "    return matrix.shape[0] == matrix.shape[1] and np.linalg.matrix_rank(matrix) == matrix.shape[0]"
   ]
  },
  {
   "cell_type": "markdown",
   "metadata": {},
   "source": [
    "<div class=\"alert alert-success\">\n",
    "<b>✔️ Комментарий ревьювера:</b> Здорово, что применяешь проверку через ранг матрицы!\n",
    "    \n",
    "</div>"
   ]
  },
  {
   "cell_type": "code",
   "execution_count": 7,
   "metadata": {
    "scrolled": true
   },
   "outputs": [
    {
     "name": "stdout",
     "output_type": "stream",
     "text": [
      "[[0.62063605 0.19425234 0.03265273 0.84807503]\n",
      " [0.57598613 0.6413164  0.26320144 0.75696421]\n",
      " [0.11985965 0.0692599  0.57589947 0.27058831]\n",
      " [0.59418245 0.41608542 0.93910849 0.97170892]]\n"
     ]
    }
   ],
   "source": [
    "random_matrix = get_random_matrix(features_train, RANDOM_STATE)\n",
    "\n",
    "while not is_matrix_invertible(random_matrix):\n",
    "    random_matrix = get_random_matrix(RANDOM_STATE)\n",
    "\n",
    "print(random_matrix)"
   ]
  },
  {
   "cell_type": "markdown",
   "metadata": {},
   "source": [
    "Перемножим матрицу признаков на полученную случайную матрицу."
   ]
  },
  {
   "cell_type": "code",
   "execution_count": 8,
   "metadata": {},
   "outputs": [],
   "source": [
    "features_train_trans = features_train @ random_matrix\n",
    "features_test_trans = features_test @ random_matrix"
   ]
  },
  {
   "cell_type": "markdown",
   "metadata": {},
   "source": [
    "<div class=\"alert alert-warning\">\n",
    "<b>⚠️ Комментарий ревьювера:</b> Предпочтительнее использовать оператор @ при умножении матриц. Он строже, чем np.dot и допускает только матричное умножение.\n",
    "    \n",
    "Оператор @ вызывает метод np.matmul:\n",
    "    \n",
    "https://numpy.org/doc/stable/reference/generated/numpy.matmul.html\n",
    "    \n",
    "</div>"
   ]
  },
  {
   "cell_type": "markdown",
   "metadata": {},
   "source": [
    "<div class=\"alert alert-info\"> <b>ℹ️ Комментарий студента: </b> Изначально использовал np.dot исходя из описания документации - при использовании с двумя двухметрыми матрицами np.dot работает как np.matmul, и конкретно в этом случае мы заранее знаем, что у нас действительно используется две двумерные матрицы.\n",
    "    \n",
    "Однако, там же указано, что в таком случае предпочтительнее использование @ (или np.matmul) - в дальнейшем так и буду делать с: </div>"
   ]
  },
  {
   "cell_type": "markdown",
   "metadata": {},
   "source": [
    "<div class=\"alert alert-success\">\n",
    "<b>✔️ Комментарий ревьювера v2:</b> Да, все верно — различия начинаются в случае трехмерных массивов =)\n",
    "    \n",
    "</div>"
   ]
  },
  {
   "cell_type": "markdown",
   "metadata": {},
   "source": [
    "Сравним исходную матрицу features_train и features_train_trans."
   ]
  },
  {
   "cell_type": "code",
   "execution_count": 9,
   "metadata": {},
   "outputs": [
    {
     "data": {
      "text/html": [
       "<div>\n",
       "<style scoped>\n",
       "    .dataframe tbody tr th:only-of-type {\n",
       "        vertical-align: middle;\n",
       "    }\n",
       "\n",
       "    .dataframe tbody tr th {\n",
       "        vertical-align: top;\n",
       "    }\n",
       "\n",
       "    .dataframe thead th {\n",
       "        text-align: right;\n",
       "    }\n",
       "</style>\n",
       "<table border=\"1\" class=\"dataframe\">\n",
       "  <thead>\n",
       "    <tr style=\"text-align: right;\">\n",
       "      <th></th>\n",
       "      <th>Пол</th>\n",
       "      <th>Возраст</th>\n",
       "      <th>Зарплата</th>\n",
       "      <th>Члены семьи</th>\n",
       "    </tr>\n",
       "  </thead>\n",
       "  <tbody>\n",
       "    <tr>\n",
       "      <th>531</th>\n",
       "      <td>0</td>\n",
       "      <td>41.0</td>\n",
       "      <td>36000.0</td>\n",
       "      <td>1</td>\n",
       "    </tr>\n",
       "    <tr>\n",
       "      <th>4249</th>\n",
       "      <td>0</td>\n",
       "      <td>27.0</td>\n",
       "      <td>36100.0</td>\n",
       "      <td>3</td>\n",
       "    </tr>\n",
       "    <tr>\n",
       "      <th>783</th>\n",
       "      <td>0</td>\n",
       "      <td>40.0</td>\n",
       "      <td>39800.0</td>\n",
       "      <td>1</td>\n",
       "    </tr>\n",
       "    <tr>\n",
       "      <th>3923</th>\n",
       "      <td>1</td>\n",
       "      <td>41.0</td>\n",
       "      <td>48900.0</td>\n",
       "      <td>0</td>\n",
       "    </tr>\n",
       "    <tr>\n",
       "      <th>3414</th>\n",
       "      <td>1</td>\n",
       "      <td>29.0</td>\n",
       "      <td>57900.0</td>\n",
       "      <td>1</td>\n",
       "    </tr>\n",
       "  </tbody>\n",
       "</table>\n",
       "</div>"
      ],
      "text/plain": [
       "      Пол  Возраст  Зарплата  Члены семьи\n",
       "531     0     41.0   36000.0            1\n",
       "4249    0     27.0   36100.0            3\n",
       "783     0     40.0   39800.0            1\n",
       "3923    1     41.0   48900.0            0\n",
       "3414    1     29.0   57900.0            1"
      ]
     },
     "metadata": {},
     "output_type": "display_data"
    },
    {
     "data": {
      "text/html": [
       "<div>\n",
       "<style scoped>\n",
       "    .dataframe tbody tr th:only-of-type {\n",
       "        vertical-align: middle;\n",
       "    }\n",
       "\n",
       "    .dataframe tbody tr th {\n",
       "        vertical-align: top;\n",
       "    }\n",
       "\n",
       "    .dataframe thead th {\n",
       "        text-align: right;\n",
       "    }\n",
       "</style>\n",
       "<table border=\"1\" class=\"dataframe\">\n",
       "  <thead>\n",
       "    <tr style=\"text-align: right;\">\n",
       "      <th></th>\n",
       "      <th>0</th>\n",
       "      <th>1</th>\n",
       "      <th>2</th>\n",
       "      <th>3</th>\n",
       "    </tr>\n",
       "  </thead>\n",
       "  <tbody>\n",
       "    <tr>\n",
       "      <th>531</th>\n",
       "      <td>4339.157092</td>\n",
       "      <td>2520.066449</td>\n",
       "      <td>20744.111425</td>\n",
       "      <td>9773.186390</td>\n",
       "    </tr>\n",
       "    <tr>\n",
       "      <th>4249</th>\n",
       "      <td>4344.267617</td>\n",
       "      <td>2518.846180</td>\n",
       "      <td>20799.894769</td>\n",
       "      <td>9791.591140</td>\n",
       "    </tr>\n",
       "    <tr>\n",
       "      <th>783</th>\n",
       "      <td>4794.047785</td>\n",
       "      <td>2782.612752</td>\n",
       "      <td>22932.266224</td>\n",
       "      <td>10800.665003</td>\n",
       "    </tr>\n",
       "    <tr>\n",
       "      <th>3923</th>\n",
       "      <td>5885.373059</td>\n",
       "      <td>3413.297323</td>\n",
       "      <td>28172.308181</td>\n",
       "      <td>13263.651951</td>\n",
       "    </tr>\n",
       "    <tr>\n",
       "      <th>3414</th>\n",
       "      <td>6957.792278</td>\n",
       "      <td>4029.356709</td>\n",
       "      <td>33353.184137</td>\n",
       "      <td>15690.834877</td>\n",
       "    </tr>\n",
       "  </tbody>\n",
       "</table>\n",
       "</div>"
      ],
      "text/plain": [
       "                0            1             2             3\n",
       "531   4339.157092  2520.066449  20744.111425   9773.186390\n",
       "4249  4344.267617  2518.846180  20799.894769   9791.591140\n",
       "783   4794.047785  2782.612752  22932.266224  10800.665003\n",
       "3923  5885.373059  3413.297323  28172.308181  13263.651951\n",
       "3414  6957.792278  4029.356709  33353.184137  15690.834877"
      ]
     },
     "metadata": {},
     "output_type": "display_data"
    }
   ],
   "source": [
    "display(features_train.head())\n",
    "display(features_train_trans.head())"
   ]
  },
  {
   "cell_type": "markdown",
   "metadata": {},
   "source": [
    "Данные после преобразования не понятны и отличаются от исходных.\n",
    "\n",
    "Обучим две модели линейной регрессии - model для исходных данных и model_trans для изменённых."
   ]
  },
  {
   "cell_type": "code",
   "execution_count": 10,
   "metadata": {},
   "outputs": [
    {
     "name": "stdout",
     "output_type": "stream",
     "text": [
      "Метрика R2 для обычных данных: 0.4458031234426689\n",
      "Метрика R2 для изменённых данных: 0.44580312344094886\n"
     ]
    }
   ],
   "source": [
    "model = LinearRegression()\n",
    "model.fit(features_train, target_train)\n",
    "predictions = model.predict(features_test)\n",
    "print(f'Метрика R2 для обычных данных: {r2_score(target_test, predictions)}')\n",
    "\n",
    "model_trans = LinearRegression()\n",
    "model_trans.fit(features_train_trans, target_train)\n",
    "predictions = model_trans.predict(features_test_trans)\n",
    "print(f'Метрика R2 для изменённых данных: {r2_score(target_test, predictions)}')"
   ]
  },
  {
   "cell_type": "markdown",
   "metadata": {},
   "source": [
    "Различия в метриках пренебрежимо малы и объясняются точностью хранения дробных данных."
   ]
  },
  {
   "cell_type": "markdown",
   "metadata": {},
   "source": [
    "<div class=\"alert alert-success\">\n",
    "<b>✔️ Комментарий ревьювера:</b> Качество предсказания действительно не изменяется, результат достигнут!\n",
    "    \n",
    "Еще могу порекомендовать вот такой материал:\n",
    "    \n",
    "https://habr.com/ru/post/479398/\n",
    "\n",
    "https://habr.com/ru/company/vk/blog/478514/ Применение зашифрованных данных для машинного обучения\n",
    "\n",
    "https://www.amazon.science/blog/machine-learning-models-that-act-on-encrypted-data#:~:text=Privacy%2Dpreserving%20machine%20learning%20 Privacy-preserving machine learning (PPML)\n",
    " \n",
    "</div>"
   ]
  },
  {
   "cell_type": "markdown",
   "metadata": {},
   "source": [
    "**Вывод**\n",
    "\n",
    "Теоретическое предположение о том, что умножение матрицы признаков не будет влиять на точность метрики нашло практическое докозательство. Соответственно, такой метод защиты данных допустим к применению."
   ]
  },
  {
   "cell_type": "markdown",
   "metadata": {},
   "source": [
    "<font color=blue>\n",
    "<b> ✔️ 👍Заключение ревьювера:</b> Родион, у тебя хорошая работа, получен положительный результат! \n",
    "   \n",
    "Могу отметить грамотно составленный код, хорошую практическую часть =) \n",
    "    \n",
    "Есть некоторые замечания — нужно поправить теоретическое доказательство. В остальном я отметил рекомендации!\n",
    "    \n",
    "Отправляю работу для ознакомления с ходом проверки, а также если есть вопросы — смело задавай их, я постараюсь тебе помочь 😊\n",
    "\n",
    "Жду твоего ответа!\n",
    "</font>"
   ]
  },
  {
   "cell_type": "markdown",
   "metadata": {},
   "source": [
    "## Чек-лист проверки"
   ]
  },
  {
   "cell_type": "markdown",
   "metadata": {},
   "source": [
    "Поставьте 'x' в выполненных пунктах. Далее нажмите Shift+Enter."
   ]
  },
  {
   "cell_type": "markdown",
   "metadata": {},
   "source": [
    "- [x]  Jupyter Notebook открыт\n",
    "- [x]  Весь код выполняется без ошибок\n",
    "- [x]  Ячейки с кодом расположены в порядке исполнения\n",
    "- [x]  Выполнен шаг 1: данные загружены\n",
    "- [x]  Выполнен шаг 2: получен ответ на вопрос об умножении матриц\n",
    "    - [x]  Указан правильный вариант ответа\n",
    "    - [x]  Вариант обоснован\n",
    "- [x]  Выполнен шаг 3: предложен алгоритм преобразования\n",
    "    - [x]  Алгоритм описан\n",
    "    - [x]  Алгоритм обоснован\n",
    "- [x]  Выполнен шаг 4: алгоритм проверен\n",
    "    - [x]  Алгоритм реализован\n",
    "    - [x]  Проведено сравнение качества моделей до и после преобразования"
   ]
  }
 ],
 "metadata": {
  "ExecuteTimeLog": [
   {
    "duration": 1202,
    "start_time": "2022-11-06T18:34:05.995Z"
   },
   {
    "duration": 107,
    "start_time": "2022-11-06T18:37:27.255Z"
   },
   {
    "duration": 4,
    "start_time": "2022-11-06T18:37:40.446Z"
   },
   {
    "duration": 80,
    "start_time": "2022-11-06T18:37:48.045Z"
   },
   {
    "duration": 5,
    "start_time": "2022-11-06T18:45:13.053Z"
   },
   {
    "duration": 14,
    "start_time": "2022-11-06T18:45:57.516Z"
   },
   {
    "duration": 7,
    "start_time": "2022-11-06T18:46:05.751Z"
   },
   {
    "duration": 6,
    "start_time": "2022-11-06T18:48:28.154Z"
   },
   {
    "duration": 4,
    "start_time": "2022-11-06T18:48:32.441Z"
   },
   {
    "duration": 4,
    "start_time": "2022-11-06T18:48:35.053Z"
   },
   {
    "duration": 5,
    "start_time": "2022-11-06T18:48:35.865Z"
   },
   {
    "duration": 108,
    "start_time": "2022-11-06T18:49:02.457Z"
   },
   {
    "duration": 8,
    "start_time": "2022-11-06T18:49:06.443Z"
   },
   {
    "duration": 19,
    "start_time": "2022-11-06T18:49:08.618Z"
   },
   {
    "duration": 7,
    "start_time": "2022-11-06T18:49:09.202Z"
   },
   {
    "duration": 8,
    "start_time": "2022-11-06T18:49:09.740Z"
   },
   {
    "duration": 5,
    "start_time": "2022-11-06T18:49:16.995Z"
   },
   {
    "duration": 5,
    "start_time": "2022-11-06T18:49:18.202Z"
   },
   {
    "duration": 5,
    "start_time": "2022-11-06T18:49:18.746Z"
   },
   {
    "duration": 7,
    "start_time": "2022-11-06T18:49:19.203Z"
   },
   {
    "duration": 6,
    "start_time": "2022-11-06T18:49:19.683Z"
   },
   {
    "duration": 5,
    "start_time": "2022-11-06T18:49:20.154Z"
   },
   {
    "duration": 5,
    "start_time": "2022-11-06T18:49:20.658Z"
   },
   {
    "duration": 5,
    "start_time": "2022-11-06T18:49:21.162Z"
   },
   {
    "duration": 5,
    "start_time": "2022-11-06T18:49:21.642Z"
   },
   {
    "duration": 12,
    "start_time": "2022-11-06T18:49:22.121Z"
   },
   {
    "duration": 8,
    "start_time": "2022-11-06T18:49:22.562Z"
   },
   {
    "duration": 7,
    "start_time": "2022-11-06T18:49:22.733Z"
   },
   {
    "duration": 15,
    "start_time": "2022-11-06T18:49:22.921Z"
   },
   {
    "duration": 19,
    "start_time": "2022-11-06T18:49:23.022Z"
   },
   {
    "duration": 71,
    "start_time": "2022-11-06T18:49:23.154Z"
   },
   {
    "duration": 6,
    "start_time": "2022-11-06T18:49:23.321Z"
   },
   {
    "duration": 24,
    "start_time": "2022-11-06T18:49:23.620Z"
   },
   {
    "duration": 88,
    "start_time": "2022-11-06T18:49:23.751Z"
   },
   {
    "duration": 5,
    "start_time": "2022-11-06T18:53:21.744Z"
   },
   {
    "duration": 6,
    "start_time": "2022-11-06T18:53:22.479Z"
   },
   {
    "duration": 6,
    "start_time": "2022-11-06T18:53:23.087Z"
   },
   {
    "duration": 5,
    "start_time": "2022-11-06T18:53:23.663Z"
   },
   {
    "duration": 6,
    "start_time": "2022-11-06T18:53:24.242Z"
   },
   {
    "duration": 6,
    "start_time": "2022-11-06T18:53:24.839Z"
   },
   {
    "duration": 4,
    "start_time": "2022-11-06T18:57:27.136Z"
   },
   {
    "duration": 4,
    "start_time": "2022-11-06T18:58:10.605Z"
   },
   {
    "duration": 37,
    "start_time": "2022-11-06T18:58:45.806Z"
   },
   {
    "duration": 4,
    "start_time": "2022-11-06T18:59:06.654Z"
   },
   {
    "duration": 24,
    "start_time": "2022-11-06T18:59:08.119Z"
   },
   {
    "duration": 4,
    "start_time": "2022-11-06T18:59:12.262Z"
   },
   {
    "duration": 17,
    "start_time": "2022-11-06T18:59:13.847Z"
   },
   {
    "duration": 4,
    "start_time": "2022-11-06T18:59:19.210Z"
   },
   {
    "duration": 20,
    "start_time": "2022-11-06T18:59:26.815Z"
   },
   {
    "duration": 32,
    "start_time": "2022-11-06T18:59:29.831Z"
   },
   {
    "duration": 5,
    "start_time": "2022-11-06T19:00:08.096Z"
   },
   {
    "duration": 4,
    "start_time": "2022-11-06T19:00:58.113Z"
   },
   {
    "duration": 15,
    "start_time": "2022-11-06T19:01:09.810Z"
   },
   {
    "duration": 5,
    "start_time": "2022-11-06T19:07:26.865Z"
   },
   {
    "duration": 60,
    "start_time": "2022-11-06T19:07:30.761Z"
   },
   {
    "duration": 10,
    "start_time": "2022-11-06T19:07:32.553Z"
   },
   {
    "duration": 5,
    "start_time": "2022-11-06T19:08:32.660Z"
   },
   {
    "duration": 10,
    "start_time": "2022-11-06T19:08:36.771Z"
   },
   {
    "duration": 11,
    "start_time": "2022-11-06T19:08:40.011Z"
   },
   {
    "duration": 5,
    "start_time": "2022-11-06T19:08:42.690Z"
   },
   {
    "duration": 12,
    "start_time": "2022-11-06T19:08:44.488Z"
   },
   {
    "duration": 8,
    "start_time": "2022-11-06T19:11:00.622Z"
   },
   {
    "duration": 57,
    "start_time": "2022-11-06T19:11:07.974Z"
   },
   {
    "duration": 7,
    "start_time": "2022-11-06T19:12:00.383Z"
   },
   {
    "duration": 9,
    "start_time": "2022-11-06T19:12:05.271Z"
   },
   {
    "duration": 13,
    "start_time": "2022-11-06T19:12:13.111Z"
   },
   {
    "duration": 6,
    "start_time": "2022-11-06T19:12:26.497Z"
   },
   {
    "duration": 20,
    "start_time": "2022-11-06T19:12:27.847Z"
   },
   {
    "duration": 7,
    "start_time": "2022-11-06T19:12:33.200Z"
   },
   {
    "duration": 18,
    "start_time": "2022-11-06T19:12:34.820Z"
   },
   {
    "duration": 9,
    "start_time": "2022-11-06T19:12:47.985Z"
   },
   {
    "duration": 776,
    "start_time": "2022-11-06T19:12:53.161Z"
   },
   {
    "duration": 5,
    "start_time": "2022-11-06T19:13:00.689Z"
   },
   {
    "duration": 14,
    "start_time": "2022-11-06T19:13:02.321Z"
   },
   {
    "duration": 5,
    "start_time": "2022-11-06T19:13:14.729Z"
   },
   {
    "duration": 15,
    "start_time": "2022-11-06T19:13:16.385Z"
   },
   {
    "duration": 5,
    "start_time": "2022-11-06T19:13:23.384Z"
   },
   {
    "duration": 107,
    "start_time": "2022-11-06T19:13:24.713Z"
   },
   {
    "duration": 10,
    "start_time": "2022-11-06T19:23:20.333Z"
   },
   {
    "duration": 224,
    "start_time": "2022-11-06T19:23:24.716Z"
   },
   {
    "duration": 319,
    "start_time": "2022-11-06T19:24:50.072Z"
   },
   {
    "duration": 207,
    "start_time": "2022-11-06T19:25:21.936Z"
   },
   {
    "duration": 5,
    "start_time": "2022-11-06T19:26:46.425Z"
   },
   {
    "duration": 5,
    "start_time": "2022-11-06T19:26:48.074Z"
   },
   {
    "duration": 4,
    "start_time": "2022-11-06T19:27:00.570Z"
   },
   {
    "duration": 4,
    "start_time": "2022-11-06T19:27:34.322Z"
   },
   {
    "duration": 5,
    "start_time": "2022-11-06T19:28:06.068Z"
   },
   {
    "duration": 12,
    "start_time": "2022-11-06T19:28:36.316Z"
   },
   {
    "duration": 20,
    "start_time": "2022-11-06T19:29:47.631Z"
   },
   {
    "duration": 19,
    "start_time": "2022-11-06T19:30:00.559Z"
   },
   {
    "duration": 26,
    "start_time": "2022-11-06T19:33:00.194Z"
   },
   {
    "duration": 5,
    "start_time": "2022-11-06T19:36:31.559Z"
   },
   {
    "duration": 4,
    "start_time": "2022-11-06T19:36:32.046Z"
   },
   {
    "duration": 4,
    "start_time": "2022-11-06T19:49:17.718Z"
   },
   {
    "duration": 4,
    "start_time": "2022-11-06T19:49:36.782Z"
   },
   {
    "duration": 4,
    "start_time": "2022-11-06T19:49:39.247Z"
   },
   {
    "duration": 76,
    "start_time": "2022-11-06T19:49:42.614Z"
   },
   {
    "duration": 1161,
    "start_time": "2022-11-08T15:23:35.296Z"
   },
   {
    "duration": 4,
    "start_time": "2022-11-08T15:23:37.397Z"
   },
   {
    "duration": 124,
    "start_time": "2022-11-08T15:23:39.734Z"
   },
   {
    "duration": 105,
    "start_time": "2022-11-08T16:43:11.590Z"
   },
   {
    "duration": 5,
    "start_time": "2022-11-08T16:43:28.811Z"
   },
   {
    "duration": 6,
    "start_time": "2022-11-08T16:44:40.638Z"
   },
   {
    "duration": 4,
    "start_time": "2022-11-08T16:47:38.657Z"
   },
   {
    "duration": 7,
    "start_time": "2022-11-08T16:47:50.193Z"
   },
   {
    "duration": 4,
    "start_time": "2022-11-08T16:47:52.376Z"
   },
   {
    "duration": 4,
    "start_time": "2022-11-08T16:47:53.220Z"
   },
   {
    "duration": 5,
    "start_time": "2022-11-08T16:47:53.816Z"
   },
   {
    "duration": 3,
    "start_time": "2022-11-08T16:49:51.173Z"
   },
   {
    "duration": 18,
    "start_time": "2022-11-08T16:49:52.564Z"
   },
   {
    "duration": 5,
    "start_time": "2022-11-08T16:49:56.715Z"
   },
   {
    "duration": 4,
    "start_time": "2022-11-08T16:49:58.348Z"
   },
   {
    "duration": 5,
    "start_time": "2022-11-08T16:51:42.811Z"
   },
   {
    "duration": 6,
    "start_time": "2022-11-08T16:51:44.654Z"
   },
   {
    "duration": 6,
    "start_time": "2022-11-08T16:51:46.134Z"
   },
   {
    "duration": 5,
    "start_time": "2022-11-08T16:51:46.638Z"
   },
   {
    "duration": 6,
    "start_time": "2022-11-08T16:51:46.989Z"
   },
   {
    "duration": 6,
    "start_time": "2022-11-08T16:51:47.257Z"
   },
   {
    "duration": 6,
    "start_time": "2022-11-08T16:51:47.511Z"
   },
   {
    "duration": 6,
    "start_time": "2022-11-08T16:51:47.693Z"
   },
   {
    "duration": 7,
    "start_time": "2022-11-08T16:51:47.837Z"
   },
   {
    "duration": 6,
    "start_time": "2022-11-08T16:51:47.981Z"
   },
   {
    "duration": 3,
    "start_time": "2022-11-08T16:52:04.031Z"
   },
   {
    "duration": 3,
    "start_time": "2022-11-08T16:52:04.847Z"
   },
   {
    "duration": 3,
    "start_time": "2022-11-08T16:52:05.287Z"
   },
   {
    "duration": 3,
    "start_time": "2022-11-08T16:52:05.485Z"
   },
   {
    "duration": 4,
    "start_time": "2022-11-08T16:52:05.653Z"
   },
   {
    "duration": 4,
    "start_time": "2022-11-08T16:52:05.813Z"
   },
   {
    "duration": 4,
    "start_time": "2022-11-08T16:52:05.950Z"
   },
   {
    "duration": 5,
    "start_time": "2022-11-08T16:55:18.994Z"
   },
   {
    "duration": 9,
    "start_time": "2022-11-08T16:55:46.971Z"
   },
   {
    "duration": 9,
    "start_time": "2022-11-08T16:55:47.868Z"
   },
   {
    "duration": 9,
    "start_time": "2022-11-08T16:55:48.435Z"
   },
   {
    "duration": 9,
    "start_time": "2022-11-08T16:55:48.842Z"
   },
   {
    "duration": 8,
    "start_time": "2022-11-08T16:55:49.042Z"
   },
   {
    "duration": 10,
    "start_time": "2022-11-08T16:55:49.214Z"
   },
   {
    "duration": 8,
    "start_time": "2022-11-08T16:55:49.362Z"
   },
   {
    "duration": 9,
    "start_time": "2022-11-08T16:55:49.501Z"
   },
   {
    "duration": 8,
    "start_time": "2022-11-08T16:55:49.643Z"
   },
   {
    "duration": 10,
    "start_time": "2022-11-08T16:55:49.794Z"
   },
   {
    "duration": 9,
    "start_time": "2022-11-08T16:55:49.931Z"
   },
   {
    "duration": 12,
    "start_time": "2022-11-08T16:55:50.066Z"
   },
   {
    "duration": 10,
    "start_time": "2022-11-08T16:55:50.215Z"
   },
   {
    "duration": 9,
    "start_time": "2022-11-08T16:55:50.362Z"
   },
   {
    "duration": 8,
    "start_time": "2022-11-08T16:56:44.716Z"
   },
   {
    "duration": 10,
    "start_time": "2022-11-08T16:56:45.213Z"
   },
   {
    "duration": 11,
    "start_time": "2022-11-08T16:56:45.724Z"
   },
   {
    "duration": 4,
    "start_time": "2022-11-08T16:56:47.444Z"
   },
   {
    "duration": 5,
    "start_time": "2022-11-08T16:56:48.588Z"
   },
   {
    "duration": 5,
    "start_time": "2022-11-08T16:56:48.989Z"
   },
   {
    "duration": 5,
    "start_time": "2022-11-08T16:56:49.404Z"
   },
   {
    "duration": 5,
    "start_time": "2022-11-08T16:56:49.772Z"
   },
   {
    "duration": 5,
    "start_time": "2022-11-08T16:56:49.963Z"
   },
   {
    "duration": 5,
    "start_time": "2022-11-08T16:56:50.116Z"
   },
   {
    "duration": 5,
    "start_time": "2022-11-08T16:56:50.260Z"
   },
   {
    "duration": 5,
    "start_time": "2022-11-08T16:56:50.405Z"
   },
   {
    "duration": 5,
    "start_time": "2022-11-08T16:56:50.547Z"
   },
   {
    "duration": 4,
    "start_time": "2022-11-08T16:57:23.237Z"
   },
   {
    "duration": 4,
    "start_time": "2022-11-08T16:57:28.453Z"
   },
   {
    "duration": 4,
    "start_time": "2022-11-08T16:57:28.924Z"
   },
   {
    "duration": 4,
    "start_time": "2022-11-08T16:57:29.364Z"
   },
   {
    "duration": 7,
    "start_time": "2022-11-08T16:57:29.845Z"
   },
   {
    "duration": 4,
    "start_time": "2022-11-08T16:57:29.989Z"
   },
   {
    "duration": 5,
    "start_time": "2022-11-08T16:57:30.476Z"
   },
   {
    "duration": 5,
    "start_time": "2022-11-08T16:57:30.821Z"
   },
   {
    "duration": 1168,
    "start_time": "2022-11-08T17:02:33.435Z"
   },
   {
    "duration": 4,
    "start_time": "2022-11-08T17:02:54.392Z"
   },
   {
    "duration": 69,
    "start_time": "2022-11-08T17:02:56.129Z"
   },
   {
    "duration": 4,
    "start_time": "2022-11-08T17:03:00.564Z"
   },
   {
    "duration": 11,
    "start_time": "2022-11-08T17:03:06.485Z"
   },
   {
    "duration": 9,
    "start_time": "2022-11-08T17:03:07.259Z"
   },
   {
    "duration": 4,
    "start_time": "2022-11-08T17:03:09.731Z"
   },
   {
    "duration": 4,
    "start_time": "2022-11-08T17:03:11.390Z"
   },
   {
    "duration": 1164,
    "start_time": "2022-11-08T17:03:17.171Z"
   },
   {
    "duration": 4,
    "start_time": "2022-11-08T17:03:18.337Z"
   },
   {
    "duration": 73,
    "start_time": "2022-11-08T17:03:18.343Z"
   },
   {
    "duration": 3,
    "start_time": "2022-11-08T17:03:18.421Z"
   },
   {
    "duration": 11,
    "start_time": "2022-11-08T17:03:18.426Z"
   },
   {
    "duration": 4,
    "start_time": "2022-11-08T17:03:18.439Z"
   },
   {
    "duration": 8,
    "start_time": "2022-11-08T17:03:18.445Z"
   },
   {
    "duration": 4,
    "start_time": "2022-11-08T17:07:55.323Z"
   },
   {
    "duration": 84,
    "start_time": "2022-11-08T17:08:18.297Z"
   },
   {
    "duration": 14,
    "start_time": "2022-11-08T17:08:40.412Z"
   },
   {
    "duration": 113,
    "start_time": "2022-11-08T17:12:21.250Z"
   },
   {
    "duration": 10,
    "start_time": "2022-11-08T17:12:25.061Z"
   },
   {
    "duration": 14,
    "start_time": "2022-11-08T17:13:07.768Z"
   },
   {
    "duration": 50,
    "start_time": "2022-11-08T17:13:54.049Z"
   },
   {
    "duration": 15,
    "start_time": "2022-11-08T17:14:47.013Z"
   },
   {
    "duration": 1149,
    "start_time": "2022-11-08T19:28:29.612Z"
   },
   {
    "duration": 4,
    "start_time": "2022-11-08T19:28:30.763Z"
   },
   {
    "duration": 130,
    "start_time": "2022-11-08T19:28:30.769Z"
   },
   {
    "duration": 4,
    "start_time": "2022-11-08T19:28:30.901Z"
   },
   {
    "duration": 18,
    "start_time": "2022-11-08T19:28:30.907Z"
   },
   {
    "duration": 19,
    "start_time": "2022-11-08T19:28:30.927Z"
   },
   {
    "duration": 16,
    "start_time": "2022-11-08T19:28:30.948Z"
   },
   {
    "duration": 21,
    "start_time": "2022-11-08T19:28:30.966Z"
   },
   {
    "duration": 39,
    "start_time": "2022-11-08T19:28:30.989Z"
   },
   {
    "duration": 20,
    "start_time": "2022-11-08T19:28:31.031Z"
   }
  ],
  "kernelspec": {
   "display_name": "Python 3 (ipykernel)",
   "language": "python",
   "name": "python3"
  },
  "language_info": {
   "codemirror_mode": {
    "name": "ipython",
    "version": 3
   },
   "file_extension": ".py",
   "mimetype": "text/x-python",
   "name": "python",
   "nbconvert_exporter": "python",
   "pygments_lexer": "ipython3",
   "version": "3.9.5"
  },
  "toc": {
   "base_numbering": 1,
   "nav_menu": {},
   "number_sections": true,
   "sideBar": true,
   "skip_h1_title": true,
   "title_cell": "Содержание",
   "title_sidebar": "Contents",
   "toc_cell": true,
   "toc_position": {
    "height": "calc(100% - 180px)",
    "left": "10px",
    "top": "150px",
    "width": "199.08px"
   },
   "toc_section_display": true,
   "toc_window_display": true
  }
 },
 "nbformat": 4,
 "nbformat_minor": 2
}
