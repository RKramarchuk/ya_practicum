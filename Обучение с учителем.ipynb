{
 "cells": [
  {
   "cell_type": "markdown",
   "metadata": {
    "toc": true
   },
   "source": [
    "<h1>Содержание<span class=\"tocSkip\"></span></h1>\n",
    "<div class=\"toc\"><ul class=\"toc-item\"><li><span><a href=\"#Подготовка-данных\" data-toc-modified-id=\"Подготовка-данных-1\"><span class=\"toc-item-num\">1&nbsp;&nbsp;</span>Подготовка данных</a></span></li><li><span><a href=\"#Исследование-задачи\" data-toc-modified-id=\"Исследование-задачи-2\"><span class=\"toc-item-num\">2&nbsp;&nbsp;</span>Исследование задачи</a></span><ul class=\"toc-item\"><li><span><a href=\"#Поиск-гиперпараметров-для-моделей-без-учёта-дисбаланса\" data-toc-modified-id=\"Поиск-гиперпараметров-для-моделей-без-учёта-дисбаланса-2.1\"><span class=\"toc-item-num\">2.1&nbsp;&nbsp;</span>Поиск гиперпараметров для моделей без учёта дисбаланса</a></span><ul class=\"toc-item\"><li><span><a href=\"#Дерево-решений\" data-toc-modified-id=\"Дерево-решений-2.1.1\"><span class=\"toc-item-num\">2.1.1&nbsp;&nbsp;</span>Дерево решений</a></span></li><li><span><a href=\"#Случайный-лес\" data-toc-modified-id=\"Случайный-лес-2.1.2\"><span class=\"toc-item-num\">2.1.2&nbsp;&nbsp;</span>Случайный лес</a></span></li><li><span><a href=\"#Логистическая-регрессия\" data-toc-modified-id=\"Логистическая-регрессия-2.1.3\"><span class=\"toc-item-num\">2.1.3&nbsp;&nbsp;</span>Логистическая регрессия</a></span></li></ul></li><li><span><a href=\"#Вывод-по-несбалансированным-моделям\" data-toc-modified-id=\"Вывод-по-несбалансированным-моделям-2.2\"><span class=\"toc-item-num\">2.2&nbsp;&nbsp;</span>Вывод по несбалансированным моделям</a></span></li></ul></li><li><span><a href=\"#Борьба-с-дисбалансом\" data-toc-modified-id=\"Борьба-с-дисбалансом-3\"><span class=\"toc-item-num\">3&nbsp;&nbsp;</span>Борьба с дисбалансом</a></span><ul class=\"toc-item\"><li><span><a href=\"#Использование-веса-классов-при-поиске-параметров\" data-toc-modified-id=\"Использование-веса-классов-при-поиске-параметров-3.1\"><span class=\"toc-item-num\">3.1&nbsp;&nbsp;</span>Использование веса классов при поиске параметров</a></span></li><li><span><a href=\"#Даунсемплинг\" data-toc-modified-id=\"Даунсемплинг-3.2\"><span class=\"toc-item-num\">3.2&nbsp;&nbsp;</span>Даунсемплинг</a></span><ul class=\"toc-item\"><li><span><a href=\"#Частичный-даунсемплинг\" data-toc-modified-id=\"Частичный-даунсемплинг-3.2.1\"><span class=\"toc-item-num\">3.2.1&nbsp;&nbsp;</span>Частичный даунсемплинг</a></span></li><li><span><a href=\"#Полный-даунсемплинг\" data-toc-modified-id=\"Полный-даунсемплинг-3.2.2\"><span class=\"toc-item-num\">3.2.2&nbsp;&nbsp;</span>Полный даунсемплинг</a></span></li></ul></li><li><span><a href=\"#Оверсемплинг---SMOTE,-ADASYN,-Borderline-SMOTE\" data-toc-modified-id=\"Оверсемплинг---SMOTE,-ADASYN,-Borderline-SMOTE-3.3\"><span class=\"toc-item-num\">3.3&nbsp;&nbsp;</span>Оверсемплинг - SMOTE, ADASYN, Borderline SMOTE</a></span><ul class=\"toc-item\"><li><span><a href=\"#SMOTE\" data-toc-modified-id=\"SMOTE-3.3.1\"><span class=\"toc-item-num\">3.3.1&nbsp;&nbsp;</span>SMOTE</a></span></li><li><span><a href=\"#ADASYN\" data-toc-modified-id=\"ADASYN-3.3.2\"><span class=\"toc-item-num\">3.3.2&nbsp;&nbsp;</span>ADASYN</a></span></li><li><span><a href=\"#Borderline-SMOTE\" data-toc-modified-id=\"Borderline-SMOTE-3.3.3\"><span class=\"toc-item-num\">3.3.3&nbsp;&nbsp;</span>Borderline SMOTE</a></span></li></ul></li><li><span><a href=\"#Вывод-по-модели-случайного-леса-с-учётом-дисбаланса\" data-toc-modified-id=\"Вывод-по-модели-случайного-леса-с-учётом-дисбаланса-3.4\"><span class=\"toc-item-num\">3.4&nbsp;&nbsp;</span>Вывод по модели случайного леса с учётом дисбаланса</a></span></li></ul></li><li><span><a href=\"#Тестирование-модели\" data-toc-modified-id=\"Тестирование-модели-4\"><span class=\"toc-item-num\">4&nbsp;&nbsp;</span>Тестирование модели</a></span></li><li><span><a href=\"#Общий-вывод\" data-toc-modified-id=\"Общий-вывод-5\"><span class=\"toc-item-num\">5&nbsp;&nbsp;</span>Общий вывод</a></span></li><li><span><a href=\"#Чек-лист-готовности-проекта\" data-toc-modified-id=\"Чек-лист-готовности-проекта-6\"><span class=\"toc-item-num\">6&nbsp;&nbsp;</span>Чек-лист готовности проекта</a></span></li></ul></div>"
   ]
  },
  {
   "cell_type": "markdown",
   "metadata": {},
   "source": [
    "<div class=\"alert alert-success\" style=\"border-color: green; border-radius: 5px\">\n",
    "    <p><u><b>✅ КОММЕНТАРИЙ РЕВЬЮЕРА</b></u></p>\n",
    "    <p>Таким образом оформляется комментарий, означающий что пункт выполнен без ошибок.</p>\n",
    "</div>"
   ]
  },
  {
   "cell_type": "markdown",
   "metadata": {},
   "source": [
    "<div class=\"alert alert-warning\" style=\"border-color: orange; border-radius: 5px\">\n",
    "    <p><u><b>⚠️ КОММЕНТАРИЙ РЕВЬЮЕРА</b></u></p>\n",
    "    <p>Таким образом оформляется комментарий, означающий что в пункте есть некритичные недочеты.</p>\n",
    "</div>"
   ]
  },
  {
   "cell_type": "markdown",
   "metadata": {},
   "source": [
    "<div class=\"alert alert-danger\" style=\"border-color: #8B0000; border-radius: 5px\">\n",
    "    <p><u><b>❌ КОММЕНТАРИЙ РЕВЬЮЕРА</b></u></p>\n",
    "    <p>Таким образом оформляется комментарий, означающий что в пункте есть критичные недочеты, требующие исправления.</p>\n",
    "</div>"
   ]
  },
  {
   "cell_type": "markdown",
   "metadata": {},
   "source": [
    "<div class=\"alert alert-info\" style=\"border-color: #0080FF; border-radius: 5px\">\n",
    "    <p><u><b>КОММЕНТАРИЙ СТУДЕНТА</b></u></p>\n",
    "    <p>Буду очень признателен, если ты тоже оформишь свои комментарии и вопросы ко мне с прменением цветовой разметки. Например, так.</p>     \n",
    "</div>"
   ]
  },
  {
   "cell_type": "markdown",
   "metadata": {
    "toc": true
   },
   "source": [
    "<h1>Содержание<span class=\"tocSkip\"></span></h1>\n",
    "<div class=\"toc\"><ul class=\"toc-item\"><li><span><a href=\"#Подготовка-данных\" data-toc-modified-id=\"Подготовка-данных-1\"><span class=\"toc-item-num\">1&nbsp;&nbsp;</span>Подготовка данных</a></span></li><li><span><a href=\"#Исследование-задачи\" data-toc-modified-id=\"Исследование-задачи-2\"><span class=\"toc-item-num\">2&nbsp;&nbsp;</span>Исследование задачи</a></span><ul class=\"toc-item\"><li><span><a href=\"#Поиск-гиперпараметров-для-моделей-без-учёта-дисбаланса\" data-toc-modified-id=\"Поиск-гиперпараметров-для-моделей-без-учёта-дисбаланса-2.1\"><span class=\"toc-item-num\">2.1&nbsp;&nbsp;</span>Поиск гиперпараметров для моделей без учёта дисбаланса</a></span><ul class=\"toc-item\"><li><span><a href=\"#Дерево-решений\" data-toc-modified-id=\"Дерево-решений-2.1.1\"><span class=\"toc-item-num\">2.1.1&nbsp;&nbsp;</span>Дерево решений</a></span></li><li><span><a href=\"#Случайный-лес\" data-toc-modified-id=\"Случайный-лес-2.1.2\"><span class=\"toc-item-num\">2.1.2&nbsp;&nbsp;</span>Случайный лес</a></span></li><li><span><a href=\"#Логистическая-регрессия\" data-toc-modified-id=\"Логистическая-регрессия-2.1.3\"><span class=\"toc-item-num\">2.1.3&nbsp;&nbsp;</span>Логистическая регрессия</a></span></li></ul></li><li><span><a href=\"#Вывод-по-несбалансированным-моделям\" data-toc-modified-id=\"Вывод-по-несбалансированным-моделям-2.2\"><span class=\"toc-item-num\">2.2&nbsp;&nbsp;</span>Вывод по несбалансированным моделям</a></span></li></ul></li><li><span><a href=\"#Борьба-с-дисбалансом\" data-toc-modified-id=\"Борьба-с-дисбалансом-3\"><span class=\"toc-item-num\">3&nbsp;&nbsp;</span>Борьба с дисбалансом</a></span><ul class=\"toc-item\"><li><span><a href=\"#Использование-веса-классов-при-поиске-параметров\" data-toc-modified-id=\"Использование-веса-классов-при-поиске-параметров-3.1\"><span class=\"toc-item-num\">3.1&nbsp;&nbsp;</span>Использование веса классов при поиске параметров</a></span></li><li><span><a href=\"#Даунсемплинг\" data-toc-modified-id=\"Даунсемплинг-3.2\"><span class=\"toc-item-num\">3.2&nbsp;&nbsp;</span>Даунсемплинг</a></span><ul class=\"toc-item\"><li><span><a href=\"#Частичный-даунсемплинг\" data-toc-modified-id=\"Частичный-даунсемплинг-3.2.1\"><span class=\"toc-item-num\">3.2.1&nbsp;&nbsp;</span>Частичный даунсемплинг</a></span></li><li><span><a href=\"#Полный-даунсемплинг\" data-toc-modified-id=\"Полный-даунсемплинг-3.2.2\"><span class=\"toc-item-num\">3.2.2&nbsp;&nbsp;</span>Полный даунсемплинг</a></span></li></ul></li><li><span><a href=\"#Оверсемплинг---SMOTE,-ADASYN,-Borderline-SMOTE\" data-toc-modified-id=\"Оверсемплинг---SMOTE,-ADASYN,-Borderline-SMOTE-3.3\"><span class=\"toc-item-num\">3.3&nbsp;&nbsp;</span>Оверсемплинг - SMOTE, ADASYN, Borderline SMOTE</a></span><ul class=\"toc-item\"><li><span><a href=\"#SMOTE\" data-toc-modified-id=\"SMOTE-3.3.1\"><span class=\"toc-item-num\">3.3.1&nbsp;&nbsp;</span>SMOTE</a></span></li><li><span><a href=\"#ADASYN\" data-toc-modified-id=\"ADASYN-3.3.2\"><span class=\"toc-item-num\">3.3.2&nbsp;&nbsp;</span>ADASYN</a></span></li><li><span><a href=\"#Borderline-SMOTE\" data-toc-modified-id=\"Borderline-SMOTE-3.3.3\"><span class=\"toc-item-num\">3.3.3&nbsp;&nbsp;</span>Borderline SMOTE</a></span></li></ul></li><li><span><a href=\"#Вывод-по-модели-случайного-леса-с-учётом-дисбаланса\" data-toc-modified-id=\"Вывод-по-модели-случайного-леса-с-учётом-дисбаланса-3.4\"><span class=\"toc-item-num\">3.4&nbsp;&nbsp;</span>Вывод по модели случайного леса с учётом дисбаланса</a></span></li></ul></li><li><span><a href=\"#Тестирование-модели\" data-toc-modified-id=\"Тестирование-модели-4\"><span class=\"toc-item-num\">4&nbsp;&nbsp;</span>Тестирование модели</a></span></li><li><span><a href=\"#Общий-вывод\" data-toc-modified-id=\"Общий-вывод-5\"><span class=\"toc-item-num\">5&nbsp;&nbsp;</span>Общий вывод</a></span></li><li><span><a href=\"#Чек-лист-готовности-проекта\" data-toc-modified-id=\"Чек-лист-готовности-проекта-6\"><span class=\"toc-item-num\">6&nbsp;&nbsp;</span>Чек-лист готовности проекта</a></span></li></ul></div>"
   ]
  },
  {
   "cell_type": "markdown",
   "metadata": {},
   "source": [
    "# Отток клиентов"
   ]
  },
  {
   "cell_type": "markdown",
   "metadata": {},
   "source": [
    "Из «Бета-Банка» стали уходить клиенты. Каждый месяц. Немного, но заметно. Банковские маркетологи посчитали: сохранять текущих клиентов дешевле, чем привлекать новых.\n",
    "\n",
    "Нужно спрогнозировать, уйдёт клиент из банка в ближайшее время или нет. Вам предоставлены исторические данные о поведении клиентов и расторжении договоров с банком. \n",
    "\n",
    "Постройте модель с предельно большим значением *F1*-меры. Чтобы сдать проект успешно, нужно довести метрику до 0.59. Проверьте *F1*-меру на тестовой выборке самостоятельно.\n",
    "\n",
    "Дополнительно измеряйте *AUC-ROC*, сравнивайте её значение с *F1*-мерой.\n",
    "\n",
    "Источник данных: [https://www.kaggle.com/barelydedicated/bank-customer-churn-modeling](https://www.kaggle.com/barelydedicated/bank-customer-churn-modeling)"
   ]
  },
  {
   "cell_type": "markdown",
   "metadata": {},
   "source": [
    "<div class=\"alert alert-success\" style=\"border-color: green; border-radius: 5px\">\n",
    "    <p><u><b>✅ КОММЕНТАРИЙ РЕВЬЮЕРА v.1</b></u></p>\n",
    "    <p>Содержание и формулировка задачи на месте. Отлично!</p>\n",
    "</div>"
   ]
  },
  {
   "cell_type": "markdown",
   "metadata": {},
   "source": [
    "## Подготовка данных"
   ]
  },
  {
   "cell_type": "code",
   "execution_count": 4,
   "metadata": {},
   "outputs": [
    {
     "name": "stdout",
     "output_type": "stream",
     "text": [
      "Requirement already satisfied: imblearn in /home/jovyan/.local/lib/python3.9/site-packages (0.0)\n",
      "Requirement already satisfied: imbalanced-learn in /home/jovyan/.local/lib/python3.9/site-packages (from imblearn) (0.9.1)\n",
      "Requirement already satisfied: threadpoolctl>=2.0.0 in /opt/conda/lib/python3.9/site-packages (from imbalanced-learn->imblearn) (3.1.0)\n",
      "Requirement already satisfied: scipy>=1.3.2 in /opt/conda/lib/python3.9/site-packages (from imbalanced-learn->imblearn) (1.9.1)\n",
      "Requirement already satisfied: joblib>=1.0.0 in /opt/conda/lib/python3.9/site-packages (from imbalanced-learn->imblearn) (1.1.0)\n",
      "Requirement already satisfied: numpy>=1.17.3 in /opt/conda/lib/python3.9/site-packages (from imbalanced-learn->imblearn) (1.21.1)\n",
      "Requirement already satisfied: scikit-learn>=1.1.0 in /home/jovyan/.local/lib/python3.9/site-packages (from imbalanced-learn->imblearn) (1.1.2)\n"
     ]
    }
   ],
   "source": [
    "!pip install -U imblearn --user"
   ]
  },
  {
   "cell_type": "code",
   "execution_count": 1,
   "metadata": {},
   "outputs": [],
   "source": [
    "import pandas as pd\n",
    "from matplotlib import pyplot as plt\n",
    "import numpy as np\n",
    "import seaborn as sns\n",
    "\n",
    "from sklearn.tree import DecisionTreeClassifier\n",
    "from sklearn.ensemble import RandomForestClassifier\n",
    "from sklearn.linear_model import LogisticRegression\n",
    "from sklearn.preprocessing import StandardScaler, MinMaxScaler, OrdinalEncoder\n",
    "\n",
    "from sklearn.model_selection import train_test_split, GridSearchCV, StratifiedKFold\n",
    "from sklearn.dummy import DummyClassifier\n",
    "from sklearn.metrics import precision_score, recall_score, roc_auc_score, f1_score, confusion_matrix, roc_curve\n",
    "from sklearn.utils import shuffle"
   ]
  },
  {
   "cell_type": "code",
   "execution_count": 3,
   "metadata": {},
   "outputs": [],
   "source": [
    "from imblearn.pipeline import Pipeline\n",
    "from imblearn.over_sampling import ADASYN\n",
    "from imblearn.over_sampling import SMOTE\n",
    "from imblearn.over_sampling import BorderlineSMOTE"
   ]
  },
  {
   "cell_type": "code",
   "execution_count": 4,
   "metadata": {},
   "outputs": [],
   "source": [
    "pd.options.mode.chained_assignment = None"
   ]
  },
  {
   "cell_type": "markdown",
   "metadata": {},
   "source": [
    "<div class=\"alert alert-success\" style=\"border-color: green; border-radius: 5px\">\n",
    "    <p><u><b>✅ КОММЕНТАРИЙ РЕВЬЮЕРА v.1</b></u></p>\n",
    "    <p>Хорошо, что импортируешь нужные библиотеки на первом этапе. Так те, кто будет запускать твой проект в будущем сразу будут знать, какие библиотеки необходимо установить.</p>"
   ]
  },
  {
   "cell_type": "code",
   "execution_count": 5,
   "metadata": {},
   "outputs": [
    {
     "name": "stdout",
     "output_type": "stream",
     "text": [
      "<class 'pandas.core.frame.DataFrame'>\n",
      "RangeIndex: 10000 entries, 0 to 9999\n",
      "Data columns (total 14 columns):\n",
      " #   Column           Non-Null Count  Dtype  \n",
      "---  ------           --------------  -----  \n",
      " 0   RowNumber        10000 non-null  int64  \n",
      " 1   CustomerId       10000 non-null  int64  \n",
      " 2   Surname          10000 non-null  object \n",
      " 3   CreditScore      10000 non-null  int64  \n",
      " 4   Geography        10000 non-null  object \n",
      " 5   Gender           10000 non-null  object \n",
      " 6   Age              10000 non-null  int64  \n",
      " 7   Tenure           9091 non-null   float64\n",
      " 8   Balance          10000 non-null  float64\n",
      " 9   NumOfProducts    10000 non-null  int64  \n",
      " 10  HasCrCard        10000 non-null  int64  \n",
      " 11  IsActiveMember   10000 non-null  int64  \n",
      " 12  EstimatedSalary  10000 non-null  float64\n",
      " 13  Exited           10000 non-null  int64  \n",
      "dtypes: float64(3), int64(8), object(3)\n",
      "memory usage: 1.1+ MB\n"
     ]
    },
    {
     "data": {
      "text/plain": [
       "None"
      ]
     },
     "metadata": {},
     "output_type": "display_data"
    },
    {
     "data": {
      "text/plain": [
       "0    7963\n",
       "1    2037\n",
       "Name: Exited, dtype: int64"
      ]
     },
     "metadata": {},
     "output_type": "display_data"
    },
    {
     "data": {
      "text/html": [
       "<div>\n",
       "<style scoped>\n",
       "    .dataframe tbody tr th:only-of-type {\n",
       "        vertical-align: middle;\n",
       "    }\n",
       "\n",
       "    .dataframe tbody tr th {\n",
       "        vertical-align: top;\n",
       "    }\n",
       "\n",
       "    .dataframe thead th {\n",
       "        text-align: right;\n",
       "    }\n",
       "</style>\n",
       "<table border=\"1\" class=\"dataframe\">\n",
       "  <thead>\n",
       "    <tr style=\"text-align: right;\">\n",
       "      <th></th>\n",
       "      <th>RowNumber</th>\n",
       "      <th>CustomerId</th>\n",
       "      <th>CreditScore</th>\n",
       "      <th>Age</th>\n",
       "      <th>Tenure</th>\n",
       "      <th>Balance</th>\n",
       "      <th>NumOfProducts</th>\n",
       "      <th>HasCrCard</th>\n",
       "      <th>IsActiveMember</th>\n",
       "      <th>EstimatedSalary</th>\n",
       "      <th>Exited</th>\n",
       "    </tr>\n",
       "  </thead>\n",
       "  <tbody>\n",
       "    <tr>\n",
       "      <th>count</th>\n",
       "      <td>10000.00000</td>\n",
       "      <td>1.000000e+04</td>\n",
       "      <td>10000.000000</td>\n",
       "      <td>10000.000000</td>\n",
       "      <td>9091.000000</td>\n",
       "      <td>10000.000000</td>\n",
       "      <td>10000.000000</td>\n",
       "      <td>10000.00000</td>\n",
       "      <td>10000.000000</td>\n",
       "      <td>10000.000000</td>\n",
       "      <td>10000.000000</td>\n",
       "    </tr>\n",
       "    <tr>\n",
       "      <th>mean</th>\n",
       "      <td>5000.50000</td>\n",
       "      <td>1.569094e+07</td>\n",
       "      <td>650.528800</td>\n",
       "      <td>38.921800</td>\n",
       "      <td>4.997690</td>\n",
       "      <td>76485.889288</td>\n",
       "      <td>1.530200</td>\n",
       "      <td>0.70550</td>\n",
       "      <td>0.515100</td>\n",
       "      <td>100090.239881</td>\n",
       "      <td>0.203700</td>\n",
       "    </tr>\n",
       "    <tr>\n",
       "      <th>std</th>\n",
       "      <td>2886.89568</td>\n",
       "      <td>7.193619e+04</td>\n",
       "      <td>96.653299</td>\n",
       "      <td>10.487806</td>\n",
       "      <td>2.894723</td>\n",
       "      <td>62397.405202</td>\n",
       "      <td>0.581654</td>\n",
       "      <td>0.45584</td>\n",
       "      <td>0.499797</td>\n",
       "      <td>57510.492818</td>\n",
       "      <td>0.402769</td>\n",
       "    </tr>\n",
       "    <tr>\n",
       "      <th>min</th>\n",
       "      <td>1.00000</td>\n",
       "      <td>1.556570e+07</td>\n",
       "      <td>350.000000</td>\n",
       "      <td>18.000000</td>\n",
       "      <td>0.000000</td>\n",
       "      <td>0.000000</td>\n",
       "      <td>1.000000</td>\n",
       "      <td>0.00000</td>\n",
       "      <td>0.000000</td>\n",
       "      <td>11.580000</td>\n",
       "      <td>0.000000</td>\n",
       "    </tr>\n",
       "    <tr>\n",
       "      <th>25%</th>\n",
       "      <td>2500.75000</td>\n",
       "      <td>1.562853e+07</td>\n",
       "      <td>584.000000</td>\n",
       "      <td>32.000000</td>\n",
       "      <td>2.000000</td>\n",
       "      <td>0.000000</td>\n",
       "      <td>1.000000</td>\n",
       "      <td>0.00000</td>\n",
       "      <td>0.000000</td>\n",
       "      <td>51002.110000</td>\n",
       "      <td>0.000000</td>\n",
       "    </tr>\n",
       "    <tr>\n",
       "      <th>50%</th>\n",
       "      <td>5000.50000</td>\n",
       "      <td>1.569074e+07</td>\n",
       "      <td>652.000000</td>\n",
       "      <td>37.000000</td>\n",
       "      <td>5.000000</td>\n",
       "      <td>97198.540000</td>\n",
       "      <td>1.000000</td>\n",
       "      <td>1.00000</td>\n",
       "      <td>1.000000</td>\n",
       "      <td>100193.915000</td>\n",
       "      <td>0.000000</td>\n",
       "    </tr>\n",
       "    <tr>\n",
       "      <th>75%</th>\n",
       "      <td>7500.25000</td>\n",
       "      <td>1.575323e+07</td>\n",
       "      <td>718.000000</td>\n",
       "      <td>44.000000</td>\n",
       "      <td>7.000000</td>\n",
       "      <td>127644.240000</td>\n",
       "      <td>2.000000</td>\n",
       "      <td>1.00000</td>\n",
       "      <td>1.000000</td>\n",
       "      <td>149388.247500</td>\n",
       "      <td>0.000000</td>\n",
       "    </tr>\n",
       "    <tr>\n",
       "      <th>max</th>\n",
       "      <td>10000.00000</td>\n",
       "      <td>1.581569e+07</td>\n",
       "      <td>850.000000</td>\n",
       "      <td>92.000000</td>\n",
       "      <td>10.000000</td>\n",
       "      <td>250898.090000</td>\n",
       "      <td>4.000000</td>\n",
       "      <td>1.00000</td>\n",
       "      <td>1.000000</td>\n",
       "      <td>199992.480000</td>\n",
       "      <td>1.000000</td>\n",
       "    </tr>\n",
       "  </tbody>\n",
       "</table>\n",
       "</div>"
      ],
      "text/plain": [
       "         RowNumber    CustomerId   CreditScore           Age       Tenure  \\\n",
       "count  10000.00000  1.000000e+04  10000.000000  10000.000000  9091.000000   \n",
       "mean    5000.50000  1.569094e+07    650.528800     38.921800     4.997690   \n",
       "std     2886.89568  7.193619e+04     96.653299     10.487806     2.894723   \n",
       "min        1.00000  1.556570e+07    350.000000     18.000000     0.000000   \n",
       "25%     2500.75000  1.562853e+07    584.000000     32.000000     2.000000   \n",
       "50%     5000.50000  1.569074e+07    652.000000     37.000000     5.000000   \n",
       "75%     7500.25000  1.575323e+07    718.000000     44.000000     7.000000   \n",
       "max    10000.00000  1.581569e+07    850.000000     92.000000    10.000000   \n",
       "\n",
       "             Balance  NumOfProducts    HasCrCard  IsActiveMember  \\\n",
       "count   10000.000000   10000.000000  10000.00000    10000.000000   \n",
       "mean    76485.889288       1.530200      0.70550        0.515100   \n",
       "std     62397.405202       0.581654      0.45584        0.499797   \n",
       "min         0.000000       1.000000      0.00000        0.000000   \n",
       "25%         0.000000       1.000000      0.00000        0.000000   \n",
       "50%     97198.540000       1.000000      1.00000        1.000000   \n",
       "75%    127644.240000       2.000000      1.00000        1.000000   \n",
       "max    250898.090000       4.000000      1.00000        1.000000   \n",
       "\n",
       "       EstimatedSalary        Exited  \n",
       "count     10000.000000  10000.000000  \n",
       "mean     100090.239881      0.203700  \n",
       "std       57510.492818      0.402769  \n",
       "min          11.580000      0.000000  \n",
       "25%       51002.110000      0.000000  \n",
       "50%      100193.915000      0.000000  \n",
       "75%      149388.247500      0.000000  \n",
       "max      199992.480000      1.000000  "
      ]
     },
     "metadata": {},
     "output_type": "display_data"
    },
    {
     "data": {
      "text/html": [
       "<div>\n",
       "<style scoped>\n",
       "    .dataframe tbody tr th:only-of-type {\n",
       "        vertical-align: middle;\n",
       "    }\n",
       "\n",
       "    .dataframe tbody tr th {\n",
       "        vertical-align: top;\n",
       "    }\n",
       "\n",
       "    .dataframe thead th {\n",
       "        text-align: right;\n",
       "    }\n",
       "</style>\n",
       "<table border=\"1\" class=\"dataframe\">\n",
       "  <thead>\n",
       "    <tr style=\"text-align: right;\">\n",
       "      <th></th>\n",
       "      <th>RowNumber</th>\n",
       "      <th>CustomerId</th>\n",
       "      <th>Surname</th>\n",
       "      <th>CreditScore</th>\n",
       "      <th>Geography</th>\n",
       "      <th>Gender</th>\n",
       "      <th>Age</th>\n",
       "      <th>Tenure</th>\n",
       "      <th>Balance</th>\n",
       "      <th>NumOfProducts</th>\n",
       "      <th>HasCrCard</th>\n",
       "      <th>IsActiveMember</th>\n",
       "      <th>EstimatedSalary</th>\n",
       "      <th>Exited</th>\n",
       "    </tr>\n",
       "  </thead>\n",
       "  <tbody>\n",
       "    <tr>\n",
       "      <th>0</th>\n",
       "      <td>1</td>\n",
       "      <td>15634602</td>\n",
       "      <td>Hargrave</td>\n",
       "      <td>619</td>\n",
       "      <td>France</td>\n",
       "      <td>Female</td>\n",
       "      <td>42</td>\n",
       "      <td>2.0</td>\n",
       "      <td>0.00</td>\n",
       "      <td>1</td>\n",
       "      <td>1</td>\n",
       "      <td>1</td>\n",
       "      <td>101348.88</td>\n",
       "      <td>1</td>\n",
       "    </tr>\n",
       "    <tr>\n",
       "      <th>1</th>\n",
       "      <td>2</td>\n",
       "      <td>15647311</td>\n",
       "      <td>Hill</td>\n",
       "      <td>608</td>\n",
       "      <td>Spain</td>\n",
       "      <td>Female</td>\n",
       "      <td>41</td>\n",
       "      <td>1.0</td>\n",
       "      <td>83807.86</td>\n",
       "      <td>1</td>\n",
       "      <td>0</td>\n",
       "      <td>1</td>\n",
       "      <td>112542.58</td>\n",
       "      <td>0</td>\n",
       "    </tr>\n",
       "    <tr>\n",
       "      <th>2</th>\n",
       "      <td>3</td>\n",
       "      <td>15619304</td>\n",
       "      <td>Onio</td>\n",
       "      <td>502</td>\n",
       "      <td>France</td>\n",
       "      <td>Female</td>\n",
       "      <td>42</td>\n",
       "      <td>8.0</td>\n",
       "      <td>159660.80</td>\n",
       "      <td>3</td>\n",
       "      <td>1</td>\n",
       "      <td>0</td>\n",
       "      <td>113931.57</td>\n",
       "      <td>1</td>\n",
       "    </tr>\n",
       "    <tr>\n",
       "      <th>3</th>\n",
       "      <td>4</td>\n",
       "      <td>15701354</td>\n",
       "      <td>Boni</td>\n",
       "      <td>699</td>\n",
       "      <td>France</td>\n",
       "      <td>Female</td>\n",
       "      <td>39</td>\n",
       "      <td>1.0</td>\n",
       "      <td>0.00</td>\n",
       "      <td>2</td>\n",
       "      <td>0</td>\n",
       "      <td>0</td>\n",
       "      <td>93826.63</td>\n",
       "      <td>0</td>\n",
       "    </tr>\n",
       "    <tr>\n",
       "      <th>4</th>\n",
       "      <td>5</td>\n",
       "      <td>15737888</td>\n",
       "      <td>Mitchell</td>\n",
       "      <td>850</td>\n",
       "      <td>Spain</td>\n",
       "      <td>Female</td>\n",
       "      <td>43</td>\n",
       "      <td>2.0</td>\n",
       "      <td>125510.82</td>\n",
       "      <td>1</td>\n",
       "      <td>1</td>\n",
       "      <td>1</td>\n",
       "      <td>79084.10</td>\n",
       "      <td>0</td>\n",
       "    </tr>\n",
       "  </tbody>\n",
       "</table>\n",
       "</div>"
      ],
      "text/plain": [
       "   RowNumber  CustomerId   Surname  CreditScore Geography  Gender  Age  \\\n",
       "0          1    15634602  Hargrave          619    France  Female   42   \n",
       "1          2    15647311      Hill          608     Spain  Female   41   \n",
       "2          3    15619304      Onio          502    France  Female   42   \n",
       "3          4    15701354      Boni          699    France  Female   39   \n",
       "4          5    15737888  Mitchell          850     Spain  Female   43   \n",
       "\n",
       "   Tenure    Balance  NumOfProducts  HasCrCard  IsActiveMember  \\\n",
       "0     2.0       0.00              1          1               1   \n",
       "1     1.0   83807.86              1          0               1   \n",
       "2     8.0  159660.80              3          1               0   \n",
       "3     1.0       0.00              2          0               0   \n",
       "4     2.0  125510.82              1          1               1   \n",
       "\n",
       "   EstimatedSalary  Exited  \n",
       "0        101348.88       1  \n",
       "1        112542.58       0  \n",
       "2        113931.57       1  \n",
       "3         93826.63       0  \n",
       "4         79084.10       0  "
      ]
     },
     "metadata": {},
     "output_type": "display_data"
    }
   ],
   "source": [
    "data = pd.read_csv('/datasets/Churn.csv')\n",
    "display(data.info())\n",
    "display(data['Exited'].value_counts())\n",
    "display(data.describe())\n",
    "display(data.head())"
   ]
  },
  {
   "cell_type": "markdown",
   "metadata": {},
   "source": [
    "<div class=\"alert alert-warning\" style=\"border-color: orange; border-radius: 5px\">\n",
    "    <p><u><b>⚠️ КОММЕНТАРИЙ РЕВЬЮЕРА v.1</b></u></p>\n",
    "    <p>Данные загружены, отлично.</p>\n",
    "    <p>Хорошо, что применяешь метод <code>.head()</code> таким образом мы можем визуально оценить структуру датасета.</p>\n",
    "    <p>Метод <code>.info()</code> обязателен к применению в таких задачах. И он на месте!</p>\n",
    "    <p><b>Что можно улучшить.</b></p>\n",
    "    <p>Дополнительно можешь применить метод <code>.describe()</code>, в совокупности с <code>.info()</code> и <code>.head()</code> можно получить первые инсайты из данных.</p>\n",
    "    <p>По итогам оценки распределения ушедших пользователей сделать вывод, что наблюдается явный дисбаланс классов.</p>\n",
    "</div>"
   ]
  },
  {
   "cell_type": "markdown",
   "metadata": {},
   "source": [
    "<div class=\"alert alert-info\" style=\"border-color: #0080FF; border-radius: 5px\">\n",
    "    <p><u><b>КОММЕНТАРИЙ СТУДЕНТА</b></u></p>\n",
    "    <p>Добавил в первичный анализ .describe()</p>     \n",
    "</div>"
   ]
  },
  {
   "cell_type": "markdown",
   "metadata": {},
   "source": [
    "<div class=\"alert alert-success\" style=\"border-color: green; border-radius: 5px\">\n",
    "    <p><u><b>✅ КОММЕНТАРИЙ РЕВЬЮЕРА v.2</b></u></p>\n",
    "    <p>Исправление \"желтых\" комментариев - хорошая примета!</p>\n",
    "</div>"
   ]
  },
  {
   "cell_type": "markdown",
   "metadata": {},
   "source": [
    "По первичной оценке видно преобладание класса 0 в целевом столбце 'Exited' и наличие пропусков в столбце 'Tenure'."
   ]
  },
  {
   "cell_type": "markdown",
   "metadata": {},
   "source": [
    "В столбце 'Tenure' есть пропуски, которые скорее всего есть у новых клиентов - заполним пропуски в этом столбце значением 0."
   ]
  },
  {
   "cell_type": "code",
   "execution_count": 6,
   "metadata": {
    "scrolled": false
   },
   "outputs": [
    {
     "data": {
      "text/plain": [
       "1.0     952\n",
       "2.0     950\n",
       "8.0     933\n",
       "3.0     928\n",
       "5.0     927\n",
       "7.0     925\n",
       "4.0     885\n",
       "9.0     882\n",
       "6.0     881\n",
       "10.0    446\n",
       "0.0     382\n",
       "Name: Tenure, dtype: int64"
      ]
     },
     "metadata": {},
     "output_type": "display_data"
    },
    {
     "name": "stdout",
     "output_type": "stream",
     "text": [
      "<class 'pandas.core.frame.DataFrame'>\n",
      "RangeIndex: 10000 entries, 0 to 9999\n",
      "Data columns (total 14 columns):\n",
      " #   Column           Non-Null Count  Dtype  \n",
      "---  ------           --------------  -----  \n",
      " 0   RowNumber        10000 non-null  int64  \n",
      " 1   CustomerId       10000 non-null  int64  \n",
      " 2   Surname          10000 non-null  object \n",
      " 3   CreditScore      10000 non-null  int64  \n",
      " 4   Geography        10000 non-null  object \n",
      " 5   Gender           10000 non-null  object \n",
      " 6   Age              10000 non-null  int64  \n",
      " 7   Tenure           10000 non-null  float64\n",
      " 8   Balance          10000 non-null  float64\n",
      " 9   NumOfProducts    10000 non-null  int64  \n",
      " 10  HasCrCard        10000 non-null  int64  \n",
      " 11  IsActiveMember   10000 non-null  int64  \n",
      " 12  EstimatedSalary  10000 non-null  float64\n",
      " 13  Exited           10000 non-null  int64  \n",
      "dtypes: float64(3), int64(8), object(3)\n",
      "memory usage: 1.1+ MB\n"
     ]
    }
   ],
   "source": [
    "display(data['Tenure'].value_counts()) #скорее всего пропуски были у новых клиентов\n",
    "data['Tenure'] = data['Tenure'].fillna(0.0) #соответственно их срок в банке - 0 лет, не будем терять 1/10 строк\n",
    "#check\n",
    "data.info()"
   ]
  },
  {
   "cell_type": "markdown",
   "metadata": {},
   "source": [
    "<div class=\"alert alert-success\" style=\"border-color: green; border-radius: 5px\">\n",
    "    <p><u><b>✅ КОММЕНТАРИЙ РЕВЬЮЕРА v.2</b></u></p>\n",
    "    <p>Ты выбрал один из лучших вариантов для заполнения пропусков в данном случае. Также можно было заполнить \\ медианным значением.</p>\n",
    "    <p>К заполнению пропусков можно вернуться после получения результатов работы моделей и попробовать другие варианты.</p>\n",
    "    <p>А в реальной жизни с этим вопросом можно обратиться к коллегам, чтобы уточнить причины возникновения пропущенных значений.</p>\n",
    "</div>"
   ]
  },
  {
   "cell_type": "markdown",
   "metadata": {},
   "source": [
    "Логически, столбцы RowNumber, CustomerId и Surname не влияют на уход клиента из банка - никто не уходит основываясь на том, какой номер занимает их запись в базе данных, какой номер присвоил им банк или из-за своей фамилии."
   ]
  },
  {
   "cell_type": "code",
   "execution_count": 7,
   "metadata": {
    "scrolled": true
   },
   "outputs": [
    {
     "name": "stdout",
     "output_type": "stream",
     "text": [
      "<class 'pandas.core.frame.DataFrame'>\n",
      "RangeIndex: 10000 entries, 0 to 9999\n",
      "Data columns (total 11 columns):\n",
      " #   Column           Non-Null Count  Dtype  \n",
      "---  ------           --------------  -----  \n",
      " 0   CreditScore      10000 non-null  int64  \n",
      " 1   Geography        10000 non-null  object \n",
      " 2   Gender           10000 non-null  object \n",
      " 3   Age              10000 non-null  int64  \n",
      " 4   Tenure           10000 non-null  float64\n",
      " 5   Balance          10000 non-null  float64\n",
      " 6   NumOfProducts    10000 non-null  int64  \n",
      " 7   HasCrCard        10000 non-null  int64  \n",
      " 8   IsActiveMember   10000 non-null  int64  \n",
      " 9   EstimatedSalary  10000 non-null  float64\n",
      " 10  Exited           10000 non-null  int64  \n",
      "dtypes: float64(3), int64(6), object(2)\n",
      "memory usage: 859.5+ KB\n"
     ]
    }
   ],
   "source": [
    "#от столбцов RowNumber, CustomerId и Surname будет уходить клиент или нет не зависит\n",
    "#никто не уходит основываясь на том, какой номер занимает их запись в базе данных, какой номер присвоил им банк\n",
    "#или из-за своей фамилии\n",
    "\n",
    "data = data.loc[:, ~data.columns.isin([\"RowNumber\", \"CustomerId\", \"Surname\"])]\n",
    "#check\n",
    "data.info()"
   ]
  },
  {
   "cell_type": "markdown",
   "metadata": {},
   "source": [
    "<div class=\"alert alert-success\" style=\"border-color: green; border-radius: 5px\">\n",
    "    <p><u><b>✅ КОММЕНТАРИЙ РЕВЬЮЕРА v.1</b></u></p>\n",
    "    <p>Столбцы для удаления выбраны верно. Молодец!</p>"
   ]
  },
  {
   "cell_type": "markdown",
   "metadata": {},
   "source": [
    "Столбцы Geography и Gender - категориальные. Преобразуем их с помощью OHE."
   ]
  },
  {
   "cell_type": "code",
   "execution_count": 8,
   "metadata": {
    "scrolled": true
   },
   "outputs": [
    {
     "name": "stdout",
     "output_type": "stream",
     "text": [
      "<class 'pandas.core.frame.DataFrame'>\n",
      "RangeIndex: 10000 entries, 0 to 9999\n",
      "Data columns (total 12 columns):\n",
      " #   Column             Non-Null Count  Dtype  \n",
      "---  ------             --------------  -----  \n",
      " 0   CreditScore        10000 non-null  int64  \n",
      " 1   Age                10000 non-null  int64  \n",
      " 2   Tenure             10000 non-null  float64\n",
      " 3   Balance            10000 non-null  float64\n",
      " 4   NumOfProducts      10000 non-null  int64  \n",
      " 5   HasCrCard          10000 non-null  int64  \n",
      " 6   IsActiveMember     10000 non-null  int64  \n",
      " 7   EstimatedSalary    10000 non-null  float64\n",
      " 8   Exited             10000 non-null  int64  \n",
      " 9   Geography_Germany  10000 non-null  uint8  \n",
      " 10  Geography_Spain    10000 non-null  uint8  \n",
      " 11  Gender_Male        10000 non-null  uint8  \n",
      "dtypes: float64(3), int64(6), uint8(3)\n",
      "memory usage: 732.5 KB\n"
     ]
    }
   ],
   "source": [
    "#Столбцы Geography и Gender преобразуем с помощью OHE\n",
    "data_ohe = pd.get_dummies(data, drop_first=True)\n",
    "#check\n",
    "data_ohe.info()"
   ]
  },
  {
   "cell_type": "markdown",
   "metadata": {},
   "source": [
    "<div class=\"alert alert-success\" style=\"border-color: green; border-radius: 5px\">\n",
    "    <p><u><b>✅ КОММЕНТАРИЙ РЕВЬЮЕРА v.1</b></u></p>\n",
    "    <p>Категориальные признаки закодированы верно. Хорошо, то проверяешь результаты работы методом <code>.info()</code>.</p>"
   ]
  },
  {
   "cell_type": "markdown",
   "metadata": {},
   "source": [
    "По смыслу столбца 'Tenure' в нём могут находиться только целые числа - переведём этот столбец в int64."
   ]
  },
  {
   "cell_type": "code",
   "execution_count": 9,
   "metadata": {},
   "outputs": [
    {
     "data": {
      "text/plain": [
       "0.0     1291\n",
       "1.0      952\n",
       "2.0      950\n",
       "8.0      933\n",
       "3.0      928\n",
       "5.0      927\n",
       "7.0      925\n",
       "4.0      885\n",
       "9.0      882\n",
       "6.0      881\n",
       "10.0     446\n",
       "Name: Tenure, dtype: int64"
      ]
     },
     "metadata": {},
     "output_type": "display_data"
    },
    {
     "name": "stdout",
     "output_type": "stream",
     "text": [
      "<class 'pandas.core.frame.DataFrame'>\n",
      "RangeIndex: 10000 entries, 0 to 9999\n",
      "Data columns (total 12 columns):\n",
      " #   Column             Non-Null Count  Dtype  \n",
      "---  ------             --------------  -----  \n",
      " 0   CreditScore        10000 non-null  int64  \n",
      " 1   Age                10000 non-null  int64  \n",
      " 2   Tenure             10000 non-null  int64  \n",
      " 3   Balance            10000 non-null  float64\n",
      " 4   NumOfProducts      10000 non-null  int64  \n",
      " 5   HasCrCard          10000 non-null  int64  \n",
      " 6   IsActiveMember     10000 non-null  int64  \n",
      " 7   EstimatedSalary    10000 non-null  float64\n",
      " 8   Exited             10000 non-null  int64  \n",
      " 9   Geography_Germany  10000 non-null  uint8  \n",
      " 10  Geography_Spain    10000 non-null  uint8  \n",
      " 11  Gender_Male        10000 non-null  uint8  \n",
      "dtypes: float64(2), int64(7), uint8(3)\n",
      "memory usage: 732.5 KB\n"
     ]
    }
   ],
   "source": [
    "display(data_ohe['Tenure'].value_counts()) #тут только целые года - можно перевести в int64\n",
    "data_ohe['Tenure'] = data_ohe['Tenure'].astype('int64')\n",
    "#check\n",
    "data_ohe.info()"
   ]
  },
  {
   "cell_type": "markdown",
   "metadata": {},
   "source": [
    "<div class=\"alert alert-danger\" style=\"border-color: #8B0000; border-radius: 5px\">\n",
    "    <p><u><b>❌ КОММЕНТАРИЙ РЕВЬЮЕРА v.1</b></u></p>\n",
    "    <p>Давай здесь напишем вывод по анализу данных и их подготовке.</p>\n",
    "</div>"
   ]
  },
  {
   "cell_type": "markdown",
   "metadata": {},
   "source": [
    "<div class=\"alert alert-info\" style=\"border-color: #0080FF; border-radius: 5px\">\n",
    "    <p><u><b>КОММЕНТАРИЙ СТУДЕНТА</b></u></p>\n",
    "    <p>Добавил вывод по первичному анализу и обработке данных</p>     \n",
    "</div>"
   ]
  },
  {
   "cell_type": "markdown",
   "metadata": {},
   "source": [
    "При первичном анализе данных были обнаружены пропуски в столбце 'Tenure' и cильный дисбаланс в целевом столбце 'Exited' - присутствует мажорный класс 0 и минорный класс 1.\n",
    "В ходе подготовки данных были выполнены следующие шаги:\n",
    "* убраны пропуски в данных;\n",
    "* убраны не влиящие на решение столбцы;\n",
    "* проведено прямое кодирование категориальных данных - пола и страны;\n",
    "* изменён тип данных в столбце 'Tenure'."
   ]
  },
  {
   "cell_type": "markdown",
   "metadata": {},
   "source": [
    "<div class=\"alert alert-success\" style=\"border-color: green; border-radius: 5px\">\n",
    "    <p><u><b>✅ КОММЕНТАРИЙ РЕВЬЮЕРА v.2</b></u></p>\n",
    "    <p>Вывод на месте. Отлично!</p>\n",
    "</div>"
   ]
  },
  {
   "cell_type": "markdown",
   "metadata": {},
   "source": [
    "## Исследование задачи"
   ]
  },
  {
   "cell_type": "markdown",
   "metadata": {},
   "source": [
    "Сначала рассмотрим распределение классов в целевом столбце 'Exited' и построим для наглядности график."
   ]
  },
  {
   "cell_type": "code",
   "execution_count": 10,
   "metadata": {
    "scrolled": false
   },
   "outputs": [
    {
     "data": {
      "text/plain": [
       "0    7963\n",
       "1    2037\n",
       "Name: Exited, dtype: int64"
      ]
     },
     "metadata": {},
     "output_type": "display_data"
    },
    {
     "data": {
      "image/png": "[encoded data removed]",
      "text/plain": [
       "<Figure size 432x288 with 1 Axes>"
      ]
     },
     "metadata": {
      "needs_background": "light"
     },
     "output_type": "display_data"
    }
   ],
   "source": [
    "#смотрим распределение целевого признака Exited\n",
    "display(data_ohe['Exited'].value_counts())\n",
    "#также построим график для наглядности\n",
    "data_ohe['Exited'].value_counts(normalize=True).plot(kind='bar')\n",
    "plt.xlabel('Exited')\n",
    "plt.ylabel('Quantity');\n",
    "#классы целевого признака не сбалансированны - из банка ушло 20% клиентов, т.е. в 4 раза меньше чем осталось\n",
    "#прежде всего, попробуем создать модели без учёта дисбаланса целевого признака"
   ]
  },
  {
   "cell_type": "markdown",
   "metadata": {},
   "source": [
    "<div class=\"alert alert-warning\" style=\"border-color: orange; border-radius: 5px\">\n",
    "    <p><u><b>⚠️ КОММЕНТАРИЙ РЕВЬЮЕРА v.1</b></u></p>\n",
    "    <p>Молодец, что проверил баланс классов.</p>\n",
    "    <p>Давай напишем код исследования баланса следующим образом <code>data_ohe['Exited'].value_counts(normalize=True)</code> так мы сразу увидим дисбаланс в долях для обеих классов.</p>\n",
    "</div>"
   ]
  },
  {
   "cell_type": "markdown",
   "metadata": {},
   "source": [
    "<div class=\"alert alert-info\" style=\"border-color: #0080FF; border-radius: 5px\">\n",
    "    <p><u><b>КОММЕНТАРИЙ СТУДЕНТА</b></u></p>\n",
    "    <p>Добавил параметр normalize=True</p>     \n",
    "</div>"
   ]
  },
  {
   "cell_type": "markdown",
   "metadata": {},
   "source": [
    "<div class=\"alert alert-success\" style=\"border-color: green; border-radius: 5px\">\n",
    "    <p><u><b>✅ КОММЕНТАРИЙ РЕВЬЮЕРА v.2</b></u></p>\n",
    "    <p>👍</p>\n",
    "</div>"
   ]
  },
  {
   "cell_type": "markdown",
   "metadata": {},
   "source": [
    "Классы целевого признака не сбалансированны - из банка ушло (класс 1) 20% клиентов, т.е. в 4 раза меньше чем осталось (класс 0).\n",
    "\n",
    "Прежде всего попробуем создать модели без учёта дисбаланса целевого признака. Для поиска гиперпараметров модели будем использовать GridSearchCV - инструмент для автоматического поиска и подбора гиперпараметров. С его помощью будем определять F1 меру и AUC-ROC для каждого сочетания гиперпараметров, при этом, согласно заданию, приоритетной метрикой будем считать F1 меру.\n",
    "\n",
    "Прежде чем создавать модели - выделим отдельно выборку для подбора гиперпараметров с помощью GridSearchCV и тестовую выборку. \n",
    "* выборка _cv будет использоваться для поиска параметров и для дальнейшей обработки в рамках борьбы с дисбалансом;\n",
    "* выборка _test будет использоваться для финального испытания моделей и затрагиваться в рамках создания моделей не будет.\n",
    "\n",
    "При этом отдельная валидационная выборка для инструмента GridSearchCV не требуется.\n",
    "\n",
    "Также выполним масштабирование данных функцией StandardScaler. Масштабированию будем подвергать столбцы с численными данными, а именно - 'CreditScore', 'Age', 'Balance' и 'EstimatedSalary'. "
   ]
  },
  {
   "cell_type": "code",
   "execution_count": 11,
   "metadata": {},
   "outputs": [
    {
     "data": {
      "text/html": [
       "<div>\n",
       "<style scoped>\n",
       "    .dataframe tbody tr th:only-of-type {\n",
       "        vertical-align: middle;\n",
       "    }\n",
       "\n",
       "    .dataframe tbody tr th {\n",
       "        vertical-align: top;\n",
       "    }\n",
       "\n",
       "    .dataframe thead th {\n",
       "        text-align: right;\n",
       "    }\n",
       "</style>\n",
       "<table border=\"1\" class=\"dataframe\">\n",
       "  <thead>\n",
       "    <tr style=\"text-align: right;\">\n",
       "      <th></th>\n",
       "      <th>CreditScore</th>\n",
       "      <th>Age</th>\n",
       "      <th>Tenure</th>\n",
       "      <th>Balance</th>\n",
       "      <th>NumOfProducts</th>\n",
       "      <th>HasCrCard</th>\n",
       "      <th>IsActiveMember</th>\n",
       "      <th>EstimatedSalary</th>\n",
       "      <th>Geography_Germany</th>\n",
       "      <th>Geography_Spain</th>\n",
       "      <th>Gender_Male</th>\n",
       "    </tr>\n",
       "  </thead>\n",
       "  <tbody>\n",
       "    <tr>\n",
       "      <th>5869</th>\n",
       "      <td>-0.902582</td>\n",
       "      <td>-0.761020</td>\n",
       "      <td>0</td>\n",
       "      <td>0.586543</td>\n",
       "      <td>1</td>\n",
       "      <td>0</td>\n",
       "      <td>1</td>\n",
       "      <td>1.494709</td>\n",
       "      <td>1</td>\n",
       "      <td>0</td>\n",
       "      <td>1</td>\n",
       "    </tr>\n",
       "    <tr>\n",
       "      <th>3507</th>\n",
       "      <td>1.149887</td>\n",
       "      <td>-0.284631</td>\n",
       "      <td>9</td>\n",
       "      <td>0.825841</td>\n",
       "      <td>1</td>\n",
       "      <td>1</td>\n",
       "      <td>1</td>\n",
       "      <td>-0.332756</td>\n",
       "      <td>0</td>\n",
       "      <td>0</td>\n",
       "      <td>1</td>\n",
       "    </tr>\n",
       "    <tr>\n",
       "      <th>2145</th>\n",
       "      <td>-0.170294</td>\n",
       "      <td>-0.570464</td>\n",
       "      <td>4</td>\n",
       "      <td>0.989481</td>\n",
       "      <td>2</td>\n",
       "      <td>1</td>\n",
       "      <td>0</td>\n",
       "      <td>-0.032778</td>\n",
       "      <td>0</td>\n",
       "      <td>1</td>\n",
       "      <td>1</td>\n",
       "    </tr>\n",
       "    <tr>\n",
       "      <th>294</th>\n",
       "      <td>0.324774</td>\n",
       "      <td>-0.094075</td>\n",
       "      <td>3</td>\n",
       "      <td>-1.219979</td>\n",
       "      <td>2</td>\n",
       "      <td>1</td>\n",
       "      <td>1</td>\n",
       "      <td>0.212652</td>\n",
       "      <td>0</td>\n",
       "      <td>0</td>\n",
       "      <td>1</td>\n",
       "    </tr>\n",
       "    <tr>\n",
       "      <th>2745</th>\n",
       "      <td>0.056612</td>\n",
       "      <td>1.239815</td>\n",
       "      <td>9</td>\n",
       "      <td>1.099265</td>\n",
       "      <td>1</td>\n",
       "      <td>1</td>\n",
       "      <td>1</td>\n",
       "      <td>-0.888717</td>\n",
       "      <td>1</td>\n",
       "      <td>0</td>\n",
       "      <td>1</td>\n",
       "    </tr>\n",
       "  </tbody>\n",
       "</table>\n",
       "</div>"
      ],
      "text/plain": [
       "      CreditScore       Age  Tenure   Balance  NumOfProducts  HasCrCard  \\\n",
       "5869    -0.902582 -0.761020       0  0.586543              1          0   \n",
       "3507     1.149887 -0.284631       9  0.825841              1          1   \n",
       "2145    -0.170294 -0.570464       4  0.989481              2          1   \n",
       "294      0.324774 -0.094075       3 -1.219979              2          1   \n",
       "2745     0.056612  1.239815       9  1.099265              1          1   \n",
       "\n",
       "      IsActiveMember  EstimatedSalary  Geography_Germany  Geography_Spain  \\\n",
       "5869               1         1.494709                  1                0   \n",
       "3507               1        -0.332756                  0                0   \n",
       "2145               0        -0.032778                  0                1   \n",
       "294                1         0.212652                  0                0   \n",
       "2745               1        -0.888717                  1                0   \n",
       "\n",
       "      Gender_Male  \n",
       "5869            1  \n",
       "3507            1  \n",
       "2145            1  \n",
       "294             1  \n",
       "2745            1  "
      ]
     },
     "metadata": {},
     "output_type": "display_data"
    },
    {
     "data": {
      "text/html": [
       "<div>\n",
       "<style scoped>\n",
       "    .dataframe tbody tr th:only-of-type {\n",
       "        vertical-align: middle;\n",
       "    }\n",
       "\n",
       "    .dataframe tbody tr th {\n",
       "        vertical-align: top;\n",
       "    }\n",
       "\n",
       "    .dataframe thead th {\n",
       "        text-align: right;\n",
       "    }\n",
       "</style>\n",
       "<table border=\"1\" class=\"dataframe\">\n",
       "  <thead>\n",
       "    <tr style=\"text-align: right;\">\n",
       "      <th></th>\n",
       "      <th>CreditScore</th>\n",
       "      <th>Age</th>\n",
       "      <th>Tenure</th>\n",
       "      <th>Balance</th>\n",
       "      <th>NumOfProducts</th>\n",
       "      <th>HasCrCard</th>\n",
       "      <th>IsActiveMember</th>\n",
       "      <th>EstimatedSalary</th>\n",
       "      <th>Geography_Germany</th>\n",
       "      <th>Geography_Spain</th>\n",
       "      <th>Gender_Male</th>\n",
       "    </tr>\n",
       "  </thead>\n",
       "  <tbody>\n",
       "    <tr>\n",
       "      <th>6414</th>\n",
       "      <td>-0.325003</td>\n",
       "      <td>-1.713799</td>\n",
       "      <td>0</td>\n",
       "      <td>0.794503</td>\n",
       "      <td>1</td>\n",
       "      <td>0</td>\n",
       "      <td>0</td>\n",
       "      <td>-0.737112</td>\n",
       "      <td>0</td>\n",
       "      <td>0</td>\n",
       "      <td>0</td>\n",
       "    </tr>\n",
       "    <tr>\n",
       "      <th>3581</th>\n",
       "      <td>-0.129039</td>\n",
       "      <td>-0.570464</td>\n",
       "      <td>5</td>\n",
       "      <td>-1.219979</td>\n",
       "      <td>2</td>\n",
       "      <td>1</td>\n",
       "      <td>0</td>\n",
       "      <td>0.689099</td>\n",
       "      <td>0</td>\n",
       "      <td>0</td>\n",
       "      <td>1</td>\n",
       "    </tr>\n",
       "    <tr>\n",
       "      <th>6954</th>\n",
       "      <td>-0.397200</td>\n",
       "      <td>-0.094075</td>\n",
       "      <td>0</td>\n",
       "      <td>-1.219979</td>\n",
       "      <td>1</td>\n",
       "      <td>1</td>\n",
       "      <td>1</td>\n",
       "      <td>-0.642708</td>\n",
       "      <td>0</td>\n",
       "      <td>0</td>\n",
       "      <td>1</td>\n",
       "    </tr>\n",
       "    <tr>\n",
       "      <th>6060</th>\n",
       "      <td>1.077689</td>\n",
       "      <td>0.001203</td>\n",
       "      <td>7</td>\n",
       "      <td>1.307556</td>\n",
       "      <td>2</td>\n",
       "      <td>1</td>\n",
       "      <td>0</td>\n",
       "      <td>0.578968</td>\n",
       "      <td>0</td>\n",
       "      <td>1</td>\n",
       "      <td>1</td>\n",
       "    </tr>\n",
       "    <tr>\n",
       "      <th>9638</th>\n",
       "      <td>0.974550</td>\n",
       "      <td>1.049259</td>\n",
       "      <td>1</td>\n",
       "      <td>0.727430</td>\n",
       "      <td>2</td>\n",
       "      <td>0</td>\n",
       "      <td>1</td>\n",
       "      <td>0.101059</td>\n",
       "      <td>1</td>\n",
       "      <td>0</td>\n",
       "      <td>0</td>\n",
       "    </tr>\n",
       "  </tbody>\n",
       "</table>\n",
       "</div>"
      ],
      "text/plain": [
       "      CreditScore       Age  Tenure   Balance  NumOfProducts  HasCrCard  \\\n",
       "6414    -0.325003 -1.713799       0  0.794503              1          0   \n",
       "3581    -0.129039 -0.570464       5 -1.219979              2          1   \n",
       "6954    -0.397200 -0.094075       0 -1.219979              1          1   \n",
       "6060     1.077689  0.001203       7  1.307556              2          1   \n",
       "9638     0.974550  1.049259       1  0.727430              2          0   \n",
       "\n",
       "      IsActiveMember  EstimatedSalary  Geography_Germany  Geography_Spain  \\\n",
       "6414               0        -0.737112                  0                0   \n",
       "3581               0         0.689099                  0                0   \n",
       "6954               1        -0.642708                  0                0   \n",
       "6060               0         0.578968                  0                1   \n",
       "9638               1         0.101059                  1                0   \n",
       "\n",
       "      Gender_Male  \n",
       "6414            0  \n",
       "3581            1  \n",
       "6954            1  \n",
       "6060            1  \n",
       "9638            0  "
      ]
     },
     "metadata": {},
     "output_type": "display_data"
    },
    {
     "name": "stdout",
     "output_type": "stream",
     "text": [
      "Чек разделения на CV и тестовую выборку\n",
      "(8000, 11)\n",
      "(2000, 11)\n",
      "(8000,)\n",
      "(2000,)\n",
      "\n",
      "Чек соблюдения дисбаланса в выборках\n"
     ]
    },
    {
     "data": {
      "image/png": "[encoded data removed]",
      "text/plain": [
       "<Figure size 432x288 with 1 Axes>"
      ]
     },
     "metadata": {
      "needs_background": "light"
     },
     "output_type": "display_data"
    },
    {
     "data": {
      "image/png": "[encoded data removed]",
      "text/plain": [
       "<Figure size 432x288 with 1 Axes>"
      ]
     },
     "metadata": {
      "needs_background": "light"
     },
     "output_type": "display_data"
    },
    {
     "data": {
      "image/png": "[encoded data removed]",
      "text/plain": [
       "<Figure size 432x288 with 1 Axes>"
      ]
     },
     "metadata": {
      "needs_background": "light"
     },
     "output_type": "display_data"
    }
   ],
   "source": [
    "#сначала попробуем получить модель используя GridSearchCV\n",
    "target = data_ohe['Exited']\n",
    "features = data_ohe.drop(['Exited'], axis=1)\n",
    "\n",
    "#выделим тестовую выборку 20% для окончательного тестирования\n",
    "features_cv, features_test, target_cv, target_test = train_test_split(features,\n",
    "                                                                      target,\n",
    "                                                                      test_size=0.2,\n",
    "                                                                      shuffle=True,\n",
    "                                                                      stratify=target,\n",
    "                                                                      random_state=131296)\n",
    "\n",
    "#проводим масштабирование с помощью StandardScaler\n",
    "numeric = ['CreditScore', 'Age', 'Balance', 'EstimatedSalary']\n",
    "scaler = StandardScaler()\n",
    "scaler.fit(features_cv[numeric])\n",
    "features_cv[numeric] = scaler.transform(features_cv[numeric])\n",
    "features_test[numeric] = scaler.transform(features_test[numeric])\n",
    "#check масштабирования\n",
    "display(features_cv.head())\n",
    "display(features_test.head())\n",
    "\n",
    "#check2\n",
    "print('Чек разделения на CV и тестовую выборку')\n",
    "print(features_cv.shape)\n",
    "print(features_test.shape)\n",
    "print(target_cv.shape)\n",
    "print(target_test.shape)\n",
    "#check3\n",
    "print( )\n",
    "print('Чек соблюдения дисбаланса в выборках')\n",
    "data_ohe['Exited'].value_counts(normalize=True).plot(kind='bar')\n",
    "plt.xlabel('Exited')\n",
    "plt.ylabel('Quantity')\n",
    "plt.title('Распределение целевого признака на общей выборке')\n",
    "plt.show();\n",
    "target_cv.value_counts(normalize=True).plot(kind='bar')\n",
    "plt.xlabel('Exited')\n",
    "plt.ylabel('Quantity')\n",
    "plt.title('Распределение целевого признака на CV выборке')\n",
    "plt.show();\n",
    "target_test.value_counts(normalize=True).plot(kind='bar')\n",
    "plt.xlabel('Exited')\n",
    "plt.ylabel('Quantity')\n",
    "plt.title('Распределение целевого признака на тестовой выборке')\n",
    "plt.show();"
   ]
  },
  {
   "cell_type": "markdown",
   "metadata": {},
   "source": [
    "Для дальнейшей работы получили стратифицированные выборки с сохранением дисбаланса идентичного изначальному."
   ]
  },
  {
   "cell_type": "markdown",
   "metadata": {},
   "source": [
    "<div class=\"alert alert-success\" style=\"border-color: green; border-radius: 5px\">\n",
    "    <p><u><b>✅ КОММЕНТАРИЙ РЕВЬЮЕРА v.1</b></u></p>\n",
    "    <p>Разделение на выборки проведено. Отлично, что применяешь стратификацию!</p>\n",
    "</div>"
   ]
  },
  {
   "cell_type": "markdown",
   "metadata": {},
   "source": [
    "<div class=\"alert alert-danger\" style=\"border-color: #8B0000; border-radius: 5px\">\n",
    "    <p><u><b>❌ КОММЕНТАРИЙ РЕВЬЮЕРА v.1</b></u></p>\n",
    "    <p>Родион, давай в этом пункте выполним масштабирование данных, так мы сможем добиться лучшего качества при обучении моделей.Алгоритм такой:</p>\n",
    "    <ol>\n",
    "        <li>Разбиваешь датасет на обучающую и тестовую выборки в нужном соотношении (этот пункт у тебя уже выполнен).</li>\n",
    "        <li>Обучаешь <code>StandardScaler()</code> на обучающей выборке.</li>\n",
    "        <li>Масштабируешь обе выборки.</li>\n",
    "    </ol>\n",
    "</div>"
   ]
  },
  {
   "cell_type": "markdown",
   "metadata": {},
   "source": [
    "<div class=\"alert alert-info\" style=\"border-color: #0080FF; border-radius: 5px\">\n",
    "    <p><u><b>КОММЕНТАРИЙ СТУДЕНТА</b></u></p>\n",
    "    <p>Провёл масштабирование столбцов с числовыми данными, ниже выполняется вариант проекта после масштабирования. Для сравнения, результаты первой итерации проекта без масштабирования (параметры моделей, значения F1 меры и AUC-ROC) будут сохранены в текстовых ячейках под поиском параметров для каждой модели.</p>     \n",
    "</div>"
   ]
  },
  {
   "cell_type": "markdown",
   "metadata": {},
   "source": [
    "<div class=\"alert alert-warning\" style=\"border-color: orange; border-radius: 5px\">\n",
    "    <p><u><b>⚠️ КОММЕНТАРИЙ РЕВЬЮЕРА v.2</b></u></p>\n",
    "    <p>Алгоритмически масштабирование выполнено верно, но в списке numeric не хватает числовых признаков. Как думаешь, каких? Напомню, что масштабируются только числовые небинарные признаки.</p>\n",
    "</div>"
   ]
  },
  {
   "cell_type": "markdown",
   "metadata": {},
   "source": [
    "### Поиск гиперпараметров для моделей без учёта дисбаланса"
   ]
  },
  {
   "cell_type": "markdown",
   "metadata": {},
   "source": [
    "В данном пункте сразу будем проводить подбор гиперпараметров моделей с помощью GridSearchCV и тестирование модели на тестовой выборке - по результатам тестирования будем выбирать модель для дальнейшей доработки."
   ]
  },
  {
   "cell_type": "markdown",
   "metadata": {},
   "source": [
    "#### Дерево решений"
   ]
  },
  {
   "cell_type": "code",
   "execution_count": 12,
   "metadata": {},
   "outputs": [
    {
     "name": "stdout",
     "output_type": "stream",
     "text": [
      "Лучшие подобранные параметры для дерева решений {'max_depth': 7}\n",
      "F1 0.5723968678317436\n",
      "ROC-AUC 0.8318125126407334\n",
      "CPU times: user 3.24 s, sys: 0 ns, total: 3.24 s\n",
      "Wall time: 4.17 s\n"
     ]
    }
   ],
   "source": [
    "%%time\n",
    "clf = DecisionTreeClassifier(random_state=131296) #поиск параметров для дерева решений\n",
    "parametrs = {\n",
    "             'max_depth': range (1,21, 1)\n",
    "            }\n",
    "decision_tree_grid = GridSearchCV(clf, parametrs, cv=5, scoring=['f1', 'roc_auc'], refit='f1')\n",
    "decision_tree_grid.fit(features_cv, target_cv)\n",
    "print(\"Лучшие подобранные параметры для дерева решений\", decision_tree_grid.best_params_)\n",
    "print(\"F1\", decision_tree_grid.best_score_)\n",
    "print(\"ROC-AUC\", decision_tree_grid.cv_results_['mean_test_roc_auc'][decision_tree_grid.best_index_])"
   ]
  },
  {
   "cell_type": "code",
   "execution_count": 13,
   "metadata": {},
   "outputs": [
    {
     "name": "stdout",
     "output_type": "stream",
     "text": [
      "F1 на тестовой выборке 0.5591715976331361\n",
      "ROC-AUC на тестовой выборке 0.822187364560246\n"
     ]
    }
   ],
   "source": [
    "#проверка дерева решений на тестовой выборке\n",
    "predicted_test = decision_tree_grid.predict(features_test)\n",
    "decision_tree_f1_test = f1_score(target_test, predicted_test)\n",
    "print(\"F1 на тестовой выборке\", decision_tree_f1_test)\n",
    "probabilities_test = decision_tree_grid.predict_proba(features_test)\n",
    "probabilities_one_test = probabilities_test[:, 1]\n",
    "decision_tree_auc_roc_test = roc_auc_score(target_test, probabilities_one_test)\n",
    "print(\"ROC-AUC на тестовой выборке\", decision_tree_auc_roc_test)"
   ]
  },
  {
   "cell_type": "markdown",
   "metadata": {},
   "source": [
    "*Результаты первой итерации:*\n",
    "* *{'max_depth': 6}*\n",
    "* *F1 0.5719268644991207*\n",
    "* *ROC-AUC 0.8377372846259787*\n",
    "* *F1 на тестовой выборке 0.544360902255639*\n",
    "* *ROC-AUC на тестовой выборке 0.8303634913804405*"
   ]
  },
  {
   "cell_type": "markdown",
   "metadata": {},
   "source": [
    "#### Случайный лес"
   ]
  },
  {
   "cell_type": "code",
   "execution_count": 14,
   "metadata": {},
   "outputs": [
    {
     "name": "stdout",
     "output_type": "stream",
     "text": [
      "Лучшие подобранные параметры для случайного леса {'max_depth': 19, 'n_estimators': 70}\n",
      "F1 0.5948718760027549\n",
      "ROC-AUC 0.8470071558590403\n",
      "CPU times: user 12min 36s, sys: 4.88 s, total: 12min 41s\n",
      "Wall time: 12min 42s\n"
     ]
    }
   ],
   "source": [
    "%%time\n",
    "clf = RandomForestClassifier(random_state=131296) #поиск параметров для случайного леса\n",
    "parametrs = {'n_estimators': range (10, 160, 10),\n",
    "             'max_depth': range (1,21, 1)\n",
    "            }\n",
    "random_forest_grid = GridSearchCV(clf, parametrs, cv=5, scoring=['f1', 'roc_auc'], refit='f1')\n",
    "random_forest_grid.fit(features_cv, target_cv)\n",
    "print(\"Лучшие подобранные параметры для случайного леса\", random_forest_grid.best_params_)\n",
    "print(\"F1\", random_forest_grid.best_score_)\n",
    "print(\"ROC-AUC\", random_forest_grid.cv_results_['mean_test_roc_auc'][random_forest_grid.best_index_])"
   ]
  },
  {
   "cell_type": "code",
   "execution_count": 15,
   "metadata": {},
   "outputs": [
    {
     "name": "stdout",
     "output_type": "stream",
     "text": [
      "F1 на тестовой выборке 0.5539906103286384\n",
      "ROC-AUC на тестовой выборке 0.8516899025373601\n"
     ]
    }
   ],
   "source": [
    "#проверка случайного леса на тестовой выборке\n",
    "predicted_test = random_forest_grid.predict(features_test)\n",
    "random_forest_f1_test = f1_score(target_test, predicted_test)\n",
    "print(\"F1 на тестовой выборке\", random_forest_f1_test)\n",
    "probabilities_test = random_forest_grid.predict_proba(features_test)\n",
    "probabilities_one_test = probabilities_test[:, 1]\n",
    "random_forest_auc_roc_test = roc_auc_score(target_test, probabilities_one_test)\n",
    "print(\"ROC-AUC на тестовой выборке\", random_forest_auc_roc_test)"
   ]
  },
  {
   "cell_type": "markdown",
   "metadata": {},
   "source": [
    "*Результаты первой итерации:*\n",
    "* *{'max_depth': 19, 'n_estimators': 70}*\n",
    "* *F1 0.5950932161132333*\n",
    "* *ROC-AUC 0.8467601198100759*\n",
    "* *F1 на тестовой выборке 0.5517241379310345*\n",
    "* *ROC-AUC на тестовой выборке 0.8515981312591483*"
   ]
  },
  {
   "cell_type": "markdown",
   "metadata": {},
   "source": [
    "#### Логистическая регрессия"
   ]
  },
  {
   "cell_type": "code",
   "execution_count": 16,
   "metadata": {},
   "outputs": [
    {
     "name": "stdout",
     "output_type": "stream",
     "text": [
      "Лучшие подобранные параметры для логистической регрессии {'C': 1.0}\n",
      "F1 0.3205911890711361\n",
      "ROC-AUC 0.7635739807957161\n",
      "CPU times: user 8.49 s, sys: 11.1 s, total: 19.6 s\n",
      "Wall time: 19.6 s\n"
     ]
    }
   ],
   "source": [
    "%%time \n",
    "clf = LogisticRegression(random_state=131296) #поиск параметров для логистической регрессии\n",
    "parametrs = {\n",
    "             'C': np.arange (0.2, 1.2, 0.2)\n",
    "            }\n",
    "logistic_regression_grid = GridSearchCV(clf, parametrs, cv=5, scoring=['f1', 'roc_auc'], refit='f1')\n",
    "logistic_regression_grid.fit(features_cv, target_cv)\n",
    "print(\"Лучшие подобранные параметры для логистической регрессии\", logistic_regression_grid.best_params_)\n",
    "print(\"F1\", logistic_regression_grid.best_score_)\n",
    "print(\"ROC-AUC\", logistic_regression_grid.cv_results_['mean_test_roc_auc'][logistic_regression_grid.best_index_])"
   ]
  },
  {
   "cell_type": "code",
   "execution_count": 17,
   "metadata": {
    "scrolled": true
   },
   "outputs": [
    {
     "name": "stdout",
     "output_type": "stream",
     "text": [
      "F1 на тестовой выборке 0.27624309392265195\n",
      "ROC-AUC на тестовой выборке 0.7756647248172671\n"
     ]
    }
   ],
   "source": [
    "#проверка логистической регрессии на тестовой выборке\n",
    "predicted_test = logistic_regression_grid.predict(features_test)\n",
    "logistic_regression_f1_test = f1_score(target_test, predicted_test)\n",
    "print(\"F1 на тестовой выборке\", logistic_regression_f1_test)\n",
    "probabilities_test = logistic_regression_grid.predict_proba(features_test)\n",
    "probabilities_one_test = probabilities_test[:, 1]\n",
    "logistic_regression_auc_roc_test = roc_auc_score(target_test, probabilities_one_test)\n",
    "print(\"ROC-AUC на тестовой выборке\", logistic_regression_auc_roc_test)"
   ]
  },
  {
   "cell_type": "markdown",
   "metadata": {},
   "source": [
    "*Результаты первой итерации:*\n",
    "* *{'C': 0.2}*\n",
    "* *F1 0.08210525286091391*\n",
    "* *ROC-AUC 0.6546411957893115*\n",
    "* *F1 на тестовой выборке 0.08528784648187633*\n",
    "* *ROC-AUC на тестовой выборке 0.6662348018280222*"
   ]
  },
  {
   "cell_type": "markdown",
   "metadata": {},
   "source": [
    "<div class=\"alert alert-success\" style=\"border-color: green; border-radius: 5px\">\n",
    "    <p><u><b>✅ КОММЕНТАРИЙ РЕВЬЮЕРА v.1</b></u></p>\n",
    "    <p>Отлично! К этому пункту замечаний нет!</p>\n",
    "    <p>Хорошо, что подбираешь гиперпараметры с помощью GridSearchCV.</p>\n",
    "</div>"
   ]
  },
  {
   "cell_type": "markdown",
   "metadata": {},
   "source": [
    "### Вывод по несбалансированным моделям"
   ]
  },
  {
   "cell_type": "code",
   "execution_count": 18,
   "metadata": {},
   "outputs": [
    {
     "data": {
      "image/png": "[encoded data removed]",
      "text/plain": [
       "<Figure size 432x288 with 1 Axes>"
      ]
     },
     "metadata": {
      "needs_background": "light"
     },
     "output_type": "display_data"
    },
    {
     "data": {
      "image/png": "[encoded data removed]",
      "text/plain": [
       "<Figure size 432x288 with 1 Axes>"
      ]
     },
     "metadata": {
      "needs_background": "light"
     },
     "output_type": "display_data"
    }
   ],
   "source": [
    "pd.Series(data=[decision_tree_grid.best_score_,\n",
    "                random_forest_grid.best_score_,\n",
    "                logistic_regression_grid.best_score_],\n",
    "          index=['decision_tree', \n",
    "                 'random_forest_grid', \n",
    "                 'logistic_regression']\n",
    "         ).plot(kind='bar')\n",
    "plt.xlabel('Model')\n",
    "plt.ylabel('F1')\n",
    "plt.title('F1 мера на CV выборке')\n",
    "plt.show();\n",
    "\n",
    "pd.Series(data=[decision_tree_grid.cv_results_['mean_test_roc_auc'][decision_tree_grid.best_index_],\n",
    "                random_forest_grid.cv_results_['mean_test_roc_auc'][random_forest_grid.best_index_],\n",
    "                logistic_regression_grid.cv_results_['mean_test_roc_auc'][logistic_regression_grid.best_index_]],\n",
    "          index=['decision_tree', \n",
    "                 'random_forest_grid', \n",
    "                 'logistic_regression']\n",
    "         ).plot(kind='bar')\n",
    "plt.xlabel('Model')\n",
    "plt.ylabel('AUC-ROC')\n",
    "plt.title('AUC-ROC на CV выборке')\n",
    "plt.show();"
   ]
  },
  {
   "cell_type": "code",
   "execution_count": 19,
   "metadata": {},
   "outputs": [
    {
     "data": {
      "image/png": "[encoded data removed]",
      "text/plain": [
       "<Figure size 432x288 with 1 Axes>"
      ]
     },
     "metadata": {
      "needs_background": "light"
     },
     "output_type": "display_data"
    },
    {
     "data": {
      "image/png": "[encoded data removed]",
      "text/plain": [
       "<Figure size 432x288 with 1 Axes>"
      ]
     },
     "metadata": {
      "needs_background": "light"
     },
     "output_type": "display_data"
    }
   ],
   "source": [
    "pd.Series(data=[decision_tree_f1_test,\n",
    "                random_forest_f1_test,\n",
    "                logistic_regression_f1_test],\n",
    "          index=['decision_tree', \n",
    "                 'random_forest_grid', \n",
    "                 'logistic_regression']\n",
    "         ).plot(kind='bar')\n",
    "plt.xlabel('Model')\n",
    "plt.ylabel('F1')\n",
    "plt.title('F1 мера на тестовой выборке')\n",
    "plt.show();\n",
    "\n",
    "pd.Series(data=[decision_tree_auc_roc_test,\n",
    "                random_forest_auc_roc_test,\n",
    "                logistic_regression_auc_roc_test],\n",
    "          index=['decision_tree', \n",
    "                 'random_forest_grid', \n",
    "                 'logistic_regression']\n",
    "         ).plot(kind='bar')\n",
    "plt.xlabel('Model')\n",
    "plt.ylabel('AUC-ROC')\n",
    "plt.title('AUC-ROC на тестовой выборке')\n",
    "plt.show();"
   ]
  },
  {
   "cell_type": "markdown",
   "metadata": {},
   "source": [
    "Ни одна модель на несбалансированны данных без учёта дисбаланса не дала достаточно высокий результат на тестовой выборке. Модель случайного леса обладает большей устойчивостью к переобучению, при этом её отставание на тестовой выборке от модели дерева решений минимально. Для дальнейшего исследования и борьбы с дисбалансом будем использовать модель случайного леса."
   ]
  },
  {
   "cell_type": "markdown",
   "metadata": {},
   "source": [
    "<div class=\"alert alert-success\" style=\"border-color: green; border-radius: 5px\">\n",
    "    <p><u><b>✅ КОММЕНТАРИЙ РЕВЬЮЕРА v.1</b></u></p>\n",
    "    <p>👍</p>\n",
    "</div>"
   ]
  },
  {
   "cell_type": "markdown",
   "metadata": {},
   "source": [
    "## Борьба с дисбалансом"
   ]
  },
  {
   "cell_type": "markdown",
   "metadata": {},
   "source": [
    "### Использование веса классов при поиске параметров"
   ]
  },
  {
   "cell_type": "markdown",
   "metadata": {},
   "source": [
    "Сначала попробуем найти гиперпараметры для модели случайного леса с добавлением в перечень подбираемых параметров 'class_weight' - для подбора используем значения None и 'balanced'."
   ]
  },
  {
   "cell_type": "code",
   "execution_count": 20,
   "metadata": {
    "scrolled": true
   },
   "outputs": [
    {
     "name": "stdout",
     "output_type": "stream",
     "text": [
      "Лучшие подобранные параметры для случайного леса {'class_weight': 'balanced', 'max_depth': 10, 'n_estimators': 100}\n",
      "F1 0.6203342739544033\n",
      "ROC-AUC 0.8544774681935067\n",
      "CPU times: user 25min 10s, sys: 9.01 s, total: 25min 19s\n",
      "Wall time: 25min 20s\n"
     ]
    }
   ],
   "source": [
    "%%time\n",
    "clf = RandomForestClassifier(random_state=131296) #поиск параметров для случайного леса\n",
    "parametrs = {'n_estimators': range (10, 160, 10),\n",
    "             'max_depth': range (1,21, 1),\n",
    "             'class_weight': [None, 'balanced']\n",
    "            }\n",
    "random_forest_grid_b = GridSearchCV(clf, parametrs, cv=5, scoring=['f1', 'roc_auc'], refit='f1')\n",
    "random_forest_grid_b.fit(features_cv, target_cv)\n",
    "print(\"Лучшие подобранные параметры для случайного леса\", random_forest_grid_b.best_params_)\n",
    "print(\"F1\", random_forest_grid_b.best_score_)\n",
    "print(\"ROC-AUC\", random_forest_grid_b.cv_results_['mean_test_roc_auc'][random_forest_grid_b.best_index_])"
   ]
  },
  {
   "cell_type": "markdown",
   "metadata": {},
   "source": [
    "*Результаты первой итерации:*\n",
    "* *{'class_weight': 'balanced', 'max_depth': 9, 'n_estimators': 50}*\n",
    "* *F1 0.6200527591589001*\n",
    "* *ROC-AUC 0.8540948753262512*"
   ]
  },
  {
   "cell_type": "markdown",
   "metadata": {},
   "source": [
    "<div class=\"alert alert-success\" style=\"border-color: green; border-radius: 5px\">\n",
    "    <p><u><b>✅ КОММЕНТАРИЙ РЕВЬЮЕРА v.1</b></u></p>\n",
    "    <p>Здесь все корректно, хорошо что тут тоже подбираешь гиперпараметры! Можем двигаться дальше. </p>"
   ]
  },
  {
   "cell_type": "markdown",
   "metadata": {},
   "source": [
    "### Даунсемплинг"
   ]
  },
  {
   "cell_type": "markdown",
   "metadata": {},
   "source": [
    "Даунсемплинг - метод борьбы с дисбалансом, заключающийся в уменьшении количества записей с мажорным классом путём удаления случайных записей. Параметром, регулирующим даунсемплинг, будет являться fraction - доля оставляемых записей с мажорным классом. В нашем случае, мажорным классом будет класс 0.\n",
    "\n",
    "Определим функцию для даунсемплинга класса 0. В качестве параметров функция будет принимать признаки, целевой признак и значение fraction."
   ]
  },
  {
   "cell_type": "code",
   "execution_count": 21,
   "metadata": {},
   "outputs": [],
   "source": [
    "def downsample(features, target, fraction):\n",
    "    features_zeros = features[target == 0]\n",
    "    features_ones = features[target == 1]\n",
    "    target_zeros = target[target == 0]\n",
    "    target_ones = target[target == 1]\n",
    "\n",
    "    features_downsampled = pd.concat(\n",
    "        [features_zeros.sample(frac=fraction, random_state=131296)] + [features_ones])\n",
    "    target_downsampled = pd.concat(\n",
    "        [target_zeros.sample(frac=fraction, random_state=131296)] + [target_ones])\n",
    "    \n",
    "    features_downsampled, target_downsampled = shuffle(\n",
    "        features_downsampled, target_downsampled, random_state=131296)\n",
    "    \n",
    "    return features_downsampled, target_downsampled"
   ]
  },
  {
   "cell_type": "markdown",
   "metadata": {},
   "source": [
    "#### Частичный даунсемплинг"
   ]
  },
  {
   "cell_type": "markdown",
   "metadata": {},
   "source": [
    "Первым попробуем провести частичный даунсемплинг - оставим из записей мажорного класса (класс 0) только половину.\n",
    "\n",
    "Этот вариант даунсемплинга проверим отдельно, а также будем использовать как основу для оверсемплинга в дальнейшем (пункт 3.3)."
   ]
  },
  {
   "cell_type": "code",
   "execution_count": 22,
   "metadata": {
    "scrolled": false
   },
   "outputs": [
    {
     "name": "stdout",
     "output_type": "stream",
     "text": [
      "Проверим распределение классов в целевом признаке до и после частичного даунсемплинга\n"
     ]
    },
    {
     "data": {
      "image/png": "[encoded data removed]",
      "text/plain": [
       "<Figure size 432x288 with 1 Axes>"
      ]
     },
     "metadata": {
      "needs_background": "light"
     },
     "output_type": "display_data"
    },
    {
     "data": {
      "image/png": "[encoded data removed]",
      "text/plain": [
       "<Figure size 432x288 with 1 Axes>"
      ]
     },
     "metadata": {
      "needs_background": "light"
     },
     "output_type": "display_data"
    }
   ],
   "source": [
    "features_downsampled, target_downsampled = downsample(features_cv, target_cv, 0.5)\n",
    "print('Проверим распределение классов в целевом признаке до и после частичного даунсемплинга')\n",
    "target_cv.value_counts(normalize=True).plot(kind='bar')\n",
    "plt.xlabel('Exited')\n",
    "plt.ylabel('Quantity')\n",
    "plt.title('Распределение целевого признака до частичного даунсемплинга')\n",
    "plt.show();\n",
    "target_downsampled.value_counts(normalize=True).plot(kind='bar')\n",
    "plt.xlabel('Exited')\n",
    "plt.ylabel('Quantity')\n",
    "plt.title('Распределение целевого признака после частичного даунсемплинга')\n",
    "plt.show();"
   ]
  },
  {
   "cell_type": "markdown",
   "metadata": {},
   "source": [
    "Проводим повторный поиск гиперпараметров - теперь с использованием данных после даунсемплинга."
   ]
  },
  {
   "cell_type": "code",
   "execution_count": 23,
   "metadata": {},
   "outputs": [
    {
     "name": "stdout",
     "output_type": "stream",
     "text": [
      "Лучшие подобранные параметры для случайного леса {'class_weight': 'balanced', 'max_depth': 9, 'n_estimators': 120}\n",
      "F1 0.6997661920894014\n",
      "ROC-AUC 0.8563694850285559\n",
      "CPU times: user 17min 34s, sys: 5.39 s, total: 17min 39s\n",
      "Wall time: 17min 40s\n"
     ]
    }
   ],
   "source": [
    "%%time\n",
    "clf = RandomForestClassifier(random_state=131296) #поиск параметров для случайного леса\n",
    "parametrs = {'n_estimators': range (10, 160, 10),\n",
    "             'max_depth': range (1,21, 1),\n",
    "             'class_weight': [None, 'balanced']\n",
    "            }\n",
    "random_forest_grid_b_ds = GridSearchCV(clf, parametrs, cv=5, scoring=['f1', 'roc_auc'], refit='f1')\n",
    "random_forest_grid_b_ds.fit(features_downsampled, target_downsampled)\n",
    "print(\"Лучшие подобранные параметры для случайного леса\", random_forest_grid_b_ds.best_params_)\n",
    "print(\"F1\", random_forest_grid_b_ds.best_score_)\n",
    "print(\"ROC-AUC\", random_forest_grid_b_ds.cv_results_['mean_test_roc_auc'][random_forest_grid_b_ds.best_index_])"
   ]
  },
  {
   "cell_type": "markdown",
   "metadata": {},
   "source": [
    "*Результаты первой итерации:*\n",
    "* *{'class_weight': 'balanced', 'max_depth': 9, 'n_estimators': 120}*\n",
    "* *F1 0.6991601314833409*\n",
    "* *ROC-AUC 0.8564243819283257*"
   ]
  },
  {
   "cell_type": "markdown",
   "metadata": {},
   "source": [
    "<div class=\"alert alert-success\" style=\"border-color: green; border-radius: 5px\">\n",
    "    <p><u><b>✅ КОММЕНТАРИЙ РЕВЬЮЕРА v.1</b></u></p>\n",
    "    <p>Принято. Downsampling можно рассмотреть как отдельный метод борьбы с дисбалансом, уменьшив количество записей с классом 0 до соотношения 1:1 к записям класса 1.</p>\n",
    "</div>"
   ]
  },
  {
   "cell_type": "markdown",
   "metadata": {},
   "source": [
    "#### Полный даунсемплинг"
   ]
  },
  {
   "cell_type": "markdown",
   "metadata": {},
   "source": [
    "Также попробуем провести полный даунсемплинг - путем снижения количества записей мажорного класса добьёмся соотношения классов 0 и 1 равного 1:1."
   ]
  },
  {
   "cell_type": "code",
   "execution_count": 24,
   "metadata": {},
   "outputs": [
    {
     "name": "stdout",
     "output_type": "stream",
     "text": [
      "Проверим распределение классов в целевом признаке до и после полного даунсемплинга\n"
     ]
    },
    {
     "data": {
      "image/png": "[encoded data removed]",
      "text/plain": [
       "<Figure size 432x288 with 1 Axes>"
      ]
     },
     "metadata": {
      "needs_background": "light"
     },
     "output_type": "display_data"
    },
    {
     "data": {
      "image/png": "[encoded data removed]",
      "text/plain": [
       "<Figure size 432x288 with 1 Axes>"
      ]
     },
     "metadata": {
      "needs_background": "light"
     },
     "output_type": "display_data"
    }
   ],
   "source": [
    "features_downsampled_full, target_downsampled_full = downsample(features_cv,\n",
    "                                                                target_cv, \n",
    "                                                                target_cv.value_counts()[1]/target_cv.value_counts()[0])\n",
    "print('Проверим распределение классов в целевом признаке до и после полного даунсемплинга')\n",
    "target_cv.value_counts(normalize=True).plot(kind='bar')\n",
    "plt.xlabel('Exited')\n",
    "plt.ylabel('Quantity')\n",
    "plt.title('Распределение целевого признака до полного даунсемплинга')\n",
    "plt.show();\n",
    "target_downsampled_full.value_counts(normalize=True).plot(kind='bar')\n",
    "plt.xlabel('Exited')\n",
    "plt.ylabel('Quantity')\n",
    "plt.title('Распределение целевого признака после полного даунсемплинга')\n",
    "plt.show();"
   ]
  },
  {
   "cell_type": "code",
   "execution_count": 25,
   "metadata": {
    "scrolled": true
   },
   "outputs": [
    {
     "name": "stdout",
     "output_type": "stream",
     "text": [
      "Лучшие подобранные параметры для случайного леса {'class_weight': None, 'max_depth': 11, 'n_estimators': 60}\n",
      "F1 0.7728915345200251\n",
      "ROC-AUC 0.857947231736234\n",
      "CPU times: user 13min 35s, sys: 5.08 s, total: 13min 40s\n",
      "Wall time: 13min 40s\n"
     ]
    }
   ],
   "source": [
    "%%time\n",
    "clf = RandomForestClassifier(random_state=131296) #поиск параметров для случайного леса\n",
    "parametrs = {'n_estimators': range (10, 160, 10),\n",
    "             'max_depth': range (1,21, 1),\n",
    "             'class_weight': [None, 'balanced']\n",
    "            }\n",
    "random_forest_grid_b_ds_full = GridSearchCV(clf, parametrs, cv=5, scoring=['f1', 'roc_auc'], refit='f1')\n",
    "random_forest_grid_b_ds_full.fit(features_downsampled_full, target_downsampled_full)\n",
    "print(\"Лучшие подобранные параметры для случайного леса\", random_forest_grid_b_ds_full.best_params_)\n",
    "print(\"F1\", random_forest_grid_b_ds_full.best_score_)\n",
    "print(\"ROC-AUC\", random_forest_grid_b_ds_full.cv_results_['mean_test_roc_auc']\n",
    "      [random_forest_grid_b_ds_full.best_index_])"
   ]
  },
  {
   "cell_type": "markdown",
   "metadata": {},
   "source": [
    "<div class=\"alert alert-info\" style=\"border-color: #0080FF; border-radius: 5px\">\n",
    "    <p><u><b>КОММЕНТАРИЙ СТУДЕНТА</b></u></p>\n",
    "    <p>Добавлен полный даунсемплинг как отдельный метод.</p>     \n",
    "</div>"
   ]
  },
  {
   "cell_type": "markdown",
   "metadata": {},
   "source": [
    "<div class=\"alert alert-success\" style=\"border-color: green; border-radius: 5px\">\n",
    "    <p><u><b>✅ КОММЕНТАРИЙ РЕВЬЮЕРА v.2</b></u></p>\n",
    "    <p>👍</p>\n",
    "</div>"
   ]
  },
  {
   "cell_type": "markdown",
   "metadata": {},
   "source": [
    "### Оверсемплинг - SMOTE, ADASYN, Borderline SMOTE"
   ]
  },
  {
   "cell_type": "markdown",
   "metadata": {},
   "source": [
    "Для ликвидации оставшегося дисбаланса попробуем использовать библиотеку imblearn. Из неё будем использовать Pipeline - инструмент для задания шагов для использования к каждому фолду внутри GridSearchCV. В качестве методов оверсемплинга будем использовать три варианта - SMOTE, ADASYN и Borderline SMOTE, общий смысл которых будет заключаться в создании синтетических записей минорного класса - в нашем случае класса 1."
   ]
  },
  {
   "cell_type": "markdown",
   "metadata": {},
   "source": [
    "#### SMOTE"
   ]
  },
  {
   "cell_type": "code",
   "execution_count": 26,
   "metadata": {
    "scrolled": true
   },
   "outputs": [
    {
     "name": "stdout",
     "output_type": "stream",
     "text": [
      "Лучшие подобранные параметры для случайного леса {'classifier__class_weight': None, 'classifier__max_depth': 7, 'classifier__n_estimators': 80}\n",
      "F1 0.6889426298698418\n",
      "ROC-AUC 0.8496999932582755\n",
      "CPU times: user 22min 59s, sys: 8.52 s, total: 23min 8s\n",
      "Wall time: 23min 9s\n"
     ]
    }
   ],
   "source": [
    "%%time\n",
    "pipeline = Pipeline(steps = [['smote', SMOTE(random_state=131296)], \n",
    "                             ['classifier', RandomForestClassifier(random_state=131296)]])\n",
    "\n",
    "stratified_kfold = StratifiedKFold(n_splits=5, \n",
    "                                   shuffle=True, \n",
    "                                   random_state=131296)\n",
    "\n",
    "parametrs = {'classifier__max_depth':range (1,21, 1), \n",
    "             'classifier__n_estimators': range (10, 160, 10),\n",
    "             'classifier__class_weight': [None, 'balanced']}\n",
    "\n",
    "random_forest_grid_b_ds_smote = GridSearchCV(estimator=pipeline,\n",
    "                                             param_grid=parametrs,\n",
    "                                             scoring=['f1', 'roc_auc'], \n",
    "                                             refit='f1', \n",
    "                                             cv=stratified_kfold, \n",
    "                                             n_jobs=-1)\n",
    "\n",
    "random_forest_grid_b_ds_smote.fit(features_downsampled, target_downsampled)\n",
    "print(\"Лучшие подобранные параметры для случайного леса\", random_forest_grid_b_ds_smote.best_params_)\n",
    "print(\"F1\", random_forest_grid_b_ds_smote.best_score_)\n",
    "print(\"ROC-AUC\", random_forest_grid_b_ds_smote.cv_results_['mean_test_roc_auc']\n",
    "      [random_forest_grid_b_ds_smote.best_index_])"
   ]
  },
  {
   "cell_type": "markdown",
   "metadata": {},
   "source": [
    "*Результаты первой итерации:*\n",
    "* *{'classifier__class_weight': None, 'classifier__max_depth': 7, 'classifier__n_estimators': 90}*\n",
    "* *F1 0.6790253403514149*\n",
    "* *ROC-AUC 0.8410474713717482*"
   ]
  },
  {
   "cell_type": "markdown",
   "metadata": {},
   "source": [
    "<div class=\"alert alert-success\" style=\"border-color: green; border-radius: 5px\">\n",
    "    <p><u><b>✅ КОММЕНТАРИЙ РЕВЬЮЕРА v.1</b></u></p>\n",
    "    <p>👍</p>\n",
    "</div>"
   ]
  },
  {
   "cell_type": "markdown",
   "metadata": {},
   "source": [
    "#### ADASYN"
   ]
  },
  {
   "cell_type": "code",
   "execution_count": 27,
   "metadata": {},
   "outputs": [
    {
     "name": "stdout",
     "output_type": "stream",
     "text": [
      "Лучшие подобранные параметры для случайного леса {'classifier__class_weight': 'balanced', 'classifier__max_depth': 7, 'classifier__n_estimators': 150}\n",
      "F1 0.6896836500189358\n",
      "ROC-AUC 0.8461442151187988\n",
      "CPU times: user 25min 17s, sys: 8.38 s, total: 25min 26s\n",
      "Wall time: 25min 26s\n"
     ]
    }
   ],
   "source": [
    "%%time\n",
    "pipeline = Pipeline(steps = [['ada', ADASYN(random_state=131296)], \n",
    "                             ['classifier', RandomForestClassifier(random_state=131296)]])\n",
    "\n",
    "stratified_kfold = StratifiedKFold(n_splits=5, \n",
    "                                   shuffle=True, \n",
    "                                   random_state=131296)\n",
    "\n",
    "parametrs = {'classifier__max_depth':range (1,21, 1), \n",
    "             'classifier__n_estimators': range (10, 160, 10),\n",
    "             'classifier__class_weight': [None, 'balanced']}\n",
    "\n",
    "random_forest_grid_b_ds_ada = GridSearchCV(estimator=pipeline,\n",
    "                                           param_grid=parametrs,\n",
    "                                           scoring=['f1', 'roc_auc'], \n",
    "                                           refit='f1', \n",
    "                                           cv=stratified_kfold, \n",
    "                                           n_jobs=-1)\n",
    "\n",
    "random_forest_grid_b_ds_ada.fit(features_downsampled, target_downsampled)\n",
    "print(\"Лучшие подобранные параметры для случайного леса\", random_forest_grid_b_ds_ada.best_params_)\n",
    "print(\"F1\", random_forest_grid_b_ds_ada.best_score_)\n",
    "print(\"ROC-AUC\", random_forest_grid_b_ds_ada.cv_results_['mean_test_roc_auc']\n",
    "      [random_forest_grid_b_ds_ada.best_index_])"
   ]
  },
  {
   "cell_type": "markdown",
   "metadata": {},
   "source": [
    "*Результаты первой итерации:*\n",
    "* *{'classifier__class_weight': 'balanced', 'classifier__max_depth': 6, 'classifier__n_estimators': 110}*\n",
    "* *F1 0.6851331173332772*\n",
    "* *ROC-AUC 0.8368261887105006*"
   ]
  },
  {
   "cell_type": "markdown",
   "metadata": {},
   "source": [
    "<div class=\"alert alert-success\" style=\"border-color: green; border-radius: 5px\">\n",
    "    <p><u><b>✅ КОММЕНТАРИЙ РЕВЬЮЕРА v.1</b></u></p>\n",
    "    <p>👍</p>\n",
    "</div>"
   ]
  },
  {
   "cell_type": "markdown",
   "metadata": {},
   "source": [
    "#### Borderline SMOTE"
   ]
  },
  {
   "cell_type": "code",
   "execution_count": 28,
   "metadata": {},
   "outputs": [
    {
     "name": "stdout",
     "output_type": "stream",
     "text": [
      "Лучшие подобранные параметры для случайного леса {'classifier__class_weight': None, 'classifier__max_depth': 8, 'classifier__n_estimators': 60}\n",
      "F1 0.6855907048154402\n",
      "ROC-AUC 0.8463763230634397\n",
      "CPU times: user 25min 26s, sys: 6.33 s, total: 25min 32s\n",
      "Wall time: 25min 33s\n"
     ]
    }
   ],
   "source": [
    "%%time\n",
    "pipeline = Pipeline(steps = [['bsmote', BorderlineSMOTE(random_state=131296)], \n",
    "                             ['classifier', RandomForestClassifier(random_state=131296)]])\n",
    "\n",
    "stratified_kfold = StratifiedKFold(n_splits=5, \n",
    "                                   shuffle=True, \n",
    "                                   random_state=131296)\n",
    "\n",
    "parametrs = {'classifier__max_depth':range (1,21, 1), \n",
    "             'classifier__n_estimators': range (10, 160, 10),\n",
    "             'classifier__class_weight': [None, 'balanced']}\n",
    "\n",
    "random_forest_grid_b_ds_bsmote = GridSearchCV(estimator=pipeline, \n",
    "                                              param_grid=parametrs, \n",
    "                                              scoring=['f1', 'roc_auc'], \n",
    "                                              refit='f1', \n",
    "                                              cv=stratified_kfold, \n",
    "                                              n_jobs=-1)\n",
    "\n",
    "random_forest_grid_b_ds_bsmote.fit(features_downsampled, target_downsampled)\n",
    "print(\"Лучшие подобранные параметры для случайного леса\", random_forest_grid_b_ds_bsmote.best_params_)\n",
    "print(\"F1\", random_forest_grid_b_ds_bsmote.best_score_)\n",
    "print(\"ROC-AUC\", random_forest_grid_b_ds_bsmote.cv_results_['mean_test_roc_auc']\n",
    "      [random_forest_grid_b_ds_bsmote.best_index_])"
   ]
  },
  {
   "cell_type": "markdown",
   "metadata": {},
   "source": [
    "*Результаты первой итерации:*\n",
    "* *{'classifier__class_weight': None, 'classifier__max_depth': 8, 'classifier__n_estimators': 90}*\n",
    "* *F1 0.6812360826157604*\n",
    "* *ROC-AUC 0.8384644277720528*"
   ]
  },
  {
   "cell_type": "markdown",
   "metadata": {},
   "source": [
    "<div class=\"alert alert-success\" style=\"border-color: green; border-radius: 5px\">\n",
    "    <p><u><b>✅ КОММЕНТАРИЙ РЕВЬЮЕРА v.1</b></u></p>\n",
    "    <p>👍</p>\n",
    "</div>"
   ]
  },
  {
   "cell_type": "markdown",
   "metadata": {},
   "source": [
    "### Вывод по модели случайного леса с учётом дисбаланса"
   ]
  },
  {
   "cell_type": "markdown",
   "metadata": {},
   "source": [
    "Для подведения вывода и выбора модели для проверки на тестовой выборке построим графики с F1 мерой и AUC-ROC для всех проверенных моделей:\n",
    "* random_forest_grid_b - случайный лес со сбалансированным весом классов;\n",
    "* random_forest_grid_b_ds - случайный лес со сбалансированным весом классов и частичным даунсемплингом;\n",
    "* random_forest_grid_b_ds_full - случайный лес с полным даунсемплингом;\n",
    "* random_forest_grid_b_ds_smote - случайный лес с даунсемплингом и оверсемплингом SMOTE;\n",
    "* random_forest_grid_b_ds_ada - случайный лес со сбалансированным весом классов, даунсемплингом и оверсемплингом ADASYN;\n",
    "* random_forest_grid_b_ds_bsmote - случайный лес с даунсемплингом и оверсемплингом Borderline SMOTE."
   ]
  },
  {
   "cell_type": "code",
   "execution_count": 29,
   "metadata": {},
   "outputs": [
    {
     "data": {
      "image/png": "[encoded data removed]",
      "text/plain": [
       "<Figure size 432x288 with 1 Axes>"
      ]
     },
     "metadata": {
      "needs_background": "light"
     },
     "output_type": "display_data"
    },
    {
     "data": {
      "image/png": "[encoded data removed]",
      "text/plain": [
       "<Figure size 432x288 with 1 Axes>"
      ]
     },
     "metadata": {
      "needs_background": "light"
     },
     "output_type": "display_data"
    }
   ],
   "source": [
    "random_forest_b_f1 = random_forest_grid_b.best_score_\n",
    "random_forest_b_ds_f1 = random_forest_grid_b_ds.best_score_\n",
    "random_forest_b_ds_full_f1 = random_forest_grid_b_ds_full.best_score_\n",
    "random_forest_b_ds_smote_f1 = random_forest_grid_b_ds_smote.best_score_\n",
    "random_forest_b_ds_ada_f1 = random_forest_grid_b_ds_ada.best_score_\n",
    "random_forest_b_ds_bsmote_f1 = random_forest_grid_b_ds_bsmote.best_score_\n",
    "\n",
    "random_forest_b_auc_roc = (random_forest_grid_b.cv_results_['mean_test_roc_auc']\n",
    "                           [random_forest_grid_b.best_index_])\n",
    "random_forest_b_ds_auc_roc = (random_forest_grid_b_ds.cv_results_['mean_test_roc_auc']\n",
    "                              [random_forest_grid_b_ds.best_index_])\n",
    "random_forest_b_ds_full_auc_roc = (random_forest_grid_b_ds_full.cv_results_['mean_test_roc_auc']\n",
    "                                   [random_forest_grid_b_ds_full.best_index_])\n",
    "random_forest_b_ds_smote_auc_roc = (random_forest_grid_b_ds_smote.cv_results_['mean_test_roc_auc']\n",
    "                                    [random_forest_grid_b_ds_smote.best_index_])\n",
    "random_forest_b_ds_ada_auc_roc = (random_forest_grid_b_ds_ada.cv_results_['mean_test_roc_auc']\n",
    "                                  [random_forest_grid_b_ds_ada.best_index_])    \n",
    "random_forest_b_ds_bsmote_auc_roc = (random_forest_grid_b_ds_bsmote.cv_results_['mean_test_roc_auc']\n",
    "                                     [random_forest_grid_b_ds_bsmote.best_index_])\n",
    "\n",
    "pd.Series(data=[random_forest_b_f1,\n",
    "                random_forest_b_ds_f1,\n",
    "                random_forest_b_ds_full_f1,\n",
    "                random_forest_b_ds_smote_f1,\n",
    "                random_forest_b_ds_ada_f1,\n",
    "                random_forest_b_ds_bsmote_f1],\n",
    "          index=['random_forest_b', \n",
    "                 'random_forest_b_ds', \n",
    "                 'random_forest_b_ds_full',\n",
    "                 'random_forest_b_ds_smote',\n",
    "                 'random_forest_b_ds_ada',\n",
    "                 'random_forest_b_ds_bsmote']\n",
    "         ).plot(kind='bar')\n",
    "plt.xlabel('Model')\n",
    "plt.ylabel('F1')\n",
    "plt.title('F1 на GridSearchCV')\n",
    "plt.show();\n",
    "\n",
    "pd.Series(data=[random_forest_b_auc_roc,\n",
    "                random_forest_b_ds_auc_roc,\n",
    "                random_forest_b_ds_full_auc_roc,\n",
    "                random_forest_b_ds_smote_auc_roc,\n",
    "                random_forest_b_ds_ada_auc_roc,\n",
    "                random_forest_b_ds_bsmote_auc_roc],\n",
    "          index=['random_forest_b', \n",
    "                 'random_forest_b_ds', \n",
    "                 'random_forest_b_ds_full',\n",
    "                 'random_forest_b_ds_smote',\n",
    "                 'random_forest_b_ds_ada',\n",
    "                 'random_forest_b_ds_bsmote']\n",
    "         ).plot(kind='bar')\n",
    "plt.xlabel('Model')\n",
    "plt.ylabel('AUC-ROC')\n",
    "plt.title('AUC-ROC на GridSearchCV')\n",
    "plt.show();"
   ]
  },
  {
   "cell_type": "markdown",
   "metadata": {},
   "source": [
    "Наибольший результат F1 меры инструментом GridSearch был получен при при полном даунсемплинге.\n",
    "\n",
    "Эту модель - random_forest_grid_b_ds_full - будем испытывать на тестовой выборке."
   ]
  },
  {
   "cell_type": "markdown",
   "metadata": {},
   "source": [
    "<div class=\"alert alert-success\" style=\"border-color: green; border-radius: 5px\">\n",
    "    <p><u><b>✅ КОММЕНТАРИЙ РЕВЬЮЕРА v.1</b></u></p>\n",
    "    <p>Молодец. Ты сделал отличные эксперименты. Особенно хвалю за подробный вывод со сводными графиками.</p>\n",
    "</div>"
   ]
  },
  {
   "cell_type": "markdown",
   "metadata": {},
   "source": [
    "## Тестирование модели"
   ]
  },
  {
   "cell_type": "code",
   "execution_count": 30,
   "metadata": {
    "scrolled": true
   },
   "outputs": [
    {
     "name": "stdout",
     "output_type": "stream",
     "text": [
      "F1 на тестовой выборке 0.5942744323790721\n",
      "ROC-AUC на тестовой выборке 0.8602840128263857\n"
     ]
    }
   ],
   "source": [
    "predicted_test = random_forest_grid_b_ds_full.predict(features_test)\n",
    "random_forest_b_ds_full_f1_test = f1_score(target_test, predicted_test)\n",
    "print(\"F1 на тестовой выборке\", random_forest_b_ds_full_f1_test)\n",
    "probabilities_test = random_forest_grid_b_ds_full.predict_proba(features_test)\n",
    "probabilities_one_test = probabilities_test[:, 1]\n",
    "random_forest_b_ds_full_auc_roc_test = roc_auc_score(target_test, probabilities_one_test)\n",
    "print(\"ROC-AUC на тестовой выборке\", random_forest_b_ds_full_auc_roc_test)"
   ]
  },
  {
   "cell_type": "markdown",
   "metadata": {},
   "source": [
    "По заданию минимальное необходимое значение F1 меры на тестовой выборке - 0.59 < 0.59 - полученное значение F1 меры.\\\n",
    "Полученная модель - random_forest_grid_b_ds_full - не удовлетворяет этому требованию.\n",
    "\n",
    "Проверим и соберём в сводный график результаты тестирования остальных моделей и выберем наилучшию по F1 мере на тестовой выборке."
   ]
  },
  {
   "cell_type": "code",
   "execution_count": 31,
   "metadata": {},
   "outputs": [
    {
     "name": "stdout",
     "output_type": "stream",
     "text": [
      "random_forest_grid_b\n",
      "F1 на тестовой выборке 0.6076260762607626\n",
      "ROC-AUC на тестовой выборке 0.8649743734489498\n",
      "-------------------------\n",
      "random_forest_grid_b_ds\n",
      "F1 на тестовой выборке 0.6263736263736264\n",
      "ROC-AUC на тестовой выборке 0.8714569731518883\n",
      "-------------------------\n",
      "random_forest_grid_b_ds_smote\n",
      "F1 на тестовой выборке 0.6193952033368092\n",
      "ROC-AUC на тестовой выборке 0.8659491540847473\n",
      "-------------------------\n",
      "random_forest_grid_b_ds_ada\n",
      "F1 на тестовой выборке 0.5911237016052879\n",
      "ROC-AUC на тестовой выборке 0.8642818473326948\n",
      "-------------------------\n",
      "random_forest_grid_b_ds_bsmote\n",
      "F1 на тестовой выборке 0.5872093023255814\n",
      "ROC-AUC на тестовой выборке 0.8628351001232356\n"
     ]
    }
   ],
   "source": [
    "print('random_forest_grid_b')\n",
    "predicted_test = random_forest_grid_b.predict(features_test)\n",
    "random_forest_b_f1_test = f1_score(target_test, predicted_test)\n",
    "print(\"F1 на тестовой выборке\", random_forest_b_f1_test)\n",
    "probabilities_test = random_forest_grid_b.predict_proba(features_test)\n",
    "probabilities_one_test = probabilities_test[:, 1]\n",
    "random_forest_b_auc_roc_test = roc_auc_score(target_test, probabilities_one_test)\n",
    "print(\"ROC-AUC на тестовой выборке\", random_forest_b_auc_roc_test)\n",
    "print('-'*25)\n",
    "print('random_forest_grid_b_ds')\n",
    "predicted_test = random_forest_grid_b_ds.predict(features_test)\n",
    "random_forest_b_ds_f1_test = f1_score(target_test, predicted_test)\n",
    "print(\"F1 на тестовой выборке\", random_forest_b_ds_f1_test)\n",
    "probabilities_test = random_forest_grid_b_ds.predict_proba(features_test)\n",
    "probabilities_one_test = probabilities_test[:, 1]\n",
    "random_forest_b_ds_auc_roc_test = roc_auc_score(target_test, probabilities_one_test)\n",
    "print(\"ROC-AUC на тестовой выборке\", random_forest_b_ds_auc_roc_test)\n",
    "print('-'*25)\n",
    "print('random_forest_grid_b_ds_smote')\n",
    "predicted_test = random_forest_grid_b_ds_smote.predict(features_test)\n",
    "random_forest_b_ds_smote_f1_test = f1_score(target_test, predicted_test)\n",
    "print(\"F1 на тестовой выборке\", random_forest_b_ds_smote_f1_test)\n",
    "probabilities_test = random_forest_grid_b_ds_smote.predict_proba(features_test)\n",
    "probabilities_one_test = probabilities_test[:, 1]\n",
    "random_forest_b_ds_smote_auc_roc_test = roc_auc_score(target_test, probabilities_one_test)\n",
    "print(\"ROC-AUC на тестовой выборке\", random_forest_b_ds_smote_auc_roc_test)\n",
    "print('-'*25)\n",
    "print('random_forest_grid_b_ds_ada')\n",
    "predicted_test = random_forest_grid_b_ds_ada.predict(features_test)\n",
    "random_forest_b_ds_ada_f1_test = f1_score(target_test, predicted_test)\n",
    "print(\"F1 на тестовой выборке\", random_forest_b_ds_ada_f1_test)\n",
    "probabilities_test = random_forest_grid_b_ds_ada.predict_proba(features_test)\n",
    "probabilities_one_test = probabilities_test[:, 1]\n",
    "random_forest_b_ds_ada_auc_roc_test = roc_auc_score(target_test, probabilities_one_test)\n",
    "print(\"ROC-AUC на тестовой выборке\", random_forest_b_ds_ada_auc_roc_test)\n",
    "print('-'*25)\n",
    "print('random_forest_grid_b_ds_bsmote')\n",
    "predicted_test = random_forest_grid_b_ds_bsmote.predict(features_test)\n",
    "random_forest_b_ds_bsmote_f1_test = f1_score(target_test, predicted_test)\n",
    "print(\"F1 на тестовой выборке\", random_forest_b_ds_bsmote_f1_test)\n",
    "probabilities_test = random_forest_grid_b_ds_bsmote.predict_proba(features_test)\n",
    "probabilities_one_test = probabilities_test[:, 1]\n",
    "random_forest_b_ds_bsmote_auc_roc_test = roc_auc_score(target_test, probabilities_one_test)\n",
    "print(\"ROC-AUC на тестовой выборке\", random_forest_b_ds_bsmote_auc_roc_test)"
   ]
  },
  {
   "cell_type": "code",
   "execution_count": 32,
   "metadata": {},
   "outputs": [
    {
     "data": {
      "image/png": "[encoded data removed]",
      "text/plain": [
       "<Figure size 432x288 with 1 Axes>"
      ]
     },
     "metadata": {
      "needs_background": "light"
     },
     "output_type": "display_data"
    },
    {
     "data": {
      "image/png": "[encoded data removed]",
      "text/plain": [
       "<Figure size 432x288 with 1 Axes>"
      ]
     },
     "metadata": {
      "needs_background": "light"
     },
     "output_type": "display_data"
    }
   ],
   "source": [
    "pd.Series(data=[random_forest_b_f1_test,\n",
    "                random_forest_b_ds_f1_test,\n",
    "                random_forest_b_ds_full_f1_test,\n",
    "                random_forest_b_ds_smote_f1_test,\n",
    "                random_forest_b_ds_ada_f1_test,\n",
    "                random_forest_b_ds_bsmote_f1_test],\n",
    "          index=['random_forest_b', \n",
    "                 'random_forest_b_ds', \n",
    "                 'random_forest_b_ds_full',\n",
    "                 'random_forest_b_ds_smote',\n",
    "                 'random_forest_b_ds_ada',\n",
    "                 'random_forest_b_ds_bsmote']\n",
    "         ).plot(kind='bar')\n",
    "plt.xlabel('Model')\n",
    "plt.ylabel('F1')\n",
    "plt.title('F1 на тестовой выборке')\n",
    "plt.show();\n",
    "\n",
    "pd.Series(data=[random_forest_b_auc_roc_test,\n",
    "                random_forest_b_ds_auc_roc_test,\n",
    "                random_forest_b_ds_full_auc_roc_test,\n",
    "                random_forest_b_ds_smote_auc_roc_test,\n",
    "                random_forest_b_ds_ada_auc_roc_test,\n",
    "                random_forest_b_ds_bsmote_auc_roc_test],\n",
    "          index=['random_forest_b', \n",
    "                 'random_forest_b_ds', \n",
    "                 'random_forest_b_ds_full',\n",
    "                 'random_forest_b_ds_smote',\n",
    "                 'random_forest_b_ds_ada',\n",
    "                 'random_forest_b_ds_bsmote']\n",
    "         ).plot(kind='bar')\n",
    "plt.xlabel('Model')\n",
    "plt.ylabel('AUC-ROC')\n",
    "plt.title('AUC-ROC на тестовой выборке')\n",
    "plt.show();"
   ]
  },
  {
   "cell_type": "markdown",
   "metadata": {},
   "source": [
    "Наилучший результат на тестовой выборке показала модель random_forest_grid_b_ds - случайный лес со сбалансированным весом классов и частичным даунсемплингом:\n",
    "* F1 на тестовой выборке 0.6263736263736264;\n",
    "* ROC-AUC на тестовой выборке 0.8714569731518883.\n",
    "\n",
    "Для дальнейшей проверки на адекватность выберем её."
   ]
  },
  {
   "cell_type": "code",
   "execution_count": 33,
   "metadata": {},
   "outputs": [
    {
     "name": "stdout",
     "output_type": "stream",
     "text": [
      "Модель адекватна\n"
     ]
    }
   ],
   "source": [
    "dummy = DummyClassifier(strategy=\"most_frequent\")\n",
    "dummy.fit(features_downsampled, target_downsampled)\n",
    "predicted_dummy = dummy.predict(features_test)\n",
    "dummy_result = f1_score(target_test, predicted_dummy)\n",
    "if random_forest_b_ds_f1_test > dummy_result:\n",
    "    print('Модель адекватна')\n",
    "else:\n",
    "    print('Модель не адекватна')"
   ]
  },
  {
   "cell_type": "markdown",
   "metadata": {},
   "source": [
    "Построим матрицу ошибок."
   ]
  },
  {
   "cell_type": "code",
   "execution_count": 34,
   "metadata": {},
   "outputs": [
    {
     "data": {
      "image/png": "[encoded data removed]",
      "text/plain": [
       "<Figure size 432x288 with 2 Axes>"
      ]
     },
     "metadata": {
      "needs_background": "light"
     },
     "output_type": "display_data"
    }
   ],
   "source": [
    "predicted_test = random_forest_grid_b_ds.predict(features_test)\n",
    "cf_matrix = confusion_matrix(target_test, predicted_test)\n",
    "sns.heatmap(cf_matrix/np.sum(cf_matrix), annot=True, \n",
    "            fmt='.2%', cmap='Blues');"
   ]
  },
  {
   "cell_type": "markdown",
   "metadata": {},
   "source": [
    "И ROC-кривую."
   ]
  },
  {
   "cell_type": "code",
   "execution_count": 35,
   "metadata": {},
   "outputs": [
    {
     "data": {
      "image/png": "[encoded data removed]",
      "text/plain": [
       "<Figure size 432x288 with 1 Axes>"
      ]
     },
     "metadata": {
      "needs_background": "light"
     },
     "output_type": "display_data"
    }
   ],
   "source": [
    "probabilities_test = random_forest_grid_b_ds.predict_proba(features_test)\n",
    "probabilities_one_test = probabilities_test[:, 1]\n",
    "fpr, tpr, thresholds = roc_curve(target_test, probabilities_one_test)\n",
    "\n",
    "plt.figure()\n",
    "plt.plot(fpr, tpr)\n",
    "plt.plot([0, 1], [0, 1], linestyle='--')\n",
    "plt.xlim([0.0, 1.0])\n",
    "plt.ylim([0.0, 1.0])\n",
    "plt.xlabel(\"False Positive Rate\")\n",
    "plt.ylabel(\"True Positive Rate\")\n",
    "plt.title(\"ROC-кривая\")\n",
    "plt.show()"
   ]
  },
  {
   "cell_type": "markdown",
   "metadata": {},
   "source": [
    "<div class=\"alert alert-warning\" style=\"border-color: orange; border-radius: 5px\">\n",
    "    <p><u><b>⚠️ КОММЕНТАРИЙ РЕВЬЮЕРА v.1</b></u></p>\n",
    "    <p>Тестирование и проверка адекватности выполены верно. Давай здесь дополнительно построим график ROC-кривой.</p>\n",
    "</div>"
   ]
  },
  {
   "cell_type": "markdown",
   "metadata": {},
   "source": [
    "<div class=\"alert alert-info\" style=\"border-color: #0080FF; border-radius: 5px\">\n",
    "    <p><u><b>КОММЕНТАРИЙ СТУДЕНТА</b></u></p>\n",
    "    <p>ROC-кривую построил. А модель по GridSearchCV оказалась провальной, после тестирования остальных - действительно лучшей осталась та же модель с частичным даунсемплингом и балансом классов. Масштабирование какого либо значимого влияния не оказало, хотя оптимальные гиперпараметры по GridSearchCV поменялись. Интересно!</p>     \n",
    "</div>"
   ]
  },
  {
   "cell_type": "markdown",
   "metadata": {},
   "source": [
    "<div class=\"alert alert-success\" style=\"border-color: green; border-radius: 5px\">\n",
    "    <p><u><b>✅ КОММЕНТАРИЙ РЕВЬЮЕРА v.2</b></u></p>\n",
    "    <p>Очень хорошо. Масштабирование признаков практически не оказывает влияния на качество нелинейных моделей.</p>\n",
    "</div>"
   ]
  },
  {
   "cell_type": "markdown",
   "metadata": {},
   "source": [
    "## Общий вывод"
   ]
  },
  {
   "cell_type": "markdown",
   "metadata": {},
   "source": [
    "Задачей исследования являлось создание модели для предсказывания поведения клиента банка с F1 мерой более 0.59. Целевым признаком являлось событие - уход клиента из банка.\n",
    "\n",
    "Перед началом исследования была проведена подготовка данных:\n",
    "* проведён первичный анализ данных;\n",
    "* убраны пропуски в данных;\n",
    "* убраны не влиящие на решение столбцы;\n",
    "* проведено прямое кодирование категориальных данных - пола и страны;\n",
    "* изменён тип данных в столбце 'Tenure'.\n",
    "\n",
    "Также при исследовании данных было проведено масштабирование столбцов с числовыми значениями - 'CreditScore', 'Age', 'Balance' и 'EstimatedSalary'.\n",
    "\n",
    "Первым этапом исследования являлся поиск гиперпараметров нескольких моделей на несбалансированных данных и выбор основной модели для дальнейшей доработки - была выбрана модель случайного леса.\n",
    "\n",
    "Вторым этапом исследования являлось испытание различных методик борьбы с дисбалансом данных и рассчёт гиперпараметров для модели случайного леса с применением каждой из методик:\n",
    "* использование веса классов;\n",
    "* даунсемплинг:\n",
    "    * частичный;\n",
    "    * полный;\n",
    "* оверсемплинг:\n",
    "    * SMOTE;\n",
    "    * ADASYN;\n",
    "    * Borderline SMOTE.\n",
    "    \n",
    "По результатам второго этапа была выбрана модель с полным даунсемплингом, однако на тестовой выборке эта модель не показала результат выше порогового - F1 мера модель = 0.59, что не удовлетворяет условию F1 > 0.59.\n",
    "\n",
    "Было принято решение проверить на тестовой выборке все остальные модели и составить сводный график, по результатам которого был выбран метод частичного даунсемплинга с использованием сбалансированных весов классов.\n",
    "\n",
    "Модель с частичным даунсемплингом и сбалансированными классами показала следующие результаты:\n",
    "* F1 мера = 0.62, что больше порогового значения по условию задачи F1 мера > 0.59;\n",
    "* ROC-AUC = 0.87,\n",
    "* модель была проверена на адекватность и признана адекватной.\n",
    "\n",
    "Также для этой модели были построены матрица ошибок и ROC-кривая.\n",
    "\n",
    "По результатам исследования, модель с частичным даунсемплингом и сбалансированными классами (random_forest_grid_b_ds) удовлетворяет заданой цели исследования."
   ]
  },
  {
   "cell_type": "markdown",
   "metadata": {},
   "source": [
    "<div class=\"alert alert-warning\" style=\"border-color: orange; border-radius: 5px\">\n",
    "    <p><u><b>⚠️ КОММЕНТАРИЙ РЕВЬЮЕРА v.1</b></u></p>\n",
    "    <p>Отлично вывод на месте. Не забудь откорректировать его после внесения изменений в проект, если понадобится.</p>\n",
    "</div>"
   ]
  },
  {
   "cell_type": "markdown",
   "metadata": {},
   "source": [
    "<div class=\"alert alert-success\" style=\"border-color: green; border-radius: 5px\">\n",
    "    <p><u><b>✅ КОММЕНТАРИЙ РЕВЬЮЕРА v.2</b></u></p>\n",
    "    <p>👍</p>\n",
    "</div>"
   ]
  },
  {
   "cell_type": "markdown",
   "metadata": {},
   "source": [
    "## Чек-лист готовности проекта"
   ]
  },
  {
   "cell_type": "markdown",
   "metadata": {},
   "source": [
    "Поставьте 'x' в выполненных пунктах. Далее нажмите Shift+Enter."
   ]
  },
  {
   "cell_type": "markdown",
   "metadata": {},
   "source": [
    "- [x]  Jupyter Notebook открыт\n",
    "- [x]  Весь код выполняется без ошибок\n",
    "- [x]  Ячейки с кодом расположены в порядке исполнения\n",
    "- [x]  Выполнен шаг 1: данные подготовлены\n",
    "- [x]  Выполнен шаг 2: задача исследована\n",
    "    - [x]  Исследован баланс классов\n",
    "    - [x]  Изучены модели без учёта дисбаланса\n",
    "    - [x]  Написаны выводы по результатам исследования\n",
    "- [x]  Выполнен шаг 3: учтён дисбаланс\n",
    "    - [x]  Применено несколько способов борьбы с дисбалансом\n",
    "    - [x]  Написаны выводы по результатам исследования\n",
    "- [x]  Выполнен шаг 4: проведено тестирование\n",
    "- [x]  Удалось достичь *F1*-меры не менее 0.59\n",
    "- [x]  Исследована метрика *AUC-ROC*"
   ]
  },
  {
   "cell_type": "markdown",
   "metadata": {},
   "source": [
    "<div class=\"alert alert-danger\" style=\"border-color: #8B0000; border-radius: 5px\">\n",
    "    <p><u><b>❌ КОММЕНТАРИЙ РЕВЬЮЕРА v.1</b></u></p>\n",
    "    <p>Родион, это супер крутой проект. Видно, что ты старался и очень системно подошел к работе. Хвалю за отличные, нетривиальные эксперименты и стройную логику. К проекту есть предложения по доработкам. Думаю, тебе не составит труда исправить замечания и вернуть мне тетредку на повторную проверку! Я постарался подробно все описать. Дополнительно рекомендую добавить комментарии к коду. Если возникнут вопросы задавай.</p>\n",
    "    <p>Успехов!</p>\n",
    "</div>"
   ]
  },
  {
   "cell_type": "markdown",
   "metadata": {},
   "source": [
    "<div class=\"alert alert-info\" style=\"border-color: #0080FF; border-radius: 5px\">\n",
    "    <p><u><b>КОММЕНТАРИЙ СТУДЕНТА</b></u></p>\n",
    "    <p>Замечания были отработаны, в рамках второй итерации проекта было проведено масштабирование данных и добавлен метод борьбы с дисбалансом - полный даунсемплинг до баланса классов 1:1. Однако, при хороших показателях F1 и AUC-ROC при подборе параметров с помощью GridSearchCV - на тестовой выборке эта модель оказалась провальной. В связи с этим было принято решение в рамках учебного проекта проверить на тестовой выборке остальные модели, что привело к выводу, аналогичному с первой итерацией проекта без масштабирования и полного даунсемплинга.</p>     \n",
    "</div>"
   ]
  },
  {
   "cell_type": "markdown",
   "metadata": {},
   "source": [
    "<div class=\"alert alert-success\" style=\"border-color: green; border-radius: 5px\">\n",
    "    <p><u><b>✅ КОММЕНТАРИЙ РЕВЬЮЕРА v.2</b></u></p>\n",
    "    <p>Родион, мы добрались до зачета по всем пунктам, критичных замечаний больше нет. Молодец, что выполнил и оформил все эксперименты!</p>\n",
    "    <p>Надеюсь тебя посетило то классное чувство профессиональной прокачки по ходу решения.</p>\n",
    "    <p>Для систематизации знаний делюсь с тобой классной ссылкой на учебник по ML от ШАД:</p>\n",
    "\n",
    "https://ml-handbook.ru/</p>\n",
    "    <p>Желаю не останавливаться на пути к поставленной цели. Успехов!</p>\n",
    "</div>"
   ]
  },
  {
   "cell_type": "markdown",
   "metadata": {},
   "source": [
    "<div style=\"background: #C0C0C0; padding: 5px; border: 1px solid black; border-radius: 5px;\">\n",
    "    <font color='black'><u><b>КОММЕНТАРИЙ РЕВЬЮЕРА</b></u></font><br />\n",
    "    <br />\n",
    "    Привет, Родион! Меня зовут Кирилл Киселев.<br />\n",
    "        На этом проекте я буду ревьюером. Предлагаю общаться на \"ты\". Если так будет неудобно, пожалуйста, дай знать.<br />\n",
    "        <br />\n",
    "        Моя цель - помочь тебе освоиться в новой профессии и научиться применять полученные знания максимально эффективно. Не стесняйся спрашивать, если что-то непонятно. Вместе проще разобраться с любыми вопросами.<br />\n",
    "        <br />\n",
    "В проекте тебе встретятся мои комментарии к коду и выводам. Пожалуйста, не удаляй их, так будет удобнее вести общение.<br />\n",
    "        Ниже приведены примеры оформления моих комментариев:<br />\n",
    "</div>"
   ]
  }
 ],
 "metadata": {
  "ExecuteTimeLog": [
   {
    "duration": 424,
    "start_time": "2022-09-23T18:06:46.388Z"
   },
   {
    "duration": 83,
    "start_time": "2022-09-23T18:07:01.892Z"
   },
   {
    "duration": 83,
    "start_time": "2022-09-23T18:07:07.508Z"
   },
   {
    "duration": 52,
    "start_time": "2022-09-23T18:20:29.716Z"
   },
   {
    "duration": 74,
    "start_time": "2022-09-23T18:21:22.541Z"
   },
   {
    "duration": 50,
    "start_time": "2022-09-23T18:21:38.246Z"
   },
   {
    "duration": 50,
    "start_time": "2022-09-23T18:21:47.150Z"
   },
   {
    "duration": 61,
    "start_time": "2022-09-23T18:43:47.241Z"
   },
   {
    "duration": 5,
    "start_time": "2022-09-23T18:48:03.458Z"
   },
   {
    "duration": 106,
    "start_time": "2022-09-25T16:29:45.309Z"
   },
   {
    "duration": 74,
    "start_time": "2022-09-25T16:29:53.753Z"
   },
   {
    "duration": 47,
    "start_time": "2022-09-25T16:29:58.228Z"
   },
   {
    "duration": 6,
    "start_time": "2022-09-25T16:30:15.962Z"
   },
   {
    "duration": 6,
    "start_time": "2022-09-25T16:30:35.971Z"
   },
   {
    "duration": 443,
    "start_time": "2022-09-25T16:30:40.493Z"
   },
   {
    "duration": 209,
    "start_time": "2022-09-25T16:30:42.162Z"
   },
   {
    "duration": 32,
    "start_time": "2022-09-25T16:30:44.179Z"
   },
   {
    "duration": 8,
    "start_time": "2022-09-25T16:31:33.452Z"
   },
   {
    "duration": 11,
    "start_time": "2022-09-25T16:31:38.590Z"
   },
   {
    "duration": 24,
    "start_time": "2022-09-25T16:31:49.613Z"
   },
   {
    "duration": 24,
    "start_time": "2022-09-25T16:32:18.462Z"
   },
   {
    "duration": 17,
    "start_time": "2022-09-25T16:33:15.317Z"
   },
   {
    "duration": 61,
    "start_time": "2022-09-25T16:38:35.796Z"
   },
   {
    "duration": 18,
    "start_time": "2022-09-25T16:39:05.605Z"
   },
   {
    "duration": 20,
    "start_time": "2022-09-25T16:43:46.828Z"
   },
   {
    "duration": 18,
    "start_time": "2022-09-25T16:46:02.526Z"
   },
   {
    "duration": 21,
    "start_time": "2022-09-25T16:46:23.479Z"
   },
   {
    "duration": 19,
    "start_time": "2022-09-25T16:46:29.879Z"
   },
   {
    "duration": 7,
    "start_time": "2022-09-25T16:54:50.474Z"
   },
   {
    "duration": 5,
    "start_time": "2022-09-25T16:55:56.019Z"
   },
   {
    "duration": 14,
    "start_time": "2022-09-25T16:56:11.420Z"
   },
   {
    "duration": 12,
    "start_time": "2022-09-25T16:58:22.403Z"
   },
   {
    "duration": 6,
    "start_time": "2022-09-25T16:58:25.715Z"
   },
   {
    "duration": 9,
    "start_time": "2022-09-25T17:02:54.521Z"
   },
   {
    "duration": 13,
    "start_time": "2022-09-25T17:04:04.826Z"
   },
   {
    "duration": 13,
    "start_time": "2022-09-25T17:04:06.426Z"
   },
   {
    "duration": 539,
    "start_time": "2022-09-25T17:04:18.531Z"
   },
   {
    "duration": 125,
    "start_time": "2022-09-25T17:05:04.261Z"
   },
   {
    "duration": 3,
    "start_time": "2022-09-25T17:05:17.859Z"
   },
   {
    "duration": 119,
    "start_time": "2022-09-25T17:05:21.421Z"
   },
   {
    "duration": 130,
    "start_time": "2022-09-25T17:05:48.120Z"
   },
   {
    "duration": 231,
    "start_time": "2022-09-25T17:06:18.707Z"
   },
   {
    "duration": 118,
    "start_time": "2022-09-25T17:06:29.073Z"
   },
   {
    "duration": 113,
    "start_time": "2022-09-25T17:07:25.253Z"
   },
   {
    "duration": 730,
    "start_time": "2022-09-25T17:09:57.044Z"
   },
   {
    "duration": 39,
    "start_time": "2022-09-25T17:14:06.011Z"
   },
   {
    "duration": 1433,
    "start_time": "2022-09-25T17:21:04.157Z"
   },
   {
    "duration": 72,
    "start_time": "2022-09-25T17:21:07.493Z"
   },
   {
    "duration": 14,
    "start_time": "2022-09-25T17:21:09.052Z"
   },
   {
    "duration": 16,
    "start_time": "2022-09-25T17:21:17.276Z"
   },
   {
    "duration": 13,
    "start_time": "2022-09-25T17:21:20.652Z"
   },
   {
    "duration": 19,
    "start_time": "2022-09-25T17:21:25.236Z"
   },
   {
    "duration": 16,
    "start_time": "2022-09-25T17:21:31.636Z"
   },
   {
    "duration": 127,
    "start_time": "2022-09-25T17:21:43.333Z"
   },
   {
    "duration": 6,
    "start_time": "2022-09-25T17:21:51.781Z"
   },
   {
    "duration": 7,
    "start_time": "2022-09-25T17:22:11.349Z"
   },
   {
    "duration": 9,
    "start_time": "2022-09-25T17:22:17.437Z"
   },
   {
    "duration": 7,
    "start_time": "2022-09-25T17:22:27.702Z"
   },
   {
    "duration": 9,
    "start_time": "2022-09-25T17:22:44.493Z"
   },
   {
    "duration": 8,
    "start_time": "2022-09-25T17:22:54.886Z"
   },
   {
    "duration": 49,
    "start_time": "2022-09-25T18:14:27.963Z"
   },
   {
    "duration": 1356,
    "start_time": "2022-09-25T18:14:32.795Z"
   },
   {
    "duration": 67,
    "start_time": "2022-09-25T18:14:34.153Z"
   },
   {
    "duration": 16,
    "start_time": "2022-09-25T18:14:35.155Z"
   },
   {
    "duration": 14,
    "start_time": "2022-09-25T18:14:36.266Z"
   },
   {
    "duration": 21,
    "start_time": "2022-09-25T18:14:37.475Z"
   },
   {
    "duration": 16,
    "start_time": "2022-09-25T18:14:38.523Z"
   },
   {
    "duration": 141,
    "start_time": "2022-09-25T18:14:40.491Z"
   },
   {
    "duration": 11,
    "start_time": "2022-09-25T18:14:41.626Z"
   },
   {
    "duration": 1322,
    "start_time": "2022-09-25T18:52:25.216Z"
   },
   {
    "duration": 67,
    "start_time": "2022-09-25T18:52:29.392Z"
   },
   {
    "duration": 17,
    "start_time": "2022-09-25T18:52:31.208Z"
   },
   {
    "duration": 13,
    "start_time": "2022-09-25T18:52:33.152Z"
   },
   {
    "duration": 18,
    "start_time": "2022-09-25T18:52:34.648Z"
   },
   {
    "duration": 18,
    "start_time": "2022-09-25T18:52:36.521Z"
   },
   {
    "duration": 126,
    "start_time": "2022-09-25T18:52:39.233Z"
   },
   {
    "duration": 9,
    "start_time": "2022-09-25T18:52:41.864Z"
   },
   {
    "duration": 1477,
    "start_time": "2022-09-25T18:55:50.301Z"
   },
   {
    "duration": 69,
    "start_time": "2022-09-25T18:55:51.781Z"
   },
   {
    "duration": 18,
    "start_time": "2022-09-25T18:55:51.852Z"
   },
   {
    "duration": 24,
    "start_time": "2022-09-25T18:55:51.871Z"
   },
   {
    "duration": 20,
    "start_time": "2022-09-25T18:55:51.897Z"
   },
   {
    "duration": 17,
    "start_time": "2022-09-25T18:55:51.918Z"
   },
   {
    "duration": 163,
    "start_time": "2022-09-25T18:55:51.937Z"
   },
   {
    "duration": 8,
    "start_time": "2022-09-25T18:55:52.102Z"
   },
   {
    "duration": 1441,
    "start_time": "2022-09-25T18:58:02.110Z"
   },
   {
    "duration": 65,
    "start_time": "2022-09-25T18:58:03.554Z"
   },
   {
    "duration": 14,
    "start_time": "2022-09-25T18:58:03.622Z"
   },
   {
    "duration": 12,
    "start_time": "2022-09-25T18:58:03.638Z"
   },
   {
    "duration": 17,
    "start_time": "2022-09-25T18:58:03.652Z"
   },
   {
    "duration": 30,
    "start_time": "2022-09-25T18:58:03.670Z"
   },
   {
    "duration": 163,
    "start_time": "2022-09-25T18:58:03.702Z"
   },
   {
    "duration": 8,
    "start_time": "2022-09-25T18:58:03.867Z"
   },
   {
    "duration": 1345,
    "start_time": "2022-09-25T19:12:27.271Z"
   },
   {
    "duration": 66,
    "start_time": "2022-09-25T19:12:28.618Z"
   },
   {
    "duration": 15,
    "start_time": "2022-09-25T19:12:28.688Z"
   },
   {
    "duration": 14,
    "start_time": "2022-09-25T19:12:28.705Z"
   },
   {
    "duration": 17,
    "start_time": "2022-09-25T19:12:28.721Z"
   },
   {
    "duration": 15,
    "start_time": "2022-09-25T19:12:28.740Z"
   },
   {
    "duration": 166,
    "start_time": "2022-09-25T19:12:28.757Z"
   },
   {
    "duration": 7,
    "start_time": "2022-09-25T19:12:28.925Z"
   },
   {
    "duration": 2337,
    "start_time": "2022-09-25T19:12:28.935Z"
   },
   {
    "duration": 1410,
    "start_time": "2022-09-25T19:14:11.502Z"
   },
   {
    "duration": 69,
    "start_time": "2022-09-25T19:14:12.915Z"
   },
   {
    "duration": 15,
    "start_time": "2022-09-25T19:14:12.986Z"
   },
   {
    "duration": 12,
    "start_time": "2022-09-25T19:14:13.002Z"
   },
   {
    "duration": 18,
    "start_time": "2022-09-25T19:14:13.016Z"
   },
   {
    "duration": 16,
    "start_time": "2022-09-25T19:14:13.037Z"
   },
   {
    "duration": 165,
    "start_time": "2022-09-25T19:14:13.056Z"
   },
   {
    "duration": 9,
    "start_time": "2022-09-25T19:14:13.223Z"
   },
   {
    "duration": 383593,
    "start_time": "2022-09-25T19:14:13.233Z"
   },
   {
    "duration": 128,
    "start_time": "2022-09-25T19:21:41.737Z"
   },
   {
    "duration": 14,
    "start_time": "2022-09-25T19:22:22.859Z"
   },
   {
    "duration": 19,
    "start_time": "2022-09-25T19:24:09.515Z"
   },
   {
    "duration": 121,
    "start_time": "2022-09-25T19:25:04.431Z"
   },
   {
    "duration": 128,
    "start_time": "2022-09-25T19:25:17.862Z"
   },
   {
    "duration": 244,
    "start_time": "2022-09-25T19:25:34.551Z"
   },
   {
    "duration": 477,
    "start_time": "2022-09-25T19:26:11.591Z"
   },
   {
    "duration": 374,
    "start_time": "2022-09-25T19:26:55.065Z"
   },
   {
    "duration": 354,
    "start_time": "2022-09-25T19:27:05.066Z"
   },
   {
    "duration": 395,
    "start_time": "2022-09-25T19:27:13.337Z"
   },
   {
    "duration": 1335,
    "start_time": "2022-09-25T19:31:32.188Z"
   },
   {
    "duration": 66,
    "start_time": "2022-09-25T19:31:33.524Z"
   },
   {
    "duration": 14,
    "start_time": "2022-09-25T19:31:33.592Z"
   },
   {
    "duration": 10,
    "start_time": "2022-09-25T19:31:33.608Z"
   },
   {
    "duration": 16,
    "start_time": "2022-09-25T19:31:33.620Z"
   },
   {
    "duration": 17,
    "start_time": "2022-09-25T19:31:33.637Z"
   },
   {
    "duration": 158,
    "start_time": "2022-09-25T19:31:33.656Z"
   },
   {
    "duration": 414,
    "start_time": "2022-09-25T19:31:33.816Z"
   },
   {
    "duration": 1418,
    "start_time": "2022-09-25T19:34:32.354Z"
   },
   {
    "duration": 72,
    "start_time": "2022-09-25T19:34:33.774Z"
   },
   {
    "duration": 17,
    "start_time": "2022-09-25T19:34:33.847Z"
   },
   {
    "duration": 31,
    "start_time": "2022-09-25T19:34:33.866Z"
   },
   {
    "duration": 20,
    "start_time": "2022-09-25T19:34:33.899Z"
   },
   {
    "duration": 19,
    "start_time": "2022-09-25T19:34:33.921Z"
   },
   {
    "duration": 158,
    "start_time": "2022-09-25T19:34:33.941Z"
   },
   {
    "duration": 412,
    "start_time": "2022-09-25T19:34:34.101Z"
   },
   {
    "duration": 1423,
    "start_time": "2022-09-25T19:43:56.646Z"
   },
   {
    "duration": 69,
    "start_time": "2022-09-25T19:43:58.071Z"
   },
   {
    "duration": 16,
    "start_time": "2022-09-25T19:43:58.141Z"
   },
   {
    "duration": 12,
    "start_time": "2022-09-25T19:43:58.159Z"
   },
   {
    "duration": 19,
    "start_time": "2022-09-25T19:43:58.194Z"
   },
   {
    "duration": 15,
    "start_time": "2022-09-25T19:43:58.215Z"
   },
   {
    "duration": 158,
    "start_time": "2022-09-25T19:43:58.232Z"
   },
   {
    "duration": 425,
    "start_time": "2022-09-25T19:43:58.394Z"
   },
   {
    "duration": 661509,
    "start_time": "2022-09-25T19:43:58.821Z"
   },
   {
    "duration": 4,
    "start_time": "2022-09-25T19:59:52.265Z"
   },
   {
    "duration": 35,
    "start_time": "2022-09-25T20:00:59.909Z"
   },
   {
    "duration": 36,
    "start_time": "2022-09-25T20:01:19.819Z"
   },
   {
    "duration": 3,
    "start_time": "2022-09-25T20:01:57.756Z"
   },
   {
    "duration": 68,
    "start_time": "2022-09-25T20:03:44.542Z"
   },
   {
    "duration": 104,
    "start_time": "2022-09-25T20:04:29.062Z"
   },
   {
    "duration": 67,
    "start_time": "2022-09-25T20:04:39.759Z"
   },
   {
    "duration": 109,
    "start_time": "2022-09-25T20:05:09.402Z"
   },
   {
    "duration": 8,
    "start_time": "2022-09-25T20:05:31.113Z"
   },
   {
    "duration": 24,
    "start_time": "2022-09-25T20:06:34.841Z"
   },
   {
    "duration": 95,
    "start_time": "2022-09-25T20:10:17.566Z"
   },
   {
    "duration": 693572,
    "start_time": "2022-09-25T20:14:29.164Z"
   },
   {
    "duration": 67,
    "start_time": "2022-09-25T20:26:59.445Z"
   },
   {
    "duration": 11,
    "start_time": "2022-09-25T20:29:31.104Z"
   },
   {
    "duration": 4,
    "start_time": "2022-09-25T20:30:59.775Z"
   },
   {
    "duration": 9,
    "start_time": "2022-09-25T20:31:12.993Z"
   },
   {
    "duration": 5,
    "start_time": "2022-09-25T20:31:16.946Z"
   },
   {
    "duration": 9,
    "start_time": "2022-09-25T20:31:28.179Z"
   },
   {
    "duration": 55,
    "start_time": "2022-09-25T20:31:41.890Z"
   },
   {
    "duration": 9,
    "start_time": "2022-09-25T20:31:59.874Z"
   },
   {
    "duration": 4,
    "start_time": "2022-09-25T20:32:04.227Z"
   },
   {
    "duration": 79,
    "start_time": "2022-09-25T20:32:15.883Z"
   },
   {
    "duration": 5,
    "start_time": "2022-09-25T20:33:18.068Z"
   },
   {
    "duration": 11,
    "start_time": "2022-09-25T20:34:12.855Z"
   },
   {
    "duration": 11,
    "start_time": "2022-09-25T20:34:30.006Z"
   },
   {
    "duration": 9,
    "start_time": "2022-09-25T20:34:34.935Z"
   },
   {
    "duration": 7,
    "start_time": "2022-09-25T20:34:48.559Z"
   },
   {
    "duration": 4,
    "start_time": "2022-09-25T20:35:08.160Z"
   },
   {
    "duration": 4,
    "start_time": "2022-09-25T20:35:12.240Z"
   },
   {
    "duration": 5,
    "start_time": "2022-09-25T20:35:25.174Z"
   },
   {
    "duration": 4,
    "start_time": "2022-09-25T20:35:28.712Z"
   },
   {
    "duration": 5,
    "start_time": "2022-09-25T20:35:35.583Z"
   },
   {
    "duration": 7,
    "start_time": "2022-09-25T20:35:57.959Z"
   },
   {
    "duration": 1521,
    "start_time": "2022-09-25T21:02:47.829Z"
   },
   {
    "duration": 74,
    "start_time": "2022-09-25T21:02:49.352Z"
   },
   {
    "duration": 15,
    "start_time": "2022-09-25T21:02:49.428Z"
   },
   {
    "duration": 13,
    "start_time": "2022-09-25T21:02:49.445Z"
   },
   {
    "duration": 51,
    "start_time": "2022-09-25T21:02:49.460Z"
   },
   {
    "duration": 17,
    "start_time": "2022-09-25T21:02:49.513Z"
   },
   {
    "duration": 150,
    "start_time": "2022-09-25T21:02:49.532Z"
   },
   {
    "duration": 430,
    "start_time": "2022-09-25T21:02:49.684Z"
   },
   {
    "duration": 1436540,
    "start_time": "2022-09-25T21:02:50.116Z"
   },
   {
    "duration": 7,
    "start_time": "2022-09-25T21:26:46.659Z"
   },
   {
    "duration": 70,
    "start_time": "2022-09-25T21:26:46.667Z"
   },
   {
    "duration": 1608,
    "start_time": "2022-09-26T19:18:53.008Z"
   },
   {
    "duration": 389,
    "start_time": "2022-09-26T19:18:54.618Z"
   },
   {
    "duration": 17,
    "start_time": "2022-09-26T19:18:55.009Z"
   },
   {
    "duration": 14,
    "start_time": "2022-09-26T19:18:58.632Z"
   },
   {
    "duration": 19,
    "start_time": "2022-09-26T19:19:00.849Z"
   },
   {
    "duration": 16,
    "start_time": "2022-09-26T19:19:03.152Z"
   },
   {
    "duration": 144,
    "start_time": "2022-09-26T19:19:06.184Z"
   },
   {
    "duration": 3,
    "start_time": "2022-09-26T19:20:15.593Z"
   },
   {
    "duration": 122,
    "start_time": "2022-09-26T19:20:40.730Z"
   },
   {
    "duration": 383,
    "start_time": "2022-09-26T19:20:49.635Z"
   },
   {
    "duration": 306,
    "start_time": "2022-09-26T19:20:53.450Z"
   },
   {
    "duration": 446,
    "start_time": "2022-09-26T19:21:32.827Z"
   },
   {
    "duration": 378,
    "start_time": "2022-09-26T19:22:18.629Z"
   },
   {
    "duration": 699837,
    "start_time": "2022-09-26T19:57:59.968Z"
   },
   {
    "duration": 78,
    "start_time": "2022-09-26T20:22:06.038Z"
   },
   {
    "duration": 1482,
    "start_time": "2022-09-27T18:17:48.252Z"
   },
   {
    "duration": 105,
    "start_time": "2022-09-27T18:17:51.700Z"
   },
   {
    "duration": 17,
    "start_time": "2022-09-27T18:17:54.572Z"
   },
   {
    "duration": 13,
    "start_time": "2022-09-27T18:17:57.156Z"
   },
   {
    "duration": 17,
    "start_time": "2022-09-27T18:17:59.531Z"
   },
   {
    "duration": 13,
    "start_time": "2022-09-27T18:18:06.244Z"
   },
   {
    "duration": 112,
    "start_time": "2022-09-27T18:18:09.948Z"
   },
   {
    "duration": 326,
    "start_time": "2022-09-27T18:18:12.844Z"
   },
   {
    "duration": 3,
    "start_time": "2022-09-27T18:34:09.776Z"
   },
   {
    "duration": 1265,
    "start_time": "2022-09-27T18:36:12.803Z"
   },
   {
    "duration": 65,
    "start_time": "2022-09-27T18:36:14.070Z"
   },
   {
    "duration": 16,
    "start_time": "2022-09-27T18:36:14.137Z"
   },
   {
    "duration": 12,
    "start_time": "2022-09-27T18:36:14.154Z"
   },
   {
    "duration": 38,
    "start_time": "2022-09-27T18:36:14.168Z"
   },
   {
    "duration": 16,
    "start_time": "2022-09-27T18:36:14.207Z"
   },
   {
    "duration": 119,
    "start_time": "2022-09-27T18:36:14.224Z"
   },
   {
    "duration": 392,
    "start_time": "2022-09-27T18:36:14.345Z"
   },
   {
    "duration": 4,
    "start_time": "2022-09-27T18:36:14.738Z"
   },
   {
    "duration": 0,
    "start_time": "2022-09-27T18:36:14.744Z"
   },
   {
    "duration": 0,
    "start_time": "2022-09-27T18:36:14.745Z"
   },
   {
    "duration": 0,
    "start_time": "2022-09-27T18:36:14.746Z"
   },
   {
    "duration": 0,
    "start_time": "2022-09-27T18:36:14.747Z"
   },
   {
    "duration": 0,
    "start_time": "2022-09-27T18:36:14.748Z"
   },
   {
    "duration": 1248,
    "start_time": "2022-09-27T18:37:22.048Z"
   },
   {
    "duration": 62,
    "start_time": "2022-09-27T18:37:23.299Z"
   },
   {
    "duration": 14,
    "start_time": "2022-09-27T18:37:23.362Z"
   },
   {
    "duration": 10,
    "start_time": "2022-09-27T18:37:23.377Z"
   },
   {
    "duration": 17,
    "start_time": "2022-09-27T18:37:23.389Z"
   },
   {
    "duration": 12,
    "start_time": "2022-09-27T18:37:23.407Z"
   },
   {
    "duration": 140,
    "start_time": "2022-09-27T18:37:23.421Z"
   },
   {
    "duration": 352,
    "start_time": "2022-09-27T18:37:23.562Z"
   },
   {
    "duration": 2642,
    "start_time": "2022-09-27T18:37:23.915Z"
   },
   {
    "duration": 9,
    "start_time": "2022-09-27T18:37:26.558Z"
   },
   {
    "duration": 635795,
    "start_time": "2022-09-27T18:37:26.568Z"
   },
   {
    "duration": 87,
    "start_time": "2022-09-27T18:48:02.365Z"
   },
   {
    "duration": 153,
    "start_time": "2022-09-27T18:48:02.453Z"
   },
   {
    "duration": 9,
    "start_time": "2022-09-27T18:48:02.608Z"
   },
   {
    "duration": 69,
    "start_time": "2022-09-27T18:48:49.662Z"
   },
   {
    "duration": 77,
    "start_time": "2022-09-27T18:49:37.799Z"
   },
   {
    "duration": 93,
    "start_time": "2022-09-27T18:51:46.082Z"
   },
   {
    "duration": 14645,
    "start_time": "2022-09-27T18:53:37.558Z"
   },
   {
    "duration": 15938,
    "start_time": "2022-09-27T18:54:21.781Z"
   },
   {
    "duration": 40,
    "start_time": "2022-09-27T18:54:49.566Z"
   },
   {
    "duration": 1263,
    "start_time": "2022-09-27T18:57:09.234Z"
   },
   {
    "duration": 63,
    "start_time": "2022-09-27T18:57:10.499Z"
   },
   {
    "duration": 14,
    "start_time": "2022-09-27T18:57:10.563Z"
   },
   {
    "duration": 11,
    "start_time": "2022-09-27T18:57:10.578Z"
   },
   {
    "duration": 19,
    "start_time": "2022-09-27T18:57:10.590Z"
   },
   {
    "duration": 13,
    "start_time": "2022-09-27T18:57:10.610Z"
   },
   {
    "duration": 124,
    "start_time": "2022-09-27T18:57:10.624Z"
   },
   {
    "duration": 361,
    "start_time": "2022-09-27T18:57:10.750Z"
   },
   {
    "duration": 2600,
    "start_time": "2022-09-27T18:57:11.113Z"
   },
   {
    "duration": 9,
    "start_time": "2022-09-27T18:57:13.716Z"
   },
   {
    "duration": 641253,
    "start_time": "2022-09-27T18:57:13.727Z"
   },
   {
    "duration": 77,
    "start_time": "2022-09-27T19:07:54.981Z"
   },
   {
    "duration": 27352,
    "start_time": "2022-09-27T19:07:55.059Z"
   },
   {
    "duration": 96,
    "start_time": "2022-09-27T19:08:22.413Z"
   },
   {
    "duration": 1818,
    "start_time": "2022-09-28T07:48:36.214Z"
   },
   {
    "duration": 212,
    "start_time": "2022-09-28T07:48:38.035Z"
   },
   {
    "duration": 17,
    "start_time": "2022-09-28T07:48:38.248Z"
   },
   {
    "duration": 13,
    "start_time": "2022-09-28T07:48:38.266Z"
   },
   {
    "duration": 20,
    "start_time": "2022-09-28T07:48:38.281Z"
   },
   {
    "duration": 22,
    "start_time": "2022-09-28T07:48:38.303Z"
   },
   {
    "duration": 157,
    "start_time": "2022-09-28T07:48:38.327Z"
   },
   {
    "duration": 439,
    "start_time": "2022-09-28T07:48:38.485Z"
   },
   {
    "duration": 301,
    "start_time": "2022-09-28T07:48:38.925Z"
   },
   {
    "duration": 14,
    "start_time": "2022-09-28T07:48:39.228Z"
   },
   {
    "duration": 0,
    "start_time": "2022-09-28T07:48:39.244Z"
   },
   {
    "duration": 0,
    "start_time": "2022-09-28T07:48:39.245Z"
   },
   {
    "duration": 0,
    "start_time": "2022-09-28T07:48:39.246Z"
   },
   {
    "duration": 0,
    "start_time": "2022-09-28T07:48:39.247Z"
   },
   {
    "duration": 1,
    "start_time": "2022-09-28T07:48:39.248Z"
   },
   {
    "duration": 0,
    "start_time": "2022-09-28T07:48:39.250Z"
   },
   {
    "duration": 1397,
    "start_time": "2022-09-28T07:49:30.746Z"
   },
   {
    "duration": 74,
    "start_time": "2022-09-28T07:49:32.145Z"
   },
   {
    "duration": 17,
    "start_time": "2022-09-28T07:49:32.221Z"
   },
   {
    "duration": 13,
    "start_time": "2022-09-28T07:49:32.239Z"
   },
   {
    "duration": 19,
    "start_time": "2022-09-28T07:49:32.254Z"
   },
   {
    "duration": 23,
    "start_time": "2022-09-28T07:49:32.300Z"
   },
   {
    "duration": 138,
    "start_time": "2022-09-28T07:49:32.325Z"
   },
   {
    "duration": 414,
    "start_time": "2022-09-28T07:49:32.465Z"
   },
   {
    "duration": 1386,
    "start_time": "2022-09-28T07:52:27.274Z"
   },
   {
    "duration": 71,
    "start_time": "2022-09-28T07:52:28.661Z"
   },
   {
    "duration": 15,
    "start_time": "2022-09-28T07:52:28.734Z"
   },
   {
    "duration": 12,
    "start_time": "2022-09-28T07:52:28.751Z"
   },
   {
    "duration": 47,
    "start_time": "2022-09-28T07:52:28.764Z"
   },
   {
    "duration": 17,
    "start_time": "2022-09-28T07:52:28.813Z"
   },
   {
    "duration": 141,
    "start_time": "2022-09-28T07:52:28.831Z"
   },
   {
    "duration": 429,
    "start_time": "2022-09-28T07:52:28.974Z"
   },
   {
    "duration": 2747776,
    "start_time": "2022-09-28T07:52:29.408Z"
   },
   {
    "duration": 24,
    "start_time": "2022-09-28T08:38:17.186Z"
   },
   {
    "duration": 0,
    "start_time": "2022-09-28T08:38:17.211Z"
   },
   {
    "duration": 0,
    "start_time": "2022-09-28T08:38:17.213Z"
   },
   {
    "duration": 0,
    "start_time": "2022-09-28T08:38:17.214Z"
   },
   {
    "duration": 0,
    "start_time": "2022-09-28T08:38:17.215Z"
   },
   {
    "duration": 0,
    "start_time": "2022-09-28T08:38:17.216Z"
   },
   {
    "duration": 0,
    "start_time": "2022-09-28T08:38:17.217Z"
   },
   {
    "duration": 1442,
    "start_time": "2022-09-28T08:38:58.977Z"
   },
   {
    "duration": 65,
    "start_time": "2022-09-28T08:39:00.421Z"
   },
   {
    "duration": 17,
    "start_time": "2022-09-28T08:39:00.488Z"
   },
   {
    "duration": 28,
    "start_time": "2022-09-28T08:39:00.509Z"
   },
   {
    "duration": 18,
    "start_time": "2022-09-28T08:39:00.538Z"
   },
   {
    "duration": 17,
    "start_time": "2022-09-28T08:39:00.557Z"
   },
   {
    "duration": 162,
    "start_time": "2022-09-28T08:39:00.576Z"
   },
   {
    "duration": 437,
    "start_time": "2022-09-28T08:39:00.740Z"
   },
   {
    "duration": 2979,
    "start_time": "2022-09-28T08:39:01.179Z"
   },
   {
    "duration": 11,
    "start_time": "2022-09-28T08:39:04.161Z"
   },
   {
    "duration": 740684,
    "start_time": "2022-09-28T08:39:04.173Z"
   },
   {
    "duration": 102,
    "start_time": "2022-09-28T08:51:24.859Z"
   },
   {
    "duration": 29133,
    "start_time": "2022-09-28T08:51:24.963Z"
   },
   {
    "duration": 111,
    "start_time": "2022-09-28T08:51:54.100Z"
   },
   {
    "duration": 1641,
    "start_time": "2022-09-28T12:12:45.178Z"
   },
   {
    "duration": 228,
    "start_time": "2022-09-28T12:12:46.821Z"
   },
   {
    "duration": 16,
    "start_time": "2022-09-28T12:12:47.051Z"
   },
   {
    "duration": 12,
    "start_time": "2022-09-28T12:12:47.069Z"
   },
   {
    "duration": 17,
    "start_time": "2022-09-28T12:12:47.084Z"
   },
   {
    "duration": 34,
    "start_time": "2022-09-28T12:12:47.102Z"
   },
   {
    "duration": 160,
    "start_time": "2022-09-28T12:12:47.138Z"
   },
   {
    "duration": 403,
    "start_time": "2022-09-28T12:12:47.299Z"
   },
   {
    "duration": 2798,
    "start_time": "2022-09-28T12:12:47.704Z"
   },
   {
    "duration": 19,
    "start_time": "2022-09-28T12:12:50.504Z"
   },
   {
    "duration": 680133,
    "start_time": "2022-09-28T12:12:50.525Z"
   },
   {
    "duration": 88,
    "start_time": "2022-09-28T12:24:10.660Z"
   },
   {
    "duration": 32697,
    "start_time": "2022-09-28T12:24:10.749Z"
   },
   {
    "duration": 98,
    "start_time": "2022-09-28T12:24:43.544Z"
   },
   {
    "duration": 3,
    "start_time": "2022-09-28T12:29:15.940Z"
   },
   {
    "duration": 4,
    "start_time": "2022-09-28T12:30:33.437Z"
   },
   {
    "duration": 16,
    "start_time": "2022-09-28T12:32:36.464Z"
   },
   {
    "duration": 35,
    "start_time": "2022-09-28T12:35:24.299Z"
   },
   {
    "duration": 2,
    "start_time": "2022-09-28T12:35:46.283Z"
   },
   {
    "duration": 29,
    "start_time": "2022-09-28T12:35:54.066Z"
   },
   {
    "duration": 104,
    "start_time": "2022-09-28T12:38:02.007Z"
   },
   {
    "duration": 10,
    "start_time": "2022-09-28T12:40:19.649Z"
   },
   {
    "duration": 4,
    "start_time": "2022-09-28T12:41:06.705Z"
   },
   {
    "duration": 11367,
    "start_time": "2022-09-28T12:41:08.732Z"
   },
   {
    "duration": 122,
    "start_time": "2022-09-28T12:41:37.321Z"
   },
   {
    "duration": 89,
    "start_time": "2022-09-28T12:41:40.602Z"
   },
   {
    "duration": 31,
    "start_time": "2022-09-28T12:42:50.867Z"
   },
   {
    "duration": 18,
    "start_time": "2022-09-28T12:43:14.163Z"
   },
   {
    "duration": 4,
    "start_time": "2022-09-28T12:43:24.540Z"
   },
   {
    "duration": 2208,
    "start_time": "2022-09-28T12:43:29.064Z"
   },
   {
    "duration": 1108,
    "start_time": "2022-09-28T12:43:31.274Z"
   },
   {
    "duration": 2,
    "start_time": "2022-09-28T12:43:32.384Z"
   },
   {
    "duration": 78,
    "start_time": "2022-09-28T12:43:32.388Z"
   },
   {
    "duration": 13,
    "start_time": "2022-09-28T12:43:32.468Z"
   },
   {
    "duration": 18,
    "start_time": "2022-09-28T12:43:32.482Z"
   },
   {
    "duration": 46,
    "start_time": "2022-09-28T12:43:32.501Z"
   },
   {
    "duration": 25,
    "start_time": "2022-09-28T12:43:32.548Z"
   },
   {
    "duration": 129,
    "start_time": "2022-09-28T12:43:32.575Z"
   },
   {
    "duration": 375,
    "start_time": "2022-09-28T12:43:32.707Z"
   },
   {
    "duration": 2619,
    "start_time": "2022-09-28T12:43:33.084Z"
   },
   {
    "duration": 28,
    "start_time": "2022-09-28T12:43:35.705Z"
   },
   {
    "duration": 667183,
    "start_time": "2022-09-28T12:43:35.734Z"
   },
   {
    "duration": 92,
    "start_time": "2022-09-28T12:54:42.921Z"
   },
   {
    "duration": 23811,
    "start_time": "2022-09-28T12:54:43.015Z"
   },
   {
    "duration": 190,
    "start_time": "2022-09-28T12:55:06.832Z"
   },
   {
    "duration": 24,
    "start_time": "2022-09-28T12:55:07.024Z"
   },
   {
    "duration": 95,
    "start_time": "2022-09-28T12:55:07.050Z"
   },
   {
    "duration": 45,
    "start_time": "2022-09-28T13:24:38.907Z"
   },
   {
    "duration": 3,
    "start_time": "2022-09-28T13:24:58.666Z"
   },
   {
    "duration": 242,
    "start_time": "2022-09-28T13:31:54.834Z"
   },
   {
    "duration": 13362,
    "start_time": "2022-09-28T13:33:51.949Z"
   },
   {
    "duration": 2,
    "start_time": "2022-09-28T13:36:11.802Z"
   },
   {
    "duration": 7031,
    "start_time": "2022-09-28T13:36:24.425Z"
   },
   {
    "duration": 79784,
    "start_time": "2022-09-28T13:37:31.292Z"
   },
   {
    "duration": 26120,
    "start_time": "2022-09-28T13:40:09.261Z"
   },
   {
    "duration": 494458,
    "start_time": "2022-09-28T13:41:04.960Z"
   },
   {
    "duration": 2330315,
    "start_time": "2022-09-28T13:49:29.004Z"
   },
   {
    "duration": 3,
    "start_time": "2022-09-28T14:38:37.521Z"
   },
   {
    "duration": 2292207,
    "start_time": "2022-09-28T14:38:47.275Z"
   },
   {
    "duration": 4,
    "start_time": "2022-09-28T15:18:51.781Z"
   },
   {
    "duration": 1213,
    "start_time": "2022-09-28T15:18:51.786Z"
   },
   {
    "duration": 31,
    "start_time": "2022-09-28T15:18:53.000Z"
   },
   {
    "duration": 6,
    "start_time": "2022-09-28T15:18:53.033Z"
   },
   {
    "duration": 79,
    "start_time": "2022-09-28T15:18:53.042Z"
   },
   {
    "duration": 26,
    "start_time": "2022-09-28T15:18:53.124Z"
   },
   {
    "duration": 12,
    "start_time": "2022-09-28T15:18:53.152Z"
   },
   {
    "duration": 16,
    "start_time": "2022-09-28T15:18:53.166Z"
   },
   {
    "duration": 52,
    "start_time": "2022-09-28T15:18:53.183Z"
   },
   {
    "duration": 148,
    "start_time": "2022-09-28T15:18:53.238Z"
   },
   {
    "duration": 434,
    "start_time": "2022-09-28T15:18:53.387Z"
   },
   {
    "duration": 2902,
    "start_time": "2022-09-28T15:18:53.824Z"
   },
   {
    "duration": 18,
    "start_time": "2022-09-28T15:18:56.729Z"
   },
   {
    "duration": 689534,
    "start_time": "2022-09-28T15:18:56.750Z"
   },
   {
    "duration": 85,
    "start_time": "2022-09-28T15:30:26.286Z"
   },
   {
    "duration": 38966,
    "start_time": "2022-09-28T15:30:26.373Z"
   },
   {
    "duration": 190,
    "start_time": "2022-09-28T15:31:05.341Z"
   },
   {
    "duration": 199,
    "start_time": "2022-09-28T15:31:05.533Z"
   },
   {
    "duration": 17,
    "start_time": "2022-09-28T15:31:05.735Z"
   },
   {
    "duration": 13822,
    "start_time": "2022-09-28T15:31:05.753Z"
   },
   {
    "duration": 2023879,
    "start_time": "2022-09-28T15:31:19.576Z"
   },
   {
    "duration": 1887730,
    "start_time": "2022-09-28T16:05:03.456Z"
   },
   {
    "duration": 12338,
    "start_time": "2022-09-28T16:36:31.188Z"
   },
   {
    "duration": 6,
    "start_time": "2022-09-29T09:18:22.290Z"
   },
   {
    "duration": 1739,
    "start_time": "2022-09-29T09:18:22.302Z"
   },
   {
    "duration": 125,
    "start_time": "2022-09-29T09:18:24.042Z"
   },
   {
    "duration": 0,
    "start_time": "2022-09-29T09:18:24.170Z"
   },
   {
    "duration": 0,
    "start_time": "2022-09-29T09:18:24.172Z"
   },
   {
    "duration": 0,
    "start_time": "2022-09-29T09:18:24.173Z"
   },
   {
    "duration": 0,
    "start_time": "2022-09-29T09:18:24.175Z"
   },
   {
    "duration": 0,
    "start_time": "2022-09-29T09:18:24.176Z"
   },
   {
    "duration": 0,
    "start_time": "2022-09-29T09:18:24.177Z"
   },
   {
    "duration": 0,
    "start_time": "2022-09-29T09:18:24.178Z"
   },
   {
    "duration": 0,
    "start_time": "2022-09-29T09:18:24.199Z"
   },
   {
    "duration": 0,
    "start_time": "2022-09-29T09:18:24.200Z"
   },
   {
    "duration": 0,
    "start_time": "2022-09-29T09:18:24.201Z"
   },
   {
    "duration": 0,
    "start_time": "2022-09-29T09:18:24.203Z"
   },
   {
    "duration": 0,
    "start_time": "2022-09-29T09:18:24.203Z"
   },
   {
    "duration": 0,
    "start_time": "2022-09-29T09:18:24.205Z"
   },
   {
    "duration": 0,
    "start_time": "2022-09-29T09:18:24.206Z"
   },
   {
    "duration": 0,
    "start_time": "2022-09-29T09:18:24.207Z"
   },
   {
    "duration": 0,
    "start_time": "2022-09-29T09:18:24.208Z"
   },
   {
    "duration": 0,
    "start_time": "2022-09-29T09:18:24.208Z"
   },
   {
    "duration": 0,
    "start_time": "2022-09-29T09:18:24.209Z"
   },
   {
    "duration": 0,
    "start_time": "2022-09-29T09:18:24.216Z"
   },
   {
    "duration": 0,
    "start_time": "2022-09-29T09:18:24.218Z"
   },
   {
    "duration": 8277,
    "start_time": "2022-09-29T09:19:55.872Z"
   },
   {
    "duration": 4,
    "start_time": "2022-09-29T09:20:11.613Z"
   },
   {
    "duration": 1335,
    "start_time": "2022-09-29T09:20:11.620Z"
   },
   {
    "duration": 45,
    "start_time": "2022-09-29T09:20:12.957Z"
   },
   {
    "duration": 5,
    "start_time": "2022-09-29T09:20:13.004Z"
   },
   {
    "duration": 223,
    "start_time": "2022-09-29T09:20:13.013Z"
   },
   {
    "duration": 17,
    "start_time": "2022-09-29T09:20:13.238Z"
   },
   {
    "duration": 13,
    "start_time": "2022-09-29T09:20:13.256Z"
   },
   {
    "duration": 39,
    "start_time": "2022-09-29T09:20:13.271Z"
   },
   {
    "duration": 16,
    "start_time": "2022-09-29T09:20:13.311Z"
   },
   {
    "duration": 150,
    "start_time": "2022-09-29T09:20:13.328Z"
   },
   {
    "duration": 434,
    "start_time": "2022-09-29T09:20:13.480Z"
   },
   {
    "duration": 3095,
    "start_time": "2022-09-29T09:20:13.916Z"
   },
   {
    "duration": 12,
    "start_time": "2022-09-29T09:20:17.013Z"
   },
   {
    "duration": 758553,
    "start_time": "2022-09-29T09:20:17.027Z"
   },
   {
    "duration": 97,
    "start_time": "2022-09-29T09:32:55.582Z"
   },
   {
    "duration": 23346,
    "start_time": "2022-09-29T09:32:55.681Z"
   },
   {
    "duration": 100,
    "start_time": "2022-09-29T09:33:19.099Z"
   },
   {
    "duration": 4,
    "start_time": "2022-09-29T09:33:19.214Z"
   },
   {
    "duration": 243,
    "start_time": "2022-09-29T09:33:19.223Z"
   },
   {
    "duration": 0,
    "start_time": "2022-09-29T09:33:19.468Z"
   },
   {
    "duration": 0,
    "start_time": "2022-09-29T09:33:19.470Z"
   },
   {
    "duration": 0,
    "start_time": "2022-09-29T09:33:19.472Z"
   },
   {
    "duration": 0,
    "start_time": "2022-09-29T09:33:19.473Z"
   },
   {
    "duration": 0,
    "start_time": "2022-09-29T09:33:19.475Z"
   },
   {
    "duration": 33,
    "start_time": "2022-09-29T09:43:08.107Z"
   },
   {
    "duration": 31370,
    "start_time": "2022-09-29T09:43:10.169Z"
   },
   {
    "duration": 32760,
    "start_time": "2022-09-29T09:43:41.541Z"
   },
   {
    "duration": 2811788,
    "start_time": "2022-09-29T09:44:14.304Z"
   },
   {
    "duration": 112,
    "start_time": "2022-09-29T10:31:06.096Z"
   },
   {
    "duration": 90,
    "start_time": "2022-09-29T10:31:06.213Z"
   },
   {
    "duration": 2707995,
    "start_time": "2022-09-29T10:36:23.466Z"
   },
   {
    "duration": 2458444,
    "start_time": "2022-09-29T11:21:31.463Z"
   },
   {
    "duration": 16333,
    "start_time": "2022-09-29T12:09:34.183Z"
   },
   {
    "duration": 11603,
    "start_time": "2022-09-29T12:12:04.992Z"
   },
   {
    "duration": 24130,
    "start_time": "2022-09-29T12:12:22.672Z"
   },
   {
    "duration": 26196,
    "start_time": "2022-09-29T12:13:11.105Z"
   },
   {
    "duration": 26395,
    "start_time": "2022-09-29T12:13:37.303Z"
   },
   {
    "duration": 40,
    "start_time": "2022-09-29T12:17:20.726Z"
   },
   {
    "duration": 30,
    "start_time": "2022-09-29T12:20:04.138Z"
   },
   {
    "duration": 3,
    "start_time": "2022-09-29T12:20:45.846Z"
   },
   {
    "duration": 131,
    "start_time": "2022-09-29T12:22:51.461Z"
   },
   {
    "duration": 2,
    "start_time": "2022-09-29T12:23:22.031Z"
   },
   {
    "duration": 4693,
    "start_time": "2022-09-29T12:23:53.263Z"
   },
   {
    "duration": 9139,
    "start_time": "2022-09-29T12:24:15.224Z"
   },
   {
    "duration": 18,
    "start_time": "2022-09-29T12:24:46.608Z"
   },
   {
    "duration": 241,
    "start_time": "2022-09-29T12:26:45.994Z"
   },
   {
    "duration": 235,
    "start_time": "2022-09-29T12:27:00.122Z"
   },
   {
    "duration": 336074,
    "start_time": "2022-09-29T12:27:15.395Z"
   },
   {
    "duration": 701,
    "start_time": "2022-09-29T12:32:54.091Z"
   },
   {
    "duration": 8983,
    "start_time": "2022-09-29T12:33:21.436Z"
   },
   {
    "duration": 9135,
    "start_time": "2022-09-29T12:33:48.740Z"
   },
   {
    "duration": 12,
    "start_time": "2022-09-29T12:34:12.142Z"
   },
   {
    "duration": 9271,
    "start_time": "2022-09-29T12:34:53.686Z"
   },
   {
    "duration": 12,
    "start_time": "2022-09-29T12:35:12.302Z"
   },
   {
    "duration": 705,
    "start_time": "2022-09-29T12:36:38.152Z"
   },
   {
    "duration": 641,
    "start_time": "2022-09-29T12:36:57.433Z"
   },
   {
    "duration": 9378,
    "start_time": "2022-09-29T12:37:33.722Z"
   },
   {
    "duration": 14,
    "start_time": "2022-09-29T12:37:45.242Z"
   },
   {
    "duration": 9535,
    "start_time": "2022-09-29T12:38:21.699Z"
   },
   {
    "duration": 13,
    "start_time": "2022-09-29T12:38:44.179Z"
   },
   {
    "duration": 9449,
    "start_time": "2022-09-29T12:39:34.540Z"
   },
   {
    "duration": 17,
    "start_time": "2022-09-29T12:39:46.781Z"
   },
   {
    "duration": 258880,
    "start_time": "2022-09-29T12:40:33.926Z"
   },
   {
    "duration": 16,
    "start_time": "2022-09-29T12:44:52.808Z"
   },
   {
    "duration": 0,
    "start_time": "2022-09-29T12:44:52.825Z"
   },
   {
    "duration": 0,
    "start_time": "2022-09-29T12:44:52.827Z"
   },
   {
    "duration": 0,
    "start_time": "2022-09-29T12:44:52.829Z"
   },
   {
    "duration": 0,
    "start_time": "2022-09-29T12:44:52.831Z"
   },
   {
    "duration": 4,
    "start_time": "2022-09-29T12:48:10.725Z"
   },
   {
    "duration": 1188,
    "start_time": "2022-09-29T12:48:10.731Z"
   },
   {
    "duration": 30,
    "start_time": "2022-09-29T12:48:11.921Z"
   },
   {
    "duration": 3,
    "start_time": "2022-09-29T12:48:11.953Z"
   },
   {
    "duration": 77,
    "start_time": "2022-09-29T12:48:11.957Z"
   },
   {
    "duration": 16,
    "start_time": "2022-09-29T12:48:12.036Z"
   },
   {
    "duration": 12,
    "start_time": "2022-09-29T12:48:12.053Z"
   },
   {
    "duration": 38,
    "start_time": "2022-09-29T12:48:12.067Z"
   },
   {
    "duration": 15,
    "start_time": "2022-09-29T12:48:12.107Z"
   },
   {
    "duration": 154,
    "start_time": "2022-09-29T12:48:12.124Z"
   },
   {
    "duration": 417,
    "start_time": "2022-09-29T12:48:12.281Z"
   },
   {
    "duration": 2864,
    "start_time": "2022-09-29T12:48:12.700Z"
   },
   {
    "duration": 11,
    "start_time": "2022-09-29T12:48:15.565Z"
   },
   {
    "duration": 723010,
    "start_time": "2022-09-29T12:48:15.578Z"
   },
   {
    "duration": 84,
    "start_time": "2022-09-29T13:00:18.589Z"
   },
   {
    "duration": 11027,
    "start_time": "2022-09-29T13:00:18.674Z"
   },
   {
    "duration": 103,
    "start_time": "2022-09-29T13:00:29.703Z"
   },
   {
    "duration": 199,
    "start_time": "2022-09-29T13:00:29.808Z"
   },
   {
    "duration": 55,
    "start_time": "2022-09-29T13:00:30.010Z"
   },
   {
    "duration": 636,
    "start_time": "2022-09-29T13:00:30.066Z"
   },
   {
    "duration": 9500,
    "start_time": "2022-09-29T13:00:30.704Z"
   },
   {
    "duration": 13,
    "start_time": "2022-09-29T13:00:40.206Z"
   },
   {
    "duration": 9590,
    "start_time": "2022-09-29T13:00:40.220Z"
   },
   {
    "duration": 13,
    "start_time": "2022-09-29T13:00:49.812Z"
   },
   {
    "duration": 9770,
    "start_time": "2022-09-29T13:00:49.826Z"
   },
   {
    "duration": 12,
    "start_time": "2022-09-29T13:00:59.598Z"
   },
   {
    "duration": 2319369,
    "start_time": "2022-09-29T13:00:59.612Z"
   },
   {
    "duration": 186,
    "start_time": "2022-09-29T13:39:38.983Z"
   },
   {
    "duration": 2373400,
    "start_time": "2022-09-29T13:39:39.172Z"
   },
   {
    "duration": 150,
    "start_time": "2022-09-29T14:19:12.573Z"
   },
   {
    "duration": 741305,
    "start_time": "2022-09-29T14:19:12.724Z"
   },
   {
    "duration": 14,
    "start_time": "2022-09-29T14:31:34.030Z"
   },
   {
    "duration": 0,
    "start_time": "2022-09-29T14:31:34.046Z"
   },
   {
    "duration": 0,
    "start_time": "2022-09-29T14:31:34.047Z"
   },
   {
    "duration": 0,
    "start_time": "2022-09-29T14:31:34.049Z"
   },
   {
    "duration": 0,
    "start_time": "2022-09-29T14:31:34.050Z"
   },
   {
    "duration": 0,
    "start_time": "2022-09-29T14:31:34.051Z"
   },
   {
    "duration": 0,
    "start_time": "2022-09-29T14:31:34.052Z"
   },
   {
    "duration": 0,
    "start_time": "2022-09-29T14:31:34.053Z"
   },
   {
    "duration": 64,
    "start_time": "2022-09-29T14:31:49.832Z"
   },
   {
    "duration": 20,
    "start_time": "2022-09-29T14:31:53.313Z"
   },
   {
    "duration": 15,
    "start_time": "2022-09-29T14:31:57.344Z"
   },
   {
    "duration": 20,
    "start_time": "2022-09-29T14:32:00.034Z"
   },
   {
    "duration": 16,
    "start_time": "2022-09-29T14:32:03.914Z"
   },
   {
    "duration": 22,
    "start_time": "2022-09-29T14:32:10.822Z"
   },
   {
    "duration": 486,
    "start_time": "2022-09-29T14:32:27.635Z"
   },
   {
    "duration": 12,
    "start_time": "2022-09-29T14:32:32.499Z"
   },
   {
    "duration": 440,
    "start_time": "2022-09-29T14:32:35.347Z"
   },
   {
    "duration": 8654,
    "start_time": "2022-09-29T14:32:46.187Z"
   },
   {
    "duration": 15,
    "start_time": "2022-09-29T14:32:58.123Z"
   },
   {
    "duration": 8835,
    "start_time": "2022-09-29T14:33:02.146Z"
   },
   {
    "duration": 14,
    "start_time": "2022-09-29T14:33:13.707Z"
   },
   {
    "duration": 8578,
    "start_time": "2022-09-29T14:33:16.173Z"
   },
   {
    "duration": 13,
    "start_time": "2022-09-29T14:33:31.924Z"
   },
   {
    "duration": 2258971,
    "start_time": "2022-09-29T14:33:36.100Z"
   },
   {
    "duration": 201,
    "start_time": "2022-09-29T15:11:15.073Z"
   },
   {
    "duration": 2460611,
    "start_time": "2022-09-29T15:11:15.276Z"
   },
   {
    "duration": 151,
    "start_time": "2022-09-29T15:52:15.889Z"
   },
   {
    "duration": 2224065,
    "start_time": "2022-09-29T15:52:16.042Z"
   },
   {
    "duration": 106,
    "start_time": "2022-09-29T16:29:20.109Z"
   },
   {
    "duration": 48587,
    "start_time": "2022-09-29T16:29:20.217Z"
   },
   {
    "duration": 103,
    "start_time": "2022-09-29T16:30:08.807Z"
   },
   {
    "duration": 83320,
    "start_time": "2022-09-29T16:30:08.994Z"
   },
   {
    "duration": 183,
    "start_time": "2022-09-29T16:31:32.318Z"
   },
   {
    "duration": 75500,
    "start_time": "2022-09-29T16:31:32.503Z"
   },
   {
    "duration": 203,
    "start_time": "2022-09-29T16:32:48.004Z"
   },
   {
    "duration": 91,
    "start_time": "2022-09-29T16:32:48.216Z"
   },
   {
    "duration": 5,
    "start_time": "2022-09-29T17:08:29.925Z"
   },
   {
    "duration": 1067,
    "start_time": "2022-09-29T17:10:13.845Z"
   },
   {
    "duration": 724,
    "start_time": "2022-09-29T17:13:57.791Z"
   },
   {
    "duration": 22,
    "start_time": "2022-09-29T17:16:44.243Z"
   },
   {
    "duration": 22,
    "start_time": "2022-09-29T17:17:23.011Z"
   },
   {
    "duration": 5,
    "start_time": "2022-09-29T17:17:40.564Z"
   },
   {
    "duration": 59,
    "start_time": "2022-09-29T17:17:50.500Z"
   },
   {
    "duration": 12,
    "start_time": "2022-09-29T17:19:53.013Z"
   },
   {
    "duration": 87,
    "start_time": "2022-09-29T18:21:43.934Z"
   },
   {
    "duration": 9127,
    "start_time": "2022-09-29T18:24:17.477Z"
   },
   {
    "duration": 9609,
    "start_time": "2022-09-29T18:26:57.890Z"
   },
   {
    "duration": 8848,
    "start_time": "2022-09-29T18:27:31.778Z"
   },
   {
    "duration": 6,
    "start_time": "2022-09-29T18:32:20.817Z"
   },
   {
    "duration": 22,
    "start_time": "2022-09-29T18:33:38.754Z"
   },
   {
    "duration": 8,
    "start_time": "2022-09-29T18:34:25.099Z"
   },
   {
    "duration": 14,
    "start_time": "2022-09-29T18:34:31.603Z"
   },
   {
    "duration": 298,
    "start_time": "2022-09-29T18:34:53.660Z"
   },
   {
    "duration": 289,
    "start_time": "2022-09-29T18:35:19.973Z"
   },
   {
    "duration": 291,
    "start_time": "2022-09-29T18:35:34.772Z"
   },
   {
    "duration": 393,
    "start_time": "2022-09-29T18:35:40.172Z"
   },
   {
    "duration": 12,
    "start_time": "2022-09-29T18:36:53.037Z"
   },
   {
    "duration": 16,
    "start_time": "2022-09-29T18:36:54.294Z"
   },
   {
    "duration": 134,
    "start_time": "2022-09-29T18:37:23.039Z"
   },
   {
    "duration": 21,
    "start_time": "2022-09-29T18:37:29.951Z"
   },
   {
    "duration": 27,
    "start_time": "2022-09-29T18:37:43.224Z"
   },
   {
    "duration": 17,
    "start_time": "2022-09-29T18:38:04.616Z"
   },
   {
    "duration": 2,
    "start_time": "2022-09-29T18:39:34.770Z"
   },
   {
    "duration": 399508,
    "start_time": "2022-09-29T18:39:47.243Z"
   },
   {
    "duration": 136,
    "start_time": "2022-09-29T18:46:26.753Z"
   },
   {
    "duration": 645077,
    "start_time": "2022-09-29T19:00:53.818Z"
   },
   {
    "duration": 80,
    "start_time": "2022-09-29T19:11:38.897Z"
   },
   {
    "duration": 164,
    "start_time": "2022-09-29T19:14:22.454Z"
   },
   {
    "duration": 430,
    "start_time": "2022-09-29T19:14:28.653Z"
   },
   {
    "duration": 435,
    "start_time": "2022-09-29T19:14:39.110Z"
   },
   {
    "duration": 423,
    "start_time": "2022-09-29T19:15:06.165Z"
   },
   {
    "duration": 213,
    "start_time": "2022-09-29T19:15:16.950Z"
   },
   {
    "duration": 90,
    "start_time": "2022-09-29T19:15:30.911Z"
   },
   {
    "duration": 4,
    "start_time": "2022-09-29T19:18:36.202Z"
   },
   {
    "duration": 5,
    "start_time": "2022-09-29T19:19:34.027Z"
   },
   {
    "duration": 71,
    "start_time": "2022-09-29T19:22:33.319Z"
   },
   {
    "duration": 12,
    "start_time": "2022-09-29T19:23:32.609Z"
   },
   {
    "duration": 27,
    "start_time": "2022-09-29T19:24:12.082Z"
   },
   {
    "duration": 1195336,
    "start_time": "2022-09-29T19:44:17.931Z"
   },
   {
    "duration": 8943,
    "start_time": "2022-09-30T07:26:36.185Z"
   },
   {
    "duration": 3,
    "start_time": "2022-09-30T07:27:01.309Z"
   },
   {
    "duration": 1501,
    "start_time": "2022-09-30T07:27:04.163Z"
   },
   {
    "duration": 4,
    "start_time": "2022-09-30T07:27:13.508Z"
   },
   {
    "duration": 39,
    "start_time": "2022-09-30T07:27:15.315Z"
   },
   {
    "duration": 2,
    "start_time": "2022-09-30T07:27:17.036Z"
   },
   {
    "duration": 127,
    "start_time": "2022-09-30T07:27:18.707Z"
   },
   {
    "duration": 17,
    "start_time": "2022-09-30T07:27:21.524Z"
   },
   {
    "duration": 12,
    "start_time": "2022-09-30T07:27:23.612Z"
   },
   {
    "duration": 23,
    "start_time": "2022-09-30T07:27:25.399Z"
   },
   {
    "duration": 15,
    "start_time": "2022-09-30T07:29:39.390Z"
   },
   {
    "duration": 141,
    "start_time": "2022-09-30T07:29:46.052Z"
   },
   {
    "duration": 422,
    "start_time": "2022-09-30T07:30:35.249Z"
   },
   {
    "duration": 535,
    "start_time": "2022-09-30T07:30:46.832Z"
   },
   {
    "duration": 45,
    "start_time": "2022-09-30T07:31:00.713Z"
   },
   {
    "duration": 158,
    "start_time": "2022-09-30T07:31:07.153Z"
   },
   {
    "duration": 388,
    "start_time": "2022-09-30T07:31:10.505Z"
   },
   {
    "duration": 2788,
    "start_time": "2022-09-30T07:31:22.705Z"
   },
   {
    "duration": 12,
    "start_time": "2022-09-30T07:31:25.499Z"
   },
   {
    "duration": 721821,
    "start_time": "2022-09-30T07:31:25.513Z"
   },
   {
    "duration": 97,
    "start_time": "2022-09-30T07:43:27.337Z"
   },
   {
    "duration": 54346,
    "start_time": "2022-09-30T07:43:27.436Z"
   },
   {
    "duration": 114,
    "start_time": "2022-09-30T07:44:21.789Z"
   },
   {
    "duration": 1551375,
    "start_time": "2022-09-30T07:52:57.065Z"
   },
   {
    "duration": 68,
    "start_time": "2022-09-30T08:18:48.443Z"
   },
   {
    "duration": 47,
    "start_time": "2022-09-30T09:56:24.233Z"
   },
   {
    "duration": 1113650,
    "start_time": "2022-09-30T09:56:45.012Z"
   },
   {
    "duration": 91,
    "start_time": "2022-09-30T10:16:26.200Z"
   },
   {
    "duration": 5,
    "start_time": "2022-09-30T10:17:21.137Z"
   },
   {
    "duration": 10,
    "start_time": "2022-09-30T10:17:59.745Z"
   },
   {
    "duration": 11,
    "start_time": "2022-09-30T10:18:23.107Z"
   },
   {
    "duration": 13,
    "start_time": "2022-09-30T10:18:40.103Z"
   },
   {
    "duration": 12,
    "start_time": "2022-09-30T10:19:07.420Z"
   },
   {
    "duration": 13,
    "start_time": "2022-09-30T10:19:12.332Z"
   },
   {
    "duration": 16,
    "start_time": "2022-09-30T10:19:15.437Z"
   },
   {
    "duration": 15,
    "start_time": "2022-09-30T10:19:19.973Z"
   },
   {
    "duration": 821955,
    "start_time": "2022-09-30T10:19:42.460Z"
   },
   {
    "duration": 90,
    "start_time": "2022-09-30T10:33:24.417Z"
   },
   {
    "duration": 14,
    "start_time": "2022-09-30T10:34:18.153Z"
   },
   {
    "duration": 647200,
    "start_time": "2022-09-30T10:35:49.565Z"
   },
   {
    "duration": 162,
    "start_time": "2022-09-30T10:54:45.600Z"
   },
   {
    "duration": 641394,
    "start_time": "2022-09-30T10:59:13.135Z"
   },
   {
    "duration": 113,
    "start_time": "2022-09-30T11:09:54.531Z"
   },
   {
    "duration": 5,
    "start_time": "2022-09-30T12:32:30.511Z"
   },
   {
    "duration": 58,
    "start_time": "2022-09-30T12:32:30.518Z"
   },
   {
    "duration": 100,
    "start_time": "2022-09-30T12:32:30.579Z"
   },
   {
    "duration": 146,
    "start_time": "2022-09-30T12:32:30.684Z"
   },
   {
    "duration": 17,
    "start_time": "2022-09-30T12:32:30.833Z"
   },
   {
    "duration": 38,
    "start_time": "2022-09-30T12:32:30.851Z"
   },
   {
    "duration": 52,
    "start_time": "2022-09-30T12:32:30.894Z"
   },
   {
    "duration": 21,
    "start_time": "2022-09-30T12:32:30.949Z"
   },
   {
    "duration": 179,
    "start_time": "2022-09-30T12:32:30.973Z"
   },
   {
    "duration": 481,
    "start_time": "2022-09-30T12:32:31.154Z"
   },
   {
    "duration": 3253,
    "start_time": "2022-09-30T12:32:31.638Z"
   },
   {
    "duration": 20,
    "start_time": "2022-09-30T12:32:34.893Z"
   },
   {
    "duration": 805289,
    "start_time": "2022-09-30T12:32:34.915Z"
   },
   {
    "duration": 94,
    "start_time": "2022-09-30T12:46:00.210Z"
   },
   {
    "duration": 38780,
    "start_time": "2022-09-30T12:46:00.308Z"
   },
   {
    "duration": 190,
    "start_time": "2022-09-30T12:46:39.100Z"
   },
   {
    "duration": 19,
    "start_time": "2022-09-30T12:46:39.300Z"
   },
   {
    "duration": 17,
    "start_time": "2022-09-30T12:57:56.720Z"
   },
   {
    "duration": 9327,
    "start_time": "2022-09-30T18:18:06.820Z"
   },
   {
    "duration": 1413015,
    "start_time": "2022-09-30T18:20:58.384Z"
   },
   {
    "duration": 17,
    "start_time": "2022-09-30T18:47:59.485Z"
   },
   {
    "duration": 17,
    "start_time": "2022-09-30T18:48:10.428Z"
   },
   {
    "duration": 132,
    "start_time": "2022-09-30T18:49:06.005Z"
   },
   {
    "duration": 245,
    "start_time": "2022-09-30T18:50:02.158Z"
   },
   {
    "duration": 244,
    "start_time": "2022-09-30T18:50:18.326Z"
   },
   {
    "duration": 997262,
    "start_time": "2022-09-30T18:54:54.853Z"
   },
   {
    "duration": 1403207,
    "start_time": "2022-09-30T19:14:16.285Z"
   },
   {
    "duration": 988063,
    "start_time": "2022-09-30T19:37:39.493Z"
   },
   {
    "duration": 422,
    "start_time": "2022-09-30T20:06:49.828Z"
   },
   {
    "duration": 101,
    "start_time": "2022-09-30T20:08:25.092Z"
   },
   {
    "duration": 1212756,
    "start_time": "2022-09-30T20:08:31.207Z"
   },
   {
    "duration": 1238953,
    "start_time": "2022-09-30T20:31:26.170Z"
   },
   {
    "duration": 9,
    "start_time": "2022-09-30T20:52:05.125Z"
   },
   {
    "duration": 3,
    "start_time": "2022-09-30T20:54:20.574Z"
   },
   {
    "duration": 97,
    "start_time": "2022-09-30T20:54:34.190Z"
   },
   {
    "duration": 77,
    "start_time": "2022-09-30T20:56:01.536Z"
   },
   {
    "duration": 140,
    "start_time": "2022-09-30T20:56:06.959Z"
   },
   {
    "duration": 141,
    "start_time": "2022-09-30T20:57:04.818Z"
   },
   {
    "duration": 116,
    "start_time": "2022-09-30T21:01:26.207Z"
   },
   {
    "duration": 17,
    "start_time": "2022-09-30T21:01:46.054Z"
   },
   {
    "duration": 7,
    "start_time": "2022-09-30T21:01:56.966Z"
   },
   {
    "duration": 233,
    "start_time": "2022-09-30T21:04:12.731Z"
   },
   {
    "duration": 235,
    "start_time": "2022-09-30T21:04:26.121Z"
   },
   {
    "duration": 155,
    "start_time": "2022-09-30T21:05:42.922Z"
   },
   {
    "duration": 80,
    "start_time": "2022-09-30T21:06:40.996Z"
   },
   {
    "duration": 13,
    "start_time": "2022-09-30T21:07:49.654Z"
   },
   {
    "duration": 116,
    "start_time": "2022-09-30T21:08:04.302Z"
   },
   {
    "duration": 126,
    "start_time": "2022-09-30T21:09:03.664Z"
   },
   {
    "duration": 14,
    "start_time": "2022-09-30T21:09:35.945Z"
   },
   {
    "duration": 248,
    "start_time": "2022-09-30T21:09:40.137Z"
   },
   {
    "duration": 1238090,
    "start_time": "2022-09-30T21:10:10.073Z"
   },
   {
    "duration": 143,
    "start_time": "2022-09-30T21:47:28.975Z"
   },
   {
    "duration": 279,
    "start_time": "2022-09-30T21:48:43.712Z"
   },
   {
    "duration": 101,
    "start_time": "2022-09-30T21:53:19.326Z"
   },
   {
    "duration": 49,
    "start_time": "2022-09-30T21:54:16.399Z"
   },
   {
    "duration": 48,
    "start_time": "2022-09-30T21:54:32.663Z"
   },
   {
    "duration": 68,
    "start_time": "2022-09-30T21:55:12.560Z"
   },
   {
    "duration": 5,
    "start_time": "2022-09-30T21:59:40.909Z"
   },
   {
    "duration": 15,
    "start_time": "2022-09-30T22:01:38.593Z"
   },
   {
    "duration": 11,
    "start_time": "2022-09-30T22:03:26.074Z"
   },
   {
    "duration": 8,
    "start_time": "2022-09-30T22:07:02.887Z"
   },
   {
    "duration": 6,
    "start_time": "2022-09-30T22:07:20.583Z"
   },
   {
    "duration": 3,
    "start_time": "2022-09-30T22:08:00.797Z"
   },
   {
    "duration": 1118,
    "start_time": "2022-09-30T22:08:00.803Z"
   },
   {
    "duration": 27,
    "start_time": "2022-09-30T22:08:01.922Z"
   },
   {
    "duration": 20,
    "start_time": "2022-09-30T22:08:01.951Z"
   },
   {
    "duration": 106,
    "start_time": "2022-09-30T22:08:01.973Z"
   },
   {
    "duration": 15,
    "start_time": "2022-09-30T22:08:02.080Z"
   },
   {
    "duration": 43,
    "start_time": "2022-09-30T22:08:02.097Z"
   },
   {
    "duration": 50,
    "start_time": "2022-09-30T22:08:02.142Z"
   },
   {
    "duration": 47,
    "start_time": "2022-09-30T22:08:02.194Z"
   },
   {
    "duration": 181,
    "start_time": "2022-09-30T22:08:02.245Z"
   },
   {
    "duration": 385,
    "start_time": "2022-09-30T22:08:02.428Z"
   },
   {
    "duration": 2681,
    "start_time": "2022-09-30T22:08:02.815Z"
   },
   {
    "duration": 11,
    "start_time": "2022-09-30T22:08:05.497Z"
   },
   {
    "duration": 676568,
    "start_time": "2022-09-30T22:08:05.510Z"
   },
   {
    "duration": 80,
    "start_time": "2022-09-30T22:19:22.080Z"
   },
   {
    "duration": 21818,
    "start_time": "2022-09-30T22:19:22.162Z"
   },
   {
    "duration": 104,
    "start_time": "2022-09-30T22:19:43.982Z"
   },
   {
    "duration": 497,
    "start_time": "2022-09-30T22:19:44.088Z"
   },
   {
    "duration": 248,
    "start_time": "2022-09-30T22:19:44.587Z"
   },
   {
    "duration": 0,
    "start_time": "2022-09-30T22:19:44.836Z"
   },
   {
    "duration": 0,
    "start_time": "2022-09-30T22:19:44.838Z"
   },
   {
    "duration": 0,
    "start_time": "2022-09-30T22:19:44.839Z"
   },
   {
    "duration": 0,
    "start_time": "2022-09-30T22:19:44.840Z"
   },
   {
    "duration": 0,
    "start_time": "2022-09-30T22:19:44.841Z"
   },
   {
    "duration": 0,
    "start_time": "2022-09-30T22:19:44.842Z"
   },
   {
    "duration": 0,
    "start_time": "2022-09-30T22:19:44.843Z"
   },
   {
    "duration": 0,
    "start_time": "2022-09-30T22:19:44.844Z"
   },
   {
    "duration": 0,
    "start_time": "2022-09-30T22:19:44.846Z"
   },
   {
    "duration": 245,
    "start_time": "2022-09-30T22:25:26.681Z"
   },
   {
    "duration": 1345230,
    "start_time": "2022-09-30T22:25:43.497Z"
   },
   {
    "duration": 303,
    "start_time": "2022-09-30T22:48:08.729Z"
   },
   {
    "duration": 941309,
    "start_time": "2022-09-30T22:48:09.035Z"
   },
   {
    "duration": 1165436,
    "start_time": "2022-09-30T23:03:50.347Z"
   },
   {
    "duration": 1190746,
    "start_time": "2022-09-30T23:23:15.785Z"
   },
   {
    "duration": 1192281,
    "start_time": "2022-09-30T23:43:06.533Z"
   },
   {
    "duration": 278,
    "start_time": "2022-10-01T00:02:58.816Z"
   },
   {
    "duration": 94,
    "start_time": "2022-10-01T00:02:59.096Z"
   },
   {
    "duration": 6,
    "start_time": "2022-10-01T00:02:59.192Z"
   },
   {
    "duration": 9,
    "start_time": "2022-10-01T00:19:19.586Z"
   },
   {
    "duration": 4,
    "start_time": "2022-10-01T00:19:40.595Z"
   },
   {
    "duration": 5,
    "start_time": "2022-10-01T00:19:46.307Z"
   },
   {
    "duration": 57,
    "start_time": "2022-10-01T00:20:17.404Z"
   },
   {
    "duration": 274,
    "start_time": "2022-10-01T00:21:11.757Z"
   },
   {
    "duration": 241,
    "start_time": "2022-10-01T00:21:23.669Z"
   },
   {
    "duration": 58,
    "start_time": "2022-10-01T00:21:52.093Z"
   },
   {
    "duration": 4,
    "start_time": "2022-10-01T06:47:44.084Z"
   },
   {
    "duration": 1542,
    "start_time": "2022-10-01T06:47:44.090Z"
   },
   {
    "duration": 123,
    "start_time": "2022-10-01T06:47:45.634Z"
   },
   {
    "duration": 0,
    "start_time": "2022-10-01T06:47:45.760Z"
   },
   {
    "duration": 0,
    "start_time": "2022-10-01T06:47:45.762Z"
   },
   {
    "duration": 0,
    "start_time": "2022-10-01T06:47:45.763Z"
   },
   {
    "duration": 0,
    "start_time": "2022-10-01T06:47:45.765Z"
   },
   {
    "duration": 0,
    "start_time": "2022-10-01T06:47:45.766Z"
   },
   {
    "duration": 0,
    "start_time": "2022-10-01T06:47:45.767Z"
   },
   {
    "duration": 0,
    "start_time": "2022-10-01T06:47:45.768Z"
   },
   {
    "duration": 0,
    "start_time": "2022-10-01T06:47:45.769Z"
   },
   {
    "duration": 0,
    "start_time": "2022-10-01T06:47:45.770Z"
   },
   {
    "duration": 0,
    "start_time": "2022-10-01T06:47:45.772Z"
   },
   {
    "duration": 0,
    "start_time": "2022-10-01T06:47:45.772Z"
   },
   {
    "duration": 0,
    "start_time": "2022-10-01T06:47:45.774Z"
   },
   {
    "duration": 0,
    "start_time": "2022-10-01T06:47:45.775Z"
   },
   {
    "duration": 0,
    "start_time": "2022-10-01T06:47:45.776Z"
   },
   {
    "duration": 0,
    "start_time": "2022-10-01T06:47:45.777Z"
   },
   {
    "duration": 0,
    "start_time": "2022-10-01T06:47:45.778Z"
   },
   {
    "duration": 0,
    "start_time": "2022-10-01T06:47:45.779Z"
   },
   {
    "duration": 0,
    "start_time": "2022-10-01T06:47:45.780Z"
   },
   {
    "duration": 0,
    "start_time": "2022-10-01T06:47:45.782Z"
   },
   {
    "duration": 0,
    "start_time": "2022-10-01T06:47:45.783Z"
   },
   {
    "duration": 0,
    "start_time": "2022-10-01T06:47:45.784Z"
   },
   {
    "duration": 0,
    "start_time": "2022-10-01T06:47:45.786Z"
   },
   {
    "duration": 0,
    "start_time": "2022-10-01T06:47:45.787Z"
   },
   {
    "duration": 0,
    "start_time": "2022-10-01T06:47:45.788Z"
   },
   {
    "duration": 0,
    "start_time": "2022-10-01T06:47:45.790Z"
   },
   {
    "duration": 0,
    "start_time": "2022-10-01T06:47:45.791Z"
   },
   {
    "duration": 11,
    "start_time": "2022-10-01T06:55:46.779Z"
   },
   {
    "duration": 7144,
    "start_time": "2022-10-01T06:55:57.005Z"
   },
   {
    "duration": 5,
    "start_time": "2022-10-01T06:56:04.152Z"
   },
   {
    "duration": 54,
    "start_time": "2022-10-01T06:56:04.160Z"
   },
   {
    "duration": 23,
    "start_time": "2022-10-01T06:56:33.303Z"
   },
   {
    "duration": 2270,
    "start_time": "2022-10-01T06:56:37.018Z"
   },
   {
    "duration": 5,
    "start_time": "2022-10-01T06:56:39.291Z"
   },
   {
    "duration": 24,
    "start_time": "2022-10-01T06:56:39.876Z"
   },
   {
    "duration": 2963,
    "start_time": "2022-10-01T07:00:11.277Z"
   },
   {
    "duration": 4,
    "start_time": "2022-10-01T07:00:14.243Z"
   },
   {
    "duration": 59,
    "start_time": "2022-10-01T07:00:14.249Z"
   },
   {
    "duration": 2837,
    "start_time": "2022-10-01T07:01:38.750Z"
   },
   {
    "duration": 5,
    "start_time": "2022-10-01T07:01:47.345Z"
   },
   {
    "duration": 29,
    "start_time": "2022-10-01T07:01:47.539Z"
   },
   {
    "duration": 23740,
    "start_time": "2022-10-01T07:02:30.204Z"
   },
   {
    "duration": 2571,
    "start_time": "2022-10-01T07:03:05.397Z"
   },
   {
    "duration": 5,
    "start_time": "2022-10-01T07:03:11.574Z"
   },
   {
    "duration": 27,
    "start_time": "2022-10-01T07:03:12.205Z"
   },
   {
    "duration": 2450,
    "start_time": "2022-10-01T07:05:13.301Z"
   },
   {
    "duration": 1332,
    "start_time": "2022-10-01T07:05:43.054Z"
   },
   {
    "duration": 30,
    "start_time": "2022-10-01T07:05:44.389Z"
   },
   {
    "duration": 3,
    "start_time": "2022-10-01T07:05:44.421Z"
   },
   {
    "duration": 2,
    "start_time": "2022-10-01T07:05:59.812Z"
   },
   {
    "duration": 125,
    "start_time": "2022-10-01T07:05:59.816Z"
   },
   {
    "duration": 17,
    "start_time": "2022-10-01T07:05:59.943Z"
   },
   {
    "duration": 13,
    "start_time": "2022-10-01T07:05:59.961Z"
   },
   {
    "duration": 23,
    "start_time": "2022-10-01T07:05:59.976Z"
   },
   {
    "duration": 15,
    "start_time": "2022-10-01T07:06:00.001Z"
   },
   {
    "duration": 164,
    "start_time": "2022-10-01T07:06:00.018Z"
   },
   {
    "duration": 389,
    "start_time": "2022-10-01T07:06:00.184Z"
   },
   {
    "duration": 3076,
    "start_time": "2022-10-01T07:06:00.574Z"
   },
   {
    "duration": 13,
    "start_time": "2022-10-01T07:06:03.656Z"
   },
   {
    "duration": 707891,
    "start_time": "2022-10-01T07:06:03.672Z"
   },
   {
    "duration": 102,
    "start_time": "2022-10-01T07:17:51.565Z"
   },
   {
    "duration": 11186,
    "start_time": "2022-10-01T07:17:51.669Z"
   },
   {
    "duration": 197,
    "start_time": "2022-10-01T07:18:02.857Z"
   },
   {
    "duration": 344,
    "start_time": "2022-10-01T07:18:03.056Z"
   },
   {
    "duration": 252,
    "start_time": "2022-10-01T07:18:03.402Z"
   },
   {
    "duration": 1393860,
    "start_time": "2022-10-01T07:18:03.655Z"
   },
   {
    "duration": 237,
    "start_time": "2022-10-01T07:41:17.516Z"
   },
   {
    "duration": 983176,
    "start_time": "2022-10-01T07:41:17.755Z"
   },
   {
    "duration": 1236377,
    "start_time": "2022-10-01T07:57:40.933Z"
   },
   {
    "duration": 1273473,
    "start_time": "2022-10-01T08:18:17.313Z"
   },
   {
    "duration": 1285810,
    "start_time": "2022-10-01T08:39:30.788Z"
   },
   {
    "duration": 292,
    "start_time": "2022-10-01T09:00:56.600Z"
   },
   {
    "duration": 112,
    "start_time": "2022-10-01T09:00:56.893Z"
   },
   {
    "duration": 7,
    "start_time": "2022-10-01T09:00:57.007Z"
   },
   {
    "duration": 357,
    "start_time": "2022-10-01T09:00:57.015Z"
   },
   {
    "duration": 53,
    "start_time": "2022-10-01T17:40:40.853Z"
   },
   {
    "duration": 6985,
    "start_time": "2022-10-01T17:41:15.101Z"
   },
   {
    "duration": 1584,
    "start_time": "2022-10-01T17:41:26.389Z"
   },
   {
    "duration": 81,
    "start_time": "2022-10-01T17:41:29.461Z"
   },
   {
    "duration": 11,
    "start_time": "2022-10-01T17:41:42.581Z"
   },
   {
    "duration": 2328,
    "start_time": "2022-10-01T17:41:54.438Z"
   },
   {
    "duration": 4,
    "start_time": "2022-10-01T17:42:00.199Z"
   },
   {
    "duration": 13,
    "start_time": "2022-10-01T17:42:04.039Z"
   },
   {
    "duration": 1296,
    "start_time": "2022-10-01T17:42:14.689Z"
   },
   {
    "duration": 35,
    "start_time": "2022-10-01T17:42:17.641Z"
   },
   {
    "duration": 2,
    "start_time": "2022-10-01T17:42:19.857Z"
   },
   {
    "duration": 141,
    "start_time": "2022-10-01T17:49:46.724Z"
   },
   {
    "duration": 15,
    "start_time": "2022-10-01T17:51:55.887Z"
   },
   {
    "duration": 17,
    "start_time": "2022-10-01T17:52:01.902Z"
   },
   {
    "duration": 13,
    "start_time": "2022-10-01T17:53:31.039Z"
   },
   {
    "duration": 18,
    "start_time": "2022-10-01T17:53:40.233Z"
   },
   {
    "duration": 15,
    "start_time": "2022-10-01T17:54:02.001Z"
   },
   {
    "duration": 126,
    "start_time": "2022-10-01T18:08:22.693Z"
   },
   {
    "duration": 52,
    "start_time": "2022-10-01T18:08:58.213Z"
   },
   {
    "duration": 55,
    "start_time": "2022-10-01T18:10:19.536Z"
   },
   {
    "duration": 365,
    "start_time": "2022-10-01T18:23:06.582Z"
   },
   {
    "duration": 3149,
    "start_time": "2022-10-01T18:30:46.159Z"
   },
   {
    "duration": 12,
    "start_time": "2022-10-01T18:30:58.145Z"
   },
   {
    "duration": 55,
    "start_time": "2022-10-01T18:31:42.410Z"
   },
   {
    "duration": 748734,
    "start_time": "2022-10-01T18:31:50.098Z"
   },
   {
    "duration": 81,
    "start_time": "2022-10-01T18:44:18.834Z"
   },
   {
    "duration": 9999,
    "start_time": "2022-10-01T18:44:18.916Z"
   },
   {
    "duration": 102,
    "start_time": "2022-10-01T18:44:28.917Z"
   },
   {
    "duration": 231,
    "start_time": "2022-10-01T18:45:55.236Z"
   },
   {
    "duration": 242,
    "start_time": "2022-10-01T18:46:00.784Z"
   },
   {
    "duration": 1497409,
    "start_time": "2022-10-01T18:46:34.862Z"
   },
   {
    "duration": 4,
    "start_time": "2022-10-01T19:11:49.691Z"
   },
   {
    "duration": 5,
    "start_time": "2022-10-01T19:11:52.553Z"
   },
   {
    "duration": 223,
    "start_time": "2022-10-01T19:12:00.610Z"
   },
   {
    "duration": 1033435,
    "start_time": "2022-10-01T19:12:42.937Z"
   },
   {
    "duration": 1040967,
    "start_time": "2022-10-01T19:29:56.374Z"
   },
   {
    "duration": 40,
    "start_time": "2022-10-01T19:47:17.343Z"
   },
   {
    "duration": 5,
    "start_time": "2022-10-01T20:21:03.382Z"
   },
   {
    "duration": 6,
    "start_time": "2022-10-01T20:21:07.725Z"
   },
   {
    "duration": 7,
    "start_time": "2022-10-01T20:21:15.742Z"
   },
   {
    "duration": 6,
    "start_time": "2022-10-01T20:21:20.767Z"
   },
   {
    "duration": 235,
    "start_time": "2022-10-01T20:22:14.744Z"
   },
   {
    "duration": 790935,
    "start_time": "2022-10-01T20:22:58.479Z"
   },
   {
    "duration": 252,
    "start_time": "2022-10-01T20:36:09.415Z"
   },
   {
    "duration": 0,
    "start_time": "2022-10-01T20:36:09.669Z"
   },
   {
    "duration": 1358216,
    "start_time": "2022-10-01T20:38:46.244Z"
   },
   {
    "duration": 1487111,
    "start_time": "2022-10-01T21:01:24.463Z"
   },
   {
    "duration": 1472578,
    "start_time": "2022-10-01T21:26:11.576Z"
   },
   {
    "duration": 239,
    "start_time": "2022-10-01T21:50:44.156Z"
   },
   {
    "duration": 232,
    "start_time": "2022-10-01T21:50:44.396Z"
   },
   {
    "duration": 267,
    "start_time": "2022-10-01T22:26:01.664Z"
   },
   {
    "duration": 53,
    "start_time": "2022-10-01T22:27:44.730Z"
   },
   {
    "duration": 410,
    "start_time": "2022-10-01T22:35:57.572Z"
   },
   {
    "duration": 350,
    "start_time": "2022-10-01T22:36:15.340Z"
   },
   {
    "duration": 15,
    "start_time": "2022-10-01T22:39:18.753Z"
   },
   {
    "duration": 337,
    "start_time": "2022-10-01T22:41:07.041Z"
   },
   {
    "duration": 10,
    "start_time": "2022-10-01T22:41:09.940Z"
   },
   {
    "duration": 51,
    "start_time": "2022-10-01T22:41:38.332Z"
   },
   {
    "duration": 333,
    "start_time": "2022-10-01T22:41:40.180Z"
   },
   {
    "duration": 264,
    "start_time": "2022-10-01T22:41:41.996Z"
   },
   {
    "duration": 347,
    "start_time": "2022-10-01T22:43:23.959Z"
   },
   {
    "duration": 340,
    "start_time": "2022-10-01T22:43:33.078Z"
   },
   {
    "duration": 7,
    "start_time": "2022-10-01T22:44:33.119Z"
   },
   {
    "duration": 282,
    "start_time": "2022-10-01T22:45:23.457Z"
   },
   {
    "duration": 47,
    "start_time": "2022-10-01T22:46:47.482Z"
   },
   {
    "duration": 3,
    "start_time": "2022-10-01T22:46:55.274Z"
   },
   {
    "duration": 42,
    "start_time": "2022-10-01T22:46:59.624Z"
   },
   {
    "duration": 147,
    "start_time": "2022-10-01T22:47:38.475Z"
   },
   {
    "duration": 6506,
    "start_time": "2022-10-02T06:32:25.011Z"
   },
   {
    "duration": 1545,
    "start_time": "2022-10-02T06:32:31.519Z"
   },
   {
    "duration": 97,
    "start_time": "2022-10-02T06:32:33.066Z"
   },
   {
    "duration": 0,
    "start_time": "2022-10-02T06:32:33.165Z"
   },
   {
    "duration": 0,
    "start_time": "2022-10-02T06:32:33.166Z"
   },
   {
    "duration": 0,
    "start_time": "2022-10-02T06:32:33.167Z"
   },
   {
    "duration": 0,
    "start_time": "2022-10-02T06:32:33.169Z"
   },
   {
    "duration": 0,
    "start_time": "2022-10-02T06:32:33.169Z"
   },
   {
    "duration": 0,
    "start_time": "2022-10-02T06:32:33.170Z"
   },
   {
    "duration": 0,
    "start_time": "2022-10-02T06:32:33.171Z"
   },
   {
    "duration": 0,
    "start_time": "2022-10-02T06:32:33.172Z"
   },
   {
    "duration": 0,
    "start_time": "2022-10-02T06:32:33.173Z"
   },
   {
    "duration": 0,
    "start_time": "2022-10-02T06:32:33.174Z"
   },
   {
    "duration": 0,
    "start_time": "2022-10-02T06:32:33.175Z"
   },
   {
    "duration": 0,
    "start_time": "2022-10-02T06:32:33.176Z"
   },
   {
    "duration": 0,
    "start_time": "2022-10-02T06:32:33.178Z"
   },
   {
    "duration": 0,
    "start_time": "2022-10-02T06:32:33.178Z"
   },
   {
    "duration": 0,
    "start_time": "2022-10-02T06:32:33.180Z"
   },
   {
    "duration": 0,
    "start_time": "2022-10-02T06:32:33.181Z"
   },
   {
    "duration": 0,
    "start_time": "2022-10-02T06:32:33.181Z"
   },
   {
    "duration": 0,
    "start_time": "2022-10-02T06:32:33.182Z"
   },
   {
    "duration": 0,
    "start_time": "2022-10-02T06:32:33.183Z"
   },
   {
    "duration": 0,
    "start_time": "2022-10-02T06:32:33.184Z"
   },
   {
    "duration": 0,
    "start_time": "2022-10-02T06:32:33.221Z"
   },
   {
    "duration": 0,
    "start_time": "2022-10-02T06:32:33.223Z"
   },
   {
    "duration": 0,
    "start_time": "2022-10-02T06:32:33.224Z"
   },
   {
    "duration": 0,
    "start_time": "2022-10-02T06:32:33.224Z"
   },
   {
    "duration": 0,
    "start_time": "2022-10-02T06:32:33.226Z"
   },
   {
    "duration": 0,
    "start_time": "2022-10-02T06:32:33.227Z"
   },
   {
    "duration": 0,
    "start_time": "2022-10-02T06:32:33.228Z"
   },
   {
    "duration": 0,
    "start_time": "2022-10-02T06:32:33.229Z"
   },
   {
    "duration": 0,
    "start_time": "2022-10-02T06:32:33.230Z"
   },
   {
    "duration": 0,
    "start_time": "2022-10-02T06:32:33.231Z"
   },
   {
    "duration": 0,
    "start_time": "2022-10-02T06:32:33.232Z"
   },
   {
    "duration": 0,
    "start_time": "2022-10-02T06:32:33.233Z"
   },
   {
    "duration": 7763,
    "start_time": "2022-10-02T10:23:58.543Z"
   },
   {
    "duration": 2304,
    "start_time": "2022-10-02T10:24:06.308Z"
   },
   {
    "duration": 113,
    "start_time": "2022-10-02T10:24:08.614Z"
   },
   {
    "duration": 0,
    "start_time": "2022-10-02T10:24:08.730Z"
   },
   {
    "duration": 0,
    "start_time": "2022-10-02T10:24:08.731Z"
   },
   {
    "duration": 0,
    "start_time": "2022-10-02T10:24:08.732Z"
   },
   {
    "duration": 0,
    "start_time": "2022-10-02T10:24:08.733Z"
   },
   {
    "duration": 0,
    "start_time": "2022-10-02T10:24:08.734Z"
   },
   {
    "duration": 0,
    "start_time": "2022-10-02T10:24:08.735Z"
   },
   {
    "duration": 0,
    "start_time": "2022-10-02T10:24:08.737Z"
   },
   {
    "duration": 1,
    "start_time": "2022-10-02T10:24:08.737Z"
   },
   {
    "duration": 0,
    "start_time": "2022-10-02T10:24:08.738Z"
   },
   {
    "duration": 0,
    "start_time": "2022-10-02T10:24:08.740Z"
   },
   {
    "duration": 0,
    "start_time": "2022-10-02T10:24:08.741Z"
   },
   {
    "duration": 0,
    "start_time": "2022-10-02T10:24:08.742Z"
   },
   {
    "duration": 0,
    "start_time": "2022-10-02T10:24:08.743Z"
   },
   {
    "duration": 0,
    "start_time": "2022-10-02T10:24:08.744Z"
   },
   {
    "duration": 0,
    "start_time": "2022-10-02T10:24:08.745Z"
   },
   {
    "duration": 0,
    "start_time": "2022-10-02T10:24:08.746Z"
   },
   {
    "duration": 0,
    "start_time": "2022-10-02T10:24:08.747Z"
   },
   {
    "duration": 0,
    "start_time": "2022-10-02T10:24:08.749Z"
   },
   {
    "duration": 0,
    "start_time": "2022-10-02T10:24:08.749Z"
   },
   {
    "duration": 0,
    "start_time": "2022-10-02T10:24:08.789Z"
   },
   {
    "duration": 0,
    "start_time": "2022-10-02T10:24:08.791Z"
   },
   {
    "duration": 0,
    "start_time": "2022-10-02T10:24:08.792Z"
   },
   {
    "duration": 0,
    "start_time": "2022-10-02T10:24:08.793Z"
   },
   {
    "duration": 0,
    "start_time": "2022-10-02T10:24:08.794Z"
   },
   {
    "duration": 0,
    "start_time": "2022-10-02T10:24:08.796Z"
   },
   {
    "duration": 0,
    "start_time": "2022-10-02T10:24:08.797Z"
   },
   {
    "duration": 0,
    "start_time": "2022-10-02T10:24:08.798Z"
   },
   {
    "duration": 0,
    "start_time": "2022-10-02T10:24:08.799Z"
   },
   {
    "duration": 0,
    "start_time": "2022-10-02T10:24:08.800Z"
   },
   {
    "duration": 0,
    "start_time": "2022-10-02T10:24:08.801Z"
   },
   {
    "duration": 0,
    "start_time": "2022-10-02T10:24:08.802Z"
   },
   {
    "duration": 0,
    "start_time": "2022-10-02T10:24:08.803Z"
   },
   {
    "duration": 2355,
    "start_time": "2022-10-02T10:24:15.430Z"
   },
   {
    "duration": 1272,
    "start_time": "2022-10-02T10:24:28.535Z"
   },
   {
    "duration": 32,
    "start_time": "2022-10-02T10:24:29.809Z"
   },
   {
    "duration": 3,
    "start_time": "2022-10-02T10:24:37.196Z"
   },
   {
    "duration": 10,
    "start_time": "2022-10-02T10:24:37.201Z"
   },
   {
    "duration": 231,
    "start_time": "2022-10-02T10:24:37.213Z"
   },
   {
    "duration": 15,
    "start_time": "2022-10-02T10:24:37.446Z"
   },
   {
    "duration": 37,
    "start_time": "2022-10-02T10:24:37.462Z"
   },
   {
    "duration": 18,
    "start_time": "2022-10-02T10:24:37.500Z"
   },
   {
    "duration": 15,
    "start_time": "2022-10-02T10:24:37.520Z"
   },
   {
    "duration": 156,
    "start_time": "2022-10-02T10:24:37.536Z"
   },
   {
    "duration": 440,
    "start_time": "2022-10-02T10:24:37.693Z"
   },
   {
    "duration": 4178,
    "start_time": "2022-10-02T10:24:38.136Z"
   },
   {
    "duration": 12,
    "start_time": "2022-10-02T10:24:42.316Z"
   },
   {
    "duration": 762240,
    "start_time": "2022-10-02T10:24:42.329Z"
   },
   {
    "duration": 92,
    "start_time": "2022-10-02T10:37:24.570Z"
   },
   {
    "duration": 19628,
    "start_time": "2022-10-02T10:37:24.664Z"
   },
   {
    "duration": 196,
    "start_time": "2022-10-02T10:37:44.294Z"
   },
   {
    "duration": 415,
    "start_time": "2022-10-02T10:37:44.493Z"
   },
   {
    "duration": 317,
    "start_time": "2022-10-02T10:37:44.910Z"
   },
   {
    "duration": 1520604,
    "start_time": "2022-10-02T10:37:45.229Z"
   },
   {
    "duration": 4,
    "start_time": "2022-10-02T11:03:05.835Z"
   },
   {
    "duration": 289,
    "start_time": "2022-10-02T11:03:05.842Z"
   },
   {
    "duration": 1060406,
    "start_time": "2022-10-02T11:03:06.133Z"
   },
   {
    "duration": 256,
    "start_time": "2022-10-02T11:20:46.543Z"
   },
   {
    "duration": 820634,
    "start_time": "2022-10-02T11:20:46.801Z"
   },
   {
    "duration": 1389395,
    "start_time": "2022-10-02T11:34:27.437Z"
   },
   {
    "duration": 1526961,
    "start_time": "2022-10-02T11:57:36.834Z"
   },
   {
    "duration": 1533735,
    "start_time": "2022-10-02T12:23:03.798Z"
   },
   {
    "duration": 289,
    "start_time": "2022-10-02T12:48:37.534Z"
   },
   {
    "duration": 72,
    "start_time": "2022-10-02T12:48:37.826Z"
   },
   {
    "duration": 444,
    "start_time": "2022-10-02T12:48:37.900Z"
   },
   {
    "duration": 301,
    "start_time": "2022-10-02T12:48:38.346Z"
   },
   {
    "duration": 7,
    "start_time": "2022-10-02T12:48:38.648Z"
   },
   {
    "duration": 293,
    "start_time": "2022-10-02T12:48:38.657Z"
   },
   {
    "duration": 177,
    "start_time": "2022-10-02T12:48:38.952Z"
   }
  ],
  "kernelspec": {
   "display_name": "Python 3 (ipykernel)",
   "language": "python",
   "name": "python3"
  },
  "language_info": {
   "codemirror_mode": {
    "name": "ipython",
    "version": 3
   },
   "file_extension": ".py",
   "mimetype": "text/x-python",
   "name": "python",
   "nbconvert_exporter": "python",
   "pygments_lexer": "ipython3",
   "version": "3.9.5"
  },
  "toc": {
   "base_numbering": 1,
   "nav_menu": {},
   "number_sections": true,
   "sideBar": true,
   "skip_h1_title": true,
   "title_cell": "Содержание",
   "title_sidebar": "Contents",
   "toc_cell": true,
   "toc_position": {
    "height": "calc(100% - 180px)",
    "left": "10px",
    "top": "150px",
    "width": "366.188px"
   },
   "toc_section_display": true,
   "toc_window_display": true
  }
 },
 "nbformat": 4,
 "nbformat_minor": 2
}
