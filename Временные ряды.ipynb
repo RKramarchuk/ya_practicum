{
 "cells": [
  {
   "cell_type": "markdown",
   "metadata": {},
   "source": [
    "<img src=\"http://s3.amazonaws.com/pix.iemoji.com/images/emoji/apple/ios-12/256/waving-hand.png\" align=left width=44, heigth=44>\n",
    "<div class=\"alert alert-info\">\n",
    "<b> Комментарий ревьюера</b>\n",
    "\n",
    "\n",
    "Привет,  Родион! Давай знакомиться! Меня зовут Дмитрий Махортов, и я буду проверять твой проект. Сразу предлагаю общение на «ты» 🙂, но если тебе это не комфортно, то дай знать, и мы перейдем на «вы». \n",
    "\n",
    "Моя основная цель — не указать на совершенные тобою ошибки, а поделиться своим опытом и помочь тебе погрузиться в увлекательный мир работы с данными и вырасти в крепкого профи. Это отдаленная цель. А ближайшая - сделать твою работу еще лучше )).\n",
    "   \n",
    "    \n",
    "Все ключевые этапы в работе выполнены, и я вижу что с проектом ты справшяешься. Есть моменты, которые нужно доработать, но я уверен, у тебя все получится.\n",
    "        \n",
    "Расскажу как обычно проходит проверка:    \n",
    "Бывают моменты, которые требуют пристального внимания. Комментарии по ним выделены <span style='background-color:#F7B3A4'> красным цветом </span> и обозначены значком 🛑. После их доработки проект будет принят.  🙂\n",
    " \n",
    "<span style='background-color:#B7EBA7'> Зеленым цветом </span> и значком ✅ отмечены удачные и элегантные решения, на которые можно опираться в будущих проектах. Или советы «со звездочкой», которые помогут тебе в будущем.\n",
    "\n",
    "<span style='background-color:#F9EDA6'>Жёлтым цветом </span> и значком ⚠️ выделено то, что в следующий раз можно сделать по-другому. Ты можешь учесть эти комментарии при выполнении будущих заданий или доработать проект сейчас (однако это не обязательно).\n",
    "\n",
    "Давай работать над проектом в диалоге: **если ты что-то меняешь в проекте по моим рекомендациям — пиши об этом**. Выбери для своих комментариев какой-то заметный цвет, так мне будет легче отследить изменения. Пожалуйста, **не перемещай, не изменяй и не удаляй мои комментарии**. Всё это поможет выполнить повторную проверку твоего проекта оперативнее. \n",
    "</div>"
   ]
  },
  {
   "cell_type": "markdown",
   "metadata": {
    "toc": true
   },
   "source": [
    "<h1>Содержание<span class=\"tocSkip\"></span></h1>\n",
    "<div class=\"toc\"><ul class=\"toc-item\"><li><span><a href=\"#Подготовка\" data-toc-modified-id=\"Подготовка-1\"><span class=\"toc-item-num\">1&nbsp;&nbsp;</span>Подготовка</a></span></li><li><span><a href=\"#Анализ\" data-toc-modified-id=\"Анализ-2\"><span class=\"toc-item-num\">2&nbsp;&nbsp;</span>Анализ</a></span></li><li><span><a href=\"#Обучение\" data-toc-modified-id=\"Обучение-3\"><span class=\"toc-item-num\">3&nbsp;&nbsp;</span>Обучение</a></span><ul class=\"toc-item\"><li><span><a href=\"#RIDGE\" data-toc-modified-id=\"RIDGE-3.1\"><span class=\"toc-item-num\">3.1&nbsp;&nbsp;</span>RIDGE</a></span></li><li><span><a href=\"#CatBoost\" data-toc-modified-id=\"CatBoost-3.2\"><span class=\"toc-item-num\">3.2&nbsp;&nbsp;</span>CatBoost</a></span></li><li><span><a href=\"#RandomForestRegressor\" data-toc-modified-id=\"RandomForestRegressor-3.3\"><span class=\"toc-item-num\">3.3&nbsp;&nbsp;</span>RandomForestRegressor</a></span></li></ul></li><li><span><a href=\"#Тестирование\" data-toc-modified-id=\"Тестирование-4\"><span class=\"toc-item-num\">4&nbsp;&nbsp;</span>Тестирование</a></span></li><li><span><a href=\"#Чек-лист-проверки\" data-toc-modified-id=\"Чек-лист-проверки-5\"><span class=\"toc-item-num\">5&nbsp;&nbsp;</span>Чек-лист проверки</a></span></li></ul></div>"
   ]
  },
  {
   "cell_type": "markdown",
   "metadata": {},
   "source": [
    "#  Прогнозирование заказов такси"
   ]
  },
  {
   "cell_type": "markdown",
   "metadata": {},
   "source": [
    "Компания «Чётенькое такси» собрала исторические данные о заказах такси в аэропортах. Чтобы привлекать больше водителей в период пиковой нагрузки, нужно спрогнозировать количество заказов такси на следующий час. Постройте модель для такого предсказания.\n",
    "\n",
    "Значение метрики *RMSE* на тестовой выборке должно быть не больше 48.\n",
    "\n",
    "Вам нужно:\n",
    "\n",
    "1. Загрузить данные и выполнить их ресемплирование по одному часу.\n",
    "2. Проанализировать данные.\n",
    "3. Обучить разные модели с различными гиперпараметрами. Сделать тестовую выборку размером 10% от исходных данных.\n",
    "4. Проверить данные на тестовой выборке и сделать выводы.\n",
    "\n",
    "\n",
    "Данные лежат в файле `taxi.csv`. Количество заказов находится в столбце `num_orders` (от англ. *number of orders*, «число заказов»)."
   ]
  },
  {
   "cell_type": "markdown",
   "metadata": {},
   "source": [
    "## Подготовка"
   ]
  },
  {
   "cell_type": "markdown",
   "metadata": {},
   "source": [
    "Импортируем необходимые библиотеки и создадим функции для дальнейшей работы."
   ]
  },
  {
   "cell_type": "code",
   "execution_count": 1,
   "metadata": {},
   "outputs": [],
   "source": [
    "#импорт необходимых библиотек\n",
    "import pandas as pd\n",
    "import numpy as np\n",
    "import matplotlib.pyplot as plt\n",
    "\n",
    "from sklearn.model_selection import train_test_split, GridSearchCV, TimeSeriesSplit, cross_val_score\n",
    "from sklearn.metrics import mean_squared_error\n",
    "from sklearn.linear_model import Ridge\n",
    "from sklearn.ensemble import RandomForestRegressor\n",
    "\n",
    "from sklearn.preprocessing import OneHotEncoder\n",
    "from sklearn.pipeline import Pipeline\n",
    "\n",
    "from catboost import CatBoostRegressor\n",
    "\n",
    "from statsmodels.tsa.seasonal import seasonal_decompose\n",
    "\n",
    "from collections import namedtuple\n",
    "\n",
    "RANDOM_STATE = 131296"
   ]
  },
  {
   "cell_type": "markdown",
   "metadata": {},
   "source": [
    "<img src=\"https://emojigraph.org/media/apple/check-mark-button_2705.png\" align=left width=33, heigth=33>\n",
    "<div class=\"alert alert-success\">\n",
    "Отлично, все нужные библиотеки импортированы в начале ноутбука.Это хорошая практика.</div>"
   ]
  },
  {
   "cell_type": "markdown",
   "metadata": {},
   "source": [
    "<div class=\"alert alert-info\">\n",
    "Добавил в импорты OHE и Pipeline\n",
    "</div>"
   ]
  },
  {
   "cell_type": "code",
   "execution_count": 2,
   "metadata": {},
   "outputs": [],
   "source": [
    "#создадим кортеж для дальнейшего использования со следующей информацией - время фиттинга, время предсказания и RMSE\n",
    "ModelTimeAndRMSE = namedtuple('ModelTimeAndRMSE', ('fit_time', 'predict_time', 'rmse'))"
   ]
  },
  {
   "cell_type": "markdown",
   "metadata": {},
   "source": [
    "<img src=\"https://emojigraph.org/media/apple/check-mark-button_2705.png\" align=left width=33, heigth=33>\n",
    "<div class=\"alert alert-success\">\n",
    " 👍 Красиво. </div>"
   ]
  },
  {
   "cell_type": "code",
   "execution_count": 3,
   "metadata": {},
   "outputs": [],
   "source": [
    "#создадим функцию для первичного анализа\n",
    "def first_analyze(data):\n",
    "    rows, columns = data.shape\n",
    "    print('='*50)\n",
    "    print('Количество строк:', rows)\n",
    "    print('Количество столбцов:', columns)\n",
    "    display(data.head())\n",
    "    display(data.describe())\n",
    "    print(data.info())\n",
    "    print('Индекс отсортирован в хронологическом порядке: ', data.index.is_monotonic)\n",
    "    print('='*50)"
   ]
  },
  {
   "cell_type": "code",
   "execution_count": 4,
   "metadata": {},
   "outputs": [],
   "source": [
    "#создадим функцию для создания графиков\n",
    "def plot_time_series(data, title, xlabel, ylabel):\n",
    "    data.plot(grid=True, legend=False, figsize=(11, 5), title=title)\\\n",
    "             .set(xlabel=xlabel, ylabel=ylabel)\n",
    "    plt.show()"
   ]
  },
  {
   "cell_type": "code",
   "execution_count": 5,
   "metadata": {},
   "outputs": [],
   "source": [
    "#создадим функцию для получения времени обучения, времени предсказания и оценки и метрики RMSE для GridSearchCV\n",
    "\n",
    "def get_model_time_and_rmse(model):\n",
    "    fit_time = model.cv_results_['mean_fit_time'][model.best_index_]\n",
    "    predict_time = model.cv_results_['mean_score_time'][model.best_index_]\n",
    "    rmse = (-model.best_score_)**0.5\n",
    "    return ModelTimeAndRMSE(fit_time, predict_time, rmse)"
   ]
  },
  {
   "cell_type": "code",
   "execution_count": 6,
   "metadata": {},
   "outputs": [],
   "source": [
    "#создадим функцию для разделения данных в формате \"фичи\", \"таргет\"\n",
    "def split_data(data, columns):\n",
    "    return data.drop(columns=['num_orders']), data['num_orders']"
   ]
  },
  {
   "cell_type": "code",
   "execution_count": 7,
   "metadata": {},
   "outputs": [],
   "source": [
    "#создадим пустой список в который будем в дальнейшем сохранять данные моделей\n",
    "models_stats = []"
   ]
  },
  {
   "cell_type": "markdown",
   "metadata": {},
   "source": [
    "<img src=\"https://emojigraph.org/media/apple/check-mark-button_2705.png\" align=left width=33, heigth=33>\n",
    "<div class=\"alert alert-success\">\n",
    " 👍 </div>"
   ]
  },
  {
   "cell_type": "markdown",
   "metadata": {},
   "source": [
    "## Анализ"
   ]
  },
  {
   "cell_type": "markdown",
   "metadata": {},
   "source": [
    "Загрузим данные с использованием столбца с датами в качестве индексов и проанализируем их."
   ]
  },
  {
   "cell_type": "code",
   "execution_count": 8,
   "metadata": {},
   "outputs": [],
   "source": [
    "taxi_data = pd.read_csv('/datasets/taxi.csv', index_col='datetime', parse_dates=True)"
   ]
  },
  {
   "cell_type": "markdown",
   "metadata": {},
   "source": [
    "<img src=\"https://emojigraph.org/media/apple/check-mark-button_2705.png\" align=left width=33, heigth=33>\n",
    "<div class=\"alert alert-success\">\n",
    " 👍 Отлично, при загрузке сразу обрабатываются даты</div>"
   ]
  },
  {
   "cell_type": "code",
   "execution_count": 9,
   "metadata": {},
   "outputs": [
    {
     "name": "stdout",
     "output_type": "stream",
     "text": [
      "==================================================\n",
      "Количество строк: 26496\n",
      "Количество столбцов: 1\n"
     ]
    },
    {
     "data": {
      "text/html": [
       "<div>\n",
       "<style scoped>\n",
       "    .dataframe tbody tr th:only-of-type {\n",
       "        vertical-align: middle;\n",
       "    }\n",
       "\n",
       "    .dataframe tbody tr th {\n",
       "        vertical-align: top;\n",
       "    }\n",
       "\n",
       "    .dataframe thead th {\n",
       "        text-align: right;\n",
       "    }\n",
       "</style>\n",
       "<table border=\"1\" class=\"dataframe\">\n",
       "  <thead>\n",
       "    <tr style=\"text-align: right;\">\n",
       "      <th></th>\n",
       "      <th>num_orders</th>\n",
       "    </tr>\n",
       "    <tr>\n",
       "      <th>datetime</th>\n",
       "      <th></th>\n",
       "    </tr>\n",
       "  </thead>\n",
       "  <tbody>\n",
       "    <tr>\n",
       "      <th>2018-03-01 00:00:00</th>\n",
       "      <td>9</td>\n",
       "    </tr>\n",
       "    <tr>\n",
       "      <th>2018-03-01 00:10:00</th>\n",
       "      <td>14</td>\n",
       "    </tr>\n",
       "    <tr>\n",
       "      <th>2018-03-01 00:20:00</th>\n",
       "      <td>28</td>\n",
       "    </tr>\n",
       "    <tr>\n",
       "      <th>2018-03-01 00:30:00</th>\n",
       "      <td>20</td>\n",
       "    </tr>\n",
       "    <tr>\n",
       "      <th>2018-03-01 00:40:00</th>\n",
       "      <td>32</td>\n",
       "    </tr>\n",
       "  </tbody>\n",
       "</table>\n",
       "</div>"
      ],
      "text/plain": [
       "                     num_orders\n",
       "datetime                       \n",
       "2018-03-01 00:00:00           9\n",
       "2018-03-01 00:10:00          14\n",
       "2018-03-01 00:20:00          28\n",
       "2018-03-01 00:30:00          20\n",
       "2018-03-01 00:40:00          32"
      ]
     },
     "metadata": {},
     "output_type": "display_data"
    },
    {
     "data": {
      "text/html": [
       "<div>\n",
       "<style scoped>\n",
       "    .dataframe tbody tr th:only-of-type {\n",
       "        vertical-align: middle;\n",
       "    }\n",
       "\n",
       "    .dataframe tbody tr th {\n",
       "        vertical-align: top;\n",
       "    }\n",
       "\n",
       "    .dataframe thead th {\n",
       "        text-align: right;\n",
       "    }\n",
       "</style>\n",
       "<table border=\"1\" class=\"dataframe\">\n",
       "  <thead>\n",
       "    <tr style=\"text-align: right;\">\n",
       "      <th></th>\n",
       "      <th>num_orders</th>\n",
       "    </tr>\n",
       "  </thead>\n",
       "  <tbody>\n",
       "    <tr>\n",
       "      <th>count</th>\n",
       "      <td>26496.000000</td>\n",
       "    </tr>\n",
       "    <tr>\n",
       "      <th>mean</th>\n",
       "      <td>14.070463</td>\n",
       "    </tr>\n",
       "    <tr>\n",
       "      <th>std</th>\n",
       "      <td>9.211330</td>\n",
       "    </tr>\n",
       "    <tr>\n",
       "      <th>min</th>\n",
       "      <td>0.000000</td>\n",
       "    </tr>\n",
       "    <tr>\n",
       "      <th>25%</th>\n",
       "      <td>8.000000</td>\n",
       "    </tr>\n",
       "    <tr>\n",
       "      <th>50%</th>\n",
       "      <td>13.000000</td>\n",
       "    </tr>\n",
       "    <tr>\n",
       "      <th>75%</th>\n",
       "      <td>19.000000</td>\n",
       "    </tr>\n",
       "    <tr>\n",
       "      <th>max</th>\n",
       "      <td>119.000000</td>\n",
       "    </tr>\n",
       "  </tbody>\n",
       "</table>\n",
       "</div>"
      ],
      "text/plain": [
       "         num_orders\n",
       "count  26496.000000\n",
       "mean      14.070463\n",
       "std        9.211330\n",
       "min        0.000000\n",
       "25%        8.000000\n",
       "50%       13.000000\n",
       "75%       19.000000\n",
       "max      119.000000"
      ]
     },
     "metadata": {},
     "output_type": "display_data"
    },
    {
     "name": "stdout",
     "output_type": "stream",
     "text": [
      "<class 'pandas.core.frame.DataFrame'>\n",
      "DatetimeIndex: 26496 entries, 2018-03-01 00:00:00 to 2018-08-31 23:50:00\n",
      "Data columns (total 1 columns):\n",
      " #   Column      Non-Null Count  Dtype\n",
      "---  ------      --------------  -----\n",
      " 0   num_orders  26496 non-null  int64\n",
      "dtypes: int64(1)\n",
      "memory usage: 414.0 KB\n",
      "None\n",
      "Индекс отсортирован в хронологическом порядке:  True\n",
      "==================================================\n"
     ]
    }
   ],
   "source": [
    "first_analyze(taxi_data)"
   ]
  },
  {
   "cell_type": "markdown",
   "metadata": {},
   "source": [
    "Данные представленны в хронологическом порядке, явных аномальных значений не выявлено, пропусков в данных нет."
   ]
  },
  {
   "cell_type": "markdown",
   "metadata": {},
   "source": [
    "Проведём почасовой ресемпл и проверим даты и время начала и окончания данных."
   ]
  },
  {
   "cell_type": "code",
   "execution_count": 10,
   "metadata": {},
   "outputs": [],
   "source": [
    "#почасовой ресемпл\n",
    "taxi_data = taxi_data.resample('1H').sum()"
   ]
  },
  {
   "cell_type": "markdown",
   "metadata": {},
   "source": [
    "<img src=\"https://emojigraph.org/media/apple/check-mark-button_2705.png\" align=left width=33, heigth=33>\n",
    "<div class=\"alert alert-success\">\n",
    " 👍 Да, ресемплирование выполнено верно. И хорошо, что в качестве агрегирующей функции ты используешь сумму, её проще интерпретировать. </div>"
   ]
  },
  {
   "cell_type": "code",
   "execution_count": 11,
   "metadata": {},
   "outputs": [
    {
     "name": "stdout",
     "output_type": "stream",
     "text": [
      "Дата первой записи в данных: 2018-03-01 00:00:00\n",
      "Дата последней записи в данных: 2018-08-31 23:00:00\n"
     ]
    }
   ],
   "source": [
    "#посмотрим индексы начала и конца ресемплированных данных\n",
    "print('Дата первой записи в данных:', taxi_data.index.min())\n",
    "print('Дата последней записи в данных:', taxi_data.index.max())"
   ]
  },
  {
   "cell_type": "markdown",
   "metadata": {},
   "source": [
    "Всё данные находятся в рамках одного (2018) года."
   ]
  },
  {
   "cell_type": "markdown",
   "metadata": {},
   "source": [
    "<img src=\"https://emojigraph.org/media/apple/check-mark-button_2705.png\" align=left width=33, heigth=33>\n",
    "<div class=\"alert alert-success\">\n",
    " 👍  </div>"
   ]
  },
  {
   "cell_type": "markdown",
   "metadata": {},
   "source": [
    "Посмтроим график почасовых данных."
   ]
  },
  {
   "cell_type": "code",
   "execution_count": 12,
   "metadata": {
    "scrolled": false
   },
   "outputs": [
    {
     "data": {
      "image/png": "[encoded data removed]",
      "text/plain": [
       "<Figure size 792x360 with 1 Axes>"
      ]
     },
     "metadata": {
      "needs_background": "light"
     },
     "output_type": "display_data"
    }
   ],
   "source": [
    "#посмотрим график ресемплированных данных\n",
    "plot_time_series(taxi_data, 'Почасовые данные', 'Дата (по часам)', 'Количество заказов')"
   ]
  },
  {
   "cell_type": "markdown",
   "metadata": {},
   "source": [
    "<img src=\"https://emojigraph.org/media/apple/check-mark-button_2705.png\" align=left width=33, heigth=33>\n",
    "<div class=\"alert alert-success\">\n",
    "ОК, выведен график временного ряда (по часам). Рекомедую наложить на него усредненные данные (например за сутки и неделю), это позволит лучше понять данные.\n",
    "</div>"
   ]
  },
  {
   "cell_type": "markdown",
   "metadata": {},
   "source": [
    "Разложим временной ряд на составляющие и выделим их:\n",
    "* trend - тренд;\n",
    "* seasonal - сезонность;\n",
    "* resid - остаток."
   ]
  },
  {
   "cell_type": "code",
   "execution_count": 13,
   "metadata": {},
   "outputs": [],
   "source": [
    "#раскладываем временной ряд на составляющие и выделяем их\n",
    "decomposed = seasonal_decompose(taxi_data)\n",
    "\n",
    "trend = decomposed.trend\n",
    "seasonal = decomposed.seasonal\n",
    "resid  = decomposed.resid"
   ]
  },
  {
   "cell_type": "markdown",
   "metadata": {},
   "source": [
    "Построим графики для составляющих временного ряда."
   ]
  },
  {
   "cell_type": "code",
   "execution_count": 14,
   "metadata": {},
   "outputs": [
    {
     "data": {
      "image/png": "[encoded data removed]",
      "text/plain": [
       "<Figure size 792x360 with 1 Axes>"
      ]
     },
     "metadata": {
      "needs_background": "light"
     },
     "output_type": "display_data"
    },
    {
     "data": {
      "image/png": "[encoded data removed]",
      "text/plain": [
       "<Figure size 792x360 with 1 Axes>"
      ]
     },
     "metadata": {
      "needs_background": "light"
     },
     "output_type": "display_data"
    },
    {
     "data": {
      "image/png": "[encoded data removed]",
      "text/plain": [
       "<Figure size 792x360 with 1 Axes>"
      ]
     },
     "metadata": {
      "needs_background": "light"
     },
     "output_type": "display_data"
    }
   ],
   "source": [
    "#строим графики полученных составляющих\n",
    "plot_time_series(trend, 'Тренд', 'Дата (по часам)', 'Количество заказов')\n",
    "plot_time_series(seasonal, 'Сезонность', 'Дата (по часам)', 'Количество заказов')\n",
    "plot_time_series(resid, 'Остаток', 'Дата (по часам)', 'Количество заказов')"
   ]
  },
  {
   "cell_type": "markdown",
   "metadata": {},
   "source": [
    "<img src=\"https://emojigraph.org/media/apple/check-mark-button_2705.png\" align=left width=33, heigth=33>\n",
    "<div class=\"alert alert-success\">\n",
    " 👍 Есть декомпозиция на тренд и сезонность</div>"
   ]
  },
  {
   "cell_type": "markdown",
   "metadata": {},
   "source": [
    "На графике тренда явно виден рост количества поездок - имеем восходящий тренд. Однако на графике сезонности ничего не видно - слишком мелкий масштаб. Возьмем данные за неделю - с 20 до 26 августа 2018 года, и за день - понедельник 20 августа 2018 года."
   ]
  },
  {
   "cell_type": "code",
   "execution_count": 15,
   "metadata": {},
   "outputs": [
    {
     "data": {
      "image/png": "[encoded data removed]",
      "text/plain": [
       "<Figure size 792x360 with 1 Axes>"
      ]
     },
     "metadata": {
      "needs_background": "light"
     },
     "output_type": "display_data"
    },
    {
     "data": {
      "image/png": "[encoded data removed]",
      "text/plain": [
       "<Figure size 792x360 with 1 Axes>"
      ]
     },
     "metadata": {
      "needs_background": "light"
     },
     "output_type": "display_data"
    }
   ],
   "source": [
    "#явно видно рост продаж - восходящий тренд\n",
    "#однако в таком масштабе не видно сезонность - посмотрим сезонность за неделю, за будний день и за выходной\n",
    "#неделя - с 20 до 26 августа 2018 года, будний день - среда, 22 августа 2018, выходной - суббота, 25 августа 2018\n",
    "plot_time_series(seasonal.loc['2018-08-20 00:00:00':'2018-08-27 00:00:00'],\n",
    "                 'Сезонность (неделя)',\n",
    "                 'Дата (по часам)',\n",
    "                 'Количество заказов')\n",
    "plot_time_series(seasonal.loc['2018-08-20 00:00:00':'2018-08-21 00:00:00'],\n",
    "                 'Сезонность (день)',\n",
    "                 'Дата (по часам)',\n",
    "                 'Количество заказов')"
   ]
  },
  {
   "cell_type": "markdown",
   "metadata": {},
   "source": [
    "<img src=\"https://emojigraph.org/media/apple/check-mark-button_2705.png\" align=left width=33, heigth=33>\n",
    "<div class=\"alert alert-success\">\n",
    " 👍 Супер, исследована суточная сезонность. Только хочу обратить твое внимание, что после выполнения декомпозиции в seasonal будет содержаться периодическая компонента, которая абсолютно одинакова для любого периода (в нашем случаеэто сутки).  И это не свойство наших данных (логично предположить,что в суботу и среду они должны быть разными, а свойство инструмента.  Он ищет повторяемые паттерны, остальное уходит в тренд и сезонность. </div>"
   ]
  },
  {
   "cell_type": "markdown",
   "metadata": {},
   "source": [
    "<div class=\"alert alert-info\">\n",
    "Оставил два масштаба для сезонности - неделю и день.\n",
    "</div>"
   ]
  },
  {
   "cell_type": "markdown",
   "metadata": {},
   "source": [
    "<img src=\"https://emojigraph.org/media/apple/check-mark-button_2705.png\" align=left width=33, heigth=33>\n",
    "<div class=\"alert alert-success\">\n",
    " 👍 Совет: в данных кроме суточной есть недельная сезонность. Чтобы увидеть её нужно сделать ресемплинг данных по суткам и вновь сделать декомпозицию на сезонность и тренд. Дело в том, что seasonal_decompose настраивается на сезонность с самым маленьким циклом, при ресемпле данных по часу это сутки, при ресемпле по суткам это неделя. </div>"
   ]
  },
  {
   "cell_type": "markdown",
   "metadata": {},
   "source": [
    "По графикам видим наличие суточной сезонности (так как ресемплирование почасовое) и наличие восходящего тренда - количество заказов растёт с начала года. \n",
    "\n",
    "Основные пики сезонности: \n",
    "* утро - люди едут на работу; \n",
    "* вечер - возвращаются с работы;\n",
    "* ночь - общественный транспорт не работает."
   ]
  },
  {
   "cell_type": "markdown",
   "metadata": {},
   "source": [
    "<img src=\"https://emojigraph.org/media/apple/check-mark-button_2705.png\" align=left width=33, heigth=33>\n",
    "<div class=\"alert alert-success\">\n",
    " 👍 Есть вывод, указано суточная сезонность. Рекомендую также написать про общий тренд (увеличивается или уменьшается количество заказов), а также про недельную сезонность, если ты её исследуешь.</div>"
   ]
  },
  {
   "cell_type": "markdown",
   "metadata": {},
   "source": [
    "<div class=\"alert alert-info\">\n",
    "Чуть поправил вывод.\n",
    "</div>"
   ]
  },
  {
   "cell_type": "markdown",
   "metadata": {},
   "source": [
    "## Обучение"
   ]
  },
  {
   "cell_type": "markdown",
   "metadata": {},
   "source": [
    "Создадим дополнительные признаки:\n",
    "* day - день;\n",
    "* dayofweek - день недели;\n",
    "* hour - час.\n",
    "\n",
    "Год не добавляем - все данные находятся в рамках одного года."
   ]
  },
  {
   "cell_type": "code",
   "execution_count": 16,
   "metadata": {},
   "outputs": [
    {
     "data": {
      "text/html": [
       "<div>\n",
       "<style scoped>\n",
       "    .dataframe tbody tr th:only-of-type {\n",
       "        vertical-align: middle;\n",
       "    }\n",
       "\n",
       "    .dataframe tbody tr th {\n",
       "        vertical-align: top;\n",
       "    }\n",
       "\n",
       "    .dataframe thead th {\n",
       "        text-align: right;\n",
       "    }\n",
       "</style>\n",
       "<table border=\"1\" class=\"dataframe\">\n",
       "  <thead>\n",
       "    <tr style=\"text-align: right;\">\n",
       "      <th></th>\n",
       "      <th>num_orders</th>\n",
       "      <th>dayofweek</th>\n",
       "      <th>hour</th>\n",
       "    </tr>\n",
       "    <tr>\n",
       "      <th>datetime</th>\n",
       "      <th></th>\n",
       "      <th></th>\n",
       "      <th></th>\n",
       "    </tr>\n",
       "  </thead>\n",
       "  <tbody>\n",
       "    <tr>\n",
       "      <th>2018-03-01 00:00:00</th>\n",
       "      <td>124</td>\n",
       "      <td>3</td>\n",
       "      <td>0</td>\n",
       "    </tr>\n",
       "    <tr>\n",
       "      <th>2018-03-01 01:00:00</th>\n",
       "      <td>85</td>\n",
       "      <td>3</td>\n",
       "      <td>1</td>\n",
       "    </tr>\n",
       "    <tr>\n",
       "      <th>2018-03-01 02:00:00</th>\n",
       "      <td>71</td>\n",
       "      <td>3</td>\n",
       "      <td>2</td>\n",
       "    </tr>\n",
       "    <tr>\n",
       "      <th>2018-03-01 03:00:00</th>\n",
       "      <td>66</td>\n",
       "      <td>3</td>\n",
       "      <td>3</td>\n",
       "    </tr>\n",
       "    <tr>\n",
       "      <th>2018-03-01 04:00:00</th>\n",
       "      <td>43</td>\n",
       "      <td>3</td>\n",
       "      <td>4</td>\n",
       "    </tr>\n",
       "  </tbody>\n",
       "</table>\n",
       "</div>"
      ],
      "text/plain": [
       "                     num_orders  dayofweek  hour\n",
       "datetime                                        \n",
       "2018-03-01 00:00:00         124          3     0\n",
       "2018-03-01 01:00:00          85          3     1\n",
       "2018-03-01 02:00:00          71          3     2\n",
       "2018-03-01 03:00:00          66          3     3\n",
       "2018-03-01 04:00:00          43          3     4"
      ]
     },
     "metadata": {},
     "output_type": "display_data"
    }
   ],
   "source": [
    "#Добавляем дополнительные признаки - месяц, день, день недели и час, год не добавляем - данные в рамках одного года\n",
    "#taxi_data['month'] = taxi_data.index.month\n",
    "#taxi_data['day'] = taxi_data.index.day\n",
    "taxi_data['dayofweek'] = taxi_data.index.dayofweek\n",
    "taxi_data['hour'] = taxi_data.index.hour\n",
    "#посмотрим первые пять строк данных для проверки\n",
    "display(taxi_data.head())"
   ]
  },
  {
   "cell_type": "markdown",
   "metadata": {},
   "source": [
    "<img src=\"https://emojigraph.org/media/apple/check-mark-button_2705.png\" align=left width=33, heigth=33>\n",
    "<div class=\"alert alert-success\">\n",
    "👍 Хорошо, что в признаки ты выносишь час, у нас четкая сезонность внутри суток.\n",
    "Также очень полезный признак день недели, из нашего опыта это понятно, хоть мы и не делали отдельное исследование.\n",
    "        \n",
    "</div>"
   ]
  },
  {
   "cell_type": "markdown",
   "metadata": {},
   "source": [
    "<img src=\"https://upload.wikimedia.org/wikipedia/commons/b/ba/Warning_sign_4.0.png\" align=left width=44, heigth=33>\n",
    "<div class=\"alert alert-warning\">\n",
    "Предлагаю удалить признак \"день\", т.к. сезонность внутри месяца мы не обнаружили.\n",
    "\n",
    "</div>"
   ]
  },
  {
   "cell_type": "markdown",
   "metadata": {},
   "source": [
    "<img src=\"https://upload.wikimedia.org/wikipedia/commons/thumb/8/81/Stop_sign.png/240px-Stop_sign.png\" align=left width=35, heigth=35>\n",
    "<div class=\"alert alert-danger\">\n",
    "А вот календарный признак \"месяц\" нужно удалить.  Данных у нас немного, всего 6 месяцев. При этом данные тренда мы учтем с помощью скользящего среднего и отстающих значений.\n",
    "</div>\n"
   ]
  },
  {
   "cell_type": "markdown",
   "metadata": {},
   "source": [
    "<div class=\"alert alert-info\">\n",
    "Согласен с обоими замечаниями - на графиках у нас явно видна зависимость в рамках суток от часа и в рамках недели от дня недели. Остальные ничего не дают.\n",
    "</div>"
   ]
  },
  {
   "cell_type": "markdown",
   "metadata": {},
   "source": [
    "<img src=\"https://emojigraph.org/media/apple/check-mark-button_2705.png\" align=left width=33, heigth=33>\n",
    "<div class=\"alert alert-success\">\n",
    "👍 Идея (совет). Если использовать полученные календарные признаки (час и день недели) как категориальные и перевести их в формат OHE, то точность моделей и предсказаний может повыситься.  \n",
    "    \n",
    "Я вижу, что ты делаешь это для Кэтбуста, но может и остальным моделям дать равные шансы?   \n",
    "    \n",
    "</div>"
   ]
  },
  {
   "cell_type": "markdown",
   "metadata": {},
   "source": [
    "<div class=\"alert alert-info\">\n",
    "В импорты в самом начале добавил OHE и пайплайн - в модели не катбуста (Ridge и RandomForestRegressor) буду в дальнейшем передавать данные через пайплайн с OHE.\n",
    "</div>"
   ]
  },
  {
   "cell_type": "markdown",
   "metadata": {},
   "source": [
    "Создадим новые функции - одна для создания новых признаков, вторая для проверки их качества."
   ]
  },
  {
   "cell_type": "code",
   "execution_count": 17,
   "metadata": {},
   "outputs": [],
   "source": [
    "#создадим две функции - для создания новых признаков - скользящего среднего и лага; и для их проверки\n",
    "def make_features(data, max_lag, rolling_mean_size):\n",
    "    data_copy = data.copy()\n",
    "    for lag in range(1, max_lag + 1):\n",
    "        data_copy['lag_{}'.format(lag)] = data_copy['num_orders'].shift(lag)\n",
    "\n",
    "    data_copy['rolling_mean'] = data_copy['num_orders'].shift().rolling(rolling_mean_size).mean()\n",
    "    data_copy = data_copy.dropna()\n",
    "    \n",
    "    return data_copy\n",
    "\n",
    "#def eval_features(data, max_lag, rolling_mean_size, model):  \n",
    "#    data_copy = make_features(data, max_lag, rolling_mean_size)\n",
    "#    \n",
    "#    features, target = split_data(data_copy, ['num_orders'])\n",
    "#    features_train, features_test, target_train, target_test = train_test_split(features,\n",
    "#                                                                                target, \n",
    "#                                                                                shuffle=False,\n",
    "#                                                                                test_size=0.2)\n",
    "#    \n",
    "#    model.fit(features_train, target_train)\n",
    "#    predictions = model.predict(features_test) \n",
    "#    \n",
    "#    return mean_squared_error(target_test, predictions) ** 0.5\n",
    "\n",
    "def eval_features(data, max_lag, rolling_mean_size, model):\n",
    "    data_copy = make_features(data, max_lag, rolling_mean_size)\n",
    "    features, target = split_data(data_copy, ['num_orders'])\n",
    "    features_train, features_test, target_train, target_test = train_test_split(features,\n",
    "                                                                                target, \n",
    "                                                                                shuffle=False,\n",
    "                                                                                test_size=0.2)\n",
    "    tscv = TimeSeriesSplit(n_splits=5)\n",
    "    score = cross_val_score(model, features_train, target_train, cv=tscv, scoring='neg_mean_squared_error').mean()\n",
    "    \n",
    "    return (-score)**0.5"
   ]
  },
  {
   "cell_type": "markdown",
   "metadata": {},
   "source": [
    "<img src=\"https://emojigraph.org/media/apple/check-mark-button_2705.png\" align=left width=33, heigth=33>\n",
    "<div class=\"alert alert-success\">\n",
    "👍 Молодец, что используешь все три типа признаков    \n",
    "    \n",
    "</div>"
   ]
  },
  {
   "cell_type": "markdown",
   "metadata": {},
   "source": [
    "<img src=\"https://emojigraph.org/media/apple/check-mark-button_2705.png\" align=left width=33, heigth=33>\n",
    "<div class=\"alert alert-success\">\n",
    "👍 Совет - у  mean_squared_error есть аргумент squared, если установить его в значение False, то не нужно будет извлекать квадратный корень.   \n",
    "    \n",
    "</div>"
   ]
  },
  {
   "cell_type": "markdown",
   "metadata": {},
   "source": [
    "<img src=\"https://upload.wikimedia.org/wikipedia/commons/thumb/8/81/Stop_sign.png/240px-Stop_sign.png\" align=left width=35, heigth=35>\n",
    "<div class=\"alert alert-danger\">\n",
    "При оценке моделей ты планируешь использовать тестовую выборку. Но это является грубой ошибкой, использовать тестовую выборку для подбора гиперпараметров или иного улучшения модели нельзя. Используй валидационную выборку или кросс-валидацию.\n",
    "    \n",
    "Сразу предупрежу, что при работе с временными рядами нельзя использовать стандартную кросс-валидацию, так как в определенный момент тренировочная выборка окажется позже валидационной. Для решения этой проблемы стоит использовать <a href=\"https://scikit-learn.org/stable/modules/generated/sklearn.model_selection.TimeSeriesSplit.html\">TimeSeriesSplit</a>. Объект этого типа можно передать в параметр cv в метод основанный на кросс-валидации.\n",
    "</div>\n",
    "\n",
    "    tscv = TimeSeriesSplit(n_splits=5)\n",
    "    gsearch = GridSearchCV(estimator=model, cv=tscv, param_grid=param_search)\n",
    "    gsearch.fit(X, y)"
   ]
  },
  {
   "cell_type": "markdown",
   "metadata": {},
   "source": [
    "<div class=\"alert alert-info\">\n",
    "Согласен, для этого изначально и импортировал TimeSeriesSplit, но где то по пути его потерял с:\n",
    "    \n",
    "Функцию eval_features переписал на использование кросс-валидации.\n",
    "</div>"
   ]
  },
  {
   "cell_type": "markdown",
   "metadata": {},
   "source": [
    "<img src=\"https://emojigraph.org/media/apple/check-mark-button_2705.png\" align=left width=33, heigth=33>\n",
    "<div class=\"alert alert-success\">\n",
    "<b>v2</b> 👍 </div>"
   ]
  },
  {
   "cell_type": "markdown",
   "metadata": {},
   "source": [
    "С помощью этих функций будем предварительно искать лучшие значения максимального среднего и размера выборки скользящего среднего для каждой модели перед подбором параметров."
   ]
  },
  {
   "cell_type": "markdown",
   "metadata": {},
   "source": [
    "### RIDGE"
   ]
  },
  {
   "cell_type": "code",
   "execution_count": 18,
   "metadata": {},
   "outputs": [
    {
     "name": "stdout",
     "output_type": "stream",
     "text": [
      "Лучшая оценка: 21.884275197740347 при параметрах - лаг: 168, размер скользящего среднего: 6\n",
      "CPU times: user 8.78 s, sys: 18.9 s, total: 27.7 s\n",
      "Wall time: 27.7 s\n"
     ]
    }
   ],
   "source": [
    "%%time\n",
    "#RIDGE модель\n",
    "\n",
    "model = Ridge(random_state=RANDOM_STATE)\n",
    "\n",
    "best_score = 10 ** 6\n",
    "max_lag_best = None\n",
    "rolling_mean_size_best = None\n",
    "\n",
    "for max_lag in [6, 12, 24, 48, 96, 168]:\n",
    "    for rolling_mean_size in [6, 12, 24, 48, 96, 168]:\n",
    "        rmse = eval_features(taxi_data, max_lag, rolling_mean_size, model)\n",
    "        if rmse < best_score: \n",
    "            best_score = rmse\n",
    "            max_lag_best = max_lag\n",
    "            rolling_mean_size_best = rolling_mean_size\n",
    "\n",
    "print('Лучшая оценка: {} при параметрах - лаг: {}, размер скользящего среднего: {}'\n",
    "      .format(best_score, max_lag_best, rolling_mean_size_best))"
   ]
  },
  {
   "cell_type": "markdown",
   "metadata": {},
   "source": [
    "<img src=\"https://upload.wikimedia.org/wikipedia/commons/b/ba/Warning_sign_4.0.png\" align=left width=44, heigth=33>\n",
    "<div class=\"alert alert-warning\">\n",
    "Хорошая идея с подбором размера окна и количества отстающих значений.  Но попробую дать совет: не заниматься линейным перебором, а попробовать опереться на анализ и понимание наших данных.\n",
    "    \n",
    " - Количество экспериментов можно уменьшить, если решить сделать количество отстающих значений равным размеру окна. Это совет, просто моя интуиция. Жестко обосновать не смогу. Но за очень хороший бейзлайн сойдет, от которого можно провести дополнительные исследования. Впрочем можешь перебрать обе переменных независимо.\n",
    "    \n",
    " - В данных есть два цикла - сутки и неделя. Поэтому я бы рекомендовал перебирать следующие значения:\n",
    "     6/12/24/48/96/168  (четверть суток, половина, сутки, двое, четверо, неделя. При этом \"Вангую\" что неделя оказется самым лучшим знаением, т.к. учтется и недельная сезонность и тренд  за неделю.\n",
    "        \n",
    "</div>"
   ]
  },
  {
   "cell_type": "markdown",
   "metadata": {},
   "source": [
    "<div class=\"alert alert-info\">\n",
    "Согласен, возьмём список периодами часов до недели.\n",
    "</div>"
   ]
  },
  {
   "cell_type": "markdown",
   "metadata": {},
   "source": [
    "<img src=\"https://emojigraph.org/media/apple/check-mark-button_2705.png\" align=left width=33, heigth=33>\n",
    "<div class=\"alert alert-success\">\n",
    "<b>v2</b> 👍 </div>"
   ]
  },
  {
   "cell_type": "code",
   "execution_count": 19,
   "metadata": {},
   "outputs": [],
   "source": [
    "taxi_data_ridge = taxi_data.copy()\n",
    "taxi_data_ridge = make_features(taxi_data_ridge, 168, 6)\n",
    "features, target = split_data(taxi_data_ridge, ['num_orders'])\n",
    "features_train, features_test, target_train, target_test = train_test_split(features, target,\n",
    "                                                                            shuffle=False,\n",
    "                                                                            test_size=0.1)"
   ]
  },
  {
   "cell_type": "code",
   "execution_count": 22,
   "metadata": {},
   "outputs": [],
   "source": [
    "tscv = TimeSeriesSplit(n_splits=5)\n",
    "pipeline = Pipeline([('ohe', OneHotEncoder(handle_unknown='ignore', )),\n",
    "                     ('model', Ridge(random_state=RANDOM_STATE))])\n",
    "\n",
    "param_grid = {'model__alpha': [20, 10, 5, 1, 0.1, 0.01, 0.001, 0]}\n",
    "search_ridge = GridSearchCV(pipeline, param_grid, cv=tscv, scoring='neg_mean_squared_error', verbose=False)"
   ]
  },
  {
   "cell_type": "markdown",
   "metadata": {},
   "source": [
    "<img src=\"https://emojigraph.org/media/apple/check-mark-button_2705.png\" align=left width=33, heigth=33>\n",
    "<div class=\"alert alert-success\">\n",
    " Совет  -  в sklearn есть метрика neg_root_mean_squared_error, полный список метрик можешь глянуть по ссылке \n",
    "   \n",
    "    \n",
    " https://scikit-learn.org/stable/modules/model_evaluation.html</div>"
   ]
  },
  {
   "cell_type": "markdown",
   "metadata": {},
   "source": [
    "<img src=\"https://upload.wikimedia.org/wikipedia/commons/thumb/8/81/Stop_sign.png/240px-Stop_sign.png\" align=left width=35, heigth=35>\n",
    "<div class=\"alert alert-danger\">\n",
    "При работе с временными рядами нельзя использовать стандартную кросс-валидацию, так как в определенный момент тренировочная выборка окажется позже валидационной. Для решения этой проблемы стоит использовать <a href=\"https://scikit-learn.org/stable/modules/generated/sklearn.model_selection.TimeSeriesSplit.html\">TimeSeriesSplit</a>. Объект этого типа можно передать в параметр cv в метод основанный на кросс-валидации.\n",
    "</div>\n",
    "\n",
    "    tscv = TimeSeriesSplit(n_splits=5)\n",
    "    gsearch = GridSearchCV(estimator=model, cv=tscv, param_grid=param_search)\n",
    "    gsearch.fit(X, y)"
   ]
  },
  {
   "cell_type": "markdown",
   "metadata": {},
   "source": [
    "<div class=\"alert alert-info\">\n",
    "Добавил TimeSeriesSplit в кросс-валидацию и пайплайн с OHE.\n",
    "</div>"
   ]
  },
  {
   "cell_type": "markdown",
   "metadata": {},
   "source": [
    "<img src=\"https://emojigraph.org/media/apple/check-mark-button_2705.png\" align=left width=33, heigth=33>\n",
    "<div class=\"alert alert-success\">\n",
    "<b>v2</b> 👍 </div>"
   ]
  },
  {
   "cell_type": "code",
   "execution_count": 23,
   "metadata": {
    "scrolled": true
   },
   "outputs": [
    {
     "name": "stdout",
     "output_type": "stream",
     "text": [
      "CPU times: user 11.7 s, sys: 9.92 s, total: 21.6 s\n",
      "Wall time: 21.6 s\n"
     ]
    },
    {
     "data": {
      "text/plain": [
       "GridSearchCV(cv=TimeSeriesSplit(gap=0, max_train_size=None, n_splits=5, test_size=None),\n",
       "             estimator=Pipeline(steps=[('ohe',\n",
       "                                        OneHotEncoder(handle_unknown='ignore')),\n",
       "                                       ('model', Ridge(random_state=131296))]),\n",
       "             param_grid={'model__alpha': [20, 10, 5, 1, 0.1, 0.01, 0.001, 0]},\n",
       "             scoring='neg_mean_squared_error', verbose=False)"
      ]
     },
     "execution_count": 23,
     "metadata": {},
     "output_type": "execute_result"
    }
   ],
   "source": [
    "%%time\n",
    "search_ridge.fit(features_train, target_train)"
   ]
  },
  {
   "cell_type": "markdown",
   "metadata": {},
   "source": [
    "Сохраним статистику модели."
   ]
  },
  {
   "cell_type": "code",
   "execution_count": 24,
   "metadata": {},
   "outputs": [],
   "source": [
    "stats = get_model_time_and_rmse(search_ridge)\n",
    "\n",
    "models_stats.append({'model': 'Ridge',\n",
    "                     'fit_time': stats.fit_time,\n",
    "                     'predict_time': stats.predict_time,\n",
    "                     'RMSE': stats.rmse\n",
    "                    })"
   ]
  },
  {
   "cell_type": "markdown",
   "metadata": {},
   "source": [
    "<img src=\"https://emojigraph.org/media/apple/check-mark-button_2705.png\" align=left width=33, heigth=33>\n",
    "<div class=\"alert alert-success\">\n",
    " 👍 </div>"
   ]
  },
  {
   "cell_type": "markdown",
   "metadata": {},
   "source": [
    "### CatBoost"
   ]
  },
  {
   "cell_type": "code",
   "execution_count": 25,
   "metadata": {},
   "outputs": [
    {
     "name": "stdout",
     "output_type": "stream",
     "text": [
      "Лучшая оценка: 20.77841280418962 при параметрах - лаг: 168, размер скользящего среднего: 96\n",
      "CPU times: user 38min 36s, sys: 3min 53s, total: 42min 29s\n",
      "Wall time: 46min 55s\n"
     ]
    }
   ],
   "source": [
    "%%time\n",
    "#CatBoost\n",
    "#день недели и час - это категориальные признаки\n",
    "cat_features = ['dayofweek', 'hour']\n",
    "\n",
    "model = CatBoostRegressor(random_seed=RANDOM_STATE, loss_function='RMSE', silent=True, cat_features=cat_features)\n",
    "\n",
    "best_score = 10 ** 6\n",
    "max_lag_best = None\n",
    "rolling_mean_size_best = None\n",
    "\n",
    "for max_lag in [6, 12, 24, 48, 96, 168]:\n",
    "    for rolling_mean_size in [6, 12, 24, 48, 96, 168]:\n",
    "        rmse = eval_features(taxi_data, max_lag, rolling_mean_size, model)\n",
    "        if rmse < best_score: \n",
    "            best_score = rmse\n",
    "            max_lag_best = max_lag\n",
    "            rolling_mean_size_best = rolling_mean_size\n",
    "\n",
    "print('Лучшая оценка: {} при параметрах - лаг: {}, размер скользящего среднего: {}'\n",
    "      .format(best_score, max_lag_best, rolling_mean_size_best))"
   ]
  },
  {
   "cell_type": "code",
   "execution_count": 26,
   "metadata": {},
   "outputs": [],
   "source": [
    "taxi_data_catboost = taxi_data.copy()\n",
    "taxi_data_catboost = make_features(taxi_data_catboost, 168, 96)\n",
    "features, target = split_data(taxi_data_catboost, ['num_orders'])\n",
    "features_train, features_test, target_train, target_test = train_test_split(features, target,\n",
    "                                                                            shuffle=False,\n",
    "                                                                            test_size=0.1)"
   ]
  },
  {
   "cell_type": "code",
   "execution_count": 27,
   "metadata": {},
   "outputs": [],
   "source": [
    "tscv = TimeSeriesSplit(n_splits=5)\n",
    "param_grid = {'learning_rate': [0.1, 0.01],\n",
    "              'depth': [6, 8, 10],\n",
    "              'iterations': [40, 60]\n",
    "             }\n",
    "\n",
    "search_cb = GridSearchCV(model, param_grid, cv=tscv, scoring='neg_mean_squared_error', verbose=False)"
   ]
  },
  {
   "cell_type": "markdown",
   "metadata": {},
   "source": [
    "<img src=\"https://upload.wikimedia.org/wikipedia/commons/thumb/8/81/Stop_sign.png/240px-Stop_sign.png\" align=left width=35, heigth=35>\n",
    "<div class=\"alert alert-danger\">\n",
    "Здесь тоже утечки при кросс-валидации, используй TimeSeriesSplit"
   ]
  },
  {
   "cell_type": "markdown",
   "metadata": {},
   "source": [
    "<div class=\"alert alert-info\">\n",
    "Добавил TimeSeriesSplit в кросс-валидацию.\n",
    "</div>"
   ]
  },
  {
   "cell_type": "markdown",
   "metadata": {},
   "source": [
    "<img src=\"https://emojigraph.org/media/apple/check-mark-button_2705.png\" align=left width=33, heigth=33>\n",
    "<div class=\"alert alert-success\">\n",
    "<b>v2</b> 👍 </div>"
   ]
  },
  {
   "cell_type": "code",
   "execution_count": 28,
   "metadata": {},
   "outputs": [
    {
     "name": "stdout",
     "output_type": "stream",
     "text": [
      "CPU times: user 7min 1s, sys: 36 s, total: 7min 37s\n",
      "Wall time: 8min 28s\n"
     ]
    },
    {
     "data": {
      "text/plain": [
       "GridSearchCV(cv=TimeSeriesSplit(gap=0, max_train_size=None, n_splits=5, test_size=None),\n",
       "             estimator=<catboost.core.CatBoostRegressor object at 0x7f118915fd30>,\n",
       "             param_grid={'depth': [6, 8, 10], 'iterations': [40, 60],\n",
       "                         'learning_rate': [0.1, 0.01]},\n",
       "             scoring='neg_mean_squared_error', verbose=False)"
      ]
     },
     "execution_count": 28,
     "metadata": {},
     "output_type": "execute_result"
    }
   ],
   "source": [
    "%%time\n",
    "search_cb.fit(features_train, target_train)"
   ]
  },
  {
   "cell_type": "markdown",
   "metadata": {},
   "source": [
    "Сохраним статистику модели."
   ]
  },
  {
   "cell_type": "code",
   "execution_count": 29,
   "metadata": {},
   "outputs": [],
   "source": [
    "stats = get_model_time_and_rmse(search_cb)\n",
    "\n",
    "models_stats.append({'model': 'CatBoost',\n",
    "                     'fit_time': stats.fit_time,\n",
    "                     'predict_time': stats.predict_time,\n",
    "                     'RMSE': stats.rmse\n",
    "                    })"
   ]
  },
  {
   "cell_type": "markdown",
   "metadata": {},
   "source": [
    "<img src=\"https://emojigraph.org/media/apple/check-mark-button_2705.png\" align=left width=33, heigth=33>\n",
    "<div class=\"alert alert-success\">\n",
    " 👍 </div>"
   ]
  },
  {
   "cell_type": "markdown",
   "metadata": {},
   "source": [
    "### RandomForestRegressor"
   ]
  },
  {
   "cell_type": "code",
   "execution_count": 31,
   "metadata": {},
   "outputs": [
    {
     "name": "stdout",
     "output_type": "stream",
     "text": [
      "Лучшая оценка: 21.31076114467456 при параметрах - лаг: 168, размер скользящего среднего: 24\n",
      "CPU times: user 12min 30s, sys: 1.95 s, total: 12min 32s\n",
      "Wall time: 12min 32s\n"
     ]
    }
   ],
   "source": [
    "%%time\n",
    "#RandomForestRegressor\n",
    "model = RandomForestRegressor(random_state=RANDOM_STATE)\n",
    "\n",
    "best_score = 10 ** 6\n",
    "max_lag_best = None\n",
    "rolling_mean_size_best = None\n",
    "\n",
    "for max_lag in [6, 12, 24, 48, 96, 168]:\n",
    "    for rolling_mean_size in [6, 12, 24, 48, 96, 168]:\n",
    "        rmse = eval_features(taxi_data, max_lag, rolling_mean_size, model)\n",
    "        if rmse < best_score: \n",
    "            best_score = rmse\n",
    "            max_lag_best = max_lag\n",
    "            rolling_mean_size_best = rolling_mean_size\n",
    "\n",
    "print('Лучшая оценка: {} при параметрах - лаг: {}, размер скользящего среднего: {}'\n",
    "      .format(best_score, max_lag_best, rolling_mean_size_best))"
   ]
  },
  {
   "cell_type": "code",
   "execution_count": 32,
   "metadata": {},
   "outputs": [],
   "source": [
    "taxi_data_rfr = taxi_data.copy()\n",
    "taxi_data_rfr = make_features(taxi_data_rfr, 168, 24)\n",
    "features, target = split_data(taxi_data_rfr, ['num_orders'])\n",
    "features_train, features_test, target_train, target_test = train_test_split(features, target,\n",
    "                                                                            shuffle=False,\n",
    "                                                                            test_size=0.1)"
   ]
  },
  {
   "cell_type": "code",
   "execution_count": 33,
   "metadata": {},
   "outputs": [],
   "source": [
    "tscv = TimeSeriesSplit(n_splits=5)\n",
    "pipeline = Pipeline([('ohe', OneHotEncoder(handle_unknown='ignore', )),\n",
    "                     ('model', RandomForestRegressor(random_state=RANDOM_STATE))])\n",
    "\n",
    "param_grid = {\n",
    "    'model__n_estimators': range(10, 51, 10),\n",
    "    'model__max_depth': range(2, 11, 1)\n",
    "}\n",
    "\n",
    "search_rf = GridSearchCV(pipeline, param_grid, cv=tscv, scoring='neg_mean_squared_error', verbose=False)"
   ]
  },
  {
   "cell_type": "markdown",
   "metadata": {},
   "source": [
    "<img src=\"https://upload.wikimedia.org/wikipedia/commons/thumb/8/81/Stop_sign.png/240px-Stop_sign.png\" align=left width=35, heigth=35>\n",
    "<div class=\"alert alert-danger\">\n",
    "Здесь тоже утечки при кросс-валидации, используй TimeSeriesSplit"
   ]
  },
  {
   "cell_type": "markdown",
   "metadata": {},
   "source": [
    "<div class=\"alert alert-info\">\n",
    "Добавил TimeSeriesSplit в кросс-валидацию.\n",
    "</div>"
   ]
  },
  {
   "cell_type": "markdown",
   "metadata": {},
   "source": [
    "<img src=\"https://emojigraph.org/media/apple/check-mark-button_2705.png\" align=left width=33, heigth=33>\n",
    "<div class=\"alert alert-success\">\n",
    "<b>v2</b> 👍 </div>"
   ]
  },
  {
   "cell_type": "code",
   "execution_count": 34,
   "metadata": {
    "scrolled": true
   },
   "outputs": [
    {
     "name": "stdout",
     "output_type": "stream",
     "text": [
      "CPU times: user 10min 19s, sys: 1.78 s, total: 10min 21s\n",
      "Wall time: 10min 22s\n"
     ]
    },
    {
     "data": {
      "text/plain": [
       "GridSearchCV(cv=TimeSeriesSplit(gap=0, max_train_size=None, n_splits=5, test_size=None),\n",
       "             estimator=Pipeline(steps=[('ohe',\n",
       "                                        OneHotEncoder(handle_unknown='ignore')),\n",
       "                                       ('model',\n",
       "                                        RandomForestRegressor(random_state=131296))]),\n",
       "             param_grid={'model__max_depth': range(2, 11),\n",
       "                         'model__n_estimators': range(10, 51, 10)},\n",
       "             scoring='neg_mean_squared_error', verbose=False)"
      ]
     },
     "execution_count": 34,
     "metadata": {},
     "output_type": "execute_result"
    }
   ],
   "source": [
    "%%time\n",
    "search_rf.fit(features_train, target_train)"
   ]
  },
  {
   "cell_type": "markdown",
   "metadata": {},
   "source": [
    "Сохраним статистику модели."
   ]
  },
  {
   "cell_type": "code",
   "execution_count": 35,
   "metadata": {},
   "outputs": [],
   "source": [
    "stats = get_model_time_and_rmse(search_rf)\n",
    "\n",
    "models_stats.append({'model': 'RandomForestRegressor',\n",
    "                     'fit_time': stats.fit_time,\n",
    "                     'predict_time': stats.predict_time,\n",
    "                     'RMSE': stats.rmse\n",
    "                    })"
   ]
  },
  {
   "cell_type": "markdown",
   "metadata": {},
   "source": [
    "<img src=\"https://emojigraph.org/media/apple/check-mark-button_2705.png\" align=left width=33, heigth=33>\n",
    "<div class=\"alert alert-success\">\n",
    " 👍 </div>"
   ]
  },
  {
   "cell_type": "markdown",
   "metadata": {},
   "source": [
    "## Тестирование"
   ]
  },
  {
   "cell_type": "markdown",
   "metadata": {},
   "source": [
    "Соберём статистики моделей в таблицу и выведем её на экран."
   ]
  },
  {
   "cell_type": "code",
   "execution_count": 36,
   "metadata": {},
   "outputs": [
    {
     "data": {
      "text/html": [
       "<div>\n",
       "<style scoped>\n",
       "    .dataframe tbody tr th:only-of-type {\n",
       "        vertical-align: middle;\n",
       "    }\n",
       "\n",
       "    .dataframe tbody tr th {\n",
       "        vertical-align: top;\n",
       "    }\n",
       "\n",
       "    .dataframe thead th {\n",
       "        text-align: right;\n",
       "    }\n",
       "</style>\n",
       "<table border=\"1\" class=\"dataframe\">\n",
       "  <thead>\n",
       "    <tr style=\"text-align: right;\">\n",
       "      <th></th>\n",
       "      <th>model</th>\n",
       "      <th>fit_time</th>\n",
       "      <th>predict_time</th>\n",
       "      <th>RMSE</th>\n",
       "    </tr>\n",
       "  </thead>\n",
       "  <tbody>\n",
       "    <tr>\n",
       "      <th>0</th>\n",
       "      <td>Ridge</td>\n",
       "      <td>0.292017</td>\n",
       "      <td>0.187074</td>\n",
       "      <td>32.238549</td>\n",
       "    </tr>\n",
       "    <tr>\n",
       "      <th>1</th>\n",
       "      <td>CatBoost</td>\n",
       "      <td>3.135797</td>\n",
       "      <td>0.010140</td>\n",
       "      <td>23.191616</td>\n",
       "    </tr>\n",
       "    <tr>\n",
       "      <th>2</th>\n",
       "      <td>RandomForestRegressor</td>\n",
       "      <td>1.334180</td>\n",
       "      <td>0.064008</td>\n",
       "      <td>34.517100</td>\n",
       "    </tr>\n",
       "  </tbody>\n",
       "</table>\n",
       "</div>"
      ],
      "text/plain": [
       "                   model  fit_time  predict_time       RMSE\n",
       "0                  Ridge  0.292017      0.187074  32.238549\n",
       "1               CatBoost  3.135797      0.010140  23.191616\n",
       "2  RandomForestRegressor  1.334180      0.064008  34.517100"
      ]
     },
     "metadata": {},
     "output_type": "display_data"
    }
   ],
   "source": [
    "display(pd.DataFrame(models_stats))"
   ]
  },
  {
   "cell_type": "markdown",
   "metadata": {},
   "source": [
    "Лучший результат на тренировочной выборке показала модель CatBoost. Используем её для испытания на тестовой выборке."
   ]
  },
  {
   "cell_type": "markdown",
   "metadata": {},
   "source": [
    "<img src=\"https://emojigraph.org/media/apple/check-mark-button_2705.png\" align=left width=33, heigth=33>\n",
    "<div class=\"alert alert-success\">\n",
    " 👍 </div>"
   ]
  },
  {
   "cell_type": "code",
   "execution_count": 37,
   "metadata": {},
   "outputs": [],
   "source": [
    "features, target = split_data(taxi_data_catboost, ['num_orders'])\n",
    "features_train, features_test, target_train, target_test = train_test_split(features, target,\n",
    "                                                                            shuffle=False,\n",
    "                                                                            test_size=0.1)"
   ]
  },
  {
   "cell_type": "code",
   "execution_count": 39,
   "metadata": {},
   "outputs": [
    {
     "name": "stdout",
     "output_type": "stream",
     "text": [
      "RMSE модели CatBoost на тестовой выборке: 39.971215923858644\n"
     ]
    }
   ],
   "source": [
    "predictions = search_cb.predict(features_test)\n",
    "rmse = mean_squared_error(target_test, predictions) ** 0.5\n",
    "print('RMSE модели CatBoost на тестовой выборке:', rmse)"
   ]
  },
  {
   "cell_type": "markdown",
   "metadata": {},
   "source": [
    "<img src=\"https://emojigraph.org/media/apple/check-mark-button_2705.png\" align=left width=33, heigth=33>\n",
    "<div class=\"alert alert-success\">\n",
    " 👍 Нужная метрика на тесте достигнута</div>"
   ]
  },
  {
   "cell_type": "markdown",
   "metadata": {},
   "source": [
    "Результат испытания модели на тестовой выборке попадают в требования клиента - её значение RMSE меньше, чем 48."
   ]
  },
  {
   "cell_type": "markdown",
   "metadata": {},
   "source": [
    "<div class=\"alert alert-info\">\n",
    "Модель CatBoost с учётом всех правок по ходу проекта показала себя лучше, чем изначальная модель Ridge - связываю это с устранением утечек данных + с лучшим подбором параметров.\n",
    "</div>"
   ]
  },
  {
   "cell_type": "markdown",
   "metadata": {},
   "source": [
    "<img src=\"https://emojigraph.org/media/apple/check-mark-button_2705.png\" align=left width=33, heigth=33>\n",
    "<div class=\"alert alert-success\">\n",
    "<b>v2</b> 👍 </div>"
   ]
  },
  {
   "cell_type": "markdown",
   "metadata": {},
   "source": [
    "## Чек-лист проверки"
   ]
  },
  {
   "cell_type": "markdown",
   "metadata": {},
   "source": [
    "- [x]  Jupyter Notebook открыт\n",
    "- [x]  Весь код выполняется без ошибок\n",
    "- [x]  Ячейки с кодом расположены в порядке исполнения\n",
    "- [x]  Данные загружены и подготовлены\n",
    "- [x]  Данные проанализированы\n",
    "- [x]  Модель обучена, гиперпараметры подобраны\n",
    "- [x]  Качество моделей проверено, выводы сделаны\n",
    "- [x]  Значение *RMSE* на тестовой выборке не больше 48"
   ]
  },
  {
   "cell_type": "markdown",
   "metadata": {},
   "source": [
    "<img src=\"http://s3.amazonaws.com/pix.iemoji.com/images/emoji/apple/ios-12/256/waving-hand.png\" align=left width=44, heigth=44>\n",
    "<div class=\"alert alert-info\">\n",
    "<b> Заключительный комментарий</b>\n",
    "\n",
    "В целом мне все понравилось: твоя работа выполнена на хорошем уровне, ты изучил данные, нашел сезоность и тренды,  корректно подготовил признаки и обучил модели. Также в проекте много графиков и пояснений.\n",
    "\n",
    "Отличная реализация подбора гиперпараметров для создания признаков.     \n",
    "    \n",
    "Есть ряд красный комментариев, связанных с использованием выборок или утечками при кросс-валидации.\n",
    "    \n",
    " - Нужно удалить календарный признак месяц\n",
    " - Нельзя использовать тестовую выборку раньше времени\n",
    " - Кросс-валидацию на временных рядах нужно производить с осторожностью   \n",
    "    \n",
    "    \n",
    "Желтые комментарии на твое усмотрение.\n",
    "    \n",
    "Жду твой проект на финальное ревью :)\n",
    "</div>"
   ]
  },
  {
   "cell_type": "markdown",
   "metadata": {},
   "source": [
    "<img src=\"http://s3.amazonaws.com/pix.iemoji.com/images/emoji/apple/ios-12/256/waving-hand.png\" align=left width=44, heigth=44>\n",
    "<div class=\"alert alert-info\">\n",
    "<b> Дополнительные материалы </b>\n",
    "\n",
    "Если решишь глубже погрузиться в тему временных рядов, думаю тебе стоит знать что подход, изученный в курсе далеко не единственный. Вот к чему возможно стоит обратиться:\n",
    " - Авторегрессионные модели семейства ARIMA. В качестве экскурса очень полезно следующее видео: https://www.youtube.com/watch?v=u433nrxdf5k&t=110s\n",
    " - Библиотека prophet от Facebook. По моим наблюдениям, качество решения этой моделью ниже, но она очень проста в применении. https://habr.com/ru/company/ods/blog/323730/\n",
    "    \n",
    " - Урок по временным рядам из курса ML от ODS (https://habr.com/ru/company/ods/blog/327242/)   \n",
    "\n",
    "\n",
    "</div>"
   ]
  },
  {
   "cell_type": "markdown",
   "metadata": {},
   "source": [
    "<img src=\"http://s3.amazonaws.com/pix.iemoji.com/images/emoji/apple/ios-12/256/waving-hand.png\" align=left width=44, heigth=44>\n",
    "<div class=\"alert alert-info\">\n",
    "<b> Заключительный комментарий v2</b>\n",
    "\n",
    "Привет! Вижу что ты хорошо поработал и проект стал еще лучше ))).\n",
    "\n",
    "\n",
    "Проект принят. Поздравляю и желаю дальнейших успехов!</div>"
   ]
  },
  {
   "cell_type": "code",
   "execution_count": null,
   "metadata": {},
   "outputs": [],
   "source": []
  }
 ],
 "metadata": {
  "ExecuteTimeLog": [
   {
    "duration": 1640,
    "start_time": "2022-12-04T12:32:43.794Z"
   },
   {
    "duration": 4,
    "start_time": "2022-12-04T12:34:18.103Z"
   },
   {
    "duration": 4,
    "start_time": "2022-12-04T12:35:14.113Z"
   },
   {
    "duration": 4,
    "start_time": "2022-12-04T12:37:01.133Z"
   },
   {
    "duration": 4,
    "start_time": "2022-12-04T12:48:16.044Z"
   },
   {
    "duration": 7,
    "start_time": "2022-12-04T12:48:19.355Z"
   },
   {
    "duration": 4,
    "start_time": "2022-12-04T12:49:52.492Z"
   },
   {
    "duration": 3,
    "start_time": "2022-12-04T12:50:33.735Z"
   },
   {
    "duration": 95,
    "start_time": "2022-12-04T12:51:33.527Z"
   },
   {
    "duration": 37,
    "start_time": "2022-12-04T12:51:54.376Z"
   },
   {
    "duration": 2,
    "start_time": "2022-12-04T12:52:39.673Z"
   },
   {
    "duration": 124,
    "start_time": "2022-12-04T12:53:08.192Z"
   },
   {
    "duration": 44,
    "start_time": "2022-12-04T12:54:28.174Z"
   },
   {
    "duration": 25,
    "start_time": "2022-12-04T12:54:29.705Z"
   },
   {
    "duration": 12,
    "start_time": "2022-12-04T12:54:35.876Z"
   },
   {
    "duration": 45,
    "start_time": "2022-12-04T12:54:57.967Z"
   },
   {
    "duration": 23,
    "start_time": "2022-12-04T12:54:59.788Z"
   },
   {
    "duration": 7,
    "start_time": "2022-12-04T12:55:03.380Z"
   },
   {
    "duration": 3,
    "start_time": "2022-12-04T12:56:10.686Z"
   },
   {
    "duration": 3,
    "start_time": "2022-12-04T12:56:19.598Z"
   },
   {
    "duration": 63,
    "start_time": "2022-12-04T12:56:24.849Z"
   },
   {
    "duration": 38,
    "start_time": "2022-12-04T12:56:29.278Z"
   },
   {
    "duration": 43,
    "start_time": "2022-12-04T12:56:34.069Z"
   },
   {
    "duration": 43,
    "start_time": "2022-12-04T12:56:42.182Z"
   },
   {
    "duration": 55,
    "start_time": "2022-12-04T12:56:44.734Z"
   },
   {
    "duration": 50,
    "start_time": "2022-12-04T12:57:20.311Z"
   },
   {
    "duration": 4,
    "start_time": "2022-12-04T12:57:25.571Z"
   },
   {
    "duration": 4,
    "start_time": "2022-12-04T12:57:36.575Z"
   },
   {
    "duration": 239,
    "start_time": "2022-12-04T12:58:21.184Z"
   },
   {
    "duration": 297,
    "start_time": "2022-12-04T12:58:46.226Z"
   },
   {
    "duration": 227,
    "start_time": "2022-12-04T12:58:55.113Z"
   },
   {
    "duration": 8,
    "start_time": "2022-12-04T13:04:19.907Z"
   },
   {
    "duration": 707,
    "start_time": "2022-12-04T13:05:35.530Z"
   },
   {
    "duration": 4,
    "start_time": "2022-12-04T13:10:06.551Z"
   },
   {
    "duration": 14,
    "start_time": "2022-12-04T13:11:02.599Z"
   },
   {
    "duration": 12,
    "start_time": "2022-12-04T13:11:12.170Z"
   },
   {
    "duration": 6,
    "start_time": "2022-12-04T13:11:17.146Z"
   },
   {
    "duration": 6,
    "start_time": "2022-12-04T13:11:28.385Z"
   },
   {
    "duration": 12,
    "start_time": "2022-12-04T13:11:44.969Z"
   },
   {
    "duration": 186,
    "start_time": "2022-12-04T13:15:45.143Z"
   },
   {
    "duration": 437,
    "start_time": "2022-12-04T13:16:11.569Z"
   },
   {
    "duration": 496,
    "start_time": "2022-12-04T13:16:33.024Z"
   },
   {
    "duration": 537,
    "start_time": "2022-12-04T13:18:00.249Z"
   },
   {
    "duration": 532,
    "start_time": "2022-12-04T13:18:45.675Z"
   },
   {
    "duration": 3,
    "start_time": "2022-12-04T13:22:12.967Z"
   },
   {
    "duration": 2,
    "start_time": "2022-12-04T13:23:54.059Z"
   },
   {
    "duration": 9,
    "start_time": "2022-12-04T13:25:16.443Z"
   },
   {
    "duration": 11,
    "start_time": "2022-12-04T13:25:46.979Z"
   },
   {
    "duration": 3,
    "start_time": "2022-12-04T13:34:17.829Z"
   },
   {
    "duration": 5,
    "start_time": "2022-12-04T13:35:02.315Z"
   },
   {
    "duration": 5,
    "start_time": "2022-12-04T13:37:04.223Z"
   },
   {
    "duration": 2,
    "start_time": "2022-12-04T13:38:27.370Z"
   },
   {
    "duration": 3,
    "start_time": "2022-12-04T13:38:35.746Z"
   },
   {
    "duration": 4,
    "start_time": "2022-12-04T13:42:36.328Z"
   },
   {
    "duration": 3,
    "start_time": "2022-12-04T13:43:21.001Z"
   },
   {
    "duration": 11,
    "start_time": "2022-12-04T13:43:44.363Z"
   },
   {
    "duration": 163513,
    "start_time": "2022-12-04T13:43:56.242Z"
   },
   {
    "duration": 8,
    "start_time": "2022-12-04T13:50:11.286Z"
   },
   {
    "duration": 163752,
    "start_time": "2022-12-04T13:50:27.403Z"
   },
   {
    "duration": 165096,
    "start_time": "2022-12-04T19:00:42.560Z"
   },
   {
    "duration": 61,
    "start_time": "2022-12-04T19:07:48.149Z"
   },
   {
    "duration": 45,
    "start_time": "2022-12-04T19:08:06.310Z"
   },
   {
    "duration": 44,
    "start_time": "2022-12-04T19:08:12.926Z"
   },
   {
    "duration": 47,
    "start_time": "2022-12-04T19:11:15.394Z"
   },
   {
    "duration": 3,
    "start_time": "2022-12-04T19:12:01.347Z"
   },
   {
    "duration": 62,
    "start_time": "2022-12-04T19:12:20.476Z"
   },
   {
    "duration": 5587,
    "start_time": "2022-12-04T19:12:32.875Z"
   },
   {
    "duration": 3,
    "start_time": "2022-12-04T19:27:10.590Z"
   },
   {
    "duration": 4,
    "start_time": "2022-12-04T19:27:30.775Z"
   },
   {
    "duration": 2,
    "start_time": "2022-12-04T19:28:36.753Z"
   },
   {
    "duration": 17999,
    "start_time": "2022-12-04T19:30:58.249Z"
   },
   {
    "duration": 1568,
    "start_time": "2022-12-05T12:09:54.094Z"
   },
   {
    "duration": 4,
    "start_time": "2022-12-05T12:09:55.664Z"
   },
   {
    "duration": 13,
    "start_time": "2022-12-05T12:09:55.669Z"
   },
   {
    "duration": 43,
    "start_time": "2022-12-05T12:09:55.685Z"
   },
   {
    "duration": 21,
    "start_time": "2022-12-05T12:09:55.729Z"
   },
   {
    "duration": 28,
    "start_time": "2022-12-05T12:09:55.752Z"
   },
   {
    "duration": 14,
    "start_time": "2022-12-05T12:09:55.781Z"
   },
   {
    "duration": 123,
    "start_time": "2022-12-05T12:09:55.796Z"
   },
   {
    "duration": 26,
    "start_time": "2022-12-05T12:09:55.921Z"
   },
   {
    "duration": 19,
    "start_time": "2022-12-05T12:09:55.950Z"
   },
   {
    "duration": 16,
    "start_time": "2022-12-05T12:09:55.970Z"
   },
   {
    "duration": 61,
    "start_time": "2022-12-05T12:09:55.988Z"
   },
   {
    "duration": 300,
    "start_time": "2022-12-05T12:09:56.050Z"
   },
   {
    "duration": 14,
    "start_time": "2022-12-05T12:09:56.352Z"
   },
   {
    "duration": 709,
    "start_time": "2022-12-05T12:09:56.368Z"
   },
   {
    "duration": 464,
    "start_time": "2022-12-05T12:09:57.078Z"
   },
   {
    "duration": 2,
    "start_time": "2022-12-05T12:09:57.544Z"
   },
   {
    "duration": 16,
    "start_time": "2022-12-05T12:09:57.548Z"
   },
   {
    "duration": 11,
    "start_time": "2022-12-05T12:09:57.565Z"
   },
   {
    "duration": 6,
    "start_time": "2022-12-05T12:09:57.577Z"
   },
   {
    "duration": 166247,
    "start_time": "2022-12-05T12:09:57.584Z"
   },
   {
    "duration": 129,
    "start_time": "2022-12-05T12:12:43.898Z"
   },
   {
    "duration": 3,
    "start_time": "2022-12-05T12:12:44.028Z"
   },
   {
    "duration": 4773,
    "start_time": "2022-12-05T12:12:44.033Z"
   },
   {
    "duration": 90,
    "start_time": "2022-12-05T12:12:48.808Z"
   },
   {
    "duration": 11,
    "start_time": "2022-12-05T12:12:48.900Z"
   },
   {
    "duration": 8674182,
    "start_time": "2022-12-05T12:12:48.913Z"
   },
   {
    "duration": 42,
    "start_time": "2022-12-05T18:18:52.579Z"
   },
   {
    "duration": 4,
    "start_time": "2022-12-05T18:21:54.383Z"
   },
   {
    "duration": 175882,
    "start_time": "2022-12-05T18:22:26.143Z"
   },
   {
    "duration": 3,
    "start_time": "2022-12-05T18:27:23.693Z"
   },
   {
    "duration": 4,
    "start_time": "2022-12-05T18:27:34.023Z"
   },
   {
    "duration": 113,
    "start_time": "2022-12-05T18:30:41.794Z"
   },
   {
    "duration": 9460,
    "start_time": "2022-12-05T18:30:55.673Z"
   },
   {
    "duration": 4201550,
    "start_time": "2022-12-05T18:31:15.020Z"
   },
   {
    "duration": 39,
    "start_time": "2022-12-05T19:54:19.530Z"
   },
   {
    "duration": 3,
    "start_time": "2022-12-05T19:55:28.075Z"
   },
   {
    "duration": 140697,
    "start_time": "2022-12-05T19:55:40.978Z"
   },
   {
    "duration": 4,
    "start_time": "2022-12-05T20:02:44.636Z"
   },
   {
    "duration": 4,
    "start_time": "2022-12-05T20:02:55.796Z"
   },
   {
    "duration": 8,
    "start_time": "2022-12-05T20:03:50.574Z"
   },
   {
    "duration": 14,
    "start_time": "2022-12-05T20:04:39.823Z"
   },
   {
    "duration": 23,
    "start_time": "2022-12-05T20:05:08.774Z"
   },
   {
    "duration": 6,
    "start_time": "2022-12-05T20:06:34.337Z"
   },
   {
    "duration": 21,
    "start_time": "2022-12-05T20:06:35.737Z"
   },
   {
    "duration": 8,
    "start_time": "2022-12-05T20:08:02.027Z"
   },
   {
    "duration": 44,
    "start_time": "2022-12-06T20:51:43.205Z"
   },
   {
    "duration": 1484,
    "start_time": "2022-12-06T20:52:16.317Z"
   },
   {
    "duration": 3,
    "start_time": "2022-12-06T20:52:17.803Z"
   },
   {
    "duration": 9,
    "start_time": "2022-12-06T20:52:17.808Z"
   },
   {
    "duration": 7,
    "start_time": "2022-12-06T20:52:17.819Z"
   },
   {
    "duration": 5,
    "start_time": "2022-12-06T20:52:17.828Z"
   },
   {
    "duration": 9,
    "start_time": "2022-12-06T20:52:17.834Z"
   },
   {
    "duration": 7,
    "start_time": "2022-12-06T20:52:17.844Z"
   },
   {
    "duration": 107,
    "start_time": "2022-12-06T20:52:17.852Z"
   },
   {
    "duration": 29,
    "start_time": "2022-12-06T20:52:17.960Z"
   },
   {
    "duration": 11,
    "start_time": "2022-12-06T20:52:17.992Z"
   },
   {
    "duration": 4,
    "start_time": "2022-12-06T20:52:18.004Z"
   },
   {
    "duration": 234,
    "start_time": "2022-12-06T20:52:18.010Z"
   },
   {
    "duration": 14,
    "start_time": "2022-12-06T20:52:18.246Z"
   },
   {
    "duration": 709,
    "start_time": "2022-12-06T20:52:18.262Z"
   },
   {
    "duration": 496,
    "start_time": "2022-12-06T20:52:18.973Z"
   },
   {
    "duration": 12,
    "start_time": "2022-12-06T20:52:19.471Z"
   },
   {
    "duration": 14,
    "start_time": "2022-12-06T20:52:19.484Z"
   },
   {
    "duration": 163298,
    "start_time": "2022-12-06T20:52:19.500Z"
   },
   {
    "duration": 129,
    "start_time": "2022-12-06T20:55:02.808Z"
   },
   {
    "duration": 3,
    "start_time": "2022-12-06T20:55:02.939Z"
   },
   {
    "duration": 4465,
    "start_time": "2022-12-06T20:55:02.943Z"
   },
   {
    "duration": 89,
    "start_time": "2022-12-06T20:55:07.410Z"
   },
   {
    "duration": 8337527,
    "start_time": "2022-12-06T20:55:07.501Z"
   },
   {
    "duration": 40,
    "start_time": "2022-12-06T23:14:05.030Z"
   },
   {
    "duration": 3,
    "start_time": "2022-12-06T23:14:05.071Z"
   },
   {
    "duration": 170437,
    "start_time": "2022-12-06T23:14:05.076Z"
   },
   {
    "duration": 2,
    "start_time": "2022-12-06T23:16:55.515Z"
   },
   {
    "duration": 4059954,
    "start_time": "2022-12-06T23:16:55.520Z"
   },
   {
    "duration": 49,
    "start_time": "2022-12-07T00:24:35.476Z"
   },
   {
    "duration": 3,
    "start_time": "2022-12-07T00:24:35.527Z"
   },
   {
    "duration": 137338,
    "start_time": "2022-12-07T00:24:35.532Z"
   },
   {
    "duration": 3,
    "start_time": "2022-12-07T00:26:52.871Z"
   },
   {
    "duration": 15,
    "start_time": "2022-12-07T00:26:52.876Z"
   },
   {
    "duration": 9,
    "start_time": "2022-12-07T00:26:52.897Z"
   },
   {
    "duration": 13,
    "start_time": "2022-12-07T00:26:52.907Z"
   },
   {
    "duration": 1837,
    "start_time": "2022-12-07T20:58:48.016Z"
   },
   {
    "duration": 4,
    "start_time": "2022-12-07T21:00:03.151Z"
   },
   {
    "duration": 4,
    "start_time": "2022-12-07T21:00:05.136Z"
   },
   {
    "duration": 3,
    "start_time": "2022-12-07T21:00:06.672Z"
   },
   {
    "duration": 4,
    "start_time": "2022-12-07T21:00:08.271Z"
   },
   {
    "duration": 4,
    "start_time": "2022-12-07T21:00:11.183Z"
   },
   {
    "duration": 3,
    "start_time": "2022-12-07T21:00:12.807Z"
   },
   {
    "duration": 231,
    "start_time": "2022-12-07T21:00:15.364Z"
   },
   {
    "duration": 29,
    "start_time": "2022-12-07T21:00:18.044Z"
   },
   {
    "duration": 11,
    "start_time": "2022-12-07T21:00:22.745Z"
   },
   {
    "duration": 10,
    "start_time": "2022-12-07T21:00:26.520Z"
   },
   {
    "duration": 272,
    "start_time": "2022-12-07T21:00:29.503Z"
   },
   {
    "duration": 8,
    "start_time": "2022-12-07T21:00:51.009Z"
   },
   {
    "duration": 858,
    "start_time": "2022-12-07T21:00:54.154Z"
   },
   {
    "duration": 350,
    "start_time": "2022-12-07T21:02:35.937Z"
   },
   {
    "duration": 14,
    "start_time": "2022-12-07T21:08:01.249Z"
   },
   {
    "duration": 7,
    "start_time": "2022-12-07T21:15:33.213Z"
   },
   {
    "duration": 27779,
    "start_time": "2022-12-07T21:19:06.056Z"
   },
   {
    "duration": 131,
    "start_time": "2022-12-07T21:25:56.049Z"
   },
   {
    "duration": 7,
    "start_time": "2022-12-07T21:31:19.349Z"
   },
   {
    "duration": 289,
    "start_time": "2022-12-07T21:32:08.889Z"
   },
   {
    "duration": 4,
    "start_time": "2022-12-07T21:34:16.042Z"
   },
   {
    "duration": 21710,
    "start_time": "2022-12-07T21:34:17.820Z"
   },
   {
    "duration": 3,
    "start_time": "2022-12-07T21:34:44.148Z"
   },
   {
    "duration": 2815909,
    "start_time": "2022-12-07T21:36:06.566Z"
   },
   {
    "duration": 132,
    "start_time": "2022-12-07T22:37:18.199Z"
   },
   {
    "duration": 4,
    "start_time": "2022-12-07T22:37:20.710Z"
   },
   {
    "duration": 508943,
    "start_time": "2022-12-07T22:37:51.543Z"
   },
   {
    "duration": 3,
    "start_time": "2022-12-07T22:49:20.779Z"
   },
   {
    "duration": 68,
    "start_time": "2022-12-07T22:49:47.812Z"
   },
   {
    "duration": 752813,
    "start_time": "2022-12-07T23:11:07.638Z"
   },
   {
    "duration": 134,
    "start_time": "2022-12-07T23:25:00.624Z"
   },
   {
    "duration": 4,
    "start_time": "2022-12-07T23:26:43.858Z"
   },
   {
    "duration": 622057,
    "start_time": "2022-12-07T23:26:52.995Z"
   },
   {
    "duration": 3,
    "start_time": "2022-12-07T23:53:28.257Z"
   },
   {
    "duration": 10,
    "start_time": "2022-12-07T23:53:52.152Z"
   },
   {
    "duration": 9,
    "start_time": "2022-12-07T23:55:09.396Z"
   },
   {
    "duration": 13,
    "start_time": "2022-12-07T23:55:28.372Z"
   },
   {
    "duration": 10,
    "start_time": "2022-12-07T23:55:36.417Z"
   }
  ],
  "kernelspec": {
   "display_name": "Python 3 (ipykernel)",
   "language": "python",
   "name": "python3"
  },
  "language_info": {
   "codemirror_mode": {
    "name": "ipython",
    "version": 3
   },
   "file_extension": ".py",
   "mimetype": "text/x-python",
   "name": "python",
   "nbconvert_exporter": "python",
   "pygments_lexer": "ipython3",
   "version": "3.9.5"
  },
  "toc": {
   "base_numbering": 1,
   "nav_menu": {},
   "number_sections": true,
   "sideBar": true,
   "skip_h1_title": true,
   "title_cell": "Содержание",
   "title_sidebar": "Contents",
   "toc_cell": true,
   "toc_position": {},
   "toc_section_display": true,
   "toc_window_display": true
  }
 },
 "nbformat": 4,
 "nbformat_minor": 2
}
