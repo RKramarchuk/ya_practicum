{
 "cells": [
  {
   "cell_type": "markdown",
   "metadata": {},
   "source": [
    "<div class=\"alert alert-info\">\n",
    "<font size=\"5\"><b>Комментарий ревьюера</b></font>\n",
    "\n",
    "Привет Родион! Меня зовут Марат, и я буду твоим ревьюером. Спешу сообщить что все ключевые этапы в работе выполнены,  с задачей тебе удалось справиться. По поводу обращения - в IT сфере принято общаться на «ты» :) Но, если привычней на «вы», дай знать. Как ревьюера моя задача помочь тебе в развитии, дав хорошие советы. Я внимательно посмотрю твой код, ознакомлюсь с твоими выводами и оставлю комментарии. Где то могу предложить небольшие исправление в коде, но ненавязчиво. Где потребуются уточнения, я оставлю много наводящих вопросов. Они помогут тебя с поиском верного решения.\n",
    "\n",
    "Все мои комментарии размечены по цветам, для лучшего восприятия. \n",
    "    \n",
    "<div class=\"alert alert-success\">Зеленым цветом и словом «Успех» отмечены особо удачные и элегантные решения, которыми ты можешь гордиться. </div>\n",
    "        \n",
    "<div class=\"alert alert-warning\">Желтым и значком словом «Совет», помечены решения у которых есть альтернативные решения, более оптимальные. Ты можешь найти их сразу и доработать проект, или отложить это на потом, для будущих проектах. Проект будет принят и без их доработки. </div>\n",
    "        \n",
    "<div class=\"alert alert-danger\"> Красным цветом и значком словом «Ошибка» помечу твои решения, на которые стоит обратить внимание прежде всего. После их доработки проект будет принят. </div>\n",
    "        \n",
    "Залог успеха - работа сообща, взаимное уважение и работа в диалоге. Поэтому, помечай свои ответные комментарии на мои реплики заметным цветом или курсивом, так мне будет легче их отслеживать. Пожалуйста, не изменяй и не удаляй мои комментарии. Все это поможет выполнить повторную проверку быстрей.\n",
    "\n",
    "</div>"
   ]
  },
  {
   "cell_type": "markdown",
   "metadata": {},
   "source": [
    "# Рекомендация тарифов"
   ]
  },
  {
   "cell_type": "markdown",
   "metadata": {},
   "source": [
    "В вашем распоряжении данные о поведении клиентов, которые уже перешли на эти тарифы (из проекта курса «Статистический анализ данных»). Нужно построить модель для задачи классификации, которая выберет подходящий тариф. Предобработка данных не понадобится — вы её уже сделали.\n",
    "\n",
    "Постройте модель с максимально большим значением *accuracy*. Чтобы сдать проект успешно, нужно довести долю правильных ответов по крайней мере до 0.75. Проверьте *accuracy* на тестовой выборке самостоятельно."
   ]
  },
  {
   "cell_type": "markdown",
   "metadata": {},
   "source": [
    "<div class=\"alert alert-success\">\n",
    "<font size=\"5\"><b>Комментарий ревьюера</b></font>\n",
    "\n",
    "Успех:\n",
    "\n",
    "\n",
    "Вступление в работу очень важно, так человек, который смотрит твой проект (и на работе в том числе) будет сразу введен в курс дела.\n",
    "\n",
    "\n",
    "\n",
    "\n",
    "\n",
    "</div>"
   ]
  },
  {
   "cell_type": "markdown",
   "metadata": {},
   "source": [
    "## Откройте и изучите файл"
   ]
  },
  {
   "cell_type": "code",
   "execution_count": 1,
   "metadata": {},
   "outputs": [],
   "source": [
    "import pandas as pd\n",
    "from sklearn.tree import DecisionTreeClassifier\n",
    "from sklearn.tree import plot_tree\n",
    "from sklearn.ensemble import RandomForestClassifier\n",
    "from sklearn.linear_model import LogisticRegression \n",
    "from sklearn.model_selection import train_test_split\n",
    "from sklearn.model_selection import GridSearchCV\n",
    "from sklearn.dummy import DummyClassifier\n",
    "from matplotlib import pyplot as plt"
   ]
  },
  {
   "cell_type": "markdown",
   "metadata": {},
   "source": [
    "<div class=\"alert alert-success\">\n",
    "<font size=\"5\"><b>Комментарий ревьюера</b></font>\n",
    "\n",
    "Успех:\n",
    "\n",
    "Собираем все импорты в верхней части, чтобы легче было ориентироваться и добавлять новые по необходимости. \n",
    "\n",
    "\n",
    "<div class=\"alert alert-warning\">\n",
    "\n",
    "Совет:     \n",
    "    \n",
    "\n",
    "- кстати есть рекомендации PEP-8 при написании кода, в том числе и для импортов. Если интересно можешь почитать [тут](https://pythonworld.ru/osnovy/pep-8-rukovodstvo-po-napisaniyu-koda-na-python.html) \n"
   ]
  },
  {
   "cell_type": "code",
   "execution_count": 2,
   "metadata": {},
   "outputs": [
    {
     "data": {
      "text/html": [
       "<div>\n",
       "<style scoped>\n",
       "    .dataframe tbody tr th:only-of-type {\n",
       "        vertical-align: middle;\n",
       "    }\n",
       "\n",
       "    .dataframe tbody tr th {\n",
       "        vertical-align: top;\n",
       "    }\n",
       "\n",
       "    .dataframe thead th {\n",
       "        text-align: right;\n",
       "    }\n",
       "</style>\n",
       "<table border=\"1\" class=\"dataframe\">\n",
       "  <thead>\n",
       "    <tr style=\"text-align: right;\">\n",
       "      <th></th>\n",
       "      <th>calls</th>\n",
       "      <th>minutes</th>\n",
       "      <th>messages</th>\n",
       "      <th>mb_used</th>\n",
       "      <th>is_ultra</th>\n",
       "    </tr>\n",
       "  </thead>\n",
       "  <tbody>\n",
       "    <tr>\n",
       "      <th>0</th>\n",
       "      <td>40.0</td>\n",
       "      <td>311.90</td>\n",
       "      <td>83.0</td>\n",
       "      <td>19915.42</td>\n",
       "      <td>0</td>\n",
       "    </tr>\n",
       "    <tr>\n",
       "      <th>1</th>\n",
       "      <td>85.0</td>\n",
       "      <td>516.75</td>\n",
       "      <td>56.0</td>\n",
       "      <td>22696.96</td>\n",
       "      <td>0</td>\n",
       "    </tr>\n",
       "    <tr>\n",
       "      <th>2</th>\n",
       "      <td>77.0</td>\n",
       "      <td>467.66</td>\n",
       "      <td>86.0</td>\n",
       "      <td>21060.45</td>\n",
       "      <td>0</td>\n",
       "    </tr>\n",
       "    <tr>\n",
       "      <th>3</th>\n",
       "      <td>106.0</td>\n",
       "      <td>745.53</td>\n",
       "      <td>81.0</td>\n",
       "      <td>8437.39</td>\n",
       "      <td>1</td>\n",
       "    </tr>\n",
       "    <tr>\n",
       "      <th>4</th>\n",
       "      <td>66.0</td>\n",
       "      <td>418.74</td>\n",
       "      <td>1.0</td>\n",
       "      <td>14502.75</td>\n",
       "      <td>0</td>\n",
       "    </tr>\n",
       "  </tbody>\n",
       "</table>\n",
       "</div>"
      ],
      "text/plain": [
       "   calls  minutes  messages   mb_used  is_ultra\n",
       "0   40.0   311.90      83.0  19915.42         0\n",
       "1   85.0   516.75      56.0  22696.96         0\n",
       "2   77.0   467.66      86.0  21060.45         0\n",
       "3  106.0   745.53      81.0   8437.39         1\n",
       "4   66.0   418.74       1.0  14502.75         0"
      ]
     },
     "metadata": {},
     "output_type": "display_data"
    },
    {
     "name": "stdout",
     "output_type": "stream",
     "text": [
      "<class 'pandas.core.frame.DataFrame'>\n",
      "RangeIndex: 3214 entries, 0 to 3213\n",
      "Data columns (total 5 columns):\n",
      " #   Column    Non-Null Count  Dtype  \n",
      "---  ------    --------------  -----  \n",
      " 0   calls     3214 non-null   float64\n",
      " 1   minutes   3214 non-null   float64\n",
      " 2   messages  3214 non-null   float64\n",
      " 3   mb_used   3214 non-null   float64\n",
      " 4   is_ultra  3214 non-null   int64  \n",
      "dtypes: float64(4), int64(1)\n",
      "memory usage: 125.7 KB\n"
     ]
    },
    {
     "data": {
      "text/plain": [
       "None"
      ]
     },
     "metadata": {},
     "output_type": "display_data"
    }
   ],
   "source": [
    "df = pd.read_csv('/datasets/users_behavior.csv')\n",
    "display(df.head())\n",
    "display(df.info())"
   ]
  },
  {
   "cell_type": "markdown",
   "metadata": {},
   "source": [
    "<div class=\"alert alert-success\">\n",
    "<font size=\"5\"><b>Комментарий ревьюера</b></font>\n",
    "\n",
    "Успех:\n",
    "\n",
    "👍 Данные изучены.\n",
    "\n",
    " \n",
    "\n",
    "<div class=\"alert alert-warning\">\n",
    "\n",
    "\n",
    "\n",
    "Совет: \n",
    "\n",
    "Можно еще отдельно проверить датасет на сбалансированность классов в таргете. Это важная информация при моделировании и помогло бы решить бонусное задание сразу.  Тут можно [почитать](https://dyakonov.org/2021/05/27/imbalance/) дополнительно зачем мы обращаем внимание на это\n",
    "\n",
    "\n",
    "\n",
    "\n",
    "\n",
    "</div>\n"
   ]
  },
  {
   "cell_type": "code",
   "execution_count": 3,
   "metadata": {},
   "outputs": [
    {
     "data": {
      "text/plain": [
       "0    2229\n",
       "1     985\n",
       "Name: is_ultra, dtype: int64"
      ]
     },
     "execution_count": 3,
     "metadata": {},
     "output_type": "execute_result"
    }
   ],
   "source": [
    "df['is_ultra'].value_counts()"
   ]
  },
  {
   "cell_type": "markdown",
   "metadata": {},
   "source": [
    "В генеральной выборке классы не сбалансированны - пользователей тарифа \"Смарт\" более чем в два раза больше, чем пользователей тарифа \"Ультра\"."
   ]
  },
  {
   "cell_type": "markdown",
   "metadata": {},
   "source": [
    "<div class=\"alert alert-info\">\n",
    "<font size=\"5\"><b>Комментарий студента</b></font>\n",
    "    \n",
    "Посмотрел количество пользователей по тарифам - действительно, в исходных данных количество пользователей с тарифом \"Смарт\" превышает количество пользователей с тарифом \"Ультра\" более чем в два раза.\n",
    "</div>"
   ]
  },
  {
   "cell_type": "markdown",
   "metadata": {},
   "source": [
    "<div class=\"alert alert-success\">\n",
    "<font size=\"5\"><b>Комментарий ревьюераV2</b></font>\n",
    "\n",
    "Успех :\n",
    "\n",
    "👍\n",
    "</div>\n"
   ]
  },
  {
   "cell_type": "markdown",
   "metadata": {},
   "source": [
    "## Разбейте данные на выборки"
   ]
  },
  {
   "cell_type": "code",
   "execution_count": 4,
   "metadata": {},
   "outputs": [],
   "source": [
    "features = df.drop(['is_ultra'], axis=1)\n",
    "target = df['is_ultra']"
   ]
  },
  {
   "cell_type": "code",
   "execution_count": 5,
   "metadata": {},
   "outputs": [
    {
     "data": {
      "text/plain": [
       "(1928, 4)"
      ]
     },
     "metadata": {},
     "output_type": "display_data"
    },
    {
     "data": {
      "text/plain": [
       "(1928,)"
      ]
     },
     "metadata": {},
     "output_type": "display_data"
    },
    {
     "data": {
      "text/plain": [
       "(643, 4)"
      ]
     },
     "metadata": {},
     "output_type": "display_data"
    },
    {
     "data": {
      "text/plain": [
       "(643,)"
      ]
     },
     "metadata": {},
     "output_type": "display_data"
    },
    {
     "data": {
      "text/plain": [
       "(643, 4)"
      ]
     },
     "metadata": {},
     "output_type": "display_data"
    },
    {
     "data": {
      "text/plain": [
       "(643,)"
      ]
     },
     "metadata": {},
     "output_type": "display_data"
    }
   ],
   "source": [
    "features_train, features_valid_test, target_train, target_valid_test = train_test_split(features,\n",
    "                                                                                        target,\n",
    "                                                                                        test_size=0.4,\n",
    "                                                                                        random_state=12345,\n",
    "                                                                                        stratify=target)\n",
    "features_valid, features_test, target_valid, target_test = train_test_split(features_valid_test, \n",
    "                                                                            target_valid_test,\n",
    "                                                                            test_size=0.5,\n",
    "                                                                            random_state=12345,\n",
    "                                                                            stratify=target_valid_test)\n",
    "display(features_train.shape)\n",
    "display(target_train.shape)\n",
    "display(features_valid.shape)\n",
    "display(target_valid.shape)\n",
    "display(features_test.shape)\n",
    "display(target_test.shape)"
   ]
  },
  {
   "cell_type": "markdown",
   "metadata": {},
   "source": [
    "<div class=\"alert alert-success\">\n",
    "<font size=\"5\"><b>Комментарий ревьюера</b></font>\n",
    "\n",
    "Успех:\n",
    "\n",
    "Все правильно!\n",
    "\n",
    "Здорово что проконтролировал разбиение с помощью .shape\n",
    "\n",
    "<div class=\"alert alert-warning\">\n",
    "\n",
    "\n",
    "\n",
    "Совет: \n",
    "\n",
    "\n",
    "- Обрати внимание на аргумент stratify, он позволит сохранить изначальное распределение таргетов во всех новых датасетах.  Существующий дисбаланс никуда не денется, но в каждом датасете он будет одинаковым\n",
    "\n",
    "\n",
    "\n",
    "\n",
    "</div>\n",
    "\n",
    "\n",
    "\n"
   ]
  },
  {
   "cell_type": "code",
   "execution_count": 6,
   "metadata": {},
   "outputs": [
    {
     "data": {
      "text/plain": [
       "0    1337\n",
       "1     591\n",
       "Name: is_ultra, dtype: int64"
      ]
     },
     "metadata": {},
     "output_type": "display_data"
    },
    {
     "data": {
      "text/plain": [
       "0    446\n",
       "1    197\n",
       "Name: is_ultra, dtype: int64"
      ]
     },
     "metadata": {},
     "output_type": "display_data"
    },
    {
     "data": {
      "text/plain": [
       "0    446\n",
       "1    197\n",
       "Name: is_ultra, dtype: int64"
      ]
     },
     "metadata": {},
     "output_type": "display_data"
    }
   ],
   "source": [
    "display(target_train.value_counts())\n",
    "display(target_valid.value_counts())\n",
    "display(target_test.value_counts())"
   ]
  },
  {
   "cell_type": "markdown",
   "metadata": {},
   "source": [
    "<div class=\"alert alert-info\">\n",
    "<font size=\"5\"><b>Комментарий студента</b></font>\n",
    "    \n",
    "Добавил параметр stratify с сохранением соотношения из генеральной выборки и проверил распределение таргетов в выборках.\n",
    "</div>"
   ]
  },
  {
   "cell_type": "markdown",
   "metadata": {},
   "source": [
    "<div class=\"alert alert-success\">\n",
    "<font size=\"5\"><b>Комментарий ревьюераV2</b></font>\n",
    "\n",
    "Успех 👍:\n",
    "\n",
    "Принято\n",
    "</div>\n"
   ]
  },
  {
   "cell_type": "markdown",
   "metadata": {},
   "source": [
    "## Исследуйте модели"
   ]
  },
  {
   "cell_type": "markdown",
   "metadata": {},
   "source": [
    "### Решающее дерево"
   ]
  },
  {
   "cell_type": "code",
   "execution_count": 7,
   "metadata": {},
   "outputs": [
    {
     "name": "stdout",
     "output_type": "stream",
     "text": [
      "Лучший показатель accuracy для модели решающего дерева: 0.7853810264385692 при максимальной глубине равной 5\n"
     ]
    }
   ],
   "source": [
    "best_tree_model = None\n",
    "best_tree_result = 0\n",
    "best_tree_depth = 0\n",
    "tree_valid_results = []\n",
    "tree_train_results = []\n",
    "for depth in range(1, 6):\n",
    "    model = DecisionTreeClassifier(random_state=12345, max_depth=depth)\n",
    "    model.fit(features_train, target_train)\n",
    "    result = model.score(features_valid, target_valid)\n",
    "    tree_valid_results.append(result)\n",
    "    result_train = model.score(features_train, target_train)\n",
    "    tree_train_results.append(result_train)\n",
    "    if result > best_tree_result:\n",
    "        best_tree_model = model\n",
    "        best_tree_result = result\n",
    "        best_tree_depth = depth\n",
    "        \n",
    "print(f'Лучший показатель accuracy для модели решающего дерева: {best_tree_result} \\\n",
    "при максимальной глубине равной {best_tree_depth}')"
   ]
  },
  {
   "cell_type": "markdown",
   "metadata": {},
   "source": [
    "<div class=\"alert alert-success\">\n",
    "<font size=\"5\"><b>Комментарий ревьюера</b></font>\n",
    "\n",
    "Успех:\n",
    " \n",
    "Работа выполнена в соответствии с критериями: \n",
    "\n",
    "\n",
    "\n",
    " - модель обучена на обучающем наборе\n",
    " - получена оценка качества на валидационном наборе\n",
    " - перебор гиперпараметров осуществляется в цикле\n",
    "\n",
    "\n",
    "\n",
    "\n",
    "<div class=\"alert alert-warning\">\n",
    "\n",
    "\n",
    "Совет: \n",
    "\n",
    "\n",
    "\n",
    "\n",
    "- Можно добавить график, хорошо оформленный график украсит проект. Тут на графике можно посмотреть как при изменении гиперпараметров меняется точность на train и validation датасете (для этого собираем наши метрики на валидации и train в списки, а затем по ним обычный plt.plot()) Такой способ используют чтобы лучше отследить переобучение\n",
    "\n",
    "\n",
    "\n",
    "- tree_plot можно построить, с max_depth равной 3 или 4 (глубже уже будет громоздко) - глянуть как DT сплиты делает, будет понимание как модель принимает решения: какие признаки  использует, на каких значениях делает разбиение вправо - влево \n",
    "\n",
    "</div>\n",
    "\n"
   ]
  },
  {
   "cell_type": "code",
   "execution_count": 8,
   "metadata": {
    "scrolled": true
   },
   "outputs": [
    {
     "data": {
      "image/png": "[encoded data removed]",
      "text/plain": [
       "<Figure size 432x288 with 1 Axes>"
      ]
     },
     "metadata": {
      "needs_background": "light"
     },
     "output_type": "display_data"
    }
   ],
   "source": [
    "plt.plot(range(1, 6), tree_valid_results, label='Valid')\n",
    "plt.plot(range(1, 6), tree_train_results, label='Train')\n",
    "plt.ylabel('Accuracy')\n",
    "plt.xlabel('Depth')\n",
    "plt.xticks(range(1, 6))\n",
    "plt.legend();"
   ]
  },
  {
   "cell_type": "code",
   "execution_count": 9,
   "metadata": {
    "scrolled": false
   },
   "outputs": [
    {
     "data": {
      "image/png": "[encoded data removed]",
      "text/plain": [
       "<Figure size 1440x720 with 1 Axes>"
      ]
     },
     "metadata": {
      "needs_background": "light"
     },
     "output_type": "display_data"
    }
   ],
   "source": [
    "plt.figure(figsize=(20,10))\n",
    "plot_tree(best_tree_model, max_depth=3);"
   ]
  },
  {
   "cell_type": "markdown",
   "metadata": {},
   "source": [
    "\n",
    "<div class=\"alert alert-success\">\n",
    "<font size=\"5\"><b>Комментарий ревьюераV2</b></font>\n",
    "\n",
    "Успех:\n",
    "\n",
    "👍\n",
    "\n",
    "\n",
    "<div class=\"alert alert-warning\">\n",
    "\n",
    "Совет:\n",
    "\n",
    "    \n",
    "    \n",
    "    \n",
    "    \n",
    "1. tree_plot\n",
    "    \n",
    "\n",
    "Так красивей (схема)\n",
    "    \n",
    "    \n",
    "    import matplotlib.pyplot as plt\n",
    "    fig = plt.figure(figsize=(35,20))\n",
    "    _ = tree.plot_tree(your_model, \n",
    "                   feature_names=features.columns.values, \n",
    "                   class_names=['Smart','Ultra'],\n",
    "                   filled=True,\n",
    "                   fontsize = 15)\n",
    "    \n",
    "    \n",
    "2. График метрики  \n",
    "    \n",
    "    \n",
    "Здорово!   \n",
    "    \n",
    "Но нам же график не только для красоты, но и для анализа, с последующими действиями. Что мы видим тут? Как метрика на валидации еще не стала однозначна падать, это значит можно попробовать взять глубину побольше.  Вот когда на графике мы увидим как метрика достигнув пика начинает однозначно падать, вот тут мы и сможем сделать вывод что модель переобучается после такого то значения max_dep\n",
    "\n",
    "\n",
    "</div>\n",
    "\n",
    "\n",
    "\n",
    "  "
   ]
  },
  {
   "cell_type": "markdown",
   "metadata": {},
   "source": [
    "### Случайный лес"
   ]
  },
  {
   "cell_type": "code",
   "execution_count": 10,
   "metadata": {},
   "outputs": [
    {
     "name": "stdout",
     "output_type": "stream",
     "text": [
      "Лучший показатель accuracy для модели случайного леса: 0.7978227060653188 при количестве оценщиков равным 14 и максимальной глубине 5\n"
     ]
    }
   ],
   "source": [
    "best_forest_model = None\n",
    "best_forest_result = 0\n",
    "best_forest_est = 0\n",
    "best_forest_depth = 0\n",
    "forest_valid_results = []\n",
    "forest_train_results = []\n",
    "for est in range(1, 16):\n",
    "    for depth in range(1, 6):\n",
    "        model = RandomForestClassifier(random_state=12345, n_estimators=est, max_depth=depth)\n",
    "        model.fit(features_train, target_train)\n",
    "        result = model.score(features_valid, target_valid)\n",
    "        result_train = model.score(features_train, target_train)\n",
    "        forest_valid_results.append(result)\n",
    "        forest_train_results.append(result_train)\n",
    "        if result > best_forest_result:\n",
    "            best_forest_model = model\n",
    "            best_forest_result = result\n",
    "            best_forest_est = est\n",
    "            best_forest_depth = depth\n",
    "\n",
    "print(f'Лучший показатель accuracy для модели случайного леса: {best_forest_result} \\\n",
    "при количестве оценщиков равным {best_forest_est} и максимальной глубине {best_forest_depth}')"
   ]
  },
  {
   "cell_type": "code",
   "execution_count": 11,
   "metadata": {
    "scrolled": true
   },
   "outputs": [
    {
     "data": {
      "image/png": "[encoded data removed]",
      "text/plain": [
       "<Figure size 432x288 with 1 Axes>"
      ]
     },
     "metadata": {
      "needs_background": "light"
     },
     "output_type": "display_data"
    }
   ],
   "source": [
    "plt.plot(forest_valid_results, label='Valid')\n",
    "plt.plot(forest_train_results, label='Train')\n",
    "plt.ylabel('Accuracy')\n",
    "plt.legend();"
   ]
  },
  {
   "cell_type": "markdown",
   "metadata": {},
   "source": [
    "<div class=\"alert alert-warning\">\n",
    "<font size=\"5\"><b>Комментарий ревьюераV2</b></font>\n",
    "\n",
    "Совет 🤔:\n",
    "\n",
    "\n",
    "Тут бы подошел трехмерный график или heatmap\n",
    "</div>\n"
   ]
  },
  {
   "cell_type": "markdown",
   "metadata": {},
   "source": [
    "\n",
    "<div class=\"alert alert-success\">\n",
    "<font size=\"5\"><b>Комментарий ревьюера</b></font>\n",
    "\n",
    "Успех:\n",
    "\n",
    "\n",
    "Верно. \n",
    "\n",
    "<div class=\"alert alert-warning\">\n",
    "\n",
    "Совет:\n",
    "\n",
    "\n",
    "- Можно было сделать похитрее - добавить перебор 2 гиперпараметров в двойном цикле, в результата метрика качества вырастет. \n",
    "    \n",
    " \n",
    "\n",
    "- Когда что то долго крутиться, можно использовать  %%time - ставишь на самый вверх ячейки с кодом, время выполнения которого хочешь замерить, может не знаешь.  Быстрее не станет, но все будут видеть стоит ли ждать не отходя от ПК или можно сходить чаек поставить ))  А еще есть tqdm, показывает на каком этапе у нас работа в цикле происходит\n",
    "    \n",
    "   \n",
    "- А еще можно вместо цикла использовать sklearn-ий встроенный функционал GridSearchCV. В случаи использования GridSearch, не нужно будет заранее делать валидационную выборку, лучшую метрику автоматом сохранят в best_score_, а лучшую модель (переобученная уже на полном наборе данных) будет хранить в best_estimator_.  Это тема будущих теоретических занятий, но если есть время можешь сразу попробовать.\n",
    "\n",
    "\n",
    "\n",
    "</div>\n"
   ]
  },
  {
   "cell_type": "markdown",
   "metadata": {},
   "source": [
    "### Логистическая регрессия"
   ]
  },
  {
   "cell_type": "code",
   "execution_count": 12,
   "metadata": {},
   "outputs": [
    {
     "name": "stdout",
     "output_type": "stream",
     "text": [
      "Лучший показатель accuracy для модели логистической регрессии: 0.7387247278382582 при количестве итераций равным 100\n"
     ]
    }
   ],
   "source": [
    "best_regression_model = None\n",
    "best_regression_result = 0\n",
    "best_regression_iter = 0\n",
    "for itr in range(100, 1501, 100):\n",
    "    model = LogisticRegression(random_state=12345, solver='lbfgs', max_iter=itr)\n",
    "    model.fit(features_train, target_train)\n",
    "    result = model.score(features_valid, target_valid)\n",
    "    if result > best_regression_result:\n",
    "        best_regression_model = model\n",
    "        best_regression_result = result\n",
    "        best_regression_iter = itr\n",
    "\n",
    "print(f'Лучший показатель accuracy для модели логистической регрессии: {best_regression_result} \\\n",
    "при количестве итераций равным {best_regression_iter}')"
   ]
  },
  {
   "cell_type": "markdown",
   "metadata": {},
   "source": [
    "### Общий вывод по моделям"
   ]
  },
  {
   "cell_type": "markdown",
   "metadata": {},
   "source": [
    "Наименьшую точность по валидационной выборке показала модель логистической регрессии - 0.7387247278382582.\\\n",
    "Модель с таким значением точности нельзя рекомендовать к дальнейшему использованию.\n",
    "\n",
    "Модели случайного леса и решающего дерева показали схожие показатели точности - 0.7978227060653188 и 0.7853810264385692 соответственно.\n",
    "\n",
    "Для дальнейшей проверки выбираем модель случайного леса."
   ]
  },
  {
   "cell_type": "markdown",
   "metadata": {},
   "source": [
    "\n",
    "\n",
    "<div class=\"alert alert-warning\">\n",
    "<font size=\"5\"><b>Комментарий ревьюера</b></font>\n",
    "\n",
    "Совет: \n",
    "\n",
    "Если есть желание можешь ответить на вопросики ))    \n",
    "\n",
    "\n",
    "\n",
    "- Как назвать ситуацию, когда на валидации при увеличении глубины дерева (модель DT), метрика качества стала снижаться? Как по твоему в это же время вела себя эта же метрика на train?\n",
    "\n",
    "\n",
    "- Насколько знаю вы еще под капот моделям не заглядывали, но может знаешь почему RF обычно показывает более высокие результаты из выбранных?\n",
    "\n",
    "\n",
    "- Мы решаем задачу классификации (а еще есть задача регрессии), а в названии модели с помощью которой мы решаем задачу \"классификации\" есть слово \"регрессия\".  Нет ли тут парадокса? )\n",
    "    \n",
    "\n",
    "- Почему логистическая регрессия показывать на много более худшие результаты?  \n",
    "\n",
    "\n",
    "</div>\n",
    "\n",
    "\n",
    "\n"
   ]
  },
  {
   "cell_type": "markdown",
   "metadata": {},
   "source": [
    "<div class=\"alert alert-info\">\n",
    "<font size=\"5\"><b>Комментарий студента</b></font>\n",
    "    \n",
    "1) Чем больше глубина решающего дерева, тем больше вероятность переобучения, когда модель просто запомнит тренировочные данные - тогда точность на валидационной выборке начнём падать. При этом точность на тренировочной выборке также должна падать.\n",
    "    \n",
    "2) Насколько я понимаю, RF совмещает в себе несколько деревьев (количество которых мы задавали гиперпараметром n_estimators), при этом эти деревья обладают меньшей вариативностью (большая вариативность или гибкость ведут к переобучению) относительного общего набора данных так как \"учатся\" на ограниченных наборах данных из общего. А потом в узлах мы получаем усреднёный вариант.\n",
    "    \n",
    "3) Логистическая регрессия на основе входных данных предсказывает произойдёт некоторое событие или нет в бинарном формате (0 или 1) - так что вполне подходит для задачи классификации с двумя исходами.\n",
    "    \n",
    "4) Мне кажется, маловато признаков для логистической регрессии.\n",
    "</div>"
   ]
  },
  {
   "cell_type": "markdown",
   "metadata": {},
   "source": [
    "<div class=\"alert alert-success\">\n",
    "<font size=\"5\"><b>Комментарий ревьюераV2</b></font>\n",
    "\n",
    "\n",
    "Успех:\n",
    "\n",
    "\n",
    "Дополню чуть\n",
    "\n",
    "1. Верно, переобучение. На train точность растет вплоть до 100%. \n",
    "    \n",
    "    \n",
    "2. Да, в RF обучается несколько деревьев, а решение принимается путем голосования. Каждое дерево в RF учится на своем датасете (используется техника бутстрап), таким образом достигается \"независимость\" этих самых деревьев, в итоге ошибка разброса снижается.\n",
    "\n",
    "    \n",
    "3. \"Регрессия\", потому что внутри нее скалярное произведение (как и в линейной регрессии), дающее на выходе вещественное число (от + бесконечности до - бесконечности), на это число вешают сигмойду, логарифм и получают значение от 0 до 1 (вероятность класса).   \n",
    "    \n",
    "    \n",
    "4. Логистическая регрессия плоха (и хороша с другой стороны) тем что это линейный классификатор: обьекты на классы разделяем гиперплоскостью (прямой если на плоскости), а в данном датасете видимо более сложные, нелинейные связи между признаками и таргетом.   А RF с DT с этим справляются. На других данных  LR могла оказаться лучше, например потому что RF не может экстраполировать. \n",
    "\n",
    "\n",
    "</div>"
   ]
  },
  {
   "cell_type": "markdown",
   "metadata": {},
   "source": [
    "## Проверьте модель на тестовой выборке"
   ]
  },
  {
   "cell_type": "code",
   "execution_count": 13,
   "metadata": {},
   "outputs": [
    {
     "name": "stdout",
     "output_type": "stream",
     "text": [
      "Показатель accuracy лучшей модели решающего дерева на тестовой выборке: 0.8118195956454122\n"
     ]
    }
   ],
   "source": [
    "result_tree_test = best_tree_model.score(features_test, target_test)\n",
    "print(f'Показатель accuracy лучшей модели решающего дерева на тестовой выборке: {result_tree_test}')"
   ]
  },
  {
   "cell_type": "code",
   "execution_count": 14,
   "metadata": {},
   "outputs": [
    {
     "name": "stdout",
     "output_type": "stream",
     "text": [
      "Показатель accuracy лучшей модели случайного леса на тестовой выборке: 0.8087091757387247\n"
     ]
    }
   ],
   "source": [
    "result_forest_test = best_forest_model.score(features_test, target_test)\n",
    "print(f'Показатель accuracy лучшей модели случайного леса на тестовой выборке: {result_forest_test}')"
   ]
  },
  {
   "cell_type": "code",
   "execution_count": 15,
   "metadata": {
    "scrolled": true
   },
   "outputs": [
    {
     "name": "stdout",
     "output_type": "stream",
     "text": [
      "Показатель accuracy лучшей модели логистической регрессии на тестовой выборке: 0.7465007776049767\n"
     ]
    }
   ],
   "source": [
    "result_regression_test = best_regression_model.score(features_test, target_test)\n",
    "print(f'Показатель accuracy лучшей модели логистической регрессии на тестовой выборке: {result_regression_test}')"
   ]
  },
  {
   "cell_type": "markdown",
   "metadata": {},
   "source": [
    "\n",
    "<div class=\"alert alert-danger\">\n",
    "<font size=\"5\"><b>Комментарий ревьюера</b></font>\n",
    "\n",
    "К данному этапу мы должны подойти с одной выбранной моделью. Родион, о логике использования датасетов:\n",
    "    \n",
    "1. На train мы обучаем\n",
    "2. По валидации смотрим на результаты обучения (следим чтобы не было переобучения и/или делаем подбор гиперпараметров).  И выбираем лучшую модель. \n",
    "3. Тестовая (out-of_sample) у нас для финальной проверки, когда определена модель с конкретными гиперпараметрами. Использование тестовой выборки, чтобы еще раз посмотреть на модели - это нарушение логической цепочки моделирования. \n",
    "\n",
    "А как сделано тобой, может сложиться впечатление что мы на тестовой по прежнему что то выбираем, но выбор сделан, и если лучшая на валидации покажет на test результат хуже требуемого, мы начнем процесс моделирования сначала.\n",
    "    \n",
    " [Вот](https://towardsdatascience.com/why-do-we-need-a-validation-set-in-addition-to-training-and-test-sets-5cf4a65550e0   ) тут можно дополнительно почитать.\n",
    "\n",
    "<div class=\"alert alert-warning\">\n",
    "   \n",
    "Совет: \n",
    "\n",
    "- Как попробовать улучшить результат, не мучаясь с кодом?! Смотри - мы сформировали train выборку на которой обучаем модель, а валидационную используем для поиска лучших значений гиперпараметров. Оке, нашли их. Так почему бы теперь модель с выбранными гиперпараметрами не обучить на тренировочной + валидационной выборке (только не нужно делать новые сплиты, используй pd.concat(), к примеру)?! Чем больше данных, тем лучше модель может обучиться. И эту дообученную модель проверим на тесте. Гаранитий что станет лучше нет, но ML это постоянные эксперименты.\n",
    "</div>\n",
    "\n",
    "\n"
   ]
  },
  {
   "cell_type": "markdown",
   "metadata": {},
   "source": [
    "Лучший показатель accuracy был получен для модели случайного леса при количестве оценщиков равным 14 и максимальной глубине 5.\n",
    "\n",
    "Найдем accuracy данной модели на тренировочной выборке:"
   ]
  },
  {
   "cell_type": "code",
   "execution_count": 16,
   "metadata": {},
   "outputs": [
    {
     "name": "stdout",
     "output_type": "stream",
     "text": [
      "Показатель accuracy лучшей модели случайного леса на тестовой выборке: 0.8087091757387247\n"
     ]
    }
   ],
   "source": [
    "result_forest_test = best_forest_model.score(features_test, target_test)\n",
    "print(f'Показатель accuracy лучшей модели случайного леса на тестовой выборке: {result_forest_test}')"
   ]
  },
  {
   "cell_type": "markdown",
   "metadata": {},
   "source": [
    "Также попробуем переобучить модель случайного леса с подобранными гиперпараметрами на объеденённой выборке из обучающей и валидационной выборке:"
   ]
  },
  {
   "cell_type": "code",
   "execution_count": 17,
   "metadata": {},
   "outputs": [
    {
     "name": "stdout",
     "output_type": "stream",
     "text": [
      "Показатель accuracy переобученной модели случайного леса на тестовой выборке: 0.8273716951788491\n"
     ]
    }
   ],
   "source": [
    "features_train_valid = pd.concat([features_train, features_valid])\n",
    "target_train_valid = pd.concat([target_train, target_valid])\n",
    "model = RandomForestClassifier(random_state=12345, n_estimators=14, max_depth=5)\n",
    "model.fit(features_train_valid, target_train_valid)\n",
    "result_forest_combine = model.score(features_test, target_test)\n",
    "print(f'Показатель accuracy переобученной модели случайного леса на тестовой выборке: {result_forest_combine}')"
   ]
  },
  {
   "cell_type": "markdown",
   "metadata": {},
   "source": [
    "<div class=\"alert alert-info\">\n",
    "<font size=\"5\"><b>Комментарий студента</b></font>\n",
    "    \n",
    "Действительно, на совмещённой выборке - тренировочной и валидационной - получилось лучше.\n",
    "</div>"
   ]
  },
  {
   "cell_type": "markdown",
   "metadata": {},
   "source": [
    "\n",
    "<div class=\"alert alert-success\">\n",
    "<font size=\"5\"><b>Комментарий ревьюераV2</b></font>\n",
    "\n",
    "Успех:\n",
    "\n",
    "Если студент получил на тесте accuraсy  выше 0,78, это считается отличным результатом. Тобой подбиралась лучшая комбинация не по одному гиперпараметру, попробовал дообучение и вот он результат!\n",
    "\n",
    "\n",
    "\n",
    "\n",
    "</div>"
   ]
  },
  {
   "cell_type": "markdown",
   "metadata": {},
   "source": [
    "### Вывод по проверке моделей на тестовой выборке"
   ]
  },
  {
   "cell_type": "markdown",
   "metadata": {},
   "source": [
    "На этапе исследования в качестве наиболее точной была выбрана модель случайного леса со следующими гиперпараметрами - максимальная глубина каждого дерева 5, количество оценщиков 14.\\\n",
    "На тестовой выборке полученная ранее модель показала точность 0.8087091757387247.\\\n",
    "Также была проверена и обучена модель случайного леса с установленными выше гиперпараметрами, но на большей тренировочной выборке, что дало более высокий показатель точности на тестовой выборке - 0.8273716951788491."
   ]
  },
  {
   "cell_type": "markdown",
   "metadata": {},
   "source": [
    "## (бонус) Проверьте модели на адекватность"
   ]
  },
  {
   "cell_type": "code",
   "execution_count": 18,
   "metadata": {},
   "outputs": [
    {
     "name": "stdout",
     "output_type": "stream",
     "text": [
      "Модель случайного леса, обученная на объеденённой выборке, адекватна\n"
     ]
    }
   ],
   "source": [
    "dummy = DummyClassifier(strategy=\"stratified\")\n",
    "dummy.fit(features, target)\n",
    "dummy_result = dummy.score(features, target)\n",
    "if result_forest_combine > dummy_result:\n",
    "    print('Модель случайного леса, обученная на объеденённой выборке, адекватна')\n",
    "else:\n",
    "    print('Модель случайного леса, обученная на объеденённой выборке, не адекватна')"
   ]
  },
  {
   "cell_type": "markdown",
   "metadata": {},
   "source": [
    "<div class=\"alert alert-warning\">\n",
    "<font size=\"5\"><b>Комментарий ревьюераV2</b></font>\n",
    "\n",
    "Совет 🤔:\n",
    "\n",
    "В случаи дисбаланса максимальная метрика у константной модели достигается при стратегии most_frequent\n",
    "\n",
    "</div>\n"
   ]
  },
  {
   "cell_type": "markdown",
   "metadata": {},
   "source": [
    "\n",
    "<div class=\"alert alert-danger\">\n",
    "<font size=\"5\"><b>Комментарий ревьюера</b></font>\n",
    "\n",
    "Ошибка:\n",
    "\n",
    "Не учтен один момент - в целевом признаке у нас дисбаланс, нули встречаются гораздо чаще единичек!  Какая будет accuracy у наивной модели которая предсказывает постоянно нули?\n",
    "\n",
    "\n",
    "<div class=\"alert alert-warning\">\n",
    "\n",
    "\n",
    "Совет: \n",
    "\n",
    "При проверке на адекватность модели, рекомендую ознакомиться с [Dummy Models](https://scikit-learn.org/stable/modules/generated/sklearn.dummy.DummyClassifier.html), это удобная обертка для константных моделей\n",
    "\n",
    "</div>\n",
    "\n",
    "\n"
   ]
  },
  {
   "cell_type": "markdown",
   "metadata": {},
   "source": [
    "\n",
    "<div class=\"alert alert-info\">\n",
    "<font size=\"5\"><b>Комментарий ревьюера</b></font>\n",
    "\n",
    "\n",
    "Родион, ты старательно выполнил работу, все четко, осмысленно. Выводы присутствуют. Вижу у тебя получается в ML,  дальше будет интересней )  \n",
    "\n",
    "\n",
    "Я оставил небольшие советы и вопросики (если есть время и желание можешь воспользоваться/ответить): \n",
    "\n",
    "- обрати внимание на проверку сбалансированность классов в таргете в разделе EDA\n",
    "- использовать stratify\n",
    "- добавить график метрики    \n",
    "- посоветовал посмотреть в сторону GridSearchCV\n",
    "- как можно улучшить результаты \n",
    "\n",
    "Замечания на будущее:\n",
    "    \n",
    "- Комментарии к коду отсутствуют - коллеги могут не понять хода твоих мыслей, пока вроде код простой, но стоит держать в голове что дальше код усложнится.  \n",
    "- Было бы замечательно, в выводе немножко о данных, работе с ними (пусть даже никакой работы и не было), моделировании и полученных результатах. Это важно потому что когда проект захочет посмотреть будущий работодатель (или начальник), у него может не быть времени на подробный разбор кода. Вероятнее всего он бегло просмотрит код, а из общего вывода захочет получить представление о всей работе.\n",
    "\n",
    " \n",
    "    \n",
    "Обязательное к исправлению:\n",
    "\n",
    "\n",
    "- к моменту проверки качества прогноза на тесте, приходим с уже одной выбранной моделью с лучшими гиперпараметрами выбранными на валидации\n",
    "\n",
    "- стоит переделать бонусное задание с учётом моего комментария\n",
    "\n",
    " \n",
    "Жду исправлений, для принятия проекта. Если какие то вопросы, то сразу спрашивай )     \n",
    "\n",
    "</div>\n",
    "\n"
   ]
  },
  {
   "cell_type": "markdown",
   "metadata": {},
   "source": [
    "<div class=\"alert alert-info\">\n",
    "<font size=\"5\"><b>Комментарий студента</b></font>\n",
    "    \n",
    "По вопросам - хочется узнать ответы на вопросы дополнительные, а также, если не сложно - чуть чуть объяснить про GridSearchCV - я попытался сам разобраться, но пока не очень получилось, а времени дальше затягивать сдачу не было.\n",
    "</div>"
   ]
  },
  {
   "cell_type": "markdown",
   "metadata": {},
   "source": [
    "<div class=\"alert alert-warning\">\n",
    "<font size=\"5\"><b>Комментарий ревьюераV2</b></font>\n",
    "\n",
    "Совет:\n",
    "\n",
    "    \n",
    "Как быстро воспользоваться GS:    \n",
    "    \n",
    "1.  заходишь в туториал копируешь пример:\n",
    "    \n",
    "    \n",
    "    from sklearn import svm, datasets\n",
    "    from sklearn.model_selection import GridSearchCV\n",
    "    iris = datasets.load_iris()\n",
    "    parameters = {'kernel':('linear', 'rbf'), 'C':[1, 10]}\n",
    "    svc = svm.SVC()\n",
    "    clf = GridSearchCV(svc, parameters)\n",
    "    clf.fit(iris.data, iris.target)\n",
    "\n",
    "\n",
    "    sorted(clf.cv_results_.keys())\n",
    "    \n",
    "    \n",
    "2. Меняешь    \n",
    "    \n",
    "    \n",
    "    \n",
    "    iris.data  ------ > на свои фичи  (обьеденив через pd.concat свой train и validation, ведь валидационный датасет GS делает сам)  \n",
    "    iris.target -------> на своий таргет\n",
    "    \n",
    "    меняешь модель если хочешь не SVM        \n",
    "    \n",
    "    меняешь {'kernel':('linear', 'rbf'), 'C':[1, 10]} на свой набор перебираемых параметров\n",
    "    \n",
    "    \n",
    "        \n",
    "3. После обучения смотришь    clf.best_score_ - это оценка на валидации лучшей модели которую GS нашел в цикле внутри себя,  а чтобы использовать эту модель используешь clf.best_estimator_. Если из любопытства хочешь узнать какие лучшие гиперпараметры нашел GS смотришь clf.best_params_. \n",
    "    \n",
    "    \n",
    "    \n",
    "    \n",
    "GS сделает то же самое что ты делал в этом проекте, только он сам создаст валидационный датасет, сам построит циклы, сам соберет метрики (поэтому точно также можно будет строить графики метрик), сам найдет лучшие гиперпараметры и сам обучит модель на них. Причем он будет подбирать лушие гиперпараметры на некольих датасетах, борясь с рандомом - это называется кроссвалидация.   \n",
    "    \n",
    "</div>"
   ]
  },
  {
   "cell_type": "markdown",
   "metadata": {},
   "source": [
    "\n",
    "<div class=\"alert alert-info\">\n",
    "<font size=\"5\"><b>Комментарий ревьюераV2</b></font>\n",
    "\n",
    "\n",
    "\n",
    "    \n",
    "Красное исправлено, многие желтые советы использованы, на  вопросы есть ответы  (это все было по желанию), значит стремишься развиваться, а желание и интерес это главное. Надеюсь мои советы и вопросики были полезны и ты узналА что то новое, а проект стал лучше, и симпатичней.\n",
    "\n",
    "\n",
    "  \n",
    "Отличная работа Родион. Желаю успехов в дальнейшей учебе!\n",
    "\n",
    "\n",
    "\n",
    "\n",
    "\n",
    "</div>"
   ]
  },
  {
   "cell_type": "markdown",
   "metadata": {},
   "source": []
  },
  {
   "cell_type": "markdown",
   "metadata": {},
   "source": [
    "## Чек-лист готовности проекта"
   ]
  },
  {
   "cell_type": "markdown",
   "metadata": {},
   "source": [
    "Поставьте 'x' в выполненных пунктах. Далее нажмите Shift+Enter."
   ]
  },
  {
   "cell_type": "markdown",
   "metadata": {},
   "source": [
    "- [x] Jupyter Notebook открыт\n",
    "- [x] Весь код исполняется без ошибок\n",
    "- [x] Ячейки с кодом расположены в порядке исполнения\n",
    "- [x] Выполнено задание 1: данные загружены и изучены\n",
    "- [x] Выполнено задание 2: данные разбиты на три выборки\n",
    "- [x] Выполнено задание 3: проведено исследование моделей\n",
    "    - [x] Рассмотрено больше одной модели\n",
    "    - [x] Рассмотрено хотя бы 3 значения гипепараметров для какой-нибудь модели\n",
    "    - [x] Написаны выводы по результатам исследования\n",
    "- [x] Выполнено задание 3: Проведено тестирование\n",
    "- [x] Удалось достичь accuracy не меньше 0.75\n"
   ]
  },
  {
   "cell_type": "code",
   "execution_count": null,
   "metadata": {},
   "outputs": [],
   "source": []
  }
 ],
 "metadata": {
  "ExecuteTimeLog": [
   {
    "duration": 1267,
    "start_time": "2022-09-06T14:40:49.776Z"
   },
   {
    "duration": 94,
    "start_time": "2022-09-06T14:41:25.976Z"
   },
   {
    "duration": 56,
    "start_time": "2022-09-06T14:53:19.372Z"
   },
   {
    "duration": 5,
    "start_time": "2022-09-06T14:54:31.423Z"
   },
   {
    "duration": 7,
    "start_time": "2022-09-06T14:54:53.304Z"
   },
   {
    "duration": 108,
    "start_time": "2022-09-06T14:55:05.359Z"
   },
   {
    "duration": 132,
    "start_time": "2022-09-06T14:55:10.064Z"
   },
   {
    "duration": 8,
    "start_time": "2022-09-06T14:55:11.721Z"
   },
   {
    "duration": 13,
    "start_time": "2022-09-06T14:55:32.008Z"
   },
   {
    "duration": 6,
    "start_time": "2022-09-06T15:05:46.824Z"
   },
   {
    "duration": 6,
    "start_time": "2022-09-06T15:06:47.445Z"
   },
   {
    "duration": 7,
    "start_time": "2022-09-06T15:07:34.237Z"
   },
   {
    "duration": 17,
    "start_time": "2022-09-06T15:08:09.307Z"
   },
   {
    "duration": 11,
    "start_time": "2022-09-06T15:17:16.825Z"
   },
   {
    "duration": 3,
    "start_time": "2022-09-06T15:18:26.731Z"
   },
   {
    "duration": 46,
    "start_time": "2022-09-06T15:18:27.828Z"
   },
   {
    "duration": 4,
    "start_time": "2022-09-06T15:18:30.220Z"
   },
   {
    "duration": 13,
    "start_time": "2022-09-06T15:18:31.052Z"
   },
   {
    "duration": 18,
    "start_time": "2022-09-06T15:18:33.155Z"
   },
   {
    "duration": 17,
    "start_time": "2022-09-06T15:21:33.780Z"
   },
   {
    "duration": 17,
    "start_time": "2022-09-06T15:21:48.736Z"
   },
   {
    "duration": 17,
    "start_time": "2022-09-06T15:24:12.525Z"
   },
   {
    "duration": 18,
    "start_time": "2022-09-06T15:24:34.995Z"
   },
   {
    "duration": 3,
    "start_time": "2022-09-06T15:24:44.914Z"
   },
   {
    "duration": 16,
    "start_time": "2022-09-06T15:24:47.236Z"
   },
   {
    "duration": 13,
    "start_time": "2022-09-06T15:24:50.511Z"
   },
   {
    "duration": 15,
    "start_time": "2022-09-06T15:24:53.712Z"
   },
   {
    "duration": 3,
    "start_time": "2022-09-06T15:25:06.740Z"
   },
   {
    "duration": 21,
    "start_time": "2022-09-06T15:25:09.092Z"
   },
   {
    "duration": 16,
    "start_time": "2022-09-06T15:25:37.653Z"
   },
   {
    "duration": 31,
    "start_time": "2022-09-06T15:25:48.093Z"
   },
   {
    "duration": 32,
    "start_time": "2022-09-06T15:26:01.205Z"
   },
   {
    "duration": 80,
    "start_time": "2022-09-06T15:30:29.867Z"
   },
   {
    "duration": 31,
    "start_time": "2022-09-06T15:30:34.721Z"
   },
   {
    "duration": 33,
    "start_time": "2022-09-06T15:30:37.659Z"
   },
   {
    "duration": 38,
    "start_time": "2022-09-06T15:30:44.593Z"
   },
   {
    "duration": 5,
    "start_time": "2022-09-06T15:34:00.359Z"
   },
   {
    "duration": 6,
    "start_time": "2022-09-06T15:34:37.208Z"
   },
   {
    "duration": 31,
    "start_time": "2022-09-06T15:39:13.541Z"
   },
   {
    "duration": 3,
    "start_time": "2022-09-06T15:39:28.333Z"
   },
   {
    "duration": 41,
    "start_time": "2022-09-06T15:39:30.992Z"
   },
   {
    "duration": 21,
    "start_time": "2022-09-06T15:39:34.150Z"
   },
   {
    "duration": 315,
    "start_time": "2022-09-06T15:39:39.968Z"
   },
   {
    "duration": 288,
    "start_time": "2022-09-06T15:40:37.623Z"
   },
   {
    "duration": 564,
    "start_time": "2022-09-06T15:40:44.721Z"
   },
   {
    "duration": 12,
    "start_time": "2022-09-06T15:41:40.090Z"
   },
   {
    "duration": 10,
    "start_time": "2022-09-06T15:41:44.721Z"
   },
   {
    "duration": 5,
    "start_time": "2022-09-06T15:41:58.449Z"
   },
   {
    "duration": 10,
    "start_time": "2022-09-06T15:42:40.201Z"
   },
   {
    "duration": 607,
    "start_time": "2022-09-06T15:42:55.938Z"
   },
   {
    "duration": 9,
    "start_time": "2022-09-06T15:42:58.163Z"
   },
   {
    "duration": 32,
    "start_time": "2022-09-06T15:43:06.435Z"
   },
   {
    "duration": 6,
    "start_time": "2022-09-06T15:43:07.826Z"
   },
   {
    "duration": 1251,
    "start_time": "2022-09-06T15:44:15.996Z"
   },
   {
    "duration": 58,
    "start_time": "2022-09-06T15:44:17.249Z"
   },
   {
    "duration": 5,
    "start_time": "2022-09-06T15:44:17.310Z"
   },
   {
    "duration": 16,
    "start_time": "2022-09-06T15:44:17.317Z"
   },
   {
    "duration": 64,
    "start_time": "2022-09-06T15:44:17.335Z"
   },
   {
    "duration": 7,
    "start_time": "2022-09-06T15:44:17.401Z"
   },
   {
    "duration": 644,
    "start_time": "2022-09-06T15:44:17.409Z"
   },
   {
    "duration": 9,
    "start_time": "2022-09-06T15:44:18.055Z"
   },
   {
    "duration": 5,
    "start_time": "2022-09-06T15:47:19.928Z"
   },
   {
    "duration": 3,
    "start_time": "2022-09-06T15:47:26.000Z"
   },
   {
    "duration": 313,
    "start_time": "2022-09-06T15:49:16.841Z"
   },
   {
    "duration": 303,
    "start_time": "2022-09-06T15:51:08.700Z"
   },
   {
    "duration": 25,
    "start_time": "2022-09-06T15:51:54.732Z"
   },
   {
    "duration": 26,
    "start_time": "2022-09-06T15:52:12.836Z"
   },
   {
    "duration": 28,
    "start_time": "2022-09-06T15:52:14.564Z"
   },
   {
    "duration": 29,
    "start_time": "2022-09-06T15:52:18.004Z"
   },
   {
    "duration": 26,
    "start_time": "2022-09-06T15:52:21.022Z"
   },
   {
    "duration": 31,
    "start_time": "2022-09-06T15:52:23.320Z"
   },
   {
    "duration": 1176,
    "start_time": "2022-09-06T15:52:33.860Z"
   },
   {
    "duration": 57,
    "start_time": "2022-09-06T15:52:35.038Z"
   },
   {
    "duration": 5,
    "start_time": "2022-09-06T15:52:35.096Z"
   },
   {
    "duration": 28,
    "start_time": "2022-09-06T15:52:35.103Z"
   },
   {
    "duration": 34,
    "start_time": "2022-09-06T15:52:35.132Z"
   },
   {
    "duration": 29,
    "start_time": "2022-09-06T15:52:35.167Z"
   },
   {
    "duration": 603,
    "start_time": "2022-09-06T15:52:35.198Z"
   },
   {
    "duration": 9,
    "start_time": "2022-09-06T15:52:35.803Z"
   },
   {
    "duration": 331,
    "start_time": "2022-09-06T15:52:35.814Z"
   },
   {
    "duration": 5,
    "start_time": "2022-09-06T15:54:09.091Z"
   },
   {
    "duration": 307,
    "start_time": "2022-09-06T15:54:21.310Z"
   },
   {
    "duration": 7,
    "start_time": "2022-09-06T15:55:01.064Z"
   },
   {
    "duration": 269,
    "start_time": "2022-09-06T15:57:56.138Z"
   },
   {
    "duration": 10,
    "start_time": "2022-09-06T15:58:00.737Z"
   },
   {
    "duration": 601,
    "start_time": "2022-09-06T15:58:09.796Z"
   },
   {
    "duration": 9,
    "start_time": "2022-09-06T15:58:11.735Z"
   },
   {
    "duration": 5,
    "start_time": "2022-09-06T15:59:12.140Z"
   },
   {
    "duration": 10,
    "start_time": "2022-09-06T15:59:24.489Z"
   },
   {
    "duration": 6,
    "start_time": "2022-09-06T15:59:36.028Z"
   },
   {
    "duration": 1175,
    "start_time": "2022-09-06T16:19:31.036Z"
   },
   {
    "duration": 57,
    "start_time": "2022-09-06T16:19:32.212Z"
   },
   {
    "duration": 5,
    "start_time": "2022-09-06T16:19:32.271Z"
   },
   {
    "duration": 20,
    "start_time": "2022-09-06T16:19:32.279Z"
   },
   {
    "duration": 33,
    "start_time": "2022-09-06T16:19:32.301Z"
   },
   {
    "duration": 589,
    "start_time": "2022-09-06T16:19:32.336Z"
   },
   {
    "duration": 305,
    "start_time": "2022-09-06T16:19:32.927Z"
   },
   {
    "duration": 7,
    "start_time": "2022-09-06T16:19:33.234Z"
   },
   {
    "duration": 12,
    "start_time": "2022-09-06T16:19:33.243Z"
   },
   {
    "duration": 6,
    "start_time": "2022-09-06T16:19:33.258Z"
   },
   {
    "duration": 114,
    "start_time": "2022-09-06T16:22:29.878Z"
   },
   {
    "duration": 32,
    "start_time": "2022-09-06T16:22:33.495Z"
   },
   {
    "duration": 21,
    "start_time": "2022-09-06T16:23:03.503Z"
   },
   {
    "duration": 6,
    "start_time": "2022-09-06T16:23:30.801Z"
   },
   {
    "duration": 4,
    "start_time": "2022-09-06T16:24:00.065Z"
   },
   {
    "duration": 5,
    "start_time": "2022-09-06T16:24:07.362Z"
   },
   {
    "duration": 5,
    "start_time": "2022-09-06T16:25:05.363Z"
   },
   {
    "duration": 5,
    "start_time": "2022-09-06T16:25:26.899Z"
   },
   {
    "duration": 4,
    "start_time": "2022-09-06T16:25:33.277Z"
   },
   {
    "duration": 5,
    "start_time": "2022-09-06T16:25:41.289Z"
   },
   {
    "duration": 3,
    "start_time": "2022-09-06T16:27:54.327Z"
   },
   {
    "duration": 292,
    "start_time": "2022-09-06T16:49:29.937Z"
   },
   {
    "duration": 602,
    "start_time": "2022-09-06T16:50:09.898Z"
   },
   {
    "duration": 7,
    "start_time": "2022-09-06T16:50:26.119Z"
   },
   {
    "duration": 9,
    "start_time": "2022-09-06T16:50:27.018Z"
   },
   {
    "duration": 7,
    "start_time": "2022-09-06T16:50:27.649Z"
   },
   {
    "duration": 1404,
    "start_time": "2022-09-06T17:36:13.181Z"
   },
   {
    "duration": 49,
    "start_time": "2022-09-06T17:36:14.587Z"
   },
   {
    "duration": 3,
    "start_time": "2022-09-06T17:36:14.639Z"
   },
   {
    "duration": 28,
    "start_time": "2022-09-06T17:36:14.643Z"
   },
   {
    "duration": 30,
    "start_time": "2022-09-06T17:36:14.672Z"
   },
   {
    "duration": 533,
    "start_time": "2022-09-06T17:36:14.703Z"
   },
   {
    "duration": 218,
    "start_time": "2022-09-06T17:36:15.238Z"
   },
   {
    "duration": 5,
    "start_time": "2022-09-06T17:36:15.458Z"
   },
   {
    "duration": 13,
    "start_time": "2022-09-06T17:36:15.465Z"
   },
   {
    "duration": 5,
    "start_time": "2022-09-06T17:36:15.480Z"
   },
   {
    "duration": 55,
    "start_time": "2022-09-13T13:52:56.098Z"
   },
   {
    "duration": 6,
    "start_time": "2022-09-13T13:53:04.560Z"
   },
   {
    "duration": 1106,
    "start_time": "2022-09-13T13:53:08.401Z"
   },
   {
    "duration": 128,
    "start_time": "2022-09-13T13:53:10.665Z"
   },
   {
    "duration": 77,
    "start_time": "2022-09-13T13:53:12.343Z"
   },
   {
    "duration": 6,
    "start_time": "2022-09-13T13:53:22.750Z"
   },
   {
    "duration": 5,
    "start_time": "2022-09-13T13:53:35.073Z"
   },
   {
    "duration": 4,
    "start_time": "2022-09-13T14:10:10.678Z"
   },
   {
    "duration": 16,
    "start_time": "2022-09-13T14:10:12.438Z"
   },
   {
    "duration": 1173,
    "start_time": "2022-09-13T14:11:00.929Z"
   },
   {
    "duration": 13,
    "start_time": "2022-09-13T14:11:18.584Z"
   },
   {
    "duration": 724,
    "start_time": "2022-09-13T14:11:38.329Z"
   },
   {
    "duration": 4,
    "start_time": "2022-09-13T14:11:51.041Z"
   },
   {
    "duration": 5,
    "start_time": "2022-09-13T14:12:00.229Z"
   },
   {
    "duration": 6,
    "start_time": "2022-09-13T14:12:11.793Z"
   },
   {
    "duration": 10,
    "start_time": "2022-09-13T14:12:25.778Z"
   },
   {
    "duration": 12,
    "start_time": "2022-09-13T14:15:36.286Z"
   },
   {
    "duration": 57,
    "start_time": "2022-09-13T14:15:56.695Z"
   },
   {
    "duration": 13,
    "start_time": "2022-09-13T14:16:04.535Z"
   },
   {
    "duration": 5,
    "start_time": "2022-09-13T14:16:07.766Z"
   },
   {
    "duration": 12,
    "start_time": "2022-09-13T14:16:10.038Z"
   },
   {
    "duration": 29,
    "start_time": "2022-09-13T14:19:10.944Z"
   },
   {
    "duration": 35,
    "start_time": "2022-09-13T14:27:03.467Z"
   },
   {
    "duration": 4,
    "start_time": "2022-09-13T14:27:12.860Z"
   },
   {
    "duration": 9,
    "start_time": "2022-09-13T14:27:40.109Z"
   },
   {
    "duration": 453,
    "start_time": "2022-09-13T14:28:36.791Z"
   },
   {
    "duration": 117,
    "start_time": "2022-09-13T14:28:51.943Z"
   },
   {
    "duration": 120,
    "start_time": "2022-09-13T14:29:16.983Z"
   },
   {
    "duration": 135,
    "start_time": "2022-09-13T14:29:48.904Z"
   },
   {
    "duration": 136,
    "start_time": "2022-09-13T14:29:53.207Z"
   },
   {
    "duration": 136,
    "start_time": "2022-09-13T14:30:03.768Z"
   },
   {
    "duration": 211,
    "start_time": "2022-09-13T14:30:21.097Z"
   },
   {
    "duration": 157,
    "start_time": "2022-09-13T14:30:36.657Z"
   },
   {
    "duration": 156,
    "start_time": "2022-09-13T14:30:48.485Z"
   },
   {
    "duration": 144,
    "start_time": "2022-09-13T14:32:08.235Z"
   },
   {
    "duration": 153,
    "start_time": "2022-09-13T14:32:13.754Z"
   },
   {
    "duration": 123,
    "start_time": "2022-09-13T14:33:49.205Z"
   },
   {
    "duration": 3,
    "start_time": "2022-09-13T14:35:30.303Z"
   },
   {
    "duration": 17,
    "start_time": "2022-09-13T14:36:49.107Z"
   },
   {
    "duration": 3,
    "start_time": "2022-09-13T14:36:54.913Z"
   },
   {
    "duration": 1670,
    "start_time": "2022-09-13T14:37:23.673Z"
   },
   {
    "duration": 1461,
    "start_time": "2022-09-13T14:37:45.848Z"
   },
   {
    "duration": 1496,
    "start_time": "2022-09-13T14:37:52.954Z"
   },
   {
    "duration": 1645,
    "start_time": "2022-09-13T14:38:51.643Z"
   },
   {
    "duration": 766,
    "start_time": "2022-09-13T14:39:09.355Z"
   },
   {
    "duration": 890,
    "start_time": "2022-09-13T14:39:11.164Z"
   },
   {
    "duration": 806,
    "start_time": "2022-09-13T14:39:22.700Z"
   },
   {
    "duration": 848,
    "start_time": "2022-09-13T14:39:31.493Z"
   },
   {
    "duration": 903,
    "start_time": "2022-09-13T14:40:13.389Z"
   },
   {
    "duration": 797,
    "start_time": "2022-09-13T14:40:19.293Z"
   },
   {
    "duration": 50,
    "start_time": "2022-09-15T13:32:04.557Z"
   },
   {
    "duration": 1501,
    "start_time": "2022-09-15T13:32:09.171Z"
   },
   {
    "duration": 134,
    "start_time": "2022-09-15T13:32:10.674Z"
   },
   {
    "duration": 4,
    "start_time": "2022-09-15T13:32:10.810Z"
   },
   {
    "duration": 7,
    "start_time": "2022-09-15T13:32:10.816Z"
   },
   {
    "duration": 19,
    "start_time": "2022-09-15T13:32:10.825Z"
   },
   {
    "duration": 8,
    "start_time": "2022-09-15T13:32:10.845Z"
   },
   {
    "duration": 38,
    "start_time": "2022-09-15T13:32:10.855Z"
   },
   {
    "duration": 158,
    "start_time": "2022-09-15T13:32:10.894Z"
   },
   {
    "duration": 887,
    "start_time": "2022-09-15T13:32:11.054Z"
   },
   {
    "duration": 1390,
    "start_time": "2022-09-15T13:32:11.946Z"
   },
   {
    "duration": 469,
    "start_time": "2022-09-15T13:32:13.337Z"
   },
   {
    "duration": 6,
    "start_time": "2022-09-15T13:32:13.808Z"
   },
   {
    "duration": 30,
    "start_time": "2022-09-15T13:32:13.815Z"
   },
   {
    "duration": 15,
    "start_time": "2022-09-15T13:32:13.847Z"
   },
   {
    "duration": 1459,
    "start_time": "2022-09-15T13:32:48.989Z"
   },
   {
    "duration": 3,
    "start_time": "2022-09-15T13:33:47.881Z"
   },
   {
    "duration": 1647,
    "start_time": "2022-09-15T13:35:44.127Z"
   },
   {
    "duration": 135,
    "start_time": "2022-09-15T13:36:10.123Z"
   },
   {
    "duration": 138,
    "start_time": "2022-09-15T13:36:21.898Z"
   },
   {
    "duration": 161,
    "start_time": "2022-09-15T13:36:31.268Z"
   },
   {
    "duration": 322,
    "start_time": "2022-09-15T13:37:39.861Z"
   },
   {
    "duration": 154,
    "start_time": "2022-09-15T13:37:43.236Z"
   },
   {
    "duration": 171,
    "start_time": "2022-09-15T13:37:53.421Z"
   },
   {
    "duration": 176,
    "start_time": "2022-09-15T13:38:28.436Z"
   },
   {
    "duration": 417,
    "start_time": "2022-09-15T14:16:22.168Z"
   },
   {
    "duration": 1560,
    "start_time": "2022-09-15T14:16:32.138Z"
   },
   {
    "duration": 36,
    "start_time": "2022-09-15T14:16:38.321Z"
   },
   {
    "duration": 8,
    "start_time": "2022-09-15T14:18:36.188Z"
   },
   {
    "duration": 3,
    "start_time": "2022-09-15T14:21:01.784Z"
   },
   {
    "duration": 13,
    "start_time": "2022-09-15T14:21:07.535Z"
   },
   {
    "duration": 4,
    "start_time": "2022-09-15T14:21:33.894Z"
   },
   {
    "duration": 43,
    "start_time": "2022-09-15T14:23:28.762Z"
   },
   {
    "duration": 56,
    "start_time": "2022-09-15T14:23:56.338Z"
   },
   {
    "duration": 48,
    "start_time": "2022-09-15T14:24:19.140Z"
   },
   {
    "duration": 58,
    "start_time": "2022-09-15T14:25:38.077Z"
   },
   {
    "duration": 428,
    "start_time": "2022-09-15T14:30:50.668Z"
   },
   {
    "duration": 10,
    "start_time": "2022-09-15T14:37:57.673Z"
   },
   {
    "duration": 3,
    "start_time": "2022-09-15T14:38:02.627Z"
   },
   {
    "duration": 3,
    "start_time": "2022-09-15T14:42:01.392Z"
   },
   {
    "duration": 5,
    "start_time": "2022-09-15T14:42:51.105Z"
   },
   {
    "duration": 6,
    "start_time": "2022-09-15T14:43:17.809Z"
   },
   {
    "duration": 5,
    "start_time": "2022-09-15T14:43:45.474Z"
   },
   {
    "duration": 4,
    "start_time": "2022-09-15T14:45:11.244Z"
   },
   {
    "duration": 54,
    "start_time": "2022-09-15T14:45:38.908Z"
   },
   {
    "duration": 5,
    "start_time": "2022-09-15T14:46:48.366Z"
   },
   {
    "duration": 1615,
    "start_time": "2022-09-15T15:13:40.615Z"
   },
   {
    "duration": 46,
    "start_time": "2022-09-15T15:13:42.232Z"
   },
   {
    "duration": 4,
    "start_time": "2022-09-15T15:13:42.279Z"
   },
   {
    "duration": 6,
    "start_time": "2022-09-15T15:13:42.285Z"
   },
   {
    "duration": 16,
    "start_time": "2022-09-15T15:13:42.292Z"
   },
   {
    "duration": 12,
    "start_time": "2022-09-15T15:13:42.310Z"
   },
   {
    "duration": 38,
    "start_time": "2022-09-15T15:13:42.323Z"
   },
   {
    "duration": 159,
    "start_time": "2022-09-15T15:13:42.364Z"
   },
   {
    "duration": 814,
    "start_time": "2022-09-15T15:13:42.524Z"
   },
   {
    "duration": 1538,
    "start_time": "2022-09-15T15:13:43.340Z"
   },
   {
    "duration": 148,
    "start_time": "2022-09-15T15:13:44.879Z"
   },
   {
    "duration": 422,
    "start_time": "2022-09-15T15:13:45.028Z"
   },
   {
    "duration": 4,
    "start_time": "2022-09-15T15:13:45.452Z"
   },
   {
    "duration": 10,
    "start_time": "2022-09-15T15:13:45.458Z"
   },
   {
    "duration": 4,
    "start_time": "2022-09-15T15:13:45.470Z"
   },
   {
    "duration": 7,
    "start_time": "2022-09-15T15:13:45.476Z"
   },
   {
    "duration": 65,
    "start_time": "2022-09-15T15:13:45.485Z"
   },
   {
    "duration": 4,
    "start_time": "2022-09-15T15:13:45.552Z"
   }
  ],
  "kernelspec": {
   "display_name": "Python 3 (ipykernel)",
   "language": "python",
   "name": "python3"
  },
  "language_info": {
   "codemirror_mode": {
    "name": "ipython",
    "version": 3
   },
   "file_extension": ".py",
   "mimetype": "text/x-python",
   "name": "python",
   "nbconvert_exporter": "python",
   "pygments_lexer": "ipython3",
   "version": "3.9.5"
  },
  "toc": {
   "base_numbering": 1,
   "nav_menu": {},
   "number_sections": true,
   "sideBar": true,
   "skip_h1_title": true,
   "title_cell": "Table of Contents",
   "title_sidebar": "Contents",
   "toc_cell": false,
   "toc_position": {},
   "toc_section_display": true,
   "toc_window_display": false
  }
 },
 "nbformat": 4,
 "nbformat_minor": 2
}
